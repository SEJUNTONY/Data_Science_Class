{
  "nbformat": 4,
  "nbformat_minor": 0,
  "metadata": {
    "colab": {
      "name": "무역데이터_베트남.ipynb",
      "provenance": [],
      "collapsed_sections": [],
      "include_colab_link": true
    },
    "kernelspec": {
      "name": "python3",
      "display_name": "Python 3"
    },
    "language_info": {
      "name": "python"
    }
  },
  "cells": [
    {
      "cell_type": "markdown",
      "metadata": {
        "id": "view-in-github",
        "colab_type": "text"
      },
      "source": [
        "<a href=\"https://colab.research.google.com/github/SEJUNTONY/Data_Science_Class/blob/EunJi/%EC%A1%B0%EB%8B%AC_%EC%9D%80%EC%A7%80.ipynb\" target=\"_parent\"><img src=\"https://colab.research.google.com/assets/colab-badge.svg\" alt=\"Open In Colab\"/></a>"
      ]
    },
    {
      "cell_type": "code",
      "execution_count": 1,
      "metadata": {
        "id": "2idGEdN4Hsi_",
        "colab": {
          "base_uri": "https://localhost:8080/"
        },
        "outputId": "02046fc1-8c30-4c74-83d6-24ad88fbbf29"
      },
      "outputs": [
        {
          "output_type": "stream",
          "name": "stderr",
          "text": [
            "/usr/local/lib/python3.7/dist-packages/statsmodels/tools/_testing.py:19: FutureWarning: pandas.util.testing is deprecated. Use the functions in the public API at pandas.testing instead.\n",
            "  import pandas.util.testing as tm\n"
          ]
        }
      ],
      "source": [
        "# 라이브러리 로드\n",
        "import pandas as pd\n",
        "import pandas_datareader.data as pandas_datareader\n",
        "\n",
        "from sklearn.model_selection import train_test_split\n",
        "from sklearn.metrics import r2_score\n",
        "\n",
        "import numpy as np\n",
        "import matplotlib.pyplot as plt\n",
        "import matplotlib\n",
        "plt.style.use('seaborn-whitegrid')\n",
        "\n",
        "import statsmodels.api as sm\n",
        "from statsmodels.graphics.tsaplots import plot_acf, plot_pacf\n",
        "from statsmodels.tsa.arima_model import ARIMA\n",
        "from statsmodels.tsa.statespace.sarimax import SARIMAX\n",
        "\n",
        "import seaborn as sns\n",
        "import matplotlib.ticker as ticker\n",
        "\n",
        "import os\n",
        "\n",
        "plt.style.use('seaborn-whitegrid')\n",
        "#sns.set_style(\"white\")\n",
        "%matplotlib inline\n",
        "\n",
        "import itertools"
      ]
    },
    {
      "cell_type": "code",
      "source": [
        "# 함수\n",
        "\n",
        "def outliers_iqr(data) :\n",
        "    q1, q3 = np.percentile(data, [25,75])\n",
        "    iqr = q3 - q1\n",
        "    lower_bound = 0\n",
        "    upper_bound = 3000\n",
        "\n",
        "    return np.where((data > upper_bound)|(data<lower_bound))\n",
        "\n",
        "def get_outlier(df=None, column=None, weight=1.5):\n",
        "    # target 값과 상관관계가 높은 열을 우선적으로 진행\n",
        "    quantile_25 = np.percentile(df[column].values, 25)\n",
        "    quantile_75 = np.percentile(df[column].values, 75)\n",
        "\n",
        "    IQR = quantile_75 - quantile_25\n",
        "    IQR_weight = IQR*weight\n",
        "\n",
        "    lowest = quantile_25 - IQR_weight\n",
        "    highest = quantile_75 + IQR_weight\n",
        "\n",
        "    outlier_idx = df[column][ (df[column] < lowest) | (df[column] > highest) ].index\n",
        "    return outlier_idx"
      ],
      "metadata": {
        "id": "56qpi6jiHzxr"
      },
      "execution_count": 2,
      "outputs": []
    },
    {
      "cell_type": "code",
      "source": [
        "# 데이터 로드\n",
        "\n",
        "from google.colab import drive\n",
        "drive.mount('/content/drive')"
      ],
      "metadata": {
        "colab": {
          "base_uri": "https://localhost:8080/"
        },
        "id": "R3X_uYFIIHr9",
        "outputId": "314c782a-8ac2-4af0-8bbe-9c46b6f0f662"
      },
      "execution_count": 3,
      "outputs": [
        {
          "output_type": "stream",
          "name": "stdout",
          "text": [
            "Mounted at /content/drive\n"
          ]
        }
      ]
    },
    {
      "cell_type": "code",
      "source": [
        "# 무역 데이터 확인\n",
        "\n",
        "filename = '/content/drive/MyDrive/공공기관별+시스템유형별+실적(00116)_20220128164342.csv'\n",
        "vietnam = pd.read_csv(filename)"
      ],
      "metadata": {
        "id": "8KrWdKAiIRzM"
      },
      "execution_count": 5,
      "outputs": []
    },
    {
      "cell_type": "markdown",
      "source": [
        "## 1. 기본정보 확인"
      ],
      "metadata": {
        "id": "jZfbgnD_IrPS"
      }
    },
    {
      "cell_type": "markdown",
      "source": [
        "EXPOR_NTN_NM, HS_CD, ARRVL_YRMNT, ARRVL_PRT,NM은 **범주형 변수**\n",
        "\n",
        "VTNM_TRAD_INVCE_AMT는 **수치형 변수**로 파악된다.\n",
        "\n",
        "\n",
        "컬럼정의서에 따르면 각 컬럼의 의미는 다음과 같다.\n",
        "\n",
        "1. EXPOR_NTM_NM : 수출국가명\n",
        "2. HS_CD : HS코드\n",
        "3. ARRVL_YRMNT\n",
        "4. VTNM_TRAD_INVCE_AMT : 베트남무역송장금액\n",
        "5. ARRVL_PRT_NM : 도착항구명"
      ],
      "metadata": {
        "id": "6enpMw2vI764"
      }
    },
    {
      "cell_type": "markdown",
      "source": [
        "무역데이터에 대한 상향식 접근 방식(Bottom Up Approach)을 고민해볼 것이다.\n",
        "\n",
        "* 상향식 접근 방식(Bottom Up Approach) : 문제의 정의 자체가 어려운 경우, 데이터를 기반으로 문제의 재정의 및 해결방안을 탐색하고, 이를 지속적으로 개선하는 방식"
      ],
      "metadata": {
        "id": "wvSmIvC2LxEp"
      }
    },
    {
      "cell_type": "markdown",
      "source": [
        "데이터 분석을 진행하고 싶은 사항은 다음과 같다.\n",
        "\n",
        "1. HSCODE별 평균 가격 중 높은 순서로 분석\n",
        "\n",
        "2. 항구별 HSCODE 빈도수가 높은 것\n",
        "\n",
        "3. 전체 항구의 거래량 파악 : ARRVL_YRMNT 빈도수 파악"
      ],
      "metadata": {
        "id": "IX4eWhsyMAvY"
      }
    },
    {
      "cell_type": "code",
      "source": [
        "vietnam.shape"
      ],
      "metadata": {
        "id": "FJio7FqMIn34",
        "colab": {
          "base_uri": "https://localhost:8080/"
        },
        "outputId": "9b1021e0-93d9-43b3-89f8-985459cce2bf"
      },
      "execution_count": 6,
      "outputs": [
        {
          "output_type": "execute_result",
          "data": {
            "text/plain": [
              "(30, 13)"
            ]
          },
          "metadata": {},
          "execution_count": 6
        }
      ]
    },
    {
      "cell_type": "markdown",
      "source": [
        "5개의 Column이 있다."
      ],
      "metadata": {
        "id": "r-IPYF1VIv3W"
      }
    },
    {
      "cell_type": "code",
      "source": [
        "vietnam.info()"
      ],
      "metadata": {
        "id": "9N7E2w20Iyec"
      },
      "execution_count": null,
      "outputs": []
    },
    {
      "cell_type": "code",
      "source": [
        "# VTNM_TRAD_INVCE_AMT에 대한 기술통계 Summary\n",
        "vietnam['VTNM_TRAD_INVCE_AMT'].describe()"
      ],
      "metadata": {
        "id": "SQ4LdGQcKB9S"
      },
      "execution_count": null,
      "outputs": []
    },
    {
      "cell_type": "markdown",
      "source": [
        "기술통계값을 확인해보니, 최소 송장금액이 0인 값이 존재하는 것을 보아, 모델에 오류를 불러일으킬만한 데이터가 존재함을 확인할 수 있다."
      ],
      "metadata": {
        "id": "weMrNoLqKTUe"
      }
    },
    {
      "cell_type": "code",
      "source": [
        "# 송장금액이 0인 값을 제거\n",
        "A = vietnam[vietnam['VTNM_TRAD_INVCE_AMT']==0].index\n",
        "vietnam = vietnam.drop(A)"
      ],
      "metadata": {
        "id": "j6n63ElGw1Vx"
      },
      "execution_count": null,
      "outputs": []
    },
    {
      "cell_type": "code",
      "source": [
        "# 0값 제거 후 VTNM_TRAD_INVCE_AMT에 대한 기술통계 Summary\n",
        "vietnam['VTNM_TRAD_INVCE_AMT'].describe()"
      ],
      "metadata": {
        "id": "ardVPAqmNEpF"
      },
      "execution_count": null,
      "outputs": []
    },
    {
      "cell_type": "markdown",
      "source": [
        "제대로 시행되었음을 확인하였다. 0이 제거된 상태로 히스토그램을 그려보았다.\n"
      ],
      "metadata": {
        "id": "Ll95yeIEKjb5"
      }
    },
    {
      "cell_type": "code",
      "source": [
        "# 히스토그램(histogram)\n",
        "sns.distplot(vietnam['VTNM_TRAD_INVCE_AMT'])"
      ],
      "metadata": {
        "id": "qhufXpVTN1Fo"
      },
      "execution_count": null,
      "outputs": []
    },
    {
      "cell_type": "markdown",
      "source": [
        "완전히 치우침을 확인할 수 있다. 대체적으로 몰려있는 쪽에 비해 특정 값들이 매우 높아 이런 히스토그램이 그려지는 듯 하다."
      ],
      "metadata": {
        "id": "13pqaO71ORHZ"
      }
    },
    {
      "cell_type": "code",
      "source": [
        "# 왜도 및 첨도\n",
        "print(\"Skewness : %f\" % vietnam['VTNM_TRAD_INVCE_AMT'].skew())\n",
        "print(\"Kurtosis : %f\" % vietnam['VTNM_TRAD_INVCE_AMT'].kurt())"
      ],
      "metadata": {
        "id": "EUkX5KolOXKZ"
      },
      "execution_count": null,
      "outputs": []
    },
    {
      "cell_type": "markdown",
      "source": [
        "왜도 : 자료가 심하게 오른쪽으로 치우쳐있음\n",
        "첨도 : 심각하게 뾰족한 정규분포의 형태를 보인다."
      ],
      "metadata": {
        "id": "yIt2PHYOOm48"
      }
    },
    {
      "cell_type": "markdown",
      "source": [
        "### (1) HS 코드 분석"
      ],
      "metadata": {
        "id": "0v2MSjTUPzkI"
      }
    },
    {
      "cell_type": "markdown",
      "source": [
        "평균 가격을 파악하기 이전, HS코드를 분석해보았다."
      ],
      "metadata": {
        "id": "CYRaRuuBP4AJ"
      }
    },
    {
      "cell_type": "code",
      "source": [
        "vietnam['HS_CD'].unique()"
      ],
      "metadata": {
        "id": "PC2u6OUdPPJU"
      },
      "execution_count": null,
      "outputs": []
    },
    {
      "cell_type": "code",
      "source": [
        "vietnam['HS_CD'].nunique()"
      ],
      "metadata": {
        "id": "3BIXx09pQGMK"
      },
      "execution_count": null,
      "outputs": []
    },
    {
      "cell_type": "markdown",
      "source": [
        "HS코드는 총 2089가지가 있는 것으로 파악된다. 이 값들을 모두 분석할 수는 없기에 상위 값들만을 통해 분석을 진행한다."
      ],
      "metadata": {
        "id": "_0-ScOyAQK0l"
      }
    },
    {
      "cell_type": "code",
      "source": [
        "rname = vietnam['HS_CD']\n",
        "hscode_total = pd.DataFrame(vietnam['HS_CD'].value_counts(), index=rname, )\n",
        "hscode_total"
      ],
      "metadata": {
        "id": "waNg5A7lQUi2"
      },
      "execution_count": null,
      "outputs": []
    },
    {
      "cell_type": "markdown",
      "source": [
        "상위값을 차지하고 있는 품목은 다음과 같다.\n",
        "1. 39269099\n",
        "2. 73269099\n",
        "3. 85332100\n",
        "\n",
        "거래되는 상위 3개 품목을 확인해본 결과, 플라스틱 소재 등 산업재가 많았다.\n",
        "\n",
        "https://news.kotra.or.kr/user/globalBbs/kotranews/784/globalBbsDataView.do?setIdx=403&dataIdx=190241"
      ],
      "metadata": {
        "id": "K9U6vi48RLQD"
      }
    },
    {
      "cell_type": "markdown",
      "source": [
        "상위 코드 3개에 대한 분석을 진행해보았다.\n",
        "\n",
        "#### 분석 1 : HS CODE 39269099"
      ],
      "metadata": {
        "id": "IPxRxfnJBUre"
      }
    },
    {
      "cell_type": "code",
      "source": [
        "viet_hscd1 = vietnam[(vietnam['HS_CD']==39269099)]\n",
        "viet_hscd1"
      ],
      "metadata": {
        "id": "8-oWkqkaBcM1"
      },
      "execution_count": null,
      "outputs": []
    },
    {
      "cell_type": "markdown",
      "source": [
        "날짜 그룹별로 평균을 구해보았다."
      ],
      "metadata": {
        "id": "ETIphc0mB_Bm"
      }
    },
    {
      "cell_type": "code",
      "source": [
        "viet_hscd1_lineplot = viet_hscd1.groupby(['ARRVL_YRMNT'], as_index=False).mean()"
      ],
      "metadata": {
        "id": "Cj6Ob4ghCBCh"
      },
      "execution_count": null,
      "outputs": []
    },
    {
      "cell_type": "code",
      "source": [
        "amt = \"VTNM_TRAD_INVCE_AMT\"\n",
        "arrvl = \"ARRVL_YRMNT\"\n",
        "f, ax = plt.subplots(figsize=(24,12))\n",
        "fig = sns.lineplot(x=arrvl, y=amt, data=viet_hscd1_lineplot)\n",
        "fig.axis(ymin=0, ymax = 40000);\n",
        "plt.xticks(rotation=90);"
      ],
      "metadata": {
        "id": "PyhhBkyxCbb4"
      },
      "execution_count": null,
      "outputs": []
    },
    {
      "cell_type": "markdown",
      "source": [
        "미친 값들이 존재한다.\n",
        "미친 송장비용을 보여주는 날짜를 그래프를 통해 확인해본 결과, 2019년 5월 10일, 2019년 5월 11일, 2019년 6월 13일, 2019년 8월 3일 정도인 것 같다.\n",
        "이 날짜의 데이터값을 확인해보았다."
      ],
      "metadata": {
        "id": "P3to4dWPEcMa"
      }
    },
    {
      "cell_type": "markdown",
      "source": [
        "해당 날짜에 대한 데이터행을 삭제하고 lineplot을 다시 그려보았다."
      ],
      "metadata": {
        "id": "Ed8cvPBUGuvX"
      }
    },
    {
      "cell_type": "code",
      "source": [
        "# 행 제거 위한 행 Index 파악\n",
        "\n",
        "index1 = viet_hscd1_lineplot[viet_hscd1_lineplot['ARRVL_YRMNT']=='2019-05-10'].index\n",
        "index2 = viet_hscd1_lineplot[viet_hscd1_lineplot['ARRVL_YRMNT']=='2019-06-13'].index\n",
        "index3 = viet_hscd1_lineplot[viet_hscd1_lineplot['ARRVL_YRMNT']=='2019-08-03'].index\n",
        "index4 = viet_hscd1_lineplot[viet_hscd1_lineplot['ARRVL_YRMNT']=='2019-05-11'].index\n",
        "viet_hscd1_lineplot = viet_hscd1_lineplot.drop(index1)\n",
        "viet_hscd1_lineplot = viet_hscd1_lineplot.drop(index2)\n",
        "viet_hscd1_lineplot = viet_hscd1_lineplot.drop(index3)\n",
        "viet_hscd1_lineplot = viet_hscd1_lineplot.drop(index4)"
      ],
      "metadata": {
        "id": "rscPu8z_y-Zq"
      },
      "execution_count": null,
      "outputs": []
    },
    {
      "cell_type": "code",
      "source": [
        "amt = \"VTNM_TRAD_INVCE_AMT\"\n",
        "arrvl = \"ARRVL_YRMNT\"\n",
        "f, ax = plt.subplots(figsize=(24,12))\n",
        "fig = sns.lineplot(x=arrvl, y=amt, data=viet_hscd1_lineplot)\n",
        "fig.axis(ymin=0, ymax = 40000);\n",
        "plt.xticks(rotation=90);"
      ],
      "metadata": {
        "id": "67stK415zbas"
      },
      "execution_count": null,
      "outputs": []
    },
    {
      "cell_type": "markdown",
      "source": [
        "행 제거 전처리 후 데이터를 통해 시계열 분석을 진행해보았다."
      ],
      "metadata": {
        "id": "OhXbynBtz8ON"
      }
    },
    {
      "cell_type": "code",
      "source": [
        "viet_hscd1_lineplot2 = viet_hscd1_lineplot.drop(['HS_CD'], axis=1)"
      ],
      "metadata": {
        "id": "yI5nfk8h0Eae"
      },
      "execution_count": null,
      "outputs": []
    },
    {
      "cell_type": "code",
      "source": [
        "viet_hscd1_lineplot2['ARRVL_YRMNT'] = pd.to_datetime(viet_hscd1_lineplot2['ARRVL_YRMNT'])\n",
        "viet_hscd1_lineplot2 = viet_hscd1_lineplot2.set_index('ARRVL_YRMNT')\n",
        "viet_hscd1_lineplot2.head(10)"
      ],
      "metadata": {
        "id": "cPllplWl1cKA"
      },
      "execution_count": null,
      "outputs": []
    },
    {
      "cell_type": "code",
      "source": [
        "fig = viet_hscd1_lineplot2.plot()"
      ],
      "metadata": {
        "id": "OXJx_-7O10r-"
      },
      "execution_count": null,
      "outputs": []
    },
    {
      "cell_type": "markdown",
      "source": [
        "2020년 데이터가 없는 것으로 보아, 2020년 이후 데이터는 제거하는게 타당해보였다."
      ],
      "metadata": {
        "id": "AhK7zYCV2Hzz"
      }
    },
    {
      "cell_type": "code",
      "source": [
        "index1 = viet_hscd1_lineplot[viet_hscd1_lineplot['ARRVL_YRMNT']=='2019-05-10'].index\n",
        "index2 = viet_hscd1_lineplot[viet_hscd1_lineplot['ARRVL_YRMNT']=='2019-06-13'].index\n",
        "index3 = viet_hscd1_lineplot[viet_hscd1_lineplot['ARRVL_YRMNT']=='2019-08-03'].index\n",
        "index4 = viet_hscd1_lineplot[viet_hscd1_lineplot['ARRVL_YRMNT']=='2019-05-11'].index\n",
        "index5 = viet_hscd1_lineplot[viet_hscd1_lineplot['ARRVL_YRMNT']=='2021-02-22'].index\n",
        "index6 = viet_hscd1_lineplot[viet_hscd1_lineplot['ARRVL_YRMNT']=='2021-02-23'].index\n",
        "viet_hscd1_lineplot = viet_hscd1_lineplot.drop(index1)\n",
        "viet_hscd1_lineplot = viet_hscd1_lineplot.drop(index2)\n",
        "viet_hscd1_lineplot = viet_hscd1_lineplot.drop(index3)\n",
        "viet_hscd1_lineplot = viet_hscd1_lineplot.drop(index4)\n",
        "viet_hscd1_lineplot = viet_hscd1_lineplot.drop(index5)\n",
        "viet_hscd1_lineplot = viet_hscd1_lineplot.drop(index6)\n",
        "\n",
        "viet_hscd1_lineplot2 = viet_hscd1_lineplot.drop(['HS_CD'], axis=1)\n",
        "viet_hscd1_lineplot2['ARRVL_YRMNT'] = pd.to_datetime(viet_hscd1_lineplot2['ARRVL_YRMNT'])\n",
        "viet_hscd1_lineplot2 = viet_hscd1_lineplot2.set_index('ARRVL_YRMNT')"
      ],
      "metadata": {
        "id": "Su_sNkcA2Lg3"
      },
      "execution_count": null,
      "outputs": []
    },
    {
      "cell_type": "code",
      "source": [
        "fig = viet_hscd1_lineplot2.plot()"
      ],
      "metadata": {
        "id": "2J7883562egi"
      },
      "execution_count": null,
      "outputs": []
    },
    {
      "cell_type": "markdown",
      "source": [
        "데이터 수가 얼마 없지만 일말의 가능성을 염두하고 ARIMA 분석을 진행하였다."
      ],
      "metadata": {
        "id": "CPG4dE1Eqd08"
      }
    },
    {
      "cell_type": "code",
      "source": [
        "data = viet_hscd1_lineplot2\n",
        "data.head(10)"
      ],
      "metadata": {
        "id": "Mj-N73JqqjXg"
      },
      "execution_count": null,
      "outputs": []
    },
    {
      "cell_type": "markdown",
      "source": [
        "계략적인 모델을 구축해보았다."
      ],
      "metadata": {
        "id": "Hi8Y0Eh9seD5"
      }
    },
    {
      "cell_type": "code",
      "source": [
        "train_data, test_data = train_test_split(data, test_size=0.2, shuffle=False)"
      ],
      "metadata": {
        "id": "ZCIF0dx8sfzo"
      },
      "execution_count": null,
      "outputs": []
    },
    {
      "cell_type": "code",
      "source": [
        "# ACF, PACF plot\n",
        "\n",
        "fig, ax = plt.subplots(1,2,figsize=(10,10))\n",
        "fig.suptitle('Raw Data')\n",
        "sm.graphics.tsa.plot_acf(train_data.values.squeeze(), lags=30, ax=ax[0])\n",
        "sm.graphics.tsa.plot_pacf(train_data.values.squeeze(), lags=30, ax = ax[1])"
      ],
      "metadata": {
        "id": "WVn3w_LUsqOn"
      },
      "execution_count": null,
      "outputs": []
    },
    {
      "cell_type": "markdown",
      "source": [
        "파란색 범위 안에 값이 들어가있는 것을 보면, autocorrelation이 있다고 판단할 수 있다.\n",
        "이후 차분을 진행해보았다."
      ],
      "metadata": {
        "id": "gsdOst4dtPMY"
      }
    },
    {
      "cell_type": "code",
      "source": [
        "diff_train_data = train_data.copy()\n",
        "diff_train_data = diff_train_data['VTNM_TRAD_INVCE_AMT'].diff()\n",
        "diff_train_data = diff_train_data.dropna()\n",
        "print('#### Raw Data ####')\n",
        "print(train_data)\n",
        "print('#### Differenced Data ###')\n",
        "print(diff_train_data)"
      ],
      "metadata": {
        "id": "iy-pJtN8tZZW"
      },
      "execution_count": null,
      "outputs": []
    },
    {
      "cell_type": "code",
      "source": [
        "# Differenced Data Plot\n",
        "\n",
        "plt.figure(figsize=(12,8))\n",
        "plt.subplot(211)\n",
        "plt.plot(train_data['VTNM_TRAD_INVCE_AMT'])\n",
        "plt.legend(['Raw Data (Reasonably Stationary)'])\n",
        "plt.subplot(212)\n",
        "plt.plot(diff_train_data, 'orange')\n",
        "plt.legend(['Differenced Data'])\n",
        "plt.show()"
      ],
      "metadata": {
        "id": "6As9HvckuDOk"
      },
      "execution_count": null,
      "outputs": []
    },
    {
      "cell_type": "markdown",
      "source": [
        "2019년 4월과 5월 사이 값이 확 뛰는 구간이 있었기 때문에 differenced 후 그 부분이 완벽하게 보정되는 느낌은 아니다. 실제 차분한 값을 기반으로 autocorrelation을 확인해보았다."
      ],
      "metadata": {
        "id": "qhqMt_sCuvsa"
      }
    },
    {
      "cell_type": "code",
      "source": [
        "# ACF, PACF plot\n",
        "\n",
        "fig, ax = plt.subplots(1,2,figsize=(10,5))\n",
        "fig.suptitle('Differenced Data')\n",
        "sm.graphics.tsa.plot_acf(diff_train_data.values.squeeze(), lags=30, ax=ax[0])\n",
        "sm.graphics.tsa.plot_pacf(diff_train_data.values.squeeze(), lags=30, ax=ax[1])"
      ],
      "metadata": {
        "id": "skCiaChbvmw5"
      },
      "execution_count": null,
      "outputs": []
    },
    {
      "cell_type": "markdown",
      "source": [
        "현재 확인되는 그래프로는 p,d,q를 파악하기 어려워보인다."
      ],
      "metadata": {
        "id": "LWn1GI2LwlXi"
      }
    },
    {
      "cell_type": "code",
      "source": [
        "# Diagnosis Check : ARIMA\n",
        "\n",
        "# Parameter Search\n",
        "\n",
        "print('Examples of Parameter Combinations for Seasonal ARIMA...')\n",
        "p = range(0,3)\n",
        "d = range(1,2)\n",
        "q = range(0,3)\n",
        "pdq = list(itertools.product(p,d,q))\n",
        "\n",
        "aic=[]\n",
        "for i in pdq :\n",
        "    model = ARIMA(train_data.values, order=(i))\n",
        "    model_fit = model.fit()\n",
        "    print(f'ARIMA : {i} >> AIC : {round(model_fit.aic,2)}')\n",
        "    aic.append(round(model_fit.aic,2))"
      ],
      "metadata": {
        "id": "i_OvOSWevdcs"
      },
      "execution_count": null,
      "outputs": []
    },
    {
      "cell_type": "markdown",
      "source": [
        "상위 코드 3개에 대한 분석을 진행해보았다.\n",
        "\n",
        "#### 분석 2 : HS CODE 73269099"
      ],
      "metadata": {
        "id": "9XpqN0SDnYGv"
      }
    },
    {
      "cell_type": "code",
      "source": [
        "viet_hscd2 = vietnam[(vietnam['HS_CD']==73269099)]\n",
        "viet_hscd2"
      ],
      "metadata": {
        "id": "jkLGE4yBneCP"
      },
      "execution_count": null,
      "outputs": []
    },
    {
      "cell_type": "code",
      "source": [
        "viet_hscd1_lineplot2 = viet_hscd2.groupby(['ARRVL_YRMNT'], as_index=False).mean()"
      ],
      "metadata": {
        "id": "l9HWWL6bnkNC"
      },
      "execution_count": null,
      "outputs": []
    },
    {
      "cell_type": "code",
      "source": [
        "amt = \"VTNM_TRAD_INVCE_AMT\"\n",
        "arrvl = \"ARRVL_YRMNT\"\n",
        "f, ax = plt.subplots(figsize=(24,12))\n",
        "fig = sns.lineplot(x=arrvl, y=amt, data=viet_hscd1_lineplot2)\n",
        "fig.axis(ymin=0, ymax = 40000);\n",
        "plt.xticks(rotation=90);"
      ],
      "metadata": {
        "id": "plb_E536nq5p"
      },
      "execution_count": null,
      "outputs": []
    },
    {
      "cell_type": "markdown",
      "source": [
        "--> 월별로 묶어서 평균내봐서 lineplot 그려보기"
      ],
      "metadata": {
        "id": "1dcus9qwsN8B"
      }
    },
    {
      "cell_type": "markdown",
      "source": [
        "--> 남부가 더 물동량이 높음."
      ],
      "metadata": {
        "id": "zXKBK1ECu9kC"
      }
    },
    {
      "cell_type": "markdown",
      "source": [
        "남부 : VNCLI, VNSGN\n",
        "북부 : VNDVU, VAHAN, VNCXP"
      ],
      "metadata": {
        "id": "eiGaNpAby5ph"
      }
    },
    {
      "cell_type": "markdown",
      "source": [
        "## 데이터를 통해 정의한 문제\n",
        "\n",
        "1. 남부 송장비용이 높은 지, 북부가 높은 지\n",
        "2. 남부가 경제도시이기에 거래량이 많음\n",
        "3. HS CODE 분석 : 남부 vs 북부\n",
        "4. 거래량 시계열 데이터 vs 송장비용 시계열 데이터\n"
      ],
      "metadata": {
        "id": "L1TizMR736ts"
      }
    },
    {
      "cell_type": "markdown",
      "source": [
        "### 1. 남부항구의 송장비용이 높은가? 북부항구의 송장비용이 높은가?\n",
        "\n",
        "물동량이 많은 순서로 정렬 후, 남부 항구는 VNCLI, VNSGN로, 북부항구는 VNDVU, VAHAN, VNCXP로 정의하였다."
      ],
      "metadata": {
        "id": "tdbYYYr9zrlY"
      }
    },
    {
      "cell_type": "code",
      "source": [
        "A = (vietnam.ARRVL_PRT_NM == 'VNCLI') | (vietnam.ARRVL_PRT_NM == 'VNSGN')\n",
        "viet_south = vietnam[A]\n",
        "viet_south\n",
        "B = (vietnam.ARRVL_PRT_NM == 'VNDVU') | (vietnam.ARRVL_PRT_NM == 'VNHAN') | (vietnam.ARRVL_PRT_NM == 'VNCXP')\n",
        "viet_north = vietnam[B]\n",
        "viet_north\n",
        "C = (vietnam.ARRVL_PRT_NM == 'VNDVU') | (vietnam.ARRVL_PRT_NM == 'VNCXP')\n",
        "viet_north2 = vietnam[C]\n",
        "viet_north2"
      ],
      "metadata": {
        "id": "0XSMpFAy0aqD"
      },
      "execution_count": null,
      "outputs": []
    },
    {
      "cell_type": "code",
      "source": [
        "viet_south_sum = viet_south.groupby(['ARRVL_PRT_NM'], as_index=False).sum()\n",
        "sns.barplot(data=viet_south_sum, x=\"ARRVL_PRT_NM\", y=\"VTNM_TRAD_INVCE_AMT\")"
      ],
      "metadata": {
        "id": "7cmMqN0C2ClE"
      },
      "execution_count": null,
      "outputs": []
    },
    {
      "cell_type": "code",
      "source": [
        "viet_north_sum = viet_north.groupby(['ARRVL_PRT_NM'], as_index=False).sum()\n",
        "f, ax = plt.subplots(figsize=(24,12))\n",
        "fig = sns.barplot(data=viet_north_sum, x=\"ARRVL_PRT_NM\", y=\"VTNM_TRAD_INVCE_AMT\")\n",
        "fig.axis(ymin=0, ymax = 3.5e+08);"
      ],
      "metadata": {
        "id": "mtRxoNzS4TNu"
      },
      "execution_count": null,
      "outputs": []
    },
    {
      "cell_type": "code",
      "source": [
        "viet_north_sum2 = viet_north2.groupby(['ARRVL_PRT_NM'], as_index=False).sum()\n",
        "f, ax = plt.subplots(figsize=(24,12))\n",
        "fig = sns.barplot(data=viet_north_sum2, x=\"ARRVL_PRT_NM\", y=\"VTNM_TRAD_INVCE_AMT\")"
      ],
      "metadata": {
        "id": "2d5OfOj75FDk"
      },
      "execution_count": null,
      "outputs": []
    }
  ]
}