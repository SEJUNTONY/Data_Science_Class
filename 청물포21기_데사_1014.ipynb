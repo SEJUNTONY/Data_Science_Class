{
  "nbformat": 4,
  "nbformat_minor": 0,
  "metadata": {
    "colab": {
      "name": "청물포21기_데사_1014.ipynb",
      "provenance": [],
      "collapsed_sections": [],
      "authorship_tag": "ABX9TyP0v2FeUdQKX856bm4LaB8q"
    },
    "kernelspec": {
      "name": "python3",
      "display_name": "Python 3"
    },
    "language_info": {
      "name": "python"
    }
  },
  "cells": [
    {
      "cell_type": "markdown",
      "metadata": {
        "id": "lhVDh9nU4fyX"
      },
      "source": [
        "## 1. 데이터 사이언스란?\n",
        "\n",
        "---\n",
        "\n"
      ]
    },
    {
      "cell_type": "markdown",
      "metadata": {
        "id": "dOMIJvTp4x7g"
      },
      "source": [
        "*   데이터를 분석하여 유용하고 새로운 정보, 지식을 추출하는 기술\n",
        "\n",
        "*   통계학, 인공지능, 기계학습 등의 여러가지 기법을 융합해 데이터 분석에 활용함"
      ]
    },
    {
      "cell_type": "markdown",
      "metadata": {
        "id": "3nIwFDWxmj2m"
      },
      "source": [
        "## 2. Pandas의 기본적인 특징\n",
        "\n",
        "---\n",
        "\n"
      ]
    },
    {
      "cell_type": "markdown",
      "metadata": {
        "id": "NOdDxJz1mnpD"
      },
      "source": [
        "*   부동 소수점이 아닌 데이터 뿐만 아니라 부동 소수점 데이터에서도 결측 데이터를 쉽게 처리 가능\n",
        "\n",
        "*   크기 변이성 : DataFrame 및 고차원 객체에서 열을 삽입 및 삭제 가능\n",
        "\n",
        "*   데이터 세트에서 집계 및 변환을 위한 분할, 적용, 결합 작업을 수행할 수 있는 group-by 함수 제공\n",
        "\n",
        "*   누락된 데이터 또는 다른 Python 및 NumPy 데이터 구조에서 서로 다른 인덱싱 데이터를 DataFrame 개체로 쉽게 변환\n"
      ]
    },
    {
      "cell_type": "code",
      "metadata": {
        "id": "V0_lKsME4Mqd",
        "colab": {
          "base_uri": "https://localhost:8080/",
          "height": 36
        },
        "outputId": "482c9bc9-3e60-47a3-de0d-12ca03b8f165"
      },
      "source": [
        "import numpy as np # Pandas는 기본적으로 NumPy를 기본으로 만들어졌다.\n",
        "import pandas as pd\n",
        "pd.__version__"
      ],
      "execution_count": 77,
      "outputs": [
        {
          "output_type": "execute_result",
          "data": {
            "application/vnd.google.colaboratory.intrinsic+json": {
              "type": "string"
            },
            "text/plain": [
              "'1.1.5'"
            ]
          },
          "metadata": {},
          "execution_count": 77
        }
      ]
    },
    {
      "cell_type": "markdown",
      "metadata": {
        "id": "btE_LsvunbDP"
      },
      "source": [
        "## 3. Pandas 객체"
      ]
    },
    {
      "cell_type": "markdown",
      "metadata": {
        "id": "T55b0mfenfLc"
      },
      "source": [
        "### Series 객체\n",
        "\n",
        "*   index - value\n",
        "\n"
      ]
    },
    {
      "cell_type": "code",
      "metadata": {
        "colab": {
          "base_uri": "https://localhost:8080/"
        },
        "id": "eSVoMGBKnZzc",
        "outputId": "1bca560a-7a37-423d-d1f0-69a72cabefc6"
      },
      "source": [
        "s1 = pd.Series([0, 0.25, 0.5, 0.75, 1.0])\n",
        "s1\n",
        "\n",
        "# 왼쪽 : 데이터의 순서\n",
        "# 오른쪽 : 집어넣은 값들"
      ],
      "execution_count": 78,
      "outputs": [
        {
          "output_type": "execute_result",
          "data": {
            "text/plain": [
              "0    0.00\n",
              "1    0.25\n",
              "2    0.50\n",
              "3    0.75\n",
              "4    1.00\n",
              "dtype: float64"
            ]
          },
          "metadata": {},
          "execution_count": 78
        }
      ]
    },
    {
      "cell_type": "code",
      "metadata": {
        "colab": {
          "base_uri": "https://localhost:8080/"
        },
        "id": "fkWTuod5nqyE",
        "outputId": "00690e32-a103-4c5e-b203-537902dca622"
      },
      "source": [
        "s1.values"
      ],
      "execution_count": 79,
      "outputs": [
        {
          "output_type": "execute_result",
          "data": {
            "text/plain": [
              "array([0.  , 0.25, 0.5 , 0.75, 1.  ])"
            ]
          },
          "metadata": {},
          "execution_count": 79
        }
      ]
    },
    {
      "cell_type": "code",
      "metadata": {
        "colab": {
          "base_uri": "https://localhost:8080/"
        },
        "id": "NrGLtQIAnzO3",
        "outputId": "da870f4d-41f2-48e2-9230-181bcf6ef233"
      },
      "source": [
        "s1.index"
      ],
      "execution_count": 80,
      "outputs": [
        {
          "output_type": "execute_result",
          "data": {
            "text/plain": [
              "RangeIndex(start=0, stop=5, step=1)"
            ]
          },
          "metadata": {},
          "execution_count": 80
        }
      ]
    },
    {
      "cell_type": "code",
      "metadata": {
        "colab": {
          "base_uri": "https://localhost:8080/"
        },
        "id": "z-bwirfYn15q",
        "outputId": "41f78e8c-37fe-4507-8051-eb71af9dd2ac"
      },
      "source": [
        "s1[1]"
      ],
      "execution_count": 81,
      "outputs": [
        {
          "output_type": "execute_result",
          "data": {
            "text/plain": [
              "0.25"
            ]
          },
          "metadata": {},
          "execution_count": 81
        }
      ]
    },
    {
      "cell_type": "code",
      "metadata": {
        "colab": {
          "base_uri": "https://localhost:8080/"
        },
        "id": "NNUkc0bNn285",
        "outputId": "6c5058ac-9ba5-4f56-c5f8-727d61958161"
      },
      "source": [
        "s2 = pd.Series([0,0.25,0.5,0.75,1],index=['a','b','c','d','e'])\n",
        "s2"
      ],
      "execution_count": 82,
      "outputs": [
        {
          "output_type": "execute_result",
          "data": {
            "text/plain": [
              "a    0.00\n",
              "b    0.25\n",
              "c    0.50\n",
              "d    0.75\n",
              "e    1.00\n",
              "dtype: float64"
            ]
          },
          "metadata": {},
          "execution_count": 82
        }
      ]
    },
    {
      "cell_type": "code",
      "metadata": {
        "colab": {
          "base_uri": "https://localhost:8080/"
        },
        "id": "LsVGc5hon_3u",
        "outputId": "3e44ee7f-34f0-48eb-fb4a-c07c6a9e0089"
      },
      "source": [
        "s2['c']"
      ],
      "execution_count": 83,
      "outputs": [
        {
          "output_type": "execute_result",
          "data": {
            "text/plain": [
              "0.5"
            ]
          },
          "metadata": {},
          "execution_count": 83
        }
      ]
    },
    {
      "cell_type": "code",
      "metadata": {
        "colab": {
          "base_uri": "https://localhost:8080/"
        },
        "id": "KTEAO0vKoFV_",
        "outputId": "43473eb3-412a-4bc9-a0ee-9dde04420cef"
      },
      "source": [
        "'b' in s2"
      ],
      "execution_count": 84,
      "outputs": [
        {
          "output_type": "execute_result",
          "data": {
            "text/plain": [
              "True"
            ]
          },
          "metadata": {},
          "execution_count": 84
        }
      ]
    },
    {
      "cell_type": "code",
      "metadata": {
        "colab": {
          "base_uri": "https://localhost:8080/"
        },
        "id": "bw34Kz4BoG0Z",
        "outputId": "4aecf438-320f-4b2c-bc05-2c8ca5dda470"
      },
      "source": [
        "s3 = pd.Series(['정은지','지수빈','정주희','박세준','정찬호'],index=['하나','둘','셋','넷','다섯'], name='출석부')\n",
        "s3"
      ],
      "execution_count": 85,
      "outputs": [
        {
          "output_type": "execute_result",
          "data": {
            "text/plain": [
              "하나    정은지\n",
              "둘     지수빈\n",
              "셋     정주희\n",
              "넷     박세준\n",
              "다섯    정찬호\n",
              "Name: 출석부, dtype: object"
            ]
          },
          "metadata": {},
          "execution_count": 85
        }
      ]
    },
    {
      "cell_type": "code",
      "metadata": {
        "colab": {
          "base_uri": "https://localhost:8080/"
        },
        "id": "6xkPhpg-oOH-",
        "outputId": "ea49650f-bb3b-4838-81d2-5c4cd4046afe"
      },
      "source": [
        "s3.unique()"
      ],
      "execution_count": 86,
      "outputs": [
        {
          "output_type": "execute_result",
          "data": {
            "text/plain": [
              "array(['정은지', '지수빈', '정주희', '박세준', '정찬호'], dtype=object)"
            ]
          },
          "metadata": {},
          "execution_count": 86
        }
      ]
    },
    {
      "cell_type": "code",
      "metadata": {
        "colab": {
          "base_uri": "https://localhost:8080/"
        },
        "id": "Hp3Tt9D7thNq",
        "outputId": "db87bd1a-c094-4f64-8676-e5907213a78d"
      },
      "source": [
        "s3 == '정찬호'"
      ],
      "execution_count": 87,
      "outputs": [
        {
          "output_type": "execute_result",
          "data": {
            "text/plain": [
              "하나    False\n",
              "둘     False\n",
              "셋     False\n",
              "넷     False\n",
              "다섯     True\n",
              "Name: 출석부, dtype: bool"
            ]
          },
          "metadata": {},
          "execution_count": 87
        }
      ]
    },
    {
      "cell_type": "code",
      "metadata": {
        "colab": {
          "base_uri": "https://localhost:8080/"
        },
        "id": "RUmIWuUQoTB_",
        "outputId": "b7d0de35-6269-4538-8a1d-4a386ea75965"
      },
      "source": [
        "pop_tuple = {'서울특별시':9720846,\n",
        "             '부산광역시':3404423,\n",
        "             '인천광역시':2947217,\n",
        "             '대구광역시':2427954,\n",
        "             '대전광역시':1471040,\n",
        "             '광주광역시':1455048}\n",
        "population = pd.Series(pop_tuple)\n",
        "population"
      ],
      "execution_count": 88,
      "outputs": [
        {
          "output_type": "execute_result",
          "data": {
            "text/plain": [
              "서울특별시    9720846\n",
              "부산광역시    3404423\n",
              "인천광역시    2947217\n",
              "대구광역시    2427954\n",
              "대전광역시    1471040\n",
              "광주광역시    1455048\n",
              "dtype: int64"
            ]
          },
          "metadata": {},
          "execution_count": 88
        }
      ]
    },
    {
      "cell_type": "markdown",
      "metadata": {
        "id": "B5uY2__EovUT"
      },
      "source": [
        "### DataFrame 객체\n",
        "\n",
        "*   index - column - value\n",
        "\n"
      ]
    },
    {
      "cell_type": "code",
      "metadata": {
        "colab": {
          "base_uri": "https://localhost:8080/",
          "height": 112
        },
        "id": "ZRpGJ9m3ox6-",
        "outputId": "2c080964-e51c-4ec0-e6ca-f34b68db9b26"
      },
      "source": [
        "pd.DataFrame([{'A':2, 'B':4, 'D':3},{'A':4, 'B':5,'C':7}])"
      ],
      "execution_count": 89,
      "outputs": [
        {
          "output_type": "execute_result",
          "data": {
            "text/html": [
              "<div>\n",
              "<style scoped>\n",
              "    .dataframe tbody tr th:only-of-type {\n",
              "        vertical-align: middle;\n",
              "    }\n",
              "\n",
              "    .dataframe tbody tr th {\n",
              "        vertical-align: top;\n",
              "    }\n",
              "\n",
              "    .dataframe thead th {\n",
              "        text-align: right;\n",
              "    }\n",
              "</style>\n",
              "<table border=\"1\" class=\"dataframe\">\n",
              "  <thead>\n",
              "    <tr style=\"text-align: right;\">\n",
              "      <th></th>\n",
              "      <th>A</th>\n",
              "      <th>B</th>\n",
              "      <th>D</th>\n",
              "      <th>C</th>\n",
              "    </tr>\n",
              "  </thead>\n",
              "  <tbody>\n",
              "    <tr>\n",
              "      <th>0</th>\n",
              "      <td>2</td>\n",
              "      <td>4</td>\n",
              "      <td>3.0</td>\n",
              "      <td>NaN</td>\n",
              "    </tr>\n",
              "    <tr>\n",
              "      <th>1</th>\n",
              "      <td>4</td>\n",
              "      <td>5</td>\n",
              "      <td>NaN</td>\n",
              "      <td>7.0</td>\n",
              "    </tr>\n",
              "  </tbody>\n",
              "</table>\n",
              "</div>"
            ],
            "text/plain": [
              "   A  B    D    C\n",
              "0  2  4  3.0  NaN\n",
              "1  4  5  NaN  7.0"
            ]
          },
          "metadata": {},
          "execution_count": 89
        }
      ]
    },
    {
      "cell_type": "code",
      "metadata": {
        "colab": {
          "base_uri": "https://localhost:8080/",
          "height": 206
        },
        "id": "xA0I5SzXpBGP",
        "outputId": "f0115286-e314-43a1-e845-0f4dd7da4148"
      },
      "source": [
        "pd.DataFrame(np.random.rand(5,5),\n",
        "             columns=['A','B','C','D','E'],\n",
        "             index=[1,2,3,4,5])\n"
      ],
      "execution_count": 90,
      "outputs": [
        {
          "output_type": "execute_result",
          "data": {
            "text/html": [
              "<div>\n",
              "<style scoped>\n",
              "    .dataframe tbody tr th:only-of-type {\n",
              "        vertical-align: middle;\n",
              "    }\n",
              "\n",
              "    .dataframe tbody tr th {\n",
              "        vertical-align: top;\n",
              "    }\n",
              "\n",
              "    .dataframe thead th {\n",
              "        text-align: right;\n",
              "    }\n",
              "</style>\n",
              "<table border=\"1\" class=\"dataframe\">\n",
              "  <thead>\n",
              "    <tr style=\"text-align: right;\">\n",
              "      <th></th>\n",
              "      <th>A</th>\n",
              "      <th>B</th>\n",
              "      <th>C</th>\n",
              "      <th>D</th>\n",
              "      <th>E</th>\n",
              "    </tr>\n",
              "  </thead>\n",
              "  <tbody>\n",
              "    <tr>\n",
              "      <th>1</th>\n",
              "      <td>0.559521</td>\n",
              "      <td>0.913531</td>\n",
              "      <td>0.554180</td>\n",
              "      <td>0.421950</td>\n",
              "      <td>0.330939</td>\n",
              "    </tr>\n",
              "    <tr>\n",
              "      <th>2</th>\n",
              "      <td>0.895439</td>\n",
              "      <td>0.468108</td>\n",
              "      <td>0.356883</td>\n",
              "      <td>0.113418</td>\n",
              "      <td>0.394929</td>\n",
              "    </tr>\n",
              "    <tr>\n",
              "      <th>3</th>\n",
              "      <td>0.944555</td>\n",
              "      <td>0.679430</td>\n",
              "      <td>0.772074</td>\n",
              "      <td>0.290043</td>\n",
              "      <td>0.185531</td>\n",
              "    </tr>\n",
              "    <tr>\n",
              "      <th>4</th>\n",
              "      <td>0.976901</td>\n",
              "      <td>0.443810</td>\n",
              "      <td>0.914918</td>\n",
              "      <td>0.376915</td>\n",
              "      <td>0.824021</td>\n",
              "    </tr>\n",
              "    <tr>\n",
              "      <th>5</th>\n",
              "      <td>0.632124</td>\n",
              "      <td>0.780020</td>\n",
              "      <td>0.847386</td>\n",
              "      <td>0.239678</td>\n",
              "      <td>0.317732</td>\n",
              "    </tr>\n",
              "  </tbody>\n",
              "</table>\n",
              "</div>"
            ],
            "text/plain": [
              "          A         B         C         D         E\n",
              "1  0.559521  0.913531  0.554180  0.421950  0.330939\n",
              "2  0.895439  0.468108  0.356883  0.113418  0.394929\n",
              "3  0.944555  0.679430  0.772074  0.290043  0.185531\n",
              "4  0.976901  0.443810  0.914918  0.376915  0.824021\n",
              "5  0.632124  0.780020  0.847386  0.239678  0.317732"
            ]
          },
          "metadata": {},
          "execution_count": 90
        }
      ]
    },
    {
      "cell_type": "code",
      "metadata": {
        "colab": {
          "base_uri": "https://localhost:8080/"
        },
        "id": "tEGctVnhpbCu",
        "outputId": "2f29f36a-0def-4f70-9c25-6d5fcac367d0"
      },
      "source": [
        "male_tuple = {'서울특별시':4732275,\n",
        "             '부산광역시':1668618,\n",
        "             '인천광역시':1476813,\n",
        "             '대구광역시':1198815,\n",
        "             '대전광역시':734441,\n",
        "             '광주광역시':720060}\n",
        "male = pd.Series(male_tuple)\n",
        "male"
      ],
      "execution_count": 91,
      "outputs": [
        {
          "output_type": "execute_result",
          "data": {
            "text/plain": [
              "서울특별시    4732275\n",
              "부산광역시    1668618\n",
              "인천광역시    1476813\n",
              "대구광역시    1198815\n",
              "대전광역시     734441\n",
              "광주광역시     720060\n",
              "dtype: int64"
            ]
          },
          "metadata": {},
          "execution_count": 91
        }
      ]
    },
    {
      "cell_type": "code",
      "metadata": {
        "colab": {
          "base_uri": "https://localhost:8080/"
        },
        "id": "BIHxKddvp7b0",
        "outputId": "fa593445-16b6-4f4f-f996-da47f9542119"
      },
      "source": [
        "female_tuple = {'서울특별시':4988571,\n",
        "             '부산광역시':1735805,\n",
        "             '인천광역시':1470404,\n",
        "             '대구광역시':1229139,\n",
        "             '대전광역시':736599,\n",
        "             '광주광역시':734988}\n",
        "female = pd.Series(female_tuple)\n",
        "female"
      ],
      "execution_count": 92,
      "outputs": [
        {
          "output_type": "execute_result",
          "data": {
            "text/plain": [
              "서울특별시    4988571\n",
              "부산광역시    1735805\n",
              "인천광역시    1470404\n",
              "대구광역시    1229139\n",
              "대전광역시     736599\n",
              "광주광역시     734988\n",
              "dtype: int64"
            ]
          },
          "metadata": {},
          "execution_count": 92
        }
      ]
    },
    {
      "cell_type": "code",
      "metadata": {
        "colab": {
          "base_uri": "https://localhost:8080/",
          "height": 237
        },
        "id": "NwrwxFpVqIUu",
        "outputId": "029619fc-c679-46f5-ff22-17f14be9b22a"
      },
      "source": [
        "korea_df = pd.DataFrame({'인구수':population,\n",
        "                        '남자인구수' : male,\n",
        "                         '여자인구수' : female})\n",
        "korea_df"
      ],
      "execution_count": 93,
      "outputs": [
        {
          "output_type": "execute_result",
          "data": {
            "text/html": [
              "<div>\n",
              "<style scoped>\n",
              "    .dataframe tbody tr th:only-of-type {\n",
              "        vertical-align: middle;\n",
              "    }\n",
              "\n",
              "    .dataframe tbody tr th {\n",
              "        vertical-align: top;\n",
              "    }\n",
              "\n",
              "    .dataframe thead th {\n",
              "        text-align: right;\n",
              "    }\n",
              "</style>\n",
              "<table border=\"1\" class=\"dataframe\">\n",
              "  <thead>\n",
              "    <tr style=\"text-align: right;\">\n",
              "      <th></th>\n",
              "      <th>인구수</th>\n",
              "      <th>남자인구수</th>\n",
              "      <th>여자인구수</th>\n",
              "    </tr>\n",
              "  </thead>\n",
              "  <tbody>\n",
              "    <tr>\n",
              "      <th>서울특별시</th>\n",
              "      <td>9720846</td>\n",
              "      <td>4732275</td>\n",
              "      <td>4988571</td>\n",
              "    </tr>\n",
              "    <tr>\n",
              "      <th>부산광역시</th>\n",
              "      <td>3404423</td>\n",
              "      <td>1668618</td>\n",
              "      <td>1735805</td>\n",
              "    </tr>\n",
              "    <tr>\n",
              "      <th>인천광역시</th>\n",
              "      <td>2947217</td>\n",
              "      <td>1476813</td>\n",
              "      <td>1470404</td>\n",
              "    </tr>\n",
              "    <tr>\n",
              "      <th>대구광역시</th>\n",
              "      <td>2427954</td>\n",
              "      <td>1198815</td>\n",
              "      <td>1229139</td>\n",
              "    </tr>\n",
              "    <tr>\n",
              "      <th>대전광역시</th>\n",
              "      <td>1471040</td>\n",
              "      <td>734441</td>\n",
              "      <td>736599</td>\n",
              "    </tr>\n",
              "    <tr>\n",
              "      <th>광주광역시</th>\n",
              "      <td>1455048</td>\n",
              "      <td>720060</td>\n",
              "      <td>734988</td>\n",
              "    </tr>\n",
              "  </tbody>\n",
              "</table>\n",
              "</div>"
            ],
            "text/plain": [
              "           인구수    남자인구수    여자인구수\n",
              "서울특별시  9720846  4732275  4988571\n",
              "부산광역시  3404423  1668618  1735805\n",
              "인천광역시  2947217  1476813  1470404\n",
              "대구광역시  2427954  1198815  1229139\n",
              "대전광역시  1471040   734441   736599\n",
              "광주광역시  1455048   720060   734988"
            ]
          },
          "metadata": {},
          "execution_count": 93
        }
      ]
    },
    {
      "cell_type": "code",
      "metadata": {
        "colab": {
          "base_uri": "https://localhost:8080/"
        },
        "id": "tJuIDSVaqWWm",
        "outputId": "3d300393-b0a1-42c3-abff-df078602423b"
      },
      "source": [
        "korea_df.index"
      ],
      "execution_count": 94,
      "outputs": [
        {
          "output_type": "execute_result",
          "data": {
            "text/plain": [
              "Index(['서울특별시', '부산광역시', '인천광역시', '대구광역시', '대전광역시', '광주광역시'], dtype='object')"
            ]
          },
          "metadata": {},
          "execution_count": 94
        }
      ]
    },
    {
      "cell_type": "code",
      "metadata": {
        "colab": {
          "base_uri": "https://localhost:8080/"
        },
        "id": "QeFFFHTeqXzh",
        "outputId": "60c8df86-1e53-4064-847c-902429acc458"
      },
      "source": [
        "korea_df.columns"
      ],
      "execution_count": 95,
      "outputs": [
        {
          "output_type": "execute_result",
          "data": {
            "text/plain": [
              "Index(['인구수', '남자인구수', '여자인구수'], dtype='object')"
            ]
          },
          "metadata": {},
          "execution_count": 95
        }
      ]
    },
    {
      "cell_type": "code",
      "metadata": {
        "colab": {
          "base_uri": "https://localhost:8080/"
        },
        "id": "V-YQL9RnqZlI",
        "outputId": "609a1faa-1675-4668-ad56-2b9fd07c436b"
      },
      "source": [
        "korea_df['여자인구수']"
      ],
      "execution_count": 96,
      "outputs": [
        {
          "output_type": "execute_result",
          "data": {
            "text/plain": [
              "서울특별시    4988571\n",
              "부산광역시    1735805\n",
              "인천광역시    1470404\n",
              "대구광역시    1229139\n",
              "대전광역시     736599\n",
              "광주광역시     734988\n",
              "Name: 여자인구수, dtype: int64"
            ]
          },
          "metadata": {},
          "execution_count": 96
        }
      ]
    },
    {
      "cell_type": "code",
      "metadata": {
        "colab": {
          "base_uri": "https://localhost:8080/",
          "height": 143
        },
        "id": "uJVcEpVZqb18",
        "outputId": "3e89ba02-4ae1-4f0b-9e39-d28e8d16f541"
      },
      "source": [
        "korea_df['서울특별시':'인천광역시']"
      ],
      "execution_count": 97,
      "outputs": [
        {
          "output_type": "execute_result",
          "data": {
            "text/html": [
              "<div>\n",
              "<style scoped>\n",
              "    .dataframe tbody tr th:only-of-type {\n",
              "        vertical-align: middle;\n",
              "    }\n",
              "\n",
              "    .dataframe tbody tr th {\n",
              "        vertical-align: top;\n",
              "    }\n",
              "\n",
              "    .dataframe thead th {\n",
              "        text-align: right;\n",
              "    }\n",
              "</style>\n",
              "<table border=\"1\" class=\"dataframe\">\n",
              "  <thead>\n",
              "    <tr style=\"text-align: right;\">\n",
              "      <th></th>\n",
              "      <th>인구수</th>\n",
              "      <th>남자인구수</th>\n",
              "      <th>여자인구수</th>\n",
              "    </tr>\n",
              "  </thead>\n",
              "  <tbody>\n",
              "    <tr>\n",
              "      <th>서울특별시</th>\n",
              "      <td>9720846</td>\n",
              "      <td>4732275</td>\n",
              "      <td>4988571</td>\n",
              "    </tr>\n",
              "    <tr>\n",
              "      <th>부산광역시</th>\n",
              "      <td>3404423</td>\n",
              "      <td>1668618</td>\n",
              "      <td>1735805</td>\n",
              "    </tr>\n",
              "    <tr>\n",
              "      <th>인천광역시</th>\n",
              "      <td>2947217</td>\n",
              "      <td>1476813</td>\n",
              "      <td>1470404</td>\n",
              "    </tr>\n",
              "  </tbody>\n",
              "</table>\n",
              "</div>"
            ],
            "text/plain": [
              "           인구수    남자인구수    여자인구수\n",
              "서울특별시  9720846  4732275  4988571\n",
              "부산광역시  3404423  1668618  1735805\n",
              "인천광역시  2947217  1476813  1470404"
            ]
          },
          "metadata": {},
          "execution_count": 97
        }
      ]
    },
    {
      "cell_type": "markdown",
      "metadata": {
        "id": "GJ429qU-uK75"
      },
      "source": [
        "## 4. 항만 입출항 데이터를 통한 DataFrame 연습\n",
        "\n",
        "---\n",
        "\n"
      ]
    },
    {
      "cell_type": "markdown",
      "metadata": {
        "id": "0WyJwpnVuoYp"
      },
      "source": [
        "![pandas1.JPG](data:image/jpeg;base64,/9j/4AAQSkZJRgABAQEAkACQAAD/4RDuRXhpZgAATU0AKgAAAAgABAE7AAIAAAAMAAAISodpAAQAAAABAAAIVpydAAEAAAAYAAAQzuocAAcAAAgMAAAAPgAAAAAc6gAAAAgAAAAAAAAAAAAAAAAAAAAAAAAAAAAAAAAAAAAAAAAAAAAAAAAAAAAAAAAAAAAAAAAAAAAAAAAAAAAAAAAAAAAAAAAAAAAAAAAAAAAAAAAAAAAAAAAAAAAAAAAAAAAAAAAAAAAAAAAAAAAAAAAAAAAAAAAAAAAAAAAAAAAAAAAAAAAAAAAAAAAAAAAAAAAAAAAAAAAAAAAAAAAAAAAAAAAAAAAAAAAAAAAAAAAAAAAAAAAAAAAAAAAAAAAAAAAAAAAAAAAAAAAAAAAAAAAAAAAAAAAAAAAAAAAAAAAAAAAAAAAAAAAAAAAAAAAAAAAAAAAAAAAAAAAAAAAAAAAAAAAAAAAAAAAAAAAAAAAAAAAAAAAAAAAAAAAAAAAAAAAAAAAAAAAAAAAAAAAAAAAAAAAAAAAAAAAAAAAAAAAAAAAAAAAAAAAAAAAAAAAAAAAAAAAAAAAAAAAAAAAAAAAAAAAAAAAAAAAAAAAAAAAAAAAAAAAAAAAAAAAAAAAAAAAAAAAAAAAAAAAAAAAAAAAAAAAAAAAAAAAAAAAAAAAAAAAAAAAAAAAAAAAAAAAAAAAAAAAAAAAAAAAAAAAAAAAAAAAAAAAAAAAAAAAAAAAAAAAAAAAAAAAAAAAAAAAAAAAAAAAAAAAAAAAAAAAAAAAAAAAAAAAAAAAAAAAAAAAAAAAAAAAAAAAAAAAAAAAAAAAAAAAAAAAAAAAAAAAAAAAAAAAAAAAAAAAAAAAAAAAAAAAAAAAAAAAAAAAAAAAAAAAAAAAAAAAAAAAAAAAAAAAAAAAAAAAAAAAAAAAAAAAAAAAAAAAAAAAAAAAAAAAAAAAAAAAAAAAAAAAAAAAAAAAAAAAAAAAAAAAAAAAAAAAAAAAAAAAAAAAAAAAAAAAAAAAAAAAAAAAAAAAAAAAAAAAAAAAAAAAAAAAAAAAAAAAAAAAAAAAAAAAAAAAAAAAAAAAAAAAAAAAAAAAAAAAAAAAAAAAAAAAAAAAAAAAAAAAAAAAAAAAAAAAAAAAAAAAAAAAAAAAAAAAAAAAAAAAAAAAAAAAAAAAAAAAAAAAAAAAAAAAAAAAAAAAAAAAAAAAAAAAAAAAAAAAAAAAAAAAAAAAAAAAAAAAAAAAAAAAAAAAAAAAAAAAAAAAAAAAAAAAAAAAAAAAAAAAAAAAAAAAAAAAAAAAAAAAAAAAAAAAAAAAAAAAAAAAAAAAAAAAAAAAAAAAAAAAAAAAAAAAAAAAAAAAAAAAAAAAAAAAAAAAAAAAAAAAAAAAAAAAAAAAAAAAAAAAAAAAAAAAAAAAAAAAAAAAAAAAAAAAAAAAAAAAAAAAAAAAAAAAAAAAAAAAAAAAAAAAAAAAAAAAAAAAAAAAAAAAAAAAAAAAAAAAAAAAAAAAAAAAAAAAAAAAAAAAAAAAAAAAAAAAAAAAAAAAAAAAAAAAAAAAAAAAAAAAAAAAAAAAAAAAAAAAAAAAAAAAAAAAAAAAAAAAAAAAAAAAAAAAAAAAAAAAAAAAAAAAAAAAAAAAAAAAAAAAAAAAAAAAAAAAAAAAAAAAAAAAAAAAAAAAAAAAAAAAAAAAAAAAAAAAAAAAAAAAAAAAAAAAAAAAAAAAAAAAAAAAAAAAAAAAAAAAAAAAAAAAAAAAAAAAAAAAAAAAAAAAAAAAAAAAAAAAAAAAAAAAAAAAAAAAAAAAAAAAAAAAAAAAAAAAAAAAAAAAAAAAAAAAAAAAAAAAAAAAAAAAAAAAAAAAAAAAAAAAAAAAAAAAAAAAAAAAAAAAAAAAAAAAAAAAAAAAAAAAAAAAAAAAAAAAAAAAAAAAAAAAAAAAAAAAAAAAAAAAAAAAAAAAAAAAAAAAAAAAAAAAAAAAAAAAAAAAAAAAAAAAAAAAAAAAAAAAAAAAAAAAAAAAAAAAAAAAAAAAAAAAAAAAAAAAAAAAAAAAAAAAAAAAAAAAAAAAAAAAAAAAAAAAAAAAAAAAAAAAAAAAAAAAAAAAAAAAAAAAAAAAAAAAAAAAAAAAAAAAAAAAAAAAAAAAAAAAAAAAAAAAAAAAAAAAAAAAAAAAAAAAAAAAAAAAAAAAAAAAAAAAAAAAAAAAAAAAAAAAAAAAAAAAAAAAAAAAAAAAAAAAAAAAAAAAAAAAAAAAAAAAAAAAAAAAAAAAAAAAAAAAAAAAAAAAAAAAAAAAAAAAAAAAAAAAAAAAAAAAAAAAAAAAAAAAAAAAAAAAAAAAAAAAAAAAAAAAAAAAAAAAAAAAAAAAAAAAAAAAAAAAAAAAAAAAAAAAAAAAAAAAAAAAAAAAAAAAAAAAAAAAAAAAAAAAAAAAAAAAAAAAAAAAAAAAAAAAAAAAAAAAAAAAAAAAAAAAAAAAAAAAAAAAAAAAAAAAAAAAAAAAAAAAAAAAAAAAAAAAAAAAAAAAAAAAAAAAAAAAAAAAAAAAAAAAAAAAAAAAAAAAAAAAAAAAAAAAAAAAAAAAAAAAAAAAAAAAAAAAAAAAAAAAAAAAAAAAAAAAAAAAAAAAAAAAAAAAAAAAAAAAAAAAAAAAAAAAAAAAAAAAAAAAAAAAAAAAAAAAAAAAAAAAAAAAAAAAAAAAAAAAAAAAAAAAAAAAAAAAAAAAAAAAAAAAAAAAAAAAAAAAAAAAAAAAAAAAAAAAAAAAAAAAAAAAAAAAAAAAAAAAAAAAAAAAAAAAAAAAAAAAAAAAAAAAAAAAAAAAAAAAAAAAAAAAAAAAAAAAAAAAAAAAAAAAAAAAAAAAAAAAAAAAAAAAAAAAAAAAAAFBBUksgU0UgSlVOAAAFkAMAAgAAABQAABCkkAQAAgAAABQAABC4kpEAAgAAAAM2MgAAkpIAAgAAAAM2MgAA6hwABwAACAwAAAiYAAAAABzqAAAACAAAAAAAAAAAAAAAAAAAAAAAAAAAAAAAAAAAAAAAAAAAAAAAAAAAAAAAAAAAAAAAAAAAAAAAAAAAAAAAAAAAAAAAAAAAAAAAAAAAAAAAAAAAAAAAAAAAAAAAAAAAAAAAAAAAAAAAAAAAAAAAAAAAAAAAAAAAAAAAAAAAAAAAAAAAAAAAAAAAAAAAAAAAAAAAAAAAAAAAAAAAAAAAAAAAAAAAAAAAAAAAAAAAAAAAAAAAAAAAAAAAAAAAAAAAAAAAAAAAAAAAAAAAAAAAAAAAAAAAAAAAAAAAAAAAAAAAAAAAAAAAAAAAAAAAAAAAAAAAAAAAAAAAAAAAAAAAAAAAAAAAAAAAAAAAAAAAAAAAAAAAAAAAAAAAAAAAAAAAAAAAAAAAAAAAAAAAAAAAAAAAAAAAAAAAAAAAAAAAAAAAAAAAAAAAAAAAAAAAAAAAAAAAAAAAAAAAAAAAAAAAAAAAAAAAAAAAAAAAAAAAAAAAAAAAAAAAAAAAAAAAAAAAAAAAAAAAAAAAAAAAAAAAAAAAAAAAAAAAAAAAAAAAAAAAAAAAAAAAAAAAAAAAAAAAAAAAAAAAAAAAAAAAAAAAAAAAAAAAAAAAAAAAAAAAAAAAAAAAAAAAAAAAAAAAAAAAAAAAAAAAAAAAAAAAAAAAAAAAAAAAAAAAAAAAAAAAAAAAAAAAAAAAAAAAAAAAAAAAAAAAAAAAAAAAAAAAAAAAAAAAAAAAAAAAAAAAAAAAAAAAAAAAAAAAAAAAAAAAAAAAAAAAAAAAAAAAAAAAAAAAAAAAAAAAAAAAAAAAAAAAAAAAAAAAAAAAAAAAAAAAAAAAAAAAAAAAAAAAAAAAAAAAAAAAAAAAAAAAAAAAAAAAAAAAAAAAAAAAAAAAAAAAAAAAAAAAAAAAAAAAAAAAAAAAAAAAAAAAAAAAAAAAAAAAAAAAAAAAAAAAAAAAAAAAAAAAAAAAAAAAAAAAAAAAAAAAAAAAAAAAAAAAAAAAAAAAAAAAAAAAAAAAAAAAAAAAAAAAAAAAAAAAAAAAAAAAAAAAAAAAAAAAAAAAAAAAAAAAAAAAAAAAAAAAAAAAAAAAAAAAAAAAAAAAAAAAAAAAAAAAAAAAAAAAAAAAAAAAAAAAAAAAAAAAAAAAAAAAAAAAAAAAAAAAAAAAAAAAAAAAAAAAAAAAAAAAAAAAAAAAAAAAAAAAAAAAAAAAAAAAAAAAAAAAAAAAAAAAAAAAAAAAAAAAAAAAAAAAAAAAAAAAAAAAAAAAAAAAAAAAAAAAAAAAAAAAAAAAAAAAAAAAAAAAAAAAAAAAAAAAAAAAAAAAAAAAAAAAAAAAAAAAAAAAAAAAAAAAAAAAAAAAAAAAAAAAAAAAAAAAAAAAAAAAAAAAAAAAAAAAAAAAAAAAAAAAAAAAAAAAAAAAAAAAAAAAAAAAAAAAAAAAAAAAAAAAAAAAAAAAAAAAAAAAAAAAAAAAAAAAAAAAAAAAAAAAAAAAAAAAAAAAAAAAAAAAAAAAAAAAAAAAAAAAAAAAAAAAAAAAAAAAAAAAAAAAAAAAAAAAAAAAAAAAAAAAAAAAAAAAAAAAAAAAAAAAAAAAAAAAAAAAAAAAAAAAAAAAAAAAAAAAAAAAAAAAAAAAAAAAAAAAAAAAAAAAAAAAAAAAAAAAAAAAAAAAAAAAAAAAAAAAAAAAAAAAAAAAAAAAAAAAAAAAAAAAAAAAAAAAAAAAAAAAAAAAAAAAAAAAAAAAAAAAAAAAAAAAAAAAAAAAAAAAAAAAAAAAAAAAAAAAAAAAAAAAAAAAAAAAAAAAAAAAAAAAAAAAAAAAAAAAAAAAAAAAAAAAAAAAAAAAAAAAAAAAAAAAAAAAAAAAAAAAAAAAAAAAAAAAAAAAAAAAAAAAAAAAAAAAAAAAAAAAAAAAAAAAAAAAAAAAAAAAAAAAAAAAAAAAAAAAAAAAAAAAAAAAAAAAAAAAAAAAAAAAAAAAAAAAAAAAAAAAAAAAAAAAAAAAAAAAAAAAAAAAAAAAAAAAAAAAAAAAAAAAAAAAAAAAAAAAAAAAAAAAAAAAAAAAAAAAAAAAAAAAAAAAAAAAAAAAAAAAAAAAAAAAAAAAAAAAAAAAAAAAAAAAAAAAAAAAAAAAAAAAAAAAAAAAAAAAAAAAAAAAAAAAAAAAAAAAAAAAAAAAAAAAAAAAAAAAAAAAAAAAAAAAAAAAAAAAAAAAAAAAAAAAAAAAAAAAAAAAAAAAAAAAAAAAAAAAAAAAAAAAAAAAAAAAAAAAAAAAAAAAAAAAAAAAAAAAAAAAAAAAAAAAAAAAAAAAAAAAAAAAAAAAAAAAAAAAAAAAAAAAAAAAAAAAAAAAAAAAAAAAAAAAAAAAAAAAAAAAAAAAAAAAAAAAAAAAAAAAAAAAAAAAAAAAAAAAAAAAAAAAAAAAAAAAAAAAAAAAAAAAAAAAAAAAAAAAAAAAAAAAAAAAAAAAAAAAAAAAAAAAAAAAAAAAAAAAAAAAAAAAAAAAAAAAAAAAAAAAAAAAAAAAAAAAAAAAAAAAAAAAAAAAAAAAAAAAAAAAAAAAAAAAAAAAAAAAAAAAAAAAAAAAAAAAAAAAAAAAAAAAAAAAAAAAAAAAAAAAAAAAAAAAAAAAAAAAAAAAAAAAAAAAAAAAAAAAAAAAAAAAAAAAAAAAAAAAAAAAAAAAAAAAAAAAAAAAAAAAAAAAAAAAAAAAAAAAAAAAAAAAAAAAAAAAAAAAAAAAAAAAAAAAAAAAAAAAAAAAAAAAAAAAMjAyMToxMDoxMiAyMjozODo0OQAyMDIxOjEwOjEyIDIyOjM4OjQ5AAAAUABBAFIASwAgAFMARQAgAEoAVQBOAAAA/+ELHmh0dHA6Ly9ucy5hZG9iZS5jb20veGFwLzEuMC8APD94cGFja2V0IGJlZ2luPSfvu78nIGlkPSdXNU0wTXBDZWhpSHpyZVN6TlRjemtjOWQnPz4NCjx4OnhtcG1ldGEgeG1sbnM6eD0iYWRvYmU6bnM6bWV0YS8iPjxyZGY6UkRGIHhtbG5zOnJkZj0iaHR0cDovL3d3dy53My5vcmcvMTk5OS8wMi8yMi1yZGYtc3ludGF4LW5zIyI+PHJkZjpEZXNjcmlwdGlvbiByZGY6YWJvdXQ9InV1aWQ6ZmFmNWJkZDUtYmEzZC0xMWRhLWFkMzEtZDMzZDc1MTgyZjFiIiB4bWxuczpkYz0iaHR0cDovL3B1cmwub3JnL2RjL2VsZW1lbnRzLzEuMS8iLz48cmRmOkRlc2NyaXB0aW9uIHJkZjphYm91dD0idXVpZDpmYWY1YmRkNS1iYTNkLTExZGEtYWQzMS1kMzNkNzUxODJmMWIiIHhtbG5zOnhtcD0iaHR0cDovL25zLmFkb2JlLmNvbS94YXAvMS4wLyI+PHhtcDpDcmVhdGVEYXRlPjIwMjEtMTAtMTJUMjI6Mzg6NDkuNjE4PC94bXA6Q3JlYXRlRGF0ZT48L3JkZjpEZXNjcmlwdGlvbj48cmRmOkRlc2NyaXB0aW9uIHJkZjphYm91dD0idXVpZDpmYWY1YmRkNS1iYTNkLTExZGEtYWQzMS1kMzNkNzUxODJmMWIiIHhtbG5zOmRjPSJodHRwOi8vcHVybC5vcmcvZGMvZWxlbWVudHMvMS4xLyI+PGRjOmNyZWF0b3I+PHJkZjpTZXEgeG1sbnM6cmRmPSJodHRwOi8vd3d3LnczLm9yZy8xOTk5LzAyLzIyLXJkZi1zeW50YXgtbnMjIj48cmRmOmxpPlBBUksgU0UgSlVOPC9yZGY6bGk+PC9yZGY6U2VxPg0KCQkJPC9kYzpjcmVhdG9yPjwvcmRmOkRlc2NyaXB0aW9uPjwvcmRmOlJERj48L3g6eG1wbWV0YT4NCiAgICAgICAgICAgICAgICAgICAgICAgICAgICAgICAgICAgICAgICAgICAgICAgICAgICAgICAgICAgICAgICAgICAgICAgICAgICAgICAgICAgICAgICAgICAgICAgICAgICAKICAgICAgICAgICAgICAgICAgICAgICAgICAgICAgICAgICAgICAgICAgICAgICAgICAgICAgICAgICAgICAgICAgICAgICAgICAgICAgICAgICAgICAgICAgICAgICAgICAgIAogICAgICAgICAgICAgICAgICAgICAgICAgICAgICAgICAgICAgICAgICAgICAgICAgICAgICAgICAgICAgICAgICAgICAgICAgICAgICAgICAgICAgICAgICAgICAgICAgICAgCiAgICAgICAgICAgICAgICAgICAgICAgICAgICAgICAgICAgICAgICAgICAgICAgICAgICAgICAgICAgICAgICAgICAgICAgICAgICAgICAgICAgICAgICAgICAgICAgICAgICAKICAgICAgICAgICAgICAgICAgICAgICAgICAgICAgICAgICAgICAgICAgICAgICAgICAgICAgICAgICAgICAgICAgICAgICAgICAgICAgICAgICAgICAgICAgICAgICAgICAgIAogICAgICAgICAgICAgICAgICAgICAgICAgICAgICAgICAgICAgICAgICAgICAgICAgICAgICAgICAgICAgICAgICAgICAgICAgICAgICAgICAgICAgICAgICAgICAgICAgICAgCiAgICAgICAgICAgICAgICAgICAgICAgICAgICAgICAgICAgICAgICAgICAgICAgICAgICAgICAgICAgICAgICAgICAgICAgICAgICAgICAgICAgICAgICAgICAgICAgICAgICAKICAgICAgICAgICAgICAgICAgICAgICAgICAgICAgICAgICAgICAgICAgICAgICAgICAgICAgICAgICAgICAgICAgICAgICAgICAgICAgICAgICAgICAgICAgICAgICAgICAgIAogICAgICAgICAgICAgICAgICAgICAgICAgICAgICAgICAgICAgICAgICAgICAgICAgICAgICAgICAgICAgICAgICAgICAgICAgICAgICAgICAgICAgICAgICAgICAgICAgICAgCiAgICAgICAgICAgICAgICAgICAgICAgICAgICAgICAgICAgICAgICAgICAgICAgICAgICAgICAgICAgICAgICAgICAgICAgICAgICAgICAgICAgICAgICAgICAgICAgICAgICAKICAgICAgICAgICAgICAgICAgICAgICAgICAgICAgICAgICAgICAgICAgICAgICAgICAgICAgICAgICAgICAgICAgICAgICAgICAgICAgICAgICAgICAgICAgICAgICAgICAgIAogICAgICAgICAgICAgICAgICAgICAgICAgICAgICAgICAgICAgICAgICAgICAgICAgICAgICAgICAgICAgICAgICAgICAgICAgICAgICAgICAgICAgICAgICAgICAgICAgICAgCiAgICAgICAgICAgICAgICAgICAgICAgICAgICAgICAgICAgICAgICAgICAgICAgICAgICAgICAgICAgICAgICAgICAgICAgICAgICAgICAgICAgICAgICAgICAgICAgICAgICAKICAgICAgICAgICAgICAgICAgICAgICAgICAgICAgICAgICAgICAgICAgICAgICAgICAgICAgICAgICAgICAgICAgICAgICAgICAgICAgICAgICAgICAgICAgICAgICAgICAgIAogICAgICAgICAgICAgICAgICAgICAgICAgICAgICAgICAgICAgICAgICAgICAgICAgICAgICAgICAgICAgICAgICAgICAgICAgICAgICAgICAgICAgICAgICAgICAgICAgICAgCiAgICAgICAgICAgICAgICAgICAgICAgICAgICAgICAgICAgICAgICAgICAgICAgICAgICAgICAgICAgICAgICAgICAgICAgICAgICAgICAgICAgICAgICAgICAgICAgICAgICAKICAgICAgICAgICAgICAgICAgICAgICAgICAgICAgICAgICAgICAgICAgICAgICAgICAgICAgICAgICAgICAgICAgICAgICAgICAgICAgICAgICAgICAgICAgICAgICAgICAgIAogICAgICAgICAgICAgICAgICAgICAgICAgICAgICAgICAgICAgICAgICAgICAgICAgICAgICAgICAgICAgICAgICAgICAgICAgICAgICAgICAgICAgICAgICAgICAgICAgICAgCiAgICAgICAgICAgICAgICAgICAgICAgICAgICAgICAgICAgICAgICAgICAgICAgICAgICAgICAgICAgICAgICAgICAgICAgICAgICAgICAgICAgICAgICAgICAgICAgICAgICAKICAgICAgICAgICAgICAgICAgICAgICAgICAgICAgICAgICAgICAgICAgICAgICAgICAgICAgICAgICAgICAgICAgICAgICAgICAgICAgICAgICAgICAgICAgICAgICAgICAgIAogICAgICAgICAgICAgICAgICAgICAgICAgICAgPD94cGFja2V0IGVuZD0ndyc/Pv/bAEMABwUFBgUEBwYFBggHBwgKEQsKCQkKFQ8QDBEYFRoZGBUYFxseJyEbHSUdFxgiLiIlKCkrLCsaIC8zLyoyJyorKv/bAEMBBwgICgkKFAsLFCocGBwqKioqKioqKioqKioqKioqKioqKioqKioqKioqKioqKioqKioqKioqKioqKioqKioqKv/AABEIAUQEkwMBIgACEQEDEQH/xAAfAAABBQEBAQEBAQAAAAAAAAAAAQIDBAUGBwgJCgv/xAC1EAACAQMDAgQDBQUEBAAAAX0BAgMABBEFEiExQQYTUWEHInEUMoGRoQgjQrHBFVLR8CQzYnKCCQoWFxgZGiUmJygpKjQ1Njc4OTpDREVGR0hJSlNUVVZXWFlaY2RlZmdoaWpzdHV2d3h5eoOEhYaHiImKkpOUlZaXmJmaoqOkpaanqKmqsrO0tba3uLm6wsPExcbHyMnK0tPU1dbX2Nna4eLj5OXm5+jp6vHy8/T19vf4+fr/xAAfAQADAQEBAQEBAQEBAAAAAAAAAQIDBAUGBwgJCgv/xAC1EQACAQIEBAMEBwUEBAABAncAAQIDEQQFITEGEkFRB2FxEyIygQgUQpGhscEJIzNS8BVictEKFiQ04SXxFxgZGiYnKCkqNTY3ODk6Q0RFRkdISUpTVFVWV1hZWmNkZWZnaGlqc3R1dnd4eXqCg4SFhoeIiYqSk5SVlpeYmZqio6Slpqeoqaqys7S1tre4ubrCw8TFxsfIycrS09TV1tfY2dri4+Tl5ufo6ery8/T19vf4+fr/2gAMAwEAAhEDEQA/APdaKKKACiiigApkj7I3I6qucVXv7+Oxh3N8zn7qev8A9as3TLiS4i1CaZssUH4cNQBu0UUUAFFFFABRRRQAUVyVl49tbz4i3XhVbVlEMbeXe+ZlZpkVWkiAxwVV1PX19K62jon3DrYKKKKACiiigBsjbI2YfwgmnVFcnFpMfRG/lUtABRRRQAUUUUAFFFITgE0m7K4C0V5ba/FnX/7Hi1/VPAVxbeHnwz6hb6nHOyR5xv8AKChsDv0xXqCsHQMhyrDII7iqsw2dh1FFFIAooooAKbI2yNmH8IJp1RXJxaTH0Rv5UAS0UUUAFFFFABRRRQAUVFc3MNnay3N1KsMEKGSSRzhUUDJJPoBXAr8RvEeqoL3wn8P7/U9JblLy5vYrRpV/vJG+WZSOQeM0Dseh0VBZXDXdhBcvBLbtNGrmGYYeMkZ2sPUdDU9GwtwooooAKKKKAGyNsjZh/CCadUVycWkx9Eb+VS0AFFFFABRRRQAUUVm+IdW/sHw1qOreT9o+w20lx5W/bv2qTjODjOOuDSbSV2NJt2RpUV5vF8R/FlvZJqWtfDe8t9LMYla4stShunVCM7vLABIwc132malaaxpdtqOmzrcWlzGJIpF6Mp/z0qrE3RaooopDCiiigApsjbI2YfwgmnVFcnFpMfRG/lQBLRRRQAUUUUAFFFFABRRXnEXxC8YajeX40D4e/wBo2dpeS2guv7bhi3mNipO1lyOn/wBejrYOlz0eimoWaNS67GIBK5zg+madQAUUUUAFFFFADZG2Rsw/hBNOqK5OLSY+iN/KpaACiiigAooooAKKKKACiqGu6n/Yvh3UdU8rz/sVrJceVu279ilsZwcZx1wa5fw54t8Zazf2Y1HwD/Zum3K72vv7Zhm8tSuVPlgBjngY96Fq7A9Fc7eiiigAooooAKKKKACmlsSKvqCf5f406omP+lxj/Yb+a0AS0UUUAFFFFABRRRQAUUVyGv8AjuSx1qTQ/DOh3PiLWIYxJPBBKsUVuD90SStwpPUDk4oA6+iub8L+INc1aae38R+FbjQJ4lDqWuo7mKQE4wHTv7YrpKACiiigAooooAKKKKAGo25Sfcj8jinVFbnMZ/33/wDQjUtABRRRQAUUUUAFFFUNd1P+xfDuo6p5Xn/YrWS48rdt37FLYzg4zjrg0m0ldjSbdkX6Kp6Tff2potlf+X5X2q3jm8vdu27lDYzxnGetU/C+vf8ACSaGNR+zfZs3E8Pl+Zv/ANXK0ec4HXbn2zVNNOzJTTV0bFFFFIYUUUUAFFFFADXbaoPuB+ZxTqiuDiMf76f+hCpaACiiigAooooAKKKKACiisfw3rv8AwkFjdXH2b7P9nvZ7Tbv37vKkKbs4GM4zjt6mjrYOlzYooooAKKKKACiiigAqnPdvFdGNQpAQNyPUn/CrlZl5/wAhBv8Arkv82oAk+2yf3V/I0VXooA16KKKACql/fx2MO5vmc/dT1/8ArUX9/HYw7m+Zz91PX/61crcXElzM0szbmP6e1ABcXElzM0szbmP6e1aOkHGn6ifSL+jVk1qaYcaXqh9If/ZWoA6aiiigAooooAKzPEetweHPDWoaxdY8qygaUqTjcQOF+pOB+NadUdW0aw12xFnq1uLi38xJTGWYAsjBlzgjIyAcHg96TV1Ya0dzwQ+Jp9J8GaVeN4P8Vxazpl//AGtdahPprJBIzsTcZk3ZClGIyR2WvoO1uob2zhurWRZIJ0WSN1OQykZB/KnTwRXNvJBcRrLFKpR0cZDKRggj0xUGl6ZaaLpVvpumxGG0tUEcMZdn2qOgyxJP4mqvo1/X9aKxPW/9f1uW6KKKQwooooAgvTjT7g+kTfyqeq2onGl3R9IX/wDQTVmgAooooAKKKKACmt90/SnUh5HNKSumgPBdN0DxKPg/bardeL7abQ4bY3B0S7slhikRST5TTowcg4+h6EEcV7fpN9/aei2V+IWgF1bpN5T9U3KDtP0ziuRtPgv8PrK/jvIfDkTTRtvXzbiaVc+6M5U/iK7mqv8A1/W//ACWsri0UUUgCiiigAqC9ONPuD6RN/Kp6raicaXdH0hf/wBBNAFmiiigAooooAKKKKAOT+J9vPc/DbV0toXnKxpJJEn3pIldWkUfVAwrb0bWtL1rRYdS0e7hnsZEDLJG4wox0PoR0IPStGuJ1D4PeAtT1N7+78OW5uHbexilkiVj6lEYL9eOaEB2cUsc8KSwuskbqGR0OQwPQg9xT6it7eG0tore1jWKGFAkcaDCooGAAPTFS0egBRRRQAUUUUAQXpxp9wfSJv5VPVbUTjS7o+kL/wDoJqzQAUUUUAFFFFABXOfEP/kmviP/ALBs/wD6LNdHVbUdPttV0250+/i821uomimj3FdysMEZBBHHpUzXNFoqD5ZJmTbazp2g+B7G/wBYvIbS1isoi0krhR9wcDPUnsByao/DCzksvh3pyywPbCVpriOBxgxxySu6KR2wrDiq+k/CDwHomoJe6f4dgE8ZyjTyyThT2IEjMAffGa7WtJO7b7mcVZKPYKKKKkoKKKKACoL040+4PpE38qnqtqJxpd0fSF//AEE0AWaKKKACiiigAooooAK8g8H+H/F1/LrN1onjb+ybAa7eA2P9kxT5IlO4+Yxzz+lev1wt/wDBfwDqeo3F9faD5tzcytLK/wBsnG5mOScB8Dk9qFpK/wDW6/yG9Y2/rr/md1RUVvBHa2sVvAuyKFAiLknCgYA59qloEFFFFABRRRQBBenGn3B9Im/lU9VtRONLuj6Qv/6Cas0AFFFFABRRRQAUUUUAYPjr/knniL/sGXP/AKKasDwR4e8X2cel3mq+OP7S037Kp/s7+yYYuCnyjzFO7jI+uK7W+srfU9OuLG9j822uYmhlTcRuRhgjI5HB7U+3gjtbWK3gXZFCgRFyThQMAc+1C0bfp+v+YPVJev6f5EtFFFABRRRQAUUUUAFQOf8AiYRD/pk/80qeqzn/AImkA/6Yyf8AoSUAWaKKKACiiigAooooAK4TwNe21rr3irRLqSO31k6tNdFH4aaGQAxSLn7wC4Xjpt5ru6wPE3gjw34xjjXxJpMN6Yv9XISyOo9A6kNj2zil1v5W/L/IfS3z/r7zB8KS+JdP+IN/oXiLxONfiTTo7uNhYxW3lM0jLjCZJ4Xue/Su9rB8NeCfDng+ORfDmkwWJlGHkXLuw9C7EsR7ZrequiRPVsKKKKQwooooAKKKKAILQ5hb/rrJ/wChmp6rWBzbt/12l/8ARjVZoAKKKKACiiigArB8df8AJPPEX/YMuf8A0U1b1V76yt9T064sb2Pzba5iaGVNxG5GGCMjkcHtUzXNFoqD5ZJs808PeEviDN4Z0uS1+Jn2eB7OJo4f7At38tSgwu4nJwOM963/AITRyxfDu3juZvtEyXl4sk2wL5jC5ky2BwMnnFddaWsNjZQWlqmyCCNYo0yTtVRgDJ5PAqHS9KstFsRZ6bD5MAkeTZvZvmdy7HJJPLMT+Naykm3YzimopPp/kXKKKKgoKKKKACiiigCC7OIV/wCusf8A6GKnqtfnFuv/AF2i/wDRi1ZoAKKKKACiiigAooooAK5D4cf8gPU/+w1f/wDpQ9dfVPTdKs9Iglh06HyY5Z5LhxuLZkdizHknqSTjpQtHfy/Vf5A9ref6P/MuUUUUAFFFFABRRRQAVmXn/IRb/rkn82rTrLu/+Qk//XFP5tQAyiiigDUJl7In/fZ/wppaftHH/wB/D/hUtFAFSSBpW3SWdtI3qzZP/oNRm09NOsv++v8A7Cr9FAGcbV+2m2P/AH3/APYVBfJcQ6VebLK0iUwPuMcxzjae2wZrYqpqv/IGvf8Ar3k/9BNAFr7Fq3/PvZf+BT//ABuj7Fq3/PvZf+BT/wDxut2igDC+xat/z72X/gU//wAbo+xat/z72X/gU/8A8brdooAwvsWrf8+9l/4FP/8AG6PsWrf8+9l/4FP/APG63aKAML7Fq3/PvZf+BT//ABuj7Fq3/PvZf+BT/wDxut2igDC+xat/z72X/gU//wAbo+xat/z72X/gU/8A8brdooAwvsWrf8+9l/4FP/8AG6PsWrf8+9l/4FP/APG63aKAObv7DVZNOuUaGzUNEwJFyxxwe3l1P9i1b/n3sv8AwKf/AON1r3n/AB4z/wDXNv5Ut3M9vZyzQ20t3JGpZYISoeQ/3QXZVyfcge9AGP8AYtW/597L/wACn/8AjdH2LVv+fey/8Cn/APjdcb41+Ll54UbTUl8L39pJcXSecl5LaOfsw/1jqI7klccfO+EHc12mjeIbvV5U3+HNTsLaSPzEu7ia0eJh2x5U7k5zwcY96Fqrg9Bv2LVv+fey/wDAp/8A43R9i1b/AJ97L/wKf/43UPiXxZJ4aSSWfRLya0jQE3wurOGBSexM06EflWN4H+IN/wCJtOtVudCa4uxtW9udLv7Ge1hYk8/LdM+3HsTweKFqD03N/wCxat/z72X/AIFP/wDG6PsWrf8APvZf+BT/APxuoPBfiK78Rw6097HDGbDWLmwi8lSN0cbAKWyT83POMD2rpKOiff8AUOrXb9DC+xat/wA+9l/4FP8A/G6PsWrf8+9l/wCBT/8Axut2igDC+xat/wA+9l/4FP8A/G6PsWrf8+9l/wCBT/8Axut2igDC+xat/wA+9l/4FP8A/G6PsWrf8+9l/wCBT/8Axut2igDC+xat/wA+9l/4FP8A/G6gv7DVZNOuUaGzUNEwJFyxxwe3l10lQ3n/AB4z/wDXNv5UAZH2LVv+fey/8Cn/APjdH2LVv+fey/8AAp//AI3U3irxDD4V8L3us3ETTLaoCsSsFMjkhUXJ4GWIGe2awdV1bxn4d0CfX9TXR7y3tIjPdaZaQSpLHGOX2TtIVdlGTzGobHai6HZvY2PsWrf8+9l/4FP/APG6PsWrf8+9l/4FP/8AG6pX3iuePxl4U02xSF7HXLe5mkeRT5iiONHTbzgZ3c5B/Cp/EviyTw0kks+iXk1pGgJvhdWcMCk9iZp0I/Kh6biXvbE32LVv+fey/wDAp/8A43R9i1b/AJ97L/wKf/43WB4H+IN/4m061W50Jri7G1b250u/sZ7WFiTz8t0z7cexPB4rY8F+IrvxHDrT3scMZsNYubCLyVI3RxsApbJPzc84wPanbW39dP8AMV9L/wBdf8if7Fq3/PvZf+BT/wDxuj7Fq3/PvZf+BT//ABut2ikMwvsWrf8APvZf+BT/APxuj7Fq3/PvZf8AgU//AMbrdooAwvsWrf8APvZf+BT/APxuj7Fq3/PvZf8AgU//AMbrdooAwvsWrf8APvZf+BT/APxuj7Fq3/PvZf8AgU//AMbrdooA5u/sNVk065RobNQ0TAkXLHHB7eXU/wBi1b/n3sv/AAKf/wCN1r3n/HjP/wBc2/lS3V1BY2c11eSpDbwRtJLK5wqKBkknsABQ3bVhvojH+xat/wA+9l/4FP8A/G6PsWrf8+9l/wCBT/8Axus1/iJbRab/AGtNoGuR6JtEn9qNbx+WIz/y0Me/zgmOcmPgc9Ksar4omtfF3hXTrD7NPZa39oaSbljtSLehQg4wc9cHIoAtfYtW/wCfey/8Cn/+N0fYtW/597L/AMCn/wDjdQ+JfFknhpJJZ9EvJrSNATfC6s4YFJ7EzToR+VY3gf4g3/ibTrVbnQmuLsbVvbnS7+xntYWJPPy3TPtx7E8Hihag9Nzf+xat/wA+9l/4FP8A/G6PsWrf8+9l/wCBT/8AxuoPBfiK78Rw6097HDGbDWLmwi8lSN0cbAKWyT83POMD2rpKOiff9Q6tdv0ML7Fq3/PvZf8AgU//AMbo+xat/wA+9l/4FP8A/G6oXOv6zqvi6/0HwwbC1GlxxNe319E84DyAssaRI6E/KASxcYyBg1LoXiLUJPEmoeG9fggGoWdul3Hc2qssN1C5KhgjElGDKQVLN2IJpX0v/X9f8PsBa+xat/z72X/gU/8A8bo+xat/z72X/gU//wAbql4K8UX/AIi+G1j4hu7ET3txE7ta2OF3kOygJ5jgDgfxMB71z2p/FifT/Flpp8mjLbQBJBeW13qumpdh+PL2L9sxj72c89MVTVpcodLnXfYtW/597L/wKf8A+N0fYtW/597L/wACn/8AjdZet+MdT0+Lw+66NLpzanrcOnyw6gY3cROrEuphlZQflGMk9+OldjS6X/ro/wBQ62/rr/kYX2LVv+fey/8AAp//AI3UF/YarJp1yjQ2ahomBIuWOOD28uukqG8/48Z/+ubfyoAyPsWrf8+9l/4FP/8AG6PsWrf8+9l/4FP/APG62Lq6gsbOa6vJUht4I2kllc4VFAyST2AArlX+IltFpv8Aa02ga5Hom0Sf2o1vH5YjP/LQx7/OCY5yY+Bz0oHY0vsWrf8APvZf+BT/APxuj7Fq3/PvZf8AgU//AMbqrqviia18XeFdOsPs09lrf2hpJuWO1It6FCDjBz1wcipPEviyTw0kks+iXk1pGgJvhdWcMCk9iZp0I/Kk9BLXYm+xat/z72X/AIFP/wDG6PsWrf8APvZf+BT/APxusDwP8Qb/AMTadarc6E1xdjat7c6Xf2M9rCxJ5+W6Z9uPYng8VseC/EV34jh1p72OGM2GsXNhF5Kkbo42AUtkn5uecYHtVW1t/XT/ADFfS/8AXX/In+xat/z72X/gU/8A8bo+xat/z72X/gU//wAbrdrF1jXrzSp2WHw3qeowLHva5tprRI165B82dG4xnOMe9Tewxn2LVv8An3sv/Ap//jdH2LVv+fey/wDAp/8A43XGeDPi9deKbnVIIfDF9dyW9y5t0tJbRGNtwEciS5G/Jz86ZQ8YNeifbrj+x/tn9l3fn+Xv+wbovOz/AHM7/Lz/AMDx70+lw62M77Fq3/PvZf8AgU//AMbo+xat/wA+9l/4FP8A/G65HU/ixPp/iy00+TRltoAkgvLa71XTUuw/Hl7F+2Yx97OeemK2tb8Y6np8Xh910aXTm1PW4dPlh1Axu4idWJdTDKyg/KMZJ78dKFrbz/zsD0v5a/qan2LVv+fey/8AAp//AI3R9i1b/n3sv/Ap/wD43W7RQBzd/YarJp1yjQ2ahomBIuWOOD28up/sWrf8+9l/4FP/APG617z/AI8Z/wDrm38qW6uoLGzmuryVIbeCNpJZXOFRQMkk9gAKG7asN9EY/wBi1b/n3sv/AAKf/wCN0fYtW/597L/wKf8A+N1mv8RLaLTf7Wm0DXI9E2iT+1Gt4/LEZ/5aGPf5wTHOTHwOelWNV8UTWvi7wrp1h9mnstb+0NJNyx2pFvQoQcYOeuDkUAWvsWrf8+9l/wCBT/8Axuj7Fq3/AD72X/gU/wD8brS1KTUIrJm0e1tbq6yNsV1ctAhHf51RyP8Avn8qxvt3jf8A6F7w/wD+D6f/AOQ6AJ/sWrf8+9l/4FP/APG6PsWrf8+9l/4FP/8AG6Z4N8SzeKNKurm6so7Ke0vp7KSOK4MyFom2lgxRCQT6qKm8XeIh4U8Mzau1uLkQywxmMyeX/rJVjzuwcY356dqO3nb8dgGfYtW/597L/wACn/8AjdH2LVv+fey/8Cn/APjdbF1K0FnNKgBaONmAPTIGaxfA2u3PibwHo2t36RR3N9apNKkIIQMRzgEk4+pNG9/L9b/5Btb+v63HfYtW/wCfey/8Cn/+N0fYtW/597L/AMCn/wDjdbvSuJ0bXPFHi/Tm1rQJdH0/TJJJFs47y2kuJblFYrvZlkQRbivA2vgc+1AGz9i1b/n3sv8AwKf/AON0fYtW/wCfey/8Cn/+N1zmpfEW8j+Ft74jtLCK31KxvFsri0uCZEjlFwsUgBUqWHJIPHbI7V2GsancaXbLNbaReapknelpJAhjGM7iZpEGPoTR0v8A1/WoFL7Fq3/PvZf+BT//ABuj7Fq3/PvZf+BT/wDxuuS0L4rXGreINQsk0UXq+Yv2GDT9U02S42BPn81fth53Bsbe3WuitfE17cfEr/hH5bVLe1/sRNRKyDMyStMUKEqxXAA7Z57kU7bef+V/0Dv5f52/Ut/YtW/597L/AMCn/wDjdQPYaqdRhfybPIikAH2luclO/l+3610lQt/x/Rf9c3/mtIDI+xat/wA+9l/4FP8A/G6PsWrf8+9l/wCBT/8Axuptd8S2egvawTR3F3e3rMtpZWib5pyoy2ASAAB1ZiFGRk8iq2m+MLe81xNG1HTr/RtSliM0FtfrH+/RfvFHjd0YjIyobcAc4xRuD0Vx/wBi1b/n3sv/AAKf/wCN0fYtW/597L/wKf8A+N1D4Q8Q3fiCTXlvI4UGm6vNYw+UpG6NApBbJOW+Y9MD2q3qd14livNujaTpN3bbR+8u9Ukt33dxtW3cY9934UdE+/66h1a7EX2LVv8An3sv/Ap//jdH2LVv+fey/wDAp/8A43WLr/i7xT4Y0r+0tW8O6ObVZ4YX+za1K8n7yRUBCm1UHBbPJHSu3o6XAwvsWrf8+9l/4FP/APG6PsWrf8+9l/4FP/8AG6eniIP48m8NfZwDHpqX4n8z726Rk27cdtuc579Kq+KPEV3omteGbO0jhePVtSNpOZFJKp5Uj5XBGDlB1zxnije3n/nb8wel/L/K/wCRP9i1b/n3sv8AwKf/AON0fYtW/wCfey/8Cn/+N1u1V1K7msbF57bT7nUZFIAt7Vo1dsnsZHReOvLCgDM+xat/z72X/gU//wAbo+xat/z72X/gU/8A8brivEPxhuNC8YaTpM/hu9tknLG9juJrMyICMRYZbnZHluP3hGf4cmu+0jVrzUnkF54f1HSQgBVryS2YSZ7DypXP54oWqugejsVvsWrf8+9l/wCBT/8Axuj7Fq3/AD72X/gU/wD8brI8aeOrzwxp96YtDljlVWSzvb69soLSWXHy5L3KPtz14Bqz4U8aT+Jra3kTRLkRsmJr6K7sprZZAuSAYrh2xnpweozSvo32B6F77Fq3/PvZf+BT/wDxuj7Fq3/PvZf+BT//ABuofh94hu/FfgLTNb1GOGO5u0ZpEgUhBh2XgEk9B610dU1Z2A5uzsNVSBgIbNv3shyblh1dj/zzqf7Fq3/PvZf+BT//ABute1/1Lf8AXST/ANDNZF7d+LI72VdN0TRri1B/dyz6xLE7D3QWzAf99GkAfYtW/wCfey/8Cn/+N0fYtW/597L/AMCn/wDjdZV74s8RaNqujW2uaDpccGq3y2SyWeryTPGxVm3bWtkBGEP8Xeun1OXUorMto1pa3dzuGI7u6aBMdzvWNzn22/jR0uHWxm/YtW/597L/AMCn/wDjdH2LVv8An3sv/Ap//jdYOleM/FGr69rGkWnh7Q/tOjyxx3O7XZcEugcbcWmcYOOQOQa19T8RXdl8QtA0KOOA22pW11NM7Al1aIJtCnOMfMc5B7dKO3n/AJXAn+xat/z72X/gU/8A8bo+xat/z72X/gU//wAbrdJwCaxfB/iIeLPCOn64tuLYXse/yRJ5mzkjG7Az09BQAz7Fq3/PvZf+BT//ABuj7Fq3/PvZf+BT/wDxuoPDXiK71nxH4nsLqOFItIvktoDGpDMrQo5LZJycsemOK6SjomHWxhfYtW/597L/AMCn/wDjdH2LVv8An3sv/Ap//jdULnX9Z1Xxdf6D4YNhajS44mvb6+iecB5AWWNIkdCflAJYuMZAwal0LxFqEniTUPDevwQDULO3S7jubVWWG6hclQwRiSjBlIKlm7EE0r6X/r+v+H2AtfYtW/597L/wKf8A+N0fYtW/597L/wACn/8AjdUvBXii/wDEXw2sfEN3Yie9uIndrWxwu8h2UBPMcAcD+JgPeue1P4sT6f4stNPk0ZbaAJILy2u9V01LsPx5exftmMfeznnpiqatLlDpc677Fq3/AD72X/gU/wD8bo+xat/z72X/AIFP/wDG6y9b8Y6np8Xh910aXTm1PW4dPlh1Axu4idWJdTDKyg/KMZJ78dK7Gl0v/XR/qHW39df8jm7yw1V4FBhs1/exnIuWPR1P/POp/sWrf8+9l/4FP/8AG617r/Ur/wBdI/8A0MUXjXSWcrWEMM9yF/dRzymJGb0LBWIHvtP0oAyPsWrf8+9l/wCBT/8Axuj7Fq3/AD72X/gU/wD8bqD7d43/AOhe8P8A/g+n/wDkOk8LeJ73W9V1vTdU063sbrR544ZPs121xHJvjDghmjjIwCB0oAsfYtW/597L/wACn/8AjdH2LVv+fey/8Cn/APjdVPF3iHXfDWm6hqtro+mXem2Fs1xI8+qSQSsFUlgEFu47YHzc+1WfDWr67rNtb3upaXpdpY3Nus8Mlpqb3LncAQCpgQYwTyGP0PWha/1/XYHoO+xat/z72X/gU/8A8bo+xat/z72X/gU//wAbqDwV4iu/Emn6lPfRwxtaardWSCFSAUikKqTknnHXt7CrXiLxEPD8+jRtbiYapqUdhuMmzytyO27oc/cxjjr1o7edvx2Dv5X/AA3GfYtW/wCfey/8Cn/+N0fYtW/597L/AMCn/wDjdL411q58N+BtZ1mxSKS5sLOSeJZgShZVJAIBBx9CK1LCdrrTba4kADzQo7BegJAPFG9/L9b/AOQbW/r+tzK+xat/z72X/gU//wAbo+xat/z72X/gU/8A8brcYlVJCliBkKOp/OvOPHXxQ1Pwr4bkuk8I6la3sjKlqt7JaSLI2RkbIrkyN8uT8oOOp4zSukOx1f2LVv8An3sv/Ap//jdH2LVv+fey/wDAp/8A43VbQPGM3iKO0uLTw1qiWN0NyXxuLJ4QMdf3dwzH04BNXtf1+bQohMNFvr+3CF5Z7ea2jSED+8Zpo/0yKb03EtdiL7Fq3/PvZf8AgU//AMbo+xat/wA+9l/4FP8A/G65bwl8T73X/tMJ0I6hcJcSGMaRqWnTBLfd8hcfayd2CN2OM9K6LQfEV3qnjbxRo9xHCtvpElssDIpDsJId7bjkg89MAcetO39f16ivqT/YtW/597L/AMCn/wDjdYeq6R4un1UtpI0WNBAgcXMsrHO5uhVRXc1Cv/H9L/1zT+bUhSV1Y4H+wfiB/wA9PDX/AH1cf4UV6JRSsR7P+8zDooopmpznjPSLzVtIcW+tXem20MMr3EdmFV7j5cqvmEEoODnbgnPUUvw+Ofhr4bJ/6Bdv/wCi1rY1OF7jSbuGFd0kkDoozjJKkCs/wdYXOleB9E0+/j8q6tbCGGaPcG2uqAEZGQeR2ojtL5fqD6fP9Daqpqv/ACBr3/r3k/8AQTVuqmq/8ga9/wCveT/0E0AdPRRRQAUUUUAFFFFABRRRQAUUUUAFFFFAEN5/x4z/APXNv5VleKotQuNJMNha288bHdOZtXm08oo5yJIo2btyOBjrnpWref8AHjP/ANc2/lTNReaPS7p7QMZ1hcxbV3HdtOMDvz2qZO0Wyo6ux5B/wsnSfCSRf2ZZeBZG1C6jt5pLLxV5shLceZM5ttxUY5ZicVr+G7iK/wBZ8/wnp3g9pYW82aLRfF02z5uC7wxW4Ric/wAQ6+/NV9A1rVLjw9YTeIPE3ju11R4Ea7gh8LZSOTHzKD9gbgH3P1rf8I2unSeLrvVV1LxNqOpTWS27SaxpD2kaxI+4BT9miUtljxknH0rRK0rMz3joW/Fmi383inQvEFnpy6xDpazK+n+aqOGk27Zo95CF12kYYrwxwagi0vUtd+IOleIpdDfQotOt5opXupomuLsSAARkQs67FI3ZL5z0A5NaXj6z1m+8IzQeHWm+1GaJpI7ebyZZYRIplRHyNrFNwByPqOtc0tl8PFULL4DuftQXDGTwtcSS5x3n8ohj/tbz9alP8P6/X+kU9Sz8OPDj2WoeJNSvodStriXX71oo5bmdIZImcbXEJbyzns+3J9a9ArlvAFjrFjol0utfaI45L6WSwtrqXzZra1JHlxu+Tkjk4ycAgZOK6mnskvJfkLdt92/zCiiikMKKKKACiiigAqG8/wCPGf8A65t/KpqhvP8Ajxn/AOubfyoAq67otp4i0K70nUg5truMo5jbay9wynsQQCD6iuXbw9qnifRptIv/ABja6lo24210bKzCXUwU4eKSYSlAT0bbGp6/druK8b8Nfa9JbW4b7V/GWjtJrV5MlvYeHjcRMjSkq6ubOTO4c/exSXxfL/L/ADH0v5/5/wCR1+u6cR8UfBElsLeK3tIL9PLMyIwBiQKEjJDMBjnaDjvipvFmi383inQvEFnpy6xDpazK+n+aqOGk27Zo95CF12kYYrwxwa5a0ju9Q+LPha7hvvE+rW1pDeiebV9FNpHbl41C4b7NCDuII5J6Dp37Tx9Z6zfeEZoPDrTfajNE0kdvN5MssIkUyoj5G1im4A5H1HWq1ST9fzYlbVGbFpepa78QdK8RS6G+hRadbzRSvdTRNcXYkAAjIhZ12KRuyXznoByaq/Djw49lqHiTUr6HUra4l1+9aKOW5nSGSJnG1xCW8s57PtyfWqy2Xw8VQsvgO5+1BcMZPC1xJLnHefyiGP8Atbz9a6DwBY6xY6JdLrX2iOOS+lksLa6l82a2tSR5cbvk5I5OMnAIGTihaP5P81/X3ie3z/RnU0UUUhhRRRQAUUUUAFFFFAEN5/x4z/8AXNv5Vj+OdDuPEvgXV9HsnRLi7tmSIyH5S3UBvYkYPsa2Lz/jxn/65t/Kq+qxarNbKuh3tnZz78s95ZvcKVx0CrLGQc45yfpSeqsNOzucdc+P1n0uXQ4NA1NvE72fOjG0dVXd8m4zY8ryt2RvDHgcDPFZcWhy+GvEHwr0W4mE8thb3cDyL0ZltgDjPbPT2rZXwf4sXxi/iUeJdF+2PYCwMf8AYcvl+WJC+cfa87sn1xjtVLV4tVh+JngVdcvbO8n86/KvZ2j26hfs44KtJISc55yPp60u/V/pe35ktW0WyWn3K/5Gx4s0W/m8U6F4gs9OXWIdLWZX0/zVRw0m3bNHvIQuu0jDFeGODUEWl6lrvxB0rxFLob6FFp1vNFK91NE1xdiQACMiFnXYpG7JfOegHJrS8fWes33hGaDw6032ozRNJHbzeTLLCJFMqI+RtYpuAOR9R1rmlsvh4qhZfAdz9qC4YyeFriSXOO8/lEMf9refrST/AA/r9f6Q3qWfhx4cey1DxJqV9DqVtcS6/etFHLczpDJEzja4hLeWc9n25PrXoFct4AsdYsdEul1r7RHHJfSyWFtdS+bNbWpI8uN3yckcnGTgEDJxXU09kl5L8hbtvu3+ZyesaK1h4m/trRtftdGv9UEdrLBfQiaC8ZQxTCb428wDI+VuQOQcVc0Pwy2m6pf6zqd9/aOr3yJFLOIvKjjjTO2ONMkquWJ5ZiSeSeKwPita3c6+F5rQaki2utJNNcaZZm5lt0EUg3hBG+eSBypHNVTqnyn/AIq/4gdP+hV/+91R9h/P8l/mU91/X9bGr8KbGaz+Euj2cssXmrDIpkt50mUEyPyHQlT17E1n+G7LV/C/hBPDFx4Kk1No0aOS6gubb7Lesc5kk8xxIC3Vv3bYzxurR+EVjd6b8KNDtNRtp7W5jicSQ3ERjkX94x5UgEcHPSsi+0yBfGOtXHj/AEO81zT5pEOlutm9/bQxbFBT7OgYq+8MSxTnI+bjA0n8cl3/AK/r/hhJ+6mUtW8FahZ+BvAnh+4W5u2stbgN0+nySj7PFiU/LIuHVEDBQ/HAHSvULK0jsLOK1gaZo4l2q087zOR7u5LMfck15yNMtJ9b0ZvhxoV3oJhvUk1C5GmyadbtbDO+N4nVPNLcBcKcHnI7+m0r6Pzf6L+vvF1Xkv1f9fcFQ3n/AB4z/wDXNv5VNUN5/wAeM/8A1zb+VIZj+OdDuPEvgXV9HsnRLi7tmSIyH5S3UBvYkYPsa5658frPpcuhwaBqbeJ3s+dGNo6qu75Nxmx5XlbsjeGPA4GeK7HVYtVmtlXQ72zs59+We8s3uFK46BVljIOcc5P0rk18H+LF8Yv4lHiXRftj2AsDH/Ycvl+WJC+cfa87sn1xjtU2vo9n/wAEd7ardf5oxotDl8NeIPhXotxMJ5bC3u4HkXozLbAHGe2entXSeLNFv5vFOheILPTl1iHS1mV9P81UcNJt2zR7yELrtIwxXhjg1j6vFqsPxM8Crrl7Z3k/nX5V7O0e3UL9nHBVpJCTnPOR9PXo/H1nrN94Rmg8OtN9qM0TSR283kyywiRTKiPkbWKbgDkfUdatybfN5/mTFJe75GbFpepa78QdK8RS6G+hRadbzRSvdTRNcXYkAAjIhZ12KRuyXznoByaq/Djw49lqHiTUr6HUra4l1+9aKOW5nSGSJnG1xCW8s57PtyfWqy2Xw8VQsvgO5+1BcMZPC1xJLnHefyiGP+1vP1roPAFjrFjol0utfaI45L6WSwtrqXzZra1JHlxu+Tkjk4ycAgZOKFo/k/zX9feD2+f6M6mvMPE1xHYawZ/Fen+EVadt8MWteLphGwXADJBJbmNSMA/KOD3zzXp9cF4z1PWrXxrpltBfa7p+iSWUz3E+j6SLxvPDoEVv3Eu3Kluw6VPVf15ldGcofiRpHixZ49UsfAa/2ddPBC994pCNlQP3sDfZshTnhlIPBr0nwxBqMeiNBeW9vaxEZtpLfV5tRLBsnd5k0atjkYGSMdMAVxmpta6xpd1puo+KviBNaXcTQzR/8IuV3owwRkaeCOD2Nej6SkMei2Udp53kJbosf2iNo5NoUAblYAq2OoIBB7Cna8Xf+u4r6o4bw3Zav4X8IJ4YuPBUmptGjRyXUFzbfZb1jnMknmOJAW6t+7bGeN1ZmreCtQs/A3gTw/cLc3bWWtwG6fT5JR9nixKflkXDqiBgofjgDpV2+0yBfGOtXHj/AEO81zT5pEOlutm9/bQxbFBT7OgYq+8MSxTnI+bjAYNMtJ9b0ZvhxoV3oJhvUk1C5GmyadbtbDO+N4nVPNLcBcKcHnI7tO7TfdP8ev6/gJ6J+j/FdP0/E9GsrSOws4rWBpmjiXarTzvM5Hu7ksx9yTU9FFIZDef8eM//AFzb+VY/jnQ7jxL4F1fR7J0S4u7ZkiMh+Ut1Ab2JGD7Gti8/48Z/+ubfyqvqsWqzWyrod7Z2c+/LPeWb3ClcdAqyxkHOOcn6UnqrDTs7nHXPj9Z9Ll0ODQNTbxO9nzoxtHVV3fJuM2PK8rdkbwx4HAzxWXFocvhrxB8K9FuJhPLYW93A8i9GZbYA4z2z09q2V8H+LF8Yv4lHiXRftj2AsDH/AGHL5fliQvnH2vO7J9cY7VS1eLVYfiZ4FXXL2zvJ/Ovyr2do9uoX7OOCrSSEnOecj6etLv1f6Xt+ZLVtFslp9yv+R12p2viaW9LaPq+k2trgYjutKlncHud63CD8Ntcuur+N2+IUnhf+1/D/AMmlrqH2n+xZ+cymPZt+1+2c5/Cu11TR9M1yz+ya1p1pqNtuD+TdwLKm4dDtYEZ561j/APCuPBH/AEJvh/8A8FcH/wATSW43sVfB/hXXPDDTw3Otabe2dxdz3kqRaW8MhklYscOZ2AAJ6FScDGe9Zviiy/4WZfS+F4hcQ6FZSk6peKGjMsyg7IIiRztba7MOBtVecnD/AIQ28Np4c1i2tIY4IIdfv0jiiUKqKJSAABwAB2q14+vNR0/UvC11Yrqb2cWqE6gunQTTEw+TJ99IgSy7tvYjOKWj5b7afja33BqnLvr+F7/eZ1joH9r6feWPxE8L6fqWq6VbeVDrU9nFKl7FhtjqWBZH6lk6AnI4YVp/CP8A5JB4Y/7B0X8qtyeONGlieOSy8QFHUqw/4RzUOQf+2FaPhiDTLXwzZW2g21xaadBH5VvBcwzRSIqnGCswDjp/F161Svrfrb9f8xO2nz/T/I1a4mx0C/0O7uNE8K+KrG2tzuul068sxcz2iSOSTGVlQhNxbbvV8HjJAxXbV5b4iiu7T4xXOoNd+ItMs5NFhhW70fSDeCRxNISjH7PMBgEHoDzU/aX9dLldG/63t+pa8beEodH+DN7o2lyq7tcQzS3N9cRxGeRrpHeR5GKruJz6dgOwrpfHugXXiXwfc6ZYmIyvJFIYZnKx3CpIrtExAJCuFKk4PWvOPHRu9Y8IXFjp2teN9XuJJoCtldeGzFHIBMjHc4skIwAT94dPwr2a4ErW0ot2VJihEbMMgNjgn8ab+G/n+iFHexwPiSx1fxl4fh0OLwjNo8iTQvHfXlxb+XZ7HDb4fKd3LDbhRtQHPJHIp194cfVPjh9tuotSjsotAjVLm2uJ7eNpRcMdjPGyhuDnYSRjnFY+h6X4ftNFt4fiJ4RvtR19V/0u7u9Gm1XzpO7pKiSBUPZflwMDaMVu+EtOuIvGd1d6HY3ekeFjZCMWVzGYVlud+fMihb5ogF4OQu4kccZprSS+f5W/4Yl/C16fmju6hb/j+i/65v8AzWpqhb/j+i/65v8AzWkUcl4jtr3SvH+meKYrCbULCKxmsbtLaMyTW4Z1dZVQcsMrtYLluQQDWd/aC/EbxT4a1Lw7Bcf2JpM8l6+qTwPAs7GNohFErgM3LEs2Ao24yTXUajaeKpb2RtL1nR7a0ONkVzpEs0i8c5dblAec/wAI/rWF4Y8IeLPCnhuz0TT/ABLosttaKVRp9DlLkFi3JF2B1J7UR6X6bfe3+eoS1v5/8N+Wg34cCQ/8JmIWVJD4ju9jOu4A7UwSMjI9sj61rGy8bgE/8JD4f/8ABDP/APJlZfwyz5vjDPX/AISW6/8AQUrf1Lwb4X1m9a81fw3pF/dOAGnurGKV2AGACzKTwKWvJG38q/JB9qXq/wA2cJptt4t+Kvw4sLzUNZ0SxhvZEuDDFo0rlTFNuA3G6wQTGM8dCfrXetqFx4f8PXF/4rv7e4+z5d5rGxkjG3gACPfIxbPoecjiuD+KHgvwtpHgdr3SfDWj2N1HfWeye2sIo3XNzGDhlUEcEivVKrdO3f8AyDrqeWN4d8UzaofiJZQmPXWOxNDnl2rJp+Bi3Y9FmJzJnoGO05AzUeuaDoFj4i+H2p6L4ZtNDuLvVsyKljHbzKDbSnY+wdc4yM9RWvpPiO50Xxh4si1+DX5LeS/jbTzHpV5dRCLyEB8to42UDfu4B65rSuNb8N6/qmlm603XJLmzuhLZvLoeoQrFKVKbixiCgYYjLcDOT0zSj9lryf5Nr+uvqEvtJ+a/Rf12Ourl/Gy3jWKv9msG063BmuJ7vX59MEeMj5jFGwZMHncQPbjNdRWB46utXsfAesXPhtZm1WK1ZrUQQ+a5fthMHcfbBqZbXKjq7HnC/EvSdCmtNDsNP8Ai11Iy+a1r4mU26ELuJnP2b+LoCc5NdD4KYT6gLnwzp/hkWMZ8qcaL4pmuIYAeeLdYBFu44+6evIyagh1VzChm8XeP1kKjeB4V4Bxz/wAw+tzwLZadBeazeWd5r17d38sct3PrOmvaFiE2LsBgiUjC84B7Z61otzPoR6tpWpaf8RR4nt9HbXYG09bNIoZo0ns2DszMglZUIcMAfmB+UdadoejahP49v/FFxpQ0WG5sEtDavKjzXLhy3myiMsgKg7RhmJBOccCn/EGw1S+tNLFjDd3enRXofVLOym8qa4g2MMA7lyAxUlQRuAxz0OK9n8PirCy8CXQu8fKbbwxcW0pb2nMSBTn+LePXPes38Ppf8f8Ah2VLV+tvw/4YtfBzw4+h/D3THvIdStr+SJxPbXlzPtj/AHjEYhdtsfGPuqM139YHgez1uw8F6dbeKLhrjVEjPnM8gkYAsSqs44Zgu0Fu5BNb9aS+JiRSdLuTTZl06aGC6LyeXJPCZUU7zyUDKT9Nwrl/EE/jfQvDWp6t/bfh+f7BaS3Plf2HOvmbELbc/azjOMZwa6+1/wBS3/XST/0M1j3fgTwjf3kt3feFdEubmZi8s02nQu7sepLFck+5qGn0KTSepzH9g+LfGOneHNZu9f0SBrZ4tThij0SUgO0RG1ibrkASHpg5ArqtSl8SWfhtV02Gx1PWmIj8wg21uhJ/1jKWdtqjqoYk9iM8cX4w8J+HdC8R+CbnQ9A0vTZ31+NGls7OOFmXypTglQDjIHHtXp9U7NO21/0X/DEq6avq7fqzzR/hteeH4BqmgyR6zqtwjrrdtqOBFrauSzBuCEYEkJwVA+U8HNTN4PsNG+LPhi88P+G7XTbYWV6t3LYWSxxqxEewOyKBn72M++K6E/DnwQSSfB2gEnqTpcP/AMTXMXPhzRPD/wAavCg0HRtP0wTWN/5v2K1SHzMCLGdoGcZPX1pR+JL1/Jja0f8AXVHReMNYvNo8N+HUdtb1KIhJvLPl2UR+Vrh2xj5f4VzlmwOmSOd0fwWPDd1F4R1HRI/EfhCeQzafJdRJcHTpdpLJIr9UPzFXHILFT1FdT8QP7R/4V3r39h/av7R+wS/Zvse7zvM2nbs287s9Mc1VsPHOnR6bbJdWniEzrCgk3eHdQJ3YGcnyeeaUev8AXf8AK33+WgS6f12/P8vvMn4a6fZ6X4q8dWWmWkFnaxatEI4LeMRog+zRHhQABySa9CrnvDMmiXF9qt3otlqFtPeTJPePe2F1bea+0IConVQflQDC9OM9eehp62SfZfkLq/V/mcnrGitYeJv7a0bX7XRr/VBHaywX0ImgvGUMUwm+NvMAyPlbkDkHFXND8MtpuqX+s6nff2jq98iRSziLyo440ztjjTJKrlieWYknknisD4rWt3Ovhea0GpItrrSTTXGmWZuZbdBFIN4QRvnkgcqRzVU6p8p/4q/4gdP+hV/+91T9h/P8l/mU91/X9bGr8KbGaz+Euj2cssXmrDIpkt50mUEyPyHQlT17E1n+G7LV/C/hBPDFx4Kk1No0aOS6gubb7Lesc5kk8xxIC3Vv3bYzxurR+EVjd6b8KNDtNRtp7W5jicSQ3ERjkX94x5UgEcHPSsi+0yBfGOtXHj/Q7zXNPmkQ6W62b39tDFsUFPs6Bir7wxLFOcj5uMDSfxyXf+v6/wCGEn7qZS1bwVqFn4G8CeH7hbm7ay1uA3T6fJKPs8WJT8si4dUQMFD8cAdK9QsrSOws4rWBpmjiXarTzvM5Hu7ksx9yTXnI0y0n1vRm+HGhXegmG9STULkabJp1u1sM743idU80twFwpwecjv6bSvo/N/ov6+8XVeS/V/19xDdf6lf+ukf/AKGKoatb+IJpozoWp6bZxhf3i3mnSXJY+oKzx4Htg/Wr91/qV/66R/8AoYpt9YWeqWUlnqVpBeWsoxJBcRiRHGc4KnIPNSM4bVNX8b6b4y0LQf7X8Pyf2uly3n/2LOPJ8lVb7v2v5s7vUYx3q/oPhTxHo3iPUtTm1/SbhdVuY57yJNHkjY7I1QKjfaTt4XuG5J+lXv8AhXHgj/oTfD//AIK4P/iawfh3p1lpPjjx3ZaXZ29laxX1t5cFtEsaJm2UnCqABySacd/l+q/4H3A9jT8TaFqvi/VU0e+jS18LxFJrthJmXUWByIcD7kQIG4nluAMDJrP0vwClrfjRNb0bStf8N26vJpdxfwpLPYAkZt9rKdyf3WBGAuD0BPZaroul67ara63ptnqNurh1hvIFlQMAQGwwIzgnn3rI/wCFceCP+hN8P/8Agrg/+JpLT+v6/r1YPX+v6/r5Gb8LNJk0Xw/qtpJYNp8Q1q9aCEwmJREZTsKrgfLjpjjHSsnWtJufireefYXNzpelaOzPpl7sKtcX4I2zBCATFHgrz98s2OACb/wht4bTw5rFtaQxwQQ6/fpHFEoVUUSkAADgADtU3ibVL7SPiVoNy8eryaN9guluRY2dxcx+aWj8vekStzjdgketG/L6L/0n+vmPZy9X+f8AXyOZ8Y6Ta618KfFOreK/BunWXiWzsZUmvDaxyea6R/LLDKRuK4xjOCv3eor1DRv+QFYf9e0f/oIrnNV8UeHNb0i60zVNN8QT2d3E0M8X/CPaiu9GGCMrCCPwNdRYNC+m2zWiSRwGJfLSWNo3VccAq4DKcdmAI71S6/L9f8ye3z/Qr64l/NpEsOl20NzNKNhSW+ks8KeCRLGjMp9MAH3FeTXfjzS/A9vealb2Hgq4v4AIphD4sa4vpPmxsLPb72wSSQW4wa9prybR9a1qe2uG8S+IPGun3q3k6C3svDIkiWISsIyrfYnzlApzuNT1K6C6fqNpruveboFl4Jk1SRvPcaR4xljlmK85kENsDIPXdkY4PFdX410LUdc0/Rp4rO3vJNOvo7y40x5sR3OEYbA5UAlWYMu4AEqM47ZOiW+nX3jXTtSudY8Xalf2sU0VsNT0J7WBA4BfLi0iAPyDG5uvA611viq31W68I6pB4cmEGqyWsi2khONshU7Tnsc9+1N+7FNdNfuFHWVn6fec1qlhqvi7W9AnPhyfRP7Jvlu3vb6eAyhACDFGIXkyHzhtxUY7E4qLQPDjyfFvxfq17DqUCedZtaSLczwwT4twG+VWCS4PHIbBqjZWHgeGzgj13wNfPqSoPOe+8PT6hMX7k3KxyBucnO8/hW54EsNRtNQ1qbyLqx0CeSL+ytPvG/eQgJiRgpJMaM2MIeRgnC5xTWjdv62/yJ31/rqdlUK/8f0v/XNP5tU1Qr/x/S/9c0/m1IomooooAwDKo7P/AN8H/CmmdB2k/wC/bf4VLRQBCbqMfwy/9+X/AMKabyIfwzf9+H/wqxRQBWN/CP4Lj/wGk/8AiaqanfwtpN2oS4y0DgZtpAPunuVwK1Kqar/yBr3/AK95P/QTQB0P2qP+7L/35f8Awo+1R/3Zf+/L/wCFTUUAQ/ao/wC7L/35f/Cj7VH/AHZf+/L/AOFTUUAQ/ao/7sv/AH5f/Cj7VH/dl/78v/hU1FAEP2qP+7L/AN+X/wAKPtUf92X/AL8v/hU1FAEP2qP+7L/35f8Awo+1R/3Zf+/L/wCFTEhVJY4A5JPauStvH0epQPeaF4d1rV9NVmVb+1jgWOTacEoskqu4BB5VTnHGaAOn+1R/3Zf+/L/4Ufao/wC7L/35f/CsKTx1ow0XSNVtnmurTVr2OygaKPBWR2K/OrEFcFSCOoI6V0dAFS6uUazmAWXJjYcxMO30qX7VH/dl/wC/L/4UXn/HjP8A9c2/lU1AEP2qP+7L/wB+X/wo+1R/3Zf+/L/4VNRQBD9qj/uy/wDfl/8ACj7VH/dl/wC/L/4VNRQBD9qj/uy/9+X/AMKPtUf92X/vy/8AhU1FAEP2qP8Auy/9+X/wo+1R/wB2X/vy/wDhU1FAEP2qP+7L/wB+X/wo+1R/3Zf+/L/4VNRQBD9qj/uy/wDfl/8ACj7VH/dl/wC/L/4VNRQBD9qj/uy/9+X/AMKiurlGs5gFlyY2HMTDt9Kt1Def8eM//XNv5UAH2qP+7L/35f8Awo+1R/3Zf+/L/wCFTUUAQ/ao/wC7L/35f/Cj7VH/AHZf+/L/AOFTUUAQ/ao/7sv/AH5f/Cj7VH/dl/78v/hU1FAEP2qP+7L/AN+X/wAKPtUf92X/AL8v/hU1FAEP2qP+7L/35f8Awo+1R/3Zf+/L/wCFTUUAQ/ao/wC7L/35f/Cj7VH/AHZf+/L/AOFTUUAQ/ao/7sv/AH5f/Cj7VH/dl/78v/hU1FAFS6uUazmAWXJjYcxMO30qX7VH/dl/78v/AIUXn/HjP/1zb+VTUAQ/ao/7sv8A35f/AAo+1R/3Zf8Avy/+FTUUAQ/ao/7sv/fl/wDCj7VH/dl/78v/AIVNRQBD9qj/ALsv/fl/8KPtUf8Adl/78v8A4VNRQBD9qj/uy/8Afl/8KPtUf92X/vy/+FTUUAQ/ao/7sv8A35f/AAo+1R/3Zf8Avy/+FTUUAQ/ao/7sv/fl/wDCj7VH/dl/78v/AIVNRQBD9qj/ALsv/fl/8KiurlGs5gFlyY2HMTDt9Kt1Def8eM//AFzb+VAB9qj/ALsv/fl/8KPtUf8Adl/78v8A4VNRQBD9qj/uy/8Afl/8KPtUf92X/vy/+FTUUAQ/ao/7sv8A35f/AAo+1R/3Zf8Avy/+FTUUAQ/ao/7sv/fl/wDCj7VH/dl/78v/AIVNRQBD9qj/ALsv/fl/8KPtUf8Adl/78v8A4VNRQBD9qj/uy/8Afl/8KPtUf92X/vy/+FTUUAQ/ao/7sv8A35f/AAo+1R/3Zf8Avy/+FTUUAVLq5RrOYBZcmNhzEw7fSpftUf8Adl/78v8A4UXn/HjP/wBc2/lU1AEP2qP+7L/35f8Awo+1R/3Zf+/L/wCFTUUAQ/ao/wC7L/35f/Cj7VH/AHZf+/L/AOFTUUAQ/ao/7sv/AH5f/Cj7VH/dl/78v/hU1FAEP2qP+7L/AN+X/wAKPtUf92X/AL8v/hU1FAEP2qP+7L/35f8Awo+1R/3Zf+/L/wCFTUUAQ/ao/wC7L/35f/Cj7VH/AHZf+/L/AOFTUUAQ/ao/7sv/AH5f/Cj7VH/dl/78v/hU1FAEP2qP+7L/AN+X/wAKia5T7ZGdsuBG4/1Teq+1W6hb/j+i/wCub/zWgA+1R/3Zf+/L/wCFH2qP+7L/AN+X/wAKmooAh+1R/wB2X/vy/wDhR9qj/uy/9+X/AMKmooAh+1R/3Zf+/L/4Ufao/wC7L/35f/CpqKAIftUf92X/AL8v/hR9qj/uy/8Afl/8KmooAh+1R/3Zf+/L/wCFH2qP+7L/AN+X/wAKmooAh+1R/wB2X/vy/wDhR9qj/uy/9+X/AMKmooAh+1R/3Zf+/L/4Ufao/wC7L/35f/CpqKAIftUf92X/AL8v/hR9qj/uy/8Afl/8KmooAqW1ygiOVl/1jniJj/EfapftUf8Adl/78v8A4UWv+pb/AK6Sf+hmpqAIftUf92X/AL8v/hR9qj/uy/8Afl/8KmooAh+1R/3Zf+/L/wCFH2qP+7L/AN+X/wAKmooAh+1R/wB2X/vy/wDhR9qj/uy/9+X/AMKmooAh+1R/3Zf+/L/4Ufao/wC7L/35f/CpqKAIftUf92X/AL8v/hR9qj/uy/8Afl/8KmooAh+1R/3Zf+/L/wCFH2qP+7L/AN+X/wAKmooAh+1R/wB2X/vy/wDhR9qj/uy/9+X/AMKmooAqXNyhiGFl/wBYh5iYfxD2qX7VH/dl/wC/L/4UXX+pX/rpH/6GKmoAh+1R/wB2X/vy/wDhR9qj/uy/9+X/AMKmooAh+1R/3Zf+/L/4Ufao/wC7L/35f/CpqKAIftUf92X/AL8v/hR9qj/uy/8Afl/8KmooAh+1R/3Zf+/L/wCFH2qP+7L/AN+X/wAKmooAh+1R/wB2X/vy/wDhR9qj/uy/9+X/AMKmooAh+1R/3Zf+/L/4Ufao/wC7L/35f/CpqKAIftUf92X/AL8v/hR9qj/uy/8Afl/8KmooAh+1R/3Zf+/L/wCFRLcp9skO2XBjQf6pvVvardQr/wAf0v8A1zT+bUAH2qP+7L/35f8AwoqaigDDooooA57xPZ+KNRMFp4Y1S30WMgtPfyW4uJAQRtRI2wvPOSTxxgVR8BarrV2NY0vxFdQahdaRe/Zv7Qt4xGtwCivyo4VhuwQOKyviL4907w/rVjoWqazJodtdQNcXF9FC8kpQNtEce1W2sxyS5HAHHJBGv8P/ABD4P1fSpbPwLdCe2sSPO/dSq258ncxkUFmJBJPJJ60R1Ta/rX8OwS0sn/Wn9M62qmq/8ga9/wCveT/0E1bqpqv/ACBr3/r3k/8AQTQBc8U+GYfFmmx6dfXl3b2Xmh7mK1lMRuVAI8tmHIUkgkDGcVw3hbw7pvgv4vvofglp4tJbSmuNUsDO80VtLvUQsCxJV2G/jPIGcdK0/i144j8H6XpdtJqf9kDVrowS6iITK1rCqlndEAOX+6o4IBbPaq/w78cfDW4uF8OeCNVa5vbkvNIZbe4825cDLSSSyINzYHUn2HpSje7cfP8AL8luEtkn/Wv67GH4f+HmlfFDw/N4w8TXF9Nq2pTTvp1xHdyJ/ZsQkZYliVSF4CgnIOSTXQeG7KX4k/CfRovEWoXa7WaLURaymI3piZ4iruOdrFdxwRmuc8K/ETTfht4dfwZ4mt79Nc0yaaKxtYrORzqSF2aJoiqleQwHJHNJqOuz/C74U+GNI1fUBod5q07/AG69ERmayDlppSiqGy4LhAcEAnPaj3babaf8D/g/iN35r9dfu6/8D8DV8K+HNN8GfGB9C8EtPFpLaU0+qWBneaK2lLqIWBYkq7DfxnkDOOlL480bUbXxZ4Y1S98Q313HP4ltooLABYreCMh2wVUZkbKj5mJ9gKtfDrxz8NZ7pPDvgjVWub24LzyGW3uPNuXAy0kksiDc2B1J9h6Vf+Jv/H14L/7Ge1/9AkqldSh6r/0r+kRo4z9H/wCk/wBM7qvLPjRo2ov4W1DV5PEN8lnC9qsGmW4WKLJmjVjIwG6TIJ+UnaPSvQtT1/TdHvNOtdRufJm1Of7PaL5bN5kmCduQCBwDycCuW+M3/JKdT/67Wv8A6UxUl8Sfmv0KfY7HUZpLfT5pYrKe/cLxbW7IryZ4wC7Kv5sK8ptLvxN4SfTPC2jQalbWt55o0+C+sLS5ngRBvZBKt6q4UH5dyt2BzivX68vu76817xRqMujjxfdPo97JaCS0g0YR28m1SyxNcDzMFWXk9aS+L+v66j6HP3WreHoNK8L+G9KuQl7Z+KLdpbe5v7Wa5lcyuZJGWCR8fOTkELjOMDpXuFeV3Vj4yvtU0YLa+JLiGHU4Jrn+3I9FeGOJT8zr5Pzhx2K8jmvVKpfD8/0RL+L5fqyG8/48Z/8Arm38qmqG8/48Z/8Arm38qmpDMTxLol9rtvDb2mvXmj24Zjc/YVUSzrjhRIQTHz3Xn3FYHwdaV/g5obBy8zQynfIS2W81+Sep5ruW+6fpXnHw1hvbn9nyxg0qTyr6WwuEtnzjbIWkCnPbnFS9Iyt5fqNK8keQXUvhCDS7iO91DVG+La3LQrcR3cgb7UZMKFk3eSIuQME5C5HWvqG0WdbGBbxle4EaiVlGAz45I/GvC7bxz4RtPhMfAlxol4PEQsDaPoH9nSGWS5K437gu05f59+c9+tereGb46XpegeG9duzJr50tZJVAZ9/lqiyMXxj7zAZJGSeK00s0v+A99vu1+RD1d/X16b/p8zzv4g+EPh3FNrN42pyt44cPLaeRqkj3yzsC0SRwK+ccgAbeF7967XUPh9o/jnw3oa/EPTft9/Z2q7/9Ikj2Ssi+Z/q2AOSvv04rifFvjH4Ua3PqVpqGiNeeKPmiFtFo8gv3lX5UCyqnXgYO/piu4sNT1Pwn8GotT8Vu0up6bpPnXRkO5mkVM7WIPLZwCc8nvWd0qbb2Vv12/X5Gju6iS31/Tf8AT5nHeCvht4Ts/i7ean4V0r7FY+HYzaeYLmWTz7x1+f77HiNGC4H8Tn0pvx11W51vw3rPhrRpSkWm2X2/WLheQijmG3/3nPzH0Vf9qu08C6LfaN8LLO3tjENYubVruWScfK13MDIzPjkje2PoK8p8ReGvid4X+E/iK21FvCE1jcQy3GpXUTXTXlyzcs+SApbsOAAAAABRVTUXF9F+P+V9fuXcKbTakur/AA/4b8bs950b/kBWH/XtH/6CK898feE/hjd67PqHjvUkTVpYle2SbVXjlhUDavkQqwJ+ZSeFbLZ69K6PwtrF7pvhzQbTxpNYR6tqJ8m1TTUlaOQBC6j5gSCEUkk4GR9K5fxr4z+FT69daX4502GfVrdfJRLrR3mlkTqPKkCHg5OMMOSelXW1m/n/AF6kUtIL0X9ehXlu/Etr8E/DGk6he3tlretXdvpjXchxcwxu7Hcc8iTylxzyCfWi/wDA+k/C3xB4c1vwf9pso7vU4tO1O3e5klS7SbKh2DMfnV8EEY6mqP8AZXiS3+Dei6nNp+oS3Oh60uq2+mz5e6FksjBYmySd4ifODkjAHatG88Z6V8Vdb8P6T4O+03tvZalFqOp3TW0kSWiw5ZY2LgZdn2jAz0PanvO/XmV/TS/6/O4n8Nuln9+u34WMXxtrfhLXfGuqr8TNbe18NaTKthZ6ZHJKBeXGxXlldYvnbZvVR2H4nPpvhK30C28AxR+D7o3Wi+VIbRvPaYKuT8gZiTgHIweRjFcHH4i0D4WfEPxS/jSKSyTW7lbyx1P7M8yToUAaHKKdrKwJx3BB9K3fhdZSQ+Fdf1BdPl0yx1bUrm8sLKWPy2igZVVTs/h3bS2Pepp/D8r/AD0uvXf0tbYqfxfP8O/5ff3PRaxPEuiX2u28Nvaa9eaPbhmNz9hVRLOuOFEhBMfPdefcVt0jfdP0qJ/Cxrc4P4SXa2vwT0i8u5GZYreaWV2OSQJHJJJ6mvMLG7+HHiOe31T4reImk8S6qRdW1v8Aa5449Kjf5okQx/IhClWy568/X0n4WWf9o/AbTLINtNzZzxbvTc8gz+tcJp/jLw1onwpk+Huq6Lc/8JRHavZNogsHka6nwQsqtt2kMcMGzkDp0FaTbVSTtdrbv1vb8AivdS2XX9L/AInvkS7IkUMXAUDcxyT7k14z8QfCHw7im1m8bU5W8cOHltPI1SR75Z2BaJI4FfOOQANvC9+9eheFZ49C0fw94V1S6Z9aTSkZo9rNkRKiOxYDAAZgOTz2zXnni3xj8KNbn1K01DRGvPFHzRC2i0eQX7yr8qBZVTrwMHf0xU1FaTtrvtv8gpv3Vfy9PmdtqHw+0fxz4b0NfiHpv2+/s7Vd/wDpEkeyVkXzP9WwByV9+nFch4L+G3hSz+Ll5qnhTSfsVl4djNqJBcyyefeOvz/fY8IjBeP4nPpXY2Gp6n4T+DUWp+K3aXU9N0nzroyHczSKmdrEHls4BOeT3qx8NtGfRPh7pUNzzeXEX2u8cjl55T5khPryxH0Aq3pOTXTt53/4P4Ga1pxT6/p/S/E818OeDvDPxB8I33jDxpf3A1wXFz514dQeI6OUdgqKAwVQgAPI5znvXofwp1+58TfC/RtTv5/tNy8TRSz/APPVo3ZN/wBTtz+Ned+L774TzeML6RPC0ur+N4JmSPTY7OcGeYHCu6jETKThixzlTnnpXofg22tvAng/w34d1edU1K73RhI0LCS4YNNIAVGAB8/JwMClH4fu9Ou39dr3Lmve+/7v6/XYreKPhd4Y8Taheav4zmu71VXdCJb14YbBFXkoFYAdCxZs/kK5i1l8Q3v7N9xJaajdtIvmeRevJ5dzLYLOcMHbGHMAOCcZ49c1Q8S/EfwZqPj7VdK8f661rpOj3CwQaSlvM8d5IAC0k5jUh1DHaIycfLkg8VueNNe0/wAd/DW11XwgkmvaLZ6tA+oWkFu6tcW8TBpIxGwBbGVO3GDioWsbrZ29LX3f6+W/lT0lruvv22X9b7HI+C5vA8vxH8Px/Bu7vo5WMkutrJNMIpbcIc71mPzSbyuNgIGSfSneNm+GV18a9cj+KTKPLtLOKxDG5UZKszkmHgfeX7xrc1XxpoXxG13wvZfD6Oe81HT9UiuJrsWckK6fbqD5qs7KPvL8u0cH8q6fxJ8XfBfh/VL3QvEc1zFex4T7G9hLJ9qDKCNhClWBzjkjkGreqXq/6X3+fUldfRfn1+78jf0DTtD0rwRBaeFBENHW3ZrXypjKpVstkOSSeSe9b1cF8L9LvNK+GbpfWLaaLie6urfT3Xa1pDI7MkZX+EgHp2ziu9py3JjsYniXRL7XbeG3tNevNHtwzG5+wqolnXHCiQgmPnuvPuK534SXa2vwT0i8u5GZYreaWV2OSQJHJJJ6mu8b7p+lee/Cyz/tH4DaZZBtpubOeLd6bnkGf1rN3UJ8u+n6lxs5K55tY3fw48Rz2+qfFbxE0niXVSLq2t/tc8celRv80SIY/kQhSrZc9efr9FRLsiRQxcBQNzHJPuTXgen+MvDWifCmT4e6rotz/wAJRHavZNogsHka6nwQsqtt2kMcMGzkDp0FeseFZ49C0fw94V1S6Z9aTSkZo9rNkRKiOxYDAAZgOTz2zWmmqjt089/yS1/Elt3Tlv18tvz6fgee/EHwh8O4ptZvG1OVvHDh5bTyNUke+WdgWiSOBXzjkADbwvfvXa6h8PtH8c+G9DX4h6b9vv7O1Xf/AKRJHslZF8z/AFbAHJX36cVxPi3xj8KNbn1K01DRGvPFHzRC2i0eQX7yr8qBZVTrwMHf0xXcWGp6n4T+DUWp+K3aXU9N0nzroyHczSKmdrEHls4BOeT3rO6VNt7K367fr8i3d1Elvr+m/wCnzOO8F/DbwpZ/Fy81TwppP2Ky8Oxm1EguZZPPvHX5/vseERgvH8Tn0rO8OeDvDPxB8I33jDxpf3A1wXFz514dQeI6OUdgqKAwVQgAPI5znvXpXw20Z9E+HulQ3PN5cRfa7xyOXnlPmSE+vLEfQCvNPF998J5vGF9InhaXV/G8EzJHpsdnODPMDhXdRiJlJwxY5ypzz0pzTXuPdL5362/rsTG0lzLZv8Ol/wCt7nonwp1+58TfC/RtTv5/tNy8TRSz/wDPVo3ZN/1O3P41V8UfC7wx4m1C81fxnNd3qqu6ES3rww2CKvJQKwA6FizZ/IVZ8G21t4E8H+G/DurzqmpXe6MJGhYSXDBppACowAPn5OBgVwHiX4j+DNR8farpXj/XWtdJ0e4WCDSUt5njvJAAWknMakOoY7RGTj5ckHiqqWc3bz/r+vwQR0j5f1b+vIv2sviG9/ZvuJLTUbtpF8zyL15PLuZbBZzhg7Yw5gBwTjPHrmue8FzeB5fiP4fj+Dd3fRysZJdbWSaYRS24Q53rMfmk3lcbAQMk+ldd4017T/Hfw1tdV8IJJr2i2erQPqFpBburXFvEwaSMRsAWxlTtxg4rP1XxpoXxG13wvZfD6Oe81HT9UiuJrsWckK6fbqD5qs7KPvL8u0cH8qcfj+a9bWWr8u/TRilbk+/0v2Xn27aGH42b4ZXXxr1yP4pMo8u0s4rEMblRkqzOSYeB95fvGvYtA07Q9K8EQWnhQRDR1t2a18qYyqVbLZDkknknvWB4k+Lvgvw/ql7oXiOa5ivY8J9jewlk+1BlBGwhSrA5xyRyDR8L9LvNK+GbpfWLaaLie6urfT3Xa1pDI7MkZX+EgHp2ziph8P8AVv8Ah9Rz+K/X/gHe1ieJdEvtdt4be01680e3DMbn7CqiWdccKJCCY+e68+4rbpG+6fpUT+FjW5w3wdaV/g5obBy8zQynfIS2W81+Sep5rxK6l8IQaXcR3uoao3xbW5aFbiO7kDfajJhQsm7yRFyBgnIXI616/wDDWG9uf2fLGDSpPKvpbC4S2fONshaQKc9ucVxtt458I2nwmPgS40S8HiIWBtH0D+zpDLJclcb9wXacv8+/Oe/WtKj/AHkn/wAO9Xt/XVAkuVLp+Hz/AK6M90tFnWxgW8ZXuBGolZRgM+OSPxrx34g+EPh3FNrN42pyt44cPLaeRqkj3yzsC0SRwK+ccgAbeF7969E8M3x0vS9A8N67dmTXzpaySqAz7/LVFkYvjH3mAySMk8V514t8Y/CjW59StNQ0RrzxR80QtotHkF+8q/KgWVU68DB39MUqnxO3nt+gU/hV/Lf9TttQ+H2j+OfDehr8Q9N+339narv/ANIkj2Ssi+Z/q2AOSvv04rkPBXw28J2fxdvNT8K6V9isfDsZtPMFzLJ5946/P99jxGjBcD+Jz6V2Nhqep+E/g1Fqfit2l1PTdJ866Mh3M0ipnaxB5bOATnk96XwLot9o3wss7e2MQ1i5tWu5ZJx8rXcwMjM+OSN7Y+gqpPlnJrp287/8H8CI6wjF9e/Zf8OvxOL+Ouq3Ot+G9Z8NaNKUi02y+36xcLyEUcw2/wDvOfmPoq/7Ver6N/yArD/r2j/9BFeDeIvDXxO8L/CfxFbai3hCaxuIZbjUrqJrpry5ZuWfJAUt2HAAAAAAr1rwtrF7pvhzQbTxpNYR6tqJ8m1TTUlaOQBC6j5gSCEUkk4GR9KmKspL0+/X+l6dxy3T9f0Oc8feE/hjd67PqHjvUkTVpYle2SbVXjlhUDavkQqwJ+ZSeFbLZ69KpS3fiW1+CfhjSdQvb2y1vWru30xruQ4uYY3djuOeRJ5S455BPrVjxr4z+FT69daX4502GfVrdfJRLrR3mlkTqPKkCHg5OMMOSelZP9leJLf4N6Lqc2n6hLc6HrS6rb6bPl7oWSyMFibJJ3iJ84OSMAdqUbW12uvS19fwev4lSupab2fre2n4/oXr/wAD6T8LfEHhzW/B/wBpso7vU4tO1O3e5klS7SbKh2DMfnV8EEY6msjxtrfhLXfGuqr8TNbe18NaTKthZ6ZHJKBeXGxXlldYvnbZvVR2H4nO1eeM9K+Kut+H9J8Hfab23stSi1HU7praSJLRYcssbFwMuz7RgZ6HtVaPxFoHws+Ifil/GkUlkmt3K3ljqf2Z5knQoA0OUU7WVgTjuCD6Ua/a87f+S/8A239WDb4fK/4/8A7zwlb6BbeAYo/B90brRfKkNo3ntMFXJ+QMxJwDkYPIxiumrzr4XWUkPhXX9QXT5dMsdW1K5vLCylj8tooGVVU7P4d20tj3r0Wrl3f9f8MSvLzCiiipGeL/ABB8IfDuKbWbxtTlbxw4eW08jVJHvlnYFokjgV845AA28L371ueKV1XWbXwT4O1W8ntJ9ZUvrD28m15EhgDSxBh0DOwBIPTNYXi3xj8KNbn1K01DRGvPFHzRC2i0eQX7yr8qBZVTrwMHf0xVrVF17wxofw+8V+I4bq+n0OJ4daES+bLGk0QVpDjJYoVXcRnPJpRty67aenX9bX8rDlfm03s/Xp/SLmneF9P+GXxO0Ky8K+da6N4giuLefT3neWNJo08xJV3sSCQGB5rufFXg/QvGulJpviax+22kcomWPznjw4BAOUYHox7964rTfEdj8TfiRoeo+FxPc6H4fjuJptReB4o5J5E8tYk3gEkKWJ4wOPUV32na9puq6XLqNhcebaQySxvKY2UBo2KvjcBkAqRkcHHFN/D739a/1bysJfF7v9P/AIb9TyWD4TeCYvi5pln4Y0X7IuhKuo6hOLuaT94T/o8PzOQDkFz3wq9jVH4gHwVD8StV/wCFx3V09s0MUmhRRyzeVHGFw+FhOVk3g8twRjFd/wDCWNrzwpceJblMXfiO9l1ByRyIy22JfoI1Xj3NcxY+MNE+HPjTxUvj+OaxvNU1Bp7PUTaSTLeW21RHErorH5MEbTwPxpO6tGXZ/fpp6r8kw01a9Pl39H+pXsdQ11Pglodgmq3kU/iDVksLG+kmV7mGzklYqS6kjf5KnnPGR0Iq7f8AgfSfhb4g8Oa34P8AtNlHd6nFp2p273MkqXaTZUOwZj86vggjHU1iwaXrA+HcniPTdGuorSy8UjXdN0fy9s32MHDKI/4Sd0jhR68da3bzxnpXxV1vw/pPg77Te29lqUWo6ndNbSRJaLDlljYuBl2faMDPQ9qtfEn1ur97Wje/4387iezXSzt2vd7fhb5HrNeHaxqtz4r+L3g/X7eRhoFvq0thpw7XTCJzLcD/AGdyhF9QpPeu58cDU/GnhbVtC8CajaRX8FytpfteCWNFUqGeMOqk5KsoJXoGPINeceJbL4nabrXgeyng8FW5t78x6XFZC6ESOIGGJAedm3P3ec4qI/En5q33rX7tv+GHL4WvJ/r/AEza+LI8Np48sG+Kd1cDwnJYlbOCKWURm7Dku0iRHeTtK7SBgc5rX+Du+78K60+g39ydAkvZE0F7x/OkgiCAHgnO0PnarYOBz1qlqXiKy8BfFfUtc+IELw2t/Y20OnarHbSTRQbVPmwgqGZNzndjHI61qfDOb+1/FPivxFpNnNZeHtTmg+xCaJovtMqIRLOqHGA2VGcZbbk85pwSs16/n18+3+WoSeqfp+XT9f6RX8M6TeaL8cLm31DW7/WZ5PDqzST3jAAObgghEUBY1+UfKB+dekt/x/Rf9c3/AJrXFx/8nCT/APYsR/8ApU1do3/H9F/1zf8AmtNfBH5/+lMT0nL5f+komooopDKerW15eaTcW+mX5066kXEd2IVlMRz1CtwTj14rhPhxp8mlePvHNjNqN7qTQy2X+k30vmSNugLHnAAGWOAAAOgr0euF8If8lW+IP/Xaw/8ASYULd+n6oCH4o6rc3ent4P0KUpqWqWskt1MnP2OzUHzJD7t9xfUsT/DV/wCEf/JIPDH/AGDov5Vw/wDwjPxY0UeItRR/Bd1JqfmS3N1cG6acxBSFjGAFCqvAGMdzkkmtj4Saxe6J8INEuPF81hDZyrb2+mGySV3ZZMKiyDB+cscfLxRDZ93b9dP663Ce6+f6a/10sYPxdl8Cv8VtIh+JrY0qLR5XiGJ/mmaZQP8AU/N91W68V6P8PtL8I6X4VT/hX/k/2PcSNMGhuHmUuQAeXYkHgAjtjpVbxV8UvCngvVhp3im7uLB5IRLE7WcskcwJIIVkU8jHIOOorg9N8O+JfEngrxXL4Ktrfw/aeItVWa1ttRR7fda+WqyNtQEp5pXtg4JIIyDSjdQaXn+fX7/w2HJJyTf9adPu/Hcj1jVbnxX8XvB+v28jDQLfVpbDTh2umETmW4H+zuUIvqFJ71c+LI8Np48sG+Kd1cDwnJYlbOCKWURm7Dku0iRHeTtK7SBgc5rF8S2XxO03WvA9lPB4Ktzb35j0uKyF0IkcQMMSA87Nufu85xXSal4isvAXxX1LXPiBC8Nrf2NtDp2qx20k0UG1T5sIKhmTc53YxyOtCslbom9/8K/Hr5dOiE27t+S/9K/r11NL4KSCbw/qs2lXV1P4abUGGiLdy+ZJHAFAYZJLBd+7arcgDkc113iXRL7XbeG3tNevNHtwzG5+wqolnXHCiQgmPnuvPuK4fwRrdlFqXjXxsIZtL8I3BhlheaB089o0ImuFixnDfKMgZbb65r1BXEsAkTO1l3DIIOCPQ8iip8PyX5Cjo9PP+l6XOF+El2tr8E9IvLuRmWK3mlldjkkCRySSeprzCxu/hx4jnt9U+K3iJpPEuqkXVtb/AGueOPSo3+aJEMfyIQpVsuevP19J+Fln/aPwG0yyDbTc2c8W703PIM/rXCaf4y8NaJ8KZPh7qui3P/CUR2r2TaILB5Gup8ELKrbdpDHDBs5A6dBVTbVSTtdrbv1vb8Cor3Utl1/S/wCJvfG5/DCXvgy18dSE6Cbqd7p280ltsBC8xfNyzL0rpvhdpfw9tNJur34Y+SbS6ZRcGO4lkO5QcBlkYshwx4wOtRDxjpPwu8H+G9M8cXdxbSDT44Wu/s7zR+ZGihkLICc+nHIB5qj8O54PEPxB8ReLdA0+Sy0C9toLeKaS3MP9oTIXLThSASAGC7iOfwNNK0pJa76/5/cRvGLflp/Xqej2v+pb/rpJ/wChmpqhtf8AUt/10k/9DNTVJQUUUUAR3KSyWsqW8vkzMhEcpTdsbHDY74POK808M6TeaL8cLm31DW7/AFmeTw6s0k94wADm4IIRFAWNflHygfnXp9cLH/ycJP8A9ixH/wClTUR+NfP/ANJYS+B/L/0pHcSb/LbyyA+DtLdM+9fLV1L4Qg0u4jvdQ1Rvi2ty0K3Ed3IG+1GTChZN3kiLkDBOQuR1r6K1fUl1CHW9B0S6K65Dp5kUBWAiMiuIm34xksp4BzxmvIrbxz4RtPhMfAlxol4PEQsDaPoH9nSGWS5K437gu05f59+c9+tTfVv/AId77fr6orSyT/4Hz+89E8b+HPCus6JprfE2/hjtbcbGWfUDaW807KOThlyw2ttGeAW4rN+E1jFp914ig8Pz3M3hFbmL+x2mkZ0H7v8AeiFm5aMNgA8gnOCeTUer+IPDHhTwb4d0b4uxR3Mn2KIyTXdg15AZ0QK3IVvn5POOcmo/hYttP4o1+/8ACNjc2Hg2eOEWccsTQxTXALeZLDG3KpjaDwASOnBrT7crba7bf1poZ/Yjfy/r/P5jJ9G1HSvjP4Rm1TxDfavNeJqDFZQscEQWNdojiUYXAYgscse5r1OuF8T/APJZPAn/AFx1L/0VHXWS6xYw67b6PJMRf3ED3EcIRjmNCoZiwGByyjkjOeKlfDFev5sruzzrx5o2o2vizwxql74hvruOfxLbRQWACxW8EZDtgqozI2VHzMT7AV3HinwzD4s02PTr68u7ey80PcxWspiNyoBHlsw5CkkEgYzisD4m/wDH14L/AOxntf8A0CSoPi144j8H6XpdtJqf9kDVrowS6iITK1rCqlndEAOX+6o4IBbPalpyWff9Ij+3f+7+sjM8LeHdN8F/F99D8EtPFpLaU1xqlgZ3mitpd6iFgWJKuw38Z5AzjpWd4f8Ah5pXxQ8PzeMPE1xfTatqU076dcR3cif2bEJGWJYlUheAoJyDkk1ufDvxx8Nbi4Xw54I1Vrm9uS80hlt7jzblwMtJJLIg3NgdSfYelYHhX4iab8NvDr+DPE1vfprmmTTRWNrFZyOdSQuzRNEVUryGA5I5oe1nvbT79bemiXWwlre3dfl1/N+Z2/w91m8134Z6ReapJ5t6pFvcSf8APSSKby2b6kpn8a7GuR8AaJd+HvhvpVhqaeXfbhPcxg52SSzeYy8ehcj8K66rlfmdxK1tNgoooqRhXN+LPBGn+Nfs1vr093JpkIYyafDO0UdwxxgyFSGIXBwMgZNdJXl3xW8e6foOu6V4c1fXZdB0++hkuL69t43acxqQqxRlAShY7svjIC8EE1Ltov6/r+txq+rJvhtptv4f8beKNB8NTzyeGrEQCOGSVpUtbohjLFG7ZOAuwkZOCfXNdxr+m3+q6Z9l0vWJtHkZxvuYIkeTZ/Eq7wQpP97BxXL+AfHPw+1Kyk0fwJfRmDTYDPJElrNGETPLkuo3Ek5JySScmuw0rU7TWtJtdT02Qy2l3Es0MhRk3owyDhgCMj1FW1dEp6v+v6/4JxXwht2tNH8RWrXNxdfZ/EV5EJrqUySuFKqCzHknA61zfx11W51vw3rPhrRpSkWm2X2/WLheQijmG3/3nPzH0Vf9qui+HYu20TxmNNaJbw+ItREDTZ2CTcNu7HOM4zXnfiLw18TvC/wn8RW2ot4QmsbiGW41K6ia6a8uWblnyQFLdhwAAAAAKzqawV/5V99l/wAP93maR0m7fzP8z2afTb/VfB9ha6XrE2jyNDDvuYIkeTZtG5V3ghSf72Diuf8AhDbtaaP4itWubi6+z+IryITXUpklcKVUFmPJOB1rofBH9uf8IfYf8JP/AGf9u8sf8g7f5WzHyff53YxntnpWJ8Lf+PXxV/2M9/8A+hit5fxZ+j/OJhH+FH1X5SG/F7Uriw8I2UEN7LpttqOqW1le30L7Gtrd2+dg38OcBc9t1cpq3hvw18KfFvhS98H3D6dPq2px2V3YG9klW+hkBBkKuWOVYqdwwOfeu+1vxH4Y1DwJqOpanGdS0GN3gux9keQHZJ5bnYRkhWBJYA/dJHSvK/DOg+BvEXi7SIPhXoLrpFleJqOp6zJFMFJiB8qCNpvmJLkFgABhQee2dP4l6p/LT8LX9b9zSavF+jXz1/Hb7jasPCug/E7xX4tn8dPNd3Gk6k9paWRvJIlsYFUbJVVWHL8tuOentWdpnie/vfhi3h/StfnuJJPE/wDwjtrrKSbpTbFgwkD4wW8rKhh7EGtH4k3fwjl8XSQ+NtFnvPENuiGGCC1uPMvQVBUKY8LJ/d+c8EEVVbwrrGjfC2z11NGMWp2/iBPEU+j2qDdHFu2+SoHdYiOPUYpQtZc22l+26u/uvf8AEcr3ut9bfc7L0vb8DRv/AAPpPwt8QeHNb8H/AGmyju9Ti07U7d7mSVLtJsqHYMx+dXwQRjqa9WX/AI/pf+uafzavLLzxnpXxV1vw/pPg77Te29lqUWo6ndNbSRJaLDlljYuBl2faMDPQ9q9TX/j+l/65p/NqrXl17v7rL9bk6X07fjd/jaxNRRRSGYdFMMMZ6xof+Aimm2gPWGM/8AFAEtFQmztj1t4v++BTTY2h62sP/fsUAWKqar/yBr3/AK95P/QTTjp1ietnbn/tkv8AhVTU9NsU0m7dLO3VlgchhEoIO089KAOwoqH7Hbf8+8X/AHwKPsdt/wA+8X/fAoAmoqH7Hbf8+8X/AHwKPsdt/wA+8X/fAoAmoqH7Hbf8+8X/AHwKPsdt/wA+8X/fAoAmoqH7Hbf8+8X/AHwKPsdt/wA+8X/fAoAmrBvPAvhLUbyW71Dwtot1czNukmn0+J3c+pYrkmtj7Hbf8+8X/fArGvfEnhDTdQ+wajrOiWl5kD7PPdQpJk9BtJzR1AbD8PvBlvOk1v4R0KKWNg6SJpsKsrA5BBC8EGuhqjcPpVmsLXbWcC3EixQmUookdvuquepPYDk1Y+x23/PvF/3wKAC8/wCPGf8A65t/KpqqXVrbrZzMsEQIjYghBxxUv2O2/wCfeL/vgUATUVD9jtv+feL/AL4FH2O2/wCfeL/vgUATVnRaJax+JLjXMyPeTWyWvzEFY41ZmwoxkZLZPPO1fSrf2O2/594v++BR9jtv+feL/vgUATUVD9jtv+feL/vgUfY7b/n3i/74FAE1FQ/Y7b/n3i/74FH2O2/594v++BQBUuNEtbrxDZaxOZGuLGGWKBCRsXzNu5sYzuwuM56E+taNQ/Y7b/n3i/74FH2O2/594v8AvgUATUVD9jtv+feL/vgUfY7b/n3i/wC+BQBNUN5/x4z/APXNv5UfY7b/AJ94v++BUV1a262czLBECI2IIQccUAW6Kh+x23/PvF/3wKPsdt/z7xf98CgCaiofsdt/z7xf98Cj7Hbf8+8X/fAoAqRaJax+JLjXMyPeTWyWvzEFY41ZmwoxkZLZPPO1fStGofsdt/z7xf8AfAo+x23/AD7xf98CgCaiofsdt/z7xf8AfAo+x23/AD7xf98CgCas640S1uvENlrE5ka4sYZYoEJGxfM27mxjO7C4znoT61b+x23/AD7xf98Cj7Hbf8+8X/fAoAmoqH7Hbf8APvF/3wKPsdt/z7xf98CgCaiofsdt/wA+8X/fAo+x23/PvF/3wKAC8/48Z/8Arm38qmqpdWtutnMywRAiNiCEHHFS/Y7b/n3i/wC+BQBNRUP2O2/594v++BR9jtv+feL/AL4FAE1Z0WiWsfiS41zMj3k1slr8xBWONWZsKMZGS2TzztX0q39jtv8An3i/74FH2O2/594v++BQBNRUP2O2/wCfeL/vgUfY7b/n3i/74FAE1FQ/Y7b/AJ94v++BR9jtv+feL/vgUAVLjRLW68Q2WsTmRrixhligQkbF8zbubGM7sLjOehPrWjUP2O2/594v++BR9jtv+feL/vgUATUVD9jtv+feL/vgUfY7b/n3i/74FAE1Q3n/AB4z/wDXNv5UfY7b/n3i/wC+BUV1a262czLBECI2IIQccUAW6Kh+x23/AD7xf98Cj7Hbf8+8X/fAoAmoqH7Hbf8APvF/3wKPsdt/z7xf98CgCpFolrH4kuNczI95NbJa/MQVjjVmbCjGRktk887V9K0ah+x23/PvF/3wKPsdt/z7xf8AfAoAmoqH7Hbf8+8X/fAo+x23/PvF/wB8CgCas640S1uvENlrE5ka4sYZYoEJGxfM27mxjO7C4znoT61b+x23/PvF/wB8Cj7Hbf8APvF/3wKAJqKh+x23/PvF/wB8Cj7Hbf8APvF/3wKAJqKh+x23/PvF/wB8Cj7Hbf8APvF/3wKAC8/48Z/+ubfyqaql1a262czLBECI2IIQccVL9jtv+feL/vgUATUVD9jtv+feL/vgUfY7b/n3i/74FAE1FQ/Y7b/n3i/74FH2O2/594v++BQBI6742XcV3AjcvUe4qloejWvh7QrPSdPDfZ7SIRoXILN6sxAGWJySe5Jqz9jtv+feL/vgUfY7b/n3i/74FAE1FQ/Y7b/n3i/74FH2O2/594v++BQBNRUP2O2/594v++BR9jtv+feL/vgUAVNF0S10K1ngszI/2i5lupZJSCzySOWJJAHTOB7ADtWjUP2O2/594v8AvgUfY7b/AJ94v++BQBNRUP2O2/594v8AvgUfY7b/AJ94v++BQBNULf8AH9F/1zf+a0fY7b/n3i/74FRNa2/2yNfIiwY3JGweq0AW6Kh+x23/AD7xf98Cj7Hbf8+8X/fAoAmoqH7Hbf8APvF/3wKPsdt/z7xf98CgCas7VNEtdXutNnvDIf7OuftUUYI2tIEZQWGOcbiR05AParf2O2/594v++BR9jtv+feL/AL4FAE1FQ/Y7b/n3i/74FH2O2/594v8AvgUATUVD9jtv+feL/vgUfY7b/n3i/wC+BQBU1zRLXxDpv2DUDJ9nM0UrohA8zY4cK2QcqSoBHcVo1D9jtv8An3i/74FH2O2/594v++BQBNRUP2O2/wCfeL/vgUfY7b/n3i/74FAE1FQ/Y7b/AJ94v++BR9jtv+feL/vgUAFr/qW/66Sf+hmpqqW1rbtES0ERPmOOUH941L9jtv8An3i/74FAE1FQ/Y7b/n3i/wC+BR9jtv8An3i/74FAE1FQ/Y7b/n3i/wC+BR9jtv8An3i/74FAFTTtEtdN1LU7+EyPcanMss7yEHG1AiqvHCgLnHPLN61o1D9jtv8An3i/74FH2O2/594v++BQBNRUP2O2/wCfeL/vgUfY7b/n3i/74FAE1Z0WiWsfiS41zMj3k1slr8xBWONWZsKMZGS2TzztX0q39jtv+feL/vgUfY7b/n3i/wC+BQBNRUP2O2/594v++BR9jtv+feL/AL4FAE1FQ/Y7b/n3i/74FH2O2/594v8AvgUAF1/qV/66R/8AoYqaqlza26xArBED5iDhB/eFS/Y7b/n3i/74FAE1FQ/Y7b/n3i/74FH2O2/594v++BQBNRUP2O2/594v++BR9jtv+feL/vgUAQaxpkWtaJeaZcSzRQ3kLwSPCwVwrDBwSDg4PpVm3t4rS1it7aNY4YUEcaKMBVAwAPwpv2O2/wCfeL/vgUfY7b/n3i/74FAE1FQ/Y7b/AJ94v++BR9jtv+feL/vgUATU113xsu4ruBG5eo9xUf2O2/594v8AvgUfY7b/AJ94v++BQ9VYCtoejWvh7QrPSdPDfZ7SIRoXILN6sxAGWJySe5Jq/UP2O2/594v++BR9jtv+feL/AL4FNu7uGxNRUP2O2/594v8AvgUfY7b/AJ94v++BSAmqFf8Aj+l/65p/NqPsdt/z7xf98Coltbf7ZIvkRYEaEDYPVqALdFQ/Y7b/AJ94v++BRQBk0UUUAc94p13XNI+zx+HPC82v3E25nC3UdtHEox1d+MnPAx2NO8I+KB4p0yeaXT7jTLyzuGtbuzuMFoZVAJAYcMMMCCOuaXxRY6xqtvFZ+G/EyaDeo3myP9jjuWkjwRjY5GBnv7YrG+Gs7RRa1pFzJBd3mnXxW51CCRnW8kdA287iSrgEKVyQu0AccAj1v/Wq/rvcJdLHb1U1X/kDXv8A17yf+gmrdVNV/wCQNe/9e8n/AKCaALnimPxFcabHbeEri0s7qaULLeXSGQW0eDllT+Ns4AB455rl/DV/4t0Dx9H4W8Xa1B4ihvrGS8tb+OzW1kiMbKrI6J8u07xg9ciuk8W+JX8PWdpFY2n27VdSuBa2FqX2K8hUsS7fwoqqSTycD3qDw34Um02+udb169XU/EF7GIprlU2RQRDkQwpk7UB55JLHknphLS79fy2/JhLa3X/g/wDDo4+G8+IvjaC98ReFfENjo2mw3E0Wm6dJYLN9vWJiu+WRjlNzKcBegx9a37TXfEXjT4d6RqXhRrTTL7UQBdT3SGQWeMiQon8bB1wATjuaz/hHrNjp/wAJI4tQuYraTQXuLfUQ7gfZ2SVyd3pxgj61R8G69P4Y+EPh/wCzWJu9V1y5lOm2bNsDmaSSZWdv4UCHcTycdsmm0l7q12/r5/8ADDe9/X+vkaXhq/8AFugeP4/C3i7WoPEUN9YyXlrfx2a2skRjZVZHRPl2neMHrkU3xT4m8Zad4p0WJLOx03RLrW4bAyGXzri7RgxLAY2xqQpGOW+lb/hnwpNpuoXOua/ejU/EF5GIprlU2RwRA5EMKZO1AeeSSx5J6Yy/ib/x9eC/+xntf/QJKa+KF+6/F/5aEv4ZNdn/AOk/56ndVxHiLSPiFrGsXDaD4nsvDmnwYFsg09buS6O0EmQucIM5ACgnAzXb1xGqaprHizXr/wAOeGLn+zLKwKw6pqwAaUOyhvJtx0D7WGXP3c8AnpLv0/r+v61sV01J/B/i99W+Hp1fxRPaabNbSTWt5c+aEgDxyGMyKzEYUkZGfXFcT4V8X6T4R8LJ4cuINI1eVjJm9tNasfJ1DcSTJJ5syybiD83yv3xkYr1jRdGsPD2i2ulaRALeztU2RRgk4HqSeSSckk8kmvPvE3ii1i8cWlzNqPhCK40R5khju/FQt5D5ihW82L7MxU47Bvzptrm9RK9jFEVtZeAfBmnW+safqklr4otvM/s+5E0VtulkYQqR/CgO0ZxwvQdK9prwnUdZ0e/8TeH3mu9NvpZdct2SLS/HdxflJC5w32eSLZsB/u7ccAEV7tTXw383+URP4vl+rIbz/jxn/wCubfyqaobz/jxn/wCubfyqakMxPEt14igggi8K6dZ3VxMxElxfXBSK1AH3iqgtJnptGPqKyPAeq6x4s+EtlqFzqCwavfW02LxIFIik3uqsI+hC4HB645rsW+6fpXD/AAY/5I9oH/XKT/0a9C1Ul6fqHVM5TxbpnxM8L6C18Pimby5klS3tLRfDtsrXMzsFRAcnGSck4OACe1es6VDe22jWcOq3QvL6OBFuLgIEEsgUbm2jgZOTgVx0rf8ACS/GlbZjusvCtms7Jxg3dwCFJ/3Yg3/fdd2wypHtRdqF/wCv6f5WB/Fb+u/9fM8qhvPiL42gvfEXhXxDY6NpsNxNFpunSWCzfb1iYrvlkY5TcynAXoMfWugtNV1/x58N9K1LwvqFvoF9fBTczzW32g2+NyyKiE4J3jA3ds96zvhHrNjp/wAJI4tQuYraTQXuLfUQ7gfZ2SVyd3pxgj61F4C0ldU+CunaZdape6NJq5luoJrG5EFyqvO0y7G55KkZ46E0NWTS12/r5j+1fzf9fL9S54R1HxVpfj678I+LNXt9fH9nLqNvqMdottIAZChR0U7evQj0/Kp4tsviRpkGr+JLDxnp8VrYpLcw6M2lI0TxJkhXmLbwxUckYGemBVbwlZN4I+LEnhi21aTXk1Swe9ubi+KyX1sY2VUEsowXRt52hhwenBNT+PfBFlrltqPiX/hNtStreNBKbSe6SfSgY1Aw8DDawJXkE9SamTtFSv0evz7eW3n8wjrJr0/JdfPc77QtROseHdO1NovJa8tY5zGT9wuobH4Zrl/EWkfELWNYuG0HxPZeHNPgwLZBp63cl0doJMhc4QZyAFBOBmtvwVrdx4k8D6PrN7bLaz31pHM8S/dUkZ4z2PUexrE1TVNY8Wa9f+HPDFz/AGZZWBWHVNWADSh2UN5NuOgfawy5+7ngE9LqL32l/X9f1rYiD9xNmh8PfEV94n8Hw3urxRRX8U81pc+Rny3kikaMumf4TtzXK6T4/wBV1344rpdhKo8L/Y7hISEU/ap4WUSSBsbtoZigwcHaTzUnxBkuvBXgXTfDfgvQ9Ye0uW+zTTaNaNczWkA5dlH/AD0bJAZiOSWzkc8dp/jKztPit4Tg0zwP4r060s9LmsIbS40vZIFZ4x5m3dyi4+Zu2e+aFZz+9fg9f6/QctIf1tfb+v1PSPEmg/EDUdYnuvD3jS00WyjA+zWX9lJcebhQT5kjnK5bI+UcDHerngrxFdeK/hpZazqEMcN1c2z+csX3N6llJX2JXI+tUfGfgi18aSzXI8Y61paW8Jgmt7C+VbXIJYmaIghjzggkZAApfhvrcuu/DFJpo7ULbGezils4hHBPHEzRrJGg4VSF6DgduKUdmv6/rYct0zt6xPEt14igggi8K6dZ3VxMxElxfXBSK1AH3iqgtJnptGPqK26Rvun6VM/hY0ct8M9bv/Efw40nVtYlWa9ukdpXRAgJEjAYA6DAArmPin4/1XRNZ0nSPCsqpMt5bPqs+xXEMEsojSP5gQGcknjkBSeMil8Bavd6D+zpYanpumT6reW9pK0FnboWeZ/NYAYAJxk5OB0BrzbWvE5s/A0UF74R8ZDVrzWbS/1HUr/R/JS5mEqnYp3HHACInsBWkre1t0TX5/1+XUVrQfo/y/r8+h9M15lJqHjXx9r2qJ4P1638M6HpVy1mt4bBLua8nTiTCudqoDwCOSR+XoOkaj/a2j2t/wDY7ux+0RiT7NexeXNFn+F1ycH2rxTwX8PfC3inwvqbeMbq4kvtJ1G8icG9eAaafOd94UEDJ3b97A547DFQ9Hr0T/T+uw0/d06tL8z1q8n8S6f4XthZ2VprGt4SOUmb7NBuxhpTkMQo67QCecD1rL+Gut61rmk6u3iWa3mvbPWLmzJtY9kSrGVGFB5xnPJJPNN+Emo32qfC/SbnU7iS6kxJHHcS/fmiWRljdvUlApz3696g+Fv/AB6+Kv8AsZ7/AP8AQxV7Tlfs/wA0S/hXrb8JHNzax468Qy+I9Z0zxdpnhyx0K8mt10y5sUl3rF/FPIx3Rhuo29iDXofgzXJ/EvgnSNavLYWs9/aJO8IzhSwzxnseo9jXlXh7wT4R+J2g6j4u8cSNNrMk863Mv2owf2WsbsqRhVIUbVUHL7s9eRXoXwt1q98QfDbS9Q1NjLOyvGJzHs89EdkSTHbcqg/jUx+Gz30/r5/8Nccviuu7X9en/DmR8TvE3jLQNLu7rQbOxs9OtWgD6hcS+bLKZJFQrHFjC43fecn2Het/4h+Ir3wt4Fv9W0qGKS7i2JGZ8+VEXdU8x8fwru3H6Vl/Gb/klOp/9drX/wBKYqX4tarNpvhC3gS6NjbanqEFheXqgE20EjYdwTwOPlyQcbs0vs287ffb/Ma3u/6sYtnqfjTwn4y8O2Gv+KrDxTa+IJXiMCWSW0tsBGX8yPYfnjGMEt6j1rd8SaD8QNR1ie68PeNLTRbKMD7NZf2Ulx5uFBPmSOcrlsj5RwMd64/UfB3hj4W694X1LwJGbXUNR1CKwktRcPP9ut5P9Y21mONuA+5cAd+tdd4z8EWvjSWa5HjHWtLS3hME1vYXyra5BLEzREEMecEEjIAFOXw3Xn+n379RLR69l/Xlt0/UveCvEV14r+GllrOoQxw3VzbP5yxfc3qWUlfYlcj611VcR8N9bl134YpNNHahbYz2cUtnEI4J44maNZI0HCqQvQcDtxXb1Ut7omOxieJbrxFBBBF4V06zuriZiJLi+uCkVqAPvFVBaTPTaMfUVQ+Get3/AIj+HGk6trEqzXt0jtK6IEBIkYDAHQYAFdS33T9K8w8Bavd6D+zpYanpumT6reW9pK0FnboWeZ/NYAYAJxk5OB0BqL2Um/L9S0rtIT4p+P8AVdE1nSdI8Kyqky3ls+qz7FcQwSyiNI/mBAZySeOQFJ4yK9Rr5m1rxObPwNFBe+EfGQ1a81m0v9R1K/0fyUuZhKp2KdxxwAiJ7AV9G6RqP9raPa3/ANju7H7RGJPs17F5c0Wf4XXJwfaqStH5/ov6/HqS373y/V/1+HQ8+k1Dxr4+17VE8H69b+GdD0q5azW8Ngl3NeTpxJhXO1UB4BHJI/LsLyfxLp/he2FnZWmsa3hI5SZvs0G7GGlOQxCjrtAJ5wPWvJfBfw98LeKfC+pt4xuriS+0nUbyJwb14Bpp8533hQQMndv3sDnjsMV6J8JNRvtU+F+k3Op3El1JiSOO4l+/NEsjLG7epKBTnv171MdYfc/v/rb7tipfE/Vr7v6/q474a63rWuaTq7eJZrea9s9YubMm1j2RKsZUYUHnGc8kk81yU2seOvEMviPWdM8XaZ4csdCvJrddMubFJd6xfxTyMd0YbqNvYg10nwt/49fFX/Yz3/8A6GK4nw94J8I/E7QdR8XeOJGm1mSedbmX7UYP7LWN2VIwqkKNqqDl92evIpPZP+6n+C18/noCtdp/zNfi9P8Ahj1XwZrk/iXwTpGtXlsLWe/tEneEZwpYZ4z2PUexrlfid4m8ZaBpd3daDZ2Nnp1q0AfULiXzZZTJIqFY4sYXG77zk+w71r/C3Wr3xB8NtL1DU2Ms7K8YnMezz0R2RJMdtyqD+NU/jN/ySnU/+u1r/wClMVayt7RW2uvzIjflszU+IfiK98LeBb/VtKhiku4tiRmfPlRF3VPMfH8K7tx+lclZ6n408J+MvDthr/iqw8U2viCV4jAlkltLbARl/Mj2H54xjBLeo9a2vi1qs2m+ELeBLo2NtqeoQWF5eqATbQSNh3BPA4+XJBxuzXJaj4O8MfC3XvC+peBIza6hqOoRWElqLh5/t1vJ/rG2sxxtwH3LgDv1qIfFr3t+Wn477/cVL4fk3/X3bbHYeJNB+IGo6xPdeHvGlpotlGB9msv7KS483CgnzJHOVy2R8o4GO9XPBXiK68V/DSy1nUIY4bq5tn85Yvub1LKSvsSuR9ao+M/BFr40lmuR4x1rS0t4TBNb2F8q2uQSxM0RBDHnBBIyABS/DfW5dd+GKTTR2oW2M9nFLZxCOCeOJmjWSNBwqkL0HA7cUR2a/r+tglumdvWJ4luvEUEEEXhXTrO6uJmIkuL64KRWoA+8VUFpM9Nox9RW3SN90/Spn8LGjjvAeq6x4s+EtlqFzqCwavfW02LxIFIik3uqsI+hC4HB645rjfFumfEzwvoLXw+KZvLmSVLe0tF8O2ytczOwVEBycZJyTg4AJ7V1fwY/5I9oH/XKT/0a9Mlb/hJfjStsx3WXhWzWdk4wbu4BCk/7sQb/AL7rSa/eWXf8F/VvWwlpH0/4Y7HSob220azh1W6F5fRwItxcBAglkCjc20cDJycCvNIbz4i+NoL3xF4V8Q2OjabDcTRabp0lgs329YmK75ZGOU3MpwF6DH1r1VhlSPavOfhHrNjp/wAJI4tQuYraTQXuLfUQ7gfZ2SVyd3pxgj61Ene8tv63+X6jSskjRtNV1/x58N9K1LwvqFvoF9fBTczzW32g2+NyyKiE4J3jA3ds96q+EdR8VaX4+u/CPizV7fXx/Zy6jb6jHaLbSAGQoUdFO3r0I9Pyp+AtJXVPgrp2mXWqXujSauZbqCaxuRBcqrztMuxueSpGeOhNV/CVk3gj4sSeGLbVpNeTVLB725uL4rJfWxjZVQSyjBdG3naGHB6cE1f/AC8s9N9Pl+Fv63Jfwaf1rv8AMs+LbL4kaZBq/iSw8Z6fFa2KS3MOjNpSNE8SZIV5i28MVHJGBnpgV3mhaidY8O6dqbReS15axzmMn7hdQ2PwzXA+PfBFlrltqPiX/hNtStreNBKbSe6SfSgY1Aw8DDawJXkE9Sa7HwVrdx4k8D6PrN7bLaz31pHM8S/dUkZ4z2PUexqY/C/l+v5/p5jl8S+f6fkYniLSPiFrGsXDaD4nsvDmnwYFsg09buS6O0EmQucIM5ACgnAzWh8PfEV94n8Hw3urxRRX8U81pc+Rny3kikaMumf4TtzWfqmqax4s16/8OeGLn+zLKwKw6pqwAaUOyhvJtx0D7WGXP3c8Anpk/EGS68FeBdN8N+C9D1h7S5b7NNNo1o1zNaQDl2Uf89GyQGYjkls5HKvZfl/n6f8AD+rtd2/r0/r0I9J8f6rrvxxXS7CVR4X+x3CQkIp+1TwsokkDY3bQzFBg4O0nmtvxJoPxA1HWJ7rw940tNFsowPs1l/ZSXHm4UE+ZI5yuWyPlHAx3rzfT/GVnafFbwnBpngfxXp1pZ6XNYQ2lxpeyQKzxjzNu7lFx8zds9816N4z8EWvjSWa5HjHWtLS3hME1vYXyra5BLEzREEMecEEjIAFDVoK3nr83r+Qk7yd/L8kXvBXiK68V/DSy1nUIY4bq5tn85Yvub1LKSvsSuR9a6quI+G+ty678MUmmjtQtsZ7OKWziEcE8cTNGskaDhVIXoOB24rt6uW90THYKKKKko8517TfidPJfavp3inTNIgtjI9tpP9nrMk0a52+bMx3KWA52jAzVrd4o8feDPD+teGPE3/CJvdWonuY/7OjvPMLqpAG8jABDYI6g1HNJqHxNmvbG2nOn+EoZ3tLmWM/6RqbI22RFYf6uLIKk/ebkDaOa7OeWy8P6DJNsW3sdPti2xAAscaLnA7AACp0ULvyf9eug9XKy31/r5annPhuLx3b/ABWXR9R8d/29p1hafaNST+x4LYKz5EUe5cnccF+owFHXdXb+MvEsfhHwlfazJC1w8ChYYFODNKzBUT8WYD6VkfC2zmHg5db1Af8AEx8QStqdyT1Hmf6tPosYRce1Z/xrWQeBLa5WdrWK01aznnuFXd5MYlGXx325B59KqSaSi99E/m9fu/QUbNuS2/y/z/UseGtH+I6apaap4m8VWE0EoJutEg01VjhBBwEnzvJBx14PPsazHvfG/jvXtb/4RPxLa+G9L0a9awjzpyXUl3KgHmF95+RQTgY56msbXPCGgeBPEHhbWfBV3cxaxqeqwW8oa/kn/tOB/wDWM4Zm3YXLbhgA8+lb2t+CLqx1rV9a8K+Pm8K2t0/n6vA1tDcRB9ozIDIR5LFcEn6GjfXorr0en3qz69Q1++z+Wv43Og+H3iO/8ReHZv7ciii1bTbyXT74QZ8tpYzjcuezAg/jXL6T4/1XXfjiul2Eqjwv9juEhIRT9qnhZRJIGxu2hmKDBwdpPNcTpN3qmgfC24/4RjT/ABHqNp4o1u5l+32Vs11dxWfyoZu37yQISCSANxbsBVnT/GVnafFbwnBpngfxXp1pZ6XNYQ2lxpeyQKzxjzNu7lFx8zds9801rNf1ry3/AD/rQUtIu3f8Oa39f8E911J7yPS7l9LijmvViY28czbUZ8fKGPYZ615pqFx8Q/BN1p+ta94nsdd0+6vobW70yPTVt/IEzhAYZASzlSw4bqBXo+tavaaBod7q2ouUtbKFppSBk7VGeB3PpXKaToeqeK9RsfEfjILBBbMLjTNEjOVtmI+WWZv+WkoB4A+VMnGTzSj8V/S/p/wf6sN/D9/9fI3/ABZ4ih8LeG7nU5lMsqgR21uv3riZjtjjUerMQPzPauH8IePdYtvgnqPifxa63up6fLdI6IioHdJCiRjaMY3YXOPfmsvXPF14finLda54J8X6hp+hOY9Kj07STNDJKRh7lmJGTj5UAyAMnOTxy2la3LrPwD8WWcGiatA1nfSag011beXFIn2zzWRWycuqqdw7Gpjrd33X3arX7rv7vMp6NLz+/f8A4B2l7e/EjwbZ2nirxJr9jqenNNENT0eHT1iFlHIwUmKUHc5QsPvdea9Ubm+i/wCub/zWuA+Kms6fqvwhmTT7qKdvEHkWunCNgfPeWRQNvrgZJ+hrvQuy6gX0hYfqtX3Xn/S/ruQuj7/1f5/oWKKKKQynq1xe2mk3E+lWA1C8Rcw2pmEIkbPQuQQo75wa5LwJrviXUvFPinTvFb2Ql02S1EUNip8uISRFyNzDcx5AJOBxwBXc1wvhD/kq3xA/67WH/pMKFu/T9UA/xFpHxC1jWLhtB8T2XhzT4MC2Qaet3JdHaCTIXOEGcgBQTgZrQ+HviK+8T+D4b3V4oor+Kea0ufIz5byRSNGXTP8ACduaz9U1TWPFmvX/AIc8MXP9mWVgVh1TVgA0odlDeTbjoH2sMufu54BPTqdF0aw8PaLa6VpEAt7O1TZFGCTgepJ5JJySTySaI7f19/8AX/Dkt/6+45fxF4X8dalrk91oHxE/sWwcL5dj/YkFx5eFAP7xjk5IJ56ZxXN+FvFPiTRfBPivxR4n1/8A4SSwspHi0tvsMdr9oMeULARj7ryHaM54XPfFdX8TtXutM8FSW2lyGLUtXni0yzcHBSSZtu7/AICu5vwrK+JmiR6R8Cr7TNIgJt9Mt7dkjHXy4ZEZj9dqE0ls+235XfyX5lbyS/r+n+nmZN7e/EjwbZ2nirxJr9jqenNNENT0eHT1iFlHIwUmKUHc5QsPvdea6j4h634r0fRL248K2Fj5VtYy3U2oXsxIi2KTsSJRlmIHBJCjvnpWZ8VNZ0/VfhDMmn3UU7eIPItdOEbA+e8sigbfXAyT9DXRePV2fDHxGvppFyP/ACC1KpdQl5X/AC2+W4UknOPn/nv89fuNHw3dz3/hTSby7fzJ7iyhllfAG5mQEnA4HJ7Vy/j/AFnxBHr2geG/DOoW2jS6w0xfVbmATeV5aghI0Y7Wds9D2U10Pg//AJEbQv8AsHW//ota4rx3a2Hi74maR4L8TylNDksXvxbh/L+3XCyBRGXHzfKpLYUgnPU4rWov3vKu7/VmVJ/u1J9kP8N+Ldc0TVPFOj+LtUtdfTw/YpftqdpAIXKkOTFJGuVV8ISAO31rKa9+KJ8IDx4niHTjD9l/tA+Gxp6+X5G3fsFxnfv2fhn2q14W0TR/C3xM1TwN4cXzNAvNJN3e2LSGUWkxYR43kkgOhztJJ4yODXP+MPCdx4S+Hl3BJ8Rb648LtbtDpuixwRedcswxFAtwDvdckZUD7uewrNt8vMu2nrdrbz6d7eZpGK5uV99fuXX77/8AAOw8Ya9rmsf8IZa+C9cOhyeIXeU3Rs47jbEIDLyjj6Dt1ro/CWi+JtHS6HirxZ/wkbSlfJb+zY7TyQM5HyE7s5HXpisVvhv4Y13wf4a8O+MrSO+udKsI1ih+1PGwKoquwCMpIyAM1nfDq2tvD/xD8R+FvDl9cXmgWVtbzJDLOZlsZ2LhoUY5OCoB2k8Vo0lOSXnb5flsQm3BSfl/X4npFr/qW/66Sf8AoZqaobX/AFLf9dJP/QzU1QUFFFFAEdzJJFayyW8PnyohZIgwXewHC5PAyeM1wfhrxF4tuvifPpHiiGwsbc6OL6Kxs3MpiJm2fPKQNzYB+6AvPfrXoFcLH/ycJP8A9ixH/wClTUR+NfP8mEvgfy/NHXavqUOjaJfandAmGyt5LiQL1KopY/oK8ra9+KJ8IDx4niHTjD9l/tA+Gxp6+X5G3fsFxnfv2fhn2r1u6tobyzmtbqMSQTRtHIjdGUjBH5GvDvGHhO48JfDy7gk+It9ceF2t2h03RY4IvOuWYYigW4B3uuSMqB93PYVLurtb9Px6eehSSbSfz/r7z1DUNb13UPD+mXvgzTbS5bUolm8+/nMcdqjKGDMqjc55xtGPqKi+G2vX3iD4a6VrOtzJJd3EcjzSKgReJGHQcAAAflWn4V0uTRPBOj6VOcy2VhDA/wDvLGAf1Fcf8NIZbn9nyxgtgTNLYXKRgddxaQD9aqo1Hncem34kU7y5blPS7v4g/EGJ/EXh/wAR2nhrRGlb+zbR9OW5e8iViA8rMcoGI6L2P4n1KPf5a+bt34G7b0z3xXz/AKV4I8Ial8EbbxZqOqXSaxp+m/JqSX0kTWMsSbRCiA7VwVC425JOepzXtXhC8vtR8E6Le6uMX1xYwy3HGPnZAW47cnpVWSvFdP1v1+Xp2C7dpd7/AKf5/wCZyOvab8Tp5L7V9O8U6ZpEFsZHttJ/s9ZkmjXO3zZmO5SwHO0YGaZrnjzWLr4b+GNV0NLfTL3xHNbwG6uxuhsfMUkufXkYXPBJGaszSah8TZr2xtpzp/hKGd7S5ljP+kamyNtkRWH+riyCpP3m5A2jmqvxLS0aXwr4NupRpvh3Vp3t7to8ICkUe6O3DH7gYgDjnC4BFQtku7X/AAfv/wCGRT3flf8Ar5ajvDeqeK9C+JEXhLxL4gtPE8d3YSXouo7RLWe0KMow8aErsbdwepOfSsmbWPHXiGXxHrOmeLtM8OWOhXk1uumXNiku9Yv4p5GO6MN1G3sQaksPDuh/DT4r6FpXgiNreLXIZ11LThM021I0LRz5clk+bK8nBzwMisnw94J8I/E7QdR8XeOJGm1mSedbmX7UYP7LWN2VIwqkKNqqDl92evIoe110T/P7n27d9QSs7Pq1+X4d/wAtD0/wtrk/iXwHo2tXlsLWe/hgneEZwpYqeM9j1Hsa6GuL+G+tXviD4YaTqGpsZZ2fyxOY9nnok2xJMdtyqD+NdpVztzOxEb2swoooqSgrm/Flp4s1H7NZ+EtTtNGjcM1zqM1uLiSPGNqxxHCknnJboBXSVzHirxJfWOoWOg+HLeG41zUld4jcEiG2iTG+aTHJALABRyxOMjrSf9f1/X3DMzwPq3iODxPrHhTxdfwavc6fDDdQanBAIDNHKWG14xwrAoenUGrnj3XtX0/+ydF8L+Qus63cm3hnuF3JbRqheSUr/EVA4HckfStDwv4Wi8ORXU811JqGq6hIJr/UJgA87gYAAHCoo4VRwB6nJPO+ObqLSvib4D1O+dYbLzryyaZ2wqSSxDywT7lCKe7Sf9f1sJaXa/rT+mR6Df8Ai7wx47svDnjLWofENpq9vLJZaglklrJHLFgtGyIduCpyD14qP4zeOdS8J+F3t/C0ijXZonuFbar/AGa3jwZJSGBHogyOS3HSn+NdQR/ij4Vt7NHvLvSYL7U7i2txukEfkGNRj1ZnAHrXl2teLLuXwH4tvPEPgvxhHr2uWrRzXk+kFLSyhH+rhVy2RGoOSxALMSSKiTbjp0T+e9vx09F3ZUUlL1/r8tfn2PXvFXiTWrfSfD2meHGgGu+IHWKO4uEylugi3yzFRwxAHC9CSPpVPQb/AMXeGPHdl4c8Za1D4htNXt5ZLLUEsktZI5YsFo2RDtwVOQevFYjeI4rjXfhp4gvrC+0ey3XenMNUh8h0keFRGSMn5WKHB75FdF4mni1D4xeDNNtZFkudPW7v7lFOTFEYvKUt6ZZ8D6GtpK09Orf9fdqZR1gr9v6+96Gv8Q/EV74W8C3+raVDFJdxbEjM+fKiLuqeY+P4V3bj9K5Kz1Pxp4T8ZeHbDX/FVh4ptfEErxGBLJLaW2AjL+ZHsPzxjGCW9R61tfFrVZtN8IW8CXRsbbU9QgsLy9UAm2gkbDuCeBx8uSDjdmuS1Hwd4Y+FuveF9S8CRm11DUdQisJLUXDz/breT/WNtZjjbgPuXAHfrUQ+LXvb8tPx33+4uXw/Jv8Ar7ttjYe98b+O9e1v/hE/Etr4b0vRr1rCPOnJdSXcqAeYX3n5FBOBjnqaRviJrsHwj1bVri0tR4h0i8bTLr732ZJllVDMe/l7WDmptb8EXVjrWr614V8fN4Vtbp/P1eBraG4iD7RmQGQjyWK4JP0NcNpMjaF8H7mexvru20vxR4nMTaldEPMlnIwjadmYYDOIz8xBxvz9FHVW8l990t+z1+XTQbsnzeb+6zf+X9M6+z1Pxp4T8ZeHbDX/ABVYeKbXxBK8RgSyS2ltgIy/mR7D88YxglvUetemr/x/S/8AXNP5tXj+o+DvDHwt17wvqXgSM2uoajqEVhJai4ef7dbyf6xtrMcbcB9y4A79a9gX/j+l/wCuafzar05dO7X5f5k6p/L/ADJqKKKkZh0Uwo3/AD1cfgP8KaYn/wCe8g/Bf8KAMLxR4C8M+M2gbxLpSXr24IifzHjZQe2UYEj2NaWi6Hpnh3TE0/RLKGytIzkRRLgZ7knqT7nmrRgk/wCfqUfgn/xNNNvL/wA/kw/BP/iaFpsG5Yqpqv8AyBr3/r3k/wDQTTjazf8AP9cD/gMf/wATVTU7WZdJu2N/cMBA5KlY8H5TxwuaAL/i3wJ4c8dW9tB4p0430dqzPCv2iSLaSME/Iwz071meG/hF4H8I63Hq/h7RPsd9ErKkv2ueTAYYPDuR09q67yJP+fqX8k/+Jo8iT/n6l/JP/iaFpsD13OW1j4U+B9f8QDW9X8O21zqG4M0pZ1WQju6AhX/4EDV3xX4C8NeN7W1tvE+m/bYbRi0CCeSIISAD9xlzwO9bnkSf8/Uv5J/8TR5En/P1L+Sf/E0rK1gu73OR8N/CLwP4R1uPV/D2ifY76JWVJftc8mAwweHcjp7V02p6Lp+stZNqVv5xsLpbu2+dl2SqCFbgjONx4OR7VY8iT/n6l/JP/iaPIk/5+pfyT/4mquxWRU1PQNN1i80661G286bTJ/tFo3mMvlyYI3YBAPBPByK5TV/gn8Pte1i61TVtANxe3chlmlN7cLvY9TgSAD8BXbeRJ/z9S/kn/wATR5En/P1L+Sf/ABNTZDM3wv4T0XwZo/8AZfhqy+xWfmNL5XmvJ8xxk5ck9h3rLh8CPY6lqd3pHinWtNGp3bXk8ECWjp5jKFJHmQMwGFHGa6byJP8An6l/JP8A4mjyJP8An6l/JP8A4mn1uGysYkPhrVYp0d/G2uzKrAmN4LAK4B6HFsDg+xB966GofIk/5+pfyT/4mjyJP+fqX8k/+JoALz/jxn/65t/KpqqXULizmJuZSBG3BC88fSpfIk/5+pfyT/4mgCY8jmqOi6LYeHtHt9K0eD7PZWwIii3s+0EknliSeSepqx5En/P1L+Sf/E0eRJ/z9S/kn/xNAFXT9D07Sr/UL2wt/KuNSmE13JvZjK4UKDyTjAAGBgVQ/wCEflm+IP8AwkF28bQ22n/ZLOME7kZ33SseO4WMDB7NWz5En/P1L+Sf/E0eRJ/z9S/kn/xNG1vL/K35B0a/re5y2sfCnwPr/iAa3q/h22udQ3BmlLOqyEd3QEK//Aga0/E/gzw/4y0uPTvEmmR3trEweNCzIUOMZVlII444Na3kSf8AP1L+Sf8AxNHkSf8AP1L+Sf8AxNKytboO7vcx/C3gfw34KtpYPC+kwWCzEGRlLO746AuxLED0J7n1rFl+DHw9n119Xn8M20l5JKZXLySGNmJySYy2w5PbbXZeRJ/z9S/kn/xNHkSf8/Uv5J/8TVXd7i6WMbVfDsmqeLNCvpGiGn6QJplhH3mnZQiHGMbVRpO/UisLV/gn8Pte1i61TVtANxe3chlmlN7cLvY9TgSAD8BXbeRJ/wA/Uv5J/wDE0eRJ/wA/Uv5J/wDE0gM3wv4T0XwZo/8AZfhqy+xWfmNL5XmvJ8xxk5ck9h3qxNoenT+ILbW5bfdqNrA9vDNvYbY3ILDbnByVHJGateRJ/wA/Uv5J/wDE0eRJ/wA/Uv5J/wDE0Xu7isrWOR1v4Q+BPEeuyazrPh+G5v5SDJL50qByOMsqsFJ+orqDaW9horWtjBHb28MBSKGJAqIoXgADgD2qbyJP+fqX8k/+JqK6hcWcxNzKQI24IXnj6UbKyG9Xdlug8jmofIk/5+pfyT/4mjyJP+fqX8k/+JoAr6Loth4e0e30rR4Ps9lbAiKLez7QSSeWJJ5J6mm6zoeneILOO01e3+0QRzx3CpvZMSIwZTlSDwQDjpVryJP+fqX8k/8AiaPIk/5+pfyT/wCJo3dwMb/hH5ZviD/wkF28bQ22n/ZLOME7kZ33SseO4WMDB7NWf4g+FPgnxTrg1fXfD8F1fjbum8x08zHTeFYB+gHzA8cdK6nyJP8An6l/JP8A4mjyJP8An6l/JP8A4mjt5B38x1vbw2ltHb2sSQwRIEjjjUKqKBgAAdAB2qrpWi6foq3a6Zb+QLy6ku5/nZt8rnLNyTjPoOParHkSf8/Uv5J/8TR5En/P1L+Sf/E0dbh0scnrfwk8C+ItcOsax4dtp75jueUO6CQ+rKrBWPuQav3/AIXF54l8PXCLbw6XoiSyRWyLtxMUEceFAwFVDJ+JWt3yJP8An6l/JP8A4mjyJP8An6l/JP8A4mhabA9SvrWi6f4h0mXTdYt/tFpKyM8e9kyVYMvKkHhlB61Nf6faarp81jqVtFdWs67JYZkDK49CDTvIk/5+pfyT/wCJo8iT/n6l/JP/AImjdWA5jw18LPBfhDUzqPh7QYLW8IIEzSPKyZ67S7HbxxxioNb+EPgTxHrsms6z4fhub+UgyS+dKgcjjLKrBSfqK67yJP8An6l/JP8A4mjyJP8An6l/JP8A4mjt5B3XchNpb2Gita2MEdvbwwFIoYkCoiheAAOAParlVLqFxZzE3MpAjbgheePpUvkSf8/Uv5J/8TQBMeRzVHRdFsPD2j2+laPB9nsrYERRb2faCSTyxJPJPU1Y8iT/AJ+pfyT/AOJo8iT/AJ+pfyT/AOJoAq6zoeneILOO01e3+0QRzx3CpvZMSIwZTlSDwQDjpVD/AIR+Wb4g/wDCQXbxtDbaf9ks4wTuRnfdKx47hYwMHs1bPkSf8/Uv5J/8TR5En/P1L+Sf/E0LR3/ra35Buv673OW8QfCnwT4p1wavrvh+C6vxt3TeY6eZjpvCsA/QD5geOOldXb28NpbR29rEkMESBI441CqigYAAHQAdqb5En/P1L+Sf/E0eRJ/z9S/kn/xNGysG7uV9K0XT9FW7XTLfyBeXUl3P87Nvlc5ZuScZ9Bx7Vzet/CTwL4i1w6xrHh22nvmO55Q7oJD6sqsFY+5BrrPIk/5+pfyT/wCJo8iT/n6l/JP/AImjt5AYV/4XF54l8PXCLbw6XoiSyRWyLtxMUEceFAwFVDJ+JWtXWtF0/wAQ6TLpusW/2i0lZGePeyZKsGXlSDwyg9aseRJ/z9S/kn/xNHkSf8/Uv5J/8TQA2/0+01XT5rHUraK6tZ12SwzIGVx6EGua8NfCzwX4Q1M6j4e0GC1vCCBM0jysmeu0ux28ccYrp/Ik/wCfqX8k/wDiaPIk/wCfqX8k/wDiaNndA9VZnI638IfAniPXZNZ1nw/Dc38pBkl86VA5HGWVWCk/UV1BtLew0VrWxgjt7eGApFDEgVEULwABwB7VN5En/P1L+Sf/ABNRXULizmJuZSBG3BC88fSjZWQPV3ZboPI5qHyJP+fqX8k/+Jo8iT/n6l/JP/iaAK+i6LYeHtHt9K0eD7PZWwIii3s+0EknliSeSeppun6Hp2lX+oXthb+VcalMJruTezGVwoUHknGAAMDAq15En/P1L+Sf/E0eRJ/z9S/kn/xNHW4GN/wj8s3xB/4SC7eNobbT/slnGCdyM77pWPHcLGBg9mrP1j4U+B9f8QDW9X8O21zqG4M0pZ1WQju6AhX/AOBA11PkSf8AP1L+Sf8AxNHkSf8AP1L+Sf8AxNHbyDuZPifwZ4f8ZaXHp3iTTI721iYPGhZkKHGMqykEcccGm+FvA/hvwVbSweF9JgsFmIMjKWd3x0BdiWIHoT3PrWx5En/P1L+Sf/E0eRJ/z9S/kn/xNG2wbnGy/Bj4ez66+rz+GbaS8klMrl5JDGzE5JMZbYcnttrZ1Xw7JqnizQr6Rohp+kCaZYR95p2UIhxjG1UaTv1IrZ8iT/n6l/JP/iaPIk/5+pfyT/4mhaWS6A9btnE6v8E/h9r2sXWqatoBuL27kMs0pvbhd7HqcCQAfgK6Twv4T0XwZo/9l+GrL7FZ+Y0vlea8nzHGTlyT2HetLyJP+fqX8k/+Jo8iT/n6l/JP/iaForIHq7sqzaHp0/iC21uW33ajawPbwzb2G2NyCw25wclRyRmub1v4Q+BPEeuyazrPh+G5v5SDJL50qByOMsqsFJ+orrvIk/5+pfyT/wCJo8iT/n6l/JP/AImgCE2lvYaK1rYwR29vDAUihiQKiKF4AA4A9quVUuoXFnMTcykCNuCF54+lS+RJ/wA/Uv5J/wDE0ATUVD5En/P1L+Sf/E0eRJ/z9S/kn/xNAHAT/AL4a3NxJPP4bLySsXdjf3PJJyT/AKyuqh8HaFB4NPhSGxK6KYWtzaiaT/VsSSu/du5ye9avkSf8/Uv5J/8AE0eRJ/z9S/kn/wATR05egdebqLHAtrZLBZoqLFGEiQk4AAwB9KwvC/hWLR/BMeiaokF686yPqGV3RzyysXl4I5UsxAyOmK3PIk/5+pfyT/4mjyJP+fqX8k/+Joet79QWlrHL+GvhZ4K8Iaq2p+HtBhtb1gQJjJJKyZ67d7HbnJHy444o134V+CvEviEa5rmgQ3moYUNK8kgD7RgbkDBW445B4A9K6jyJP+fqX8k/+Jo8iT/n6l/JP/iaAHxRR28KQwRrFFGoVERcKqgYAAHQVSm0PTp/EFtrctvu1G1ge3hm3sNsbkFhtzg5KjkjNWvIk/5+pfyT/wCJo8iT/n6l/JP/AImjrcPI5ix8CWtxouv2XiaOO9/t++luLxYpHQMmQsSBhtYYjRAffPrWND8AfhpBMk0Xhra8bBlP2+5OCDkf8tK9A8iT/n6l/JP/AImjyJP+fqX8k/8AiaFo7r+rbA9bp/1cmrO0nw/peh6bLYaZaLFazSyTSRMzOGaRizk7iepJ46Vb8iT/AJ+pfyT/AOJo8iT/AJ+pfyT/AOJoA5fQ/hV4J8N6+da0Tw9bWt+clZQzsI89disxVPT5QOOK6hv+P6L/AK5v/NaPIk/5+pfyT/4momhf7ZGPtMufLfnC8cr7UdLAW6Kh8iT/AJ+pfyT/AOJo8iT/AJ+pfyT/AOJoAmqjZ6Lp9hq2oalaW/l3epNG11JvY+YUXavBOBheOAKseRJ/z9S/kn/xNHkSf8/Uv5J/8TQBxOr/AAT+H2vaxdapq2gG4vbuQyzSm9uF3sepwJAB+AqVvhnpWn6PpWheHLWOx0W31VNQvLdppJGlKDcoBcseZFjJBIGAa7HyJP8An6l/JP8A4mjyJP8An6l/JP8A4mhe7t/Vgeu/9XKuo6Hp2r3mn3Wo2/nTabP9otW3sBHJtK7sAgHgnrnrV50SWNo5FV0YFWVhkEHqCKj8iT/n6l/JP/iaPIk/5+pfyT/4mjpYPM5fQ/hV4J8N6+da0Tw9bWt+clZQzsI89disxVPT5QOOK6bULC21XTLnT7+PzbW6iaGaPcV3IwIYZGCMgnpTvIk/5+pfyT/4mjyJP+fqX8k/+Jo3VugLR3RheJvDB1bwO3hrTGS2tZUitZN7N8tsGUSKp5JYxggZ7nk1Y8R+DPD3i3SY9N8RaVBe2sX+qRsqYuMfKykMvHHBFavkSf8AP1L+Sf8AxNHkSf8AP1L+Sf8AxND13BabGT4X8F+HfBdjJaeGNKhsIpSDJsJZpCOm52JY4ycZPGaytH+EvgbQNeOtaV4dtob/AHmRZS7uI2JzlFZiqH02gY7V1fkSf8/Uv5J/8TR5En/P1L+Sf/E0dbh0sYfizwB4Y8cx26eKdKjv/sxJhYyPGyZ6jcjA4OBxnHFXPDnhfRPCOlDTvDmnQ2FqDuKRAku3qzHJY9skk8VoeRJ/z9S/kn/xNHkSf8/Uv5J/8TQtFZA9dwtf9S3/AF0k/wDQzU1VLaFzEcXMo/eP0C/3j7VL5En/AD9S/kn/AMTQBNRUPkSf8/Uv5J/8TR5En/P1L+Sf/E0ATVRGi6ePELa4Lf8A4mLWotDPvbmIMXC7c7fvEnOM+9WPIk/5+pfyT/4mjyJP+fqX8k/+JoAxtJ8Py2ni7XddvXjkl1DyYLcJk+XbxpwpyOpd5CcZGNtZuj/CXwNoGvHWtK8O20N/vMiyl3cRsTnKKzFUPptAx2rq/Ik/5+pfyT/4mjyJP+fqX8k/+JoWmwEx5HNUdF0Ww8PaPb6Vo8H2eytgRFFvZ9oJJPLEk8k9TVjyJP8An6l/JP8A4mjyJP8An6l/JP8A4mgDkrv4ReA77xI2vXfhq1l1BpPNdyz7Hf8AvNFu2Enqcryea1P+Eflm+IH/AAkF08bQ22n/AGSyjXO5Gd90rHjuFjAwezVs+RJ/z9S/kn/xNHkSf8/Uv5J/8TRtby/4YHre/wDXU4Cf4BfDW5uJJ5/DZeSVi7sb+55JOSf9ZXS/8IL4aPg+PwrJpMMuixLtjtJmaQJyTkMxLA5J5zkVteRJ/wA/Uv5J/wDE0eRJ/wA/Uv5J/wDE0rK3L0DrfqYHhT4d+FPBDyv4X0aGxlmG2SXe8khXrje5JxntnHFUtb+EngXxFrh1jWPDttPfMdzyh3QSH1ZVYKx9yDXWeRJ/z9S/kn/xNHkSf8/Uv5J/8TT3dw8iNreG0sIbe1iSGCJokjjjUKqKGUAADoAO1WqqXMLiIZuZT+8TqF/vD2qXyJP+fqX8k/8AiaAJqKh8iT/n6l/JP/iaPIk/5+pfyT/4mgCauV8WfDPwl44vYLvxTpRvp7ePyom+0zR7VznGEcDrXSeRJ/z9S/kn/wATR5En/P1L+Sf/ABNKyC5xdj8KvD/hPTNWfwBpsWmarfWT2yTzXU0iAkcZDM2ADg8DPFbY8FaHJ4JtvCl/YxXulW9vHAIZhnIQABsjkNxnIwc1s+RJ/wA/Uv5J/wDE0eRJ/wA/Uv5J/wDE03qrP+v6uHW/9f1oYvhTwJ4a8EW80PhbSYrBZyDKwZpHfHQF3JYgZOBnAya1NX0iy17R7rStWg+0WV3GYpot7LvU9RlSCPwNTeRJ/wA/Uv5J/wDE0eRJ/wA/Uv5J/wDE0PXcFpsUtV8OaRrmgtour2EV5pzIqGCUEgAdMHqCOxBzVDwv4E8OeB7O4h8JaTDYGfl23u7OR0DOxLYGemcDJrc8iT/n6l/JP/iaPIk/5+pfyT/4mju+4eRgeHPB9tp3gWPQNaht7/7QHk1AMm6OeaRi8hwRyNzHGR0Aqv4a+FngvwhqZ1Hw9oMFreEECZpHlZM9dpdjt444xXT+RJ/z9S/kn/xNHkSf8/Uv5J/8TR1uhdLM5fXfhX4K8S+IRrmuaBDeahhQ0rySAPtGBuQMFbjjkHgD0ro7rStPvdJfS7uyt5rB4/Ka1eMGMp2Xb0wMVL5En/P1L+Sf/E0eRJ/z9S/kn/xNKytboVd3ucx4a+FngvwhqZ1Hw9oMFreEECZpHlZM9dpdjt444xXTr/x/S/8AXNP5tR5En/P1L+Sf/E1EsL/bJB9plz5ac4XnlvamTZFuiofIk/5+pfyT/wCJooGZNFFFACVnaH4g0vxJp7X2h3a3dssrwmVVYAspwQMgZ+o4PauV8aeLNKfV08JT63ZaWJUEmp3FzdpAY7c/8s0LEZd+mR91cng7ct+FOo6RcafrVppF7ZSiLWLt0htpUbZEZDsYBTwpA4PQ9qI6t+n6oJaL+uzO+qpqv/IGvf8Ar3k/9BNW6qar/wAga9/695P/AEE0AXPFPiCbw/psctjpF3rN7cSiG2s7UAF2wTlnPCKADlj0rF8K+PL/AFXxDJ4f8VeGZ/DWr+QbmCF7pLmO4iBAYrIgAJBIyvvXSa7r2n+G9Jk1HVp/KgQhVCqWeRzwqIo5ZieABya5vQNL1XWvFh8YeIbRtN8u0a00zTHIaSGNyGeSUjI8xiqjaCQoHUkmlezbe3/A/wA/wB7ef/B/yMzUvinqovdRfwx4Jvte0fSpngvtRjuo4cOn+sEUbDdLt6ZGOQR710F944iHhHTtb8PaZd66+qhPsNragBnLKW+djxGAAdxPQ8VmfBd1k+EWjvnLt55lOOd/nybs++c1Q+HGvaf4b+CtjqOqz+VaJPcLAFUs0gNzII0jUcsSMAAcmm1a8X5f8H7+n6j63X9f11NXwr48v9V8QyeH/FXhmfw1q/kG5ghe6S5juIgQGKyIACQSMr70mrfE/TrDxPZaJZaffX0k+pR6dPdCFo7e3kbPymRhh2ABOFz05Ip3h7S9V1vxd/wmHiG0OmiO1a00zTHIaSGN2DPJKRkeY21RtBIUDqSTUPxN/wCPrwX/ANjPa/8AoElNbxv3V/m/8vxJe0muza+6/wCZ3VcT4k8Y+LNL1ie30D4f3et2NqAZr3+0IrfdlQx8tGy0mAccY5BFdtXG+NR8RjcY8C/2B9iMH7z7cZRc+Zk58sgGMcYxuB5zkYqJX6FI2/DfiO18V+FLPXdJVxDeRF40lGGVhkFWHqCCOvavN9D1bQ7rRTP4/wDGGo6Z4nLP9qs31eWxe3fJwkVsjhXXGNp2vu65Oa6n4exaPq3wwtdO06LULO2tzJaXET3TR3Ec6OfNBliIOS+TlSAc9AOKxdZtbCz8WaZHbXfjBbCyMyX8Uf8AbU4nJQCPa6BlbDc5DfnVuym7fL+v66Ci/dIp9Z8SHwJ4NudXnu7W+ufENvDKxBgkntzI4TzUGMFkCllwBk9B0HqteJ6kXl1bQ7Y63cpZHxBbXEUeqaHq8TsQ52xi4uHkXdg4xtQH/ZAr2yhfC35/pET+L5fqyG8/48Z/+ubfyqaobz/jxn/65t/KpqQzF8SeKrHwxDAbuG8uri6YpbWljbNNLOwGSABwOO7EAetReFPFcHibwRa+JZIDYW9xE8rRyPuMaqzDJOPRc/41vN90/SvOvhlpketfADT9LnYpHfWNxbuy9QHeRSf1pO/LK2+lvxGrcyvsVG+L+qrYjX/+EC1L/hEDh/7Y+1R+aIs4837N9/Z3znpzXp0M0dxbpPAwkjkQOjA8MCMg14rqt18R9D+GN/4a1Pw9pcNjYaXJbyeIn1BWieBYyMi3xv3leBnjd7V6f4Egntvh54egvAVnj0y3WQEYwwjXNVZNO3S3rrf/ACJ1Vr9b/hb/ADORuvHvxIs4Jrif4UKlvCrO8reJbYBVAyWPy8cc1q2nj/Ubn4e6V4g/4RS9fUtWOLXSLeUSMc7irNIQoRSoDFiBjIHWm/ESVtYvNG8FW7Y/tyZnvirYK2UWGlHtvO1P+BGum1rW9M8LaK17qUot7WLbGiIpLOx4WNFHLMegUVP2X/Xr/l6plP4tP67f5/cc74V8eX+q+IZPD/irwzP4a1fyDcwQvdJcx3EQIDFZEABIJGV96TVvifp1h4nstEstPvr6SfUo9OnuhC0dvbyNn5TIww7AAnC56ckU7w9peq634u/4TDxDaHTRHataaZpjkNJDG7BnklIyPMbao2gkKB1JJqH4m/8AH14L/wCxntf/AECSqW8b91f5v/L8SXtJrs2vuv8Amd1XAan4v+Ilrqt1Bp3wv+32kUrJDdf8JBbxecgPD7CuVyOcHpXf1yHxJ1a6svDcOl6RJ5eq67cppto4PMfmffk/4AgZs+oFS79P6uUrdSp4b+IGsa/4BvPELeELiO6iuWt7bTra8Sc3W1gm4SYVQu8sCeRhSeRSeHviDq9z4ptvD/jLwjceGr6+iklsW+2x3cU4jALrvTG1gDnHp+FdPDpbaJ4UXS/DMdvFJZ2nk2KXGfKDKuE37ecZxnHPWvO7OfxNZfEzQrj4pQWDPL5tro8+iyN9lindMuJEkHmb2RCA2So54yc1WnPbp/wPzv8A5E68l2d94v8AE1r4P8J3+uXymSO0jysSnDTOThEHuzED8ai8O6//AMJV4Bs9d+zfZf7QsvP8jzN/l5XpuwM/XArzfVvGfhvxh4jvrrUvEek2uj6As0en2k9/Gkl5ebCpnKEg7UyVTjkksOMV0/wl1Kxv/gvo8VjeW9zJa6csVwkMquYX2fdYA/KfY80o6pv0+7X+vuHLRpev6f1956BWL4k8VWPhiGA3cN5dXF0xS2tLG2aaWdgMkADgcd2IA9a2qRvun6VMm1FtDRznh3xXP4n+H0XiTTNKYz3EEstvYPOFLspYKhcjClio56DPfFcdq/xN+IGg6Rcanq3wqFvZ2yb5ZT4jt22j6BSSc8AAEk1ufBj/AJI9oH/XKT/0a9N8St/wk/xI0jwsMPY6cg1jUlzwxVttvGfq+Xx/sCrkrT5V3/r8BL4bvp/X5nYaTdXN9o1ndX9mbG5ngSSa1Zw5gcqCU3DGcHjPtXKat8T9OsPE9lollp99fST6lHp090IWjt7eRs/KZGGHYAE4XPTkiu2rhfib/wAfXgv/ALGe1/8AQJKN5rs2vxaFqoPuk/wTNbx14quPCHh1L+x0v+1rqa7htILP7QIPNeRwoG8ggcn0qv4U8Q+MNX1GWHxR4H/4R62WLclx/a0N1vfIGzagBHBJz7VL488J3fjDRbW007WP7HurS+ivYrr7KLja8eSvyEgHkg856dKw/Dup+LfD3jy38LeMdXtdfh1G0lubLUYrVbaVWjK70eNflxhgQR6UobtP+tP+HHLa6/rX/hi7q3xP06w8T2WiWWn319JPqUenT3QhaO3t5Gz8pkYYdgAThc9OSK7auF+Jv/H14L/7Ge1/9AkruqF8N33/AEX+YP4reX6v/IxfF/ia18H+E7/XL5TJHaR5WJThpnJwiD3ZiB+NY6fEazj+GFh4xvrGZBfxRGGwtz5skkshwkSnA3Ek9cCuK1bxn4b8YeI7661LxHpNro+gLNHp9pPfxpJeXmwqZyhIO1MlU45JLDjFHh7TH8ZfAXwsnhTUbGbWdBa1vI42lDIs8Qz5Uu3JUlWPXnkUlqm/T7ne/wDn93oN6NL1+/S39ep1Gj/EXWP+EkstI8aeDbnw0dTZksLk3sd1HK4BbYxQfIxAOAeuDTtc+IerxeJr3RPBvg+58SzaaE+3zC9jtY4S67gis+d7YIJA6Zrj/FWq+Ode1XwhF4g8N2fhyFPENqyQG/S8nunXJZl2DCIqByc88jtmtD+yvEXi/wAc+JdS8DeIl8J2sE/9nXcq2y3bX9xEoDOUYhY9oIUMDuOOe1Pdff8Ahbf7/wAhbfh+b/y/M7zw74ptPGPg99VsoZ7bIlhmtrlNskEqZV0YeoIroa8++GDpb+BdR0WSARaho13cWl+4laQXE/32mDN8x37w3PIJI7V6DVStfQS8zF8SeKrHwxDAbuG8uri6YpbWljbNNLOwGSABwOO7EAetVfDviufxP8PovEmmaUxnuIJZbewecKXZSwVC5GFLFRz0Ge+K6Nvun6Vw/wAGP+SPaB/1yk/9GvUrVP5fqPqjD1f4m/EDQdIuNT1b4VC3s7ZN8sp8R27bR9ApJOeAACSa9K0m6ub7RrO6v7M2NzPAkk1qzhzA5UEpuGM4PGfauP8AErf8JP8AEjSPCww9jpyDWNSXPDFW228Z+r5fH+wK7uhfDf8ArTT8/wAvMH8Vv6/q35nE6t8T9OsPE9lollp99fST6lHp090IWjt7eRs/KZGGHYAE4XPTkitLx14quPCHh1L+x0v+1rqa7htILP7QIPNeRwoG8ggcn0rJ+Jv/AB9eC/8AsZ7X/wBAkrT8eeE7vxhotraadrH9j3VpfRXsV19lFxtePJX5CQDyQec9OlJfCvXX092/5sb+K3l+Pvf5Ii8KeIfGGr6jLD4o8D/8I9bLFuS4/taG63vkDZtQAjgk59qq6t8T9OsPE9lollp99fST6lHp090IWjt7eRs/KZGGHYAE4XPTkiqXh3U/Fvh7x5b+FvGOr2uvw6jaS3NlqMVqttKrRld6PGvy4wwII9Ks/E3/AI+vBf8A2M9r/wCgSVWnNHs2vzsS72l3Sf5XO6rF8X+JrXwf4Tv9cvlMkdpHlYlOGmcnCIPdmIH41tV4xq3jPw34w8R311qXiPSbXR9AWaPT7Se/jSS8vNhUzlCQdqZKpxySWHGKzm2k7f1/X5lxSvr/AF/X5Hap8RrOP4YWHjG+sZkF/FEYbC3PmySSyHCRKcDcST1wKpaP8RdY/wCEkstI8aeDbnw0dTZksLk3sd1HK4BbYxQfIxAOAeuDXL+HtMfxl8BfCyeFNRsZtZ0FrW8jjaUMizxDPlS7clSVY9eeRUPirVfHOvar4Qi8QeG7Pw5CniG1ZIDfpeT3Trksy7BhEVA5OeeR2zWzS9py+dvk7amSbdPm8r/PX8DsNc+IerxeJr3RPBvg+58SzaaE+3zC9jtY4S67gis+d7YIJA6Zrc8O+KbTxj4PfVbKGe2yJYZra5TbJBKmVdGHqCK4P+yvEXi/xz4l1LwN4iXwnawT/wBnXcq2y3bX9xEoDOUYhY9oIUMDuOOe1bnwwdLfwLqOiyQCLUNGu7i0v3ErSC4n++0wZvmO/eG55BJHaohrHXtf+vLX11XmXLR6d7f15/hueg1i+JPFVj4YhgN3DeXVxdMUtrSxtmmlnYDJAA4HHdiAPWtqkb7p+lTJtRbQ0YPhTxXB4m8EWviWSA2FvcRPK0cj7jGqswyTj0XP+Nca3xf1VbEa/wD8IFqX/CIHD/2x9qj80RZx5v2b7+zvnPTmrfwy0yPWvgBp+lzsUjvrG4t3ZeoDvIpP61zGq3XxH0P4Y3/hrU/D2lw2NhpclvJ4ifUFaJ4FjIyLfG/eV4GeN3tVVHyyl5bfjf8AQIxvZff+H/BPaoZo7i3SeBhJHIgdGB4YEZBrza68e/EizgmuJ/hQqW8Ks7yt4ltgFUDJY/LxxzXXeBIJ7b4eeHoLwFZ49Mt1kBGMMI1zWJ8RJW1i80bwVbtj+3Jme+KtgrZRYaUe287U/wCBGnUi4zcV6f1+pMJXgpP1HWnj/Ubn4e6V4g/4RS9fUtWOLXSLeUSMc7irNIQoRSoDFiBjIHWneFfHl/qviGTw/wCKvDM/hrV/INzBC90lzHcRAgMVkQAEgkZX3rota1vTPC2ite6lKLe1i2xoiKSzseFjRRyzHoFFc94e0vVdb8Xf8Jh4htDpojtWtNM0xyGkhjdgzySkZHmNtUbQSFA6kk0aObtt+Xb8fwDVR13/AODr+A3Vvifp1h4nstEstPvr6SfUo9OnuhC0dvbyNn5TIww7AAnC56ckV21cL8Tf+PrwX/2M9r/6BJXdUo/D8/0X+Y38VvL9X/kcBqfi/wCIlrqt1Bp3wv8At9pFKyQ3X/CQW8XnIDw+wrlcjnB6VL4b+IGsa/4BvPELeELiO6iuWt7bTra8Sc3W1gm4SYVQu8sCeRhSeRVv4k6tdWXhuHS9Ik8vVdduU020cHmPzPvyf8AQM2fUCtuHS20Twoul+GY7eKSztPJsUuM+UGVcJv284zjOOetJfC/u/V/p9/kN/Ev6/r/gHMeHviDq9z4ptvD/AIy8I3Hhq+vopJbFvtsd3FOIwC670xtYA5x6fhXQ+L/E1r4P8J3+uXymSO0jysSnDTOThEHuzED8a4Gzn8TWXxM0K4+KUFgzy+ba6PPosjfZYp3TLiRJB5m9kQgNkqOeMnNUNW8Z+G/GHiO+utS8R6Ta6PoCzR6faT38aSXl5sKmcoSDtTJVOOSSw4xSm/d031/D9dvvXQIr3tfL8f0/4J6R4d1//hKvANnrv2b7L/aFl5/keZv8vK9N2Bn64Fb9ef8Awl1Kxv8A4L6PFY3lvcyWunLFcJDKrmF9n3WAPyn2PNegVrNJSaREG3FNhRRRUFHnev8AxF8T6HdX90fh3fz+H7Bn87UhfwrIUQkNItufmK8ZByMjniui1nxcLHw3Zanoul3euTakE+xWtqApl3ruBZm4Rcclj0rmfiHB8RrqPU4NIi0abw3LDskjglePUniKYlCs4MQY/NgkdMd+a3tO8W+HNO+G+m67byNbaM1rEtpGVLSEEBUiVRks/G3AySfzpL4Xfy9ev9L5jfxK3n+n9MqeFfHl/qviGTw/4q8Mz+GtX8g3MEL3SXMdxECAxWRAASCRlfetzxf4hHhTwfqeum3F19ggMwgMnl+YR/DuwcZ+hrE8PaXqut+Lv+Ew8Q2h00R2rWmmaY5DSQxuwZ5JSMjzG2qNoJCgdSSa1/GvhtvF/g3UNBS9+wm9QJ9o8rzNmGDfdyM9MYz3olfl8/6/QI25vIxvDXirxxqusQQa78PP7F0+RSz3p1qG48v5cj92oDHJwPbNHiTxj4s0vWJ7fQPh/d63Y2oBmvf7Qit92VDHy0bLSYBxxjkEVkWl3428EeK9EsfFPiK08TaVrVwbNZvsKWk9tLsZlwqEqynaQc8jNbfjUfEY3GPAv9gfYjB+8+3GUXPmZOfLIBjHGMbgec5GKctrx/r1FG+0v69CR/iPo6/DOPxssdy9jLErR26oPOeRn2CILn72/wCXrj8KzdI+JGsf8JDp+l+M/Bl34bGquY7C5N5HdRyOFLbH2AGNiBwDnv6VzkupaM/wIsdH0rTJmlu7xdGhtL642vDfeadzvKndXVpNyDnAwBnhLnQ/E3hHxT4W1nx14n/4SuxS8WyiQ2wtTZTzLsSYBTiXqVJbkBsiqVnPyvb+vPVWe2qE/g87P+vzv10Z6zqup2ui6Rd6nqMvlWlnC08z4ztVRknHfgV5/afFjU0u9PufEPgi+0bw/qcyQ2mqzXcbkGQ4jMsI5iByOSTjNaPxofZ8I9YJOEJgEnH8BnjDZ9tuaX4xbP8AhT+ubcZ8qPyf9/zU2Y992MVK3v5/1/wCrXsv6/ruXfFfibxNpOoxWnhbwTceIiYhLNMb+K0ijySAoZ87m4yQBwCPWrHhXxrZ+JvDNxq8ltPprWUssF9bXI+e2ki++px1x1yP/rUzxb/wnP2W0/4QT+wfM2t9q/tjzs9Bt2eX3+9nPtWV8KZ4xpOrWFzbz2+uWuoyNrKzyLJvuZAH3qyALsKldoAGAMEZ5Ir6r+t/y/4Am9E+/wDk/wAS14b+I9n4o8XTaNp+mX8MCWIvY7y8hMAuEMmwFI2G7aefmOOnTvXWN/x/Rf8AXN/5rXFx/wDJwk//AGLEf/pU1do3/H9F/wBc3/mtP7Kfr+bQtpNen5Jk1FFFIZT1bVbPQ9JuNS1OUw2tuu6RwjOQM44VQSTk9ACawfB/jmPxhqmsWsOlXunLpjQr/pyeXJL5ilgfL6qMYIzyc8gdK6quF8If8lW+IP8A12sP/SYULd37fqgOg8X+JrXwf4Tv9cvlMkdpHlYlOGmcnCIPdmIH407wjr//AAlXg/S9d+zfZf7Qt1n8jzN/l5HTdgZ+uBXmGreM/DfjDxHfXWpeI9JtdH0BZo9PtJ7+NJLy82FTOUJB2pkqnHJJYcYrrfgzqVjf/CXQIrG8t7mS1s44rhIZVcwvj7rAH5T7HmiOqb9Pu1/r7glo0vX9P6+8m8V+O7/SPEMXh/wt4auPEmsNb/a5YEukto4ItxUFpHyASQcDvipNC+ItlqXhvWNS1exudFuNBLrqllcYZoCqb/lYcOCvII61zniCy1jxV8V7qDwXqy+G7zRbKOLUNU8kXDTiXLxw+S3ykKAW3HkFsCsvTNRg8FeFvHuleLoBrWpWhW4vrkyEDVluV2RZBP7voEKjhQMjOanXkfezt9+lvl8+2hVlzLtp+X+f/B1Nq1+LOrRPY33iLwLqGj+HtQljit9Te7jlZTIQEMsK/NGCSOSTjI610XjHxwPDFzY6ZpulXGua5qO42unWzqhKr953c8Igzjcf6HHmuseFPF/hXwrpms+LvEy67oWiTw3NzoKw+WI0VhtxPndN5ZKkCThtvNbF7a+Itc+Nevx+GtTt9Ili0mzRdTmthctDCxkYrHGSFJZ+STwAvQk1cktl3fra1/T9O2pC2u+3yve3r1R6D4U1nWNZ06WTxF4dm8P3sUuw2z3KXCsuAQyyJwRzj2Ip3iTxVY+GIYDdw3l1cXTFLa0sbZppZ2AyQAOBx3YgD1rB8A614gOt654X8X3UGo6ho/kyJqNvD5QuYZVJXcg4VwVOccc+2T27fdP0qZu0boa3sznPDviufxP8PovEmmaUxnuIJZbewecKXZSwVC5GFLFRz0Ge+K47V/ib8QNB0i41PVvhULeztk3yynxHbttH0Ckk54AAJJrc+DH/ACR7QP8ArlJ/6Nem+JW/4Sf4kaR4WGHsdOQaxqS54Yq223jP1fL4/wBgVUlafKu/9fgC+G76f1+Ze1zx2vhzwppmo6ppNydW1MRx2+i2zCWZ52XJjB4BC85bGBj3Aqx4S8QeIdZe6i8UeEZvDksQVos3sd0kynP8SdGGOh9RXJeN4da1D4z6BZ6DPBa3Mej3UkF5cxeatqWkjV5AmQHbb8oGR97J4rR8J6n4q0bx7L4R8Y6rBr3nWBv7LUorVbd8K4R0kRflHLDBHpz14I2lr3vb5X/yb1/MHordrX+dv8zu7X/Ut/10k/8AQzU1Q2v+pb/rpJ/6GampAFFFFAFbUr+LS9Lub6dJXjtomlZIULuwAzhVHJJ7CuCg+J2t2mq2Q8V+Bb7QtH1C4W3t9RkvI5irucIJY15iySByTgmvRJZY4IXlmdY441LO7nAUDkknsK8+nluPihe2K2MElt4Ts7tLt72ZcPqbxtuRYlPIi3AEucbsAKMc0L4l/WnX/gfqD+H+t+h6EzBELMcBRkmvNLz4ra1p6/2tfeANUt/CwYF9VkuYxMkZOPMa2++F78npz7V6ZXnuv39x8SYrvwx4aVl0V38jVNbOPLKA/PDb/wDPRzjaX+6uTyTxS1vp/Xr/AF949Lam94u8a2XhPSLa6NvPqV1fyrDYWNmA0t1IRkBfbHJboB+FJ4S8QeIdZe6i8UeEZvDksQVos3sd0kynP8SdGGOh9RXH+MbTV7n4w+HdN8Oy29nNBoty1tdXEXmpaZkjR3CZAdtgCgEj72TxWn4U1PxVo3jybwj4x1aDXvPsDf2WpRWq27gK4R0kRflHLDBHpz14cbP53t8r/wCTf4Cd0vS1/nb/ADKOnfErxvrfmXGhfDT7dpouZYI7z+3oIxII5ChbYyg9VNeoDpzxXjdx4c8d/Cvwvc6ppHi+z1fSdM826k0i70xIA0ZYySYmVi27liM8Z/KvXrK6S+sLe7hyI54llXPXDDI/nTXwg9JfkcDr/wARfE+h3V/dH4d38/h+wZ/O1IX8KyFEJDSLbn5ivGQcjI54rotZ8XCx8N2Wp6Lpd3rk2pBPsVragKZd67gWZuEXHJY9K5n4hwfEa6j1ODSItGm8Nyw7JI4JXj1J4imJQrODEGPzYJHTHfmt7TvFvhzTvhvpuu28jW2jNaxLaRlS0hBAVIlUZLPxtwMkn86lfC7+Xr1/pfMb+JW8/wBP6ZU8K+PL/VfEMnh/xV4Zn8Nav5BuYIXukuY7iIEBisiAAkEjK+9UdZ+I/iGyurubR/h9qWqaLYu6XGofao4XbYcO0ULfNIowcHjOKv8Ah7S9V1vxd/wmHiG0OmiO1a00zTHIaSGN2DPJKRkeY21RtBIUDqSTSeIvEd9rV1eeFvBUfn3+3yb3U3H+j6YGHOT/ABy4ORGO+NxA6jvZW37f15bhHlvrtpr/AF57HRWOrWmu+H7HVdNk820vFhmhfGCVZlIyOx9q06ydK0a28O+F9O0ex3G3sUhgjLdSFKjJ9z1rWq5Wu7bExvZX3CiiipGFc34s8T6hoX2a10Hw7d+INTugzR28Miwxoq4y0krfKg5AHUk10lY3iTxPY+GLOKW7Wa4ubl/KtLK2TfPdSf3UXv6knAA5JFJjRm+DPG03iW6v9M1nRZ9B1vTthubCaVZRsfO10kXh1OCMjoRVvxj4th8I6VDO1ncaheXk62tlY2wHmXEzAkLk8KMAkseABVPwjoWpprGp+J/Eixw6pqqxxLZxNvWyt487I9/8bZZmY9MnA4HNDxY4Hxe8ApKf3Z/tAqCOPMEK4/HBb9ae9l/Xf+vMS6v+v6v+BL4W8fahqfiRvD3izwzP4a1drc3NvE92lzHcRggNtkTA3DIyvpzUGt/EbUl8R3eh+CPCdx4ou9P2i+kW8jtYIGIyE8x8hnx1UdPzw/xd/wAlU8A+V/rfOvt2Ovl/Z/m/Dds/SuJ8C6R481jwveX3hrxHZ6AH1S9meOSwW5e+m899xkZj+7XhVwoJ+Un0FK/6/n/XzHt87fr/AJfcz0PXfHR0Pw/pdy2iXs+r6syxWmjKVEzSldzKzZ2qFAOW6Ac1W8L+PtQ1LxGfD/i3wxceGtWkgNzbRvdJcxXMakBtsiADcMjK+hrm/N8SeNvDPhTxzodlayeINEmuEn06STy4rrrDMqOfuklMqTwO545rfb/F2t/GTwXP4k0W00FYVvXTT47tbqcJ5OGkeRRtCligAHfOe1Uvit6/lpbv/XqS/h/re+39f8A9L8VeJbPwj4autZ1BJZYrcKFhhXdJK7MFVFHcliBXL6R8SNY/4SHT9L8Z+DLvw2NVcx2FybyO6jkcKW2PsAMbEDgHPf0q58VrqFPBJ057NLy51e6hsLKN5TEqzu2UkLjldhXfkc/LXH3Oh+JvCPinwtrPjrxP/wAJXYpeLZRIbYWpsp5l2JMApxL1KktyA2RShrLXvb+vPX01Q5aR07X/AK8vxOl1Pxf8RLXVbqDTvhf9vtIpWSG6/wCEgt4vOQHh9hXK5HOD0qPSPiq8/wAPLjxTr/h+bTdt6bO1sra5W6e8fcEXy2AUHL7lHb5SckVqfEnVrqy8Nw6XpEnl6rrtymm2jg8x+Z9+T/gCBmz6gVW8X+BprjwPpWm+EfIt7vw/c293p0c+fLdoeAjEeoJ59aS218l+V/uX5+Q3vp5v/L73+RBo/wARdY/4SSy0jxp4NufDR1NmSwuTex3UcrgFtjFB8jEA4B64Ndyv/H9L/wBc0/m1eMeKtV8c69qvhCLxB4bs/DkKeIbVkgN+l5PdOuSzLsGERUDk555HbNezr/x/S/8AXNP5tVfZv52/J/qTs7eX+f8AkTUUUUhmHRTCZeyJ/wB9n/Cmlp+0cf8A38P+FAGZqHhHw3q1413qvh/S725YANNc2UcjkDgZZgTVPwj4K03wgt/9gt7VZLy7ln8yC1WIpGzFli46qucDt7Ct4tc9oov+/p/+Jppe77QQ/wDf4/8AxNC02B67liqmq/8AIGvf+veT/wBBNOL33a3t/wDv+3/xFVNTkvjpN2Ht7cL5D5InYkDae2ygBfHvg3VfFj6PNoviIaFcaXctcxymxW6DOUKg7WYDgM3UHr2qLw34Z8caZrcdz4h+IX9uWKqwey/sWC23kjg70ORg8+9dduuf+eMX/f0//E0brn/njF/39P8A8TQtNgeu553d/CnVI77UIvDXje/0TQtUmee80yK1jkO5/wDWeVK3zRZ9gcE1f8TfDi51DSfDlj4S10eHE8Pyb7UmyW75CbF4dgMgFuTnk5612u65/wCeMX/f0/8AxNG65/54xf8Af0//ABNK1lb0/Db7h9b+v47/AHnI+G/DPjjTNbjufEPxC/tyxVWD2X9iwW28kcHehyMHn3rX8TeGv+Ejl0V/tf2b+ytUi1DHl7/N2Bhs6jGd3Xnp0rX3XP8Azxi/7+n/AOJo3XP/ADxi/wC/p/8Aiaq+3l/w5Pfz/wCGKmp2WpXV5p0mnat9ght5993D9mWX7XHgjy9x5TnB3DniuW1rwZ4xvdaurjRfiNd6Vp1y242R02Gdo8jBCSscqPT0rtN1z/zxi/7+n/4mjdc/88Yv+/p/+JqbDM7wv4asfCXh+DSNMMzwwlmaW4k3yTOxLM7t3YkkmuMm8H+Kjr2sXM5/tO3ur1prP/irtRsPs8JVQI/KijKDBBOQe/tXom65/wCeMX/f0/8AxNG65/54xf8Af0//ABNPd3DZWPPYfBeqSajYzX+g2862tylxGbjxtqVyI3U8OI5IdrEc4Br0iod1z/zxi/7+n/4mjdc/88Yv+/p/+Jo6WDrcLz/jxn/65t/KpqqXTXH2ObdFEB5bZIkJ7f7tS7rn/njF/wB/T/8AE0ATEZBFYXgzw1/wiPg6w0H7X9r+xoy+f5fl78sW+7k46+ta+65/54xf9/T/APE0brn/AJ4xf9/T/wDE0AeeP8Lda1e4jtvGPju/13QYpRIulmzjt/NCnKrNInMoGBkHGSM11Qm1ib4geRF5kGiWmnbpAYhtuJ5HwoViM/IqNkA/xrmtndc/88Yv+/p/+Jo3XP8Azxi/7+n/AOJp3/r8AepjR+GCPiFN4onvTKTpy2EFr5eBCN5d23Z5LHb2GNorP8e+DdV8WPo82i+IhoVxpdy1zHKbFboM5QqDtZgOAzdQevaup3XP/PGL/v6f/iaN1z/zxi/7+n/4mp6Jdv8AO/5h1b7/AOVvyOR8N+GfHGma3Hc+IfiF/bliqsHsv7Fgtt5I4O9DkYPPvWv4m8Nf8JHLor/a/s39lapFqGPL3+bsDDZ1GM7uvPTpWvuuf+eMX/f0/wDxNG65/wCeMX/f0/8AxNVfby/4cXfz/wCGMbVptZfxdodnphkhsP31xqMwiDK6KoVItxBwWdw3GDhDRqfhg6p410TXpr0iLSI5xHaeXw8kqhfM3Z7KCMYP3jzWzuuf+eMX/f0//E0brn/njF/39P8A8TS/r+v68x/1/X9eRn+JdJv9Z0V7XSNZn0W83q8V5BGshQg9CjcMp7g1zWifD3VE8QWeteNvFt14mutO3Gxj+yR2kEDMCC5jT7zYJAJPGT7Y7Xdc/wDPGL/v6f8A4mjdc/8APGL/AL+n/wCJoWjuD1Vmc7e/DXwZd21wg8KaFHLMjDzv7MhLKxH3vu9c80eE/B1j4H8Dx6PYpbtJFb7bi5htlhNy4XHmMBnJPuSfeui3XP8Azxi/7+n/AOJqK6a4+xzboogPLbJEhPb/AHaFpsD13LdBGQRUO65/54xf9/T/APE0brn/AJ4xf9/T/wDE0mrqzAyfBfhv/hEPB9hoX2r7Z9jRl8/y/L35ct93Jx1x1pmi+GDpXijX9cmvTdTaxJCQvl7fIjjTasY5OeSxzx97pWzuuf8AnjF/39P/AMTRuuf+eMX/AH9P/wATVXbdw6WMbztZn+IPkRmSHRLTT90mYhtubiR/lAYjPyKjZAP8a5p3ibw1/wAJHLor/a/s39lapFqGPL3+bsDDZ1GM7uvPTpWvuuf+eMX/AH9P/wATRuuf+eMX/f0//E0treX+dw7+f+VjH8WaHq+t6fCnh7xHP4fvYJfMW5igSdXGCCrxtww5z7EA1leFPAV1o+uy+IPE/iK58Sa48P2eO6lgSCOCLOSscS8KScZOecDpznrd1z/zxi/7+n/4mjdc/wDPGL/v6f8A4mhaA9VYyPE3hr/hI5dFf7X9m/srVItQx5e/zdgYbOoxnd156dKbq82sSeLtDstMMkNh++uNRm8oMroqhUi3EHBZ3DcYOENbO65/54xf9/T/APE0brn/AJ4xf9/T/wDE0LT8/wCvwB6/l/X3s529+Gvgy7trhB4U0KOWZGHnf2ZCWViPvfd655qpo3w9Xw58OE8N+HtRXSr9YkDatZ2aI8kqkfvHTkNnGCCTkZGa63dc/wDPGL/v6f8A4mjdc/8APGL/AL+n/wCJoHfVM43w78Pb2z8Rw+IPGPia58T6raxtFZvJbJbQ2obhikScbyOC3cVX1X4catH4gvdU8EeMbrw0dSk82/tvsUd3FLJgAuqv9xiByRnNd1uuf+eMX/f0/wDxNG65/wCeMX/f0/8AxND1EYPhvwnaeDvCtxYWs813NM0tzd3ly2ZbmZ+WkY+p4H0ArpKqXTXH2ObdFEB5bZIkJ7f7tS7rn/njF/39P/xNO9wJiMgisPwX4b/4RDwfYaF9q+2fY0ZfP8vy9+XLfdycdcda1t1z/wA8Yv8Av6f/AImjdc/88Yv+/p/+JpAY2i+GDpXijX9cmvTdTaxJCQvl7fIjjTasY5OeSxzx97pR52sz/EHyIzJDolpp+6TMQ23NxI/ygMRn5FRsgH+Nc1s7rn/njF/39P8A8TRuuf8AnjF/39P/AMTR28v8rB3/AK/r/IyPE3hr/hI5dFf7X9m/srVItQx5e/zdgYbOoxnd156dKTxZoer63p8KeHvEc/h+9gl8xbmKBJ1cYIKvG3DDnPsQDWxuuf8AnjF/39P/AMTRuuf+eMX/AH9P/wATR0t8/wCvuDrf+v61OS8KeArrR9dl8QeJ/EVz4k1x4fs8d1LAkEcEWclY4l4Uk4yc84HTnOt4m8Nf8JHLor/a/s39lapFqGPL3+bsDDZ1GM7uvPTpWvuuf+eMX/f0/wDxNG65/wCeMX/f0/8AxNO+3l/w4d/P/hjG1ebWJPF2h2WmGSGw/fXGozeUGV0VQqRbiDgs7huMHCGq178NfBl3bXCDwpoUcsyMPO/syEsrEfe+71zzXRbrn/njF/39P/xNG65/54xf9/T/APE1LSasx3adzktG+Hq+HPhwnhvw9qK6VfrEgbVrOzRHklUj946chs4wQScjIzUXh34e3tn4jh8QeMfE1z4n1W1jaKzeS2S2htQ3DFIk43kcFu4rst1z/wA8Yv8Av6f/AImjdc/88Yv+/p/+Jqru9xbLlOF1X4catH4gvdU8EeMbrw0dSk82/tvsUd3FLJgAuqv9xiByRnNbnhvwnaeDvCtxYWs813NM0tzd3ly2ZbmZ+WkY+p4H0Are3XP/ADxi/wC/p/8AiaiumuPsc26KIDy2yRIT2/3aS0VkD1dy3QRkEVDuuf8AnjF/39P/AMTRuuf+eMX/AH9P/wATSaurMDI8GeGv+ER8HWGg/a/tf2NGXz/L8vfli33cnHX1rk3+FutavcR23jHx3f67oMUokXSzZx2/mhTlVmkTmUDAyDjJGa9D3XP/ADxi/wC/p/8AiaN1z/zxi/7+n/4mqu+bmDpYxhNrE3xA8iLzINEtNO3SAxDbcTyPhQrEZ+RUbIB/jXNEfhgj4hTeKJ70yk6cthBa+XgQjeXdt2eSx29hjaK2d1z/AM8Yv+/p/wDiaN1z/wA8Yv8Av6f/AImltbyv+N/8w7/1tb/I5bx74N1XxY+jzaL4iGhXGl3LXMcpsVugzlCoO1mA4DN1B69qi8N+GfHGma3Hc+IfiF/bliqsHsv7Fgtt5I4O9DkYPPvXXbrn/njF/wB/T/8AE0brn/njF/39P/xNC02B67mR4m8Nf8JHLor/AGv7N/ZWqRahjy9/m7Aw2dRjO7rz06U3VptZfxdodnphkhsP31xqMwiDK6KoVItxBwWdw3GDhDWzuuf+eMX/AH9P/wATRuuf+eMX/f0//E0LT8/6/AHr+X9fezG1PwwdU8a6Jr016RFpEc4jtPL4eSVQvmbs9lBGMH7x5qz4l0m/1nRXtdI1mfRbzerxXkEayFCD0KNwynuDWhuuf+eMX/f0/wDxNG65/wCeMX/f0/8AxNHSw763OK0T4e6oniCz1rxt4tuvE11p242Mf2SO0ggZgQXMafebBIBJ4yfbGne/DXwZd21wg8KaFHLMjDzv7MhLKxH3vu9c810W65/54xf9/T/8TRuuf+eMX/f0/wDxNJpNWEtHc53wn4OsfA/gePR7FLdpIrfbcXMNssJuXC48xgM5J9yT711FVLprj7HNuiiA8tskSE9v92pd1z/zxi/7+n/4mqbbd2JJJWRNRUO65/54xf8Af0//ABNG65/54xf9/T/8TSGcBe/DzxffT3VrL8TNRTRLlmDWcenwidY2PKC4+8OOAcVa8TfDi51DSfDlj4S10eHE8Pyb7UmyW75CbF4dgMgFuTnk5612u65/54xf9/T/APE0brn/AJ4xf9/T/wDE0dLf1psPd3/rU5Dw/wCG/HGk6ut54h+IB12xjRt9iuiQ25kOOCHQk8HnHen2GneJvEHw5jXUNautG1u7Y3SXEcCB7QGQvHE0eAGCptVgeTzk11m65/54xf8Af0//ABNG65/54xf9/T/8TRuLY4nQvh3qkXiS113xt4tufE95YBvsMZs47WC3LDDP5aZDPjgN2z9MO1rwZ4xvdaurjRfiNd6Vp1y242R02Gdo8jBCSscqPT0rtN1z/wA8Yv8Av6f/AImjdc/88Yv+/p/+Jo3A5OX4Y6I/gGLwrHLeRxQSi5ivhNm5W5DF/P3933Ek8Y5xgVn6b8NdYn1rT73xv40uvEsGlzC4srM2MdtGsoGFd9mTIy9QT3/Gu83XP/PGL/v6f/iaN1z/AM8Yv+/p/wDiaOtxW0sc1p2n3vinRfENr4tSU6fqN3Pb21pJGI2itVHlg5AByxVnBOeGXFYOm/CrVFubC38S+Nb7XdC0uVJrPTJbWOL5o/8AV+bKvzSheDg4yQPpXoe65/54xf8Af0//ABNG65/54xf9/T/8TQtHdeX4fqN6/j+JyniXwr4r1LWvtvhnx3caDA6Ksto2nRXaEj+Jd5+UnvWj4P8ACNv4R02eJLy51C9vJzc3t9dtmS4lIALHHAAAACjgAfjW1uuf+eMX/f0//E0brn/njF/39P8A8TQtAeu5kL4a2/EKTxR9r+/pa6f9m8vpiUyb92ffGMfjWu3/AB/Rf9c3/mtG65/54xf9/T/8TUTNcfbI/wB1Fny3wPMPqv8As0dLf13Drf8ArsW6Kh3XP/PGL/v6f/iaN1z/AM8Yv+/p/wDiaAJqwtI8Nf2V4r8Qa19r83+2ngbyfL2+T5UWz72Tuz16DHvWvuuf+eMX/f0//E0brn/njF/39P8A8TQBzt78NfBl3bXCDwpoUcsyMPO/syEsrEfe+71zzWPYeFbvwN4V8PeHPCSxpcy3kMeoalb2KJvjQFpZJBhhuZU2Akk5Yc13W65/54xf9/T/APE0brn/AJ4xf9/T/wDE0LTby/AHrv5/icd4l+H99f8AiJvEPhHxNceGdXniWC6lS2S5iuUXO3dE/G4ZwGz0o0v4X6dF4e1uw8Q3tzrl5r+P7Tv5wEklwMIFC8Iq9VAzj9K7Hdc/88Yv+/p/+Jo3XP8Azxi/7+n/AOJpWVrB1uecD4Ua1fiHTvFPj2/1rw7BIjrpb2cUTShDlUlmHzSLkDIIGcdq2vFngO71jXLfXvC/iGbw1rcMBtXuorZLhJ4c5CPG2AcHkHtk+2Ot3XP/ADxi/wC/p/8AiaN1z/zxi/7+n/4mmFrHBDwtq/g3wjq8+j6ld6z4s1maJZdVlgUkSMVjV/LAKrHGpLY5AAPavQURlhVHcuwXBcgAsfXjio91z/zxi/7+n/4mjdc/88Yv+/p/+JoeqswMnwX4b/4RDwfYaF9q+2fY0ZfP8vy9+XLfdycdcdaZovhg6V4o1/XJr03U2sSQkL5e3yI402rGOTnksc8fe6Vs7rn/AJ4xf9/T/wDE0brn/njF/wB/T/8AE07tu4dLHOeM/BTeKGsL7TNWm0TW9MdmstRgjWQoGGHRkbh0Ixwe4HvmHwh4GudC1a61zxFr9x4i126hW3a8lgWBI4VJISONeFGTk88n0rqd1z/zxi/7+n/4mjdc/wDPGL/v6f8A4mktNgeoWv8AqW/66Sf+hmpqqWzXHlHbFER5j9ZD/eP+zUu65/54xf8Af0//ABNAE1FQ7rn/AJ4xf9/T/wDE0brn/njF/wB/T/8AE0AZfjDQZfFHg/U9DgvvsD38Bh+0iLzNgPX5cjORkdR1rkLPwL8R7QQRr8VgbeHaohHhu2UFB/DndxxxXoe65/54xf8Af0//ABNG65/54xf9/T/8TQtHcHqrHPQLruq654mhluJbHTliSz0/fAP9YYy0k4OAWGXVR82Mo3SuR0n4Z/EHQtIttL0r4qi3s7WMRwxDw5bttUe5Yk/UnNen7rn/AJ4xf9/T/wDE0brn/njF/wB/T/8AE0bAct4n8DXHiGz0m5t9dm03xHpK/wCj6xBbqSSyhZA0R+Uo2M7c4Bx+LfCvgO50bUb3WPEPiG61/XbyAWrXzwrbrDCCSEjjXhOTk+pGeK6vdc/88Yv+/p/+Jo3XP/PGL/v6f/iaO/8AX/DB/X9dzziX4WeI9WVdP8V/EXUNX0AMC+nLYRQSTqDkJJMp3OOBnjn2rrUfVn8era24e20Ky00F18kBJ53fChWIz8iIcgEffXNbW65/54xf9/T/APE0brn/AJ4xf9/T/wDE07gcBe/DzxffT3VrL8TNRTRLlmDWcenwidY2PKC4+8OOAcVa8TfDi51DSfDlj4S10eHE8Pyb7UmyW75CbF4dgMgFuTnk5612u65/54xf9/T/APE0brn/AJ4xf9/T/wDE0ulv602Hu7/1qcj4b8M+ONM1qO58Q/EL+3LFVYPZf2LBbbyRwd6HIwefeuf0/wCGXjzRkuIdF+KAs7ee5luTF/wj0Eh3yOWYlmck8nua9O3XP/PGL/v6f/iaN1z/AM8Yv+/p/wDiaOtxFDTbTULDw/aW2tan/a19GyCa9+zrB5x8wc7F4XjA49K1aqXLXHlDdFEB5idJD/eH+zUu65/54xf9/T/8TTerEtFYmoqHdc/88Yv+/p/+Jo3XP/PGL/v6f/iaQyauH8ZeBte1/wAVafrnh3xcNAnsbaS3UHTEu872BYjewAyFUdM8dea7Ldc/88Yv+/p/+Jo3XP8Azxi/7+n/AOJpdbgcXY6Z428L6Zq2o634tl8WNHZObWxh0eK3fzQMqQYySxOMY96sav4Iu/FHgzSLXWtYng8Qaf5VzHq1siq0d0FwzBQApU5IK4AIrrN1z/zxi/7+n/4mjdc/88Yv+/p/+Jp7/h+H9fkH/B/H+vzOT8LeBb7StdfXvFXiOfxJrPkG2guHtkto7eIkEqkScAkgZbqcDpznLv8A4Y6zDq1/L4O8b3nhzTdUmNxeWEdlHMPMb77ROxBiLdeM88+1egbrn/njF/39P/xNG65/54xf9/T/APE0bgcxP4JuLDwPYeH/AAXrtx4ek08qYbsQJcF+u7zEbAfcWJPTnB7YqPwr4Gfw7qV3r+va1deI9fuIRC99NEsYSIHPlxRLwik8kDqa6vdc/wDPGL/v6f8A4mjdc/8APGL/AL+n/wCJobd2+rDpbocbD4ZvPHHw3t7bxpNcwahcS/bopIlEM1g28vCBgDDIpVTkZJBzVXTfhrrE+tafe+N/Gl14lg0uYXFlZmxjto1lAwrvsyZGXqCe/wCNd5uuf+eMX/f0/wDxNG65/wCeMX/f0/8AxNGzuv6/4PnuLda/1/wPIxtT8MHVPGuia9NekRaRHOI7Ty+HklUL5m7PZQRjB+8eava/p15quh3NnpmqTaTdyAGG9hQO0TBgQdrcMOMEHqCRVvdc/wDPGL/v6f8A4mjdc/8APGL/AL+n/wCJo6WKvrc43w78Pb2z8Rw+IPGPia58T6raxtFZvJbJbQ2obhikScbyOC3cV2S/8f0v/XNP5tRuuf8AnjF/39P/AMTUStcfbJP3UWfLTI8w+rf7NO4i3RUO65/54xf9/T/8TRSAyaKKKACivMPi7Y2t/qfhwaz4a1fxDpMTXL3FvpUDyOG2qEzsZSBkk9e3Q1ufDFPCSeGZh4GtJbG1+1N9qtbgyebDOAAyuHJIOAvAOKI63B6WOzqpqv8AyBr3/r3k/wDQTVuqmq/8ga9/695P/QTQBr65r2leGtJl1PXr6Gxs4vvSytgZ7ADqSfQcms3wp4+8MeOI538LavFf/ZyPNQI8bpnoSrgNj3xitbUNP0+88ifU7eCYWUnnxPOoIiYAjeM8AgE89q4bRmt/FfxXPivQoV/snT9OksW1JRtXUZWdThD/ABogX7/QsSBnFJPXX+tP6QPa6/rX+ma+u/FXwT4Z11dH1vxDb2t+cbotrv5eem9lUqnr8xHHNbeseI9H0DRG1jWNRt7XT1UN9od/lbPTbj7xPYDJNcd8KNKsNV+Ff2m/tIp38QS3N1qPmKD57SSuDu9cDAH0pfhda2WofCzQ21iKK5GkSzpbyXOG8ryZZIlfngEIMZ7U2mlZ7/1f7vxH1utv6t9/4HQ+FPH3hjxxHO/hbV4r/wCzkeagR43TPQlXAbHvjFX9T8SaNo9/ZWOp6jBb3d/KsVrbs2ZJmJwMKOcZ79B3Ncdopt/FnxY/4SrQoV/smw06SxbUlG1dRlZ1OEP8aIF+/wBCxIGcVV8eeGdG0rX/AAxqlhp0EN/f+KrZ7m6C5klOyTgseccdOntTWrj52/O35akvRSt0T/K//APTqrajqFppOmXOoajOtvaWsTSzSt0RFGSfyqzXmnjmZvG+oXvhWyJOj6XCbnW51yFkcLuitQfUnDvjoAB3IrOUmloXFXep3umazY6zodvq+lzfaLG5iE0MgQrvQjIOGAI/ECuT8Pa34v8AGGgQ+INJn0PT7K7Be1s7m1luJGQEgb5VlUKxxyAjbenOKX4YpeSfBLw4umzwW90dNi8uW4hMyKcd0DoTx/tCsDUvAurweJdOsrY2YtNVaeS/ewtr+2to2VQwLxR3gj+c5B3DnnrWslyzaIi7xTZsf8LFurrwn4d1ezsoYZNS1qPTLqKUmRU/ePHIUYYzyh2sR06ivQK8k1i18RmPw7o7+GLhLPT/ABBavFPY2MMNvFAjMM7EuZXC4wclVA746V63SWzfn+i/4Ifat5fq/wDgEN5/x4z/APXNv5VNUN5/x4z/APXNv5VNSGQ3l5bafZyXd/cRWttEu6SaZwiIPUseAKg0fWLDX9Jh1PR7lbqyuATFMoIDgEqSM9sg1X1rw1o3iB7STW9OgvzZOZbdZ13KjkY3bTwT9Qcdq5b4QNFH8E9FaeQQxLbyl5C20IvmPk57YHelfRvt/wAH/IOqLcnxe8BReIzocnia0W/EnllSH8sPnG0y42A54+91rs6+b2utcX4N3Ph6w8HrP4PJdR4ldV3G2L5N19jOJGYD5t+ecbsV9C6V9m/sez+wTC4tfITyZg27zE2ja2e+Rg5qraX/AK+7p/XYT0lb+v8Ag/p8zldQ+MHgLS/ET6HqHiS2hv45PKkRkkKRt3DSBdikd8tx3re8R+KdG8J6G2sa/ei1sFZVMwjeQZY4HCAnn6VwPxM8Y2Wn6TrfhZvCeprBdRNHJqs2nldMjaVcmV5UDH5S2SQudwPI61d8X6Hqsnw08M2vhO1XxG+m3VhOFS5jhW6ihAbcHY7cMVX1696laxv5r8d/u/rYp6O3k/8AgfebnhT4n+EPG+oy2HhfV/t1zDF5zp9mmjwmQM5dAOpFSeKviT4R8FXEUHibW4bKeUblhCPLJj1KoCQPcjFU/Cvj681fxBJ4f8UeG7rw3rIgNzFBLOtxFPECASkq4DEEjI7Zrz3wf4n1iCTW/E2h+BrvxNfX+o3Bv78XMcBghSQpHBHvy0m1EU7VGMkDOejejXpf8RLr9x7fY31tqenwX1hOlxa3EayxSocq6kZBH4Vy/iL4reCfCetDSdf16G0vsKWhEUkmzPTcUUheCDyRxz0rX8Ka5p3iTwrY6ro0Zis7iPKQlAhiIJDIVHQqwIPuK57xv42tvCE1xbf8IdrWrfa7fzp7mx0/zLU9UxNIMkYCjPythccHpSn7rCOqOrk1vS4tD/tmTULZdM8oTfbDKPK2EZDbumKwvDHxP8G+MtRksPDeuQ3l3GpYwmN4mIHUqHUbh9M159e6Ibb4AeGE0xk8Rabp99b3t/Dp4Mi3NuJWeREB5YKzDggH5OQOQIvFHxF8NeLfEHg258GxXF/c2Wu28cmoJZvEltHJlGhLOoJLBs7RkYUntV29/l87flr+P4Cv7vN5X/PT8PxPXtd8SaN4Zs1ute1GCxidgiea3zSMf4VUcsfYA1dvP+PGf/rm38q83+MnhnRl8G6v4g/s6BtWkazjN467pFUXEYCqT90fTGe9ekXn/HjP/wBc2/lUra/n/kPqTVDeXltp9nJd39xFa20S7pJpnCIg9Sx4AqasrWvDWjeIHtJNb06C/Nk5lt1nXcqORjdtPBP1Bx2qZOyuBY0fWLDX9Jh1PR7lbqyuATFMoIDgEqSM9sg1zMnxe8BReIzocnia0W/EnllSH8sPnG0y42A54+91qp8IGij+CeitPIIYlt5S8hbaEXzHyc9sDvXlrXWuL8G7nw9YeD1n8Hkuo8Suq7jbF8m6+xnEjMB82/PON2KuWk3Ht/W/T+uwJNx/r8up9IVx2s/FnwN4f17+xtX8R21vfhgrx7XcRn0d1Uqh/wB4jFdNpX2b+x7P7BMLi18hPJmDbvMTaNrZ75GDmuV8XXfh/wAN+HrrRrbTLe7v9ZEv2fSIY1Ml9M+csw/u5OWduAO/SpneL0/4cIWklfQ664vrS009765uYYbSOPzXndwEVMZ3FumMd653wz8S/CHjHVJ9O8N63FfXduhd4hHInyg4JUsoDDJHTPWuA8Z2Mnh/wH4B8Gask+oxSTRxXttbZZrzyIS4gHIyGkCDnAwOcV1HhzxvdyeKrPw94q8FSeF7qaF/7Kf7RFcRSqgBaNXjGEbaM7fQfTNWXM1/W1/6Qr+6n8zY8VfEnwj4KuIoPE2tw2U8o3LCEeWTHqVQEge5GK6GxvrbU9PgvrCdLi1uI1lilQ5V1IyCPwrxDwf4n1iCTW/E2h+BrvxNfX+o3Bv78XMcBghSQpHBHvy0m1EU7VGMkDOenr3hTXNO8SeFbHVdGjMVncR5SEoEMRBIZCo6FWBB9xSjrG/p+P8AW45aSt/Whm+KPiZ4P8GX0Vn4l1yGzupVDLCI3lcA9CQikqPc4roLDVLHVNLi1LTruG5spk3x3EThkZfXNeUXOp6zo/xR8VT+BPDC+Lmu1hGoSPcJbfY5ljCiESvxINu1ii8qTz1rEa6t9L/Z2NnBcvbSanrH2PU4oIGiaxea4zPAseSV2rlAO4Oe9JXcb+n4u33ef+Y2rS8v+Bf+l/kenaT8VPBOu+JRoGkeILe61I7gsUaPtfAyQsm3Y3HoTTPE/wAWPBXg3WP7K8Sa19jvfLWXyvss0nynODlEI7HvWDo3jObRNQ0bQ9c+Hk/hnRLiZbbSrtp4pkSQg7FkRP8AVM3Tkk5J9zTNVm8Z+GPibr+t6R4Jk8Qadf29rGs8WpQwtGsStuCxtlmOXPHHSm+lv6/y+Ylrf+uv4nd6br2m+J/Co1fQ7n7VY3MTmKXy2TcBkHhgCOQeorXrB0HxNZeLvB41jTkmiimjkV4bhNkkLqSrI69mBBFb1OSsxLYhvLy20+zku7+4itbaJd0k0zhEQepY8AVBo+sWGv6TDqej3K3VlcAmKZQQHAJUkZ7ZBqvrXhrRvED2kmt6dBfmycy26zruVHIxu2ngn6g47Vy3wgaKP4J6K08ghiW3lLyFtoRfMfJz2wO9TfRvt/wf8h9UW5Pi94Ci8RnQ5PE1ot+JPLKkP5YfONplxsBzx97rXZ183tda4vwbufD1h4PWfweS6jxK6ruNsXybr7GcSMwHzb8843Yr6F0r7N/Y9n9gmFxa+QnkzBt3mJtG1s98jBzVW0v/AF93T+uwnpK39f8AB/T5nM6z8WfA3h/Xv7G1fxHbW9+GCvHtdxGfR3VSqH/eIxXVXF9aWmnvfXNzDDaRx+a87uAipjO4t0xjvXI+Lrvw/wCG/D11o1tplvd3+siX7PpEMamS+mfOWYf3cnLO3AHfpXGeM7GTw/4D8A+DNWSfUYpJo4r22tss155EJcQDkZDSBBzgYHOKlXt80vv/AMvxK0v9/wCH+Z3/AIZ+JfhDxjqk+neG9bivru3Qu8QjkT5QcEqWUBhkjpnrS+KviT4R8FXEUHibW4bKeUblhCPLJj1KoCQPcjFY/hzxvdyeKrPw94q8FSeF7qaF/wCyn+0RXEUqoAWjV4xhG2jO30H0zxPg/wAT6xBJrfibQ/A134mvr/Ubg39+LmOAwQpIUjgj35aTaiKdqjGSBnPRtrT0/W3y/QF1/r/hz2+xvrbU9PgvrCdLi1uI1lilQ5V1IyCPwrnPFHxM8H+DL6Kz8S65DZ3UqhlhEbyuAehIRSVHucVpeFNc07xJ4VsdV0aMxWdxHlISgQxEEhkKjoVYEH3FebXOp6zo/wAUfFU/gTwwvi5rtYRqEj3CW32OZYwohEr8SDbtYovKk89aJaSt/X9eYo6xuer2GqWOqaXFqWnXcNzZTJvjuInDIy+ua5vSfip4J13xKNA0jxBb3WpHcFijR9r4GSFk27G49Ca8xa6t9L/Z2NnBcvbSanrH2PU4oIGiaxea4zPAseSV2rlAO4Oe9dbo3jObRNQ0bQ9c+Hk/hnRLiZbbSrtp4pkSQg7FkRP9UzdOSTkn3NNL3rfL52vv81buJ6R+/wDq3y17G94n+LHgrwbrH9leJNa+x3vlrL5X2WaT5TnByiEdj3ra03XtN8T+FRq+h3P2qxuYnMUvlsm4DIPDAEcg9RXCarN4z8MfE3X9b0jwTJ4g06/t7WNZ4tShhaNYlbcFjbLMcueOOldpoPiay8XeDxrGnJNFFNHIrw3CbJIXUlWR17MCCKUdY3HLR/12N6oby8ttPs5Lu/uIrW2iXdJNM4REHqWPAFTVla14a0bxA9pJrenQX5snMtus67lRyMbtp4J+oOO1TJ2VwLGj6xYa/pMOp6PcrdWVwCYplBAcAlSRntkGuZk+L3gKLxGdDk8TWi34k8sqQ/lh842mXGwHPH3utVPhA0UfwT0Vp5BDEtvKXkLbQi+Y+Tntgd68ta61xfg3c+HrDwes/g8l1HiV1XcbYvk3X2M4kZgPm355xuxVy0m49v636f12BJuP9fl1PpCuK1D4weAtL8RPoeoeJLaG/jk8qRGSQpG3cNIF2KR3y3Heuq0r7N/Y9n9gmFxa+QnkzBt3mJtG1s98jBzXmvxM8Y2Wn6TrfhZvCeprBdRNHJqs2nldMjaVcmV5UDH5S2SQudwPI60pe67L/L/hgh7yu/6/zO+8R+KdG8J6G2sa/ei1sFZVMwjeQZY4HCAnn6VleFPif4Q8b6jLYeF9X+3XMMXnOn2aaPCZAzl0A6kVh+L9D1WT4aeGbXwnar4jfTbqwnCpcxwrdRQgNuDsduGKr69e9anhXx9eav4gk8P+KPDd14b1kQG5iglnW4iniBAJSVcBiCRkds1SXvNdm/y3/P7ibvlT8l+f9feXPFXxJ8I+CriKDxNrcNlPKNywhHlkx6lUBIHuRiuhsb621PT4L6wnS4tbiNZYpUOVdSMgj8K8Q8H+J9Ygk1vxNofga78TX1/qNwb+/FzHAYIUkKRwR78tJtRFO1RjJAznp694U1zTvEnhWx1XRozFZ3EeUhKBDEQSGQqOhVgQfcVMdY39Px/rcqWkrf1oZHiL4reCfCetDSdf16G0vsKWhEUkmzPTcUUheCDyRxz0roZNb0uLQ/7Zk1C2XTPKE32wyjythGQ27piuU8b+NrbwhNcW3/CHa1q32u386e5sdP8AMtT1TE0gyRgKM/K2FxwelcZe6Ibb4AeGE0xk8Rabp99b3t/Dp4Mi3NuJWeREB5YKzDggH5OQOQEnpd91+P8AkN728v0PQfDHxP8ABvjLUZLDw3rkN5dxqWMJjeJiB1Kh1G4fTNbGu+JNG8M2a3WvajBYxOwRPNb5pGP8KqOWPsAa8h8UfEXw14t8QeDbnwbFcX9zZa7bxyaglm8SW0cmUaEs6gksGztGRhSe1dH8ZPDOjL4N1fxB/Z0DatI1nGbx13SKouIwFUn7o+mM96pK9vW35f5k7O3l/n/kekXn/HjP/wBc2/lU1Q3n/HjP/wBc2/lU1IYUUUUAcVqHxg8BaX4ifQ9Q8SW0N/HJ5UiMkhSNu4aQLsUjvluO9dJrXiDSfDujyarrd/BZWMYBM8jcHPQDHJJ7AZJrzv4meMbLT9J1vws3hPU1guomjk1WbTyumRtKuTK8qBj8pbJIXO4Hkda7fS9F0keFtDS6e21ODS7aJ7a8kAZCVj2iZTyB8uSD2z1pLWN/T/g/11G9JJf10sR+FPH3hjxxHO/hbV4r/wCzkeagR43TPQlXAbHvjFaur6xp+gaTcanrF3HZ2Vsu6WaQ4VRnH5kkADqSa4jRTb+LPix/wlWhQr/ZNhp0li2pKNq6jKzqcIf40QL9/oWJAziu41eSGDSLm4ubKS/S3jM/2aKISySlPmART1bIGB64pv4U/wCv6tqJfFb+v66GF4V+JXhDxtcy2/hjW4b24iXc0JjeJ9vqFdVJHI5HrS+KfiT4R8FXcNr4m1uGyuJxuSHY8j49SEUlR7nA61xmmeI7Pxv8YdDupdMvfDd1pNrcGO31q2Nvd3/mKBtReQUUZY/MTn+EDJrc+HFtBfat401m5hSS8utdns5JGUEmGELGif7uATj3o1dvRv8AGwXt99vwv+h1Vx4n0a28Lv4je/jbSEg+0G7iBkXy/wC8NoJP4DNc/wCHfjB4G8Wa5DpGga59rvpgxji+yTpuCgk8sgHQHvXG2+iX178K/iB4T8NWnnNbazcWtjarKsYEbGOQopYgKBvbGTXUaB8QtVHiCx0Dxn4PuvDNxfApYy/a47uCZlXJQyIAFbAJAPXFOOr06pP71cHdL0b/AAO6ubmCytJrq7lSGCFDJLLI2FRQMkk9gBXJ+Hfiz4H8V6x/ZWg+IILm9OdsLRSRGTGc7S6gN0J4zxXXTwxXFvJDcRrLFIpV43UMrqRggg9QfSvHtV8W2Xjbxh4V0y60PVPC5stTS7hutesjbGYoCBBBjIJc4zll4HAY4FKOskgekWzvPFvxI8KeBri2g8U6r9hkulLwr9nlk3AHBPyKcde9XPDfjPQPF2iS6v4f1Fbmwhdo5J3jeIIVALZ3hTgAg56VyfjGPxdpnxNsfEPhrwmfEVtFpMloyDUYrXy3eUMT8+SeEHQd+tb/AIa8R6f8QfD19DeaZPaSRSNZalpl8mHifAJRv7ykMCD0INEbuN+uv52/r1B6S8v+B/X3EGi/FjwP4h8Qf2Lo/iG2ub8kqkQR1EhHZHZQr/8AASa6pv8Aj+i/65v/ADWvPPGi6f4n1XR/CPhy3hnvdN1C3u7meBQE0mKJg3LDhXYAKqDnBJOAK9Db/j+i/wCub/zWhaxv/Xr/AF2DZ2JqKKKACszSvEmj65eX1ro+owXstgypciBt6xs2cKWHBPByAeO+Kn1bSrLXNKuNN1WAXFncrsliLEBxnODgg44rifAOn2elfEjx3ZaZaw2lrDJYLHBBGERB9mHAA4FC1b9P1QHR+KfHHhvwTbRT+KNWhsFmJEasGd3x1wigsQPUDir+ha9pnibRYNW0K7S8sbgExzICM4OCCCAQQR0IzXkkOt6m/wAU/Fer6N4Rm8U6vY3K6fbqbmO3jsLdI1JxJJkbnd3OFGeDnGefSfBHiez8V6FJe2thLptxFcyQXtjOgWS3nU/MrY6nkHPcEfSiOsb/AD+X9fc9Alo7fI1dX1nTdB02TUNavoLG0iHzzTyBVHtz1PoByaq6n4q0bRvCp8SaleeTpIijmNx5Tt8jkBTtALc7h271g/Ezwzo2o+Edb1m/06C51Cz0a6S2nmXcYR5bHKg8A57gZ963PB//ACI2hf8AYOt//Ra0K7T8rfjf/IHo12d/wt/mcgP2gvhiSAPE3P8A14XP/wAbrf8AFXxK8I+CZreHxPrMdlNcJ5kcQiklcr03FUUkDg8n0NZ3iAjxX8RNO8Mr82n6QqarqYxw75It4j/wINIR/sLWj4v8Vw+D5ILseF9a1qe6RkaTR7ATtGqcgSNkFRljjr/FSvon/X9XuO2tv6/qxuaPrOneINKh1LRbyG9s5xmOaFsqecEexB4I6iqviTxVonhDSjqXiTUYrC1DbQ8mSWb0VQCzH2ANcx8Ho7NvCV9fWE9sV1LVLi8e1tidtkzsP3BDBSGUAZBUcngYwSXsEWqfH2wivY1lTSdBe7tVcZCSyz7C499qYz7mqa95Jdf8r/8AAEno2+n+dkdJ4Y8YaB4z01r7wzqcV/bo2xygKsh9GVgGX8RWMfi94CHiP+wv+EmtPt/meVtAfy9/Tb5uNmc8fe61h61p00HxZ1m08P4tbvXfCszsyfKGuI5Nkch7bsSYz7VxreN/CP8AwpWXwLLo95/b9vpjQTaJ9gcSQzqnzTFiuwAN+835zjnrxUcytzfh82n+X4ofK78v4/JP9fwPaPE/i/QfBumrfeJtTh0+3ZtqF8szn0VVBZvwBo8MeLtC8ZaYdQ8M6lFf2yvsZkBVkb0ZWAZT9RWV4al06XwH4d8T+Ihbx3NtpEUjXt3gGAPGhc7j93OBk8VneBbYap418ReMLGzay0rU44Le0LJ5bXvl7t1yU6gEthSeSBnuK0cbTcX0/r8f62ITvFSX9f8ADHc2v+pb/rpJ/wChmpqhtf8AUt/10k/9DNTVJQUUUUANlljhheWZ1jjRSzu5wFA5JJ7CuR0X4seB/EPiD+xdH8Q21zfklUiCOokI7I7KFf8A4CTXU3tlbajYzWd9Cs9tOhjlicZV1PBB9jXnvjRdP8T6ro/hHw5bwz3um6hb3dzPAoCaTFEwblhwrsAFVBzgknAFC+JL+vX5A/hb/r+mek1x0vxZ8CweJ/8AhH5fElqupeZ5Rjw+wP02mTGwHPGN3XitrxdfzaV4K1vULY4mtdPnmjPoyxsR+orjrfwlpLfs7ro5tIzbvonnsdnJmMW/zf8Ae3/Nn1qXKycnsv8Ag/5FJXaXV/8AA/zOv8T+L9B8G6at94m1OHT7dm2oXyzOfRVUFm/AGk8MeMNA8Zaa1/4Z1OK/t0bY5QFWQ+jKwDL+IrytvEUei6z4I8ceMoppNGl8NJD9uELTLZXb7GZ22gkb1wucdvrWh4O8S6b4h+O97f8AhuzuItL1DQhI91JAYUvpI5gBKFYBiAHK7jjO0+lacr5uX1+Vr/nb8TO/u83p872/K/4HU2Pxi8A6j4gGi2fiW1kvmk8pVKOqO+cYWQqEYk8DB57V2pOBzXjPxD8T6drFifBM/h7UdAtPt8Vums6pYGCwgEcoO+J1yCSAQudoO7kgV7MOg5z71O8b/wBdCnpKx5u37QPwyRireJsEHB/0C5/+N1pXvxh8C6foOm61ea55en6oZBZzfZJz5vlttf5QmRgnuBntVj4i6rdW2i22iaRIY9W1+cWFq6jJhDAmWX/gEYY/XFdFpOl2uiaPaaXp0YitbOFYYkHZVGBQtU/69f0B2v8A18v68vM5Tw/8Y/AninXLfR9C137Vf3O7yofsc6btqljyyADgE8mnah8YPAWl+In0PUPEltDfxyeVIjJIUjbuGkC7FI75bjvUXhIjxV4z1XxdJ81nas+laSCONiN+/lH+/INufSMVifEzxjZafpOt+Fm8J6msF1E0cmqzaeV0yNpVyZXlQMflLZJC53A8jrSb0TX9dvTQaV21/Xn+J6dcMHt0ZSGUyRkEHgjeKnrH0a1isfCGk2ltdrewwW9tHHcoQVmVdoDjBPBxnr3rYq5JJtIiLbimwoooqSgrG8T+L9B8G6at94m1OHT7dm2oXyzOfRVUFm/AGtms7U4dHtZF1zV1tYm0+J9t5c4H2dDjcQx+7nAyfak9Bor+GPF2heMtMOoeGdSiv7ZX2MyAqyN6MrAMp+oqzrmvaV4a0mXU9evobGzi+9LK2BnsAOpJ9Bya5DwLbDVPGviLxhY2bWWlanHBb2hZPLa98vduuSnUAlsKTyQM9xXZ6hp+n3nkT6nbwTCyk8+J51BETAEbxngEAnntTe3YS3sZPhTx94Y8cRzv4W1eK/8As5HmoEeN0z0JVwGx74xVDWfiz4G8P69/Y2r+I7a3vwwV49ruIz6O6qVQ/wC8RiszRTb+LPix/wAJVoUK/wBk2GnSWLako2rqMrOpwh/jRAv3+hYkDOKv+Lrvw/4b8PXWjW2mW93f6yJfs+kQxqZL6Z85Zh/dycs7cAd+lJtpJr7vy+/caSbav8/67HZo6yRq8bK6MAVZTkEHuDWZZeJtH1HxFqGhWV6s2paaqPdwKjfug4yuWxtJPoDkd65gX0/w2+FuiaUy/wBpa4ttFp9laoSftNztwAD2RcEk9lU1gfDfw83hr4t+IbO5uDd30uk2lzfXR/5b3DySs7Y7DPAHYAVVlz2W2v5N/wDD+qJu+S730/NL+vmet1maV4k0fXLy+tdH1GC9lsGVLkQNvWNmzhSw4J4OQDx3xU+raVZa5pVxpuqwC4s7ldksRYgOM5wcEHHFcT4B0+z0r4keO7LTLWG0tYZLBY4IIwiIPsw4AHApLVv0/VDNPxF8VvBPhPWhpOv69DaX2FLQiKSTZnpuKKQvBB5I456V1NneW2oWUN5Yzx3FtOgkimiYMrqRkEEdRXGeN/G1t4QmuLb/AIQ7WtW+12/nT3Njp/mWp6piaQZIwFGflbC44PSk8A+G9Juvg1pmh3Fza6zps9sfMa2dvJkDOXKKeG2gnbzg8cgcihXcW/66g9GkdPpXiTR9cvL610fUYL2WwZUuRA29Y2bOFLDgng5APHfFXV/4/pf+uafzauD8A6fZ6V8SPHdlplrDaWsMlgscEEYREH2YcADgV3i/8f0v/XNP5tT7fICaiiikBh0UwyqOz/8AfB/wppnQdpP+/bf4UAYPinVfFGlSWz+GfDcWvxOGE0Zv0tXjbjaQXBBHXjrVfwTo2sWcmr6x4kS2g1HWLhZntbViyW6KgRVLfxNgckcZ6V0puox/DL/35f8AwppvIh/DN/34f/ChaA9SxVTVf+QNe/8AXvJ/6Cacb+EfwXH/AIDSf/E1U1O/hbSbtQlxloHAzbSAfdPcrgUAUPivZeI9S0/SbTQNAbXrL7X5up2Ivo7UTxKp2xsznlSxBIwc7cHrVnwv4h8aXuqwWGt/DpfD+mCMj7UmswTiPA+VRGgBwenHSuw+1R/3Zf8Avy/+FH2qP+7L/wB+X/woWlwetjyvT7D4jeB7W78L+GPD9hqumPPK+mapLfrCLFJGLBZYiCz7Sx+71FL4n8IeING8A+GPDPh3Rn8TWdpNv1a3F7HaC8ABYhmc/daRtxXnIGDXqf2qP+7L/wB+X/wo+1R/3Zf+/L/4UdPu/D+vn1HfW/r+Jx/hbxD40vNVgsNb+HS+H9NEZH2pNZgnEWB8qiNADg8DjpVvx1ouoazP4YbTbfzhYa7Bd3PzquyJVcM3JGcbhwMn2rpftUf92X/vy/8AhR9qj/uy/wDfl/8ACnfVPtr9zuTbRrvp96sVNTvdStbzT49O0n7dDcT+XdzfaVi+yR4J8zaeX5wNo55rzuf4HW9tY366T408ZwG4Ms32aHVljikkfJOVCAck8569zXp/2qP+7L/35f8Awo+1R/3Zf+/L/wCFQ4popOxx3wl8IXvg3wFZWOq3eoS3rxo81teXSzJaNtwY4tvCoPQE/WuO1K1TUPFWuNq/hbRbcx3zRwTT+ALvUnu49qkSmeNgrEkkf8Br2L7VH/dl/wC/L/4Ufao/7sv/AH5f/Cqk+aXMyUrR5UeLw+GtKutb0eZLSy09rPUIboPpnw5v7KRyjfcMpJCqc8kjA69q9uqH7VH/AHZf+/L/AOFH2qP+7L/35f8Awp30sFtbhef8eM//AFzb+VTVUurlGs5gFlyY2HMTDt9Kl+1R/wB2X/vy/wDhSGStypx6VxPgrwpeW3watvDGuxtZXUlnPbTqjqxj3s/IKkgnDA8Gux+1R/3Zf+/L/wCFH2qP+7L/AN+X/wAKTSaafX/g/wCY02ndHk8UXxUtPCf/AAhMXhnTJVS1+wR+If7RUQiLbsDmDG/dt/DPqK7PQJx4f1LSfA1jC11Fp+jpJPevJgxhSI4wVxyXw56jAQ9a6X7VH/dl/wC/L/4VEhtEupLlLYrPKqrJKLZgzhc7QTjJAycemTVXd7vrv572/O5NtLL5eW3+RwWp638ULo3uj23gbTQJd8MWry6un2cKeA7Q4MnQ8itFdP8AEfgL4faJpfhLS4fEk+nRpBcQTXQtmlUKcsjNlR82OD24rsftUf8Adl/78v8A4Ufao/7sv/fl/wDClsrf1oPd3OD8OaX4s8QeOYPFfjPTLfQY9PtZLaw0uK7FzJukK75JHUbeigAD8cd8y1tfiD4Dm1DRfC3hmz1/Sbm7lubC8k1BLf7H5rFmSVCMuFYk/LyR78D0/wC1R/3Zf+/L/wCFH2qP+7L/AN+X/wAKP6/X8w/r9DifDEU/gLTfC/hBok1HUL9riW8njfYsX3pZZQNpyu91QDj7w6dKdrXiL4iWGtXVppHgW01ayLf6LqA1eOBQpHG+NgWJB646115No12t01sTcIhjWY2zb1UkEqGxnBIBx7CpftUf92X/AL8v/hQ9QON8PaD4g8E/DeaGxhtNY19p5L2W3WQwwSSSS73jjZvugAkKT3AJxmqGnab4x8Z+K9L1Xxno9t4d0rRpDcW+mJeLdS3FztKrI7r8oVQSQBzk8+3oP2qP+7L/AN+X/wAKPtUf92X/AL8v/hTvrf8ApB0t/WpzXxN0XUPEPw+vtN0e3+0XcsluyR71TIWdGbliBwqk9a6W8/48Z/8Arm38qPtUf92X/vy/+FRXVyjWcwCy5MbDmJh2+lLpYC3SNypx6VF9qj/uy/8Afl/8KPtUf92X/vy/+FJq6sBx3grwpeW3watvDGuxtZXUlnPbTqjqxj3s/IKkgnDA8GuYii+Klp4T/wCEJi8M6ZKqWv2CPxD/AGiohEW3YHMGN+7b+GfUV6x9qj/uy/8Afl/8KPtUf92X/vy/+FOXvNt9d/6+bHdq1uhzWgzjw/qWk+BrGBruLT9HWSe9eTBjCkRxgrjkvhz1GAh61wmhXPxG0DVdV1CX4X/2rqN/dSO+oya/bRsYdx8uJVO7airgbQeuT3r1tDaJdSXKWxWeVVWSUWzBnC52gnGSBk49MmpftUf92X/vy/8AhTbbfM99fxdybJLl6afgjh/EuleJvEnhzQtfs9Mg0vxRo9z9sj0y4uVljbIZHhMqjHzIchh0OPrVXSbHxh4u8baTrfi/w/b+G7HQxM9vZi+S7luJpE2biyDaqhSeOuf09C+1R/3Zf+/L/wCFH2qP+7L/AN+X/wAKFo7h0t8jzC1tfiD4Dm1DRfC3hmz1/Sbm7lubC8k1BLf7H5rFmSVCMuFYk/LyR78DZ8MRT+AtN8L+EGiTUdQv2uJbyeN9ixfelllA2nK73VAOPvDp0rtvtUf92X/vy/8AhURNo12t01sTcIhjWY2zb1UkEqGxnBIBx7CktFb+tBvX+uvc87Nn468C+INZPhnw7beKNK1i+e/TOopaS2kjgb1beCGXI4xzTI/hvrl58PtUTULy1h8T6jqo1tTGC1vb3KspjjGRkrhApPJ5PXv6Z9qj/uy/9+X/AMKPtUf92X/vy/8AhSSsv66Wt+S+4N3/AF/XVnmbWvj3x3qmj2nirwxZ+HNL0y+ivrmYagl0148WSixqv3FLYJ3c479QdjX/ABD8RdP1q6tNC8EWer2bEfZdQ/tZIAgIH+sjYbiQc/dPIxXafao/7sv/AH5f/Cj7VH/dl/78v/hT/r8v8gOZ8GeGrvwt4HltNUuY7rUbh57y9liz5ZmlYswTPO0ZwM+ldZVS6uUazmAWXJjYcxMO30qX7VH/AHZf+/L/AOFAiVuVOPSuJ8FeFLy2+DVt4Y12NrK6ks57adUdWMe9n5BUkE4YHg12P2qP+7L/AN+X/wAKPtUf92X/AL8v/hSaTTT6/wDB/wAyk2ndHk8UXxUtPCf/AAhMXhnTJVS1+wR+If7RUQiLbsDmDG/dt/DPqK7PQZx4f1LSfA1jA13Fp+jrJPevJgxhSI4wVxyXw56jAQ9a6X7VH/dl/wC/L/4VEhtEupLlLYrPKqrJKLZgzhc7QTjJAycemTVXd7vrv572/O5NtLL5eW3+R5JoVz8RtA1XVdQl+F/9q6jf3UjvqMmv20bGHcfLiVTu2oq4G0Hrk966jxLpXibxJ4c0LX7PTINL8UaPc/bI9MuLlZY2yGR4TKox8yHIYdDj613H2qP+7L/35f8Awo+1R/3Zf+/L/wCFLol2t+A+rfe/4nnuk2PjDxd420nW/F/h+38N2OhiZ7ezF8l3LcTSJs3FkG1VCk8dc/pStbX4g+A5tQ0Xwt4Zs9f0m5u5bmwvJNQS3+x+axZklQjLhWJPy8ke/A9P+1R/3Zf+/L/4Ufao/wC7L/35f/CgDifDEU/gLTfC/hBok1HUL9riW8njfYsX3pZZQNpyu91QDj7w6dKzDZ+OvAviDWT4Z8O23ijStYvnv0zqKWktpI4G9W3ghlyOMc16ITaNdrdNbE3CIY1mNs29VJBKhsZwSAcewqX7VH/dl/78v/hQ97/1bt+CDpb+r9/xZ5nH8N9cvPh9qiaheWsPifUdVGtqYwWt7e5VlMcYyMlcIFJ5PJ69xrXx7471TR7TxV4Ys/Dml6ZfRX1zMNQS6a8eLJRY1X7ilsE7ucd+oPpn2qP+7L/35f8Awo+1R/3Zf+/L/wCFNaPTpb8NvyX3A9V9/wCO/wCpxev+IfiLp+tXVpoXgiz1ezYj7LqH9rJAEBA/1kbDcSDn7p5GKveDPDV34W8Dy2mqXMd1qNw895eyxZ8szSsWYJnnaM4GfSum+1R/3Zf+/L/4VFdXKNZzALLkxsOYmHb6UlogepbpG5U49Ki+1R/3Zf8Avy/+FH2qP+7L/wB+X/wpNXVgOO8FeFLy2+DVt4Y12NrK6ks57adUdWMe9n5BUkE4YHg1zEUXxUtPCf8AwhMXhnTJVS1+wR+If7RUQiLbsDmDG/dt/DPqK9Y+1R/3Zf8Avy/+FH2qP+7L/wB+X/wpy95tvrv/AF82O7VrdDmtAnHh/UtJ8DWMLXUWn6Okk968mDGFIjjBXHJfDnqMBD1rC1PW/ihdG90e28DaaBLvhi1eXV0+zhTwHaHBk6HkV3qG0S6kuUtis8qqskotmDOFztBOMkDJx6ZNS/ao/wC7L/35f/CiXvfFrvfz/rYUfd28jjl0/wAR+Avh9oml+EtLh8ST6dGkFxBNdC2aVQpyyM2VHzY4PbiqnhzS/FniDxzB4r8Z6Zb6DHp9rJbWGlxXYuZN0hXfJI6jb0UAAfjjv3n2qP8Auy/9+X/wo+1R/wB2X/vy/wDhTu3Jye4rJR5UeYWtr8QfAc2oaL4W8M2ev6Tc3ctzYXkmoJb/AGPzWLMkqEZcKxJ+Xkj34Gz4Yin8Bab4X8INEmo6hftcS3k8b7Fi+9LLKBtOV3uqAcfeHTpXbfao/wC7L/35f/CoibRrtbprYm4RDGsxtm3qpIJUNjOCQDj2FJaK39aDev8AXXuchrXiL4iWGtXVppHgW01ayLf6LqA1eOBQpHG+NgWJB64607w9oPiDwT8N5obGG01jX2nkvZbdZDDBJJJLveONm+6ACQpPcAnGa7L7VH/dl/78v/hR9qj/ALsv/fl/8KFoh7u559p2m+MfGfivS9V8Z6PbeHdK0aQ3FvpiXi3Utxc7SqyO6/KFUEkAc5PPtufE3RdQ8Q/D6+03R7f7RdyyW7JHvVMhZ0ZuWIHCqT1rpftUf92X/vy/+FH2qP8Auy/9+X/wp9vLUXmF5/x4z/8AXNv5VNVS6uUazmAWXJjYcxMO30qX7VH/AHZf+/L/AOFICaioftUf92X/AL8v/hR9qj/uy/8Afl/8KAPPdT1v4oXRvdHtvA2mgS74YtXl1dPs4U8B2hwZOh5FZ/ijwl4i0j4f+FfDHh7R38T2VgyLqlv9tjtBdIicIzOfuM5yV54XBr1L7VH/AHZf+/L/AOFH2qP+7L/35f8AwpdPu/AfW/r+Jx3hjxH4zutUhstc+HaeHtMWM5u11mCdYtq/KojQA4PTjpViHxRr+s+A11/w1oMFxdSzMbexnu9n2iASFQ4cqApZQGGQRyOTXUNcROpV0kZWGCDAxBH5UyB7W1t47e1gaGGJQkccduyqigYAAAwAB2pvUS0PP7Ww8Z+NfFmh6j4p8P2vhjT9Dna6WEX63c9zKUZFAZAFVAGJOck8fhFLY+N/A3ijWpPCPh228R6Rrd0b1Y2v0tXsp2AEhbeDvUkBsDnrXpP2qP8Auy/9+X/wo+1R/wB2X/vy/wDhR6f1/Vl9wev9f1dnF6Povibwh4BuZbG3s9a8S3d2+oXkJlMMU0kj5dEY/dwuFUnj5QSBms6zsfGvjbxZo9/4s0C38MaVok5u0tRfrdzXU+wqp3INqoAxJzzn9PRftUf92X/vy/8AhR9qj/uy/wDfl/8ACnfW/wB3lbYHqrf1ruc9beJNT1nTNfl0HTYWm0+7ktLEzznZePGBvJ4G0b9ydTypPtXJX9t4++IZsdK1/wAKWvhbTIL2G7url9TS7llEThwkSxgbSSByx4Gfx9JtzaWcPlWlsYI9zNsitmUZYlmOAOpJJPqTUv2qP+7L/wB+X/wpLRp9rfeuv3g9U16/c+hyvinXfHGkauE8NeDrfxFYSRAiRdTS1kikychg4ww6Yx75rDtPDvjLS/AvivVFWGTxhr7GZLezmCx2x2CONFdyBlVGSc4z0z39G+1R/wB2X/vy/wDhR9qj/uy/9+X/AMKVtGu476p9jyzwzqvjzw5pdrpVh8IFtrZCBJKPEdszOx+9I3y5ZjySTya9Tb/j+i/65v8AzWj7VH/dl/78v/hUTXKfbIztlwI3H+qb1X2qm7kpWLdFQ/ao/wC7L/35f/Cj7VH/AHZf+/L/AOFIZNXKeHNF1Cw+IPjDUru38u01KS0a1k3qfMCQbW4ByMNxyBXS/ao/7sv/AH5f/Cj7VH/dl/78v/hR1A86vrLxp4K8Xaxf+EPDtv4l0zXJVupLc30dpLaXAQKxy4wysFU465z07y6EmqeBNDFxrFtb33iDxProeW2tpCscbSkAhW2klY4kLHjnaee9egfao/7sv/fl/wDCopTaTzQyzWxkkgYtC72zExkgqSpxwcEjjsTRHS33fLTT8Aev9de5R8YWFzqvgfXNPsI/NurrT54YY9wXc7RsFGTgDJI61P4btJ7DwppNndp5c9vZQxSpkHayoARkcHkdqufao/7sv/fl/wDCj7VH/dl/78v/AIULS/nb8L/5g9beV/xt/kcv4E0XUrC48Rarr1v5F/q+qyTBTIrlbdAI4RkEj7q5x23GmeJde8c6TrXl+HvBlv4g06RFKzLqiWrxN/EGDg5Hpiur+1R/3Zf+/L/4Ufao/wC7L/35f/Cjol2/RWH38zz7So9W8BeFfEfirxFb29xrOrXa3X9mWUhEauQkUUCuQcsTtBbHU9wKs+MNG8S2nirTPGXhHT7fUb+C0axv9LkuRF9ohZg42SMMBlcHkjkH8K7O4NpdoqXVsZlR1kVZLZmCspyrDI6ggEHsal+1R/3Zf+/L/wCFHa3Tb0tYXl3/AM7nG+D9I8Q3vii+8X+MLKDTL2e1Sxs9MhnE/wBlhVi7F5BwzMxzwOAB+GJq4+JnjWxm8M3/AIcsvDdhcnyb7V01JbgywZw4hjUBlLDj5+gJ716b9qj/ALsv/fl/8KPtUf8Adl/78v8A4UabdOw02tep5t4/0vxGuv8Ah6LQPBw8SaBpcBY2B1GK1i88YWIsHzvCKCQMYy2e1dJ4T1/xdq99NF4o8E/8I7bpFuin/taK78xsgbdqAEcZOfaul+1R/wB2X/vy/wDhR9qj/uy/9+X/AMKE311JsugWv+pb/rpJ/wChmpqqW1ygiOVl/wBY54iY/wAR9ql+1R/3Zf8Avy/+FAyaioftUf8Adl/78v8A4Ufao/7sv/fl/wDCgDJ8ajWz4J1ZPCsTS6w9syWirIqEOeMhmIAIznk9q4Lwzqvjzw5pdrpVh8IFtrZCBJKPEdszOx+9I3y5ZjySTya9T+1R/wB2X/vy/wDhR9qj/uy/9+X/AMKFo7g9VYwm1CPxPqviLwxLZZsLa2S3nuvMzveZGLRhcfwoVJOf4xxXAw6Z8UF8Jf8ACv20ewW1EH2AeJ/tylRbY25+z43+Zs464z+derQm0t3me3tjE07+ZKyWzKZGwBubA5OABk9gKl+1R/3Zf+/L/wCFKy6/Pz/q7Hd3uumxzOuz+I/CmkaVa+CfDMXiC3t4vs8lu1+lrJGqqoRgzgqRgEEdenvVLwjoHiNdT1fxX4qFpHruoQLb2tjC5eKygTJWMv8AxEscsRxnp7dn9qj/ALsv/fl/8KPtUf8Adl/78v8A4VV2229xKySS2PLtak+JnjbQ7vwvfeDNP0KC+T7Pc6tLqqXEaxn7zJCo3biPu5PXGa7i21f7J4qtPCtpatNHb6b9onu2l5hAYJGpGOS+HPUfcPWtn7VH/dl/78v/AIVEhtEupLlLYrPKqrJKLZgzhc7QTjJAycemTQv6/ryE9f69LnOSaLqV98X4dYvLfbpWmaU0NlIZFO+4lf8AeELnIwiKMkc5NbXidtTXwpqn9gQG41Q2sgtIxIE3SlSF+YkAc4PUVe+1R/3Zf+/L/wCFH2qP+7L/AN+X/wAKlq8eX1/G7/UpO0uYy/B+hjw14L0jRgAGs7SOOTHd8fOfxbJ/GuR1PW/ihdG90e28DaaBLvhi1eXV0+zhTwHaHBk6HkV6F9qj/uy/9+X/AMKPtUf92X/vy/8AhTl77bfUUfdVkY3hvQB4V8EaToQnNx9gihhMpGN5DDJx2Gc8dq36qXNyhiGFl/1iHmJh/EPapftUf92X/vy/+FNtt3YkklZE1FQ/ao/7sv8A35f/AAo+1R/3Zf8Avy/+FIZNXmvxJtPFN34q0STSfCP/AAlGjWUbzy2b6jFaxtc5AjZw+d+wAkDGMtntXon2qP8Auy/9+X/wo+1R/wB2X/vy/wDhS6ph0aOQ0jxh4n+y6leeM/BQ8N2FhaPcC4OrRXXmFeSu1BkcZOfasbx0fFnibwh4bk07wm9/FdSJdavo/wDaMcGU2ZWF5HxkbiNw287cHrXodybS8tZLa8tzPBKpWSKW2ZlcHqCCMEVL9qjH8Mv/AH5f/Cnv+H4f1+ALT8Tj/C3iLxpearBY638Ol8P6aIyPtSazBOI8D5VEaAHB4HHSuP0K5+I2garquoS/C/8AtXUb+6kd9Rk1+2jYw7j5cSqd21FXA2g9cnvXsH2qP+7L/wB+X/wo+1R/3Zf+/L/4Udbh0scHqngCTx++leIdfu9f8J6zb2zw/ZdJ1RP3AZjkeYqHJIAyRjjA7Vj+GfhVqGgfFi71mfxD4kutNhtITDc3mqLIbtxv3RzDGWRQQQCAMnqa9U+1R/3Zf+/L/wCFI1xE6lXSRlYYIMDEEflRs7xDdWZm+FNefxN4dh1drP7JFcPJ5CmTeXiDlUk6DG5QGx2BHJrN8OaLqFh8QfGGpXdv5dpqUlo1rJvU+YEg2twDkYbjkCuhge1tbeO3tYGhhiUJHHHbsqooGAAAMAAdqk+1R/3Zf+/L/wCFPRPT+v6sBxeteIviJYa1dWmkeBbTVrIt/ouoDV44FCkcb42BYkHrjrWp8P8AwzdeFPCaWOp3EM9/NcTXd01uCIlklcuyoDztGcDPXGeM10H2qP8Auy/9+X/wo+1R/wB2X/vy/wDhSWgPVnNeHNF1Cw+IPjDUru38u01KS0a1k3qfMCQbW4ByMNxyBXSr/wAf0v8A1zT+bUfao/7sv/fl/wDColuU+2SHbLgxoP8AVN6t7UdALdFQ/ao/7sv/AH5f/CigDJooooAKK4nx74n1DT72x0TQbyz0+8u43ubnUr7HlWFsmA0hBIBJZlUA8Z6+taXgn+0zo8j6n4ns/E8byZt9QtIEiDLjlSIyVODnkH60LXUHodJVTVf+QNe/9e8n/oJq3VTVf+QNe/8AXvJ/6CaAOnorE8U+GYfFmmx6dfXl3b2Xmh7mK1lMRuVAI8tmHIUkgkDGcVw3hbw7pvgv4vvofglp4tJbSmuNUsDO80VtLvUQsCxJV2G/jPIGcdKS3s/6srg9r/1vY9Uorxrw/wDDzSvih4fm8YeJri+m1bUpp3064ju5E/s2ISMsSxKpC8BQTkHJJroPDdlL8SfhPo0XiLULtdrNFqItZTEb0xM8RV3HO1iu44IzT1t5/wBfl1Dr5f1+fQ9Foryvwr4c03wZ8YH0LwS08WktpTT6pYGd5oraUuohYFiSrsN/GeQM46UvjzRtRtfFnhjVL3xDfXcc/iW2igsAFit4IyHbBVRmRsqPmYn2AoWrj5/52E7pS8v8rnqdFFfP/jZvhldfGvXI/ikyjy7SzisQxuVGSrM5Jh4H3l+8aXVIro2fQBIVSWOAOST2rkrbx9HqUD3mheHda1fTVZlW/tY4Fjk2nBKLJKruAQeVU5xxmrui2mj6F4Gt4PB1i19pUcW60t7K4WQyqxydryuAfvE8vXAWl34m8JPpnhbRoNStrW880afBfWFpczwIg3sglW9VcKD8u5W7A5xVbSaEtrneSeOtGGi6Rqts811aatex2UDRR4KyOxX51YgrgqQR1BHSujrw+61bw9BpXhfw3pVyEvbPxRbtLb3N/azXMrmVzJIywSPj5ycghcZxgdK9wo6N+f6L/MXW3l+r/wAiG8/48Z/+ubfyqaobz/jxn/65t/KpqQworE8S6Jfa7bw29pr15o9uGY3P2FVEs644USEEx89159xXI/Dq/u7D9nq01C0Vrm8t9PuZo1c7jJIrSEZPckik3aLk+n/B/wAhpNySXU9JorwFvBnhdvhAvxCOuXSeJ/sIvRr7ahJvNzt3eXt3bcb/AJNm3OOOte1eGNVbXPCWk6rIAHvrKG4YDoC6Bj/OrcWrp7r+v0JTvZ9H/X6mpRXz3qeseAPFGu3uq/FrXGNtNeS22jaQJpxHDBE5j89hDyGdlb5mIHHtx1PxZ/sC1+EWhW13dtc+HZNQsY5LlpXlL2obcW3rlmyi9Rkmov7qfdr8e5TXvNdr/get0V5n8KtL+FQurrU/hf5JuPK8m423FwXVCQeY5myASvXHbrUXjT4YeEv7N1fxR4qv9QfUIVkuI9Ue+kjaz6lEiVSFAHAAwST7mnL3VdhFczsj1GisLwRNqlx4D0SbxBu/tOSxia53rht5UZyOx9ffNeOeNm+GV18a9cj+KTKPLtLOKxDG5UZKszkmHgfeX7xpyXLLlJi+aPMfQFFYXh6Dw54c8F248PyQQaBbQNNFKs5kjWLly29iSRyTnNeYeG7vUNd+Pml+Jr4SQ2uq6Rdf2baSDBitUdAjkdmfLPjsGA7Ufb5fX8n/AJfn2D7PN/X9f11PbKhvP+PGf/rm38q4X4o6rc3ent4P0KUpqWqWskt1MnP2OzUHzJD7t9xfUsT/AA1Z+F//ACRHw/8A9gpP/QaS1Tfb/g/5DejS/rp/n/Vzt6KKxPEuiX2u28Nvaa9eaPbhmNz9hVRLOuOFEhBMfPdefcUpOyuBt0V5/wDCmyg1f4G6VY6mrXEF5azxXAdzmRXkcNlgc5IJ5zmuN8dfBj4f6fY2Wl6B4eEet6zci1s3N7cP5I+9JMVMhBCICeRjO0d6qScZcoLa57lRVTSdMttF0az0ywUpbWcCQQqzEkIqhRyevAr58eP4Q6p8RvFSfEh4l1iTWpI4BLLcxKsSoijLIQg+YNyT+VLefKv61X+YfZ5n/W/+R9HUV5z40s47uTwh4E0m6msdK1JnE7WsxDPZ28WfKD5zhsoCc5xmqWneFtP+GXxN0Ky8Leda6L4giuLe40953ljSaNPMWVd7EgkBgeaOv9f15eoul/6/rr6HqdFeMeN/g/8ADXw74Zub628KifUZ3W3sYPt9z++uZDtjX/WdMnJ9ga9J8EeFrfwX4K03QLVi62cOHcknfISWdufViTjtQtU/6/r/AII3o9P6/r/M3qK8w8feE/hjd67PqHjvUkTVpYle2SbVXjlhUDavkQqwJ+ZSeFbLZ69KpS3fiW1+CfhjSdQvb2y1vWru30xruQ4uYY3djuOeRJ5S455BPrSWq89F9+g9E9dt/uPXKK8jv/A+k/C3xB4c1vwf9pso7vU4tO1O3e5klS7SbKh2DMfnV8EEY6mrnjL4U/DG0s9Y8VeIdAMrjzLu5cXtwplcnOAokAyzHAAHU0N2XN0/4b/MEm3b+uv+R6Vef8eM/wD1zb+VTVwfwy8GR+Cfhr9k+zi1ubwSXt1AHZhE7j/VgsScKoVffbnvXeVUlZ2JTurhRWJ4l0S+123ht7TXrzR7cMxufsKqJZ1xwokIJj57rz7iua+FNlBq/wADdKsdTVriC8tZ4rgO5zIryOGywOckE85zS1afkPqj0CivDfHXwY+H+n2NlpegeHhHres3ItbNze3D+SPvSTFTIQQiAnkYztHevZ9J0y20XRrPTLBSltZwJBCrMSQiqFHJ68ChWauHWxbor5xeP4Q6p8RvFSfEh4l1iTWpI4BLLcxKsSoijLIQg+YNyT+VekeNLOO7k8IeBNJuprHStSZxO1rMQz2dvFnyg+c4bKAnOcZoV3FS72/z/AHpJp9L/h/mejUV5Zp3hbT/AIZfE3QrLwt51roviCK4t7jT3neWNJo08xZV3sSCQGB5rL8b/B/4a+HfDNzfW3hUT6jO629jB9vuf31zIdsa/wCs6ZOT7A0m7K/9f12Guz/pdz2eisHwR4Wt/BfgrTdAtWLrZw4dySd8hJZ259WJOO1cd4+8J/DG712fUPHepImrSxK9sk2qvHLCoG1fIhVgT8yk8K2Wz16U52i9NRR1V2en0V5HLd+JbX4J+GNJ1C9vbLW9au7fTGu5Di5hjd2O455EnlLjnkE+tF/4H0n4W+IPDmt+D/tNlHd6nFp2p273MkqXaTZUOwZj86vggjHU07e9bzt89P8ANCv7t/K/y/pM9cqG8/48Z/8Arm38q818ZfCn4Y2lnrHirxDoBlceZd3Li9uFMrk5wFEgGWY4AA6mtT4ZeDI/BPw1+yfZxa3N4JL26gDswidx/qwWJOFUKvvtz3pR1TuN6PQ7yiisTxLol9rtvDb2mvXmj24Zjc/YVUSzrjhRIQTHz3Xn3FKTsrgbdFebfDq/u7D9nq01C0Vrm8t9PuZo1c7jJIrSEZPckiuKbwZ4Xb4QL8Qjrl0nif7CL0a+2oSbzc7d3l7d23G/5Nm3OOOtOXuuV9l/wf8AIaTdkt3/AMD/ADPfqKy/DGqtrnhLSdVkAD31lDcMB0BdAx/nXh+p6x4A8Ua7e6r8WtcY2015LbaNpAmnEcMETmPz2EPIZ2VvmYgce3DknGXKxRaceY+hKK8k+LP9gWvwi0K2u7trnw7JqFjHJctK8pe1Dbi29cs2UXqMk1f+FWl/CoXV1qfwv8k3HleTcbbi4LqhIPMczZAJXrjt1oSu35P9F/mJ6JeZ6ZRXl3jT4YeEv7N1fxR4qv8AUH1CFZLiPVHvpI2s+pRIlUhQBwAMEk+5rtPBE2qXHgPRJvEG7+05LGJrneuG3lRnI7H1980lqn5W/G/+Q3o18/wt/mbtFfP/AI2b4ZXXxr1yP4pMo8u0s4rEMblRkqzOSYeB95fvGvY/D0Hhzw54Ltx4fkgg0C2gaaKVZzJGsXLlt7EkjknOaF8PMwd+blRu0V4n4bu9Q134+aX4mvhJDa6rpF1/ZtpIMGK1R0COR2Z8s+OwYDtXWfFHVbm709vB+hSlNS1S1klupk5+x2ag+ZIfdvuL6lif4amTcYKX9df8tew4pOTX9dP89O53V5/x4z/9c2/lU1cR8L/+SI+H/wDsFJ/6DXb1pJcsmiIvmimFFFFSUFFeL/EHwh8O4ptZvG1OVvHDh5bTyNUke+WdgWiSOBXzjkADbwvfvXfXfhi48V+C9J03xPeXcD+VE2pxWs3lm5YR4aNnXnaWOTtIzjriktY3/r+l1+QPR2/r+n0Oqoryvwr4c03wZ8YH0LwS08WktpTT6pYGd5oraUuohYFiSrsN/GeQM46V3XirwfoXjXSk03xNY/bbSOUTLH5zx4cAgHKMD0Y9+9Pomv61sHVp/wBaXNqivFIPhN4Ji+LmmWfhjRfsi6Eq6jqE4u5pP3hP+jw/M5AOQXPfCr2NWLDwroPxO8V+LZ/HTzXdxpOpPaWlkbySJbGBVGyVVVhy/Lbjnp7UbrTzfyTS/MHp+H46/kex0V4Q2v8A2z9nHxnaHVDq1vpN1Pplvfu/mNNBvTYxYfeIVwMjOcVr/DDSvgxceII734emF9ZtI2xuuLpZMFdrERykbhg9QCBntTSu7Ltf79RO6Xza+49goorw7WNVufFfxe8H6/byMNAt9WlsNOHa6YROZbgf7O5Qi+oUnvSWskv67DekW+x7jRXLeO/EFzpWmQaZomH17WXNrp0f9xsfPM3+xGvzH8B3rznwhqN14N/Zw1iXT52e9tL27tbe4cc+a1wYlc9edzA0k73t/wAPtp+KHbbz/wCD/ke31C3/AB/Rf9c3/mtePeJvhxpvw68NL4z8P3N8viDS5Iri+vpruRzqKb1EqyqWIwwJPAHQV7BuDXkLDoYnI/NaroTcnooopDCiqerW15eaTcW+mX5066kXEd2IVlMRz1CtwTj14rhPhxp8mlePvHNjNqN7qTQy2X+k30vmSNugLHnAAGWOAAAOgoWraA9Hor5/8bN8Mrr4165H8UmUeXaWcViGNyoyVZnJMPA+8v3jXtPhTTtD0rwtY2nhQRDR1j3WvlTGVSrEtkOSSeSe9EdY8wPSVjXorxD4uy+BX+K2kQ/E1saVFo8rxDE/zTNMoH+p+b7qt14roJrjw14J+COq6j8LmhS0lUm1lhneZRPIViDZcsQQSvB6Y6Uldx5v63sNq0uX+trnp9FeMeJvhxpvw68NL4z8P3N8viDS5Iri+vpruRzqKb1EqyqWIwwJPAHQVr6p4fsfid8StY0zxI1xcaFoNtbImnJO8UctxKpkMr7CCSq7QOccmn6f15/oLzZ6hRXn/wAN4JPD3iDxN4NW6mubDSpYLjT/AD3LvFDOhPlbj1CsjY9jWh8QvD3g7XLG0k+IN5HBpsDsqR3Oom0gkkYAgsQy7mAU457tQ+lgXZnYUV5v8J7CLT7rxHB4fnuZvCIuIv7HaaRnQfu/3ohZuWjDYAPIJzgnk1yHibwh4J0mXf8AD/U5Z/H8d5GsbWuqSXN1JIJFEgnTeQq43bywUDHPoX1S72/H/IXRs93orzD4sa1E2o6V4b1DWm0PSJ4Zb7WL2KTy5Ps8ZVViUjn53cDgZOMd8Vb+E9v8Olgv7j4X3Ze3coLq3E8zBW5w5Sb5lJ5GeAce1KOuv9f1fQb0O+tf9S3/AF0k/wDQzU1Q2v8AqW/66Sf+hmpqACiiigAoqtqVrLfaXc2sF1LZyTxNGtxDjfESMblzxkdRXkfiPwBoXgPVPD+peDpL238TXmqwwhnvZZn1CMsPP81WJBUJuYkAYOPahayS7/qD2b9fwPZaKoa9qY0Xw7qOqMu4WVrLcFfXYhbH6V5D/wAKut7r4bjxlNf358bvYf2mNY+1uGWXZ5gjCbtgjH3MY6UuZK7ey3/r5Mdr2S3e39fNHttFeTXrp8VNc8N6JqksyaLNoK61qFpBK0Qu2kKrHGxBDbAd5wD1xVrwzYWvw3+IOpeHdOmnXw9PpH9q29rLK0gtGjfZIqFiTtIZTyetN+78Xn+F7/kyVqtPL8bW/NHp9FfOdjd/DjxHPb6p8VvETSeJdVIura3+1zxx6VG/zRIhj+RCFKtlz15+v0TGuyFVDF9qgBmOS3vmnZpXY7q9kPorwzw54O8M/EHwjfeMPGl/cDXBcXPnXh1B4jo5R2CooDBVCAA8jnOe9dB4X8PaF8Yfhd4b1LxzZ/2vcW0csazefLFuYP5bP8jLkt5YPNLW33fj/X+QbPy1XzR6nRXjvgr4beE7P4u3mp+FdK+xWPh2M2nmC5lk8+8dfn++x4jRguB/E59Kv+PNG1G18WeGNUvfEN9dxz+JbaKCwAWK3gjIdsFVGZGyo+ZifYCmrNx8/wBXb/gieil5for/APA9T026/wBSv/XSP/0MVNUN1/qV/wCukf8A6GKmpDCiiigAoorm/FngjT/Gv2a316e7k0yEMZNPhnaKO4Y4wZCpDELg4GQMmlqB0lFeafDbTbfw/wCNvFGg+Gp55PDViIBHDJK0qWt0QxlijdsnAXYSMnBPrmup8caL4f1vw4YfGN39m0eKVZbgveG2ifqoWRwR8uWHGRyFpvZNAt7M6KivKvhvpOlaT8QNTi+H1xLN4P8A7PTzAlw89ql55h4ikYncdnLbSQMjPYDhnj+EOqfEbxUnxIeJdYk1qSOASy3MSrEqIoyyEIPmDck/lRu0l1V/xt/wfQOjfZ/pf+vM+jqK5LXPhp4O8WaTpVlrGli8stMi8uxVbqVRGhVRwVcFuFXkk9K4rwV8NvCdn8XbzU/CulfYrHw7GbTzBcyyefeOvz/fY8RowXA/ic+lNfFb1/r9PmL7Nz2Kiorq6gsbOa6vJUht4I2kllc4VFAyST2AArxjw3d6hrvx80vxNfCSG11XSLr+zbSQYMVqjoEcjsz5Z8dgwHaktZW/rZv9PzG9I3/rf+v6Z7ZRXn/xR1W5u9PbwfoUpTUtUtZJbqZOfsdmoPmSH3b7i+pYn+Gubs769h/Z88FaXpd5LY3WuNZ6at3CcPCshy7KezbFYA+9JXe3dL79Pz/XsN2TV/N/d/wP61PZKhX/AI/pf+uafzavKb/wPpPwt8QeHNb8H/abKO71OLTtTt3uZJUu0myodgzH51fBBGOpr1Zf+P6X/rmn82qul16f195Ot7P+v6sTUUUUhmHRRRQB5d8RLfRNL8faX4i8Z2TXfh82L2krtA00MEwcMjSoAdwILAZBAP4EWvhjFYT674j1bwtYtY+Gr1oBZr5BhjmlVWEkkcZAwpyozgZIPoa9Hoojorf1q7hLXX+tAqpqv/IGvf8Ar3k/9BNW6qar/wAga9/695P/AEE0AYvxa8cR+D9L0u2k1P8AsgatdGCXURCZWtYVUs7ogBy/3VHBALZ7VX+Hfjj4a3FwvhzwRqrXN7cl5pDLb3Hm3LgZaSSWRBubA6k+w9K9JopJb36g9bWPF/CvxE034beHX8GeJre/TXNMmmisbWKzkc6khdmiaIqpXkMByRzSajrs/wALvhT4Y0jV9QGh3mrTv9uvREZmsg5aaUoqhsuC4QHBAJz2r2minq1rvp/Xz6j6/f8A18uh5t8OvHPw1nuk8O+CNVa5vbgvPIZbe4825cDLSSSyINzYHUn2HpV/4m/8fXgv/sZ7X/0CSu6op31T7NfgybaNd0196sZ2p6/puj3mnWuo3PkzanP9ntF8tm8yTBO3IBA4B5OBXJ+JPi74L8P6pe6F4jmuYr2PCfY3sJZPtQZQRsIUqwOcckcg13tFT6lXscR8I9LvNK8AxpfWLaaLi7uLq30912taQySsyRlf4SAenbOKxru+vNe8UajLo48X3T6PeyWgktINGEdvJtUssTXA8zBVl5PWvUKwbzwL4S1G8lu9Q8LaLdXMzbpJp9Pid3PqWK5Jpvf5f5CWxxN1Y+Mr7VNGC2viS4hh1OCa5/tyPRXhjiU/M6+T84cdivI5r1Sueh+H3gy3nSa38I6FFLGwdJE02FWVgcggheCDXQ0+lv66C63Ibz/jxn/65t/KpqhvP+PGf/rm38qmpDEb7p+lcP8ABj/kjugf9cpP/Rr13NFHR+f/AAf8wPnXV/8AhWOuXd7D8OvCz3vjS+324hNpPHHYO/ytLKr4iTZycqD8w/Gvb9Jl0zw+ukeEo5ybqLTx5EQjY7oogqFiQMDkr1Iznitus6LRLWPxJca5mR7ya2S1+YgrHGrM2FGMjJbJ552r6ULRW/rrb8Qlq7/10/Q8h8O+K/C/wwtNZ8KeMrKa31GS+uHjQWTzjVoZHLRlCFIPDbdpIAOfeug8J65a/C/4RaJJ4ziutOhllkLAQPKLISO8iI4UEqACF6cHjivT6KForen4Der+9/eeU+G9X07x38YLfxN4PtJP7KstNmt73VmtmhW9d2QpGu4Avs2knI4z7iubtvir4B1jxJcap498QsHsL2RNN0j7LO8FsqMQszBEKyStjcCSQuRgA171RRta3T/O4t736/5WMKx8aaBqVjo93ZX5lg1uRo9PYQSAzMoZjwVyoARjlsDiuf8AEnxd8F+H9UvdC8RzXMV7HhPsb2Esn2oMoI2EKVYHOOSOQa6y40S1uvENlrE5ka4sYZYoEJGxfM27mxjO7C4znoT61o0aAtDw+08DeNNU+Fmmabo1rpem2s2pz38+j6x5qILdpS8NuyxgkAE5ZMjsD3FMkX4mp8avDq6oPCK3g0+cILUXPlC28yPzPvc7+m3t617nRQtHf+trCeqt/W9zxb/hGfixoo8Raij+C7qTU/Mlubq4N005iCkLGMAKFVeAMY7nJJNdB8Gv7c/4U5Yf23/Z/wBn+xL9g+x79/k7OPN3cb85+7xXpNQ3n/HjP/1zb+VEdFb0/ActXf1/EmpG+6fpS0UpK6aA4b4Mf8ke0D/rlJ/6Neo9GYeIPjRruoSDfB4etItNtcjgSyjzZmHvjy1z9a72iqbvPm9fx/4Fw6WKMusWMOu2+jyTEX9xA9xHCEY5jQqGYsBgcso5IznivPPFHxe8Ez2up+Hby2vNR1YmS1/sN9NleSeTkAAbdpB4IOehzXoEWiWsfiS41zMj3k1slr8xBWONWZsKMZGS2TzztX0rRqWk1Z/1/SGnZ3X9f0zxq50/VvAvhf4da9qttPdL4che21WK3XzHghmiCl8DkiMqoOO1a2m+I7H4m/EjQ9R8Lie50Pw/HcTTai8DxRyTyJ5axJvAJIUsTxgceor0+ircrybfn+P9X9SUrRsu1v6/I4LU2Gv/ABt0rTHG+18PWD6lIpHH2iUmKLPuFEhHpmuvvtYsdNvbC0vJjHPqMxhtUCMxkcIXI4BwAqk5OBxV6s640S1uvENlrE5ka4sYZYoEJGxfM27mxjO7C4znoT61K2S/r+ug3u3/AF/XU888a+M/hU+vXWl+OdNhn1a3XyUS60d5pZE6jypAh4OTjDDknpWT/ZXiS3+Dei6nNp+oS3Oh60uq2+mz5e6FksjBYmySd4ifODkjAHavaqKFdbb6fg77Der8v81b+vkeTXnjPSvirrfh/SfB32m9t7LUotR1O6a2kiS0WHLLGxcDLs+0YGeh7VuePWGteMvCPhQjdBcXb6lepjIMVsAyqfYyMnHtXe0U1pb1v8/6SFvf0t/X3shvP+PGf/rm38qmqG8/48Z/+ubfyqakAjfdP0rh/gx/yR7QP+uUn/o167mihaX+X6/5gcFozDxB8aNd1CQb4PD1pFptrkcCWUebMw98eWufrXXy6xYw67b6PJMRf3ED3EcIRjmNCoZiwGByyjkjOeKvVnRaJax+JLjXMyPeTWyWvzEFY41ZmwoxkZLZPPO1fShbJf11/UH1f9dF+X4nn/ij4veCZ7XU/Dt5bXmo6sTJa/2G+myvJPJyAANu0g8EHPQ5rLudP1bwL4X+HWvarbT3S+HIXttVit18x4IZogpfA5IjKqDjtXstFCulpvp+F/8ANg9X5a/ieYab4jsfib8SND1HwuJ7nQ/D8dxNNqLwPFHJPInlrEm8AkhSxPGBx6itLU2Gv/G3StMcb7Xw9YPqUikcfaJSYos+4USEema72ijZry/4P5foD1T/AK/q+v3lG+1ix029sLS8mMc+ozGG1QIzGRwhcjgHACqTk4HFec+NfGfwqfXrrS/HOmwz6tbr5KJdaO80sidR5UgQ8HJxhhyT0r0O40S1uvENlrE5ka4sYZYoEJGxfM27mxjO7C4znoT61o0rX3He2x4r/ZXiS3+Dei6nNp+oS3Oh60uq2+mz5e6FksjBYmySd4ifODkjAHatG88Z6V8Vdb8P6T4O+03tvZalFqOp3TW0kSWiw5ZY2LgZdn2jAz0PavWaKq+vzv8APT/JE20+Vvk7/wCbscF49Ya14y8I+FCN0FxdvqV6mMgxWwDKp9jIyce1dvef8eM//XNv5VNUN5/x4z/9c2/lSWit/X9WsN6u/wDX9ak1I33T9KWilJXTQHDfBj/kjugf9cpP/Rr15dq//Csdcu72H4deFnvfGl9vtxCbSeOOwd/laWVXxEmzk5UH5h+NfRVFOVpSbY07IxNJl0zw+ukeEo5ybqLTx5EQjY7oogqFiQMDkr1IznivK/Dvivwv8MLTWfCnjKymt9Rkvrh40Fk841aGRy0ZQhSDw23aSADn3r16LRLWPxJca5mR7ya2S1+YgrHGrM2FGMjJbJ552r6Vo0SvJ3fW9/mxK0VZbK1vu/4c8w8J65a/C/4RaJJ4ziutOhllkLAQPKLISO8iI4UEqACF6cHjioPDer6d47+MFv4m8H2kn9lWWmzW97qzWzQreu7IUjXcAX2bSTkcZ9xXq1FO/vc39bWF9m39b3PBbb4q+AdY8SXGqePfELB7C9kTTdI+yzvBbKjELMwRCskrY3AkkLkYANeu2PjTQNSsdHu7K/MsGtyNHp7CCQGZlDMeCuVACMctgcVu1nXGiWt14hstYnMjXFjDLFAhI2L5m3c2MZ3YXGc9CfWlHRJP+v8Ahxvdtf1/wxyfiT4u+C/D+qXuheI5rmK9jwn2N7CWT7UGUEbCFKsDnHJHINcZaeBvGmqfCzTNN0a10vTbWbU57+fR9Y81EFu0peG3ZYwSACcsmR2B7ivcKKFt5/0xt/d/SPDJF+JqfGrw6uqDwit4NPnCC1Fz5QtvMj8z73O/pt7etWv+EZ+LGijxFqKP4LupNT8yW5urg3TTmIKQsYwAoVV4Axjuckk17TRUtXjb1/F3BOzv6fgebfBr+3P+FOWH9t/2f9n+xL9g+x79/k7OPN3cb85+7xXpNQ3n/HjP/wBc2/lU1aSfM7kRXKrBRRRUlHi3i3xj8KNbn1K01DRGvPFHzRC2i0eQX7yr8qBZVTrwMHf0xVzxJ4x1PwN8MvCVh4p1dtL1TUlS3v8AU2jM8lqqx7pGAUNuk+6ucEZOea9dopW0t6fh/mN/Ff1/H/I82+HXjn4az3SeHfBGqtc3twXnkMtvcebcuBlpJJZEG5sDqT7D0ruNO17TdV0uXUbC4820hkljeUxsoDRsVfG4DIBUjI4OOKvuu+Nl3FdwI3L1HuKpaHo1r4e0Kz0nTw32e0iEaFyCzerMQBlicknuSab1RK0OU+EsbXnhS48S3KYu/Ed7LqDkjkRltsS/QRqvHua5b4k3fwjl8XSQ+NtFnvPENuiGGCC1uPMvQVBUKY8LJ/d+c8EEV7HRQ7XVuhSe9+p5t4PdPh18NbrXfE2nSad9uvXv7q0tIC/2JJGCou1RnaiBM4HGD6Vkv4o0X4mfEfwvc+BYJL06PcvcX+s/ZHiSGExsvkb3UElyw+X2z616/RTvrftt8iejS63/ABOH8cDU/GnhbVtC8CajaRX8FytpfteCWNFUqGeMOqk5KsoJXoGPINeceJbL4nabrXgeyng8FW5t78x6XFZC6ESOIGGJAedm3P3ec4r27RdEtdCtZ4LMyP8AaLmW6lklILPJI5YkkAdM4HsAO1aNSlaz9H939aDet16r7/61PJp/DPxVt/HWo+ItPfwbcyXCLBbNqBui1tAOfLQIAFBb5j1JPfAAHLeFNE8Y+Ifgr4p0+VdLdGvJ5bJLPzPOe6juTI6tu+XYWTC98HmvoKihabdv1v8A15j6/O/9f1seNa/8RNN+JvhhfB/hu3vpNc1R4ob+0ltJE/s2PeplaVmAXgAgYOSSK9e2hbyFR0ETgfmtT1C3/H9F/wBc3/mtUTYmooopDCuF8If8lW+IH/Xaw/8ASYV3VFC0d/66f5AcF4k+Lvgvw/ql7oXiOa5ivY8J9jewlk+1BlBGwhSrA5xyRyDUHw5kXwd8NreXxDbvo8N7qUjWlg0TF7Zbic+TDsUEg/MOO2ecYNeiVnapolrq91ps94ZD/Z1z9qijBG1pAjKCwxzjcSOnIB7ULT+un+YS1/rrY5/xV8UvCngvVhp3im7uLB5IRLE7WcskcwJIIVkU8jHIOOorgrPw3f8AiT4aeOrnQtJl0y21q9W+0ewkh8ppPKEbb9n8PmNHkfXPevbqKXfv/wAFP9B31R41r/xE034m+GF8H+G7e+k1zVHihv7SW0kT+zY96mVpWYBeACBg5JIrQ1HxJZfDD4oa3qHij7Rb6Hr9vbSQagsDyxxTQoY2ibYCQSNpHHrXqtFPzX9f1uLpY828JavB9o8XfEXVo5tN0a88kWr3ETB2tYEI87YBuwzMxAxnGPUVo+PvF/gfR4bK1+INtHJY3Q8+B7zTWuYd44wRsba+CeoHBNdPrmiWviHTfsGoGT7OZopXRCB5mxw4Vsg5UlQCO4rRoH1PK/hnJa/2/wCJNV8JafeWfgx4Y2tIGhaNLi4XcZZIImwVUjaOgBI9jXL+KvE3w58WWF1F4G0iSfxvPJutDp+lSW13Dck/6ySXaoAByWJYjGc175RR/Xn9/wDXkJaL+rfceVeN/L8L+OPC/jPxRatd6bZ2MllfXUMJkFnM21lmKAE7chhkdMjvin+D9T0/xp8XbrxZ4Vt5Ro0Wk/Y5tQa3aFb6cyhhgMAW2KuMkcZx9fUqKa0d+1/xvf8ANitpb0/C3+RDa/6lv+ukn/oZqaobX/Ut/wBdJP8A0M1NSGFFFFAGH418Rjwl4J1bXTGsjWNs0iIx4Z+ig+xYivLvCPxP+GVjerqeq+LX1XxLeqI57yaxufk3Efuol8vEcYPYdcZJJ5r22ihaSu/6/wCHB6qxz+uy2XiKy17wnbXONQfTWWVfLbESzK6IS2NvJDcZzxXmVt8ULf8A4Vwvgwaff/8ACcLYf2YNH+yPu80J5fmb8bBH/FnPT869c07RLXTdS1O/hMj3GpzLLO8hBxtQIqrxwoC5xzyzetaNKyaaez3/AB/zHezTXTb8P8jyK/2fCjxP4c1nVUnfQo9ATRLy7hhaQWrxsGR2Cgttb5h09KuaLOnxK8Y6t4i0qOdNDXRW0myvJomjF08jbpHRWAbauEGSOufQ16jRTl71+bz/ABvf82Je7t5fha35I8B0/wAZeGtE+FMnw91XRbn/AISiO1eybRBYPI11PghZVbbtIY4YNnIHToK9Y8Kzx6Fo/h7wrql0z60mlIzR7WbIiVEdiwGAAzAcnntmumrOi0S1j8SXGuZke8mtktfmIKxxqzNhRjIyWyeedq+lO922+u/yvb8WK1kkum3ztf8ABHjni+++E83jC+kTwtLq/jeCZkj02OznBnmBwruoxEyk4Ysc5U556V3miwN8MvguG1HYbjS9PkurkLypmO6RlGOo3sQK7iipt7jiv69C7rm5mct8NtGfRPh7pUNzzeXEX2u8cjl55T5khPryxH0ArO+Jv/H14L/7Ge1/9AkruqKtu8lJdGn9zvYhJ8rT6pr71uQ3X+pX/rpH/wChipqhuv8AUr/10j/9DFTVIwooooAK8u+K3j3T9B13SvDmr67LoOn30MlxfXtvG7TmNSFWKMoCULHdl8ZAXggmvUaKTVxnCeAfHPw+1Kyk0fwJfRmDTYDPJElrNGETPLkuo3Ek5JySScmrHijxv4Og8H2WpeJUN34d1YKVlm095oSpAdDJGVJAOARleuK6bWNMi1rRLzTLiWaKG8heCR4WCuFYYOCQcHB9Ks29vFaWsVvbRrHDCgjjRRgKoGAB+FN6/wBff+glo/6+X6nk3gObRdV+Jx1L4ZWEtn4Y+wOuozRWr21pczll8oRxsF+dRuywUcHHcVc8UfF7wTPa6n4dvLa81HViZLX+w302V5J5OQABt2kHgg56HNeo0Umk1yvYcW0+bqcPokt34A+B9tNruPtWj6RvlTO7DImQnvjhav8Aw20Z9E+HulQ3PN5cRfa7xyOXnlPmSE+vLEfQCupprrvjZdxXcCNy9R7iqlJtyl3/AOD+f6EpWSj2/r/P7zzrx1Z6z8RvDtkngS70mfT475xfxaqs8cV15L7fLO1dzIHU5xgHaOSMg8nIvxNT41eHV1QeEVvBp84QWoufKFt5kfmfe539Nvb1r2TQ9GtfD2hWek6eG+z2kQjQuQWb1ZiAMsTkk9yTV+klyyuv60sN+8rf1vc8W/4Rn4saKPEWoo/gu6k1PzJbm6uDdNOYgpCxjAChVXgDGO5ySTWboln4qf4DeGNWntbS9GhXlpqdja6armaa1QEMrhuPMwzH5eOK97opK8Vp5fgN6vXz/E8mvPGelfFXW/D+k+DvtN7b2WpRajqd01tJElosOWWNi4GXZ9owM9D2r1Nf+P6X/rmn82qaoV/4/pf+uafzaq2Vl6/19wut/wCv61JqKKKQGAYYz1jQ/wDARTTbQHrDGf8AgAqWigCE2dsetvF/3wKabG0PW1h/79iue8T694r0vUY4fDfgz+3rZogz3H9qxW2x8kbNrgk8AHPvUfgnxbq/ia61a31rw3/Yj6bKkJIvkulkcjcy7lAAKgrnk/exwRQtQeh0h06xPWztz/2yX/Cqmp6bYppN26WdurLA5DCJQQdp56VqVU1X/kDXv/XvJ/6CaAOh+x23/PvF/wB8Cj7Hbf8APvF/3wKyvFMfiK402O28JXFpZ3U0oWW8ukMgto8HLKn8bZwADxzzXL+Gr/xboHj6Pwt4u1qDxFDfWMl5a38dmtrJEY2VWR0T5dp3jB65FC1dv67g9Ff+ux3v2O2/594v++BR9jtv+feL/vgV5fDefEXxtBe+IvCviGx0bTYbiaLTdOksFm+3rExXfLIxym5lOAvQY+tb9prviLxp8O9I1Lwo1ppl9qIAup7pDILPGRIUT+Ng64AJx3NHS/p+P9fLqHW39af1/kdj9jtv+feL/vgUfY7b/n3i/wC+BXBeGr/xboHj+Pwt4u1qDxFDfWMl5a38dmtrJEY2VWR0T5dp3jB65FN8U+JvGWneKdFiSzsdN0S61uGwMhl864u0YMSwGNsakKRjlvpQtWkuv+dvzE9E79P8r/kd/wDY7b/n3i/74FH2O2/594v++BU1ed65q/ivxT40vfDfgfU7fQ7XSY0Oo6tLarcv5zjcsUcbHacLgsT6+3K62KO++x23/PvF/wB8Csa98SeENN1D7BqOs6JaXmQPs891CkmT0G0nNO0973QfCZbxnrtnLNbhhNqjItrGy5wrsCdqHkZwcZ6V5t4V8X6T4R8LJ4cuINI1eVjJm9tNasfJ1DcSTJJ5syybiD83yv3xkYp6XsLoesXD6VZrC121nAtxIsUJlKKJHb7qrnqT2A5NWPsdt/z7xf8AfArxwRW1l4B8Gadb6xp+qSWvii28z+z7kTRW26WRhCpH8KA7RnHC9B0r2mn0b87fgn+or628v1a/QqXVrbrZzMsEQIjYghBxxUv2O2/594v++BRef8eM/wD1zb+VTUhkP2O2/wCfeL/vgUfY7b/n3i/74FZXiW68RQQQReFdOs7q4mYiS4vrgpFagD7xVQWkz02jH1FZ3w313UPEHw00vWdXcXF9cRSPKY0C7iJGAAA46AClfRvsHWx032O2/wCfeL/vgUfY7b/n3i/74FeJv4r8fnwJP8Rv+Es0i3s4i8n/AAjslkvlgK5XyWnzvEvGMf3uK9stJ2ubGCeSJoXljV2jbqhIzg/TpVWdg62D7Hbf8+8X/fAo+x23/PvF/wB8CvJ5tY8deIZfEes6Z4u0zw5Y6FeTW66Zc2KS71i/inkY7ow3UbexBrS1bx5r1z8MvC+qaZFa6VqPiOa3ge5ul3QWXmKSZMHrnACg92GaS1V15fjsD0dvX8Nz0b7Hbf8APvF/3wKPsdt/z7xf98CvPfDeqeK9C+JEXhLxL4gtPE8d3YSXouo7RLWe0KMow6ISuxt3B6k59Kow3nxF8bQXviLwr4hsdG02G4mi03TpLBZvt6xMV3yyMcpuZTgL0GPrQ3ZX/rsH9fqeofY7b/n3i/74FH2O2/594v8AvgVk+DPEX/CWeDNM1sw+RJdwhpYv+ecgJV1+gYEVxurf8Jr4l+JmtaT4Z8Z/8I9Y6Va2rMn9lQ3XmSShyeXwRwo79+lDTTsC1Vz0j7Hbf8+8X/fAo+x23/PvF/3wKqaDZ6lp+h29rrmq/wBr30YPm3v2ZYPNOSQdi8LgYHHpXn+k+P8AVdd+OK6XYSqPC/2O4SEhFP2qeFlEkgbG7aGYoMHB2k80fa5V5/gH2eZ/1c9L+x23/PvF/wB8Corq1t1s5mWCIERsQQg44rlPEmg/EDUdYnuvD3jS00WyjA+zWX9lJcebhQT5kjnK5bI+UcDHerngrxFdeK/hpZazqEMcN1c2z+csX3N6llJX2JXI+tC1VwejOk+x23/PvF/3wKPsdt/z7xf98CpqxPEt14igggi8K6dZ3VxMxElxfXBSK1AH3iqgtJnptGPqKTdlcDV+x23/AD7xf98Cj7Hbf8+8X/fArk/Aeq6x4s+EtlqFzqCwavfW02LxIFIik3uqsI+hC4HB645rjfFumfEzwvoLXw+KZvLmSVLe0tF8O2ytczOwVEBycZJyTg4AJ7U5e7KzBaq5699jtv8An3i/74FH2O2/594v++BUWkw3tvo1nDqt0Ly+jgRbi4WMIJZAo3NtHAycnArgvjN451Lwn4Xe38LSKNdmie4Vtqv9mt48GSUhgR6IMjktx0pSaiOK5j0L7Hbf8+8X/fAo+x23/PvF/wB8Csi91DW08LWlzoenQ6nqM6RfJPcCCNdy8yMcHgegGT2rK+G2t63rmkaw3iSe3lvbPWLmzzax7IlWMqAFB5xnPLEnmqaabj2/4H+ZKd4qXf8A4L/Q6z7Hbf8APvF/3wKPsdt/z7xf98CvLfEOifEPw7oN/rF98XCltZxNKyjw1bEnHRR83JJwB7mu68ER69H4K03/AIS+7F3rLw+ZdSCJY8MxLBNqgD5QQuQOcZpLVMb0ZsfY7b/n3i/74FH2O2/594v++BXnd5d+NvGvibWbfwh4htvDml6LcfYxO1gl1JezhAzghzhEXcBkck5/Cv8A8LH1xfh3Ez2tovit9Y/sAo2fs4ut+PM452bBvx+FC1WnW347fmvvB6P+vX9H9x6Z9jtv+feL/vgUfY7b/n3i/wC+BXm6XXjnwN4j0b/hKvElv4l0jWLxbGQjTktZLOZwTGV2Z3KSMHPPIo1S/wDGfifx5rej+HvE9p4WtNDSE4ksEuZrvem4uQ5AWMfdBHcGgD0O6tbdbOZlgiBEbEEIOOKl+x23/PvF/wB8CuT8A+Jb/wAV/D1tR1ZbY3SPcWzzWhJhuPLdk82PP8LYrsqbVhEP2O2/594v++BR9jtv+feL/vgVleJbrxFBBBF4V06zuriZiJLi+uCkVqAPvFVBaTPTaMfUVkeA9V1jxZ8JbLULnUFg1e+tpsXiQKRFJvdVYR9CFwOD1xzS6N9h9bHWfY7b/n3i/wC+BR9jtv8An3i/74FeQ+LdM+JnhfQWvh8UzeXMkqW9paL4dtla5mdgqIDk4yTknBwAT2r1nSYb230azh1W6F5fRwItxcLGEEsgUbm2jgZOTgUbq4dbEv2O2/594v8AvgUfY7b/AJ94v++BXnvxm8c6l4T8Lvb+FpFGuzRPcK21X+zW8eDJKQwI9EGRyW46V1d7qGtp4WtLnQ9Oh1PUZ0i+Se4EEa7l5kY4PA9AMntSTumwejSNf7Hbf8+8X/fAo+x23/PvF/3wK5P4ba3reuaRrDeJJ7eW9s9YubPNrHsiVYyoAUHnGc8sSea5nxDonxD8O6Df6xffFwpbWcTSso8NWxJx0UfNyScAe5obsrvtcaV3bzt+h6l9jtv+feL/AL4FH2O2/wCfeL/vgVj+CI9ej8Fab/wl92LvWXh8y6kESx4ZiWCbVAHyghcgc4zXJ3l3428a+JtZt/CHiG28OaXotx9jE7WCXUl7OEDOCHOERdwGRyTn8KkrS5SU7x5j0T7Hbf8APvF/3wKPsdt/z7xf98CvM/8AhY+uL8O4me1tF8VvrH9gFGz9nF1vx5nHOzYN+PwqRLrxz4G8R6N/wlXiS38S6RrF4tjIRpyWslnM4JjK7M7lJGDnnkUJXf8AX9dV94PRf103/J/cekfY7b/n3i/74FRXVrbrZzMsEQIjYghBxxXnmqX/AIz8T+PNb0fw94ntPC1poaQnElglzNd703FyHICxj7oI7g1ueAfEt/4r+Hrajqy2xuke4tnmtCTDceW7J5sef4WxSWqv/X9fiN6M6z7Hbf8APvF/3wKPsdt/z7xf98CpqxPEt14igggi8K6dZ3VxMxElxfXBSK1AH3iqgtJnptGPqKTdlcDV+x23/PvF/wB8Cj7Hbf8APvF/3wK5n4b67qHiD4aaXrOruLi+uIpHlMaBdxEjAAAcdABXnL+K/H58CT/Eb/hLNIt7OIvJ/wAI7JZL5YCuV8lp87xLxjH97im9JNPoCu1oe2fY7b/n3i/74FH2O2/594v++BRaTtc2ME8kTQvLGrtG3VCRnB+nSvJ5tY8deIZfEes6Z4u0zw5Y6FeTW66Zc2KS71i/inkY7ow3UbexBol7rafQI+8k11PWPsdt/wA+8X/fAo+x23/PvF/3wK851bx5r1z8MvC+qaZFa6VqPiOa3ge5ul3QWXmKSZMHrnACg92Gak8N6p4r0L4kReEvEviC08Tx3dhJei6jtEtZ7QoyjDohK7G3cHqTn0p2fM49rr7lf8hX91P+tXb8z0L7Hbf8+8X/AHwKPsdt/wA+8X/fAry+G8+IvjaC98ReFfENjo2mw3E0Wm6dJYLN9vWJiu+WRjlNzKcBegx9a7rwZ4i/4SzwZpmtmHyJLuENLF/zzkBKuv0DAiktVf8ArUb0djW+x23/AD7xf98Cj7Hbf8+8X/fArzfVv+E18S/EzWtJ8M+M/wDhHrHSrW1Zk/sqG68ySUOTy+COFHfv0rvdBs9S0/Q7e11zVf7XvowfNvfsyweackg7F4XAwOPShaq4PR2Lf2O2/wCfeL/vgUfY7b/n3i/74FeaaT4/1XXfjiul2Eqjwv8AY7hISEU/ap4WUSSBsbtoZigwcHaTzW34k0H4gajrE914e8aWmi2UYH2ay/spLjzcKCfMkc5XLZHyjgY70r+6pdGO2rXY6u6tbdbOZlgiBEbEEIOOKl+x23/PvF/3wK5vwV4iuvFfw0stZ1CGOG6ubZ/OWL7m9Sykr7ErkfWuqqmrOxKd0Q/Y7b/n3i/74FH2O2/594v++BU1FIZD9jtv+feL/vgUfY7b/n3i/wC+BXnXi2y+JGmQav4ksPGenxWtiktzDozaUjRPEmSFeYtvDFRyRgZ6YFdFeXviTxB4M0q68KtaabealFFLNcXaGQWkbx7iVTje2SAAcDuaW6v6fiN6O3r+B0f2O2/594v++BR9jtv+feL/AL4FcF4av/FugeP4/C3i7WoPEUN9YyXlrfx2a2skRjZVZHRPl2neMHrkV2OvnWBosy+GltTqTlVha7J8qPJALsBycDJwOpAFPomv66C62/ruXPsdt/z7xf8AfAo+x23/AD7xf98CvObS68b+DvGeiWXifxJbeJtO1yZ7YbdPS1ltJRG0gKhCQyYUg556U173xv4717W/+ET8S2vhvS9GvWsI86cl1JdyoB5hfefkUE4GOepo9P62/wA0G2/9b/5M9I+x23/PvF/3wKPsdt/z7xf98CvMv+Fka6vw/Xfa2Y8VnWf+EfKkN9n+1b8eb67Nnz4/CpUuvHPgbxHo3/CVeJLfxLpGsXi2MhGnJayWczgmMrszuUkYOeeRTSu/662t+a+8T0/rtv8Ak/uPSPsdt/z7xf8AfAo+x23/AD7xf98Cqmv2Wp6jodxa6Fq39j38gXyr77Mtx5WGBP7tuGyARz65ryvxFpvxO0K50mzt/ij9uv8AVbxbeC3/AOEetk+UDdJITk4VEBPTk4HektXYfS56/wDY7b/n3i/74FH2O2/594v++BXCeINQ8V+IvGlx4X8HaxBoUWmWsU9/qj2a3Mhkk3bIkjYhcbVLE+4/G34J8Qa/PHr2ieJFhvtd0GUJ5tuBEt7G6b4nx0Vm5B7AilfS4dbHYfY7b/n3i/74FRNa2/2yNfIiwY3JGweq1xXhrxF4tuvifPpHiiGwsbc6OL6Kxs3MpiJm2fPKQNzYB+6AvPfrXdN/x/Rf9c3/AJrVdE/63sLq1/W1/wBQ+x23/PvF/wB8Cj7Hbf8APvF/3wKmopDIfsdt/wA+8X/fAo+x23/PvF/3wKh1a4vbTSbifSrAaheIuYbUzCESNnoXIIUd84Ncl4E13xLqXinxTp3it7IS6bJaiKGxU+XEJIi5G5huY8gEnA44AoWrsB2f2O2/594v++BR9jtv+feL/vgV5vq3/Ca+JfiZrWk+GfGf/CPWOlWtqzJ/ZUN15kkocnl8EcKO/fpXe6DZ6lp+h29rrmq/2vfRg+be/Zlg805JB2LwuBgcelC1VwejsW/sdt/z7xf98Cj7Hbf8+8X/AHwK5nxXonjPWNRi/wCEY8W2/hyyjiG4jTEu5ZZMnOd5AVQNuMc5zntWV4d8Z64fhz4i1DWbaG+1fw9Pd2z/AGRSqXbQDIYDtnjIHv8ASldJNvpqOzul30O7+x23/PvF/wB8Cj7Hbf8APvF/3wK8fHiDx5oGmaD4p1HxdpOuWms3VvCdFhskiGJmAxBKp3Oy5z83YHPSuh1rUvFfinx1qXhvwfrlv4dt9Fhhe8v3slupZZZQWWNUchQoUAk9cmqaa0/rT/hyU09fn9+h3/2O2/594v8AvgUfY7b/AJ94v++BXJeAdd1q7uta8PeLJILjV9DnRHu7ePYl1FIm+OTb0VsZBA4BFQeP9Z8QR69oHhvwzqFto0usNMX1W5gE3leWoISNGO1nbPQ9lNJ9LdRrzO0+x23/AD7xf98Cj7Hbf8+8X/fArhvAmt+IV8X634U8S6paa8+lwwzrqltAsLfvN37qWNSVVxtyAO3PeoV8TeMh8TtA07WLOx0rStSW8K2kUvnzuIkBDSPgKudwIVencmnu15i9Tv8A7Hbf8+8X/fAo+x23/PvF/wB8CodX1az0LR7vVNUmWC0tImllkbsoH6nsB3NcN8JPFPiHxR/wkb+KR5MttqIW3tSiqbaJo1dYyVHJAYZJyc5pLVtdtRvRJ9zura1t2iJaCInzHHKD+8al+x23/PvF/wB8Ci1/1Lf9dJP/AEM1NQBD9jtv+feL/vgUfY7b/n3i/wC+BU1FAEP2O2/594v++BR9jtv+feL/AL4FM1J7yPS7l9LijmvViY28czbUZ8fKGPYZ615pqFx8Q/BN1p+ta94nsdd0+6vobW70yPTVt/IEzhAYZASzlSw4bqBQtXb+tQeiuenfY7b/AJ94v++BR9jtv+feL/vgUl9eQ6fp9xe3LbYbeJpZG9FUZP6CvJG1P4oTeET4/h1mwjtfI+3r4Z+wqVNtjdg3Gd/mFOfTPHtSuuvQdn0PXPsdt/z7xf8AfAo+x23/AD7xf98CuY1qTxN4m0nS5PBGp2ujWt9ALibUZ7cXEsasqlFSInaScnJJwMVleF9Q8WNqniLwbr+swXWp2dpHPZa5BZqhxKHVS8P3dysmcdCKbum11/yErNJ9P8zvPsdt/wA+8X/fAo+x23/PvF/3wK8h8W6Z8TPC+gtfD4pm8uZJUt7S0Xw7bK1zM7BUQHJxknJODgAntXrOkw3tvo1nDqt0Ly+jgRbi4WMIJZAo3NtHAycnAo3Vw62Jfsdt/wA+8X/fAo+x23/PvF/3wK8/17TfidPJfavp3inTNIgtjI9tpP8AZ6zJNGudvmzMdylgOdowM0zXPHmsXXw38MaroaW+mXviOa3gN1djdDY+YpJc+vIwueCSM0lqtPL8dhvR/f8Ahueh/Y7b/n3i/wC+BR9jtv8An3i/74Fee+G9U8V6F8SIvCXiXxBaeJ47uwkvRdR2iWs9oUZRh40JXY27g9Sc+lHxm8c6l4T8Lvb+FpFGuzRPcK21X+zW8eDJKQwI9EGRyW46USair/1/WgRTbsd7c2tusQKwRA+Yg4Qf3hUv2O2/594v++BVW3me40OymmbdJIsDscYySVJrQqpLlbTJi7q5D9jtv+feL/vgUfY7b/n3i/74FTUUhkP2O2/594v++BR9jtv+feL/AL4FTVieJbrxFBBBF4V06zuriZiJLi+uCkVqAPvFVBaTPTaMfUUm7K4Gr9jtv+feL/vgUfY7b/n3i/74Fc38M9bv/Efw40nVtYlWa9ukdpXRAgJEjAYA6DAAqv488QaxZ32ieHfC8tvbatrs0iJd3MfmJbRRpukkC9GbkAA8c1Uk07AtVc6z7Hbf8+8X/fAo+x23/PvF/wB8CuA0PUPF3hfx1YeHPGOtweIbXWIJXstQSyW1kiliAZo2RMrtKnIPXINZniHRPiH4d0G/1i++LhS2s4mlZR4atiTjoo+bkk4A9zUt2VxpXdj1L7Hbf8+8X/fAo+x23/PvF/3wK84l1rxrpXgnwtos95b3PjLXpDHJd3ECqlqu1pJHKIArGNcKBwCas6Df+LvDHjuy8OeMtah8Q2mr28sllqCWSWskcsWC0bIh24KnIPXiqt7ziTfRM777Hbf8+8X/AHwKPsdt/wA+8X/fArJ8ZeJY/CPhK+1mSFrh4FCwwKcGaVmCon4swH0rA8NaP8R01S01TxN4qsJoJQTdaJBpqrHCCDgJPneSDjrwefY0lqxvRXO1+x23/PvF/wB8Cj7Hbf8APvF/3wK831b/AITXxL8TNa0nwz4z/wCEesdKtbVmT+yobrzJJQ5PL4I4Ud+/Suh1TWb3wD8N5dQ8QX7a/qNom0TLbrbm7md9sa7F4XJZV47DNK+lx296x0/2O2/594v++BUS2tv9skXyIsCNCBsHq1cf4a0f4jpqlpqnibxVYTQSgm60SDTVWOEEHASfO8kHHXg8+xrtV/4/pf8Armn82qrWEH2O2/594v8AvgUVNRSAw6KKKAMbxZrZ8O+Fb7Uoo/Nnij228X/PSViFjX8WIFO8L6J/wj/hy1sHfzbhQZLmbvNM53SOfqxJq1qmkWOswQw6lB58cE8dzGu9lxIjblPBGcEZweKu0Lr/AF/X/DA/6/r+uoVU1X/kDXv/AF7yf+gmrdVNV/5A17/17yf+gmgCx4t8Sv4es7SKxtPt2q6lcC1sLUvsV5CpYl2/hRVUknk4HvUHhvwpNpt9c63r16up+IL2MRTXKpsigiHIhhTJ2oDzySWPJPTEvi3wJ4c8dW9tB4p0430dqzPCv2iSLaSME/Iwz071meG/hF4H8I63Hq/h7RPsd9ErKkv2ueTAYYPDuR09qSV73B9Lf1r/AF8zM+Ees2On/CSOLULmK2k0F7i31EO4H2dklcnd6cYI+tUfBuvT+GPhD4f+zWJu9V1y5lOm2bNsDmaSSZWdv4UCHcTycdsmum1j4U+B9f8AEA1vV/Dttc6huDNKWdVkI7ugIV/+BA1d8V+AvDXje1tbbxPpv22G0YtAgnkiCEgA/cZc8DvTbb1e+n/B+/8AAel/LX/gfd+JH4Z8KTabqFzrmv3o1PxBeRiKa5VNkcEQORDCmTtQHnkkseSemMv4m/8AH14L/wCxntf/AECSpvDfwi8D+Edbj1fw9on2O+iVlSX7XPJgMMHh3I6e1dNqei6frLWTalb+cbC6W7tvnZdkqghW4IzjceDke1PS8X2a/B3J1tJd0196sXq8W0rwPoHi/wAd+ONM8YvNcmDVPtUWnfaZIVEckSYmIUqX+7tBOQuD616xqegabrF5p11qNt502mT/AGi0bzGXy5MEbsAgHgng5FZHiv4beEfG9zDceJ9FivZ4F2JMJHifb/dLIwJHJ4OQMmptrf5fk/0K6W/rqY3wfmk/sDWLCK/l1HTNN1ee0027mk8xngXacb/4gGLAH0HoBVHxN4otYvHFpczaj4QiuNEeZIY7vxULeQ+YoVvNi+zMVOOwb869E0vS7HRdMg07SbSKzs7ddsUEKhVUden15rnofAj2Opand6R4p1rTRqd215PBAlo6eYyhSR5kDMBhRxmm7tr0/HT89RLZ+v8Amea6jrOj3/ibw+813pt9LLrluyRaX47uL8pIXOG+zyRbNgP93bjgAivdq56Hw1qsU6O/jbXZlVgTG8FgFcA9Di2BwfYg+9dDT2jb+un+Qt5X/rqQ3n/HjP8A9c2/lU1Q3n/HjP8A9c2/lU1IYjfdP0rzj4a3s+mfs+WN9aQ+fPa2FxNFFjO9laQgfiRXpB5HNUdF0Ww8PaPb6Vo8H2eytgRFFvZ9oJJPLEk8k9TSabjJd/8Ag/5jTs02eJw+BPBt98Lm+IV5qTN4ie1/tJ9d+0kGO7279vlg+Xw+F2bcnp1r2TwrqV3q/g/SNS1GDyLu7soppotu3a7ICRg9OT0rn5Pg78P5dfOsyeGLM3hfzCcv5Zb18rds/wDHa1/+Eflm+IP/AAkF08bQ22n/AGSyjXO5Gd90rHjHIWMDB7NVXvptf8NHt66L5E67/wBPVflqzy7w94J8I/E7QdR8XeOJGm1mSedbmX7UYP7LWN2VIwqkKNqqDl92evIph8QXHi7wL4G0bxPeNb6Xr9zcW9/ehBF9rjh3eUuT9zzdqkkYJwcEZr0HW/hJ4F8Ra4dY1jw7bT3zHc8od0Eh9WVWCsfcg1vap4Z0TW9A/sTVNLtrjTAiotq0YCIFGF24+7gdCMY7VK+G3pp00/r/ADuU9ZX9dfX+v8rHnFj4c0P4a/FbQtJ8Dxm3i12GddS07zmm2pGhaOfLksnzZXk4OeBkVqfCPWbHT/hJHFqFzFbSaC9xb6iHcD7OySuTu9OMEfWui8KfDvwp4IeV/C+jQ2Msw2yS73kkK9cb3JOM9s44qrrHwp8D6/4gGt6v4dtrnUNwZpSzqshHd0BCv/wIGnra1/66fn/WwtN/6/r/ACIPg/BJD8LNKklQp9qM12isOQkszyL/AOOsKh8TfDHwB4s1W91vWrVW1CIBJ72PUJI2tyqjBID7VIGDyPet3VfDsmqeLNCvpGiGn6QJplhH3mnZQiHGMbVRpO/UisvXvhH4G8T66+s654fiub99u+UTSpvxwNyqwVuAByKHZu6/4YabW/8AXU88Txd4jX4PWVpptv4g1yO81C5sRq+n2pubkWMchUSjHBdl+VWJHduo5r6f4ys7T4reE4NM8D+K9OtLPS5rCG0uNL2SBWeMeZt3couPmbtnvmvebS0t7CzitbGCO3t4UCRQxIFRFHQADgD2qpNoenT+ILbW5bfdqNrA9vDNvYbY3ILDbnByVHJGaafvXf8AWlv69WS1eNv63v8A16I5fxn4ItfGks1yPGOtaWlvCYJrewvlW1yCWJmiIIY84IJGQAKX4b63LrvwxSaaO1C2xns4pbOIRwTxxM0ayRoOFUheg4Hbin638IfAniPXZNZ1nw/Dc38pBkl86VA5HGWVWCk/UV1BtLew0VrWxgjt7eGApFDEgVEULwABwB7Uo6IctXoXKRvun6UtB5HNTJXi0Bw3wY/5I9oH/XKT/wBGvTJW/wCEl+NK2zHdZeFbNZ2TjBu7gEKT/uxBv++667RdFsPD2j2+laPB9nsrYERRb2faCSTyxJPJPU03T9D07Sr/AFC9sLfyrjUphNdyb2YyuFCg8k4wABgYFaSd583r/X9dbB9m39f10LN/ctZadc3SQS3LQRNIIYV3PIQCdqjuTjAr5w1rxZdy+A/Ft54h8F+MI9e1y1aOa8n0gpaWUI/1cKuWyI1ByWIBZiSRXu//AAj8s3xB/wCEgu3jaG20/wCyWcYJ3IzvulY8dwsYGD2atPV9Iste0e60rVoPtFldxmKaLey71PUZUgj8DWUotp+at/Xrp/Vyk7P0/r8P66GZ4I1n+3fB9hef2bqGm/uxH5GoweTL8oxu25PynGQe4rE+Fv8Ax6+Kv+xnv/8A0MV28MKW8EcMK7Y41CKM5wAMCqmlaLp+irdrplv5AvLqS7n+dm3yucs3JOM+g49q1bvNy7r9U/0M0rQUez/Rr9TkfFzf8JB8RfDfhXObWANrV+nGHSJgsKn2MpDY/wBiu8rPi0PTofEFxrkdvjUbmBLeWcux3RoSVXaTgcsTwOaoat4fl1bxdoeoTvH9h0nzpxESdzXDKERsYxgK0nfOSKlbJev9fdZFPdv+v6vf5HOfDO9gtdT8a6RdSJFe2uv3N1JEzYIhl2ukn+6R39qxfD/h/TPHPhHxRcXV49rZan4llvNNv4ZAjI8ZSOOVGPHLoceucV2Xij4Z+D/GeoRX3iTQ4by6iAVZvMeNiB0DFGG4exzWtfeGdG1Lwy/h6806B9IeIQmzVdiBBjAG3G3GBjGMYpLbzsl91tfXRD6+Td/vvp+J5Br3hvVm8deEdG8Q+ObjxPqy6pFexWqWsdrHaW8WXeWREJ3McBVZvVgO9aVr4U8OfFTxn4nm8dIb260e+awtLDz2hFrbqFIkwhDNvJJ3MSOwArvvCnw/8LeCFl/4RfR4bFphiSQM0kjDrgu5LY9s4qv4n+GPg3xlfx33iTQobu6jAUTB3idgOgYow3Ae+af/AAfvdtfuX4sX/A/X/P8AAxvhdftP4P1nTYbk3unaPf3Fhp14cHz7dFG35hw23JXcODtr0Ss630ux0Xw8dO0m0is7O3hZYoIVCqowT0+vNaNNu/8AX4/MSEb7p+lcP8GP+SPaB/1yk/8ARr13J5HNUdF0Ww8PaPb6Vo8H2eytgRFFvZ9oJJPLEk8k9TSXX5fr/mM5GVv+El+NK2zHdZeFbNZ2TjBu7gEKT/uxBv8Avuu1v7lrLTrm6SCW5aCJpBDCu55CATtUdycYFVtP0PTtKv8AUL2wt/KuNSmE13JvZjK4UKDyTjAAGBgVQ/4R+Wb4g/8ACQXbxtDbaf8AZLOME7kZ33SseO4WMDB7NS6KP9d/z09B9W/T/L/gnhGteLLuXwH4tvPEPgvxhHr2uWrRzXk+kFLSyhH+rhVy2RGoOSxALMSSK938Eaz/AG74PsLz+zdQ0392I/I1GDyZflGN23J+U4yD3Faer6RZa9o91pWrQfaLK7jMU0W9l3qeoypBH4GrMMKW8EcMK7Y41CKM5wAMCmtL/L8L/wCZL1afr+n+RxHwt/49fFX/AGM9/wD+him+Lm/4SD4i+G/Cuc2sAbWr9OMOkTBYVPsZSGx/sV12laLp+irdrplv5AvLqS7n+dm3yucs3JOM+g49qbFoenQ+ILjXI7fGo3MCW8s5djujQkqu0nA5Yngc0L7Pkl+C/wA7Df2vNv8AF/5GhXnvwzvYLXU/GukXUiRXtrr9zdSRM2CIZdrpJ/ukd/auj1bw/Lq3i7Q9QneP7DpPnTiIk7muGUIjYxjAVpO+ckVU8UfDPwf4z1CK+8SaHDeXUQCrN5jxsQOgYow3D2OaFdO/qvxX+QPVW+f5/wCZxvh/w/pnjnwj4ouLq8e1stT8Sy3mm38MgRkeMpHHKjHjl0OPXOKyNe8N6s3jrwjo3iHxzceJ9WXVIr2K1S1jtY7S3iy7yyIhO5jgKrN6sB3r1++8M6NqXhl/D15p0D6Q8QhNmq7ECDGANuNuMDGMYxVDwp8P/C3ghZf+EX0eGxaYYkkDNJIw64LuS2PbOKcbRat0t+CVvy1+4Hqnfrf8f+HOBtfCnhz4qeM/E83jpDe3Wj3zWFpYee0ItbdQpEmEIZt5JO5iR2AFbvwuv2n8H6zpsNyb3TtHv7iw068OD59uijb8w4bbkruHB21s+J/hj4N8ZX8d94k0KG7uowFEwd4nYDoGKMNwHvmtq30ux0Xw8dO0m0is7O3hZYoIVCqowT0+vNKOkbeX49/Xf73qEtXfz/pf12NGkb7p+lLQeRzUyV4tAeb/AA1vZ9M/Z8sb60h8+e1sLiaKLGd7K0hA/EiuNh8CeDb74XN8QrzUmbxE9r/aT679pIMd3t37fLB8vh8Ls25PTrXtmi6LYeHtHt9K0eD7PZWwIii3s+0EknliSeSeprl5Pg78P5dfOsyeGLM3hfzCcv5Zb18rds/8dqpXcm1pfr1X9foO+i/Lv/X6nQeFdSu9X8H6RqWoweRd3dlFNNFt27XZASMHpyeleS+HvBPhH4naDqPi7xxI02syTzrcy/ajB/ZaxuypGFUhRtVQcvuz15Feo/8ACPyzfEH/AISC6eNobbT/ALJZRrncjO+6VjxjkLGBg9mrM1v4SeBfEWuHWNY8O2098x3PKHdBIfVlVgrH3INEtXdaXv8ALX+uwlouX0+en+Z58fEFx4u8C+BtG8T3jW+l6/c3Fvf3oQRfa44d3lLk/c83apJGCcHBGa2LHw5ofw1+K2haT4HjNvFrsM66lp3nNNtSNC0c+XJZPmyvJwc8DIr0fVPDOia3oH9iappdtcaYEVFtWjARAowu3H3cDoRjHas7wp8O/Cngh5X8L6NDYyzDbJLveSQr1xvck4z2zjim9W/O/wA9P6/4fUT2t/SOd+Ees2On/CSOLULmK2k0F7i31EO4H2dklcnd6cYI+taPwfgkh+FmlSSoU+1Ga7RWHISWZ5F/8dYVPrHwp8D6/wCIBrer+Hba51DcGaUs6rIR3dAQr/8AAga0NV8Oyap4s0K+kaIafpAmmWEfeadlCIcYxtVGk79SKL3d3u/6f3jflt/VjC8TfDHwB4s1W91vWrVW1CIBJ72PUJI2tyqjBID7VIGDyPeuFTxd4jX4PWVpptv4g1yO81C5sRq+n2pubkWMchUSjHBdl+VWJHduo59D174R+BvE+uvrOueH4rm/fbvlE0qb8cDcqsFbgAciuutLS3sLOK1sYI7e3hQJFDEgVEUdAAOAPapS9234dP6/zG3rdf8AB/r/ACPBtP8AGVnafFbwnBpngfxXp1pZ6XNYQ2lxpeyQKzxjzNu7lFx8zds9816N4z8EWvjSWa5HjHWtLS3hME1vYXyra5BLEzREEMecEEjIAFdRNoenT+ILbW5bfdqNrA9vDNvYbY3ILDbnByVHJGa5vW/hD4E8R67JrOs+H4bm/lIMkvnSoHI4yyqwUn6im9Uk/P8AFv8AzEtL28vwQz4b63LrvwxSaaO1C2xns4pbOIRwTxxM0ayRoOFUheg4Hbiu3qmbS3sNFa1sYI7e3hgKRQxIFRFC8AAcAe1XKbd3cSVlYKKKKQzzLx74IstcttR8S/8ACbalbW8aCU2k90k+lAxqBh4GG1gSvIJ6k1o2/wAQLt/h34c1RdLWTXPEEcUdnYK+xGlZCxYsclYwoLE8nGByakl+DHw9n119Xn8M20l5JKZXLySGNmJySYy2w5PbbWt4r8BeGvG9ra23ifTftsNoxaBBPJEEJAB+4y54HektI29P+D9/6DdnK/r/AMAj8M+FJtN1C51zX70an4gvIxFNcqmyOCIHIhhTJ2oDzySWPJPTF/xT4ig8LeH5dTuIZLhgyRQ28WN88rsFRBnjJYjnt1rB8P8Awi8FeEdXXV/DWiC01GJGWKVrudwNwwQQzkfpRZ/DTSLz4e2vhrxXbrqKmU3d55c0kay3LszuwKlWI3O2M9sU3tp/X9fmJaPX+tP6+RY0HwvqM+tx+JvGVxDc6ukbR2lrbg/Z9ORvvKmeXc8BpD1xgADrh634IurHWtX1rwr4+bwra3T+fq8DW0NxEH2jMgMhHksVwSfoauaT8Evh7oWsWuqaV4f8i8tJBLDL9tuG2MOhw0hB/EVf134V+CvEviEa5rmgQ3moYUNK8kgD7RgbkDBW445B4A9KO1v6/wA/6YLrf+v8jhfAfgnStf8AhVqi3N9e29lqmuSahpuozTYuVKuqRT7m/jZkz77veqmveG9Wbx14R0bxD45uPE+rLqkV7Fapax2sdpbxZd5ZEQncxwFVm9WA717FqugaVrXh+XRNTsYptMmjET22Nq7RjAGMbcYGMYxgYrN8KfD/AMLeCFl/4RfR4bFphiSQM0kjDrgu5LY9s4pp2kn2t+FrflqD1i13v+P/AA50dcH4ab/hJPih4i16Q77bRiNFsQcEK4Ae4Ye5YoufRK3fC3h+XRP7Wub545L7VNQlu5niJKheFiUZAPEaoPrmr+jaHp3h+zltdIt/s8Ms8lw672ctI7bnbLEnkmkt7+X46fpdA9ref4f1ZnH+G7qKx+NvjPTrt1iuNQhsr21Rm5mjWIxsR64ZefrT/Bk8WqfFDxxqtjIs1mrWdgJUOVaWKNjIAfYyAH3rb8V+AfDHjiOFPFOkRX/kZ8py7xumeoDoQ2PbOK1NG0XTfD2kwaZolnFZWUAxHDEMAdyfck8knk0LbXp/X5f5g/L+v6Zycf8AycJP/wBixH/6VNXaN/x/Rf8AXN/5rVcaLp48Qtrgt/8AiYtai0M+9uYgxcLtzt+8Sc4z71Yb/j+i/wCub/zWhfCl6/m3+oPWTfp+SX6E1FFFABXC+EP+SrfED/rtYf8ApMK7qqNnoun2GrahqVpb+Xd6k0bXUm9j5hRdq8E4GF44AoW/y/VAcj4m+GPgDxZqt7retWqtqEQCT3seoSRtblVGCQH2qQMHke9SfCHUbrUvh/E93eT6hHBd3FvaX1wcvdQJKyxyE9yQMZ74qXXvhH4G8T66+s654fiub99u+UTSpvxwNyqwVuAByKv6/wCFE1Wz0TS7OO2tdJsb6K4ntkXYDHCC0caKBjHmCPI44Bojorf16hLX5f5bEXi7wrB4yeK1TxRrWjTWYYvHo1+IGcOBjzRg5HHHTqfWvP8ATvFOoeGvhJ4xttGltbr/AIRi4NnaanaW6qkgbYWkZF+UuhkYsRwSMkdc974o+F3g3xnqceoeJNEjvLuNAgl86SMlR0B2MM/jmt3TdC0rR9FTSNM0+3ttORCgto4wEIPXI75yc565OaVvda/r+v8AMd/eXkeNeI/Avg/wB4MtvG3hGdv7et5IpbS+N00x1KR2AaMpna28M3CAEdRjFdt4j8E3l/4lfxB4U8WSeFtZmtUS/H2aO5SaJc7WeJyACOQG9AR61b0r4Q+A9E14azpnhu1hvlfzEcs7rG3XKozFVI7YAx2q34q+G3hLxtfW954n0aO+uLZNkUhlkjIXOdp2MNwzng56n1pvp/Vv6+SEvP8A4c5H4OadH/wkXjDWrTVLnWba6uoLUancMGN5JEh82RccbNz7V28YXA6VY8d2th4u+JmkeC/E8pTQ5LF78W4fy/t1wsgURlx83yqS2FIJz1OK6nxF4Sjv/Ar+F9Ejt9PsphHbvGi7FS33jzVUAfeKbgPc81a8R+DPD3i3SY9N8RaVBe2sX+qRsqYuMfKykMvHHBFD1s+3+X9NB38/6/LR/ecT4M03TfBPxYvvCHhIn+xptNF/cWnmGX7FcBwgG8kkb152sSflyODWv4n/AOSyeBP+uOpf+io63vC/gvw94LspLXwxpUOnxSkNIULM0hHTc7EscZOMnjNXrrRdPvdZsNVubffe6esi2su9h5YkAD8A4OQB1Bx2p31V+l/1/K9vRC7/ANf13PMfiJ4hvJPH1npepeEvE+qeHdN2XbDSdMNwl9c9UDtkDYnXGTlsZ+7zH8JfFv8Aa3j7xhB/wj+u2X27UPtXmXll5aW+IkXy5Tk7ZD1C88c17BWfp2h6dpN5qF3p9v5U+pTi4un3s3mSBQucEkDgAYGBSjpv5/i1/l+CHLX8P1/z/EtWv+pb/rpJ/wChmpqhtf8AUt/10k/9DNTUAFFFFAFLWtXtNA0O91bUXKWtlC00pAydqjPA7n0rlNJ0PVPFeo2PiPxkFggtmFxpmiRnK2zEfLLM3/LSUA8AfKmTjJ5rqdb0TT/Eei3Ok6zAbixul2TRCRk3jOcZUgjp2NcRD8AfhpBMk0Xhra8bBlP2+5OCDkf8tKI/Fdg/h0/r+up1njOzm1DwJr1naJvnuNOuIo1/vM0bAD8zXI2/i3SB+zsmsm7i+zponkH5xnzhFs8r/e3/AC4rqdJ8Py2ni7XNdvXjkmv/ACYLcISfLt404U5HUu8hOMjG2s5PhP4Gj8Uf8JEnhy1GpiTzhLl9gfOd3l52bs8525zz1qXG6cXtK36/5lKVmn2/4H+RmWmqap4b8I+E/COjWsU3iO50yNR9pJENqkUaCSWTHJAJACjlicZHWul8L+FovDkV1PNdSahquoSCa/1CYAPO4GAABwqKOFUcAepyTT8WfDPwl44vYLvxTpRvp7ePyom+0zR7VznGEcDrR4T+GXhHwPfT3nhfSfsNxcR+VI/2mWTcuQcYdyByBWnNzScnu7/1/X+RnaySXSxmyt/wkvxpW2Y7rLwrZrOycYN3cAhSf92IN/33XeVn6foenaVf6he2Fv5VxqUwmu5N7MZXChQeScYAAwMCqH/CPyzfEH/hILt42httP+yWcak7kZ33SseO4WMDB7NUrZL+u/56ehT3b/rt/wAE56aTUPibNe2NtOdP8JQzvaXMsZ/0jU2RtsiKw/1cWQVJ+83IG0c1V+JaWjS+FfBt1KNN8O6tO9vdtHhAUij3R24Y/cDEAcc4XAIqWf4BfDW5uJJ5/DZeSVi7sb+55JOSf9ZXS/8ACC+Gj4Pj8KyaTDLosS7Y7SZmkCck5DMSwOSec5FL7K+Xz/roP7Tt5/L+up59/Y2i/Cj4j6VaeBbSbZq1rctqOkQyPcOyQxl45V3EsrFvk64bdgDIrita8WXcvgPxbeeIfBfjCPXtctWjmvJ9IKWllCP9XCrlsiNQcliAWYkkV7j4U+HfhTwQ8r+F9GhsZZhtkl3vJIV643uScZ7ZxxWzq+kWWvaPdaVq0H2iyu4zFNFvZd6nqMqQR+BpSTcWvK39f1+GgRdncxvCWs/274J068/s3UNN/wBVH5GoweTL8rKN23J+U4yD3FdLVaSFLeyihhXbHG0SKM5wAygVZrSb5pNkRVopBRRRUlBSN90/SloPI5qZK8WgOG+DH/JHtA/65Sf+jXrQ8ceEoPFEGntHqsujavY3Bl02/h2lo5CpBXa3DqVzle4FW5PDq6V4FuNB8IpFYlbWSKzE0jskTNnBJOWIy2e9V7n4e+HNR8D2PhTV9PW90uyjiSON3ZSCi4DblIIPXJB5yfWrm+aTfn/X3DWn4/18zzzTdDvZPjnoUWq+LbjxTq2j21zc30whSCGzjdPLjjESZVXYsScnJCqeldb4ub/hIPiL4b8K5zawBtav04w6RMFhU+xlIbH+xXReGfCGgeDdPay8M6ZDp8Dnc4jyzOexZmJZvxJq1FoenQ+ILjXI7fGo3MCW8s5djujQkqu0nA5Yngc0dY+X/Ba/GxL1v56f5/hc4/xzdRaV8TfAep3zrDZedeWTTO2FSSWIeWCfcoRT/E08WofGLwZptrIslzp63d/copyYojF5SlvTLPgfQ11ut6FpfiTSZtM12yivrKb78MoyDjoQeoI7Ecis3wv4E8OeB7O4h8JaTDYGfl23u7OR0DOxLYGemcDJpLRa9P6/P/Ib12/r+kc98a1kHgS2uVna1itNWs557hV3eTGJRl8d9uQefSub1zwhoHgTxB4W1nwVd3MWsanqsFvKGv5J/wC04H/1jOGZt2Fy24YAPPpXovhfwrFo/gmPRNUSC9edZH1DK7o55ZWLy8EcqWYgZHTFU/DXws8FeENVbU/D2gw2t6wIExkklZM9du9jtzkj5cccU4rll87/AJXXo7f8AJe8vlb87P11/wCCUfE3wx8AeLNVvdb1q1VtQiASe9j1CSNrcqowSA+1SBg8j3rgL6/vtR+AdjeXGqXM9rp3iGMJq0w3yPaR3W1J24+bAwc99ua9I174R+BvE+uvrOueH4rm/fbvlE0qb8cDcqsFbgAciuo/srTxpH9lCxtxp/k+R9kESiLy8Y2bMY244xUrRfdp0unf+vUb1f8AV9rf16HkeueENA8CeIPC2s+Cru5i1jU9Vgt5Q1/JP/acD/6xnDM27C5bcMAHn0r2Ff8Aj+l/65p/Nq5fw18LPBXhDVW1Pw9oMNresCBMZJJWTPXbvY7c5I+XHHFdQv8Ax/S/9c0/m1V0t/Xp/Xcnrf8Ar1JqKKKQzAKN/wA9XH4D/CmmJ/8AnvIPwX/CpaKAITBJ/wA/Uo/BP/iaabeX/n8mH4J/8TWd4k8WaH4Q09b3xHqMdjA7bELBmZz6BVBY/gOKm0DxFpPijSk1LQL6O9tHJUSJkYI6gg4Kn2IB5o32DYtG1m/5/rgf8Bj/APiaqanazLpN2xv7hgIHJUrHg/KeOFzWpVTVf+QNe/8AXvJ/6CaAOh8iT/n6l/JP/iaPIk/5+pfyT/4msrxT4gm8P6bHLY6Rd6ze3EohtrO1ABdsE5ZzwigA5Y9KxfCvjy/1XxDJ4f8AFXhmfw1q/kG5ghe6S5juIgQGKyIACQSMr70LV2QPRXOv8iT/AJ+pfyT/AOJo8iT/AJ+pfyT/AOJrz3UvinqovdRfwx4Jvte0fSpngvtRjuo4cOn+sEUbDdLt6ZGOQR710F944iHhHTtb8PaZd66+qhPsNragBnLKW+djxGAAdxPQ8Ur6X/rXb7x9bHReRJ/z9S/kn/xNHkSf8/Uv5J/8TXIeFfHl/qviGTw/4q8Mz+GtX8g3MEL3SXMdxECAxWRAASCRlfek1b4n6dYeJ7LRLLT76+kn1KPTp7oQtHb28jZ+UyMMOwAJwuenJFPdpLr/AMN+Ytk2+n/D/kdh5En/AD9S/kn/AMTR5En/AD9S/kn/AMTU1cBqfi/4iWuq3UGnfC/7faRSskN1/wAJBbxecgPD7CuVyOcHpSuM7nyJP+fqX8k/+Jo8iT/n6l/JP/ia5nwB4v1Hxp4Xm1W90L+x3W4lghi+1rcLKE+UuHAAxuDD0O3IODXGaHq2h3Wimfx/4w1HTPE5Z/tVm+ry2L275OEitkcK64xtO193XJzVW1sJanrPkSf8/Uv5J/8AE0eRJ/z9S/kn/wATXmE+s+JD4E8G3Orz3drfXPiG3hlYgwST25kcJ5qDGCyBSy4Ayeg6D1Wjo/W34J/qK+tv63a/QqXULizmJuZSBG3BC88fSpfIk/5+pfyT/wCJovP+PGf/AK5t/KpqQyHyJP8An6l/JP8A4mjyJP8An6l/JP8A4msvxJ4qsfDEMBu4by6uLpiltaWNs00s7AZIAHA47sQB61F4U8VweJvBFr4lkgNhb3ETytHI+4xqrMMk49Fz/jRdWb7B1sbPkSf8/Uv5J/8AE0eRJ/z9S/kn/wATXmjfF/VVsRr/APwgWpf8IgcP/bH2qPzRFnHm/Zvv7O+c9Oa9OhmjuLeOaBw8Uih0YdGBGQaLMV0M8iT/AJ+pfyT/AOJo8iT/AJ+pfyT/AOJrgdf+IvifQ7q/uj8O7+fw/YM/nakL+FZCiEhpFtz8xXjIORkc8VueIfHVjonhiw1a1trjU5NWaOPTbO2H7y6kkXco5+6MZJJ6AfhSvpf+tdira2/rQ6LyJP8An6l/JP8A4mjyJP8An6l/JP8A4muP8LePtQ1PxI3h7xZ4Zn8Nau1ubm3ie7S5juIwQG2yJgbhkZX05qlrPxH8Q2V1dzaP8PtS1TRbF3S41D7VHC7bDh2ihb5pFGDg8ZxTegld7He+RJ/z9S/kn/xNHkSf8/Uv5J/8TUOj6taa7otnqumyebaXkKzQvjBKsMjI7H2rlfEnjHxZpesT2+gfD+71uxtQDNe/2hFb7sqGPlo2WkwDjjHIIofuuzBaq6Ow8iT/AJ+pfyT/AOJo8iT/AJ+pfyT/AOJrmf8AhY2i/wDCto/Gu25NhLErJAseZmctsEQXPL7/AJeuPfHNZmi/EfVn8SWOkeMvB1z4aOqFl0+4e9juY5nA3bGKgeWxHQHr0p2d+UV9Lnc+RJ/z9S/kn/xNRXULizmJuZSBG3BC88fSuO174h6rB4ivNG8G+EbnxNcaaFOoSLdx2scBZdyorODvfHJUdMitzw94os/GHg3+17COWFZEkSW3nGJIJFyrow7EEH9KS1V0N6OzNryJP+fqX8k/+Jo8iT/n6l/JP/iamrF8SeKrHwxDAbuG8uri6YpbWljbNNLOwGSABwOO7EAetJtLcDU8iT/n6l/JP/iaPIk/5+pfyT/4msHw74rn8T/D6LxJpmlMZ7iCWW3sHnCl2UsFQuRhSxUc9BnviuO1f4m/EDQdIuNT1b4VC3s7ZN8sp8R27bR9ApJOeAACSab0dmC1V0en+RJ/z9S/kn/xNHkSf8/Uv5J/8TUWk3VzfaNZ3V/ZmxuZ4EkmtWcOYHKglNwxnB4z7VwV98UtYfUNRPhfwNfa7pGlTvb3mox3kcRLx/6wRRt80uORxjJFD0dmC1V0eheRJ/z9S/kn/wATR5En/P1L+Sf/ABNcrqfxI0y18F6X4g022utTOstHHptlCuJbiVwSEOeFxg7ieBg9ah8LePtQ1PxI3h7xZ4Zn8Nau1ubm3ie7S5juIwQG2yJgbhkZX05p2d7Cvomdh5En/P1L+Sf/ABNHkSf8/Uv5J/8AE1x+rfE/TrDxPZaJZaffX0k+pR6dPdCFo7e3kbPymRhh2ABOFz05IrtqS1V0PZ2IfIk/5+pfyT/4mjyJP+fqX8k/+JrhtT8X/ES11W6g074X/b7SKVkhuv8AhILeLzkB4fYVyuRzg9KZo/xTef4b33i7xDoEulx21y1vDawXK3TXRDCMeWwCg5kJUduM5xQtVcdtbHeeRJ/z9S/kn/xNHkSf8/Uv5J/8TXC6R8SNY/4SHT9L8Z+DLvw2NVcx2FybyO6jkcKW2PsAMbEDgHPf0q54p8f3Gk6+nh7wv4fuPEuuGH7RLbQzpBHbxk4BklbhScHA7/iMglqdTdQuLOYm5lIEbcELzx9Kl8iT/n6l/JP/AImszSdSvtW8LNdavpE2jXpSRZrKWRZDGwyOHXhgeoI61s03oBD5En/P1L+Sf/E0eRJ/z9S/kn/xNZfiTxVY+GIYDdw3l1cXTFLa0sbZppZ2AyQAOBx3YgD1qr4d8Vz+J/h9F4k0zSmM9xBLLb2DzhS7KWCoXIwpYqOegz3xS6N9g62N7yJP+fqX8k/+Jo8iT/n6l/JP/ia8w1f4m/EDQdIuNT1b4VC3s7ZN8sp8R27bR9ApJOeAACSa9K0m6ub7RrO6v7M2NzPAkk1qzhzA5UEpuGM4PGfan0uBL5En/P1L+Sf/ABNHkSf8/Uv5J/8AE157ffFLWH1DUT4X8DX2u6RpU7295qMd5HES8f8ArBFG3zS45HGMkVsan8SNMtfBel+INNtrrUzrLRx6bZQriW4lcEhDnhcYO4ngYPWpvpf0/Hb7w62/rTf7up1XkSf8/Uv5J/8AE0eRJ/z9S/kn/wATXH+FvH2oan4kbw94s8Mz+GtXa3NzbxPdpcx3EYIDbZEwNwyMr6c0at8T9OsPE9lollp99fST6lHp090IWjt7eRs/KZGGHYAE4XPTkinu0u//AA35ivo32/4f8jsPIk/5+pfyT/4mjyJP+fqX8k/+JqauA1Pxf8RLXVbqDTvhf9vtIpWSG6/4SC3i85AeH2Fcrkc4PSlco7nyJP8An6l/JP8A4mjyJP8An6l/JP8A4muD0f4pvP8ADe+8XeIdAl0uO2uWt4bWC5W6a6IYRjy2AUHMhKjtxnOKdpHxI1j/AISHT9L8Z+DLvw2NVcx2FybyO6jkcKW2PsAMbEDgHPf0qra2/r+vIm9lc7ryJP8An6l/JP8A4morqFxZzE3MpAjbgheePpXLeKfH9xpOvp4e8L+H7jxLrhh+0S20M6QR28ZOAZJW4UnBwO/4jO3pOpX2reFmutX0ibRr0pIs1lLIshjYZHDrwwPUEdaS1V0N6bmn5En/AD9S/kn/AMTR5En/AD9S/kn/AMTU1YviTxVY+GIYDdw3l1cXTFLa0sbZppZ2AyQAOBx3YgD1pNpbgankSf8AP1L+Sf8AxNHkSf8AP1L+Sf8AxNY3hTxXB4m8EWviWSA2FvcRPK0cj7jGqswyTj0XP+Nca3xf1VbEa/8A8IFqX/CIHD/2x9qj80RZx5v2b7+zvnPTmm9HZh0uel+RJ/z9S/kn/wATR5En/P1L+Sf/ABNPhmjuLeOaBw8Uih0YdGBGQa8+1/4i+J9Dur+6Pw7v5/D9gz+dqQv4VkKISGkW3PzFeMg5GRzxQ9HZgtVdHfeRJ/z9S/kn/wATR5En/P1L+Sf/ABNc74h8dWOieGLDVrW2uNTk1Zo49Ns7YfvLqSRdyjn7oxkknoB+FUfC3j7UNT8SN4e8WeGZ/DWrtbm5t4nu0uY7iMEBtsiYG4ZGV9OadnewrqyZ2HkSf8/Uv5J/8TR5En/P1L+Sf/E1wWs/EfxDZXV3No/w+1LVNFsXdLjUPtUcLtsOHaKFvmkUYODxnFdvo+rWmu6LZ6rpsnm2l5Cs0L4wSrDIyOx9qS1V0N6OzJvIk/5+pfyT/wCJo8iT/n6l/JP/AImuP8SeMfFml6xPb6B8P7vW7G1AM17/AGhFb7sqGPlo2WkwDjjHIIq1/wALG0X/AIVtH4123JsJYlZIFjzMzltgiC55ff8AL1x745pXVrjtrY6byJP+fqX8k/8AiaPIk/5+pfyT/wCJrhtF+I+rP4ksdI8ZeDrnw0dULLp9w97HcxzOBu2MVA8tiOgPXpT9e+IeqweIrzRvBvhG58TXGmhTqEi3cdrHAWXcqKzg73xyVHTIpvQW52N1C4s5ibmUgRtwQvPH0qXyJP8An6l/JP8A4msXw94os/GHg3+17COWFZEkSW3nGJIJFyrow7EEH9K6Cm1YNyHyJP8An6l/JP8A4mjyJP8An6l/JP8A4mpqKQEPkSf8/Uv5J/8AE0eRJ/z9S/kn/wATXA6/8RfE+h3V/dH4d38/h+wZ/O1IX8KyFEJDSLbn5ivGQcjI54rotZ8XCx8N2Wp6Lpd3rk2pBPsVragKZd67gWZuEXHJY9KV9LjtrY3PIk/5+pfyT/4mjyJP+fqX8k/+JrkPCvjy/wBV8QyeH/FXhmfw1q/kG5ghe6S5juIgQGKyIACQSMr711OrarZ6HpNxqWpymG1t13SOEZyBnHCqCScnoATTeiuLrYm8iT/n6l/JP/iaPIk/5+pfyT/4mub8H+OY/GGqaxaw6Ve6cumNCv8ApyeXJL5ilgfL6qMYIzyc8gdKy9Z+IusDXr7TPBXg268SnS3Ed/cC9jtY4nKhtiF8+YwBGQOmRQ9A6XO48iT/AJ+pfyT/AOJo8iT/AJ+pfyT/AOJrn9I8e6RqfghvFEvn2VpDuW6imhYy28ittaNkUElg3GADnio/B/jmPxhqmsWsOlXunLpjQr/pyeXJL5ilgfL6qMYIzyc8gdKdtbCudJ5En/P1L+Sf/E0eRJ/z9S/kn/xNM1K/i0vS7m+nSV47aJpWSFC7sAM4VRySewrgoPidrdpqtkPFfgW+0LR9QuFt7fUZLyOYq7nCCWNeYskgck4JpLV2HsrnoHkSf8/Uv5J/8TR5En/P1L+Sf/E1zHinxdrWlakmm+FvCN34jvfKE0xFylrBEhJABlfgscH5QOnNL4d8e22t+GNR1O60680+70l3i1DTXTzJoZEXdtUD7+QQVI65pX0bHZ3sdN5En/P1L+Sf/E1E0L/bIx9plz5b84XjlfauEg+J2t2mq2Q8V+Bb7QtH1C4W3t9RkvI5irucIJY15iySByTgmvQG/wCP6L/rm/8ANafS4g8iT/n6l/JP/iaPIk/5+pfyT/4mpqKAIfIk/wCfqX8k/wDiaPIk/wCfqX8k/wDiah1bVbPQ9JuNS1OUw2tuu6RwjOQM44VQSTk9ACawfB/jmPxhqmsWsOlXunLpjQr/AKcnlyS+YpYHy+qjGCM8nPIHSjcDpPIk/wCfqX8k/wDiaPIk/wCfqX8k/wDia4bX/H3iW08Z3nh/wp4J/wCEhNjbwz3Ew1aO12eZu2jDr/snoa67Qb3UtQ0O3utc0r+yL6QHzbL7Ss/lHJAG9eGyMHj1oWquD0di35En/P1L+Sf/ABNHkSf8/Uv5J/8AE1HqepWuj6TdalqEohtbSJpppD/CqjJP6Vy/g34hReKvh5J4sn0yeyiiM261RjNIRGSOAFGWOPu468Ur7+QdvM6zyJP+fqX8k/8AiaPIk/5+pfyT/wCJrz+D4na3aarZDxX4FvtC0fULhbe31GS8jmKu5wgljXmLJIHJOCa3PGfj/TvBtu4mtL7Ub1bZ7pbSyt2c+Wudzu+NqKMckn6A9KG7K7Gld2Ok8iT/AJ+pfyT/AOJo8iT/AJ+pfyT/AOJqHR9Q/tbQ7DUfK8r7ZbRz+Xu3bN6hsZwM4z1xWT4y8Y2vg7TYJpbW4v728mFvZWFqu6W5lPOAOwA5J7D8BTl7rsxR95XRueRJ/wA/Uv5J/wDE0eRJ/wA/Uv5J/wDE1geEvEHiHWXuovFHhGbw5LEFaLN7HdJMpz/EnRhjofUVnWfxP07VPGunaBpen300N754GpSwtDATEuWEe4ZkwcAkALzwTT62Fc7DyJP+fqX8k/8AiaPIk/5+pfyT/wCJrnPGPjR/DU1hp2laRca5repF/senwSLFuVAC7vI3CKMjk9yKj8G+N5vEl7qGk61os+ga5pwR7iwmmWYGN87XSReHXggkDg0lrsN6bnRW0LmI4uZR+8foF/vH2qXyJP8An6l/JP8A4mi1/wBS3/XST/0M1NQBD5En/P1L+Sf/ABNHkSf8/Uv5J/8AE1NRQBD5En/P1L+Sf/E0eRJ/z9S/kn/xNM1K/i0vS7m+nSV47aJpWSFC7sAM4VRySewrgoPidrdpqtkPFfgW+0LR9QuFt7fUZLyOYq7nCCWNeYskgck4JoWrsGyuegeRJ/z9S/kn/wATR5En/P1L+Sf/ABNTHgV5pdfFLxBpEiX/AIk+H1/pfh15kj/tJr6KSSIOwVWkgX5kGSM88e9C1dg6XPRfIk/5+pfyT/4mjyJP+fqX8k/+JrmvGXjWXw1cadp2kaNPr2tamX+yWMEqxAqgBZ3kbhFGRye5qPwj46l16/v9J1/RLjw9rWnRpNPZzzLMhibOHSVeGHBB6YNAbHU+RJ/z9S/kn/xNHkSf8/Uv5J/8TXmcnxjvhanXofBOoy+DlfB1sXMYcpu2mUW/3ymec56c16fFLHPCksLrJHIoZHU5DA8gijpcOthnkSf8/Uv5J/8AE0eRJ/z9S/kn/wATXH6t8T9OsPE9lollp99fST6lHp090IWjt7eRs/KZGGHYAE4XPTkitPxdrXibR1tD4V8Jf8JGZS/nj+0orTyMY2/fB3ZyenTHvR0uHW39f1obvkSf8/Uv5J/8TR5En/P1L+Sf/E1wGh/EPxZe+OrLw34g8A/2ObmCS5eddZiufKiXjcVRehYqoyR1OM4NWNb+I2pL4ju9D8EeE7jxRd6ftF9It5HawQMRkJ5j5DPjqo6fng7eYdzsrmFxEM3Mp/eJ1C/3h7VL5En/AD9S/kn/AMTVW2u5b/RLS7uLSWylm8p3tpsb4mLDKnHGQeOK0KHoG5D5En/P1L+Sf/E0eRJ/z9S/kn/xNTUUAQ+RJ/z9S/kn/wATR5En/P1L+Sf/ABNTVzfizxPqGhfZrXQfDt34g1O6DNHbwyLDGirjLSSt8qDkAdSTSA3vIk/5+pfyT/4mjyJP+fqX8k/+JrmvBnjabxLdX+mazos+g63p2w3NhNKso2Pna6SLw6nBGR0Iqfx14quPCHh1L+x0v+1rqa7htILP7QIPNeRwoG8ggcn0pvQDe8iT/n6l/JP/AImjyJP+fqX8k/8Aia5nwp4h8YavqMsPijwP/wAI9bLFuS4/taG63vkDZtQAjgk59qx9f+IvifQ7q/uj8O7+fw/YM/nakL+FZCiEhpFtz8xXjIORkc8UPTcFrsd95En/AD9S/kn/AMTR5En/AD9S/kn/AMTWHrPi4WPhuy1PRdLu9cm1IJ9itbUBTLvXcCzNwi45LHpWZ4V8eX+q+IZPD/irwzP4a1fyDcwQvdJcx3EQIDFZEABIJGV96La26ivpc6/yJP8An6l/JP8A4mjyJP8An6l/JP8A4modX1ay0LR7vVNUnWCztImlmkbsoH6n0Hc1yHhvx34j1/VLVp/AN/p2hXmTBqU95EZAMEqXtx8yA465PUetC1dhvRXO18iT/n6l/JP/AImjyJP+fqX8k/8Aia4jXPiHq8Xia90Twb4PufEs2mhPt8wvY7WOEuu4IrPne2CCQOmatR/E7SH+HE3i97a8jigcwSWLRf6QtwH8vydv97eQPxo3Vw62Ot8iT/n6l/JP/iaiWF/tkg+0y58tOcLzy3tXFaR8SNY/4SHT9L8Z+DLvw2NVcx2FybyO6jkcKW2PsAMbEDgHPf0rul/4/pf+uafzajpcVw8iT/n6l/JP/iaKmooGYdFFFAHnfjme7tvH2hXnh3S/7e1m0tpt2mFhGqQuVHnea3yxNlNoyCWBI7VJ8NpJZdZ8TT6vZjStcurqOa70tQCsCbNsbBwSJNwUkuMc5GOK1fFHg681fVoNZ8PeILjQNXih+ztcRwrPHLFndteJuDgkkHtk1L4T8Iy+H573UNV1e41rWNQ2C5vZo1iBVM7USNeEUZPA7miOi18/zv8A1cJeXl/T/wCB5HTVU1X/AJA17/17yf8AoJq3VTVf+QNe/wDXvJ/6CaANbXde0/w3pMmo6tP5UCEKoVSzyOeFRFHLMTwAOTXN6Bpeq614sPjDxDaNpvl2jWmmaY5DSQxuQzySkZHmMVUbQSFA6kk1N498G6r4sfR5tF8RDQrjS7lrmOU2K3QZyhUHazAcBm6g9e1ReG/DPjjTNbjufEPxC/tyxVWD2X9iwW28kcHehyMHn3pJXv8A10/4dBLbT+tf6ZB8F3WT4RaO+cu3nmU453+fJuz75zVD4ca9p/hv4K2Oo6rP5Vok9wsAVSzSA3MgjSNRyxIwAByaLv4U6pHfahF4a8b3+iaFqkzz3mmRWsch3P8A6zypW+aLPsDgmr/ib4cXOoaT4csfCWujw4nh+Tfak2S3fITYvDsBkAtyc8nPWm3fXa9v+D93Qel7ev8AwPv6k/h7S9V1vxd/wmHiG0OmiO1a00zTHIaSGN2DPJKRkeY21RtBIUDqSTUPxN/4+vBf/Yz2v/oElTeG/DPjjTNbjufEPxC/tyxVWD2X9iwW28kcHehyMHn3rX8TeGv+Ejl0V/tf2b+ytUi1DHl7/N2Bhs6jGd3Xnp0p6Jx7Jr87v/MnVqV92n+Vl/kbtch8SdWurLw3DpekSeXquu3KabaODzH5n35P+AIGbPqBW9qdlqV1eadJp2rfYIbeffdw/Zll+1x4I8vceU5wdw54qjqfhg6p410TXpr0iLSI5xHaeXw8kqhfM3Z7KCMYP3jzU2T0e36f8HYq7Wq3/X/gbly38PWFp4Zg0G2Wa3sYIEgjFtcPA6quMYdCGB46gjPNcFrNrYWfizTI7a78YLYWRmS/ij/tqcTkoBHtdAythuchvzr1CvNZvB/io69rFzOf7Tt7q9aaz/4q7UbD7PCVUCPyooygwQTkHv7U225XYkko2RzupF5dW0O2Ot3KWR8QW1xFHqmh6vE7EOdsYuLh5F3YOMbUB/2QK9srzeHwXqkmo2M1/oNvOtrcpcRm48balciN1PDiOSHaxHOAa9IprSNvP9F/kL7V/L9X/mQ3n/HjP/1zb+VTVDef8eM//XNv5VNSGI33T9K86+GWmR618ANP0udikd9Y3Fu7L1Ad5FJ/WvRiMgisLwZ4a/4RHwdYaD9r+1/Y0ZfP8vy9+WLfdycdfWk1eMk+tv1Gm000eX6rdfEfQ/hjf+GtT8PaXDY2GlyW8niJ9QVongWMjIt8b95XgZ43e1en+BIJ7b4eeHoLwFZ49Mt1kBGMMI1zXKP8Lda1e4jtvGPju/13QYpRIulmzjt/NCnKrNInMoGBkHGSM11Qm1ib4geRF5kGiWmnbpAYhtuJ5HwoViM/IqNkA/xrmrve993+l9/W/wDVyWkrW2X622OW+IcHxGuo9Tg0iLRpvDcsOySOCV49SeIpiUKzgxBj82CR0x35qmupaVqXiz4V3Giq0ekzWl41nHIOUxbqFU9fmC7h19etX734eeL76e6tZfiZqKaJcswazj0+ETrGx5QXH3hxwDitbXvh1p2qeE9M0bS7ifR5NFaOTS7u2O57V0G0Hn7wIyCD1zUx0V/T16/lfQctX9/6f0yp4u/5Kp4B8r/W+dfbsdfL+z/N+G7Z+lS+IvEd9rV1eeFvBUfn3+3yb3U3H+j6YGHOT/HLg5EY743EDq/wt4FvtK119e8VeI5/Ems+QbaC4e2S2jt4iQSqRJwCSBlupwOnOed0/wCGXjzRkuIdF+KAs7ee5luTF/wj0Eh3yOWYlmck8nuaTSej2/rT7t/Md2tVvp/w56JoGjW3h3w7YaPY7jb2NukEZbqQoxk+561zvjUfEY3GPAv9gfYjB+8+3GUXPmZOfLIBjHGMbgec5GKkhi8U2mqeGtJn1STUBGs8+ramLJIluVUYSPaAQhLOp+Ug4jNU9a8GeMb3Wrq40X4jXeladctuNkdNhnaPIwQkrHKj09Kcryd/UUbJWOPN3pb/AA98A2+lwXNra2vii3tLqC7YPIk6PJvDsvBPmjORgHIwB0rsPil/x6+F/L/1/wDwktj5Xrned2P+A7vwzVqX4Z6I/wAOj4PWS7W1z5guzNm48/fv88v3ff8AN6dsYqnoXw81WHxBZ6t4z8X3PiaXTNx06J7RLaOBmXaXYIT5j7cgMemT3qr+980/y/yF0+TX5/56i/C5w/8Awl5Y5m/4Se8EmRzxtC5/4Dt/Covh/wD6vx15f+o/4SG78vHTPlpu/wDHt340utfDnVZPE17rXgzxhc+GpNT2/wBoQrZx3Mc7KNodQ5GxscEiui0Pw3ZeEvCH9kaaZXiijkZ5p33STSNlndz3ZmJJqY6JPyS/L/L8Ry1bt3v+f+Zu0jfdP0paCMgipkrxaQHDfBj/AJI9oH/XKT/0a9N8St/wk/xI0jwsMPY6cg1jUlzwxVttvGfq+Xx/sCt/wX4b/wCEQ8H2Ghfavtn2NGXz/L8vfly33cnHXHWmaL4YOleKNf1ya9N1NrEkJC+Xt8iONNqxjk55LHPH3ulaSadS/wA/8v8AP5C+y1/Xn+GnzN/pXiOmeHPFnjTS9b1rwV4oXwxousXM72+mrAJ/PIYo0rS53QGRlJIjzjOeten+drE/xB8iMyQ6Jaaful3RDbc3Ej4UBiM/IqNkA/xrmuUk+FmtafcXNv4P8eX2gaJdyPLJpq2cc5jLklvJlY7owSSeM4NZ2vr3T/Pr93n6dqvbTs1+XT7zE0DVLHUtY+FX2Ky/s+1hh1G3W037xDNDEIyobv8AdfBPJBzXV+Lv+SqeAfK/1vnX27HXy/s/zfhu2fpT9R+F2lzeCdK0DR7q50qTRpFn06/hIaWGYZy7dm3Fm3DgHJ6VL4W8C32la6+veKvEc/iTWfINtBcPbJbR28RIJVIk4BJAy3U4HTnOjd5a+fz/AK29CbWVl2/r8PxK/wATf+PrwX/2M9r/AOgSV3VYXibw1/wkcuiv9r+zf2VqkWoY8vf5uwMNnUYzu689OlN1abWX8XaHZ6YZIbD99cajMIgyuiqFSLcQcFncNxg4Q1Mdreb/ACX+THLe/l+r/wA0Z/xJ1a6svDcOl6RJ5eq67cppto4PMfmffk/4AgZs+oFZ3j+007QfhjaeGrHT0nF5Lb6VpsDymJUlJHluXHI27d+Rzlfeuh1PwwdU8a6Jr016RFpEc4jtPL4eSVQvmbs9lBGMH7x5qTxb4VsvGGgtpl/JNBiRJoLm3fbJbyocpIp9QaXT56+i6fnb1H19F+P9W+482udD8TeEfFPhbWfHXif/AISuxS8WyiQ2wtTZTzLsSYBTiXqVJbkBsik0fTPF+u+NPHL+G9dt/DzLq4jlvXsVupZgkMYjjCuQqqASc8k7uMYro9N+GusT61p97438aXXiWDS5hcWVmbGO2jWUDCu+zJkZeoJ7/jU3iD4earceJbnXfBfi2fwxd6girqCLZR3UVyUGFfY5G1wONw7Ae+X6+f6PX7n96F6eX6/5k/gbxBq2teG9YtPEggbVtGu5tPuZ7ZSIpyqhg6g9MqwyPUds4rta5zw54VtfCHhW40+2uJ7uWVpbm6u7lsyXMz8s7H1P8gK6Om/69eokI33T9K4f4Mf8ke0D/rlJ/wCjXruSMgisPwX4b/4RDwfYaF9q+2fY0ZfP8vy9+XLfdycdcdaS6/L9RmB4lb/hJ/iRpHhYYex05BrGpLnhirbbeM/V8vj/AGBXd9KwNF8MHSvFGv65Nem6m1iSEhfL2+RHGm1Yxyc8ljnj73SjztYn+IPkRmSHRLTT90u6Ibbm4kfCgMRn5FRsgH+Nc0LZL+v62QPdv0/r77v0PMNM8OeLPGml63rXgrxQvhjRdYuZ3t9NWAT+eQxRpWlzugMjKSRHnGc9as6BqljqWsfCr7FZf2faww6jbrab94hmhiEZUN3+6+CeSDmtuT4Wa1p9xc2/g/x5faBol3I8smmrZxzmMuSW8mVjujBJJ4zg1p6j8LtLm8E6VoGj3VzpUmjSLPp1/CQ0sMwzl27NuLNuHAOT0oi7L7tOuzX4dP0CWrfz/H+lf9Rni7/kqngHyv8AW+dfbsdfL+z/ADfhu2fpR8Tf+PrwX/2M9r/6BJVjwt4FvtK119e8VeI5/Ems+QbaC4e2S2jt4iQSqRJwCSBlupwOnOdXxN4a/wCEjl0V/tf2b+ytUi1DHl7/ADdgYbOoxnd156dKa0cfVP8AH/L8Qeql6Nfg/wBWbtch8SdWurLw3DpekSeXquu3KabaODzH5n35P+AIGbPqBWhq02sv4u0Oz0wyQ2H7641GYRBldFUKkW4g4LO4bjBwho1PwwdU8a6Jr016RFpEc4jtPL4eSVQvmbs9lBGMH7x5qbJ2vt+n/B2He17b/r/Wpz3j+007QfhjaeGrHT0nF5Lb6VpsDymJUlJHluXHI27d+RzlfeubudD8TeEfFPhbWfHXif8A4SuxS8WyiQ2wtTZTzLsSYBTiXqVJbkBsivSfFvhWy8YaC2mX8k0GJEmgubd9slvKhykin1BrmNN+GusT61p97438aXXiWDS5hcWVmbGO2jWUDCu+zJkZeoJ7/jVRb5rvv+H+e/4aktLlsu34/wCW34nOaPpni/XfGnjl/Deu2/h5l1cRy3r2K3UswSGMRxhXIVVAJOeSd3GMV2HgbxBq2teG9YtPEggbVtGu5tPuZ7ZSIpyqhg6g9MqwyPUds4qDxB8PNVuPEtzrvgvxbP4Yu9QRV1BFso7qK5KDCvscja4HG4dgPfOz4c8K2vhDwrcafbXE93LK0tzdXdy2ZLmZ+Wdj6n+QFKOkbPsl81bX7r/eOWr07/hrodHSN90/SloIyCKmSvFpAec/DLTI9a+AGn6XOxSO+sbi3dl6gO8ik/rXMardfEfQ/hjf+GtT8PaXDY2GlyW8niJ9QVongWMjIt8b95XgZ43e1eoeDPDX/CI+DrDQftf2v7GjL5/l+Xvyxb7uTjr61yb/AAt1rV7iO28Y+O7/AF3QYpRIulmzjt/NCnKrNInMoGBkHGSM1U0pSkuj/wCD/mVF2s+39fodX4Egntvh54egvAVnj0y3WQEYwwjXNcr8Q4PiNdR6nBpEWjTeG5YdkkcErx6k8RTEoVnBiDH5sEjpjvzXUibWJviB5EXmQaJaadukBiG24nkfChWIz8io2QD/ABrmuZvfh54vvp7q1l+JmopolyzBrOPT4ROsbHlBcfeHHAOKKjc25Lrf8+v9bE0/cVu1v6RQXUtK1LxZ8K7jRVaPSZrS8azjkHKYt1CqevzBdw6+vWtrxd/yVTwD5X+t86+3Y6+X9n+b8N2z9Kt698OtO1TwnpmjaXcT6PJorRyaXd2x3Paug2g8/eBGQQeuaZ4W8C32la6+veKvEc/iTWfINtBcPbJbR28RIJVIk4BJAy3U4HTnNNpy+b/r9H5EpWil5W/r815jPEXiO+1q6vPC3gqPz7/b5N7qbj/R9MDDnJ/jlwciMd8biB16XQNGtvDvh2w0ex3G3sbdIIy3UhRjJ9z1rzvT/hl480ZLiHRfigLO3nuZbkxf8I9BId8jlmJZnJPJ7mumhi8U2mqeGtJn1STUBGs8+ramLJIluVUYSPaAQhLOp+Ug4jNTHbzf9fhqVLfyV/6+ZH41HxGNxjwL/YH2IwfvPtxlFz5mTnyyAYxxjG4HnORiuHN3pb/D3wDb6XBc2tra+KLe0uoLtg8iTo8m8Oy8E+aM5GAcjAHSuw1rwZ4xvdaurjRfiNd6Vp1y242R02Gdo8jBCSscqPT0q1L8M9Ef4dHwesl2trnzBdmbNx5+/f55fu+/5vTtjFEdNfNPz0d/6+Q5au3k196t/XzKvxS/49fC/l/6/wD4SWx8r1zvO7H/AAHd+GaT4XOH/wCEvLHM3/CT3gkyOeNoXP8AwHb+FJoXw81WHxBZ6t4z8X3PiaXTNx06J7RLaOBmXaXYIT5j7cgMemT3pmtfDnVZPE17rXgzxhc+GpNT2/2hCtnHcxzso2h1DkbGxwSKI+7fzv8Ajy//ACP4ifvW8rf+3f5/gJ8P/wDV+OvL/wBR/wAJDd+Xjpny03f+Pbvxr0CsLQ/Ddl4S8If2RppleKKORnmnfdJNI2Wd3PdmYkmt2nskuyS+5WDdt92397CiiikB5v8AEOD4jXUepwaRFo03huWHZJHBK8epPEUxKFZwYgx+bBI6Y781vad4t8Oad8N9N123ka20ZrWJbSMqWkIICpEqjJZ+NuBkk/nWJe/DzxffT3VrL8TNRTRLlmDWcenwidY2PKC4+8OOAcVa8TfDi51DSfDlj4S10eHE8Pyb7UmyW75CbF4dgMgFuTnk560lpH7vXz/4HzG/i9L/AKf5ak/h7S9V1vxd/wAJh4htDpojtWtNM0xyGkhjdgzySkZHmNtUbQSFA6kk12lcV4f8N+ONJ1dbzxD8QDrtjGjb7FdEhtzIccEOhJ4POO9bHgyTWZ/CtrdeJGf+0LovO0TxhGgR2LJEQAOVQqpzzkHNV0sun9f5snXd/wBaf0jC8If8lW+IH/Xaw/8ASYVkJZeOfAviLW08MeGrXxJpWs3738ch1FLV7OSQDeHDA71yMjbzj8q7TSPDX9leK/EGtfa/N/tp7dvJ8vb5PlRbPvZO7PXoMe9YviTwZ4p1nWriXSviBfaNpV0qiawhsondflCnypj80ecZ4zg5Pep7W7W/L/IrS2v9f1czvgsmof2R4ln1WW2mmn8Q3TmS0UiF2wgfZnkrvDAE9cVe8If8lW+IH/Xaw/8ASYV1Hh7QNP8AC/h+00bR4jFZ2ibUBOWJzksT3JJJJ9TVTSPDX9leK/EGtfa/N/tp7dvJ8vb5PlRbPvZO7PXoMe9Vpf5W+63+RPd+bf3m3LLHBC8szrHHGpZ3c4Cgckk9hXn08tx8UL2xWxgktvCdndpdvezLh9TeNtyLEp5EW4AlzjdgBRjmrc+j69408H+KNO1O/l0xdUuprax8y1Ba2tlIjyV+Utv2u3J6OO1Z1n4F+I9oII1+KwNvDtUQjw3bKCg/hzu444pR+JN+T/r0HLZpea/r1Op8S+LYdAlt7G1tJtV1m8BNpptsRvkA6uzHiOMd3bj0yeKg8H6DP4c03UdQ1+6gfU9TuGv9Qlj+WGI7QAik/wACIoGTycEnrWL4g8AeKL7xxd+IvDXjkaE11bRWzQnSI7rCJk4DO3GWYngDr3xUz+CPFOoeCNc0HxF44/tSbU4hFDeDSY4PsyHhxsRhvyOOSMUtVFtb/wDB/wCGY9OZLp/X/DFeeW4+KF7YrYwSW3hOzu0u3vZlw+pvG25FiU8iLcAS5xuwAoxzXet/x/Rf9c3/AJrXnln4F+I9oII1+KwNvDtUQjw3bKCg/hzu444r0Nv+P6L/AK5v/NarRKyJ1b1JqKKKQwrhfCH/ACVb4gf9drD/ANJhXdVhaR4a/srxX4g1r7X5v9tPbt5Pl7fJ8qLZ97J3Z69Bj3oW/wAv1QHM654C8WP4y1PxF4R8ax6O9/HCslnLpUc6v5SkKDIzZA5P3R371ufD7xJeeKPCoutWhhh1G2uZrK8W3YmIyxOUYoTztOM/jWZr/gvxfqOtXU+h/EW80jTrogvZf2dFOY+AD5crEMgOM8dCSalbQbrwj4d0Dw34LNzGsmoILm9kQSsIstLNJIxUjc+0rnA5cYxxRHa39f8ADBLv/Vrfmc94p8W+H/EnjkeGtV1/S9O0PRZkm1MXd7HC17cKd0cAViCUUgM56EgL2NWfgrrmkz+DdRjh1SykeDU724mVLhCY4mncq7DPCkcgngiuvu/AnhG/vJbu+8K6Jc3MzF5ZptOhd3Y9SWK5J9zXMWXwhstM+H2t+HNLubWzutXMyvqUOnqrrE7lhGQGBYKpKj5gPYdKlXS87P79P8vuXcbs2vVfdr/n9/kOnluPihe2K2MElt4Ts7tLt72ZcPqbxtuRYlPIi3AEucbsAKMc10XxA/5Jr4l/7BN1/wCimrl7PwL8R7QQRr8VgbeHaohHhu2UFB/DndxxxXc+INK/t3w1qek+d5H2+0ltvN2bvL3oV3YyM4znGRRUV6bjHzHTlaopS8vzK3g//kRtC/7B1v8A+i1rhvG8Otah8Z9As9BngtbmPR7qSC8uYvNW1LSRq8gTIDtt+UDI+9k8V1OtQavoPw5i03w27zapFBBYW1wkIbYxKx+cyncAqjLnOQAKb4v8Ev4lXTrzT9Yn0fXdLJNpqkUSyFdww6uhwrq3deOQPpWlRp1OZbXf4p/5mdNNU1F72X6GT4T1PxVo3j2Xwj4x1WDXvOsDf2WpRWq274VwjpIi/KOWGCPTnrxP4n/5LJ4E/wCuOpf+io6t+EPA1zoWrXWueItfuPEWu3UK27XksCwJHCpJCRxrwoycnnk+laWqeGv7S8ZaFr32vy/7IS5XyPLz53nKq/ez8uNvoc57Uuqv5/rb9EPq7f1t+pg7wf2hdkp5XwxmEEetz8+PyXP4Usn/ACcDB5X/AELT+dj0+0rsz/4/j8aveM/BEniW70/VNH1mfQdc03eLW/hiWUbH+8jxtw6nAOD3p/g/wXJ4cuL7UtX1ifXdc1DYt1qE0axAomdiJGvyooyTgdSSfTCjpa/S/wCN/wDP8By1vbrb8Lf5HR2v+pb/AK6Sf+hmpqhtf9S3/XST/wBDNTUAFFFFADZZY4IXlmdY441LO7nAUDkknsK8+nluPihe2K2MElt4Ts7tLt72ZcPqbxtuRYlPIi3AEucbsAKMc11PjDQZfFHg/U9DgvvsD38Bh+0iLzNgPX5cjORkdR1rkLPwL8R7QQRr8VgbeHaohHhu2UFB/DndxxxRH4tfL+vkEvh08/6+Z6TXkfxD/wCE3W2vZvFNrpN34It7nz7qHSJXS+a2Rwy7/NG0gYBYIQTggEV3Vg2s6j4l8Qrdyz2ulRrFaWKeWELPs3STK2MkZdVHJGUNctJ8MPEurRHTfFnxFv8AVtCZh5lhHYRWzzIDkI8y/MwPQ9MjPSlrdND0sM8bG68VeNPD2k+EL1NL1eG0fU11orvNvbMQmxYjxJvOMhsABc9awWttV8LXfjfTPEmonW9d1Lw7Ne2usKnll4Y0ZPJ8kErHtZtw28NuJPIrvPFngI65e2Oq+H9Zn8O63p8Rgt723iWVTESCY3ibh1yMgcYNN8LeAJNJ1S91nxNrc/iTWry3Fo93PAkKRwA58tI14UE8nnk/jSavFxXn+N7fpfbr3CMrNN+X4Wv+tvkR232P/hQsf3Psf/CNjP8Ad2fZv5YrV8Aed/wrfw39qz539l22/d1z5S1x8fwcvo7X+wT411BvBu/P9h/Z0DlN27yvtOd+zPGMdOM967CN9Wbx4tpbh7bQbLTQXXyQEnnd8KFYjPyIhyAf41zWjlzSlL+b8LXf6kJcsUu362X6GN8Tf+PrwX/2M9r/AOgSV3EkiRRtJKwREBZmY4AA6k1ieJvDX/CRy6K/2v7N/ZWqRahjy9/m7Aw2dRjO7rz06Vb8R6XPrnhnUtKtb02Et7bPAtyI95i3KRuC5GevqKjVQdt7v8l/kXo5q+1l+b/zOY+GyvrcepeNbtf32uzEWgPWOyjJWFR6Z+Zz7vXEeBdI8eax4XvL7w14js9AD6pezPHJYLcvfTee+4yMx/drwq4UE/KT6CvZNH0yHRdDsdLtv9TZW8cEfGPlRQo/lXC3/wAMdZh1a/l8HeN7zw5puqTG4vLCOyjmHmN99onYgxFuvGeefanJWlaO1rL8N/18+glqte9/z/z+7qbngnxJceLPAWn6rfwJBeNL5NykednmxzeWxXP8JKkj64rqqxtH0Cy8L+F7HRdKVltbPy403nLN84JZj3JJJPua2act9BLYKKKKQwrG8SeJ7HwxZxS3azXFzcv5VpZWyb57qT+6i9/Uk4AHJIrZrh/GXgbXtf8AFWn654d8XDQJ7G2kt1B0xLvO9gWI3sAMhVHTPHXmkxlzwjoWpprGp+J/Eixw6pqqxxLZxNvWyt487I9/8bZZmY9MnA4HMvjzwnd+MNFtbTTtY/se6tL6K9iuvsouNrx5K/ISAeSDznp0rMsdM8beF9M1bUdb8Wy+LGjsnNrYw6PFbv5oGVIMZJYnGMe9Xb/w74n1PwfpVvD4tn0rXrVEe41CK1jlSaTZhw0RAUrkkjpjApvb0t+f/AuxLfXrf8v6Rk+HdT8W+HvHlv4W8Y6va6/DqNpLc2WoxWq20qtGV3o8a/LjDAgj0qL4hwfEa6j1ODSItGm8Nyw7JI4JXj1J4imJQrODEGPzYJHTHfmtXwp4CutH12XxB4n8RXPiTXHh+zx3UsCQRwRZyVjiXhSTjJzzgdOc5t78PPF99PdWsvxM1FNEuWYNZx6fCJ1jY8oLj7w44BxRK7SXX8N+vy8hxdm3/wAObeneLfDmnfDfTddt5GttGa1iW0jKlpCCAqRKoyWfjbgZJP51V8PaXqut+Lv+Ew8Q2h00R2rWmmaY5DSQxuwZ5JSMjzG2qNoJCgdSSag8TfDi51DSfDlj4S10eHE8Pyb7UmyW75CbF4dgMgFuTnk561N4f8N+ONJ1dbzxD8QDrtjGjb7FdEhtzIccEOhJ4POO9Ntczl6/167ohJqKj6fn/TKXxpaY+B7S3ghFwtzrFlDJCzbVlUzKdpPYEgDNZ95d+PvBGtaRqHiHxHY69pOpX8Vjc2MWnC3No0p2q0TAkuA3Xcc4+vG/aaBdeNPhkdP8cmb7RqYadlCLFLZhnLxKMKMPGNgyRnKnOaz9K+GustrWn3vjTxtd+JLfSpRPY2bWUdsiSgEK8hUkyMAeCcc898URTi7Pvf5aXXrp/wAEqWq07W+etn/X3GL/AGV4i8X+OfEupeBvES+E7WCf+zruVbZbtr+4iUBnKMQse0EKGB3HHPas2G9trX4O3XhSfTY59ZXWv7EcNdPsmvnkEguvNPzgc+Z6gjFdfqvw41aPxBe6p4I8Y3Xho6lJ5t/bfYo7uKWTABdVf7jEDkjOanT4U6OPAr+HZbu9kmluvt8mqGTFy13u3efu/vZwPpx71Mfhs/K/fdXt+NvltYbfvaf1o7X/AAv8zlLnQ/E3hHxT4W1nx14n/wCErsUvFsokNsLU2U8y7EmAU4l6lSW5AbIr15f+P6X/AK5p/Nq4PTfhrrE+tafe+N/Gl14lg0uYXFlZmxjto1lAwrvsyZGXqCe/413i/wDH9L/1zT+bVV9Nf6/4O/4E9SaiiikMwCZeyJ/32f8ACmlp+0cf/fw/4VLRQBCWue0UX/f0/wDxNNL3faCH/v8AH/4mrFFAFYvfdre3/wC/7f8AxFVNTkvjpN2Ht7cL5D5InYkDae2ytSqmq/8AIGvf+veT/wBBNAHQ7rn/AJ4xf9/T/wDE0brn/njF/wB/T/8AE1NRQBDuuf8AnjF/39P/AMTRuuf+eMX/AH9P/wATU1FAEO65/wCeMX/f0/8AxNG65/54xf8Af0//ABNTUUAQ7rn/AJ4xf9/T/wDE0brn/njF/wB/T/8AE1NRQBDuuf8AnjF/39P/AMTRuuf+eMX/AH9P/wATU1FAEO65/wCeMX/f0/8AxNG65/54xf8Af0//ABNTUUAVLprj7HNuiiA8tskSE9v92pd1z/zxi/7+n/4mi8/48Z/+ubfyqagCHdc/88Yv+/p/+Jo3XP8Azxi/7+n/AOJqaigCHdc/88Yv+/p/+Jo3XP8Azxi/7+n/AOJqaigCHdc/88Yv+/p/+Jo3XP8Azxi/7+n/AOJqaigCHdc/88Yv+/p/+Jo3XP8Azxi/7+n/AOJqaigCHdc/88Yv+/p/+Jo3XP8Azxi/7+n/AOJqaigCHdc/88Yv+/p/+Jo3XP8Azxi/7+n/AOJqaigCHdc/88Yv+/p/+JqK6a4+xzboogPLbJEhPb/dq3UN5/x4z/8AXNv5UAG65/54xf8Af0//ABNG65/54xf9/T/8TU1FAEO65/54xf8Af0//ABNG65/54xf9/T/8TU1FAEO65/54xf8Af0//ABNG65/54xf9/T/8TU1FAEO65/54xf8Af0//ABNG65/54xf9/T/8TU1FAEO65/54xf8Af0//ABNG65/54xf9/T/8TU1FAEO65/54xf8Af0//ABNG65/54xf9/T/8TU1FAEO65/54xf8Af0//ABNG65/54xf9/T/8TU1FAFS6a4+xzboogPLbJEhPb/dqXdc/88Yv+/p/+JovP+PGf/rm38qmoAh3XP8Azxi/7+n/AOJo3XP/ADxi/wC/p/8AiamooAh3XP8Azxi/7+n/AOJo3XP/ADxi/wC/p/8AiamooAh3XP8Azxi/7+n/AOJo3XP/ADxi/wC/p/8AiamooAh3XP8Azxi/7+n/AOJo3XP/ADxi/wC/p/8AiamooAh3XP8Azxi/7+n/AOJo3XP/ADxi/wC/p/8AiamooAh3XP8Azxi/7+n/AOJo3XP/ADxi/wC/p/8AiamooAh3XP8Azxi/7+n/AOJqK6a4+xzboogPLbJEhPb/AHat1Def8eM//XNv5UAG65/54xf9/T/8TRuuf+eMX/f0/wDxNTUUAQ7rn/njF/39P/xNG65/54xf9/T/APE1NRQBDuuf+eMX/f0//E0brn/njF/39P8A8TU1FAEO65/54xf9/T/8TRuuf+eMX/f0/wDxNTUUAQ7rn/njF/39P/xNG65/54xf9/T/APE1NRQBDuuf+eMX/f0//E0brn/njF/39P8A8TU1FAEO65/54xf9/T/8TRuuf+eMX/f0/wDxNTUUAVLprj7HNuiiA8tskSE9v92pd1z/AM8Yv+/p/wDiaLz/AI8Z/wDrm38qmoAh3XP/ADxi/wC/p/8AiaN1z/zxi/7+n/4mpqKAId1z/wA8Yv8Av6f/AImjdc/88Yv+/p/+JqaigCHdc/8APGL/AL+n/wCJo3XP/PGL/v6f/iamooAh3XP/ADxi/wC/p/8AiaN1z/zxi/7+n/4mpqKAId1z/wA8Yv8Av6f/AImjdc/88Yv+/p/+JqaigCHdc/8APGL/AL+n/wCJo3XP/PGL/v6f/iamooAh3XP/ADxi/wC/p/8AiaN1z/zxi/7+n/4mpqKAId1z/wA8Yv8Av6f/AImoma4+2R/uos+W+B5h9V/2at1C3/H9F/1zf+a0AG65/wCeMX/f0/8AxNG65/54xf8Af0//ABNTUUAQ7rn/AJ4xf9/T/wDE0brn/njF/wB/T/8AE1NRQBDuuf8AnjF/39P/AMTRuuf+eMX/AH9P/wATU1FAEO65/wCeMX/f0/8AxNG65/54xf8Af0//ABNTUUAQ7rn/AJ4xf9/T/wDE0brn/njF/wB/T/8AE1NRQBDuuf8AnjF/39P/AMTRuuf+eMX/AH9P/wATU1FAEO65/wCeMX/f0/8AxNG65/54xf8Af0//ABNTUUAQ7rn/AJ4xf9/T/wDE0brn/njF/wB/T/8AE1NRQBUtmuPKO2KIjzH6yH+8f9mpd1z/AM8Yv+/p/wDiaLX/AFLf9dJP/QzU1AEO65/54xf9/T/8TRuuf+eMX/f0/wDxNTUUAQ7rn/njF/39P/xNG65/54xf9/T/APE1NRQBDuuf+eMX/f0//E0brn/njF/39P8A8TU1FAEO65/54xf9/T/8TRuuf+eMX/f0/wDxNTUUAQ7rn/njF/39P/xNG65/54xf9/T/APE1NRQBDuuf+eMX/f0//E0brn/njF/39P8A8TU1FAEO65/54xf9/T/8TRuuf+eMX/f0/wDxNTUUAVLlrjyhuiiA8xOkh/vD/ZqXdc/88Yv+/p/+Jouv9Sv/AF0j/wDQxU1AEO65/wCeMX/f0/8AxNG65/54xf8Af0//ABNTUUAQ7rn/AJ4xf9/T/wDE0brn/njF/wB/T/8AE1NRQBDuuf8AnjF/39P/AMTRuuf+eMX/AH9P/wATU1FAEO65/wCeMX/f0/8AxNG65/54xf8Af0//ABNTUUAQ7rn/AJ4xf9/T/wDE0brn/njF/wB/T/8AE1NRQBDuuf8AnjF/39P/AMTRuuf+eMX/AH9P/wATU1FAEO65/wCeMX/f0/8AxNG65/54xf8Af0//ABNTUUAQ7rn/AJ4xf9/T/wDE1ErXH2yT91Fny0yPMPq3+zVuoV/4/pf+uafzagA3XP8Azxi/7+n/AOJoqaigDDooooA878T6NbeNPidH4b19p5tGttIF99ijmaJJpWlKZcqQTgDgZ4OasfDu0XQtf8U+GbKWZtL0u4gazinkMhhWWIOyBjztB6D3NFFKG3qn/wClDlu/l/6Sd5VTVf8AkDXv/XvJ/wCgmiimI6eiiigAooooAKKKKACiiigAooooAKKKKAIbz/jxn/65t/KpqKKACiiigAooooAKKKKACiiigAooooAKKKKACobz/jxn/wCubfyoooAmooooAKKKKACiiigAooooAKKKKACiiigAooooAhvP+PGf/rm38qmoooAKKKKACiiigAooooAKKKKACiiigAooooAKhvP+PGf/AK5t/KiigCaiiigAooooAKKKKACiiigAooooAKKKKACiiigCG8/48Z/+ubfyqaiigAooooAKKKKACiiigAooooAKKKKACiiigAooooAKhb/j+i/65v8AzWiigCaiiigAooooAKKKKACiiigAooooAKKKKACiiigAooooAhtf9S3/AF0k/wDQzU1FFABRRRQAUUUUAFFFFABRRRQAUUUUAFFFFABRRRQBDdf6lf8ArpH/AOhipqKKACiiigAooooAKKKKACiiigAooooAKKKKACiiigAqFf8Aj+l/65p/NqKKAJqKKKAP/9k=)\n"
      ]
    },
    {
      "cell_type": "markdown",
      "metadata": {
        "id": "M3kWGOGcu4rl"
      },
      "source": [
        "*   .csv로 저장시, DataFrame으로 바로 활용할 수 있는 형태로 저장이 되는 것\n",
        "*   출처 : 해양수산부"
      ]
    },
    {
      "cell_type": "code",
      "metadata": {
        "colab": {
          "base_uri": "https://localhost:8080/",
          "height": 112
        },
        "id": "jMFD6YYouxTI",
        "outputId": "fc1f2382-767c-466d-b743-0bab3c09b8a3"
      },
      "source": [
        "seadata = pd.DataFrame([[18374306,16379285,16379285,18374306,30780481,14548165,1831120,2141990],[17033243,14618183,14618183,17033243,27694240,12701895,1916288,2040898]],\n",
        "             columns=['출항','입항','외항 입항','외항 출항','외국선 입항', '외국선 출항', '국적선 입항', '국적선 출항'],\n",
        "             index=['2021.1월','2021.2월'])\n",
        "seadata"
      ],
      "execution_count": 98,
      "outputs": [
        {
          "output_type": "execute_result",
          "data": {
            "text/html": [
              "<div>\n",
              "<style scoped>\n",
              "    .dataframe tbody tr th:only-of-type {\n",
              "        vertical-align: middle;\n",
              "    }\n",
              "\n",
              "    .dataframe tbody tr th {\n",
              "        vertical-align: top;\n",
              "    }\n",
              "\n",
              "    .dataframe thead th {\n",
              "        text-align: right;\n",
              "    }\n",
              "</style>\n",
              "<table border=\"1\" class=\"dataframe\">\n",
              "  <thead>\n",
              "    <tr style=\"text-align: right;\">\n",
              "      <th></th>\n",
              "      <th>출항</th>\n",
              "      <th>입항</th>\n",
              "      <th>외항 입항</th>\n",
              "      <th>외항 출항</th>\n",
              "      <th>외국선 입항</th>\n",
              "      <th>외국선 출항</th>\n",
              "      <th>국적선 입항</th>\n",
              "      <th>국적선 출항</th>\n",
              "    </tr>\n",
              "  </thead>\n",
              "  <tbody>\n",
              "    <tr>\n",
              "      <th>2021.1월</th>\n",
              "      <td>18374306</td>\n",
              "      <td>16379285</td>\n",
              "      <td>16379285</td>\n",
              "      <td>18374306</td>\n",
              "      <td>30780481</td>\n",
              "      <td>14548165</td>\n",
              "      <td>1831120</td>\n",
              "      <td>2141990</td>\n",
              "    </tr>\n",
              "    <tr>\n",
              "      <th>2021.2월</th>\n",
              "      <td>17033243</td>\n",
              "      <td>14618183</td>\n",
              "      <td>14618183</td>\n",
              "      <td>17033243</td>\n",
              "      <td>27694240</td>\n",
              "      <td>12701895</td>\n",
              "      <td>1916288</td>\n",
              "      <td>2040898</td>\n",
              "    </tr>\n",
              "  </tbody>\n",
              "</table>\n",
              "</div>"
            ],
            "text/plain": [
              "               출항        입항     외항 입항  ...    외국선 출항   국적선 입항   국적선 출항\n",
              "2021.1월  18374306  16379285  16379285  ...  14548165  1831120  2141990\n",
              "2021.2월  17033243  14618183  14618183  ...  12701895  1916288  2040898\n",
              "\n",
              "[2 rows x 8 columns]"
            ]
          },
          "metadata": {},
          "execution_count": 98
        }
      ]
    },
    {
      "cell_type": "code",
      "metadata": {
        "colab": {
          "base_uri": "https://localhost:8080/"
        },
        "id": "UGKVKlZgwQt0",
        "outputId": "e0011958-8434-488a-d98b-3008eedcaa28"
      },
      "source": [
        "seadata['출항']"
      ],
      "execution_count": 99,
      "outputs": [
        {
          "output_type": "execute_result",
          "data": {
            "text/plain": [
              "2021.1월    18374306\n",
              "2021.2월    17033243\n",
              "Name: 출항, dtype: int64"
            ]
          },
          "metadata": {},
          "execution_count": 99
        }
      ]
    },
    {
      "cell_type": "code",
      "metadata": {
        "colab": {
          "base_uri": "https://localhost:8080/"
        },
        "id": "_Odx7RV9wa4d",
        "outputId": "42c5bac7-5e76-4034-99ad-f21abf647b5c"
      },
      "source": [
        "seadata['출항'].sum()"
      ],
      "execution_count": 100,
      "outputs": [
        {
          "output_type": "execute_result",
          "data": {
            "text/plain": [
              "35407549"
            ]
          },
          "metadata": {},
          "execution_count": 100
        }
      ]
    },
    {
      "cell_type": "code",
      "metadata": {
        "colab": {
          "base_uri": "https://localhost:8080/"
        },
        "id": "yuvyC7kmweyp",
        "outputId": "5e192ba5-8d7c-4d64-9bb6-fec991e57e6b"
      },
      "source": [
        "seadata['출항'].mean()"
      ],
      "execution_count": 101,
      "outputs": [
        {
          "output_type": "execute_result",
          "data": {
            "text/plain": [
              "17703774.5"
            ]
          },
          "metadata": {},
          "execution_count": 101
        }
      ]
    },
    {
      "cell_type": "code",
      "metadata": {
        "colab": {
          "base_uri": "https://localhost:8080/",
          "height": 112
        },
        "id": "-K7PelxnwhXO",
        "outputId": "09b0bada-33f4-4e29-dc0e-a2a8d6436363"
      },
      "source": [
        "seadata[['출항']]"
      ],
      "execution_count": 102,
      "outputs": [
        {
          "output_type": "execute_result",
          "data": {
            "text/html": [
              "<div>\n",
              "<style scoped>\n",
              "    .dataframe tbody tr th:only-of-type {\n",
              "        vertical-align: middle;\n",
              "    }\n",
              "\n",
              "    .dataframe tbody tr th {\n",
              "        vertical-align: top;\n",
              "    }\n",
              "\n",
              "    .dataframe thead th {\n",
              "        text-align: right;\n",
              "    }\n",
              "</style>\n",
              "<table border=\"1\" class=\"dataframe\">\n",
              "  <thead>\n",
              "    <tr style=\"text-align: right;\">\n",
              "      <th></th>\n",
              "      <th>출항</th>\n",
              "    </tr>\n",
              "  </thead>\n",
              "  <tbody>\n",
              "    <tr>\n",
              "      <th>2021.1월</th>\n",
              "      <td>18374306</td>\n",
              "    </tr>\n",
              "    <tr>\n",
              "      <th>2021.2월</th>\n",
              "      <td>17033243</td>\n",
              "    </tr>\n",
              "  </tbody>\n",
              "</table>\n",
              "</div>"
            ],
            "text/plain": [
              "               출항\n",
              "2021.1월  18374306\n",
              "2021.2월  17033243"
            ]
          },
          "metadata": {},
          "execution_count": 102
        }
      ]
    },
    {
      "cell_type": "code",
      "metadata": {
        "id": "lCTHbJWewoPr"
      },
      "source": [
        "# seadata['출항','입항']\n",
        "# 에러를 가져올 것\n",
        "# Series 형태에서는 한 종류의 데이터만 가져올 수 있기 때문이다"
      ],
      "execution_count": 103,
      "outputs": []
    },
    {
      "cell_type": "code",
      "metadata": {
        "colab": {
          "base_uri": "https://localhost:8080/",
          "height": 112
        },
        "id": "WkxbmWatwvOv",
        "outputId": "52f15692-d8a7-49e9-ee29-f164a0c7c477"
      },
      "source": [
        "seadata[['출항','입항']]"
      ],
      "execution_count": 104,
      "outputs": [
        {
          "output_type": "execute_result",
          "data": {
            "text/html": [
              "<div>\n",
              "<style scoped>\n",
              "    .dataframe tbody tr th:only-of-type {\n",
              "        vertical-align: middle;\n",
              "    }\n",
              "\n",
              "    .dataframe tbody tr th {\n",
              "        vertical-align: top;\n",
              "    }\n",
              "\n",
              "    .dataframe thead th {\n",
              "        text-align: right;\n",
              "    }\n",
              "</style>\n",
              "<table border=\"1\" class=\"dataframe\">\n",
              "  <thead>\n",
              "    <tr style=\"text-align: right;\">\n",
              "      <th></th>\n",
              "      <th>출항</th>\n",
              "      <th>입항</th>\n",
              "    </tr>\n",
              "  </thead>\n",
              "  <tbody>\n",
              "    <tr>\n",
              "      <th>2021.1월</th>\n",
              "      <td>18374306</td>\n",
              "      <td>16379285</td>\n",
              "    </tr>\n",
              "    <tr>\n",
              "      <th>2021.2월</th>\n",
              "      <td>17033243</td>\n",
              "      <td>14618183</td>\n",
              "    </tr>\n",
              "  </tbody>\n",
              "</table>\n",
              "</div>"
            ],
            "text/plain": [
              "               출항        입항\n",
              "2021.1월  18374306  16379285\n",
              "2021.2월  17033243  14618183"
            ]
          },
          "metadata": {},
          "execution_count": 104
        }
      ]
    },
    {
      "cell_type": "markdown",
      "metadata": {
        "id": "igCr6wr3xK4m"
      },
      "source": [
        "## 5. 데이터 불러오기\n",
        "\n",
        "---\n",
        "\n"
      ]
    },
    {
      "cell_type": "code",
      "metadata": {
        "colab": {
          "base_uri": "https://localhost:8080/"
        },
        "id": "cdVmtBmwxPC5",
        "outputId": "e72a291e-c47d-4761-ebeb-d725a73b3fa5"
      },
      "source": [
        "from google.colab import drive\n",
        "drive.mount('/content/drive')"
      ],
      "execution_count": 105,
      "outputs": [
        {
          "output_type": "stream",
          "name": "stdout",
          "text": [
            "Drive already mounted at /content/drive; to attempt to forcibly remount, call drive.mount(\"/content/drive\", force_remount=True).\n"
          ]
        }
      ]
    },
    {
      "cell_type": "code",
      "metadata": {
        "colab": {
          "base_uri": "https://localhost:8080/",
          "height": 206
        },
        "id": "-XD5a67wyV7f",
        "outputId": "0438bb90-91b3-47f3-9092-fe4ae9266c5e"
      },
      "source": [
        "# 불러올 파일의 경로를 filename 변수에 저장\n",
        "filename = '/content/drive/MyDrive/부산항_2021.csv'\n",
        "\n",
        "# Pandas read_csv로 불러오기\n",
        "seadata2 = pd.read_csv(filename)\n",
        "seadata2.head()"
      ],
      "execution_count": 106,
      "outputs": [
        {
          "output_type": "execute_result",
          "data": {
            "text/html": [
              "<div>\n",
              "<style scoped>\n",
              "    .dataframe tbody tr th:only-of-type {\n",
              "        vertical-align: middle;\n",
              "    }\n",
              "\n",
              "    .dataframe tbody tr th {\n",
              "        vertical-align: top;\n",
              "    }\n",
              "\n",
              "    .dataframe thead th {\n",
              "        text-align: right;\n",
              "    }\n",
              "</style>\n",
              "<table border=\"1\" class=\"dataframe\">\n",
              "  <thead>\n",
              "    <tr style=\"text-align: right;\">\n",
              "      <th></th>\n",
              "      <th>출항</th>\n",
              "      <th>입항</th>\n",
              "      <th>외항 입항</th>\n",
              "      <th>외항 출항</th>\n",
              "      <th>외국선 입항</th>\n",
              "      <th>외국선 출항</th>\n",
              "      <th>국적선 입항</th>\n",
              "      <th>국적선 출항</th>\n",
              "    </tr>\n",
              "  </thead>\n",
              "  <tbody>\n",
              "    <tr>\n",
              "      <th>0</th>\n",
              "      <td>18374306</td>\n",
              "      <td>16379285</td>\n",
              "      <td>16379285</td>\n",
              "      <td>18374306</td>\n",
              "      <td>30780481</td>\n",
              "      <td>14548165</td>\n",
              "      <td>1831120</td>\n",
              "      <td>2141990</td>\n",
              "    </tr>\n",
              "    <tr>\n",
              "      <th>1</th>\n",
              "      <td>17033243</td>\n",
              "      <td>14618183</td>\n",
              "      <td>14618183</td>\n",
              "      <td>17033243</td>\n",
              "      <td>27694240</td>\n",
              "      <td>12701895</td>\n",
              "      <td>1916288</td>\n",
              "      <td>2040898</td>\n",
              "    </tr>\n",
              "    <tr>\n",
              "      <th>2</th>\n",
              "      <td>19721734</td>\n",
              "      <td>17151498</td>\n",
              "      <td>17151498</td>\n",
              "      <td>19721734</td>\n",
              "      <td>32538031</td>\n",
              "      <td>14886176</td>\n",
              "      <td>2265322</td>\n",
              "      <td>2069879</td>\n",
              "    </tr>\n",
              "    <tr>\n",
              "      <th>3</th>\n",
              "      <td>18356391</td>\n",
              "      <td>18266865</td>\n",
              "      <td>18266865</td>\n",
              "      <td>18356391</td>\n",
              "      <td>32305352</td>\n",
              "      <td>16173092</td>\n",
              "      <td>2093773</td>\n",
              "      <td>2224131</td>\n",
              "    </tr>\n",
              "    <tr>\n",
              "      <th>4</th>\n",
              "      <td>19652544</td>\n",
              "      <td>17507307</td>\n",
              "      <td>17507307</td>\n",
              "      <td>19652544</td>\n",
              "      <td>32795440</td>\n",
              "      <td>15500336</td>\n",
              "      <td>2006971</td>\n",
              "      <td>2357440</td>\n",
              "    </tr>\n",
              "  </tbody>\n",
              "</table>\n",
              "</div>"
            ],
            "text/plain": [
              "         출항        입항     외항 입항     외항 출항    외국선 입항    외국선 출항   국적선 입항   국적선 출항\n",
              "0  18374306  16379285  16379285  18374306  30780481  14548165  1831120  2141990\n",
              "1  17033243  14618183  14618183  17033243  27694240  12701895  1916288  2040898\n",
              "2  19721734  17151498  17151498  19721734  32538031  14886176  2265322  2069879\n",
              "3  18356391  18266865  18266865  18356391  32305352  16173092  2093773  2224131\n",
              "4  19652544  17507307  17507307  19652544  32795440  15500336  2006971  2357440"
            ]
          },
          "metadata": {},
          "execution_count": 106
        }
      ]
    },
    {
      "cell_type": "code",
      "metadata": {
        "colab": {
          "base_uri": "https://localhost:8080/"
        },
        "id": "mKYn72o4zx2b",
        "outputId": "58ab35a3-1a5c-417b-ee4e-5f77405df936"
      },
      "source": [
        "seadata2.shape\n",
        "# 이 데이터에 index의 개수는 7개\n",
        "# Column의 개수는 8개"
      ],
      "execution_count": 107,
      "outputs": [
        {
          "output_type": "execute_result",
          "data": {
            "text/plain": [
              "(7, 8)"
            ]
          },
          "metadata": {},
          "execution_count": 107
        }
      ]
    },
    {
      "cell_type": "code",
      "metadata": {
        "colab": {
          "base_uri": "https://localhost:8080/"
        },
        "id": "OcnQLFcL0jfd",
        "outputId": "cc8eb836-de32-4291-c52c-287ded847fcb"
      },
      "source": [
        "seadata2.info()"
      ],
      "execution_count": 108,
      "outputs": [
        {
          "output_type": "stream",
          "name": "stdout",
          "text": [
            "<class 'pandas.core.frame.DataFrame'>\n",
            "RangeIndex: 7 entries, 0 to 6\n",
            "Data columns (total 8 columns):\n",
            " #   Column  Non-Null Count  Dtype\n",
            "---  ------  --------------  -----\n",
            " 0   출항      7 non-null      int64\n",
            " 1   입항      7 non-null      int64\n",
            " 2   외항 입항   7 non-null      int64\n",
            " 3   외항 출항   7 non-null      int64\n",
            " 4   외국선 입항  7 non-null      int64\n",
            " 5   외국선 출항  7 non-null      int64\n",
            " 6   국적선 입항  7 non-null      int64\n",
            " 7   국적선 출항  7 non-null      int64\n",
            "dtypes: int64(8)\n",
            "memory usage: 576.0 bytes\n"
          ]
        }
      ]
    },
    {
      "cell_type": "code",
      "metadata": {
        "colab": {
          "base_uri": "https://localhost:8080/",
          "height": 300
        },
        "id": "iaOd9r-Y1We3",
        "outputId": "b3b246e8-0a37-497a-80d2-aa2a20c1e26a"
      },
      "source": [
        "seadata2.describe()"
      ],
      "execution_count": 109,
      "outputs": [
        {
          "output_type": "execute_result",
          "data": {
            "text/html": [
              "<div>\n",
              "<style scoped>\n",
              "    .dataframe tbody tr th:only-of-type {\n",
              "        vertical-align: middle;\n",
              "    }\n",
              "\n",
              "    .dataframe tbody tr th {\n",
              "        vertical-align: top;\n",
              "    }\n",
              "\n",
              "    .dataframe thead th {\n",
              "        text-align: right;\n",
              "    }\n",
              "</style>\n",
              "<table border=\"1\" class=\"dataframe\">\n",
              "  <thead>\n",
              "    <tr style=\"text-align: right;\">\n",
              "      <th></th>\n",
              "      <th>출항</th>\n",
              "      <th>입항</th>\n",
              "      <th>외항 입항</th>\n",
              "      <th>외항 출항</th>\n",
              "      <th>외국선 입항</th>\n",
              "      <th>외국선 출항</th>\n",
              "      <th>국적선 입항</th>\n",
              "      <th>국적선 출항</th>\n",
              "    </tr>\n",
              "  </thead>\n",
              "  <tbody>\n",
              "    <tr>\n",
              "      <th>count</th>\n",
              "      <td>7.000000e+00</td>\n",
              "      <td>7.000000e+00</td>\n",
              "      <td>7.000000e+00</td>\n",
              "      <td>7.000000e+00</td>\n",
              "      <td>7.000000e+00</td>\n",
              "      <td>7.000000e+00</td>\n",
              "      <td>7.000000e+00</td>\n",
              "      <td>7.000000e+00</td>\n",
              "    </tr>\n",
              "    <tr>\n",
              "      <th>mean</th>\n",
              "      <td>1.876015e+07</td>\n",
              "      <td>1.702029e+07</td>\n",
              "      <td>1.702029e+07</td>\n",
              "      <td>1.876015e+07</td>\n",
              "      <td>3.151492e+07</td>\n",
              "      <td>1.494587e+07</td>\n",
              "      <td>2.074419e+06</td>\n",
              "      <td>2.191097e+06</td>\n",
              "    </tr>\n",
              "    <tr>\n",
              "      <th>std</th>\n",
              "      <td>9.419427e+05</td>\n",
              "      <td>1.208136e+06</td>\n",
              "      <td>1.208136e+06</td>\n",
              "      <td>9.419427e+05</td>\n",
              "      <td>1.803771e+06</td>\n",
              "      <td>1.113110e+06</td>\n",
              "      <td>1.920402e+05</td>\n",
              "      <td>1.973596e+05</td>\n",
              "    </tr>\n",
              "    <tr>\n",
              "      <th>min</th>\n",
              "      <td>1.703324e+07</td>\n",
              "      <td>1.461818e+07</td>\n",
              "      <td>1.461818e+07</td>\n",
              "      <td>1.703324e+07</td>\n",
              "      <td>2.769424e+07</td>\n",
              "      <td>1.270190e+07</td>\n",
              "      <td>1.831120e+06</td>\n",
              "      <td>1.970656e+06</td>\n",
              "    </tr>\n",
              "    <tr>\n",
              "      <th>25%</th>\n",
              "      <td>1.836535e+07</td>\n",
              "      <td>1.676539e+07</td>\n",
              "      <td>1.676539e+07</td>\n",
              "      <td>1.836535e+07</td>\n",
              "      <td>3.148585e+07</td>\n",
              "      <td>1.471717e+07</td>\n",
              "      <td>1.961630e+06</td>\n",
              "      <td>2.055388e+06</td>\n",
              "    </tr>\n",
              "    <tr>\n",
              "      <th>50%</th>\n",
              "      <td>1.888054e+07</td>\n",
              "      <td>1.741710e+07</td>\n",
              "      <td>1.741710e+07</td>\n",
              "      <td>1.888054e+07</td>\n",
              "      <td>3.229970e+07</td>\n",
              "      <td>1.538981e+07</td>\n",
              "      <td>2.027284e+06</td>\n",
              "      <td>2.141990e+06</td>\n",
              "    </tr>\n",
              "    <tr>\n",
              "      <th>75%</th>\n",
              "      <td>1.947742e+07</td>\n",
              "      <td>1.765455e+07</td>\n",
              "      <td>1.765455e+07</td>\n",
              "      <td>1.947742e+07</td>\n",
              "      <td>3.242169e+07</td>\n",
              "      <td>1.546097e+07</td>\n",
              "      <td>2.179548e+06</td>\n",
              "      <td>2.290786e+06</td>\n",
              "    </tr>\n",
              "    <tr>\n",
              "      <th>max</th>\n",
              "      <td>1.972173e+07</td>\n",
              "      <td>1.826686e+07</td>\n",
              "      <td>1.826686e+07</td>\n",
              "      <td>1.972173e+07</td>\n",
              "      <td>3.279544e+07</td>\n",
              "      <td>1.617309e+07</td>\n",
              "      <td>2.380176e+06</td>\n",
              "      <td>2.532688e+06</td>\n",
              "    </tr>\n",
              "  </tbody>\n",
              "</table>\n",
              "</div>"
            ],
            "text/plain": [
              "                 출항            입항  ...        국적선 입항        국적선 출항\n",
              "count  7.000000e+00  7.000000e+00  ...  7.000000e+00  7.000000e+00\n",
              "mean   1.876015e+07  1.702029e+07  ...  2.074419e+06  2.191097e+06\n",
              "std    9.419427e+05  1.208136e+06  ...  1.920402e+05  1.973596e+05\n",
              "min    1.703324e+07  1.461818e+07  ...  1.831120e+06  1.970656e+06\n",
              "25%    1.836535e+07  1.676539e+07  ...  1.961630e+06  2.055388e+06\n",
              "50%    1.888054e+07  1.741710e+07  ...  2.027284e+06  2.141990e+06\n",
              "75%    1.947742e+07  1.765455e+07  ...  2.179548e+06  2.290786e+06\n",
              "max    1.972173e+07  1.826686e+07  ...  2.380176e+06  2.532688e+06\n",
              "\n",
              "[8 rows x 8 columns]"
            ]
          },
          "metadata": {},
          "execution_count": 109
        }
      ]
    },
    {
      "cell_type": "code",
      "metadata": {
        "colab": {
          "base_uri": "https://localhost:8080/"
        },
        "id": "DD9sxTbf4gJQ",
        "outputId": "9cccbe9b-f146-4972-9c65-1c90da87a4ff"
      },
      "source": [
        "seadata2['출항']"
      ],
      "execution_count": 110,
      "outputs": [
        {
          "output_type": "execute_result",
          "data": {
            "text/plain": [
              "0    18374306\n",
              "1    17033243\n",
              "2    19721734\n",
              "3    18356391\n",
              "4    19652544\n",
              "5    18880543\n",
              "6    19302300\n",
              "Name: 출항, dtype: int64"
            ]
          },
          "metadata": {},
          "execution_count": 110
        }
      ]
    },
    {
      "cell_type": "code",
      "metadata": {
        "colab": {
          "base_uri": "https://localhost:8080/"
        },
        "id": "JZS18kLC4kHT",
        "outputId": "0e409f01-8caa-464a-884c-994e1d02ece0"
      },
      "source": [
        "seadata2['출항'].sum()"
      ],
      "execution_count": 111,
      "outputs": [
        {
          "output_type": "execute_result",
          "data": {
            "text/plain": [
              "131321061"
            ]
          },
          "metadata": {},
          "execution_count": 111
        }
      ]
    },
    {
      "cell_type": "code",
      "metadata": {
        "colab": {
          "base_uri": "https://localhost:8080/"
        },
        "id": "-6luo2I84nKL",
        "outputId": "4e7c9bb6-43c4-438c-d066-08bf8643763f"
      },
      "source": [
        "seadata2['출항'].describe()"
      ],
      "execution_count": 112,
      "outputs": [
        {
          "output_type": "execute_result",
          "data": {
            "text/plain": [
              "count    7.000000e+00\n",
              "mean     1.876015e+07\n",
              "std      9.419427e+05\n",
              "min      1.703324e+07\n",
              "25%      1.836535e+07\n",
              "50%      1.888054e+07\n",
              "75%      1.947742e+07\n",
              "max      1.972173e+07\n",
              "Name: 출항, dtype: float64"
            ]
          },
          "metadata": {},
          "execution_count": 112
        }
      ]
    },
    {
      "cell_type": "code",
      "metadata": {
        "colab": {
          "base_uri": "https://localhost:8080/",
          "height": 269
        },
        "id": "SI-1Zt0l4ryg",
        "outputId": "4c307f69-de3b-49f3-94ce-bd71fd6e71aa"
      },
      "source": [
        "seadata2[['출항','입항']]"
      ],
      "execution_count": 113,
      "outputs": [
        {
          "output_type": "execute_result",
          "data": {
            "text/html": [
              "<div>\n",
              "<style scoped>\n",
              "    .dataframe tbody tr th:only-of-type {\n",
              "        vertical-align: middle;\n",
              "    }\n",
              "\n",
              "    .dataframe tbody tr th {\n",
              "        vertical-align: top;\n",
              "    }\n",
              "\n",
              "    .dataframe thead th {\n",
              "        text-align: right;\n",
              "    }\n",
              "</style>\n",
              "<table border=\"1\" class=\"dataframe\">\n",
              "  <thead>\n",
              "    <tr style=\"text-align: right;\">\n",
              "      <th></th>\n",
              "      <th>출항</th>\n",
              "      <th>입항</th>\n",
              "    </tr>\n",
              "  </thead>\n",
              "  <tbody>\n",
              "    <tr>\n",
              "      <th>0</th>\n",
              "      <td>18374306</td>\n",
              "      <td>16379285</td>\n",
              "    </tr>\n",
              "    <tr>\n",
              "      <th>1</th>\n",
              "      <td>17033243</td>\n",
              "      <td>14618183</td>\n",
              "    </tr>\n",
              "    <tr>\n",
              "      <th>2</th>\n",
              "      <td>19721734</td>\n",
              "      <td>17151498</td>\n",
              "    </tr>\n",
              "    <tr>\n",
              "      <th>3</th>\n",
              "      <td>18356391</td>\n",
              "      <td>18266865</td>\n",
              "    </tr>\n",
              "    <tr>\n",
              "      <th>4</th>\n",
              "      <td>19652544</td>\n",
              "      <td>17507307</td>\n",
              "    </tr>\n",
              "    <tr>\n",
              "      <th>5</th>\n",
              "      <td>18880543</td>\n",
              "      <td>17417098</td>\n",
              "    </tr>\n",
              "    <tr>\n",
              "      <th>6</th>\n",
              "      <td>19302300</td>\n",
              "      <td>17801786</td>\n",
              "    </tr>\n",
              "  </tbody>\n",
              "</table>\n",
              "</div>"
            ],
            "text/plain": [
              "         출항        입항\n",
              "0  18374306  16379285\n",
              "1  17033243  14618183\n",
              "2  19721734  17151498\n",
              "3  18356391  18266865\n",
              "4  19652544  17507307\n",
              "5  18880543  17417098\n",
              "6  19302300  17801786"
            ]
          },
          "metadata": {},
          "execution_count": 113
        }
      ]
    }
  ]
}