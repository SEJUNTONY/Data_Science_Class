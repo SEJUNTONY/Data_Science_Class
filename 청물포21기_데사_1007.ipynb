{
  "nbformat": 4,
  "nbformat_minor": 0,
  "metadata": {
    "colab": {
      "name": "청물포21기_데사_1007",
      "provenance": [],
      "collapsed_sections": [],
      "authorship_tag": "ABX9TyMZP8tMo0HyXDfTp42TfbMK",
      "include_colab_link": true
    },
    "kernelspec": {
      "name": "python3",
      "display_name": "Python 3"
    },
    "language_info": {
      "name": "python"
    }
  },
  "cells": [
    {
      "cell_type": "markdown",
      "metadata": {
        "id": "view-in-github",
        "colab_type": "text"
      },
      "source": [
        "<a href=\"https://colab.research.google.com/github/SEJUNTONY/Data_Science_Class/blob/main/%EC%B2%AD%EB%AC%BC%ED%8F%AC21%EA%B8%B0_%EB%8D%B0%EC%82%AC_1007.ipynb\" target=\"_parent\"><img src=\"https://colab.research.google.com/assets/colab-badge.svg\" alt=\"Open In Colab\"/></a>"
      ]
    },
    {
      "cell_type": "markdown",
      "metadata": {
        "id": "6IoYSAM-rmXS"
      },
      "source": [
        "# 청물포 21기 데이터 사이언스 5주차 (10월 7일 목요일)\n",
        "##### 문자열, 리스트, 딕셔너리, 조건문, 반복문 복습 및 함수"
      ]
    },
    {
      "cell_type": "markdown",
      "metadata": {
        "id": "FbuEJf4usnau"
      },
      "source": [
        "## 1. 리스트 및 문자열"
      ]
    },
    {
      "cell_type": "markdown",
      "metadata": {
        "id": "Z1cmI0wEs0XY"
      },
      "source": [
        "#### ① 리스트는 칸의 개념으로 보자 (대괄호 활용)"
      ]
    },
    {
      "cell_type": "code",
      "metadata": {
        "id": "6l_orOYDrMwy",
        "colab": {
          "base_uri": "https://localhost:8080/"
        },
        "outputId": "04843016-1fe7-4bbd-9d4d-e63e94d63234"
      },
      "source": [
        "a = [10,20,30,40,50]\n",
        "# 칸의 개념이라 생각하면 된다.\n",
        "# 대신, 리스트의 경우, 1번째 칸이 아닌 0번째 칸부터 시작\n",
        "# 0번째 칸 : 10, 1번째 칸 : 20, 2번째 칸 : 30, 3번째 칸 : 40, 4번째 칸 : 50\n",
        "\n",
        "a[0]\n",
        "# a라는 리스트에 0번째 칸에 있는 자료를 가져온다.\n",
        "\n",
        "a[1:3]\n",
        "# a라는 리스트에 1번째 칸부터 3번째 칸까지의 자료를 가져온다.\n",
        "\n",
        "a[3:]\n",
        "# a라는 리스트에 3번째 칸부터 끝까지의 자료를 가져온다."
      ],
      "execution_count": 14,
      "outputs": [
        {
          "output_type": "execute_result",
          "data": {
            "text/plain": [
              "[40, 50]"
            ]
          },
          "metadata": {},
          "execution_count": 14
        }
      ]
    },
    {
      "cell_type": "markdown",
      "metadata": {
        "id": "hBJsw0AEta56"
      },
      "source": [
        "#### ② 문자열도 칸의 개념과 비슷하다 (큰따옴표 활용)\n"
      ]
    },
    {
      "cell_type": "code",
      "metadata": {
        "id": "jDPYwzBctO3e",
        "colab": {
          "base_uri": "https://localhost:8080/",
          "height": 36
        },
        "outputId": "3f855daf-b783-45bd-d591-d87e4e4b1250"
      },
      "source": [
        "s = \"파이썬최고\"\n",
        "# 칸의 개념이라 생각하면 된다.\n",
        "# 마찬가지로 문자열의 경우, 1번째 칸이 아닌 0번째 칸부터 시작\n",
        "# 0번째 칸 : 파, 1번째 칸 : 이, 2번째 칸 : 썬, 3번째 칸 : 최, 4번째 칸 : 고\n",
        "\n",
        "s[0]\n",
        "# s라는 문자열에 0번째 칸에 있는 자료를 가져온다.\n",
        "\n",
        "s[1:3]\n",
        "# s라는 문자열에 1번째 칸부터 3번째 칸까지의 자료를 가져온다.\n",
        "\n",
        "s[3:]\n",
        "# s라는 문자열에 3번째 칸부터 끝까지의 자료를 가져온다."
      ],
      "execution_count": 15,
      "outputs": [
        {
          "output_type": "execute_result",
          "data": {
            "application/vnd.google.colaboratory.intrinsic+json": {
              "type": "string"
            },
            "text/plain": [
              "'최고'"
            ]
          },
          "metadata": {},
          "execution_count": 15
        }
      ]
    },
    {
      "cell_type": "markdown",
      "metadata": {
        "id": "OMkrfEKtKkCc"
      },
      "source": [
        "#### ③ 문자열끼리, 리스트끼리 연결 가능, 곱하기 기호 사용 가능\n"
      ]
    },
    {
      "cell_type": "code",
      "metadata": {
        "id": "6x_O7tAWts_9",
        "colab": {
          "base_uri": "https://localhost:8080/",
          "height": 36
        },
        "outputId": "4e88d2c9-244b-44f9-fd9a-bb0f339c6317"
      },
      "source": [
        "# 문자열끼리 연결 가능\n",
        "ss = '파이썬' + '최고'\n",
        "ss"
      ],
      "execution_count": 16,
      "outputs": [
        {
          "output_type": "execute_result",
          "data": {
            "application/vnd.google.colaboratory.intrinsic+json": {
              "type": "string"
            },
            "text/plain": [
              "'파이썬최고'"
            ]
          },
          "metadata": {},
          "execution_count": 16
        }
      ]
    },
    {
      "cell_type": "code",
      "metadata": {
        "id": "soZOSb9ottMG",
        "colab": {
          "base_uri": "https://localhost:8080/"
        },
        "outputId": "a47ca62b-c5e6-42ff-93be-9e8863841d8b"
      },
      "source": [
        "# 리스트끼리 연결 가능\n",
        "aa = [0,1,2] + [3,4,5]\n",
        "aa"
      ],
      "execution_count": 17,
      "outputs": [
        {
          "output_type": "execute_result",
          "data": {
            "text/plain": [
              "[0, 1, 2, 3, 4, 5]"
            ]
          },
          "metadata": {},
          "execution_count": 17
        }
      ]
    },
    {
      "cell_type": "code",
      "metadata": {
        "id": "L7y1utpettTL",
        "colab": {
          "base_uri": "https://localhost:8080/",
          "height": 36
        },
        "outputId": "e6287edf-7433-41a8-edf5-d0bb821af172"
      },
      "source": [
        "# 곱하기 기호 사용 가능\n",
        "sss = '파이썬' * 3\n",
        "sss"
      ],
      "execution_count": 18,
      "outputs": [
        {
          "output_type": "execute_result",
          "data": {
            "application/vnd.google.colaboratory.intrinsic+json": {
              "type": "string"
            },
            "text/plain": [
              "'파이썬파이썬파이썬'"
            ]
          },
          "metadata": {},
          "execution_count": 18
        }
      ]
    },
    {
      "cell_type": "markdown",
      "metadata": {
        "id": "-RBBdN8gLdfJ"
      },
      "source": [
        "#### ④ 문자열의 길이\n"
      ]
    },
    {
      "cell_type": "code",
      "metadata": {
        "colab": {
          "base_uri": "https://localhost:8080/"
        },
        "id": "_R7jeAyMLjQ3",
        "outputId": "eae619d9-f4f9-4eab-a552-0e4e9776820d"
      },
      "source": [
        "ssss = '파이썬abcd'\n",
        "len(ssss)"
      ],
      "execution_count": 19,
      "outputs": [
        {
          "output_type": "execute_result",
          "data": {
            "text/plain": [
              "7"
            ]
          },
          "metadata": {},
          "execution_count": 19
        }
      ]
    },
    {
      "cell_type": "markdown",
      "metadata": {
        "id": "vGSCch0bt-2P"
      },
      "source": [
        "## 2. 딕셔너리"
      ]
    },
    {
      "cell_type": "markdown",
      "metadata": {
        "id": "bDDncmCmuH0o"
      },
      "source": [
        "#### ① 쌍 2개가 하나로 묶인 자료구조 (중괄호로 묶어서 구성)\n",
        "\n",
        "\n"
      ]
    },
    {
      "cell_type": "code",
      "metadata": {
        "id": "B7YxEFbkuE73",
        "colab": {
          "base_uri": "https://localhost:8080/"
        },
        "outputId": "71a03d18-25a3-4d55-f20d-7aa84ee5cb25"
      },
      "source": [
        "# 딕셔너리변수 = {키1:값1, 키2:값2, 키3:값3}\n",
        "dic1 = {1:'a', 2:'b', 3:'c'}\n",
        "dic1"
      ],
      "execution_count": 20,
      "outputs": [
        {
          "output_type": "execute_result",
          "data": {
            "text/plain": [
              "{1: 'a', 2: 'b', 3: 'c'}"
            ]
          },
          "metadata": {},
          "execution_count": 20
        }
      ]
    },
    {
      "cell_type": "code",
      "metadata": {
        "id": "LhGRNjDzudbz",
        "colab": {
          "base_uri": "https://localhost:8080/"
        },
        "outputId": "10702395-1290-40c5-fdd2-5ac751f5956b"
      },
      "source": [
        "# 키와 값을 반대로 설정도 가능\n",
        "# 딕셔너리변수 = {값:키1, 값2:키2, 값3:키3}\n",
        "dic2 = {'a':1, 'b':2, 'c':3}\n",
        "dic2"
      ],
      "execution_count": 21,
      "outputs": [
        {
          "output_type": "execute_result",
          "data": {
            "text/plain": [
              "{'a': 1, 'b': 2, 'c': 3}"
            ]
          },
          "metadata": {},
          "execution_count": 21
        }
      ]
    },
    {
      "cell_type": "markdown",
      "metadata": {
        "id": "iIgXPSOaTKdE"
      },
      "source": [
        "#### ② 딕셔너리 키 값 추가"
      ]
    },
    {
      "cell_type": "code",
      "metadata": {
        "colab": {
          "base_uri": "https://localhost:8080/"
        },
        "id": "Tfa4WEVrTRDs",
        "outputId": "76923124-9a7b-4d1e-be66-22df32758b9c"
      },
      "source": [
        "student1 = {'학번':2018, '이름': '박세준', '학과' : '물류'}\n",
        "student1"
      ],
      "execution_count": 22,
      "outputs": [
        {
          "output_type": "execute_result",
          "data": {
            "text/plain": [
              "{'이름': '박세준', '학과': '물류', '학번': 2018}"
            ]
          },
          "metadata": {},
          "execution_count": 22
        }
      ]
    },
    {
      "cell_type": "code",
      "metadata": {
        "colab": {
          "base_uri": "https://localhost:8080/"
        },
        "id": "hgyZkz-WzLaA",
        "outputId": "1a869147-3a02-47c6-c372-50df86b199ab"
      },
      "source": [
        "student1['연락처']='010-1234-5678'\n",
        "student1"
      ],
      "execution_count": 23,
      "outputs": [
        {
          "output_type": "execute_result",
          "data": {
            "text/plain": [
              "{'연락처': '010-1234-5678', '이름': '박세준', '학과': '물류', '학번': 2018}"
            ]
          },
          "metadata": {},
          "execution_count": 23
        }
      ]
    },
    {
      "cell_type": "code",
      "metadata": {
        "colab": {
          "base_uri": "https://localhost:8080/"
        },
        "id": "a5pcN09qzapA",
        "outputId": "4ee90ae3-3028-4c40-d395-680b55443274"
      },
      "source": [
        "student1['학과']='물류학과'\n",
        "student1"
      ],
      "execution_count": 24,
      "outputs": [
        {
          "output_type": "execute_result",
          "data": {
            "text/plain": [
              "{'연락처': '010-1234-5678', '이름': '박세준', '학과': '물류학과', '학번': 2018}"
            ]
          },
          "metadata": {},
          "execution_count": 24
        }
      ]
    },
    {
      "cell_type": "markdown",
      "metadata": {
        "id": "biE-_LbPTxic"
      },
      "source": [
        "#### ③ 딕셔너리의 키는 유일해야 한다"
      ]
    },
    {
      "cell_type": "code",
      "metadata": {
        "colab": {
          "base_uri": "https://localhost:8080/"
        },
        "id": "jfMq7by2Tsvr",
        "outputId": "00c1a51a-894d-4a31-b21f-35052e50f8b2"
      },
      "source": [
        "student1 = {'학번':2018, '이름': '박세준', '학과' : '물류', '학번': 2017}\n",
        "student1"
      ],
      "execution_count": 25,
      "outputs": [
        {
          "output_type": "execute_result",
          "data": {
            "text/plain": [
              "{'이름': '박세준', '학과': '물류', '학번': 2017}"
            ]
          },
          "metadata": {},
          "execution_count": 25
        }
      ]
    },
    {
      "cell_type": "markdown",
      "metadata": {
        "id": "s34DweUfUAxK"
      },
      "source": [
        "#### ④ 딕셔너리명.get(키) : 값에 접근 가능"
      ]
    },
    {
      "cell_type": "code",
      "metadata": {
        "colab": {
          "base_uri": "https://localhost:8080/",
          "height": 36
        },
        "id": "1201Pt2aTlAx",
        "outputId": "5846e8ef-d405-4a44-ee88-146f73b8b5fe"
      },
      "source": [
        "student1.get('이름')"
      ],
      "execution_count": 26,
      "outputs": [
        {
          "output_type": "execute_result",
          "data": {
            "application/vnd.google.colaboratory.intrinsic+json": {
              "type": "string"
            },
            "text/plain": [
              "'박세준'"
            ]
          },
          "metadata": {},
          "execution_count": 26
        }
      ]
    },
    {
      "cell_type": "markdown",
      "metadata": {
        "id": "RQCF5IOUz6vF"
      },
      "source": [
        "## 3. 조건문"
      ]
    },
    {
      "cell_type": "markdown",
      "metadata": {
        "id": "j94uYKnpUfCE"
      },
      "source": [
        "#### ① if문이 참일때 무언가를 실행하고, 거짓일 때는 실행하지 않는다"
      ]
    },
    {
      "cell_type": "code",
      "metadata": {
        "id": "pBV71wLrUuZq",
        "colab": {
          "base_uri": "https://localhost:8080/"
        },
        "outputId": "b78b3f1a-bdf3-4051-dc64-a35eda8bc91d"
      },
      "source": [
        "a = 99\n",
        "if a < 100 :\n",
        "    print(\"100보다 작습니다.\")"
      ],
      "execution_count": 27,
      "outputs": [
        {
          "output_type": "stream",
          "name": "stdout",
          "text": [
            "100보다 작습니다.\n"
          ]
        }
      ]
    },
    {
      "cell_type": "code",
      "metadata": {
        "colab": {
          "base_uri": "https://localhost:8080/"
        },
        "id": "UKJ2f-WlU0LS",
        "outputId": "7052ac03-8909-471c-b508-4f3a639154a8"
      },
      "source": [
        "a = 101\n",
        "if a < 100 :\n",
        "    print(\"100보다 작습니다.\")\n",
        "print(\"거짓이기 때문에 문장이 안보이겠군요\")"
      ],
      "execution_count": 28,
      "outputs": [
        {
          "output_type": "stream",
          "name": "stdout",
          "text": [
            "거짓이기 때문에 문장이 안보이겠군요\n"
          ]
        }
      ]
    },
    {
      "cell_type": "code",
      "metadata": {
        "id": "c8o_3C1FU93D",
        "colab": {
          "base_uri": "https://localhost:8080/"
        },
        "outputId": "662953fd-f2d1-4625-de42-2cc946c2ba75"
      },
      "source": [
        "# 조건이 거짓일 때 출력물 설정\n",
        "a = 101\n",
        "if a < 100 :\n",
        "    print(\"100보다 작습니다.\")\n",
        "else :\n",
        "    print(\"거짓이기 때문에 문장이 안보이겠군요\")"
      ],
      "execution_count": 29,
      "outputs": [
        {
          "output_type": "stream",
          "name": "stdout",
          "text": [
            "거짓이기 때문에 문장이 안보이겠군요\n"
          ]
        }
      ]
    },
    {
      "cell_type": "code",
      "metadata": {
        "colab": {
          "base_uri": "https://localhost:8080/"
        },
        "id": "UvPAyvza1JI3",
        "outputId": "216235e0-c506-48e9-da73-24271ceae38f"
      },
      "source": [
        "a = int(input(\"정수를 입력하세요 : \"))\n",
        "if a < 100 :\n",
        "    print(\"100보다 작습니다.\")\n",
        "else :\n",
        "    print(\"거짓이기 때문에 문장이 안보이겠군요\")"
      ],
      "execution_count": 30,
      "outputs": [
        {
          "output_type": "stream",
          "name": "stdout",
          "text": [
            "정수를 입력하세요 : 99\n",
            "100보다 작습니다.\n"
          ]
        }
      ]
    },
    {
      "cell_type": "markdown",
      "metadata": {
        "id": "8XR78TnQ1Y0y"
      },
      "source": [
        "#### ② elif : 조건을 여러개 설정하고 싶을 때"
      ]
    },
    {
      "cell_type": "code",
      "metadata": {
        "colab": {
          "base_uri": "https://localhost:8080/"
        },
        "id": "O6ttRvyv1UiD",
        "outputId": "792cf775-1c88-431c-b246-a10ee00ff14c"
      },
      "source": [
        "# elif : 조건을 열\n",
        "a = 101\n",
        "if a < 100 :\n",
        "    print(\"100보다 작습니다.\")\n",
        "elif a >= 100 and a < 200 :\n",
        "    print(\"거짓이기 때문에 문장이 안보이겠군요\")"
      ],
      "execution_count": 31,
      "outputs": [
        {
          "output_type": "stream",
          "name": "stdout",
          "text": [
            "거짓이기 때문에 문장이 안보이겠군요\n"
          ]
        }
      ]
    },
    {
      "cell_type": "markdown",
      "metadata": {
        "id": "STT0i24B13kZ"
      },
      "source": [
        "## 4. 반복문"
      ]
    },
    {
      "cell_type": "markdown",
      "metadata": {
        "id": "KoVRS2YVVLmE"
      },
      "source": [
        "#### ① 반복문의 개념 : 여러번을 반복한다 (for문 사용)"
      ]
    },
    {
      "cell_type": "code",
      "metadata": {
        "colab": {
          "base_uri": "https://localhost:8080/"
        },
        "id": "E70n4cGpVDrv",
        "outputId": "a7960ff3-48bb-4daf-ab16-07bd20cea1c0"
      },
      "source": [
        "# for 변수 in range (시작값, 끝값+1, 증가값)\n",
        "# 증가값의 기본값은 1이기에, 증가값을 1로 두고 싶을 때에는 생략해도 된다\n",
        "# 반복할 변수를 초기 설정 하지 않아도 된다.\n",
        "\n",
        "for i in range(0,3,1) :\n",
        "    print(\"안녕하세요. 21기 청물포입니다.\")"
      ],
      "execution_count": 32,
      "outputs": [
        {
          "output_type": "stream",
          "name": "stdout",
          "text": [
            "안녕하세요. 21기 청물포입니다.\n",
            "안녕하세요. 21기 청물포입니다.\n",
            "안녕하세요. 21기 청물포입니다.\n"
          ]
        }
      ]
    },
    {
      "cell_type": "markdown",
      "metadata": {
        "id": "QpYRRSnJ2ebA"
      },
      "source": [
        "#### ② 반복문 내 변수를 직접 활용할 수 있다"
      ]
    },
    {
      "cell_type": "code",
      "metadata": {
        "colab": {
          "base_uri": "https://localhost:8080/"
        },
        "id": "V-6lI9lB2mEQ",
        "outputId": "217e97f4-849f-471a-838e-61ae6df95aa3"
      },
      "source": [
        "for i in range(0,3,1) :\n",
        "    print(\"%d\" % i)"
      ],
      "execution_count": 33,
      "outputs": [
        {
          "output_type": "stream",
          "name": "stdout",
          "text": [
            "0\n",
            "1\n",
            "2\n"
          ]
        }
      ]
    },
    {
      "cell_type": "markdown",
      "metadata": {
        "id": "qEu9nu8i23e5"
      },
      "source": [
        "#### ③ While 문 : ~인 상황일 때 조건을 계속 실행시킨다."
      ]
    },
    {
      "cell_type": "code",
      "metadata": {
        "colab": {
          "base_uri": "https://localhost:8080/"
        },
        "id": "GMXceAQJ3CrL",
        "outputId": "2a73309c-98e3-4071-f9be-9cce3b96a3c0"
      },
      "source": [
        "i = 0\n",
        "while i < 3 :\n",
        "    print(\"안녕하세요. 청물포 21기 입니다.\")\n",
        "    i = i + 1"
      ],
      "execution_count": 34,
      "outputs": [
        {
          "output_type": "stream",
          "name": "stdout",
          "text": [
            "안녕하세요. 청물포 21기 입니다.\n",
            "안녕하세요. 청물포 21기 입니다.\n",
            "안녕하세요. 청물포 21기 입니다.\n"
          ]
        }
      ]
    },
    {
      "cell_type": "code",
      "metadata": {
        "id": "CGCQJvQ33PMO"
      },
      "source": [
        "# While True : 무한반복\n",
        "# break : 무조건 반복문 밖으로 탈출\n",
        "# continue : 무조건 끝으로 건너뛴 후 다시 반복문으로 돌아감\n"
      ],
      "execution_count": 35,
      "outputs": []
    },
    {
      "cell_type": "markdown",
      "metadata": {
        "id": "_9EUhxsq88C5"
      },
      "source": [
        "## 5. 함수"
      ]
    },
    {
      "cell_type": "markdown",
      "metadata": {
        "id": "yreKulsM9Mgx"
      },
      "source": [
        "#### ① 기본구조 def 함수명(변수)"
      ]
    },
    {
      "cell_type": "code",
      "metadata": {
        "colab": {
          "base_uri": "https://localhost:8080/"
        },
        "id": "5hLZDLz19KxA",
        "outputId": "4debce59-4679-49f4-869f-00eaf01eeef6"
      },
      "source": [
        "## 전역 변수 선언 ##\n",
        "hello = 0\n",
        "\n",
        "## 함수 선언 부분 ##\n",
        "def test(click) :\n",
        "    if click == 1 :\n",
        "        print(\"청물포 21기에 오신 여러분을 환영합니다\")\n",
        "    elif click == 2 :\n",
        "        print(\"안녕\")\n",
        "    elif click > 2 :\n",
        "        print(\"탈퇴하세요.\")\n",
        "\n",
        "## 메인 코드 부분 ##\n",
        "hello = int(input(\"숫자를 입력해주세요.\"))\n",
        "test(hello)\n",
        "print(\"끝\")"
      ],
      "execution_count": 36,
      "outputs": [
        {
          "output_type": "stream",
          "name": "stdout",
          "text": [
            "숫자를 입력해주세요.1\n",
            "청물포 21기에 오신 여러분을 환영합니다\n",
            "끝\n"
          ]
        }
      ]
    },
    {
      "cell_type": "markdown",
      "metadata": {
        "id": "guH3F_q0-GQu"
      },
      "source": [
        "#### ② 변수를 2개 이상 설정도 가능하다\n"
      ]
    },
    {
      "cell_type": "code",
      "metadata": {
        "colab": {
          "base_uri": "https://localhost:8080/"
        },
        "id": "jpVaR1UT-LkT",
        "outputId": "9cd42f52-d083-4db1-9715-2da7e7b1f1f2"
      },
      "source": [
        "## 전역 변수 선언 ##\n",
        "hello = 0\n",
        "\n",
        "## 함수 선언 부분 ##\n",
        "def test(click1, click2) :\n",
        "    if click1 == 1 and click2 == 0:\n",
        "        print(\"청물포 21기에 오신 여러분을 환영합니다\")\n",
        "    elif click1 == 2 and click2 == 0 :\n",
        "        print(\"안녕\")\n",
        "    elif click1 > 2 and click2 == 0 :\n",
        "        print(\"탈퇴하세요.\")\n",
        "\n",
        "## 메인 코드 부분 ##\n",
        "hello = int(input(\"숫자를 입력해주세요.\"))\n",
        "test(hello,0)\n",
        "print(\"끝\")"
      ],
      "execution_count": 37,
      "outputs": [
        {
          "output_type": "stream",
          "name": "stdout",
          "text": [
            "숫자를 입력해주세요.1\n",
            "청물포 21기에 오신 여러분을 환영합니다\n",
            "끝\n"
          ]
        }
      ]
    },
    {
      "cell_type": "markdown",
      "metadata": {
        "id": "FopTjbcN-gcg"
      },
      "source": [
        "#### ③ 함수 내 return 문 : 어떤 값을 결과값으로 가져온다"
      ]
    },
    {
      "cell_type": "code",
      "metadata": {
        "colab": {
          "base_uri": "https://localhost:8080/"
        },
        "id": "3FCDu48s-oBw",
        "outputId": "62ef82e9-fae6-4fe2-8e1e-9715d5ee4235"
      },
      "source": [
        "## 전역 변수 선언 ##\n",
        "hello = 0\n",
        "bye = 0\n",
        "\n",
        "## 함수 선언 부분 ##\n",
        "def test(click) :\n",
        "    if click == 1 :\n",
        "        return 3\n",
        "    else :\n",
        "        return 5\n",
        "\n",
        "## 메인 코드 부분 ##\n",
        "hello = int(input(\"숫자를 입력해주세요.\"))\n",
        "bye = test(hello)\n",
        "print(bye)"
      ],
      "execution_count": 38,
      "outputs": [
        {
          "output_type": "stream",
          "name": "stdout",
          "text": [
            "숫자를 입력해주세요.1\n",
            "3\n"
          ]
        }
      ]
    },
    {
      "cell_type": "markdown",
      "metadata": {
        "id": "DJ3x8Kjn_GG4"
      },
      "source": [
        "## 연습문제"
      ]
    },
    {
      "cell_type": "markdown",
      "metadata": {
        "id": "SY43ccPH_KKN"
      },
      "source": [
        "#### 1. 변수 두개를 입력받아 그 곱을 구하는 함수를 만드시오."
      ]
    },
    {
      "cell_type": "markdown",
      "metadata": {
        "id": "XqYjxzxo_sWZ"
      },
      "source": [
        "#### 2. 사용자로부터 숫자를 3개 입력하고 입력한 숫자의 합계를 구하는 코드를 for 문으로 완성하시오."
      ]
    },
    {
      "cell_type": "markdown",
      "metadata": {
        "id": "Ha0Y_bnW_7U3"
      },
      "source": [
        "#### 3. 커피머신 내 알고리즘을 파이썬을 통해 만드려 한다. 사용자가 1을 입력하면 \"환영합니다.\", 2를 입력하면 \"원하시는 커피를 선택해주세요.\", 그 외 숫자를 입력하면 \"감사합니다.\"가 출력되도록 함수를 이용해 코드를 완성하시오."
      ]
    }
  ]
}