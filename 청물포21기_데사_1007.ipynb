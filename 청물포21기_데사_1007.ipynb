{
  "nbformat": 4,
  "nbformat_minor": 0,
  "metadata": {
    "colab": {
      "name": "청물포21기_데사_1007",
      "provenance": [],
      "collapsed_sections": [],
      "authorship_tag": "ABX9TyMZP8tMo0HyXDfTp42TfbMK",
      "include_colab_link": true
    },
    "kernelspec": {
      "name": "python3",
      "display_name": "Python 3"
    },
    "language_info": {
      "name": "python"
    }
  },
  "cells": [
    {
      "cell_type": "markdown",
      "metadata": {
        "id": "view-in-github",
        "colab_type": "text"
      },
      "source": [
        "<a href=\"https://colab.research.google.com/github/SEJUNTONY/Data_Science_Class/blob/main/%EC%B2%AD%EB%AC%BC%ED%8F%AC21%EA%B8%B0_%EB%8D%B0%EC%82%AC_1007.ipynb\" target=\"_parent\"><img src=\"https://colab.research.google.com/assets/colab-badge.svg\" alt=\"Open In Colab\"/></a>"
      ]
    },
    {
      "cell_type": "markdown",
      "metadata": {
        "id": "6IoYSAM-rmXS"
      },
      "source": [
        "# 청물포 21기 데이터 사이언스 5주차 (10월 7일 목요일)\n",
        "##### 문자열, 리스트, 딕셔너리, 조건문, 반복문 복습 및 함수"
      ]
    },
    {
      "cell_type": "markdown",
      "metadata": {
        "id": "FbuEJf4usnau"
      },
      "source": [
        "## 1. 리스트 및 문자열"
      ]
    },
    {
      "cell_type": "markdown",
      "metadata": {
        "id": "Z1cmI0wEs0XY"
      },
      "source": [
        "#### ① 리스트는 칸의 개념으로 보자 (대괄호 활용)"
      ]
    },
    {
      "cell_type": "code",
      "metadata": {
        "id": "6l_orOYDrMwy",
        "colab": {
          "base_uri": "https://localhost:8080/"
        },
        "outputId": "33a725a0-be2a-4bff-d6e5-1f294b234afb"
      },
      "source": [
        "a = [10,20,30,40,50]\n",
        "# 칸의 개념이라 생각하면 된다.\n",
        "# 대신, 리스트의 경우, 1번째 칸이 아닌 0번째 칸부터 시작\n",
        "# 0번째 칸 : 10, 1번째 칸 : 20, 2번째 칸 : 30, 3번째 칸 : 40, 4번째 칸 : 50\n",
        "\n",
        "a[0]\n",
        "# a라는 리스트에 0번째 칸에 있는 자료를 가져온다.\n",
        "\n",
        "a[1:3]\n",
        "# a라는 리스트에 1번째 칸부터 3번째 칸까지의 자료를 가져온다.\n",
        "\n",
        "a[3:]\n",
        "# a라는 리스트에 3번째 칸부터 끝까지의 자료를 가져온다."
      ],
      "execution_count": null,
      "outputs": [
        {
          "output_type": "execute_result",
          "data": {
            "text/plain": [
              "[40, 50]"
            ]
          },
          "metadata": {},
          "execution_count": 1
        }
      ]
    },
    {
      "cell_type": "markdown",
      "metadata": {
        "id": "hBJsw0AEta56"
      },
      "source": [
        "#### ② 문자열도 칸의 개념과 비슷하다 (큰따옴표 활용)\n"
      ]
    },
    {
      "cell_type": "code",
      "metadata": {
        "id": "jDPYwzBctO3e",
        "colab": {
          "base_uri": "https://localhost:8080/",
          "height": 36
        },
        "outputId": "547aa1e4-fd87-4d0a-9ea2-cc81673f8256"
      },
      "source": [
        "s = \"파이썬최고\"\n",
        "# 칸의 개념이라 생각하면 된다.\n",
        "# 마찬가지로 문자열의 경우, 1번째 칸이 아닌 0번째 칸부터 시작\n",
        "# 0번째 칸 : 파, 1번째 칸 : 이, 2번째 칸 : 썬, 3번째 칸 : 최, 4번째 칸 : 고\n",
        "\n",
        "s[0]\n",
        "# s라는 문자열에 0번째 칸에 있는 자료를 가져온다.\n",
        "\n",
        "s[1:3]\n",
        "# s라는 문자열에 1번째 칸부터 3번째 칸까지의 자료를 가져온다.\n",
        "\n",
        "s[3:]\n",
        "# s라는 문자열에 3번째 칸부터 끝까지의 자료를 가져온다."
      ],
      "execution_count": null,
      "outputs": [
        {
          "output_type": "execute_result",
          "data": {
            "application/vnd.google.colaboratory.intrinsic+json": {
              "type": "string"
            },
            "text/plain": [
              "'최고'"
            ]
          },
          "metadata": {},
          "execution_count": 2
        }
      ]
    },
    {
      "cell_type": "markdown",
      "metadata": {
        "id": "OMkrfEKtKkCc"
      },
      "source": [
        "#### ③ 문자열끼리, 리스트끼리 연결 가능, 곱하기 기호 사용 가능\n"
      ]
    },
    {
      "cell_type": "code",
      "metadata": {
        "id": "6x_O7tAWts_9",
        "colab": {
          "base_uri": "https://localhost:8080/",
          "height": 36
        },
        "outputId": "0b9b1299-88db-4962-856e-715f37df35c5"
      },
      "source": [
        "# 문자열끼리 연결 가능\n",
        "ss = '파이썬' + '최고'\n",
        "ss"
      ],
      "execution_count": null,
      "outputs": [
        {
          "output_type": "execute_result",
          "data": {
            "application/vnd.google.colaboratory.intrinsic+json": {
              "type": "string"
            },
            "text/plain": [
              "'파이썬최고'"
            ]
          },
          "metadata": {},
          "execution_count": 3
        }
      ]
    },
    {
      "cell_type": "code",
      "metadata": {
        "id": "soZOSb9ottMG",
        "colab": {
          "base_uri": "https://localhost:8080/"
        },
        "outputId": "b260fd31-5966-4569-d0cf-04012f5d1a6a"
      },
      "source": [
        "# 리스트끼리 연결 가능\n",
        "aa = [0,1,2] + [3,4,5]\n",
        "aa"
      ],
      "execution_count": null,
      "outputs": [
        {
          "output_type": "execute_result",
          "data": {
            "text/plain": [
              "[0, 1, 2, 3, 4, 5]"
            ]
          },
          "metadata": {},
          "execution_count": 4
        }
      ]
    },
    {
      "cell_type": "code",
      "metadata": {
        "id": "L7y1utpettTL",
        "colab": {
          "base_uri": "https://localhost:8080/",
          "height": 36
        },
        "outputId": "dc48c182-1e9b-4c70-ca05-b0025242221f"
      },
      "source": [
        "# 곱하기 기호 사용 가능\n",
        "sss = '파이썬' * 3\n",
        "sss"
      ],
      "execution_count": null,
      "outputs": [
        {
          "output_type": "execute_result",
          "data": {
            "application/vnd.google.colaboratory.intrinsic+json": {
              "type": "string"
            },
            "text/plain": [
              "'파이썬파이썬파이썬'"
            ]
          },
          "metadata": {},
          "execution_count": 5
        }
      ]
    },
    {
      "cell_type": "markdown",
      "metadata": {
        "id": "-RBBdN8gLdfJ"
      },
      "source": [
        "#### ④ 문자열의 길이\n"
      ]
    },
    {
      "cell_type": "code",
      "metadata": {
        "colab": {
          "base_uri": "https://localhost:8080/"
        },
        "id": "_R7jeAyMLjQ3",
        "outputId": "27ca4bca-1d5d-44ae-ca6f-4e93f34fa56f"
      },
      "source": [
        "ssss = '파이썬abcd'\n",
        "len(ssss)"
      ],
      "execution_count": null,
      "outputs": [
        {
          "output_type": "execute_result",
          "data": {
            "text/plain": [
              "7"
            ]
          },
          "metadata": {},
          "execution_count": 6
        }
      ]
    },
    {
      "cell_type": "markdown",
      "metadata": {
        "id": "vGSCch0bt-2P"
      },
      "source": [
        "## 2. 딕셔너리"
      ]
    },
    {
      "cell_type": "markdown",
      "metadata": {
        "id": "bDDncmCmuH0o"
      },
      "source": [
        "#### ① 쌍 2개가 하나로 묶인 자료구조 (중괄호로 묶어서 구성)\n",
        "\n",
        "\n"
      ]
    },
    {
      "cell_type": "code",
      "metadata": {
        "id": "B7YxEFbkuE73",
        "colab": {
          "base_uri": "https://localhost:8080/"
        },
        "outputId": "b879a389-fb69-4558-c2a2-87b99693615a"
      },
      "source": [
        "# 딕셔너리변수 = {키1:값1, 키2:값2, 키3:값3}\n",
        "dic1 = {1:'a', 2:'b', 3:'c'}\n",
        "dic1"
      ],
      "execution_count": null,
      "outputs": [
        {
          "output_type": "execute_result",
          "data": {
            "text/plain": [
              "{1: 'a', 2: 'b', 3: 'c'}"
            ]
          },
          "metadata": {},
          "execution_count": 1
        }
      ]
    },
    {
      "cell_type": "code",
      "metadata": {
        "id": "LhGRNjDzudbz",
        "colab": {
          "base_uri": "https://localhost:8080/"
        },
        "outputId": "d51a6b2d-aaa9-402f-cb8c-855b0d4b98a2"
      },
      "source": [
        "# 키와 값을 반대로 설정도 가능\n",
        "# 딕셔너리변수 = {값:키1, 값2:키2, 값3:키3}\n",
        "dic2 = {'a':1, 'b':2, 'c':3}\n",
        "dic2"
      ],
      "execution_count": null,
      "outputs": [
        {
          "output_type": "stream",
          "name": "stdout",
          "text": [
            "2021\n"
          ]
        }
      ]
    },
    {
      "cell_type": "markdown",
      "metadata": {
        "id": "iIgXPSOaTKdE"
      },
      "source": [
        "#### ② 딕셔너리 키 값 추가"
      ]
    },
    {
      "cell_type": "code",
      "metadata": {
        "colab": {
          "base_uri": "https://localhost:8080/"
        },
        "id": "Tfa4WEVrTRDs",
        "outputId": "296fe119-f442-485d-bd2b-0c9500238c0d"
      },
      "source": [
        "student1 = {'학번':2018, '이름': '박세준', '학과' : '물류'}\n",
        "student1"
      ],
      "execution_count": 1,
      "outputs": [
        {
          "output_type": "execute_result",
          "data": {
            "text/plain": [
              "{'이름': '박세준', '학과': '물류', '학번': 2018}"
            ]
          },
          "metadata": {},
          "execution_count": 1
        }
      ]
    },
    {
      "cell_type": "code",
      "metadata": {
        "colab": {
          "base_uri": "https://localhost:8080/"
        },
        "id": "hgyZkz-WzLaA",
        "outputId": "135c2ae2-a9a5-4a79-8591-43accd839130"
      },
      "source": [
        "student1['연락처']='010-1234-5678'\n",
        "student1"
      ],
      "execution_count": 2,
      "outputs": [
        {
          "output_type": "execute_result",
          "data": {
            "text/plain": [
              "{'연락처': '010-1234-5678', '이름': '박세준', '학과': '물류', '학번': 2018}"
            ]
          },
          "metadata": {},
          "execution_count": 2
        }
      ]
    },
    {
      "cell_type": "code",
      "metadata": {
        "colab": {
          "base_uri": "https://localhost:8080/"
        },
        "id": "a5pcN09qzapA",
        "outputId": "dbbe63f8-72ee-49db-c4ba-c7583c5c3018"
      },
      "source": [
        "student1['학과']='물류학과'\n",
        "student1"
      ],
      "execution_count": 3,
      "outputs": [
        {
          "output_type": "execute_result",
          "data": {
            "text/plain": [
              "{'연락처': '010-1234-5678', '이름': '박세준', '학과': '물류학과', '학번': 2018}"
            ]
          },
          "metadata": {},
          "execution_count": 3
        }
      ]
    },
    {
      "cell_type": "markdown",
      "metadata": {
        "id": "biE-_LbPTxic"
      },
      "source": [
        "#### ③ 딕셔너리의 키는 유일해야 한다"
      ]
    },
    {
      "cell_type": "code",
      "metadata": {
        "colab": {
          "base_uri": "https://localhost:8080/"
        },
        "id": "jfMq7by2Tsvr",
        "outputId": "f77a14b3-8829-4539-f019-5d1de0c1b271"
      },
      "source": [
        "student1 = {'학번':2018, '이름': '박세준', '학과' : '물류', '학번': 2017}\n",
        "student1"
      ],
      "execution_count": 4,
      "outputs": [
        {
          "output_type": "execute_result",
          "data": {
            "text/plain": [
              "{'이름': '박세준', '학과': '물류', '학번': 2017}"
            ]
          },
          "metadata": {},
          "execution_count": 4
        }
      ]
    },
    {
      "cell_type": "markdown",
      "metadata": {
        "id": "s34DweUfUAxK"
      },
      "source": [
        "#### ④ 딕셔너리명.get(키) : 값에 접근 가능"
      ]
    },
    {
      "cell_type": "code",
      "metadata": {
        "colab": {
          "base_uri": "https://localhost:8080/",
          "height": 36
        },
        "id": "1201Pt2aTlAx",
        "outputId": "af51aac4-2812-4a3b-f0af-2a5a395b69b0"
      },
      "source": [
        "student1.get('이름')"
      ],
      "execution_count": 5,
      "outputs": [
        {
          "output_type": "execute_result",
          "data": {
            "application/vnd.google.colaboratory.intrinsic+json": {
              "type": "string"
            },
            "text/plain": [
              "'박세준'"
            ]
          },
          "metadata": {},
          "execution_count": 5
        }
      ]
    },
    {
      "cell_type": "markdown",
      "metadata": {
        "id": "RQCF5IOUz6vF"
      },
      "source": [
        "## 3. 조건문"
      ]
    },
    {
      "cell_type": "markdown",
      "metadata": {
        "id": "j94uYKnpUfCE"
      },
      "source": [
        "#### ① if문이 참일때 무언가를 실행하고, 거짓일 때는 실행하지 않는다"
      ]
    },
    {
      "cell_type": "code",
      "metadata": {
        "id": "pBV71wLrUuZq",
        "colab": {
          "base_uri": "https://localhost:8080/"
        },
        "outputId": "616494b6-4c9d-45e5-e3cf-e9568cfd8363"
      },
      "source": [
        "a = 99\n",
        "if a < 100 :\n",
        "    print(\"100보다 작습니다.\")"
      ],
      "execution_count": null,
      "outputs": [
        {
          "output_type": "stream",
          "name": "stdout",
          "text": [
            "안녕하세요. 청물포 연습입니다.\n"
          ]
        }
      ]
    },
    {
      "cell_type": "code",
      "metadata": {
        "colab": {
          "base_uri": "https://localhost:8080/"
        },
        "id": "UKJ2f-WlU0LS",
        "outputId": "f2d4a5dc-fb1d-42d7-d6d0-d196057696d9"
      },
      "source": [
        "a = 101\n",
        "if a < 100 :\n",
        "    print(\"100보다 작습니다.\")\n",
        "print(\"거짓이기 때문에 문장이 안보이겠군요\")"
      ],
      "execution_count": null,
      "outputs": [
        {
          "output_type": "stream",
          "name": "stdout",
          "text": [
            "100\n",
            "100\n",
            "1000\n"
          ]
        }
      ]
    },
    {
      "cell_type": "code",
      "metadata": {
        "id": "c8o_3C1FU93D",
        "colab": {
          "base_uri": "https://localhost:8080/"
        },
        "outputId": "63d8df3e-35a0-40f5-d39b-d466bd2c4c39"
      },
      "source": [
        "# 조건이 거짓일 때 출력물 설정\n",
        "a = 101\n",
        "if a < 100 :\n",
        "    print(\"100보다 작습니다.\")\n",
        "else :\n",
        "    print(\"거짓이기 때문에 문장이 안보이겠군요\")"
      ],
      "execution_count": null,
      "outputs": [
        {
          "output_type": "stream",
          "name": "stdout",
          "text": [
            "100\n",
            "100\n"
          ]
        }
      ]
    },
    {
      "cell_type": "code",
      "metadata": {
        "colab": {
          "base_uri": "https://localhost:8080/"
        },
        "id": "UvPAyvza1JI3",
        "outputId": "a5dd5f8d-8a71-4eaf-8d0c-34f4c86479a0"
      },
      "source": [
        "a = int(input(\"정수를 입력하세요 : \"))\n",
        "if a < 100 :\n",
        "    print(\"100보다 작습니다.\")\n",
        "else :\n",
        "    print(\"거짓이기 때문에 문장이 안보이겠군요\")"
      ],
      "execution_count": 6,
      "outputs": [
        {
          "output_type": "stream",
          "name": "stdout",
          "text": [
            "정수를 입력하세요 : 300\n",
            "거짓이기 때문에 문장이 안보이겠군요\n"
          ]
        }
      ]
    },
    {
      "cell_type": "markdown",
      "metadata": {
        "id": "8XR78TnQ1Y0y"
      },
      "source": [
        "#### ② elif : 조건을 여러개 설정하고 싶을 때"
      ]
    },
    {
      "cell_type": "code",
      "metadata": {
        "colab": {
          "base_uri": "https://localhost:8080/"
        },
        "id": "O6ttRvyv1UiD",
        "outputId": "91e78dd7-5e62-4c1a-c374-fa6076b123f4"
      },
      "source": [
        "# elif : 조건을 열\n",
        "a = 101\n",
        "if a < 100 :\n",
        "    print(\"100보다 작습니다.\")\n",
        "elif a >= 100 and a < 200 :\n",
        "    print(\"거짓이기 때문에 문장이 안보이겠군요\")"
      ],
      "execution_count": 7,
      "outputs": [
        {
          "output_type": "stream",
          "name": "stdout",
          "text": [
            "거짓이기 때문에 문장이 안보이겠군요\n"
          ]
        }
      ]
    },
    {
      "cell_type": "markdown",
      "metadata": {
        "id": "STT0i24B13kZ"
      },
      "source": [
        "## 4. 반복문"
      ]
    },
    {
      "cell_type": "markdown",
      "metadata": {
        "id": "KoVRS2YVVLmE"
      },
      "source": [
        "#### ① 반복문의 개념 : 여러번을 반복한다 (for문 사용)"
      ]
    },
    {
      "cell_type": "code",
      "metadata": {
        "colab": {
          "base_uri": "https://localhost:8080/"
        },
        "id": "E70n4cGpVDrv",
        "outputId": "7ea2d712-24a0-412c-853a-faddefc5266d"
      },
      "source": [
        "# for 변수 in range (시작값, 끝값+1, 증가값)\n",
        "# 증가값의 기본값은 1이기에, 증가값을 1로 두고 싶을 때에는 생략해도 된다\n",
        "# 반복할 변수를 초기 설정 하지 않아도 된다.\n",
        "\n",
        "for i in range(0,3,1) :\n",
        "    print(\"안녕하세요. 21기 청물포입니다.\")"
      ],
      "execution_count": null,
      "outputs": [
        {
          "output_type": "stream",
          "name": "stdout",
          "text": [
            "123\n",
            "123.450000\n",
            "a\n",
            "Python\n"
          ]
        }
      ]
    },
    {
      "cell_type": "markdown",
      "metadata": {
        "id": "QpYRRSnJ2ebA"
      },
      "source": [
        "#### ② 반복문 내 변수를 직접 활용할 수 있다"
      ]
    },
    {
      "cell_type": "code",
      "metadata": {
        "colab": {
          "base_uri": "https://localhost:8080/"
        },
        "id": "V-6lI9lB2mEQ",
        "outputId": "6c1bd598-4f78-4bb3-ae50-0349292b9899"
      },
      "source": [
        "for i in range(0,3,1) :\n",
        "    print(\"%d\" % i)"
      ],
      "execution_count": 9,
      "outputs": [
        {
          "output_type": "stream",
          "name": "stdout",
          "text": [
            "0\n",
            "1\n",
            "2\n"
          ]
        }
      ]
    },
    {
      "cell_type": "markdown",
      "metadata": {
        "id": "qEu9nu8i23e5"
      },
      "source": [
        "#### ③ While 문 : ~인 상황일 때 조건을 계속 실행시킨다."
      ]
    },
    {
      "cell_type": "code",
      "metadata": {
        "colab": {
          "base_uri": "https://localhost:8080/"
        },
        "id": "GMXceAQJ3CrL",
        "outputId": "cb2c889d-3823-4689-d3b5-3893db1670f4"
      },
      "source": [
        "i = 0\n",
        "while i < 3 :\n",
        "    print(\"안녕하세요. 청물포 21기 입니다.\")\n",
        "    i = i + 1"
      ],
      "execution_count": 10,
      "outputs": [
        {
          "output_type": "stream",
          "name": "stdout",
          "text": [
            "안녕하세요. 청물포 21기 입니다.\n",
            "안녕하세요. 청물포 21기 입니다.\n",
            "안녕하세요. 청물포 21기 입니다.\n"
          ]
        }
      ]
    },
    {
      "cell_type": "code",
      "metadata": {
        "colab": {
          "base_uri": "https://localhost:8080/"
        },
        "id": "CGCQJvQ33PMO",
        "outputId": "cb2c889d-3823-4689-d3b5-3893db1670f4"
      },
      "source": [
        "# While True : 무한반복\n",
        "# break : 무조건 반복문 밖으로 탈출\n",
        "# continue : 무조건 끝으로 건너뛴 후 다시 반복문으로 돌아감\n"
      ],
      "execution_count": null,
      "outputs": [
        {
          "output_type": "stream",
          "name": "stdout",
          "text": [
            "안녕하세요. 청물포 21기 입니다.\n",
            "안녕하세요. 청물포 21기 입니다.\n",
            "안녕하세요. 청물포 21기 입니다.\n"
          ]
        }
      ]
    },
    {
      "cell_type": "markdown",
      "metadata": {
        "id": "_9EUhxsq88C5"
      },
      "source": [
        "## 5. 함수"
      ]
    },
    {
      "cell_type": "markdown",
      "metadata": {
        "id": "yreKulsM9Mgx"
      },
      "source": [
        "#### ① 기본구조 def 함수명(변수)"
      ]
    },
    {
      "cell_type": "code",
      "metadata": {
        "colab": {
          "base_uri": "https://localhost:8080/"
        },
        "id": "5hLZDLz19KxA",
        "outputId": "cb2c889d-3823-4689-d3b5-3893db1670f4"
      },
      "source": [
        "## 전역 변수 선언 ##\n",
        "hello = 0\n",
        "\n",
        "## 함수 선언 부분 ##\n",
        "def test(click) :\n",
        "    if click == 1 :\n",
        "        print(\"청물포 21기에 오신 여러분을 환영합니다\")\n",
        "    elif click == 2 :\n",
        "        print(\"안녕\")\n",
        "    elif click > 2 :\n",
        "        print(\"탈퇴하세요.\")\n",
        "\n",
        "## 메인 코드 부분 ##\n",
        "hello = int(input(\"숫자를 입력해주세요.\"))\n",
        "test(hello)\n",
        "print(\"끝\")"
      ],
      "execution_count": null,
      "outputs": [
        {
          "output_type": "stream",
          "name": "stdout",
          "text": [
            "안녕하세요. 청물포 21기 입니다.\n",
            "안녕하세요. 청물포 21기 입니다.\n",
            "안녕하세요. 청물포 21기 입니다.\n"
          ]
        }
      ]
    },
    {
      "cell_type": "markdown",
      "metadata": {
        "id": "guH3F_q0-GQu"
      },
      "source": [
        "#### ② 변수를 2개 이상 설정도 가능하다\n"
      ]
    },
    {
      "cell_type": "code",
      "metadata": {
        "colab": {
          "base_uri": "https://localhost:8080/"
        },
        "id": "jpVaR1UT-LkT",
        "outputId": "cb2c889d-3823-4689-d3b5-3893db1670f4"
      },
      "source": [
        "## 전역 변수 선언 ##\n",
        "hello = 0\n",
        "\n",
        "## 함수 선언 부분 ##\n",
        "def test(click1, click2) :\n",
        "    if click1 == 1 and click2 == 0:\n",
        "        print(\"청물포 21기에 오신 여러분을 환영합니다\")\n",
        "    elif click1 == 2 and click2 == 0 :\n",
        "        print(\"안녕\")\n",
        "    elif click1 > 2 and click2 == 0 :\n",
        "        print(\"탈퇴하세요.\")\n",
        "\n",
        "## 메인 코드 부분 ##\n",
        "hello = int(input(\"숫자를 입력해주세요.\"))\n",
        "test(hello,0)\n",
        "print(\"끝\")"
      ],
      "execution_count": null,
      "outputs": [
        {
          "output_type": "stream",
          "name": "stdout",
          "text": [
            "안녕하세요. 청물포 21기 입니다.\n",
            "안녕하세요. 청물포 21기 입니다.\n",
            "안녕하세요. 청물포 21기 입니다.\n"
          ]
        }
      ]
    },
    {
      "cell_type": "markdown",
      "metadata": {
        "id": "FopTjbcN-gcg"
      },
      "source": [
        "#### ③ 함수 내 return 문 : 어떤 값을 결과값으로 가져온다"
      ]
    },
    {
      "cell_type": "code",
      "metadata": {
        "colab": {
          "base_uri": "https://localhost:8080/"
        },
        "id": "3FCDu48s-oBw",
        "outputId": "fe2f546a-4cc0-45b2-f9de-4259173fd4b5"
      },
      "source": [
        "## 전역 변수 선언 ##\n",
        "hello = 0\n",
        "bye = 0\n",
        "\n",
        "## 함수 선언 부분 ##\n",
        "def test(click) :\n",
        "    if click == 1 :\n",
        "        return 3\n",
        "    else :\n",
        "        return 5\n",
        "\n",
        "## 메인 코드 부분 ##\n",
        "hello = int(input(\"숫자를 입력해주세요.\"))\n",
        "bye = test(hello)\n",
        "print(bye)"
      ],
      "execution_count": 13,
      "outputs": [
        {
          "output_type": "stream",
          "name": "stdout",
          "text": [
            "숫자를 입력해주세요.1\n",
            "3\n"
          ]
        }
      ]
    },
    {
      "cell_type": "markdown",
      "metadata": {
        "id": "DJ3x8Kjn_GG4"
      },
      "source": [
        "## 연습문제"
      ]
    },
    {
      "cell_type": "markdown",
      "metadata": {
        "id": "SY43ccPH_KKN"
      },
      "source": [
        "#### 1. 변수 두개를 입력받아 그 곱을 구하는 함수를 만드시오."
      ]
    },
    {
      "cell_type": "markdown",
      "metadata": {
        "id": "XqYjxzxo_sWZ"
      },
      "source": [
        "#### 2. 사용자로부터 숫자를 3개 입력하고 입력한 숫자의 합계를 구하는 코드를 for 문으로 완성하시오."
      ]
    },
    {
      "cell_type": "markdown",
      "metadata": {
        "id": "Ha0Y_bnW_7U3"
      },
      "source": [
        "#### 3. 커피머신 내 알고리즘을 파이썬을 통해 만드려 한다. 사용자가 1을 입력하면 \"환영합니다.\", 2를 입력하면 \"원하시는 커피를 선택해주세요.\", 그 외 숫자를 입력하면 \"감사합니다.\"가 출력되도록 함수를 이용해 코드를 완성하시오."
      ]
    }
  ]
}