{
  "nbformat": 4,
  "nbformat_minor": 2,
  "metadata": {
    "colab": {
      "name": "Python_Practice.ipynb",
      "provenance": []
    },
    "kernelspec": {
      "name": "python3",
      "display_name": "Python 3"
    },
    "language_info": {
      "name": "python"
    }
  },
  "cells": [
    {
      "cell_type": "code",
      "execution_count": null,
      "source": [
        "print(\"hello world\")"
      ],
      "outputs": [
        {
          "output_type": "stream",
          "name": "stdout",
          "text": [
            "hello world\n"
          ]
        }
      ],
      "metadata": {
        "id": "WxM0uayhLeik",
        "colab": {
          "base_uri": "https://localhost:8080/"
        },
        "outputId": "041078c4-3a67-4e5d-f912-e7027471f44d"
      }
    },
    {
      "cell_type": "code",
      "execution_count": null,
      "source": [
        "print(\"my name is sejun\")"
      ],
      "outputs": [
        {
          "output_type": "stream",
          "name": "stdout",
          "text": [
            "my name is sejun\n"
          ]
        }
      ],
      "metadata": {
        "colab": {
          "base_uri": "https://localhost:8080/"
        },
        "id": "NbdObjBsUxnc",
        "outputId": "4299b62f-1dba-44b7-a738-f692b48f0e0d"
      }
    },
    {
      "cell_type": "code",
      "execution_count": null,
      "source": [
        "a = 3\n",
        "a"
      ],
      "outputs": [
        {
          "output_type": "execute_result",
          "data": {
            "text/plain": [
              "3"
            ]
          },
          "metadata": {
            "tags": []
          },
          "execution_count": 3
        }
      ],
      "metadata": {
        "colab": {
          "base_uri": "https://localhost:8080/"
        },
        "id": "0l5ua8V1UzXb",
        "outputId": "79e4cfa3-cd2c-434f-daa2-ce80ec528da6"
      }
    },
    {
      "cell_type": "code",
      "execution_count": null,
      "source": [
        "def printsejun :\n",
        "  print(\"sejun\")\n",
        "\n",
        "printsejun"
      ],
      "outputs": [
        {
          "output_type": "error",
          "ename": "SyntaxError",
          "evalue": "ignored",
          "traceback": [
            "\u001b[0;36m  File \u001b[0;32m\"<ipython-input-4-ff8f513d6f0d>\"\u001b[0;36m, line \u001b[0;32m1\u001b[0m\n\u001b[0;31m    def printsejun :\u001b[0m\n\u001b[0m                   ^\u001b[0m\n\u001b[0;31mSyntaxError\u001b[0m\u001b[0;31m:\u001b[0m invalid syntax\n"
          ]
        }
      ],
      "metadata": {
        "colab": {
          "base_uri": "https://localhost:8080/",
          "height": 135
        },
        "id": "oqPQTqzMU1HU",
        "outputId": "92ca9388-e6d6-432a-cdc0-53cea3af106b"
      }
    },
    {
      "cell_type": "code",
      "execution_count": null,
      "source": [
        "import turtle\n",
        "\n",
        "## 함수 선언 부분 ##\n",
        "\n",
        "## 변수 선언 부분 ##\n",
        "myT = None\n",
        "\n",
        "## 메인 코드 부분 ##\n",
        "turtle.shape('turtle')\n",
        "\n",
        "turtle.forward(200)\n",
        "turtle.right(90)\n",
        "turtle.forward(200)\n",
        "turtle.right(90)\n",
        "turtle.forward(200)\n",
        "turtle.right(90)\n",
        "turtle.forward(200)\n",
        "\n",
        "turtle.done()\n"
      ],
      "outputs": [],
      "metadata": {
        "id": "ARvE97fsU920"
      }
    }
  ]
}