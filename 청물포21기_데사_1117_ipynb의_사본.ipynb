{
  "nbformat": 4,
  "nbformat_minor": 0,
  "metadata": {
    "colab": {
      "name": "청물포21기_데사_1117.ipynb의 사본",
      "provenance": [],
      "collapsed_sections": [],
      "include_colab_link": true
    },
    "kernelspec": {
      "name": "python3",
      "display_name": "Python 3"
    },
    "language_info": {
      "name": "python"
    }
  },
  "cells": [
    {
      "cell_type": "markdown",
      "metadata": {
        "id": "view-in-github",
        "colab_type": "text"
      },
      "source": [
        "<a href=\"https://colab.research.google.com/github/SEJUNTONY/Data_Science_Class/blob/EunJi/%EC%B2%AD%EB%AC%BC%ED%8F%AC21%EA%B8%B0_%EB%8D%B0%EC%82%AC_1117_ipynb%EC%9D%98_%EC%82%AC%EB%B3%B8.ipynb\" target=\"_parent\"><img src=\"https://colab.research.google.com/assets/colab-badge.svg\" alt=\"Open In Colab\"/></a>"
      ]
    },
    {
      "cell_type": "markdown",
      "metadata": {
        "id": "ExLF0ggxEN0O"
      },
      "source": [
        "# 텐서플로우를 통한 자동차 연비 예측"
      ]
    },
    {
      "cell_type": "code",
      "metadata": {
        "id": "X1yEIhCmDxoh"
      },
      "source": [
        "# 데이터 분석을 위한 pandas, 시각화 위한 seaborn 불러오기\n",
        "import pandas as pd\n",
        "import seaborn as sns"
      ],
      "execution_count": 1,
      "outputs": []
    },
    {
      "cell_type": "code",
      "metadata": {
        "id": "M0w9yoZ2Ebe1"
      },
      "source": [
        "# 자동차연비 데이터셋 mpg 불러오기\n",
        "df = sns.load_dataset(\"mpg\")"
      ],
      "execution_count": 2,
      "outputs": []
    },
    {
      "cell_type": "markdown",
      "metadata": {
        "id": "tTSpUvBrEhAk"
      },
      "source": [
        "# 결측치 확인"
      ]
    },
    {
      "cell_type": "code",
      "metadata": {
        "id": "siwuFLfVExLh",
        "colab": {
          "base_uri": "https://localhost:8080/"
        },
        "outputId": "fef447d2-95b6-4933-f20d-d77475ba87c3"
      },
      "source": [
        "# 결측치 합계\n",
        "df.isnull().sum()"
      ],
      "execution_count": 3,
      "outputs": [
        {
          "output_type": "execute_result",
          "data": {
            "text/plain": [
              "mpg             0\n",
              "cylinders       0\n",
              "displacement    0\n",
              "horsepower      6\n",
              "weight          0\n",
              "acceleration    0\n",
              "model_year      0\n",
              "origin          0\n",
              "name            0\n",
              "dtype: int64"
            ]
          },
          "metadata": {},
          "execution_count": 3
        }
      ]
    },
    {
      "cell_type": "code",
      "metadata": {
        "id": "e1gV5gwNE08B",
        "colab": {
          "base_uri": "https://localhost:8080/"
        },
        "outputId": "3bd788f0-c64d-4154-872c-2b21d0126214"
      },
      "source": [
        "# dropna: 결측치를 버린다.\n",
        "df = df.dropna()\n",
        "df.shape"
      ],
      "execution_count": 4,
      "outputs": [
        {
          "output_type": "execute_result",
          "data": {
            "text/plain": [
              "(392, 9)"
            ]
          },
          "metadata": {},
          "execution_count": 4
        }
      ]
    },
    {
      "cell_type": "code",
      "metadata": {
        "id": "eE1tEF6bE8-d",
        "colab": {
          "base_uri": "https://localhost:8080/"
        },
        "outputId": "63e46335-716d-4e17-9d58-e46b30b3462a"
      },
      "source": [
        "# select_dtypes\n",
        "df = df.select_dtypes(exclude=\"object\")\n",
        "df.shape"
      ],
      "execution_count": 5,
      "outputs": [
        {
          "output_type": "execute_result",
          "data": {
            "text/plain": [
              "(392, 7)"
            ]
          },
          "metadata": {},
          "execution_count": 5
        }
      ]
    },
    {
      "cell_type": "code",
      "metadata": {
        "id": "fwLZ99sPFBYz",
        "colab": {
          "base_uri": "https://localhost:8080/",
          "height": 295
        },
        "outputId": "bf9456d9-f7a8-425a-adc3-6f9234f0a326"
      },
      "source": [
        "# describe\n",
        "df.describe(include=\"all\")"
      ],
      "execution_count": 6,
      "outputs": [
        {
          "output_type": "execute_result",
          "data": {
            "text/html": [
              "<div>\n",
              "<style scoped>\n",
              "    .dataframe tbody tr th:only-of-type {\n",
              "        vertical-align: middle;\n",
              "    }\n",
              "\n",
              "    .dataframe tbody tr th {\n",
              "        vertical-align: top;\n",
              "    }\n",
              "\n",
              "    .dataframe thead th {\n",
              "        text-align: right;\n",
              "    }\n",
              "</style>\n",
              "<table border=\"1\" class=\"dataframe\">\n",
              "  <thead>\n",
              "    <tr style=\"text-align: right;\">\n",
              "      <th></th>\n",
              "      <th>mpg</th>\n",
              "      <th>cylinders</th>\n",
              "      <th>displacement</th>\n",
              "      <th>horsepower</th>\n",
              "      <th>weight</th>\n",
              "      <th>acceleration</th>\n",
              "      <th>model_year</th>\n",
              "    </tr>\n",
              "  </thead>\n",
              "  <tbody>\n",
              "    <tr>\n",
              "      <th>count</th>\n",
              "      <td>392.000000</td>\n",
              "      <td>392.000000</td>\n",
              "      <td>392.000000</td>\n",
              "      <td>392.000000</td>\n",
              "      <td>392.000000</td>\n",
              "      <td>392.000000</td>\n",
              "      <td>392.000000</td>\n",
              "    </tr>\n",
              "    <tr>\n",
              "      <th>mean</th>\n",
              "      <td>23.445918</td>\n",
              "      <td>5.471939</td>\n",
              "      <td>194.411990</td>\n",
              "      <td>104.469388</td>\n",
              "      <td>2977.584184</td>\n",
              "      <td>15.541327</td>\n",
              "      <td>75.979592</td>\n",
              "    </tr>\n",
              "    <tr>\n",
              "      <th>std</th>\n",
              "      <td>7.805007</td>\n",
              "      <td>1.705783</td>\n",
              "      <td>104.644004</td>\n",
              "      <td>38.491160</td>\n",
              "      <td>849.402560</td>\n",
              "      <td>2.758864</td>\n",
              "      <td>3.683737</td>\n",
              "    </tr>\n",
              "    <tr>\n",
              "      <th>min</th>\n",
              "      <td>9.000000</td>\n",
              "      <td>3.000000</td>\n",
              "      <td>68.000000</td>\n",
              "      <td>46.000000</td>\n",
              "      <td>1613.000000</td>\n",
              "      <td>8.000000</td>\n",
              "      <td>70.000000</td>\n",
              "    </tr>\n",
              "    <tr>\n",
              "      <th>25%</th>\n",
              "      <td>17.000000</td>\n",
              "      <td>4.000000</td>\n",
              "      <td>105.000000</td>\n",
              "      <td>75.000000</td>\n",
              "      <td>2225.250000</td>\n",
              "      <td>13.775000</td>\n",
              "      <td>73.000000</td>\n",
              "    </tr>\n",
              "    <tr>\n",
              "      <th>50%</th>\n",
              "      <td>22.750000</td>\n",
              "      <td>4.000000</td>\n",
              "      <td>151.000000</td>\n",
              "      <td>93.500000</td>\n",
              "      <td>2803.500000</td>\n",
              "      <td>15.500000</td>\n",
              "      <td>76.000000</td>\n",
              "    </tr>\n",
              "    <tr>\n",
              "      <th>75%</th>\n",
              "      <td>29.000000</td>\n",
              "      <td>8.000000</td>\n",
              "      <td>275.750000</td>\n",
              "      <td>126.000000</td>\n",
              "      <td>3614.750000</td>\n",
              "      <td>17.025000</td>\n",
              "      <td>79.000000</td>\n",
              "    </tr>\n",
              "    <tr>\n",
              "      <th>max</th>\n",
              "      <td>46.600000</td>\n",
              "      <td>8.000000</td>\n",
              "      <td>455.000000</td>\n",
              "      <td>230.000000</td>\n",
              "      <td>5140.000000</td>\n",
              "      <td>24.800000</td>\n",
              "      <td>82.000000</td>\n",
              "    </tr>\n",
              "  </tbody>\n",
              "</table>\n",
              "</div>"
            ],
            "text/plain": [
              "              mpg   cylinders  ...  acceleration  model_year\n",
              "count  392.000000  392.000000  ...    392.000000  392.000000\n",
              "mean    23.445918    5.471939  ...     15.541327   75.979592\n",
              "std      7.805007    1.705783  ...      2.758864    3.683737\n",
              "min      9.000000    3.000000  ...      8.000000   70.000000\n",
              "25%     17.000000    4.000000  ...     13.775000   73.000000\n",
              "50%     22.750000    4.000000  ...     15.500000   76.000000\n",
              "75%     29.000000    8.000000  ...     17.025000   79.000000\n",
              "max     46.600000    8.000000  ...     24.800000   82.000000\n",
              "\n",
              "[8 rows x 7 columns]"
            ]
          },
          "metadata": {},
          "execution_count": 6
        }
      ]
    },
    {
      "cell_type": "markdown",
      "metadata": {
        "id": "-aXZhf0GFEhP"
      },
      "source": [
        "# 데이터셋 나누기"
      ]
    },
    {
      "cell_type": "code",
      "metadata": {
        "id": "2EUajonuFMQV",
        "colab": {
          "base_uri": "https://localhost:8080/"
        },
        "outputId": "7a7d7374-da42-4a56-9eb3-41871cd4ccfb"
      },
      "source": [
        "# train_dataset\n",
        "# test_dataset\n",
        "# 기출문제로 공부 -> 실전 시험 보는 과정\n",
        "train_dataset = df.sample(frac=0.8, random_state=42)\n",
        "# 전체 데이터의 0.8(80%)를 선별\n",
        "train_dataset.shape\n",
        "\n",
        "test_dataset = df.drop(train_dataset.index)\n",
        "# 전체 데이터의 0.8(80%)를 선별\n",
        "test_dataset.shape\n"
      ],
      "execution_count": 7,
      "outputs": [
        {
          "output_type": "execute_result",
          "data": {
            "text/plain": [
              "(78, 7)"
            ]
          },
          "metadata": {},
          "execution_count": 7
        }
      ]
    },
    {
      "cell_type": "code",
      "metadata": {
        "id": "VY4JNKZitz1C",
        "colab": {
          "base_uri": "https://localhost:8080/"
        },
        "outputId": "9256ed00-f08b-4a24-9867-42ef46cc2adf"
      },
      "source": [
        "# train_dataset, test_dataset에서 label(정답)을 꺼내 label 따로 생성\n",
        "train_lables = train_dataset.pop(\"mpg\")\n",
        "train_lables\n",
        "\n",
        "test_lables = test_dataset.pop(\"mpg\")\n",
        "test_lables.shape"
      ],
      "execution_count": 8,
      "outputs": [
        {
          "output_type": "execute_result",
          "data": {
            "text/plain": [
              "(78,)"
            ]
          },
          "metadata": {},
          "execution_count": 8
        }
      ]
    },
    {
      "cell_type": "markdown",
      "metadata": {
        "id": "BemcEXBit94L"
      },
      "source": [
        "# 딥러닝 모델"
      ]
    },
    {
      "cell_type": "markdown",
      "metadata": {
        "id": "DuB36cFtuG0V"
      },
      "source": [
        "![딥러닝.JPG](data:image/jpeg;base64,/9j/4AAQSkZJRgABAQEAkACQAAD/4RDuRXhpZgAATU0AKgAAAAgABAE7AAIAAAAMAAAISodpAAQAAAABAAAIVpydAAEAAAAYAAAQzuocAAcAAAgMAAAAPgAAAAAc6gAAAAgAAAAAAAAAAAAAAAAAAAAAAAAAAAAAAAAAAAAAAAAAAAAAAAAAAAAAAAAAAAAAAAAAAAAAAAAAAAAAAAAAAAAAAAAAAAAAAAAAAAAAAAAAAAAAAAAAAAAAAAAAAAAAAAAAAAAAAAAAAAAAAAAAAAAAAAAAAAAAAAAAAAAAAAAAAAAAAAAAAAAAAAAAAAAAAAAAAAAAAAAAAAAAAAAAAAAAAAAAAAAAAAAAAAAAAAAAAAAAAAAAAAAAAAAAAAAAAAAAAAAAAAAAAAAAAAAAAAAAAAAAAAAAAAAAAAAAAAAAAAAAAAAAAAAAAAAAAAAAAAAAAAAAAAAAAAAAAAAAAAAAAAAAAAAAAAAAAAAAAAAAAAAAAAAAAAAAAAAAAAAAAAAAAAAAAAAAAAAAAAAAAAAAAAAAAAAAAAAAAAAAAAAAAAAAAAAAAAAAAAAAAAAAAAAAAAAAAAAAAAAAAAAAAAAAAAAAAAAAAAAAAAAAAAAAAAAAAAAAAAAAAAAAAAAAAAAAAAAAAAAAAAAAAAAAAAAAAAAAAAAAAAAAAAAAAAAAAAAAAAAAAAAAAAAAAAAAAAAAAAAAAAAAAAAAAAAAAAAAAAAAAAAAAAAAAAAAAAAAAAAAAAAAAAAAAAAAAAAAAAAAAAAAAAAAAAAAAAAAAAAAAAAAAAAAAAAAAAAAAAAAAAAAAAAAAAAAAAAAAAAAAAAAAAAAAAAAAAAAAAAAAAAAAAAAAAAAAAAAAAAAAAAAAAAAAAAAAAAAAAAAAAAAAAAAAAAAAAAAAAAAAAAAAAAAAAAAAAAAAAAAAAAAAAAAAAAAAAAAAAAAAAAAAAAAAAAAAAAAAAAAAAAAAAAAAAAAAAAAAAAAAAAAAAAAAAAAAAAAAAAAAAAAAAAAAAAAAAAAAAAAAAAAAAAAAAAAAAAAAAAAAAAAAAAAAAAAAAAAAAAAAAAAAAAAAAAAAAAAAAAAAAAAAAAAAAAAAAAAAAAAAAAAAAAAAAAAAAAAAAAAAAAAAAAAAAAAAAAAAAAAAAAAAAAAAAAAAAAAAAAAAAAAAAAAAAAAAAAAAAAAAAAAAAAAAAAAAAAAAAAAAAAAAAAAAAAAAAAAAAAAAAAAAAAAAAAAAAAAAAAAAAAAAAAAAAAAAAAAAAAAAAAAAAAAAAAAAAAAAAAAAAAAAAAAAAAAAAAAAAAAAAAAAAAAAAAAAAAAAAAAAAAAAAAAAAAAAAAAAAAAAAAAAAAAAAAAAAAAAAAAAAAAAAAAAAAAAAAAAAAAAAAAAAAAAAAAAAAAAAAAAAAAAAAAAAAAAAAAAAAAAAAAAAAAAAAAAAAAAAAAAAAAAAAAAAAAAAAAAAAAAAAAAAAAAAAAAAAAAAAAAAAAAAAAAAAAAAAAAAAAAAAAAAAAAAAAAAAAAAAAAAAAAAAAAAAAAAAAAAAAAAAAAAAAAAAAAAAAAAAAAAAAAAAAAAAAAAAAAAAAAAAAAAAAAAAAAAAAAAAAAAAAAAAAAAAAAAAAAAAAAAAAAAAAAAAAAAAAAAAAAAAAAAAAAAAAAAAAAAAAAAAAAAAAAAAAAAAAAAAAAAAAAAAAAAAAAAAAAAAAAAAAAAAAAAAAAAAAAAAAAAAAAAAAAAAAAAAAAAAAAAAAAAAAAAAAAAAAAAAAAAAAAAAAAAAAAAAAAAAAAAAAAAAAAAAAAAAAAAAAAAAAAAAAAAAAAAAAAAAAAAAAAAAAAAAAAAAAAAAAAAAAAAAAAAAAAAAAAAAAAAAAAAAAAAAAAAAAAAAAAAAAAAAAAAAAAAAAAAAAAAAAAAAAAAAAAAAAAAAAAAAAAAAAAAAAAAAAAAAAAAAAAAAAAAAAAAAAAAAAAAAAAAAAAAAAAAAAAAAAAAAAAAAAAAAAAAAAAAAAAAAAAAAAAAAAAAAAAAAAAAAAAAAAAAAAAAAAAAAAAAAAAAAAAAAAAAAAAAAAAAAAAAAAAAAAAAAAAAAAAAAAAAAAAAAAAAAAAAAAAAAAAAAAAAAAAAAAAAAAAAAAAAAAAAAAAAAAAAAAAAAAAAAAAAAAAAAAAAAAAAAAAAAAAAAAAAAAAAAAAAAAAAAAAAAAAAAAAAAAAAAAAAAAAAAAAAAAAAAAAAAAAAAAAAAAAAAAAAAAAAAAAAAAAAAAAAAAAAAAAAAAAAAAAAAAAAAAAAAAAAAAAAAAAAAAAAAAAAAAAAAAAAAAAAAAAAAAAAAAAAAAAAAAAAAAAAAAAAAAAAAAAAAAAAAAAAAAAAAAAAAAAAAAAAAAAAAAAAAAAAAAAAAAAAAAAAAAAAAAAAAAAAAAAAAAAAAAAAAAAAAAAAAAAAAAAAAAAAAAAAAAAAAAAAAAAAAAAAAAAAAAAAAAAAAAAAAAAAAAAAAAAAAAAAAAAAAAAAAAAAAAAAAAAAAAAAAAAAAAAAAAAAAAAAAAAAAAAAAAAAAAAAAAAAAAAAAAAAAAAAAAAAAAAAAAAAAAAAAAAAAAAAAAAAAAAAAAAAAAAAAAAAAAAAAAAAAAAAAAAAAAAAAAAAAAAAAAAAAAAAAAAAAAAAAAAAAAAAAAAAAAAAAAAAAAAAAAAAAAAAAAAAAAAAAAAAAAAAAAAAAAAAAAAAAAAAAAAAAAAAAAAAAAAAAAAAAAAAAAAAAAAAAAAAAAAAAAAAAAAAAAAAAAAAAAAAAAAAAAAAAAAAAAAAAAAAAAAAAAAAAAAAAAAAAAAAAAAAAAAAAAAAAAAAAAAAAAAAAAAAAAAAAAAAAAAAAAAFBBUksgU0UgSlVOAAAFkAMAAgAAABQAABCkkAQAAgAAABQAABC4kpEAAgAAAAM4NAAAkpIAAgAAAAM4NAAA6hwABwAACAwAAAiYAAAAABzqAAAACAAAAAAAAAAAAAAAAAAAAAAAAAAAAAAAAAAAAAAAAAAAAAAAAAAAAAAAAAAAAAAAAAAAAAAAAAAAAAAAAAAAAAAAAAAAAAAAAAAAAAAAAAAAAAAAAAAAAAAAAAAAAAAAAAAAAAAAAAAAAAAAAAAAAAAAAAAAAAAAAAAAAAAAAAAAAAAAAAAAAAAAAAAAAAAAAAAAAAAAAAAAAAAAAAAAAAAAAAAAAAAAAAAAAAAAAAAAAAAAAAAAAAAAAAAAAAAAAAAAAAAAAAAAAAAAAAAAAAAAAAAAAAAAAAAAAAAAAAAAAAAAAAAAAAAAAAAAAAAAAAAAAAAAAAAAAAAAAAAAAAAAAAAAAAAAAAAAAAAAAAAAAAAAAAAAAAAAAAAAAAAAAAAAAAAAAAAAAAAAAAAAAAAAAAAAAAAAAAAAAAAAAAAAAAAAAAAAAAAAAAAAAAAAAAAAAAAAAAAAAAAAAAAAAAAAAAAAAAAAAAAAAAAAAAAAAAAAAAAAAAAAAAAAAAAAAAAAAAAAAAAAAAAAAAAAAAAAAAAAAAAAAAAAAAAAAAAAAAAAAAAAAAAAAAAAAAAAAAAAAAAAAAAAAAAAAAAAAAAAAAAAAAAAAAAAAAAAAAAAAAAAAAAAAAAAAAAAAAAAAAAAAAAAAAAAAAAAAAAAAAAAAAAAAAAAAAAAAAAAAAAAAAAAAAAAAAAAAAAAAAAAAAAAAAAAAAAAAAAAAAAAAAAAAAAAAAAAAAAAAAAAAAAAAAAAAAAAAAAAAAAAAAAAAAAAAAAAAAAAAAAAAAAAAAAAAAAAAAAAAAAAAAAAAAAAAAAAAAAAAAAAAAAAAAAAAAAAAAAAAAAAAAAAAAAAAAAAAAAAAAAAAAAAAAAAAAAAAAAAAAAAAAAAAAAAAAAAAAAAAAAAAAAAAAAAAAAAAAAAAAAAAAAAAAAAAAAAAAAAAAAAAAAAAAAAAAAAAAAAAAAAAAAAAAAAAAAAAAAAAAAAAAAAAAAAAAAAAAAAAAAAAAAAAAAAAAAAAAAAAAAAAAAAAAAAAAAAAAAAAAAAAAAAAAAAAAAAAAAAAAAAAAAAAAAAAAAAAAAAAAAAAAAAAAAAAAAAAAAAAAAAAAAAAAAAAAAAAAAAAAAAAAAAAAAAAAAAAAAAAAAAAAAAAAAAAAAAAAAAAAAAAAAAAAAAAAAAAAAAAAAAAAAAAAAAAAAAAAAAAAAAAAAAAAAAAAAAAAAAAAAAAAAAAAAAAAAAAAAAAAAAAAAAAAAAAAAAAAAAAAAAAAAAAAAAAAAAAAAAAAAAAAAAAAAAAAAAAAAAAAAAAAAAAAAAAAAAAAAAAAAAAAAAAAAAAAAAAAAAAAAAAAAAAAAAAAAAAAAAAAAAAAAAAAAAAAAAAAAAAAAAAAAAAAAAAAAAAAAAAAAAAAAAAAAAAAAAAAAAAAAAAAAAAAAAAAAAAAAAAAAAAAAAAAAAAAAAAAAAAAAAAAAAAAAAAAAAAAAAAAAAAAAAAAAAAAAAAAAAAAAAAAAAAAAAAAAAAAAAAAAAAAAAAAAAAAAAAAAAAAAAAAAAAAAAAAAAAAAAAAAAAAAAAAAAAAAAAAAAAAAAAAAAAAAAAAAAAAAAAAAAAAAAAAAAAAAAAAAAAAAAAAAAAAAAAAAAAAAAAAAAAAAAAAAAAAAAAAAAAAAAAAAAAAAAAAAAAAAAAAAAAAAAAAAAAAAAAAAAAAAAAAAAAAAAAAAAAAAAAAAAAAAAAAAAAAAAAAAAAAAAAAAAAAAAAAAAAAAAAAAAAAAAAAAAAAAAAAAAAAAAAAAAAAAAAAAAAAAAAAAAAAAAAAAAAAAAAAAAAAAAAAAAAAAAAAAAAAAAAAAAAAAAAAAAAAAAAAAAAAAAAAAAAAAAAAAAAAAAAAAAAAAAAAAAAAAAAAAAAAAAAAAAAAAAAAAAAAAAAAAAAAAAAAAAAAAAAAAAAAAAAAAAAAAAAAAAAAAAAAAAAAAAAAAAAAAAAAAAAAAAAAAAAAAAAAAAAAAAAAAAAAAAAAAAAAAAAAAAAAAAAAAAAAAAAAAAAAAAAAAAAAAAAAAAAAAAAAAAAAAAAAAAAAAAAAAAAAAAAAAAAAAAAAAAAAAAAAAAAAAAAAAAAAAAAAAAAAAAAAAAAAAAAAAAAAAAAAAAAAAAAAAAAAAAAAAAAAAAAAAAAAAAAAAAAAAAAAAAAAAAAAAAAAAAAAAAAAAAAAAAAAAAAAAAAAAAAAAAAAAAAAAAAAAAAAAAAAAAAAAAAAAAAAAAAAAAAAAAAAAAAAAAAAAAAAAAAAAAAAAAAAAAAAAAAAAAAAAAAAAAAAAAAAAAAAAAAAAAAAAAAAAAAAAAAAAAAAAAAAAAAAAAAAAAAAAAAAAAAAAAAAAAAAAAAAAAAAAAAAAAAAAAAAAAAAAAAAAAAAAAAAAAAAAAAAAAAAAAAAAAAAAAAAAAAAAAAAAAAAAAAAAAAAAAAAAAAAAAAAAAAAAAAAAAAAAAAAAAAAAAAAAAAAAAAAAAAAAAAAAAAAAAAAAAAAAAAAAAAAAAAAAAAAAAAAAAAAAAAAAAAAAAAAAAAAAAAAAAAAAAAAAAAAAAAAAAAAAAAAAAAAAAAAAAAAAAAAAAAAAAAAAAAAAAAAAAAAAAAAAAAAAAAAAAAAAAAAAAAAAAAAAAAAAAAAAAAAAAAAAAAAAAAAAAAAAAAAAAAAAAAAAAAAAAAAAAAAAAAAAAAAAAAAAAAAAAAAAAAAAAAAAAAAAAAAAAAAAAMjAyMToxMToxNyAyMDo0NjoyNAAyMDIxOjExOjE3IDIwOjQ2OjI0AAAAUABBAFIASwAgAFMARQAgAEoAVQBOAAAA/+ELHmh0dHA6Ly9ucy5hZG9iZS5jb20veGFwLzEuMC8APD94cGFja2V0IGJlZ2luPSfvu78nIGlkPSdXNU0wTXBDZWhpSHpyZVN6TlRjemtjOWQnPz4NCjx4OnhtcG1ldGEgeG1sbnM6eD0iYWRvYmU6bnM6bWV0YS8iPjxyZGY6UkRGIHhtbG5zOnJkZj0iaHR0cDovL3d3dy53My5vcmcvMTk5OS8wMi8yMi1yZGYtc3ludGF4LW5zIyI+PHJkZjpEZXNjcmlwdGlvbiByZGY6YWJvdXQ9InV1aWQ6ZmFmNWJkZDUtYmEzZC0xMWRhLWFkMzEtZDMzZDc1MTgyZjFiIiB4bWxuczpkYz0iaHR0cDovL3B1cmwub3JnL2RjL2VsZW1lbnRzLzEuMS8iLz48cmRmOkRlc2NyaXB0aW9uIHJkZjphYm91dD0idXVpZDpmYWY1YmRkNS1iYTNkLTExZGEtYWQzMS1kMzNkNzUxODJmMWIiIHhtbG5zOnhtcD0iaHR0cDovL25zLmFkb2JlLmNvbS94YXAvMS4wLyI+PHhtcDpDcmVhdGVEYXRlPjIwMjEtMTEtMTdUMjA6NDY6MjQuODQ0PC94bXA6Q3JlYXRlRGF0ZT48L3JkZjpEZXNjcmlwdGlvbj48cmRmOkRlc2NyaXB0aW9uIHJkZjphYm91dD0idXVpZDpmYWY1YmRkNS1iYTNkLTExZGEtYWQzMS1kMzNkNzUxODJmMWIiIHhtbG5zOmRjPSJodHRwOi8vcHVybC5vcmcvZGMvZWxlbWVudHMvMS4xLyI+PGRjOmNyZWF0b3I+PHJkZjpTZXEgeG1sbnM6cmRmPSJodHRwOi8vd3d3LnczLm9yZy8xOTk5LzAyLzIyLXJkZi1zeW50YXgtbnMjIj48cmRmOmxpPlBBUksgU0UgSlVOPC9yZGY6bGk+PC9yZGY6U2VxPg0KCQkJPC9kYzpjcmVhdG9yPjwvcmRmOkRlc2NyaXB0aW9uPjwvcmRmOlJERj48L3g6eG1wbWV0YT4NCiAgICAgICAgICAgICAgICAgICAgICAgICAgICAgICAgICAgICAgICAgICAgICAgICAgICAgICAgICAgICAgICAgICAgICAgICAgICAgICAgICAgICAgICAgICAgICAgICAgICAKICAgICAgICAgICAgICAgICAgICAgICAgICAgICAgICAgICAgICAgICAgICAgICAgICAgICAgICAgICAgICAgICAgICAgICAgICAgICAgICAgICAgICAgICAgICAgICAgICAgIAogICAgICAgICAgICAgICAgICAgICAgICAgICAgICAgICAgICAgICAgICAgICAgICAgICAgICAgICAgICAgICAgICAgICAgICAgICAgICAgICAgICAgICAgICAgICAgICAgICAgCiAgICAgICAgICAgICAgICAgICAgICAgICAgICAgICAgICAgICAgICAgICAgICAgICAgICAgICAgICAgICAgICAgICAgICAgICAgICAgICAgICAgICAgICAgICAgICAgICAgICAKICAgICAgICAgICAgICAgICAgICAgICAgICAgICAgICAgICAgICAgICAgICAgICAgICAgICAgICAgICAgICAgICAgICAgICAgICAgICAgICAgICAgICAgICAgICAgICAgICAgIAogICAgICAgICAgICAgICAgICAgICAgICAgICAgICAgICAgICAgICAgICAgICAgICAgICAgICAgICAgICAgICAgICAgICAgICAgICAgICAgICAgICAgICAgICAgICAgICAgICAgCiAgICAgICAgICAgICAgICAgICAgICAgICAgICAgICAgICAgICAgICAgICAgICAgICAgICAgICAgICAgICAgICAgICAgICAgICAgICAgICAgICAgICAgICAgICAgICAgICAgICAKICAgICAgICAgICAgICAgICAgICAgICAgICAgICAgICAgICAgICAgICAgICAgICAgICAgICAgICAgICAgICAgICAgICAgICAgICAgICAgICAgICAgICAgICAgICAgICAgICAgIAogICAgICAgICAgICAgICAgICAgICAgICAgICAgICAgICAgICAgICAgICAgICAgICAgICAgICAgICAgICAgICAgICAgICAgICAgICAgICAgICAgICAgICAgICAgICAgICAgICAgCiAgICAgICAgICAgICAgICAgICAgICAgICAgICAgICAgICAgICAgICAgICAgICAgICAgICAgICAgICAgICAgICAgICAgICAgICAgICAgICAgICAgICAgICAgICAgICAgICAgICAKICAgICAgICAgICAgICAgICAgICAgICAgICAgICAgICAgICAgICAgICAgICAgICAgICAgICAgICAgICAgICAgICAgICAgICAgICAgICAgICAgICAgICAgICAgICAgICAgICAgIAogICAgICAgICAgICAgICAgICAgICAgICAgICAgICAgICAgICAgICAgICAgICAgICAgICAgICAgICAgICAgICAgICAgICAgICAgICAgICAgICAgICAgICAgICAgICAgICAgICAgCiAgICAgICAgICAgICAgICAgICAgICAgICAgICAgICAgICAgICAgICAgICAgICAgICAgICAgICAgICAgICAgICAgICAgICAgICAgICAgICAgICAgICAgICAgICAgICAgICAgICAKICAgICAgICAgICAgICAgICAgICAgICAgICAgICAgICAgICAgICAgICAgICAgICAgICAgICAgICAgICAgICAgICAgICAgICAgICAgICAgICAgICAgICAgICAgICAgICAgICAgIAogICAgICAgICAgICAgICAgICAgICAgICAgICAgICAgICAgICAgICAgICAgICAgICAgICAgICAgICAgICAgICAgICAgICAgICAgICAgICAgICAgICAgICAgICAgICAgICAgICAgCiAgICAgICAgICAgICAgICAgICAgICAgICAgICAgICAgICAgICAgICAgICAgICAgICAgICAgICAgICAgICAgICAgICAgICAgICAgICAgICAgICAgICAgICAgICAgICAgICAgICAKICAgICAgICAgICAgICAgICAgICAgICAgICAgICAgICAgICAgICAgICAgICAgICAgICAgICAgICAgICAgICAgICAgICAgICAgICAgICAgICAgICAgICAgICAgICAgICAgICAgIAogICAgICAgICAgICAgICAgICAgICAgICAgICAgICAgICAgICAgICAgICAgICAgICAgICAgICAgICAgICAgICAgICAgICAgICAgICAgICAgICAgICAgICAgICAgICAgICAgICAgCiAgICAgICAgICAgICAgICAgICAgICAgICAgICAgICAgICAgICAgICAgICAgICAgICAgICAgICAgICAgICAgICAgICAgICAgICAgICAgICAgICAgICAgICAgICAgICAgICAgICAKICAgICAgICAgICAgICAgICAgICAgICAgICAgICAgICAgICAgICAgICAgICAgICAgICAgICAgICAgICAgICAgICAgICAgICAgICAgICAgICAgICAgICAgICAgICAgICAgICAgIAogICAgICAgICAgICAgICAgICAgICAgICAgICAgPD94cGFja2V0IGVuZD0ndyc/Pv/bAEMABwUFBgUEBwYFBggHBwgKEQsKCQkKFQ8QDBEYFRoZGBUYFxseJyEbHSUdFxgiLiIlKCkrLCsaIC8zLyoyJyorKv/bAEMBBwgICgkKFAsLFCocGBwqKioqKioqKioqKioqKioqKioqKioqKioqKioqKioqKioqKioqKioqKioqKioqKioqKv/AABEIAQ8DUwMBIgACEQEDEQH/xAAfAAABBQEBAQEBAQAAAAAAAAAAAQIDBAUGBwgJCgv/xAC1EAACAQMDAgQDBQUEBAAAAX0BAgMABBEFEiExQQYTUWEHInEUMoGRoQgjQrHBFVLR8CQzYnKCCQoWFxgZGiUmJygpKjQ1Njc4OTpDREVGR0hJSlNUVVZXWFlaY2RlZmdoaWpzdHV2d3h5eoOEhYaHiImKkpOUlZaXmJmaoqOkpaanqKmqsrO0tba3uLm6wsPExcbHyMnK0tPU1dbX2Nna4eLj5OXm5+jp6vHy8/T19vf4+fr/xAAfAQADAQEBAQEBAQEBAAAAAAAAAQIDBAUGBwgJCgv/xAC1EQACAQIEBAMEBwUEBAABAncAAQIDEQQFITEGEkFRB2FxEyIygQgUQpGhscEJIzNS8BVictEKFiQ04SXxFxgZGiYnKCkqNTY3ODk6Q0RFRkdISUpTVFVWV1hZWmNkZWZnaGlqc3R1dnd4eXqCg4SFhoeIiYqSk5SVlpeYmZqio6Slpqeoqaqys7S1tre4ubrCw8TFxsfIycrS09TV1tfY2dri4+Tl5ufo6ery8/T19vf4+fr/2gAMAwEAAhEDEQA/APpGiiigAooooAKKKKACiiigAooooAKKKKACiiigAooooAKKKKACiiigAooooAKKKKACiiigAooooAKKKKACiiigAooooAKKKKACiiigAooooAKKKKACiiigAooooAKKKKACiiigAooooAKKKKACiiigAooooAKKKKACiiigAooooAKKKKACiiigAooooAKKKKACiiigAooooAKKKKACiiigAooooAKKKKACiiigAooooAKKKKACiiigAooooAKKKKACiiigAooooAKKKKACiiigAooooAKKKKACiiigAooooAKKKKACiiigAooooAKKKKACiiigAooooAKKKSgDI1O6nhuwsUjKNoOBVP7fdf8APdqm1j/j9H+4Ko1304rkWhzSb5ix9vuv+e7Ufb7r/nu1U554bWB57mVIYoxud3YKqj1JNcv/AMJ7DfSFPDWkalrm0lTLawFYc/8AXRsKfwzVS5I7krmex2n2+6/57tR9vuv+e7VxsnivW7Qb9R8E6xDF3eEpOR/wFTmtTRfEuleIEf8Asy6WSSPiSBwUlj/3kbDD8RSj7OW1htSW5vfb7r/nu1H2+6/57tVeir5Y9ibs6LTZHlsleRizEnk/WrVUtJ/5B6fU/wA6u150/iZ1R2CiiipKCiiigAooooAKKKKACiiigAooooAKKKKACiiigAooooAKKKKACiiigAooooAKKKKACiiigAooooAKKKKACiioriYW8DSEZC9qFq7AS0Vlf20n/PJvzo/tpP8Ank351r7KfYjniatFZX9tJ/zyb86P7aT/AJ5N+dHsp9g54mrRWV/bSf8APJvzo/tpP+eTfnR7KfYOeJq0Vlf20n/PJvzq7Z3Qu4i4Urg45qZQlFXaGpJ7FiiiioKCiiigAooooAKKKKACioLu5FrD5hXdzjAqj/baf88m/OrjCUldIlyS3NWisr+2k/55N+dH9tJ/zyb86r2U+wueJq0Vlf20n/PJvzo/tpP+eTfnR7KfYOeJq0Vlf20n/PJvzpf7bT/nk350vZT7BzxNSioreYXECyAYDdqlrMsKKKKACiiigAooooAKKKKACiiigAooooAKKKKACiiigAooooAKKKKACiiigBM0tZV1qksFy8YRSFPeof7am/55pU8yNlRm1c26KxP7am/55pR/bU3/ADzSjmQ/YTNuisT+2pv+eaUf21N/zzSjmQewmbdJmsX+2pv+eaUf2zN/zzWjmQewmbdFRwSGW3RzwWGakqjB6BRRRQAUUUUAFJS0lAGFrH/H6P8AcFZ8jrFG0kjBUUFmYngAd6v6zIi3wDMoOwcE1w/xFvJYvB8lvaShJNQuIbHcOoWaQI2P+Asa9CDtTTOaSvKwmgaHJ8Sr7+2tbV18OQSEafY5IF2VODLIO65Bwp+uK9TtraC0gWG1hSGJBhUjUKAPoKi02xh0zTLaxtUCQ28SxIoGAAox/SrVcEpOTuzoSSWgYrj/ABj4AtfEAF/pMg0rXoPmtr+Jcc/3ZB0dT3BzXYUUthnm3hXXZtYspodSgFrqlhKbe9t8/dcY5H+yQQQa3awPEFodI+MNjdw4WHXLB4ZlAxmSD5gx98Pj8K369GlLmjc5ZqzN/Sf+Qen1P86u1S0n/kHp9T/OrtcE/iZ0R2CiiipKCiiigAooooAKKKKACiiigAooooAKKKKACiiigAooooAKKKKACiiigAooooAKKKKACiiigAooooAKKKKACqupf8g+T6VaqrqX/IPk+lVD4kKWxztFFYPiLX57C4tdK0a3F5rN+SttAT8qAdZH9FH+Ar0W0ldnIld2Ni4u7e0jMl3PHAn96Rwo/WstfGHh15fLXWrIvnGPOFWtI+F2nlxe+L5ZPEGov8zG5P7iI+iRD5QPrk+9dG3g7w08PlN4f0spjG37HH/hXM8RrojZUu5kQzxXEYeCRJUPRkYEH8RUlZGrfDQ6czah4AuTpV4nzGydi1pcf7JQn5M+q4xSeHdfXXbSUTW72d/av5N5aSfehkHb3Hoe9a06inoRKDibFbmjf8ebf7/9Kw63NG/48z/v/wBKVf4Ap/EaFFFFcJ0hRRRQAUUUUAFFFFAFDWP+PL/gQrCrd1j/AI8v+BCsKu6h8Bz1PiCq15qNnp8e++uobdfWVwv86xdY1jULvWk8N+FkSTVJU8yaeQZjs4um9h3J7Dvg1taR8LdAs8XGtRvr2oNzJdai3m5P+yn3FGewFE6yi7IUabZnweLvD1xL5cOtWTPnGPOFa6Osiho2DKehU5BrTn8GeGbqExT+H9MZPT7Igx+Q4rj9X8B6h4XD6n4CmkaKP5ptFuJC8Uy9xGTyjenJHbFRGvrqinS7G/RWdoetWuv6THf2W4I2VdHGGjccFWHYg1o107q5kdFp3/HhF9KtVV07/kHxfSrVebL4mdcdkFFFFSMKKKKACiiigAooooAKKKKACiiigAooooAKKKKACiiigAooooAKKKKAOc1H/j/l+tVqs6j/AMf8v1qqzBFLMcKBkk9qwe56kPhQtVbvU7GxUG9u4YAeAZJAv865uzk1r4h3ssegXL6V4fhcxyakq/vbpgcERegHTdz7V1Gn/CnwfY/PLo0OoXB+9c348+Vj6lmqlBmM8Qk7IitNVsL7P2K9gnx18uQNirVM1D4VeDb9cjQ7a0mH3bizXyZF+jLzXK6jFrXw4lWTU7uTWPDTMFN3LzPZZ7uf40/2uMUOARxCbszrqKZFIk0SyxMHRwGVgcgin1B0nTWf/HnF/uipqhs/+POL/dFTVutjypbsKKQsFGScCsa98XaLZSeU16s0/aGD945/AUyTaormjrmuagP+JRobwoek1+/l4/4Bgk/pQNA1nUBnWdckRD1hsV8oD23ck0AbF/rGn6ZHvv7yGAdt7dax28X/AGvjQtLvNRz0lVNkX/fTf4VcsfCmi6fJ5sVjG83eaX53P4motX8Q/ZrgabpEP2zU3HESn5Yh/ec9hQB5l8TRrDz2t7qUdvasQVWO3lLMB7nAzXBut7PYHUPNmkt9Lu7a7mXJPyrMpJ/AAn8K9R1PSpNQ157K4ujeXrIDf3QHywof+WSDtmtOz8M6bZWF5Zwwn7PeKVlQnOVK7SK6I03JXMnNI762mS5to54W3RyIHUjuCMipa8z8DeJW8N3ieDPE8xR4zt0q8lPy3UP8KZ/vr0x3AFel5rBpp2ZoncWiisPxT4r03wnpRvNSkJdjtgt4+ZLh+yIvcmkM4f4hedr3xE0rRdPlaCXT7Ka8lmU/dLkKgz25Q1X0nXtWtvMt9TgN01uds3lj96nvt/iHuKueE9Mvlkvde18L/a+quJJUH/LCMcJEPYD9Sav6vpT3TJeWLiG/gH7t+zDurexrthBxjdbnPKSbOp8N6pZ6lpivZXCSgEhgDyp9CO1bFcNo2n6f4itPtMBk0zWbclZmgba6N/tD+JTWgNZ1fQTs8Q232q1BwL+0XOB6unb6jNckviZvHY6miq1jqFpqVqtxY3Ec8TdHRsirNSMKKKKACiigkDqcUAFFN3r/AHhS71/vCgBaKTev94Ub1/vCgBaKTev94Ub1/vCgBaKTev8AeH50BgehzQAtFFFABRRRQBVu76O0ZQ4J3DPFQf21B/ceq+t/66L/AHazKzcmmdlOjGUU2bf9tQf3Ho/tqD+49YlFTzM09hA2/wC2oP7j0f21B/cesSijmYvYQNv+2oP7j0f2zD/casSgdRRzMPYQOsBzRSDoKWtjgCiiigAooooAKq6l/wAg+T6VHf61pumLm/vYID2V3G4/QdTXNa34ml1TRrqHQdPv5mdCEuvL8pF9wXxn8KqOkkJ7E9Y/wyt01bUNb8VS/PJc3LWdqxA+SCI4wP8AePJ+grzODxd4h85Yo72R5GbaFYAkn0r1H4NSMPAX2WZBHcWd5PBMg7MH/wDr1tVqKa0M4R5Wd/RRRXOahXm3i+2OhfErRtXtUAh1rfp14AcbnVDJG+PUBGXP+1XpNeafGAvdN4Z02ykC382ptJD82GXbbyksP0H41UG1JNClqjfrc0b/AI82/wB+vFNH1DUZppYNQu9SaWJiHWG4O9f+Anr+Ga7zw7ptpq1s32TxPqnmK3zQi6Ksv1U810VZqUDKEbSO/orm/wDhEZP+hh1n/wACzR/wiMn/AEMOs/8AgWa5TY6Siub/AOERk/6GHWf/AALNH/CIyf8AQw6z/wCBZoA6Siub/wCERk/6GHWf/As0f8IjJ/0MOs/+BZoA6Siub/4RGT/oYdZ/8CzQfCUg/wCZh1n/AMCzQBoeILqCz0szXUqxRKwy7nAHPrXPTX1vFp8t75itBFG0jOpyNoGSa5zx5a20Giz2lr4g1HUbvIJtTO0ygA8lgMgYHrXmVtJqU0U1jpkkm+5iePylYgPlTkH8K3p1OVWsZyhzO57X8KNPC+FDrlwA19rkrXc0hHO3OEX6BRx9TXdVzHw3ukvPhvocsYCj7KqFR2K5Uj8xXT1i9WaBRRRSA8wntP8AhHfi1dWluAtlrtob1Uzwk8bBZCB/tB0/75ro65vx55938U9Ag0yWNbuz066nYNyMM8QAPscH8q0dN1lLyRra5jNtex/fgfv7qe4+ldtGXu2Zz1Fqdrp3/IPi+lWqq6d/x4R/SrVckviZvHZBRRRUjCiiigAooooAKKKKACiiigAooooAKKKKACiiigAooooAKKKKACiiigDnNR/4/wCX61xnjqS4u7XT/D9lI0U+t3S2zOvVYespH/AMj8a7PUf+P+X61yGpHy/ix4MeXHlFrtRkfxGHisV8R6Em1SPSNN0+20rTbexso1igt41jjRRwABirVIKWtjzwqG8tLe+tJbW8iWaCZCkkbjIYHgg1NQaAPKPBnmaVeax4WnYuNGudlszdTbuNyZ+mSPwrpri6gtYy9zNHEvq7ACvPfHGo3Vn8TtYm0Z5IwtpbR3skYHBy5UdOuD+oq5pRikhW7k0dtSz1nW4Epz7qeh/CsnHU7qdX3bHfweMrJoEh0y3utSlCgf6NESo+r9BTjL4s1LiKG00iI/xSnzpPwAwKj0/xho1vaxRXST6ewUDbPaug/PGP1retNY02/GbK/t5/aOVSR+Ga0WxxS3MdfB8dzzruoXmpk9Y5JNsf/fK4rZstKsNNj8uxtIoF9EUDNW80UxBikYhVJJwAMkmoL2/ttOtHub2ZYYUGWZjiuaEeoeMGDTebYaLniP7st0Pf+6vt1NAEl1rN5r9w9h4aOyFSVuNRIyqeoT+83v0FR3aw+GbOPS9Bj87V74kK8h3MT3lc+gzWxf3dl4a0XeI1jijASKGMcu3ZQO5NVfDuk3ETS6rq4B1K8wWGciBO0a/Tv60AZ8ekRaNGltGTJIw3zSt96Rz1Y0+r2sf8fo/3BVGvRp/Ajll8TM/WNE07XrFrPVrVLiE84bqp9QeoPvWNBpnjLQfl8PeJ0u7UcJbaxAZtg9A6sp/PNXPEHim30OSC0iglv9Tuji2sbcZklPr/ALKjuTxUcPhPx1rYWbUtcttBjbkW1jCJZFHoztkE/QYrOo6f2ioKXQY958Sr5DDNqehaehHMttaSSOPpufA/EGnaV4PtrPUBqmq3VxrGq4x9svG3FPZB0UfSp5fh14mgXfp3jq9kkA+5e20ToT/wFVNUH8Qav4ZvorLx3ZRW8UrBItWtSTbO3YNnmM/73HvU05Ur6FSU7HU0tICGUEHIPQilrqMAudGuGgh1fRSItRgzuX+G4TP3G/oa2dF1m31yxMsalJEOyeB/vRP3UiptK/5ByfU/zrI1vSLm1vv7b0ID7Yi4nt+i3Keh/wBr0NebP4mdcdh974UiM7XmiXD6Xescl4R8kn+8nQ1CniS80hhD4ps/IXOBfQAtC317p+NbGj6vba1p63doTg8OjDDRt3Vh2Iq7JGkqFJFV1PUMMg1BQy3uIrqFZreRJY2GVdDkH8alrmp/C0llM114Zujp8pOWgb5oZPqvb6jFLb+KjZ3AtPEtq2nTk4WbO6CT6P0H0NAHSVU1L/j0/wCBCrKOsihkYMp5BByDVbUv+PT/AIEKmWwpbGTk0ZPrRVTU9Ts9H06W+1O4S3toV3PI5wB/ifbvXOYFvJ9aMmuQtJ/GXjKPz9Cgh0DS2PyXV/GXnmXsyx5G0f71XR8OvEZjLN4/1Tzv9m3gEf5bM/rV8jLUWdFk0ZNclcx+OPCURnvkg8T6en32tY/KukHrtzh/oOa3dF1uw8Q6XHf6VcLPBJ3HBU9wQeQfY0nFolpo0Mmrmm/8fJ+lU6uab/x8n6Uo7jjuatFFFdJsFFFFAGNrf+ti+lZlaet/62L6VyfizVn0TwxeXsA3XAURwL6yOwRP1YVjL4j0aTtTTKV9repatrb6B4OgjmvIwDd3s2fItAexx95/9kfia04PhPY3Ue/xNq2pazcMPm3zGKIH/ZReg/E1v+C/DkPhnwzbWaDdcOPOupj96WVuWYn68fQCugrRRSOOdSU2cE/wi0KBM6Ld6lpMw+7JbXTHn3Vsg1jyahrXg3UobDxeUu7C4cR22sQptG49FlX+En1BI+leq1R1jSbTXNIudN1GIS29zGUdT79x6Edc02kxQqSi9DABBAI5BpR1Fc34KubldOu9I1Fy95o901m7t1dQAyN+KsPyrenvLe1XfczxxKOpZsVj1PRUk43OxHSlrnT4wtJm2aRa3Wpv6wR4T8WOKaT4r1L7os9Iib1zPIP5AfrW55R0TOiKWdgqjqScCse78W6PaP5YuvtM3aK2Uysf++eKrx+D7edvM1m9vNSfuJpdqfgq4H55rZtNOs7BAtnaxQAf880AoAw/7Z1/Uf8AkFaL9mjbpNqEoT/xxdx/PFO/4R7VL/nWdcmKnrDZr5S/TPJNdHVHVdXtNHtfOvJMZOEjUZaRuwA7mgCpb6DoeixNcC2hj2DLTTHJ+pJrnNe1mfVtJnmgL2GiRjBn24kuj/djHYH171pJp11rr/2h4l/0exj+eLTweAB/FIe59ug96qrG3iSY6nIhTSrT5bGHGBKw4MhHp2H0zVR+JCexy2leC7dri31S6Q28yyCRbZOVQD7qn3HGTViPUT4C8ay39wG/sHW2UXUgHFpcDhXb0VhwT2OK6mori3hu7eSC5jWWGRSro4yGHoRXc6ScbHMptO510Usc0KyROsiOMqynII+tPryqDQNe8NMT4L1oQ2ucjTdRjM8K+yEEMo9ske1Wz4g+I7LsFhoCNj/WmWRh/wB8/wD165HSmuhupxZ6Fe31rptnLd388dvbwqWklkbCqB3zXmek3E3i/wAVzeK7iJorCKI2ulRyDDGMkF5SOxYgY9qQ+F9R1y6jufHGrHVBG29LGCPybVD7rklsf7RI9q6dFVECooVVGAAMACtqVJp3kZzndWRy3ibQ0W5XV7VXRk/1/l/eA7OPcd/UVpaN/Z2qLFaa9EsV43zWmoQnYJ17FWHRvUGtggMuCMg9RWVb2EGns2m6mgfRr6UmCTODazHsD2B6g+uaK0bK6Cm9bG4bfxHovNpMms2o/wCWU58uYD2bo344q3YeK9Pu5hb3JksLrvBdrsP4HofwNUbTU7vw7cpp/iCQzWrnba6gR19Ek9D7963rzTrLVLfy722iuEI43DOPoe1chuWgQRkHIpa5k+H9S0o7/DmpN5Y5+x3uZIz7BvvL+tH/AAmcOnyLB4ltX0uY9HJ3xP8ARh/hQB01MlmigjMk0ixovJZzgCuaTxJqGuJ/xTFiphPS9uztj/BRy36VNB4TW5kE/iG9m1OYchG+SFfog/qTQATeLUuJTb6BZzapMDgug2xL9XP9M1E2janqMbS+JdUEFuBlrWzOxAP9pzyfyFbs0tnpNg0knl21vEMnACgVzE7y+I42vtVLWOgQDeImO17rH8T+i+3egDB1y6t30loNBtBbaXv8sSRjEl6542pnnHqxqDQvBcGmX0GoyP8A6SqktGo+RWPp9Bmt+2s21NRrl1AYIQAmn2pGBFH/AHsepH5CrdddGKauzCpJp2RzXhjVV8C+Jp9B1M+Vo2pzGfTrlhhIpW+/Cx7ZPzL9TXqAIIyDkVxWpabZ6vYSWepQJcW8gwyOP19j71hW+n+L/DaiPwzrkV5Yrwllq8RkMY9FlUg4/wB4GpqUXe8RxqK1mep1na5run+HdIm1HVrhYLeIZJPVj2VR3J6AVwz698SJl8uO00C1J/5as8kuP+Ajb/OoLXwnLdajHqfizU5NbvojmJXQRwQn1SMcZ9ySaiNGbZTqRQeGLe91HUL/AMU6zCYLzVCqwwNybe3TOxT7ncSfrWvqWlW+pRjzcpKhzHMhwyH2NXenSlrsUUlYwbbdxNH1y50hYbHxEAqP8sF+o/dyezf3W/SusDBgCCCD0xVCC0gvdHWC7iWWJ1IZHGQaxDHqHhJy0Ak1DRupjJ3S23uD/Evt1FefL4mdS2OroqvY39tqVolzZSrLE4yGU1YqRhRRRQAUUUUAFFFFABRRRQAUUUUAFFFFABRRRQAUUUUAFFFFABRRRQBzmo/8f8v1rkvG2n3dxpUGo6UpfUNJuFvIEH/LTbyyf8CXI/Gut1H/AI/5frVasOp6cUpQSZseHNfsvEuhW2p6dIHimTJXPKN3UjsQcitSvKZtE1fw3q0+seCJokNwd93pc5xBcN3Zcfcf3HXvWnD8WrW1jC+I9C1bSp1+/mDzYyf9lkzkfXFaqSZwTpyiz0OqGt6zZeH9GuNT1SZYba2Qu7E/oPU+1cZL8XbC4Qp4f0XVtWnPCLHbGNM+7PgAVlHSNa8W6lb6l43eKO2t2Elto9uxaJG7NIf42Hp0FNySCFOUmJ4Q06W+sdS1nWoNtzr07XEkDjmKPAVEP0UZ/Gqq6XLo2rCC2uDbPIf9FnP3Jf8Apm49fQ9a7UDAwOlVtR0+HU7J7e4HB5Vh1Q9iPesr6nc6aSVuhoaNr8F1s03WrZbO+CgCOUApMPVG6H6dav3XhbRLzJm06EE/xRjYfzXBrD03ydXt/wDhH/E0Km8gQNDL0MqdnVuoYd6nW71TwoRHqRk1LSxwLtRmWEf7Y7j3HNbI86W5P/whwt2zpesajZY6KJfMUfg+aztW1LxD4bWMHUbPU5JDtjt5ISssh9gnH48CtK98UrcyJZ+GguoXkqhgwP7uJT/E5/p1qzovh1NPme9vpTe6lKP3lxJ/CP7qj+EfSgRy+Nbl1Qah4p0O4u4kwYLe1kRo4vcrnLH866CPxvoyjbdtPYsP4bmB0A/HGP1ro8gVyV+T4u1g6bD/AMguzcG7lHSZx/yzB9B1P5UAQ6Nc2/ivWf7YuJ4za2zFLG2LjOehlYep7e1dkDkcVi3PhDQro5fTYYj/AHoV8s/muKqnwg1u2dK1vUbTHRWl85R+D5oAn1g/6cP9wVh6zqcOi6Ld6ldEeXbQtIRn72BnA9z0rjviNf61pOrWUFxqZnkjXzFmjjEZ54wccGue1rxhLruhWWlahDmSbU7JHkUfK6+emciuuNVKNjBwbdz1L4ceFnsbF/EOtjztc1YCaZ2H+ojPKRL6ADGffNd1TUUKgVRgAYA9KdXK3c3Cqmp6ZZ6xp01hqdulzazqUkikGQwq3RSA8o8MfaPD+uah4Ov5nnNgonsZpDlpLVyQoPqVII/KurrnPiNNBonj3w5rRjd3e3uoJliGWkQBSv5Ek/jToPFguYhJb6RqEiHoyqhH/oVd1KonHU55x10PQNJ/5B6fU/zq6RmuQ0/xZNHZqo8Oaw/J5WOPH/odWv8AhMJv+ha1n/v1H/8AF1xz+Jm0dhur6fcaPqD65okZcn/j8tF6TqP4h/tD9a3NM1K31awju7Nw8cg/EH0PoaxP+EvmP/Ms6z/36j/+Lrnn1i80fWX1LTNA1WKymy17bSRrt/66IAxw3r64qSj0eori1gu4WhuYkljbqrqCDXM2vjoXtuk9p4f1eWJxlXSOMg/+P1N/wmE3/Qtaz/36j/8Ai6AGP4dvtGkabwvd7I85NjcsWiP+6eq/ypD4phmX7FqsEmm3u4fu5vuv/uv0NSf8JfN/0LOs/wDfqP8A+LrnvG/iNr3wpdRyeH9QgOPlmuYY9qH1+8cUnqhPY27HU7TUlkNlOkwjco+09CK5nTtPXx549uZb5RLoXh+URRwk/LcXeASWHcICuPevN/D3iC68P6kLi3O5G4kizw4r1z4NRKfhpZ3md0t9PPPK3qxlcfyAqFCzJUbM7xQFUAcAdBS0UVoWBGeteY+JtPXwR4xtfEGn4h0rV51tdSgX7qSscRzAduchvwr06uM+LkKS/CfxAzgZhtHmQ+jINyn8xSauhPVGkDkZHSrmm/8AHyfpWVpshm0u1kYEFoVJB7cVq6b/AMfJ+lc8fiMo7mrRRRXSbBRRRQBja3/rYvpXA/EDjS9Mkcfuo9WtWk9APNA5/Eiu+1v/AFsX0rmfEOkrrvh680122mePCN/dcHKn8GANYv4jvgr0rHfKcgEdKWuT8AeJxr+hi2vD5WracRb31ux+ZWHRsejDkH/CusrY4NgoPSisbxT4ks/C2gT6lfN9wbYYh96aQ8KijuSaAPHPEOoX9j8QPEkunPJFaveRx3Dpj74iXjOOODW5piwCNLuXRHv88/aFm+0E/gelX/DWguvhuca2ge81SZ7u8B5w74wPwAUfhVG0sLrSNVNrbTCC5PzQs3+ru19GHZx69azumzsjBxSud5B4y0SLZFcO+nnoEuYTEB+fFbVrqVlfJus7qGZfVHBrL0vXoNSkOnalbmzv1Hz2sw+97qejD6U668IaDeP5j6ZAkn/PSJdjfmOa0OM2wc9KK50+FpLXJ0zW9RtQOiPMZVH4NmsMap4qvLy407Q7211BY1KyXzRbFjb+6COGP06UAdJq/iFbKZbGwhN7qUg/d26H7v8AtMf4RUek+H2S6/tLWpReakRwxHyQD0Qdvr1rI0iS98NQut34eu5ZpDumu4ZFmeY+p53fhTda8fWZhSwsZZLO+uGCM13E0X2dT1c7gPw96AL2pSyeJdWbRrRithbkG/mU/fPaIH+f4VuXkSQaSYolCIihVVRgADtVbw9FplppkdtpVzDcIvzM8cgcux6sSOpNW9SI/s+T6VUPiQpbHPVT1TVbPRdNlv8AUplgt4hlmb9APUn0q2rB1DIQykZBB61zmiaWnjTx5c32oKZNK8PzeVawt9yW6x80hHfYOB7mu+pPkjc5ox5nYLODxn4rjE+npD4c09+Y5ruLzLiQdiE6KPrmrv8AwrrxCqb4/Hmoefj+O0tymfp5f9a9DA4oridSTe50KMUeWX134n8HIZfE1vFqmlr9/UbCMq8I9ZI+ePUiuhtLu3v7OK6s5kmglUMkiHIYetdiyhlKsAQeCDXlcdmngnx8dCh2x6RrCPc2EfQQzLzJGvsQSwHsa2pVW3yyM5wVro6mtK30+31TQ57O8jEkUpIIPbjqPQ1mEhVJY4A6k0ln4qtkja10uCbU7oPylsuVXj+J/uj860r/AAE0/iJtKkLed4Y8RAXMiJ+7klGRdRdj/vDv71mS69H4GvhY3d2b7T3BMSht81vgZwR1K+/aptV8N6/4khE99ex6bPCGa2jteWViMYZ+uPXFX/B8GltpcqW9jHbXaExXsTDLh+4Ynkg+prhOgbHd+IPEEKyWIi0mykGVmfEkzA+g6D8c1csfCWm2snn3KNqFyes943mN+APA/ACqEtneeEpWudKje50ljums15aD1aMenqtdHY39tqVnHdWUyzQyDKsp/wA80AYs3hGK3la40C6l0qYnJSE5iY+8Z4/LFVbrxPqHhtF/4SazWSJm2pdWfIY9gUPINbGs65Bo8SBlae5mO2C2j5eU+w9PftVPTNDnuL1dW8QFZr0D9zCOY7Uei/7Xq1AGbo+zxjcLqmpXEb20LZt9PRwVQ/3pPVvY8Cp5D/wlusG2jP8AxJrCTEpHS5lH8P8Aur396p+JtLs9U12HT9Ig8jVHG+4vYCUMEX+0R1J6AH3q5aWuu+F7NLa2gi1XT4RhVjAjmQdenRv5mgDb1cYscDpuFYdSzeKNM1G1aITG3uVIL29ypjkX/gJ/pVGyv7bULRbmzlEkTfxD+tdtB+6c9Tcq67r1l4fsBc3zMS7COKKMbnmc9FUdyao22jeOvESCeS4t/DFq3KReUJ7kj/aLfKp9sU/wDpS+JdbuPGmpoZEWR7bSI5OkMSnDSAf3mYYz1wor0qsqlVt2RcYJLU88b4eeJIV32fju+aXutzaQMh/AID+RrOudb1vwnOkXja0h+xyOETVrIHyQScDzFOSmfXOK9UqC8s7fULKa0vIUngnQpJG4yGU9QRWcakk9y3BM5hHWRFeNgysMgg8EU6uW8PJJ4b8S6j4PupS8Vsi3Wmu+SWt2JBTP+wwx9GFdTXdGXMro5pKzsdFp3/IPi+lWutVdO/5B8X0q1Xny+JnVHZHOX2gXFhePqXhp1hnY5mtG/wBVP+H8Le4/Gruj6/b6rvhKtb3sPE1rLw6H+o961qydY8PwaqyTo7Wt9D/qbqLh09vcexqRmtRXO2Gv3FneppniVFt7ljthuV4iuPoeze1dF1oAKTNLWPeOwu3AYgZ9faplKyJbsbGRRkVgeY/94/nR5j/3j+dR7QnnN/IoyKwPMf8AvH86PMf+8fzo9oHOb+RRn3rA8x/7x/OjzH/vH86PaBzm/misezdjdoCxI+tbFXGV0WncKKKKoYUUUUAFFFFABRRRQBzmo/8AH/L9arVZ1H/j/l+tZGs6tbaHo9zqN822G3QscdWPYD3J4rB7nqR+BC6pq1hotk13ql1HbQL1eRsfh71gL4w1HUgH8OeFNW1GBvu3LRrDG49VLHJH4Vo+D/BUurTxeKPGsa3F/J89nZOMx2KH7uB3cjkn3xXowGOgq1Ducs8Q7+6eUnxbq9gc6/4P1iygH3p4kWdE9ztOcfQGtzSNb07XrMXWk3cd1CTjch6H0I7Gu6xntXn3jHwLJDNJ4l8GRra63EN8sCfLHfqOSjj+96NTcF0CGId/eNais3QNag1/RLfUbYMqyr8yN95GHBU+4NWry9t9PtWuLuQRxr3Pf2HvWR2XVrmrq+jx6npEEyS/Zry1XzLe5HBRgO/se4rC07xJqXjCM6dpwWzMQ2311kNjtiMd8+tW7Wy1DxXDE+pCSy0gAFLUHD3A9X9F9qs69pAsUi1bRvKtbuyTbsyFSWPuh/pXQjy5bsgTwlL4dX7T4SlKSADzbWdiUuMep/hb3rX0fxHb6m7W0yNaahGP3tpNwy+49R71m23j/Sby0jezW4urh1ybe3hLuh9D6VgeMLvVNQtreRdHSxuWkCWcrzf6QWP90Ace+TQSdN4i1O4luI9E0htt7crmWXtbxd2Pv1A96fHqWgeFbCKxa8ii8sfczudiepwOck1xdtoU+jalLL40urx4r1lLXVvKRETgDbJgZH8q9A0rRNHsI0k0yzt4wwyJEUEsPXPegDObxNqN823RNCuZVPSa7Pkp9e5/SkGleIr/ACdU1hLOLvFYx8/99nn9K6C5uILO2ee5kWKKMZZ2OABXMedf+MG22pksdEP3pvuy3I/2f7q+/egDhfF2g2mqXhtvDv2i9uLcEz3UsxcE/wB3cep9qoy+CbiP4e3UiJjVVZLyNSOQ0LCRU/Er+teoXVjbaa0drYwrDCiAKqjFV67adNON2YSm07Gx4a1y38R+G7LVbNw8dxErHH8LdGX6g5H4Vq15JEdU+HmsXF/o1rJqHh+8kMt3YRDMls56yRDuD1K/U132geNPD/iaFX0fVLedj96LeBIh9GU8g1yyg4uzNYyTRu0VXu7+0sLdp725igiXq8jhQPxNefa18RJtfaTSfh0ftU7HZNq+3NtajuQejt6AVKTbsht2K97c/wDCR/FyaWFvMsNBtTbBhypuJP8AWL9QoTP1q3ceH1jma50adrCc8lUGY3+q9Pxqbw9oNr4d0iOxtNzcl5ZXOWlkPLOx7kmtSu+FNKNmc0pXdxmleJpNMt0t/ElsbQE4W7TLQuc+vVT9a6yKaOeJZIXV0YZVlOQRVLT4Y59KEcyLIjZDKwyCM1kyeGLjTJGuPC119jJOWtJPmgf8P4fqK4Z/EzojsdNSEZrnbXxWsNwtn4ht20y6Y4VnOYpD/sv0/CuiDBlBUgg9CKko5O6t5fCN+9/Yo0mkztm6t1GfIPeRR6eo/Guot7iK6t0nt3EkUihlZTkEGm3lza2trJLfSxxQAfO0hAGK85Gs3ukvcSeGY5BoUrj/AEm4iPl27MeWQdSn8qAPQtR1Sy0q2M+oXCQRjux6+w9a4/xDqF94j0a4jithYaQw/eXl4PmdfVU9PckVsWPh2wgxqup3J1K427/tVwQVQdcqOiisu5Mvi+QTuCmhQuPLQjH2th/Ef9kdvWk9hPY8x8O+Fbi58S2i3EDmyJMqyOuBIin+v9a9A+Fs66RNrPhKZisun3TT2yn+K3kO5SPoxYH6V0YUKAAMAcCub8T+H7y6u7bXPDkyWuu2IIidh8k6H70T+qnnHoTms1PXUzUtT0aiuK0H4maTfSjT9dJ0PWE4ks70hNx9UY8OPcV2QmiaPzBIpTGdwPGK1NR9cB8Wbr7XoFt4YtmBvNduFtwgPIhyDK59gv8AOtDX/iToejv9kspv7W1V+IrCxPmSMffH3R7msTw7ompT6xN4m8VlG1e4Ty4oEOUsov7inuT3PeplKyJbsjpoYxFAkY6IoX8hV/Tf+Pk/SqdXNN/4+T9KwjuZR3NWiiiuk3CiiigDG1v/AFsX0rMrT1v/AFsX0rMrGW56VH4EYGs+GmutSj1jRbxtL1mFdq3MYysi9dki/wAS/wAqfF488V6SBFrvhOTUNvBudInjYP77JChH05qzrXiDT9At1l1CUhpDtihjXdJK3oqjkms6F/Hmsr5umaDZ6XbH7rapcnzWHr5aKQP++qcW+hnVjTvruWm+I/iDUFC6J4Jv4mI/1uqTxRIvuQjM36VVs/Dl7f6vHrXjC9TUdQi5t4Y1It7XPXYp6n/aPNOlt/iJpi+dcaVpOqxD70dnctFJ+AZSD+Yqxoniiy1qaW1CTWd/B/rrK6TZKn4dCPcZpychUo0r6G1VPU9Nj1O18pyUkU7opV6o3YirlA6iszpauhLVIfEMUmk+IYRFqtnz5kZ2lvSWM+h/SnnV77wswj8QE3OnZwmooOU9BIvX8Rmjxl9ntreC+hn8nVYW/wBECLuaY/8APMjuD09qq6HC/i2Vr3xAwBtpNq6YPuwsO7/3j+ldB5JOs174y5hZ7LRM/fBxJdD2/ur+prprOyt7C1S3s4liijGFRRgCufuNDvdEma78MuDETul06Q/I/uh/hP6Vds/FOnXNnNLM5tJLdSbiCf5Xjx147/UUAWNc1iPRtPM7IZpnISCBfvSueiiqmhaF9nt5rnVQk9/eHdcMVyB6IPYVhWWtafc6j/b2t3KpwRYWn3mjQ/xFRn5j+lax8R6jfcaJoc7qeBNdsIU+uOSfyoAs3PhDQrptzafFG/XfF8jD8RWD4n0r+wtAu7iy127hZIyUgnnDK59ADWr/AGR4g1DnU9ZW0jPBhsIsH/vts/yFY2tWOiaYrWllZtqmrSLx50hkKD+85PCj8Ka3E9jyvQPFep6PKsUJNxCxx5Dc5+npXqfwZCN8PY5gcyT3c8k2RzvLnOa5vQfAZ03XFu7yRJo41DIqj+P6eg7VteAbxPD/AIp1fwtc7YkuZm1DTs9JEc/vEHupxx6GtZRmoakqUW9D0iiiisSwrzf4wTSWcXhm8tYxJcw6sTEuMlv9HmyPyr0gnFeY69djxT8TrO1tnZ7Hw4rzzsv3WunUoqfgjOT74qoJuSSFJ2RzWn6rdeIHzfr9qbPFr54iX/vk/erv9Eu9atLDyrPw5EIw3AW4VcVg6x4bjEzXthbpIWOZrY8CT3U/wt/OtTw2NS/s8z+HNQW4jRyJLC/HzRn03DkfiDW1RNRszOLTehuf2t4j/wCheT/wLWsPUpPEdnqg1210ERtGhF1GtwrefGPb1HUVu2/i6BJVt9btZtKuDwBMMxt9HHH54reSRJo90bK6MOCpyDXOanM2fiLXNQs47m10KOSGVcqwu15rmbvUNb0bxGP7F0dUuLoF57FJw6t/tnH3T796t6hqsvhzXLiw0CaM2t2w8xnBMdhKx65HY+nYiuw0bQ7fSYCUdp7mb5prmTl5T6+w9BQBxnha91W5EuqHSVv9QkJWaWS4CNFg/wCrCHlQPStbVPFWuacsUT6Gi3Fy/l26C4DFmx6DsOpNWvEtgumpL4g06dLO7gTdLv8A9XcAfwsPXsCOaq+Erldb1S61XU/3eop+7js3HNtH6jPUn1oAj0RPEOkwSGTQluLu4fzLi4a6XLt/QDsK0/7W8R/9C8n/AIFrW1d31rYQmW8njhjHVnbFYTeJbvUyY/DenPcA8farnMcI9xxlvyoA5X4iz6pc+FZZL/Qorba64uBMrsnzD055ry2y12/0ixvUsmYrNbyKycnHyn5h7jrXrHiizlmiFnql9Jq2pz8pZwfu4IR/ebqcD1J59KxvDXgc6bqNzLqXlzp5eyIAcEMOT+WR+NawjJ2aIlJLc7z4cwww/DjQkt2DR/Y0II7k8n9a6auA+FepfZdNufCd8Ql9oshVF/5627EmNx69x+Fd/WbVnYtBRRSEhQSeAOppAeZ+PZ5rP4oeHJ7O2a5lfT7xZI0IDFQ0HrgcVYTxNaKcXsN1ZH/pvCcfmMiqVpd/8JT8R9Q16BmbTtNh/s6zb+GVy26Zx7ZVB+BrpGRXGHUMPQiu2imonPNq5s6JqtheWMYtb2CU45VJASPwrVrAi8MaNf2Ub3FhHvI++mUb8xioz4Umtv8AkEa3fWnokjCVB+BGf1rkl8TN1sdHRXN58W2PUafqaL6FoHb/ANCGacPFcltxq+i39p6uqCVPzU5/SpGbOoada6nZvbX0KyxOOVYVzwuNQ8JMFuzLqGj5wJwN0tsP9ofxL7jmtW08T6NekCDUId391zsP5HFaQKTIcFXUjnHINADba5hvLdJ7aVJYnGVdDkGsq9/4/JPr/Sqd1ot5ok733hrDRsd0+nucI/uh/hb9DVceIbC8WS4aX7OUIWWKb5Wjb0IrOpsRPYu1la34k0vw9Cj6nc7HkOIoEUvJKfRUUEn8qb4m15PDugzX5iNxKMJBAp5mkY4RB9SQKl8GeCv7NH9teIil94guhummYZWAHny4weij16mojG5EY3MWPxF4r1DEukeB737MfuyXtxFCW/4DuJH4gU1/GWp6S2fFfhTUtMg73UOy5iUep8slh/3zXp9NZFdSrgMpGCCOtaciNOVHL2Go2eqWaXenXMdzbyDKyRNkGrNcn4r0UeA71vFWgRlNMZwdXsEHy7D1mQdmHUjoQK6mGVJ4UlhYOjqGVgcgg1lKNmZyVi1Zf8fiVtVi2X/H4lbVaU9i4bBRRRWhYUUUUAFFFFABRRRQBzmo/wDH/L9a4zxPCNW8WeFdBk5gur1riZeziBfMAPtkD8q7PUf+P+X61xuvuNO+IHg/VpOIkupbV2PQGaPYv68ViviO+d/Y6HqgGAAOgpaQUtbHAFBoooA8YfU7fwV458T2EqkW9xJHfWsS92kBDAenKZ/GpbO8n1K5F7PY3GoXAOYYgpjgh/4Eep96h1TSl8Z/ETxJMJSkWn+TZwOvK+YoLPn1++B+FT2UFzZXC2NxqN3p1z0jLMHhl/3SRx9M1m7XOuHNZX2O2trXxTqNrGJby10uHaMLAnmSEf7xOB+VWo/Bemuwk1R7jVJRzuu5NwB9gMCq9oniy0to/Lm0+/j2ggOrRv8Ankj9Ke3ibU7P/kKeHbuNR1e3dZh+Q5rQ5ZblXWLJPCN1/bumRpHZYC31soABXs6j+8P1qbw1btrdz/wkt9yZlxZRZyIY/X/ePesU+KdK8T69F9tuhbaTakPGk4KfaZPU5/hHp61fhvbfwxqHn2V1FPoN4/zCJw4tZD34/hP6UCOylhjniaOZFdGGGVhkEVxeqiTwOy3OkTiS0mfH9lyNlmJP/LLuD7c962tW8SLbTrY6VH9u1KUZWFDxGP7znsKTSPDpgujqOsTfbtSccyMPliH91B2Hv1oAxtGx4zu3u9ZkCx28mE0rOPKI6NID1P6V2oUKoCjAHYVj6x4bg1GVbu0kay1GP/V3UPB+jDoR7Gqln4insLtNO8TxrbTsdsV0v+pn+h/hPsaAJ9Y/4/R/uCqNXtXOb0EcjYKo16NP4EcsviYlcr4o0nwRNJ53imPTIpCP9bcSLEx/HIpJbzV/GWuXGieFJxZ2dm2zUNV27tjd4ouxfBGTyB9a6vRfhn4Y0YeZ/Zy3t03Ml3enzpHPqS3T8MVlUqxTtuXGDep5xpulfCq5u1+xzaTdTjAVHuw5/AFq9CtoILe3SO0jSOJRhFQAKB7YrZvvCHh3Ubcw3ui2MqEYwYFGPxFcRqvgjUvBgfU/A0k11Yx/NPok0hcMvfyWPKt7EkGphWV9UOVN23OkorP0TWrPX9Ih1HTpN8Mo6HhkPdSOxB7VoV1IxN/Sf+Qen1P86u1R0shdOUk4GT/Osu68WJJcmz0G3bVLoHBMRxFGf9p+n4V5s/iZ1R2Ni/t7O4s5E1FInt8fP5oG0CuEiuL+3vzF4AaW9tFyHjuebdP9xzj8hmt+PwzdanKJ/FN39q5ytnDlYE/Dq34mujhgigjEcMaxoowFUYAqSjg9HFlf6kq+MJpm1VWylteDZEv/AFzHRvrzXcyxQtbPHKqmEqQwI4xUOo6XY6pbNDqFvHMmP4hyPcHtXn0ttq17Jd2GgXNxf6JbsBKskgVnweY437j6/TNAECyD7X9kE0//AAiH2raJccbu6bv+eee/0r0W7SOPTkSAKsa4CBegHtWZpeqaLqtkdIMItWVNj2FwmxgPYHqPcVmNNP4WlTTL5mk0uVwLS6Y58r0jY/yNTLYT2NSigVz/AIn8SSaQbbT9Ltvt2s37FLS2B446u/og6k1zpXMC7rmn6NfWLDxBBay2y8k3IG0fieleftpfwdFwYTeaOMtkxi/G3P03YrtNJ+F9tcSLqHje4bXtRPOyQkW8P+ykY4wPVs5rrF8MaEsHkro9iI/7v2dcfyrZQ8zVROa8Pad4fsrLPhqCyS3bHzWuCG/Eda2KxNY+FumGVr/wnLJ4f1QDKyWh/dOfR4z8pH0xVXw14iu7q+uNC8RQLZ65ZAGSNfuXCdBLHnqpx+HeolFrUmUWjpauab/x8n6VTq5pv/HyfpUx3JjuatFFFdJuFFFFAGNrf+ti+lYWp6hDpWl3N/dHbDbxmRz7AVu63/rYvpXBfEHMuh2dkf8AV3upW0MvuvmqSPxxisX8R6FN2pXNfwB4Xec/8Jb4jj83Vr4breNxlbKE/dRR2JHJPXn2rv6bGixxqiDCqAAPQU6tjgbbd2Fcn448Gp4isRe6cRa65ZfvLK7Tg7h/A3qjdCD65rrKKBbHnnhnWv7e0GG8dPKnBMVxF/zzlU4Yfn/OnahrHk3AstPj+03zdEB+VPdj2FcRq2tz+HPGnibTNOCRpdXyzBgQPLLRJux6E4FbWhxyzwiOy1WythIcyGBhLM59WY55rJxszvjV5lZHfaZo0WmyNqetXS3WoMMvPKQFiH91B/CP1rD1vW7KHWo9S8NSPeXy/LdW9shZZ4/9ojoR1Brbg8G6YWWXUTNqco53XkpkH/fJ+UflW5DbwW0Qjtoo4kHRUUKB+ArU4DmbPW9e1+0W40m0tbK1fIE1zIZGGOvyjGD9TXNf8InP4y1u4lvtUmntrZTCblI1QSSeigDlR7k81a8SSNpWt3Ntok0kdrcqJNUWFci2BON49CwyD9M13el29pa6XbxacEFqsY8ooeCPX3z1zQBy2ktb+FZksta0+2tiTti1GKP5JfTcTyp/GuyDoU3AgrjOe1VtUksYtNnfVjELQKfM87G3HvmvPhp+sXFpI+lx3n/COmQEWbPiaSPnOwnkL047igDprrWrvWrh9P8ADWAinbPqDDKRey/3m/QVbh0S10bSJUtlLSP80s8h3PK3qTU3h++0u70xF0fYkMPyGFRtMR9COxq3qX/IPk+lVH4kKWxztY3iLw5Br9tEfNktL61fzbO9hOJIJPUeoPQg8EVs0V6TSaszkvYxLH4hapoKC28b6ROwj4Gp6dGZIpB6svVD+dXz8YvBGzK6wHftGsTF/pjFZF9420y31F9N09LnV9RT79rp8JmZP97bwv400674gQGZvAuqhO7K0ZfH+6DmuOVOmn8RupStsS6l4x1/xVG1l4TsJ9JtJPlk1W/j2uq9/LjPU+hPHtV7QtDtPD+lpZWQYgEtJLI255XPVmPcmqekeMNL1a9NhmWy1FRlrG9iMMw/4C2CfwreropwjFXRnKTe4U3+w5nH9q6JILbUUbDA/wCruF/uuP69RTq2dMkSHTnklYIisSzMcADFTX+AKfxFfTtWs9ft5bW/tVjuYhi4s5wDt/PqPeuXk02a91SW28DXk9hbqGW6m3b4AcfdRTn5s9wRip9S0+Xx3c+fphawtYUZE1Bcq9xkEYGOqfz7VseHdTityuh3ltHp97Avywrwkqj+JPUVwnSZls66FpD6Xr+imO0kUiW7tsyxyE9WfPzA98nNWfC+uJDP/Y9xeR3SKpayug3+ui/un/aXp9MGtG98V6fBcNaWe/UbwcG3tV3kf7xHC/jXBar4fvfE/ipbe1tbXSZoV82drY5eLP3Q5Xjcf5UAb1/r2m6xrCzX9wP7JspP3EQ5N5KD1CjqoPT1IqXULPV/Et3Dd6XZjRpIP9Xez/61l/u7Bxg++ayPBwu/D8c0L6FFc3Fo3l3DQD/SE9Dg/eUjkYrutL8Q6Zq25bS5Xzl+/A/yyJ9VPIoA5rw9ZWUupPb+Jkkn1yL5v9Lfcjrn70a8Lj8MitfUtannvG0fw4qSXYAE05GY7Ue/q3oKzdZJ8ZXQsNIXbFaSZfVF4MTf3Yz3Pr2qfw7OvhyWPQdTgS3kdiYLpR8t2fUn+/6g0AW00ODRtKYKzT3MrBp7mQ5eVvU+3t0qpW9rH/Hl/wACFYVd1D4DnqfEYOv+HpL+6t9V0a6On61Z58i6UZDqescg/iQ+nbtU9r8UH0yMQ+NtHutNmThrq3jM1tJ7hhyv0NaxIVSWIAHJJ7VzMnjmxnu5LTw/aXmu3ETbZBp0JkRD6M4+UfnRUpwer0CEpLRG2/xh8F4At9Ua6kPSK3hZ3PtjFY2q614j8cxmy0+2n8P6LJxPczjF1OndVX+AH1OTSNr+u2qmW58DaukfVmh2St/3ypzV7RPFOk6+0kVhcYuIf9bbSqY5Y/8AeQ8is4U4N73KlKVti9p2n2ulafDY2EQit4V2og7VaoorqMTotO/5B8X0q1VXTv8AkHxfSrVebL4mdcdkFFFFSMpXmj6dfj/TLG3m93jBP51lP4MskO7Tbq905uv+j3DEf98tkfpW9NPFbxNJPIsaL1ZjgCsKXxnprSNFpgm1SYHGyzjMg/FhwKAGfYPFFkM22q21+o/gu4NrH/gSED9K8k+I9/eT+JTFe28NrPEiiQQPu3HqCT9MV64bjxRqP+otbbSoj/FO3mSfkOPzryrx9o8za5JJDeS6pcxIPtbiMAR+mdowPpSES+F9Xk8U+LfCml325hp8ktzIT0con7sn3Bx+Ve514lp+jjwVqnhXXLobd1y1veu3AjEy7Fz6AMRXtoIIyORQrW0BW6BRRRTGQXtpDfWM1pdIJIZ0MciHoykYIrzr4ayyt4Fs4Lht8lmz2pb+8I2Kg/pXd6/rFt4f0C91W9YLBZwtK+e4AziuK+H+nT6b4IsEvQwuZkM8wYYIdzuI/Ws6mxE9jrLL/j8StqsWy/4/Eraop7BDYKKKK0LCiiigAooooAKKKKAOc1H/AI/5frWD4j0OLxFoNxp0rmMyANFKvWOQHKsPoQDW9qP/AB/y/Wq1YPc9SKvBJlPwL41Oog6D4iC2ev2ICSRucC5UdJYz/ECOSOxzXcZrzzXfDWm+IYoxfxMs0J3Q3MLFJYT6q45FUra38daNGItN8S2+owLwianagso/30wT+NaKS6nJOhJP3T1DNcd448bpoMC6bo6i91+7+S1tE52k/wAb/wB1R71gXEfj7VV8q+8R2emwnhhp1rl2H+8+cfhVrQvC2m6AZJbVZJrybme8uXMk0p92PP4dKHNdBQoSb94d4Y0P+wNDjtZJTPcuxluZz1mlY5Zj/ntWheWVvf27Q3cSyI3Y9vp6VYorPU7rK1iK3fVvC1vGzeZqmk7Qc9Zrcf8Asy/rTr/Vx4pmj0nQbgm3lUSXl0mR5cZ/gHox/Tmrur6zJY6fbWWnoJtSvF2QR/3eOXPsBWVJ4ZHhiw/tPTtT+zXiDfdPOxMVy3U7h2OehHNbLY8uW7Oqj0uwgsY7X7LD9niXaqMgIAH1rh9V0bS/E92+n+HtPiRFOLjUEykaeqqAQGb9KfZa1c+NbxLDUWOkWvlh3t8lZLoH0bjC/Tmu8tLO3sbVLe0iWKKMYVUGAKZJ5vYeG7rwr4hazi1m4tIrwj7NclEdXYD7j7h144xXU48XWZ4bTtQQeoaNz/StfV9KttY06Szu1yjjhhwUbswPYg1l+H9UuIbp9D1ph9tgGYpuguY+zD39RQAw+KL+041Tw9exf7cBWVf0Of0ok8TeG9Xt2tL+VVV+Giu4mj/9CA/Sul4rK1W/0S3hI1eW02H+GUBs/hzmgDznxRqr+EgqaXqCX9pcIRAryB2gPse4+tVL3xuZPh7c3tv/AMhE7bVEHaaQhEb6ZYH8DWR8QVsLnU4LjQrNobNl25W3Mas2eo45rFvPDd9pujWOrXpMEI1SyLQk8lfPTk+lbxnJaLYzcYvc988IeHrfwx4XstMtlAMcYMr95JDyzH3JJrbpFIKgjkEcUtYGgUUUUAeVm2Hhj4sXumwKY9P1u3+3QoAAqzqcSgfUbTWle6/b2032a1R726/54wjOPqeg/GqnxJgXVPHHhnTYJ2guPJu5GljPzRoVQfqRiksvDmoadD5VnrHlL3xaR5P1OOa7KUpcuhhNK9zc07QdQ1y0R9fvDFa5JFjbMVU/77dT9AcV1dpY21hbrDZwRwxr0VFwK5nTtH8QNZqY/EzoMnj7FEe/0q3/AGN4j/6Gl/8AwBi/wrln8TNo7HRUE4rnf7G8R/8AQ0v/AOAMX+FYN1/wkd/rJ0bT/Eck6qv+mTi1jQQg9ACBncfapGa2pXs/iPUJNG0aUx20Zxe3i9vWNT6nue1dFY2MGnWcdraRrHDGu1VFc3p3hTWdKs0tbDxG0US8gCyiJJ9ScZJ9zVr+xvEf/Q0v/wCAMX+FAGjquhWGsR7b2AF1+5Kp2uh9Qw5Fcpr9tqei6LNHfsus6OB83mkLNGPrwG/nW1/Y3iP/AKGl/wDwBi/wrn/G+k65H4RvGutfa7jC/NCbaNN34gZpMDh/DnjK7HiS0iurhzY8wosh5UE8EnuRxzXafDWBdd1jWfF1wN7z3DWdkT0S3j44+rbifwryfRNGutb1JLSzX5ics3ZB6mvYvgw8f/CsLC3UbZLaWeKVe4bznPP4EUrK4rK53goooqhhXnvxVtBp9jY+LrVMXei3CtKw/jt2IEin8OfbFehVxvxbkSP4S+Ig/WSykjX3ZhgD8yKAL8TiWJHXoyhh+NXtN/4+T9KydNRo9KtVkOWWFAT6nArW03/j5P0rmj8RjHc1aKKK6TYKKKKAMbW/9bF9K4rxzYTX3hS4a0XddWbx3cIHdonD4/EKR+Ndrrf+ti+lZZGeDyKxl8R6FNXp2NzQNYt9e0Gz1OzcPFcxB8g9D3H1ByK0a8ngfVPh9qc11pNtJqPh66cyXFhF/rbRz1eIH7ynuvHPIrttI8eeGdZhD2esWyv/ABRTv5Uin0Ktg1qnc4pQcXZnRVHPNHbwSTTOqRxqXdmOAoHJNZGo+MfDukwNLqGtWUSr284Mx+ijJP5Vwmr6xqXxHf7Bp8E+m+Gd2bm4mUpNfAfwIvVUPcnk9MUN2FGLk7Ir+HLCDxKms65fwApq980tvxhliQBEYHsTtJ/GprjTo9NbbrNnHqFieBdCPMkQ/wBrHJ+orqLeCK1t44LdAkUahUUdAB2p+A3DDIPUVlfU9D2aUSS08MadNbR3GhapeW0bDKNbXRZD+HSqer3HiDQjBBa6tFqFxdP5cFvNbgOfVsjsByTU2s2J8MQzazotwlsq/NNZyZ8qc+igcqx7Y70zwldR6lqlzf6rmLWG+UWsowYI+wXPXPcitjzRmlR61oNpLHfaF9vadi9xcW86s0hPqrEduMVkW3jK38I3stpdWt9Fp8oaS3imhKtE3dAehU9sHiuu1bxC0d1/ZuixfbNSYcqD8kI/vO3b6daZa+ErZ4Z5Nab+0Ly6TbNLIOAD/Co7AUAZmkG28TXMeoa1qFpOVO6DT4plZYfQsM8tXZgADjpXEWOkadaaj/YWv2cM2Rmyu2XBmQfwkj+IfrWt/wAIfBDzpmo6hYnssc+V/I5oAm1Xw4lzdf2hpsxsdRUYE6Dhx6OO4qifEUiI2m6/B9ivSMI/WKf3RvX2PNTnT/FFmP8ARNWtb1ey3UBQ/wDfSk/yrJ8Sahqq6BdLrvh6KaGNCxlt7gMox3+YAinF2aE9i2HUsVDAsvUZ5Fczqh1DxT4lHhXRbhrWCOMS6rex/eijP3Y0PZm/QA1wfh7xPc6Vra3NxI8sUmEmDHJ2+v4V6j8IU+1eG77W5UxPqt/LMx77A21B+AFdM6146GUadnqdZoPh7TPDelx2Oj2kdvAnZRyx7knufetOiiuU2MPxP4R0nxXp/wBn1SAb0O6G4j+WWBuzI3UGuL8O3+oWeq3nhnxE4k1KxUSRXHa7gJwJB7jgEepr1CvNvik0Wja74Y8Q5dWju5LOfZ/HC8Ltg+vzIhrSnNxkRON0a91dQ2ds89zIscaDJZqr6fBJr9qbvWZPsWiRtuSCRtpn/wBp/RfQVxMetz6/ffaZWtreFG/crcSfKnvtHLN9cAV2GkQ+HZIxNrWsRX8yt8qzSgRr9E6VtVnzR0IhGzNv/hJxc/6N4Y0+S/2/KJQPLgT/AIEev/Ac1VvfB114hUP4l1DLqD5UVoNqxEjGc9W/GtiPxHoMSBY9StFUdArgCo7zxhoVnZy3DalA4jUtsRwWb2A9a5TY5xdXuPCluugNYwpfzHZZTRAJFPnjc3oR3FdXoWjx6Np/lbvMuJGMlxMRzLIep/p9K5TT30LVobjUPEd9avdXq4WJpR/o0f8ACq+h7k+tPsvGFr4fuhYapqcV7Yn/AI9r1G3Mo/uSAdx2I60AbHiWzlsnHiDTCFurNCZkJws8Q5Kn3xyD61itbQ/EWaO4htxb6XCebnbiaYjqqnqq+9NTWrDxXcedq2oQWuko2YrNpQGnx0aT0H+zT21zSvDeurcafe28mmXz7biGNxmCTtIB6HofzoA07fSNa8OW6xaLNFf2Uf3bW4+R1Hor9/xom1nR9bhbS9egksJn48m7XZz6o/3Tz6GtQeKNEP8AzFLX/v4Kr3mseGr+ExXl7ZTIequ4NAGPd315oESWOsytcWLsBb6geceiyHsf9roakiuIZpHSKRXaPG8Kc7c9M1zvi6XTdK8PXD6DrSyRNhTp7uJUOTjjPIx1rzvQvE83h24ubo7pY2hfcnXJAJX9QK6KVRRVmZTjd3O/Flc/EPxLc6VHNJB4c01gl/JGSrXk3XyQf7oHLfUCvTtP02z0qxis9Oto7a3iXakcShQo+grm/hfp4sPhzpWVAmuYzczHuzuSxJ/MD8K66spycndlxVkFcv4t8DWHiaFbhP8AQtWt/mtdQhGJIm9Ce6+orqKKgo828L6xc6hBc2OrxCDVtNl8i7jHQnGVcf7LDkfjW7XOeLpbbw/8WtPvnkaKLVNMmjnCgkO0LpsOB3xKwqwdbvLvjStLmcf89bgiJf6n9K76c7x1OaUbPQ73Tv8AkHxfSi91Ox02Pff3cNuvrJIFz+dc7YaPrmoWcZ1HWfs0RH+psU2nH++ef0rTsvCmkWUnmi1E83UyzkuxP1NcUviZ0LYqt4vS6YpoenXmot0DrGY48/774H5Zo+z+KNR/4+Lq10qI/wAEC+bJ+Z4H4V0SqqLhVCj0ApakZz8Pg3TTIsupGbU5hzvvJC4/AHgVtxww2sISJEijUcBQAAKLm6hs7d57qVYooxlnc4AFcwPtnjCT/lpZ6ID/ALsl3/8AEp+poAkudUvPEdw9joDGKzQ7bjUO3+7H6n36CnQ6Xa6UrWtpHtQHLE8lz3JPc10Ntaw2dukFtGscSDCqowBWVe/8fkn1/pWdTYiexl6xpNprmkXOm6jH5lvcxlHHfB7j0NYmgeMrjwlJHoPjuVljX5LPWXB8qdewkb+B8evB9a6iorm1gvIGhuoUmiYYZJFyDWcZNEKVjooLiG6hWW2ljmiYZV42DA/iKqatrem6FZtdavfQWcKjJaaQLn6Z6muCf4b+HhK0lnFc2JbqLS5eNT+AOKnsPAHh2wuhcixNzcKciW6kaVh/30a09oi+dFG6u7r4majAfs81p4WtZRKFnQo+oupyp2nkR5556+ldkAAMDgCkACqAoAA6AdqWsnJtmbdyey/4/ErarFsv+PxK2q1p7GkNgooorQsKKKKACiiigAooooA5zUf+P+X61WqzqP8Ax/y/WuX8YaxcaRogXTlD6jeypaWan/no52g/QZyfpWD3PTi7QTItU8T3B1Y6J4XsDq2rAAyoG2xWwPRpH7fQAk1Yg8A+KtRTzNd8Xtas3/LvplsqqnsHbJP5V1Hg7wraeE9Bjs7cb7iQ+bd3DfenlPLMT9f0roMVqopHFOtKT0POJ/h94msVMuh+MppnXkQajbLIr+xYYIqnYeJ7yz1aPRfGFgNK1GQ4gkVt1vdf9c345/2SAeRXqeKxfFXhix8WaFNpuoLjcN0Uy/fhcfddT2INDimKFWUWZtVNRv4dNsXuZzwvCqOrHsBWL4R1i4n0i6s9bcLqOkTNa3jHgMVAIf6FSD+dZr6rJrWsiS0i+0NEf9EhP3U/6av6ewrO2p3OorJo63Tp49Ctf7Y1xvO1a+ULBbxjLKv8Maj8sn1q/Z6Hd6zdR6j4nx8h3QaepzHD6Fv7zfypNJ06x0OFdU1u9jlvpEG65nYAIP7qZ6CpG8Z2c7lNGtbrVH6braIlP++jxWx5stzT1XQ7LWbYRXkXKHMciHDxn1U9RWIuqaj4XkEWuk3mm9E1BR80Y/6aD+oqYv4s1I/KtnpER7k+fJ/QU4eDLa6bdrd7d6m3dJpMR/8AfA4oETz+M9ChKpFerdSsPlitgZGb8BWJq41jxOsLadoz2Mlu/mQXl5J5bRn2UZznpirknhmfw/dPfeEljRXOZrB+I5P90/wn9K1tG8QWmsb4lDW93F/rbWUYdD9PT3oA5zRoNR8RG4h17WbmC5tn2TWdqBDgdjuHJBHNdDYeFtG05vMt7GNpf+e0o3v/AN9Hmq/iHR53mj1fRyE1K1GAD0nTujf0rQ0bV4NZ05bqAFDnbJE33o3HVT7igDN1y3hmvY/NiR/LAZNwztPPIrD8QaPDr3h+80ycDFxEyqx/gbHyt9QcH8K6DWP+P0f7gqjXoU0uRHLL4iL4deKG1rQ/7P1MeTrWl4t72A9cjhXHqGGDn3rsa8y1zww17fxavot62l61briO6jGRIv8AckX+JfapbX4g+I9JiEXinwtcXLLx9q0f98r++w4K/TmuWdKUXobxmmekVDd3dvYWkl1eTJBBEpeSRzhVA6kmuEf4rCf5NL8J+IZ5T0E1n5K592JwKyLzTfEPjiZT4yaKx0hWDro9rJv809vNk43D/ZAxURpykxuSQeHZpPFHirUfGM0TR20yCz01XXBNuhJ8z/gTE/gBXWU2ONIoljiUKiABVA4Ap1ehCKirI5pO7ub+k/8AIPT6n+dXc1S0r/kHp9T/ADrM17W50uE0jRQJdUnGeeVgTu7f0HevOn8TOmOwzWtXubm+GiaEw+2uMzT4ytsnqf8AaPYVqaPpNvo1gtrag4zl3blpGPVie5qPQ9Fg0WzMUbNNNI2+ed/vSuerGtMnFSUFNeRI1LOwVQMkk9Kwb3xXCLlrLRoX1S9HBjgPyR/77dFqunhy91hhL4pu/NjzlbG3JWJf97+9QA+48VNeTNa+GbU6jMDtafO2CM+7d/oBVa48MSXUa3XiS7a/nDDEIG2CP6L3+prqbe2htYFhtokijUYVEGAKh1L/AI9P+BCplsJ7HMaVodhowm+wQiPznLMe/wBPpWH4ev18FeP73Sb9hFpWvS/arGYj5VuCMPET2zgMPcmutrO1zQ7HxDpclhqcIlhfBB6MjDoynsQeQaxjKzuZJ6nZA56UV5lZal418IL9mmth4o0tOIpUcR3ca+jA8Semcg1e/wCFrwBdr+FfEwn6eWNNJ5+ua35ka3R3+a808a36eLfFNn4Rsf3trZzJeatKp+VApykR92I5HoKLzXvGvin/AEfS9PHhqxfiS8umD3JH+zGOFPuT+Favh/w7Y+G9P+y2CsSzF5ZpDukmc9WZu5NRKVloTKSNQAKoA6DgVd03/j5P0qnVzTf+Pk/Sso7mcdzVooorpNwooooAxtb/ANbF9KzK09b/ANbF9Ky2YKpZjgAZJPasZbno0fgQEgDLEADqTXF6/qvgJ7lo9XWxurkHBEcHmOPxUZq1p2nXvxLvJJHnmsvCsEhjUQsUk1BgcN8w5EY6cdea9G0nw/pOg2q2+j6dbWcajGIYwpPuT1J9zVKJlUrq9krnk2lap8OYLsC1gs7WfPym5tihz7FhXdxSRyRq0LKyEcFTkGulvtNsdTt2g1Kzgu4WGDHPEHUj6EV5vrvhe68AF9Z8KebNoqndfaQWLiJO8kOeVx1K9CKHEUK6vZo6akLBBucgKvJJ7VDZXkGoWMN3auJIZkDow7g1ha1qEV7PJZGbyrG3IN7MDjP/AEzHue9R1OqUrI6Sy/4qfVF1S640mzb/AERG4Ezj/lqfYdvzqrq6f8JjeJBosYijt3+fVhkFcfwx4xn8eKsW9jdeJo41njfTtDQAR2i/I86jpu/ur7V1MMMFnbrFCiQxRjCqowAK3PKOR0mVvBv+g6xbr5Ej5XU4wSJCf+emeQffOK7GORJY1eNgysMgg5BrD1HxRoce60mnS8dwVa3hXzWPsVFc1b/8JHp0k03hbSpY9PKlhaX7/dP+wv3h9M4oA7PWtIg1nT2t5iUcHdFMv3onHRh9Kx9M8VwWkctl4iuIra+tMK5zxMOzr9fSqWkxXHiiJmv9fuAyHEtnaqLcxHuG/i/Wrd/4HsEtkm0aFYNQt282GaRi5dh/CxbJIPSgCc+K3u+NE0m7vvSRl8qP/vo/4VR1bT/Emr6XcRajc2ljbOpDQwIZHYHsXJx+lbuhawmr2jbk8i6gby7iA9Y2/wAPQ1a1L/jwk+lVHWSE9jyXw58P4rSQXOs7ZpFOUhH3R7n1rpPhLILPSNU0CVv3+lX8i7T/AM8nO5G+hGfyrUrmdZtNS0bX4vFXhuMz3CR+TfWOeLuHrx/tr1B+o711VKS5fdMYzd9T1KisPw14v0jxTZ+dpd0rSIds1u/yyQt/dZTyDW5muM3CvN/iO0er+LfDGgCITeXcSahcjPCRLE8YyPdpF/Wui8U+OtK8LxrFIxvNRl4t9PtvmlmbsAB0Hv0Fcx4b0m/W8vNe8QmNtY1EjzFTlbeMfdiU+g7+prWlBykROVkNfwqlm5k0V44u5gnjEkZ/PkfnWrpepWenweX4g0WO1BbAuUhEkR/HGR+NXq2tJVXsXVwGUsQQRweK3rRSjoZ022wht9Fubfz4ILGSLGd6xoRj8q5/TtMtPEutDVGs4E0u0JW0RYgPPfoZDx09B+NUNX8PW2s69Npvh4vp6KpGoT27FYzkcR7B8pPPPFW7jxHqXhNIdPv7GG+LIVtvsXys20Z5j7DjqK4zc3NWbRNGszPdWdtydqRrApaRuygY5NZOn+Fl1e7Gp+ILGCJMH7PYIgCxA93I+836Cl8Lpaazdf2xf3sV7qIGFhB+W0H90L2PqTzXX0AcQdMi8HTEyWUV5obHO5og0lp9Tj5k/Ue9dLHp2j39nujs7SWGZOGWJcEH3xWiyqykOAVIwQehrg77UYfB+sbNFk+2W8zEz6XH8zRd96f3R6jpQBb0q0tNB1b+wtRtIHgly9hcSRKdw7xk46jt6j6Vs6i/h/Sot9/FZReimJSx+gxmsCRdT8e6akkbwadY798TKfMnDDoc9FP61P4PsbGOeeG/tg2uWrYnlnYyM4/hdSxOFI9PegDK8TW0vifRZLbStDjsrZiCLu4QRs2Dn5VAz+JNctoXw+Eul3EmrjE08LxxR/3Nykbj7817Bq//AB5f8CFYVdVGnFq7MZyadkRfCvUBffD3T4XbNxYhrO4XurxnGD+GD+NdjXlU7X/gjxLP4g0qCW80q+x/aljGMsjDpPGPXHDDvgelehaJ4i0rxFp6XujXsN1C/dGyVPoR2PtWE4uLsaRkmjTooJx1OBXHeK/iBaaPKdK0VBquvSjENnCc+Wf70hH3VHXmoWpRi6/Mmr/GK0iij8yPRdNk85+oWSdk2r9cRMfxrfrE8M6JJo9jLJfTC51K9lNxe3GPvyHsP9kDgCtuvQpx5Y2OWbuzotO/48IvpVqqunf8g+L6Varhl8TOmOyCqWqaraaRZtcXkm1RwqjlnPoB3NV9Z16HSVSNVNxeTHbBbR8tIf6D1NU9L0Kea+Gq+IJBcX3/ACyiH+rth6KO59W61IyC20y88RXSX3iCMw2aHdb6fn8mk9T7dBXTqoVQFAAHQClooAKz7ixklnZ1K4NaFFJpPcTVzK/syX+8tH9mS/3lrVoqeRC5UZX9mS/3lo/syX+8tatFHIg5UZX9mS/3lo/syX+8tatFHIg5UZ9vYSRXCuxXA61oUUVSSWw0rBRRRTGFFFFABRRRQAUUUUAc5qP/AB/y/WuP1QC4+Kfg21lGYvMupcerLCSK7DUf+P8Al+tcV43d9Kn0XxNGpZdHvA04UZIhk+SQ/gDn8KxXxHoSTdLQ9YFFRW9xHdW8c8Dq8UqB0ZTkEEZBqWtjzwoopruI0LOwVVGSxOAKAPCvHUF5B8R9bttJEjx3tvbzXccSElT8y5OPUKP++auaN5CW62761Dpyn70cSeW7H3Z+prT8KSf234h8QeKBk2+oXAhs2P8AFBEMBh7Fi1dNLaW86kTQRyD0ZQayb1sdtOm+W5c0jwxoLQxXIiS+m2gmaZ/NP+FdIiJGAqKFAGAAK5xPBeizwRyxW720pUHfbysh/IHFB8Oara/8gvxHdgDol0qyj88A/rWqOOW50tFc2JfF1mv7y30/UVH/ADyZomP/AH0SKT/hLZ7ZsaroOoW2OrRx+co/74zQI6WsjWPD1rq+2Y7re8i5huojh0P17j2qO18Y6FdNtXUYom6bZ8xH8mxWvFPFOoaGRJFPQowIoA5q31680WZbPxSqhWO2LUIxiKT03f3T+lJq1rNo9/8A8JBo6mWGQD7dbR8+an99f9ofrXS3FtDdQNDcxrLG4wyMMg1zL6ZqPhlmk0UNfaZ1fT3bLxj/AKZk/wAjQBNd3kF+Yrq0kEkMsQZGB6ioK5o6lZ6dqDXemSE6TcN+/gYENZyE85U8gfyrXt9ZsLq1uLmC4VoLYnzZAeBgZJz6Yr0KclypHNNO5Lf6haaXZSXeo3EdvbxjLSSMABXOw+LNW1tN/hPwte6jAfu3Ny4tYm91LDLD8Kk8JeH28dXyeKvEcRbTEc/2Tp8g+XaDjznHcnGR2AxXqKoqKFRQqjoAMAVhOu72iXGmranl39oeOrMb9Q8Eq8WefsmoxyOB/u45/Orei+LdM1u5ezjMtpqEQzJY3kZimT/gJ5I9xXpGK5nxh4KsfFVjkH7HqcHz2moRDEkD9j7j1B4NTGvJPUbpp7ENFc/4U1u71CG603Wo1h1jS5fIu41PDcZWRf8AZYcj8avavqo0+NIoU8+8nO2GEdSfU+gHrXYpK1zCzvY1rrXHsbGCw06MXGp3ORDF2QZ5dvRRWjoWiJo9s7SSG4vZzvubl+sjf0A7Cue0i407wzZmfUZjd6xdnLJEu+RueFVR0UVf+y694hwb2Q6PYN/ywiYGdx7t0X6DmvOn8TOuOxe1PxRZWFx9kgD318eltbDcw+v90fWqI0fWNfIfX7n7JaH/AJcLVuWHo79/oMVt6Zo1hpEHlWFusQ/ibqzH1JPJq9UjK1jp1pptstvY26QRL0VBirNFFABVTUv+PT/gQq3TJYlmTa4yM0mroT1Rg0VsfYbf+5+tH2GD+5+tZezZnyMx6MVsfYYP7n60fYYP7n60ezYcjMeitj7DB/c/Wj7DB/c/Wl7NhyMx6uab/wAfJ+lXPsEH9z9afFbRQtujXBqlBpjUWmTUUUVqaBRRRQBja3/rYvpXD+PbuW38KS29sxSfUJYrKNh28xwpP/fJNdxrf+ti+lcF8QQ0fh63vlGVsL+2uZB/sCVQx/AEn8KyfxHfG/sdD0nSNNg0fR7TT7RAkNtEsaqPYVdqOCVJ4I5YzuSRQykdweakrU4AproskbI4DKwwQRwRTqD0oA8KXW/+EQ/tzw3bnMlrqDLZ54EcTqr/AKFmq5onkKsMjwT6nOh3JFChMcbHksWPBY+tS22j2finxn4n1KdpGijvxBbyRtjlI13EficfhW8mk6pa4FjqxZR0S4iDfqKzdrnZBSaTZ0SnxVqAGFtNJjPqfOkH/stO/wCEOt7r5tavbvUz/dmlIj/74HFN+2eKrNcT6ZZ34/vWs5Rj+DAD9aVfGMcJxqelalY4+8zweYo/FN1aHGbVlp1np0Xl2FrDbp/diQKP0qzWVa+J9EvCBBqdvuP8Lvsb8mwa01dXXKMGHqDmgDI1fw7DqE4vbWVrLUYx8l1F1+jD+IexqrZ+IprG7TT/ABNGtrcOdsVyv+pn+h7H2NdHVe8sbe/tXt7yFZonGGVhmgDF1vTZ7e8XXdFXN5GuJ4R0uY/T6jsauLqVvq2gfa7Rso68g9VPcH0IPFZbQap4V+a0Emp6SOsBOZoB/s/3h7dazry4gso5dd0CQTabcn/TrdOsbf8APQL1B9RVR+JClsX6KZFLHPEssLq6OMqynIIrG8R+ITo4t7SwtmvtWvn8u0tEOCx7sx7KByTXpNpK7ORK7sN1nwhoer3Ivr21EV2g4vIHMUqj/fXB/WscaLp0sv2Z/HWsypnBtzrb8+3DZroLD4YLqaJdeO72TV7lvm+yIxS1i9gn8X1NbTfDbwa8PlN4b08p6eSK45VYt7G6g7bmHonhbRtALyaVZRxzS8yXDfNJJ/vOeT+dbFYmo/Du+8PRNeeALx4zH8x0m6kLQTD+6pP+rPoemak8O+ILfxDpxuIkkgnicxXNrKMSQSDqrCt6dSMtEZzi1ua9Fxq01tZx6bpmG1O8ciIdfLXvIfYVU1K/j02xa4lyxHCIOrsegFZ2hS3sk08enKsusXR/0m6IzHZJ2QHuR6DvU137th01rc3fPj8OW8Wh6HGb7VZBvcsc8nrLKe3PNaWi6AunySXt5L9r1KcYmuWHOP7q+i+1MtLbSvCliz3N0ivId01zO/zzN6n1+gqqfEWpaq3l+HNNcxn/AJfLzMcf1C/eb8hXEdBd1fw9pV+32q7jWCeMZF3E3lyJ/wACHNczD4j1a1vvsmiyHxNAuQX2bTH7GQfK355rcTwp9tkE3iK9k1JwciH7kKn2Xv8AjW/Bbw20Sx28SxoowFUYAoA4Wxv5vEd19m8QarJpcpPOmRhoGYem84LfhxXYaZo9hpEHladaxwKeuxcFvcnvT9Q0qx1S3MN/bRzoezr0rFOg6tpPzeH9S3xD/lzvSWXHordV/WgBdQ0W60y9k1bw2AJXObmyJwlx7j0b3qrcSpr8Met6D8mrWGVeB/lcj+KJx/KrcPixLeUQeIbObS5ScCRxuhY+zjgfjinalo4vJV1jw/cRw34XiRTmOcf3Xx1Hv2oAkGqwazoEd3bZUMcPG4w0bDqpHYg8VQrBudVFndS36wvZszgapp7cmNv+ey46j1I6itxHWSNXjYMrDIIPBFdtB+7Y56m46ua1TwZoE94+psj6bdn795Zzm2c+5ZSM/jUmua5eDVYNA8NwLdazdKX+c/u7aPp5kh9PQdTWhYfCnS5WW68WTzeIL48s1ycQofRI+gFOpUitHqEIN6nNR6BpmoSfZ5/Gmr6gnQ27ay5DexAbmuk0bw/pfh+2MGkWUVqjHLlF5c+rHqT7mtS4+Gfg25hMUnhywC4xlYgCPoRXOap4R1jwZC2oeErifUtOhG6fSLl97hO5hc9x/dPX1rKFWCe1ipQl3Ohoqjo+rWmuaXDqGnyeZDMMjjBU91I7EHjFXa69zE6PTjjT4vpWXq/iB47saZosQu9Sccr/AAQD+857fTqaz01a81ZRpfh1gu3i5vyMpD7L/eb9BW9pGjWujWpitVJZjuklc5eRvUnvXmy+JnXHYr6LoCadI95dSG71GYfvrl+uP7q+i+1bFFFSMKKKwNW1+6h1mPSdGslvLxojNJ5knlpEmcZJwTknsBUykluJtLVm/RmuRbxrJHYSGex8u9t7yO1uLdpOF39GDdxitHVdauLbV4tMtYI3kuLWWVXdyoBXoOAfXrU+0ja5POjczS5rznQfE+q6b4N02aezW+nvLswxBZjubLHkkjjn9K3D4qvbNr631fT44Lu3s3u4hHNuSZVHIzgEHp2pKrFq4lUTOpzRmuevPE0lromk3y2ysdQmiiKF/ubwTnOOcYqj4UutUuPEviBL1YjBHdBRiVmKfIuAAR0xz9SafOuZRHzrQ6/dS5rlb+Qx/EixPzFRp8hKjv8ANVWbxlqdmtvc3+kw29nPMkW03I89NxwCUx79M0vaLqDmludpmjNc9D4nAk1lL2EQNpgDgbs+YhGVb8SCKoP4zunaztraygF9Pbi5lSe48uOJGJ2gtjJJx0xT9pEOdI7DNFcZL48ZNCa8jsPMuorxbSa2WUHDEgfK3Q8HIrpdInv7mxWTVbRLSck5iSTeAO3NOM1J2Q1JN2ReoooqygooooAKKKKAOc1H/j/l+tUp4Irq3kguEWSKVSjowyGBGCKu6j/x/wAv1qtWD3PUh8KOR0nWdR+Gjmx1GK41LwyWzb3MSmSWxBP3HUcsg7EZI6V6JpfijQ9Zt1m0zVbS4VhkBJhuH1HUVkEZGDyPSuf1DwJ4Z1OczXWj23mscs8aeWzH1JXGatT7mE8Pd3id1qPiPRtJgaXUtUtLZFGf3kyg/lnmvOta8RX/AMSFbSvD8c9j4ec4utSkUxvcr3SJTyAe7Ed+KtWPgHwxp84mg0e2aRTlWmXzCPpuziuhVQqgKMAdAO1Dn2FDD2d5ENlZwafZQ2lnGsUEKBERRwAKnoorM6zprP8A484v90VNUNn/AMecX+6KmrdbHlS3YUUUUySrc6bZXi4urSCYf7cYNZE/gnR3YvbRS2cn962ndP0Bx+ldDRQBzQ8O6xZ/8g3xFcbf+ed1Gsg/PGf1pfP8W2f+ts9P1BR3hkaNj/31xXSUUAeH/EvUHkvIS2lTaXdSKVm3Mv71f+Akg1xSapcwaNcaRCzKmrT29oWH8IeVUb81Yive/Eek2N/qiS3ltHM6xgLvGQBz2riviDpsVt4Q+12FnGp0+8t71xFGFOyKVXY8f7IJroVOXLzJmXMr2PWLK1jsbGC1gULFBGsaKBwABgVPUFldR3tlBdQMGimjWRGByCCMip65zUKKKKAPKfHch8L/ABJsdbhiaWPVLCS2lijXq8RDIfx34/Cq2k6drWoySXt0fsT3H3pmAMgX+6g6KP1rV8T3f9qfF7SbCJdyaRYy3M56jM3yKD7/ACE/jW9XXRjeOphN2Ze8M6HY6bZLJBCGnYnfPJ8ztz6mt6qWlf8AIPT6n+dXa5p/EzWOwUUUVJQUmaU9K5LXjcap4wstE+2TWtobZrmXyJCjykNtC7hyPXiolLlt5ik7K51lGa821S6vNFXxFpFvf3MsEVktzBJJKWkhJIBXf1P4mtnWLydNK8MmO4kVpr23WQq5BcEHIPqDUe1TV/T87Ec+9+h0drqtte393aW7lpbQhZRjABPOKu5ry5rNbGTxxdWs9zHNBG3luLl+CUJz16+h7VoXlrc6Boul6zBql5cXbzQJOJZ2dJ1kYKQEJwMZ4wKmNVtart+InUavdd/wPQap3mqW1hc2lvcOVku5PLiABO44J/kKwPD93NLfeJxNNIwiusRhnJ8seUpwPSuUt7YataeEZ764upJJL2VGcXLgkDeRyD1469ccU3VeiS7fnYJTstPP8D069u47Cxmu58+XChdsdcCiyvI7+xhuoc+XMgdc9cGqHicBfCWpAZwLZ+pz2rkXuIpLDQ7OS61CX/QVc2Gnko78DDFwRgfjTlUcZNen6lSlynouaOleZWEuq3eieIbS2mv4ZdNnWa1SebdMuAG2MwJyDjGMnrWnJr8ur39vdWMj/Z9P05r2ZUcgPIVICNjrjBOKXtla5KqJ/wBedjuqM15TaT61d6HHqtvba4+pSYlW4NxGLY5P3dhkxtxx93NbDWV5r/jqe3utRvbOCOzhlaC2nKYcj2/Hp1oVW+lgVS60R3w70tIo2jFLW5qY2t/62L6Vi3tnDqFhPZ3Sb4Z4zG6nuCMGtrW/9bF9KzKxluejR/how/A/iZ9AuF8IeKJfLmhONOvJDhLuHsuezr0I78V6QDmuF1XR7DW7JrXVLZLiI8gN1U+oI5B9xWLDoPibSP3fh7xfdLbD7tvqEK3AT2DYD4+pNWpLqYTw7T909UrifHHjT+zl/sLw8Vu9fvBsijTkWynrK57Aenc4rDm0vxnqQMWqeMnht2+8mnWiRMw9NzbiPwrR0Xw7pugROunwnzZTma4kYvLKfVnPJoc10FGhJv3h3h/Ro9B0O3sI2LtGC0kh6yOTlmP1JNaY6iigdRWR22srHVjpQVBGDyKB0FLXQeSUrrRtNvRi6sYJPcxjP51mP4L0xSWsXu7FvW2nI/Q5FdBRQBzn9jeILTmw1/zgOiXtuHz+KkUf2h4ps/8Aj60i1vV/vWtwVb/vlh/WujooA53/AITC3h+XU9O1CxI6mWDcv5qTWNrB0S8im1HQtUgtbzbmRc4SYejocfn1ruyMjBrB8S6BY6lo10jWtuszoQsxiBZD65px3E9jxXTPFlxba3bbWMNgs2TBuyqBuDj25OBXoXw3to9b1rWfFk2JS07WNiSP9XDGeSP95ufwrCt/hlYJzc3lxIf9jCj+Rrpvg5tj8Ai0CCOS0vJ4JV9GD1rNTjG0iIuLd0d7RRRWJoBrzLxbCvhj4kabq0Q8uy1xXtLz5sKJkQyRyY9dqOPxFem15v8AF2CPUX8L6WzgPdaqen3goglJI/z3qoNqSsKVranKXmuHXtbLiVorOAlYdq7nPqVX+8fU8D8a7jw/b6zNpottHt49Hst3M8w8yZ/fb0B9yTWRY+DF01cWOp3MPuEjJ/Mrmuj0vw9qD2pK+JNQQbugSL/4it6ily3ZnFpvQ07Dwpp9rMLi68zULvqZ7pt5z7DoPyrbChRgDAHaue/4RvUv+ho1L/viH/4ij/hGtS/6GjUv++If/iK5jU6Kiud/4RrUv+ho1L/viH/4ij/hGtS/6GjUv++If/iKAOiornf+Ea1L/oaNS/74h/8AiKP+Ea1L/oaNS/74h/8AiKAN+WCKeMxzxrIjdVYZBrAn8JpbyGbw/eTaXKeSifPE31Q/0Io/4RrUv+ho1L/viH/4ij/hGtS/6GjUv++If/iKAOW8Yy30GmNN4g09Y7iEfudSsjuUnsrKecHpjmuC8PeLJrHWoWvblksFDAx/wouM/wA8V6R4y8J6pc+HJYk1u9vmZlxDMI1U89yFBrhZPhpMNEvJLu43Ti3kMcMQ6ttOASfetYKe8SJOPU774U6cH8Py+JLsB7/XJWuHkxysQJEaD2AGf+BGu8rmfhzcJdfDjQ5YlCr9kVdo7EcEfmDXTVm99SwooopAeWyQr4V+J1/YIBHpur2x1CIFsLFKhCy4HoQyH8DUzzXPiKQxWhe200HDz9Hn9l9B70nju1g1T4qeHLSUB1hsLuWVM9QXhAB9iQfyrfVVRAqKFVRgADgV20ruGpzzspG9odpBZaTDDaxrHGowFUVoVV07/kHxfSrVckviZvHYKKKKkYVzGqafqdh4nGuaRbJeiW38ie3aTY3ByGU4I/CunoqZRuJq6scHP4W1a80zUb2ZYU1K6uorlLcOSiiPohbHXk84q1b2eu6l4rtdS1Cwis7eO1lh8sTb2DHHJOB1/pXZUVn7GKI5EeXTWms6PouiWD2kS3NrqgEBaXKzgkkHp8vXHet5tE1TX768vdVt47DNjJZ28Ik8wgv1cnA9OldZcWdvdPE1xEshhcPGWH3WHcVPSVJbN/1awKnqeevpfiW9sNH06406CGLTbmN5JVn3GULkZAwMDBrc0ax1HTvFesGW2U2V7KJ47gScghFXaVx/s9a6airVNJ3uCgkczq2kX934qjvLMiJFsJIRNn7jk8cVyknhPVpdHgt10SBLyCaJ5rt7ku8+1wSVyOM4zzivUaDUujFu4SpqW55/4q04X/i7S7aznUPdxmK+iU5PloVcE46c8c/3qua74cmXxGurWul2+qQyW6wSW0r7WQqThlJBHfkV1MOl2UF/Lew2saXMwxJMF+Zvxq3R7JPfuHIrts4QeG9SbR4QbK1t5W1KK5MFvwI41cHBP8RAHWu6H3RS0VpGKjsVGKQUUUVRQUUUUAFGaDVK8vXtrq1iS1lnWd9rSRjIiGOre1JuxUYuTsiK40rz7hpPN27jnG2o/wCxP+m//jtam4D0ozS5UWqs0tzL/sT/AKb/APjtH9if9N//AB2tTOaN1HKg9tU7mX/Yn/Tf/wAdo/sT/pv/AOO1LpusW+qXF7DbBs2c3kyFhjLYzx7U271mKz12w0t42Ml6kjIw6LsxnP8A31U+5a5t+/5+Tra/ytf8hn9iY/5b/wDjtJ/Yn/Tf/wAdrVyKM/Sq5UY+2qdxIY/KhRM52jGafTc/SgEetUZb6jqKaDmnUAFFFFABSUtJQBhax/x+j/cFZs8EdzbyQToHilQo6nowIwRWlrH/AB+j/cFUa9Gn8COWXxHMeEvEDeBL1fCviabZprORpGoSfdKk5ELnsw5x2IAr1JWDKCpBB7g1xd/p1pqllJZ6jbx3FvKMPHIoINc9B4V1fRRs8KeKb3T7cfdtbpRcxIPRQxBA/GuedF3vE0jUXU9WrmfGPjaw8J2Q3A3mpT/LZ6fCcyXD9gB2Hqe1co2n+ObtfLvvGiRxE8/YtOWJyPZizY/KrGieEdM0S6kvYxNd6hKMS313IZZn9tx7ewqY0JPcp1F0I/Cmi3djHd6prbrLrOqSefduo4TjCxj/AGVHH510NFFdsUkrI5276m/pP/IPT6n+dXapaT/yD0+p/nV2vNn8TOqOwUUUVJQVkax4ettYmguGkmtrq2J8q4gba656j3Hsa16KTipKzE1fQwbXwnYQW17HOZruS+XbcTzvudx2GewHoKqReBbRJLJpb+/nFhKsluks2VTb0GMc/wA66mip9nDsTyR7HG+JvDCx6dr2oWEly097aOr2yHKyNtIBx1zU2keDrdbXTpLu5vJ0tlWSK1mlykb49OvB6Z6V1mM0gFSqUVK4OCbuc9d+DrW51G5u4ry8tftmPtMUEu1ZcDHPpx6Uz/hCbFdIsbCC4uYfsEplgmRwHUnPfHua6Wiq9nDsDhF9Cpe2C3+mS2U7NsmjMbMOuCMZrHfwdbCa1ntLu6tLi2txbCWJhl0HQEEYro6KHCL3KcU9zm7XRrLwlDf38IvLr7QVaVP9a7Hpkdz1qv4F0D+zdFuZLi3ML6hM8rQydUQn5VP4dveusIzRSVNJ3+RPIro5b/hBLIR/ZheXw0/fv+w+d+765x64z2zWvb6Jb22tz6nEWEs0SRFONoC9MVpUU1CK2Q1FLYBRRVe+vYdOsZru6YrDCpd2CliAPYcmq23LSbdkVdUtJrmRDCuQBzzVD+y7v/nmP++hW7DMs8KSxnKuoZSRjINPzUuKbNo1pQXKc/8A2Xd/88x/30KP7Lu/+eY/76FdBmijkQ/rEjn/AOy7v/nmP++hR/Zd3/zzH/fQrYt7+2uri4ggmWSW2YLKo/gJGcGo5tVtINUg06WXbdXCM8abT8wXGeencUuWJftat7WMv+y7v/nmP++hQNLus/6sf99CugzRmnyIj6xIBwBS0maM1Zzi0UmaWgAooooAKq6l/wAg+T6VaqrqX/IPk+lVD4kKWxztcxY6mPAvjed707NC16QEzE/LbXXT5uwDjv6getdPVe9srbUbKW0voUngmXa8bjIYV3zgpqxzRlyu52asGUFTkEZBFLXllnp/inwqoi8LanDe6ep+TT9TLHyx6JIMnHsavHxj46Zdi+FdPV/77ah8n6DNcTpTT2N1OLPQZ54raB5riRYoo1LO7nAUDqSa8tsLs+NfGj+KPLP9lWUTWulF1H73cRvmHfB2gD2JpbrQdc8Usp8b6nHJZq27+y7EFYG9N7HBf6HiumiiSCFYoUVI0GFVRgAelb0qTT5pETmmrIfW5o3/AB5t/v8A9Kw63NG/48z/AL/9Kuv8BFP4jQooorhOkKKKKACiiigAooooAoax/wAeX/AhWDW9rH/Hl/wIVhV3UPgOep8Rzvg3VV8G+IpvCuqP5VhfTNcaRO5O3LcvBk9CDyB3yfSvTq4TWNGsde057LU4FmhbkZ6qR0YHsR61l2jeN/DaCHS7+112xThItSZkmQdh5gB3fjWVSi73iXGoranp9U9W1Wy0TS7jUdTuEt7W3QvJI5wAP88VwreL/Hk6bIfDGnW7njzJ7/co98KCapf8Izf63fw3/jbURqbwMHhsol2W0Tdjt/iI9TWcaU29inOKDw0l1rWtah4u1SBoJdQVYbOGQfNDbJkrn0LFiSPpXT0gGAAOAOlLXdGKirI527u50Wnf8g+L6Vaqrp3/ACD4vpVqvOl8TOqOyCiiipGFFFFABRRRQAUUUUAFFFFABRRRQAUUUUAFFFFABRRRQAUUUUABrkPFxI8TeGMHGb055/2TXXmqF9o9rqN5Z3NypMlnJ5kRBxg4xUTi2tDqwlWNGrzy2s/xTR5xp/h2y1Pw14h1C98yS5gu7n7O/mEeSVAIK++anjt08Qa14Xj1ad3SfTXaVN2PPIAOD+Wfwru7bw/ZWmnXdlCrCG8d5JRnqX61zWqeEIrnxRo1uIJf7Ps7SRBKjlTG38PzDnNcnsXG2nb9T3aeYQqzlzSatzNPsuW2nzMLVU/sqLxVo9iz/wBnw20Usce7IhYkZUegPXFb3imRTB4STePnv4uAeo8pq37LwvpdlptxZR2++O6z9oMjFmlyMck81StvAOi2txbTKkzyWrh4TJMzeXjsMngVapTT+78Hcx+v4aUlKV7xv0+K8eW7101V+pmeBNIsLPXPEM1tapHLHetErDqEwDj6Zq3r7rH8QvDrucKsF0ST24Stm08O2VjrlzqlqHjnuhiVQ52seOdvTPFTXWj2t5qlrfzqWmtVdI+eMPjPH4CrjTkqaj2OSWMhLFOtJtpxa+bjb8zyjV44pvC91rVhplzNIu6WPWbm6Eb5B4Kr6dgOK6e6vl8N+IbDW7hiLXUtP8u4YnjzEQuG/EDFazfD3Qmt5bdo5mtnDYtzO3loT3Vc4Bqn4s0mXV0sPDkGnSPaq8cj3jMNsaKeR67iBj8aw9lOGvXS3r1PU+u4bESjS15feu3/ACtLu3qrXsrLsjlrtdSi03RIDC8x128kubqIT+V5oILJGXOcDbj64rT0+1v9K1i7gisIdIspbCRnsRfrMS4xh1XgjuD25rudS0HT9X06OzvYA8UWDHglTGR0II6GquneEtM077Q0aySzXCeXJNNIXcr6ZPar9hJPT+tLGDzSlOlZrXXSz6vR720WmzehjfDfQbSz8L6fqa73vLq0TzJXcnjHAx2Artaq6bp0GlaZb2FoCsFvGI0BOSAOlWq6YRUYpI8bF13iK8qrd7t29OgUUUVZyhRRRQBjapbzS3YaONmG0cgVS+x3P/PB/wDvk101FbxrOKsZumm7nM/Y7n/ng/8A3yaPsdz/AM8H/wC+TXTUVX1iXYXskcz9juf+eD/98mj7Hc/88H/75NdNRR9Yl2D2SOZ+x3P/ADwf/vk0fY7n/ni//fNdNRR9YfYPZIqabG0diqupU5PBHvVuiiudu7uaJWVgooopDCiiigAooooAKKKKACiiigAooooAKKKKACiiigArD8ZXM1n4N1W4tXMcsds7I46g461uVQ1vS11rRLvTncxrcxGMuOoyKiabi0jahKMasZT2TVzjIX1fWvFS6dHrFxZ2y6bFO/kgbix44J6VQk1nXJfD9hbx6m6XY1s2LXIUZdArckev+Fdtp/htLDW21FZ2ZjaJbbCOynrXLeJvCctvp+n2llLO5m1v7U8sS/NFuVufoDisJxktV/Wp7dDEYedRQdradFvZ3HX19qnh3VLvTDqc95HNpslzFLNjzInQgHkdjkflVq+1a+j8F+G7lLuRZ7qW1WaQHlwwG7P1rTsPCCR3Fzd6rezaldXEJt/MlAXZH6AAfrWfH8PnC2UM+t3c9tp8ySWsLhcIFPAOBz6UclRf15mar4VtczV1a7tvo/L07dyLwVYND4u8TyG8uZAt2F2OwIbKg5PHXtVjXn8r4iaO4ZV22NydzdB93k1rWHh06d4kvtTt7yTyr7DS2xA27wMbgetLqnhuHVdXgvbiVgsdtLbmMfxLJjPP4VXJJQSXcwliacsR7ST0cbbf3bfmefXviS9s4IL+01vUL24+0qsmLcraFS2MDIH510F74juvDepa/BfzvMPJW7sBIeSCNpQfRgfzqWX4eST6Umm3Gt3UlnbsrW8W1QEwcjdgZama5py+I/HGl2/2K4CaW3mXFyyYjkGAVUHvz+VZctRL+vmd3tcJVko7pc13borNdF2t8zJvNZ1a2vrDQr281LfFZLPdzWUQeWSQ9s9hUNx4i1//AIR14VnureZNSht4LueLY8kbnHzD1Heu31nwz/aWow6lYX0un38SGMTRAEOh/hYEc1UbwPFJp0cE1/cTTfbEvJbiUgmRlOcY6AfSqdOd2ZwxmF5YuUV0urdb6+Vv6sbWjWFxp2niG7v5r+XcWM02M89uO1aFGKK6krHgyk5ycn1CiiimSFVdRBNjIAMnFWqKadncT1Ryvlv/AHG/Kjy3/uN+VdTtHoPyo2j0H5V0/WH2MvZHLeW/9xvyo8t/7jflXU7R6D8qNo9B+VH1h9g9kct5b/3G/Kjy3/uN+VdTtHoPyo2j0H5UfWH2D2Ry3lv/AHG/KtrRwRZncCPn71f2j0H5UoGOlZzquatYqMOV3CiiisTQKKKKACiiigAooooAo6uCbLgEncOlYflv/cb8q6ojNJtHoPyraFXkVrGcoczuct5b/wBxvyo8t/7jflXU7R6D8qNo9B+VafWH2J9kct5b/wBxvyo8t/7jflXU7R6D8qNo9B+VH1h9g9kct5b/ANxvyo8t/wC435V1O0eg/KjaPQflR9YfYPZFfTwRYxgjHFWaMUVzN3dzVaIKKKKQwooooAKKKKACiiigAooooAKKKKACiiigAooooAKKKKACiiigAooooAKQ0tFACUtFFABRRRQAUmKWigAooooAKKKKACozPCLgQGVBMV3CPcNxHTOPSpK848Tvq6/GHTI9AjtzcSaRIrSXJOyJfNB3YHJ6AY966cNQ9vJxvayb+4Tdlc9Dmnit4WluJUijX7zuwUD8TUmRjOeK8t1TxVqUng3xVaeILGxnvdHlhjcKGMMyuylTgnI4P51tT+Ide1XxPeaP4YWxiTTYY2uZrsM253BIRQPYcn9K6Xl9WKu7ebvpa0Wn8+ZE8yO0iuIZwxgljlCMUbYwO1h1Bx39qGuIEuEgaaNZnBKRlhuYDrgdTXkPhnxPqOieFb4LaQ/21qXiSa1igdz5aSMRkk9cCrc82uWfxh0N/ExtGSGwupFuLVWCkBMsCD0Ix+tbSyuUak4uSslJru+VdBc+n9d7Hq9FeQj4rahPpM2u293oi2yOxj0x5W+0SRq2M56BiBkDB7Vsv4w8Q6x4xj0jw3HYxwTaZHfia7ViUDY4wOp5HHHes5ZXiIfFZWvfXa1r/mPnR6LUX2mD7T9m86Pz9u/yt43bfXHXFc54H8RXuv2N8mrQwx32n3klpMYCSjlT94Z5GfSsG4leD473MscRldNABWNSAXPmNxzxWEcJL2k6cnZxTYc2l1/Wtj0aivKr/wCIGvaMlleancaI32i6jim0uGQtNEruF4YHBIzk8Yro7TxhPb634jsdajSJNNiF5asox5tuUznr1DBhWk8urwV9H6eqX6oFNN2Oyory+f4i6rBZaHa3P9n2Oo6tE92812xWK3gz8nGcliCvH1pF+Jt3Ho3iONpNPvNQ0m1+0wXFoS0M6n1HUEHAIz3qv7LxNr2X9O1/S/8AnsHPE9Rorm/B954i1GwN94iSzhjuUSW2ht9xeNSMkOTwT06e9dIK4KtN0puDaduxSd1cKKKKzGFFFFABRRRQAUUUUAFFFFABRRRQAUUUUAFFFFABSGlooASloooAKKKKAA0mPalooAQUtFFABRRRQAVFb3MF3As1tKksTfddGyD+NPb7p+leMeFNc8U6B8NLTV4o9POk2sux4H3edIjS7SwPQH5untXZh8K68G4vVNLXre/+RMpWPY47u3luZbeOZGmiAMkYbLJnpkds4NLLdQQyxRyzIjynbGrNgufQeteb3PjKPRfEHiy7XT7cyW1vZmNkQLJO8hcKrt3A/Tmq+qv4mTxp4RfxJ9heJriSRWtNwMbbOUOev1reOXzb952Vr+vu82n4Cc7HqM88VtA81xIscUalndjgKB3JpyuroGRgysMgjvXkXiLxD4m8T/DbXdYsILIaLJBcRxwPuEzRAMpkz0zgZxV7UPH8mnX1poNnqOlaWYLGKaa61OTAYsPlRVzz6k01ltVx01d3ddrW3+8OdXPUc0Zry9fiVqV/4VtLrSYbOfUG1hdMk2SboZMoW3qw7dD+db+ha3r0XjGbw/4k+xSyG0W7gntAwG0sVKkH0IrGpga1OLcraX0vrpuHOmdZJcwxSxRSyokkxIjVjguQMnHrxUua4/xX/wAjx4O/6+rj/wBENXM+I/iDrmhQ3l9dXehWf2aU7NIluA1zKgOM8Hgkc4p0sDOsoez3kv1a/QblY9WzRmuLtPGE8Xiqez1RVjs5tMTULNwpGQM+apPQkZT86565+J15BYaRFcT6fp15q4luUmvm2RwW4ciMn1Zhg4pQwFebsl/Vm/ws7i50eq5FGa8hu/i3c23hjXJIJtP1DUNJaErNZtuhnjdgMj0POMeteieGjrr6cZPEjWZnkIaNbQNhFI6HPU0q2Cq0I81TTW3ron+qBST2Nae4hto/MuJUiTIG5zgZPAFSV5V8X9LvXTTdRm1OX7HHqVskVigwm4scux/iPp6c16oKirQjCjCopX5r/K1v8yr62FpssscELyzOqRopZmY4CgdSadWJ4z/5EXXP+wfP/wCizWFOPPNR7sZspIkkayRsGRhlWByCPWmQ3UFw0iwTJIYm2SBWzsbGcH0OCK830nXvFGi6f4Zm1aPTzpmoNDaCGLd5sW5CVYnofu8/WmReL59Ol1q30vT7NdRudeFjbALsWRjFGfMkI64B/QV3/wBn1LtRafz03sZ86tc9LN1ALoWxmQTsu8R7vmK+uPSie5gtYw9zKkSFgoZ2wMk4A/OvLZdS1XQviY1/4sNtItjoU0wltAQHRW3H5T0Ixiq3iPUvFmqeE9K1PUoLEadfX9nJ5MW4SWymZCpJPDdgfrVxy5ylBcys7a+t9vuDn3PYM0Zry/WviVMviXUtOsdU0XS49MIjP9pTYe4kxkhRnhRwM+pqZfH+sa1aeGG8PW1oJdZ+0JJ5zFkiaI4LAjqMgn3GKz/s3EJKTVk/8r/kh86PSqiNzALoWxlQTshcR7vmKg4zj05rmPCWvareaxq+ia+LZrzTHj/fWoISRHXcOD0PNVdRkeH4uW8kMXmyLoVwyRggbyJY8DJ4GaxWGlzuEnsr/hdDvodtRmvJ7r4jaxpV3YPqV9oUrXV0kEulW04e4gDHGcg8471ujxxcaavimLWkUXGjsJIAqkCWF1BQ+53bl/CtZZfXik7Xv/ml+bQcyO7zRmvL9S+ImoWd9ZaNdX+k6VqAsY7i+nv32ojsP9Wi55NVpPinqN14bhm0lLGfUV1ZNNkaNi0Em7OHVvQ8VUcsxLSaWj/q4udHrNVH1bT474Wb3sC3LdITINx/CoNFTVhpKrr0ls18c7mtQQgHbGea828Y+F9B0Xw7LpdvbLqPibVZme2mZAblpGbIfI5VV4GemBWWHw8KtT2cpfdr6vpohtu10et0VX0+KeDTbaK7k82dIlWST+8wHJ/OrFcbVnYoKKKKQBRRRQAUUUUAFFFFABRRRQAUUUUAFFFFABRRRQAUUUUAFFFFABRRRQAUUUUAFFFFABRRRQAUUUUABrnZ9CupPiJba6rRfZYtOe1ZSx37zIGHGMYwPWuixSYrSnUlTvy9Vb7wep5/rXgbVNRh8YJBJbA609s1tvdht8sKG3ccfdOMZq1deHfEGk+KLzWPC5sZhqUUaXVveO0YV0BCurKpzwTkY/Gu3xRiutZhWtyuzW1u+kV/7avmTyo8ytfh1rI8Nut1f2x1qHWX1W2uFBMbMSDhhjIBwc4zj3q2nhjxPrHjaw1nxIdOis7e1ntntbWV34dcbgSozn04xjvXoWKTFW8yru7aV3fptfewuRHl9n4H8T6RpLaDpi6K1mshEOpTKTcRRls48vaQxGSAdwro9M8LXtj8QpNaeWGS0bS47NecSF1IJJGMAcetdbijFTVzCtVTvbW99N72u/w9AUUjmfB/h670G41yS8eFhqGoyXUXlsThG6A5A5rM17wVqWr+MtS1K3vEtILzRTp6Sox82OQsTuxjoM+td1ikxWSxdWNV1Vu1b+vuHyq1v67nkU/w58Rz+F7XR4bDw/Ym0lika4gdi90UcNljsG0nGT97NTfEnSBrfi3w7Y6deIl/csbW/iRuTbLiRs+gyuOeua9XxVCHQtLt9Wn1SCwt47+4AEtysYEjgerdT0Fd0M1qe09pPdXtbvLvd7dfyI9mkrI5rxR4Pu7rWdM1nQFs3ubGE2zWt4CIpYjzjIB2kEDBwaoT+Dte1Pw5r8V+dOtrvUoPJtrW2B8mAepfaGOfpXoeKMVyxx9aMFHTTr13vb7/AJlOCZW0y2ez0u1t5SC8USoxU8ZAxVqiiuFtt3ZSVlYKKKKQwooooAKKKKACiiigAooooAKKKKACiiigAooooAKKKKACiiigAooooAKKKKACiiigAooooARhkGuETwPqCfCb/hFzPbfbPl/ebm8viUP1xnoPSu8oranWnS+Hun81t+Ymrnn1z8ObjUL7xE93dQpFqlvapbtHktFJDuO4ggDGSO/rS/8ACL+LtU17RLvXrvS/s2luxZLYvumyuN3KjB9unvXoFGK6Pr1brb7ttLafITimeY3XgLxTb+F9R8LaHqOnR6RcrKIJJ9/nRq+T5ZAUgjnG7Ocdq0rnwfrdhrMereH5dPlmltI7a7t77cI22D5XVgpII57V3lFN4+s97db6b3te/wByFyI4c+D9Zn0vS0v9Rt7i7t9WS/nIUrGqBWHloMdsjGcd62H0G5b4hJr3mRfZl077KUyd+7ezZ6Yxg+tdBRWMsVUlv5r7x8qMHW9DuNS8RaDqEEkaxabNLJKrE7mDRlRt49T3xXCN8MfEA8M6joEM+jpFdbz/AGiVc3EmTuAYbcDnAJBPHavWaK0o42tRSUelvwba/Ng4pnk/xB0uHUU8M+Hbe8VdeRkhkSEk4tmXEpPHCnYOTXS+IPBlzJqWlar4ba0ivdMgNqsN2pMUsJ/hJAJGMcHBrrvssBuftHkx+ft2+btG7Hpnripat46oowjHpffrff5C5Eeb634F8R+IfCGr2d/f2C32oSRGKGLcLe3VGBwDt3EnHXHWvRYUMcEaHkqoBx9KfRXPVxE6sVGWy1/JfoikkjmPHfhq68UaNaWljLDE8F9DcsZiQCqHJAwDzXTiiis3UlKCg9lf8R9bhWd4g0+TVfDepafAyJLdWskKM5O0FlIGcdua0aKmMnGSkugHJ6r4WvL7Q/DtlFNCsml3UE0xYnDCNGUheOuT3xWRN8PNQcapcQ3ltDfPrI1SwkwWVMRou1xgddpzjPavQ6K6oY2tBWi/6vcnlTPPh4M17W/Ek1/4tm082s+myWDW9kzkqH6kFlGc8+mKqTeCvGNxothocup6adP0+4gkSQb/ADbhI5FYK424U4HYnJA6V6ZiirWYVk1a2m2m1u33i5EcFdeEvEGm69qd74Zm0yW31RxLLFqAYGGXGCyFVOcgDg46VetvCeoxan4burm/ju20tLj7TKwKtI0gGNoAxgdOT0xXX0VDxlVqzt2212t+Q+VHO6V4fubDxtrusyyRNBqKwiJFJ3LsQKc8Y6jsTVbXfCl1q/iSW+iuUghk0iewyCd6vIykMBjGBg966uis1iKinzre1vlaw7I8of4b+Ip9BsdLLaJaR2FxFMHtg+65KN/GSo28ZPGcmpPFOmWPij4raRa2Fz5j26Z1eJMlfLjO+NW9yzGvU6ijtbeKZ5Y4I0kk++6oAW+p711xzGrzc0t7O1u73/z9SeRWschrfhXVV8WN4g8NNp7TzwCC5tr8MEkC/dYMoJBHTpVK78Da5qGl6ct9qNrNeQ6tHfzYBWNEU/6uMAZ47ZxXoNFYRxtWKSVtOttR8qGSB/Kbysb9p27uma8v0nwl4/0rWb3VGbw7eX13IS1xPNMWROyL+74AHavU6KijiZUYyjFJ829wcUyK18/7JF9r2efsHmeWSV3Y5xntmpaKK5igooooAKKKKACiiigAooooAKKKKACiiigAooooAKKKKACiiigAooooAKKKKACiiigAooooAKKKKACiiigAooooAKKKKACiiigAooooAKKKKACiiigAooooAKKKKACiiigAooooAKKKKACiiigAooooAKKKKACiiigAooooAKKKKACiiigAooooAKKKKACiiigAooooAKKKKACiiigAooooAKKKKACiiigAooooAKKKKACiiigAooooAKKKKACiiigAooooAKKKKACiiigAooooAKKKKACiiigAooooAKKKKACiiigAooooAKKKKACiiigAooooAKKKKAP/2Q==)"
      ]
    },
    {
      "cell_type": "code",
      "metadata": {
        "id": "cGyz-dOjuMer"
      },
      "source": [
        "# tensorflow 불러오기\n",
        "import tensorflow as tf"
      ],
      "execution_count": 9,
      "outputs": []
    },
    {
      "cell_type": "markdown",
      "metadata": {
        "id": "1NjYDCJ6uO3l"
      },
      "source": [
        "# 딥러닝 층 구성"
      ]
    },
    {
      "cell_type": "code",
      "metadata": {
        "id": "6-UBivM8uTSw"
      },
      "source": [
        "model = tf.keras.Sequential()\n",
        "# 64 --> 임의의 숫자를 입력해줘도 된다\n",
        "# input shape ; 변수의 개수\n",
        "model.add(tf.keras.layers.Dense(64, activation=\"relu\", input_shape=[len(train_dataset.keys())]))\n",
        "# dense 동그라미 수, 교실\n",
        "model.add(tf.keras.layers.Dense(64, activation=\"relu\"))\n",
        "model.add(tf.keras.layers.Dense(64, activation=\"relu\"))\n",
        "# 위의 두 문장은 히든레이어 2개를 의미\n",
        "model.add(tf.keras.layers.Dense(1))"
      ],
      "execution_count": 10,
      "outputs": []
    },
    {
      "cell_type": "code",
      "metadata": {
        "id": "Nj4QGve4ufFq"
      },
      "source": [
        "# mae : 오차에 대한 절대값의 평균\n",
        "# mse : 모델의 오차를 어떻게 측정을 할 것인지\n",
        "model.compile(loss=\"mse\", metrics=[\"mae\", \"mse\"])"
      ],
      "execution_count": 11,
      "outputs": []
    },
    {
      "cell_type": "code",
      "metadata": {
        "id": "QLBTRlhtuhlB",
        "colab": {
          "base_uri": "https://localhost:8080/"
        },
        "outputId": "bfdb7d29-5c48-4cb1-abf4-d8eb2813b571"
      },
      "source": [
        "# 만든 모델 확인\n",
        "model.summary()"
      ],
      "execution_count": 12,
      "outputs": [
        {
          "output_type": "stream",
          "name": "stdout",
          "text": [
            "Model: \"sequential\"\n",
            "_________________________________________________________________\n",
            " Layer (type)                Output Shape              Param #   \n",
            "=================================================================\n",
            " dense (Dense)               (None, 64)                448       \n",
            "                                                                 \n",
            " dense_1 (Dense)             (None, 64)                4160      \n",
            "                                                                 \n",
            " dense_2 (Dense)             (None, 64)                4160      \n",
            "                                                                 \n",
            " dense_3 (Dense)             (None, 1)                 65        \n",
            "                                                                 \n",
            "=================================================================\n",
            "Total params: 8,833\n",
            "Trainable params: 8,833\n",
            "Non-trainable params: 0\n",
            "_________________________________________________________________\n"
          ]
        }
      ]
    },
    {
      "cell_type": "code",
      "metadata": {
        "id": "7AA3Mc5Ruixm",
        "colab": {
          "base_uri": "https://localhost:8080/"
        },
        "outputId": "a28791dc-d640-47b8-faba-7a35f9467b4a"
      },
      "source": [
        "# 딥러닝 모델로 학습하기\n",
        "# epochs : 몇번을 이용해서 학습을 시킬 것인가\n",
        "# verbose : log를 어떻게 찍을건지를 의미\n",
        "model.fit(train_dataset, train_lables, epochs=100, verbose=1)"
      ],
      "execution_count": 13,
      "outputs": [
        {
          "output_type": "stream",
          "name": "stdout",
          "text": [
            "Epoch 1/100\n",
            "10/10 [==============================] - 1s 3ms/step - loss: 15779.1367 - mae: 55.2017 - mse: 15779.1367\n",
            "Epoch 2/100\n",
            "10/10 [==============================] - 0s 2ms/step - loss: 1202.4437 - mae: 23.3543 - mse: 1202.4437\n",
            "Epoch 3/100\n",
            "10/10 [==============================] - 0s 2ms/step - loss: 4827.9497 - mae: 53.6696 - mse: 4827.9497\n",
            "Epoch 4/100\n",
            "10/10 [==============================] - 0s 2ms/step - loss: 4063.8574 - mae: 58.6974 - mse: 4063.8574\n",
            "Epoch 5/100\n",
            "10/10 [==============================] - 0s 2ms/step - loss: 3685.2593 - mae: 57.1264 - mse: 3685.2593\n",
            "Epoch 6/100\n",
            "10/10 [==============================] - 0s 2ms/step - loss: 2187.8735 - mae: 38.9399 - mse: 2187.8735\n",
            "Epoch 7/100\n",
            "10/10 [==============================] - 0s 2ms/step - loss: 4144.5112 - mae: 57.1728 - mse: 4144.5112\n",
            "Epoch 8/100\n",
            "10/10 [==============================] - 0s 2ms/step - loss: 3039.5964 - mae: 44.4151 - mse: 3039.5964\n",
            "Epoch 9/100\n",
            "10/10 [==============================] - 0s 3ms/step - loss: 1118.3691 - mae: 24.8054 - mse: 1118.3691\n",
            "Epoch 10/100\n",
            "10/10 [==============================] - 0s 2ms/step - loss: 2923.0562 - mae: 48.4242 - mse: 2923.0562\n",
            "Epoch 11/100\n",
            "10/10 [==============================] - 0s 2ms/step - loss: 1771.8153 - mae: 35.0491 - mse: 1771.8153\n",
            "Epoch 12/100\n",
            "10/10 [==============================] - 0s 3ms/step - loss: 2877.2002 - mae: 48.2850 - mse: 2877.2002\n",
            "Epoch 13/100\n",
            "10/10 [==============================] - 0s 2ms/step - loss: 2112.8157 - mae: 41.5784 - mse: 2112.8157\n",
            "Epoch 14/100\n",
            "10/10 [==============================] - 0s 3ms/step - loss: 1450.7688 - mae: 31.1899 - mse: 1450.7688\n",
            "Epoch 15/100\n",
            "10/10 [==============================] - 0s 3ms/step - loss: 2623.2493 - mae: 43.0106 - mse: 2623.2493\n",
            "Epoch 16/100\n",
            "10/10 [==============================] - 0s 2ms/step - loss: 1086.5890 - mae: 29.6939 - mse: 1086.5890\n",
            "Epoch 17/100\n",
            "10/10 [==============================] - 0s 3ms/step - loss: 1779.6499 - mae: 39.1619 - mse: 1779.6499\n",
            "Epoch 18/100\n",
            "10/10 [==============================] - 0s 3ms/step - loss: 1771.8917 - mae: 38.5402 - mse: 1771.8917\n",
            "Epoch 19/100\n",
            "10/10 [==============================] - 0s 3ms/step - loss: 857.4753 - mae: 26.8096 - mse: 857.4753\n",
            "Epoch 20/100\n",
            "10/10 [==============================] - 0s 3ms/step - loss: 2022.1228 - mae: 40.4710 - mse: 2022.1228\n",
            "Epoch 21/100\n",
            "10/10 [==============================] - 0s 3ms/step - loss: 1122.4004 - mae: 27.3644 - mse: 1122.4004\n",
            "Epoch 22/100\n",
            "10/10 [==============================] - 0s 3ms/step - loss: 1160.6555 - mae: 30.0518 - mse: 1160.6555\n",
            "Epoch 23/100\n",
            "10/10 [==============================] - 0s 2ms/step - loss: 1373.6869 - mae: 33.6642 - mse: 1373.6869\n",
            "Epoch 24/100\n",
            "10/10 [==============================] - 0s 3ms/step - loss: 1021.8655 - mae: 29.6033 - mse: 1021.8655\n",
            "Epoch 25/100\n",
            "10/10 [==============================] - 0s 4ms/step - loss: 798.6149 - mae: 23.6534 - mse: 798.6149\n",
            "Epoch 26/100\n",
            "10/10 [==============================] - 0s 3ms/step - loss: 1713.3784 - mae: 33.4439 - mse: 1713.3784\n",
            "Epoch 27/100\n",
            "10/10 [==============================] - 0s 3ms/step - loss: 512.2491 - mae: 19.9185 - mse: 512.2491\n",
            "Epoch 28/100\n",
            "10/10 [==============================] - 0s 3ms/step - loss: 1118.9202 - mae: 24.5378 - mse: 1118.9202\n",
            "Epoch 29/100\n",
            "10/10 [==============================] - 0s 4ms/step - loss: 1203.0139 - mae: 28.8457 - mse: 1203.0139\n",
            "Epoch 30/100\n",
            "10/10 [==============================] - 0s 3ms/step - loss: 283.5914 - mae: 14.0467 - mse: 283.5914\n",
            "Epoch 31/100\n",
            "10/10 [==============================] - 0s 3ms/step - loss: 1255.9473 - mae: 30.6890 - mse: 1255.9473\n",
            "Epoch 32/100\n",
            "10/10 [==============================] - 0s 2ms/step - loss: 824.8151 - mae: 21.5582 - mse: 824.8151\n",
            "Epoch 33/100\n",
            "10/10 [==============================] - 0s 3ms/step - loss: 533.6884 - mae: 20.2205 - mse: 533.6884\n",
            "Epoch 34/100\n",
            "10/10 [==============================] - 0s 2ms/step - loss: 892.6281 - mae: 25.5990 - mse: 892.6281\n",
            "Epoch 35/100\n",
            "10/10 [==============================] - 0s 3ms/step - loss: 567.2625 - mae: 21.0164 - mse: 567.2625\n",
            "Epoch 36/100\n",
            "10/10 [==============================] - 0s 3ms/step - loss: 523.1569 - mae: 19.2544 - mse: 523.1569\n",
            "Epoch 37/100\n",
            "10/10 [==============================] - 0s 3ms/step - loss: 784.1608 - mae: 23.1961 - mse: 784.1608\n",
            "Epoch 38/100\n",
            "10/10 [==============================] - 0s 3ms/step - loss: 696.7733 - mae: 22.3147 - mse: 696.7733\n",
            "Epoch 39/100\n",
            "10/10 [==============================] - 0s 3ms/step - loss: 440.7255 - mae: 18.6033 - mse: 440.7255\n",
            "Epoch 40/100\n",
            "10/10 [==============================] - 0s 3ms/step - loss: 387.1837 - mae: 15.5154 - mse: 387.1837\n",
            "Epoch 41/100\n",
            "10/10 [==============================] - 0s 3ms/step - loss: 948.9767 - mae: 22.3597 - mse: 948.9767\n",
            "Epoch 42/100\n",
            "10/10 [==============================] - 0s 3ms/step - loss: 142.9475 - mae: 9.6494 - mse: 142.9475\n",
            "Epoch 43/100\n",
            "10/10 [==============================] - 0s 3ms/step - loss: 526.4347 - mae: 17.5531 - mse: 526.4347\n",
            "Epoch 44/100\n",
            "10/10 [==============================] - 0s 3ms/step - loss: 318.8925 - mae: 15.8186 - mse: 318.8925\n",
            "Epoch 45/100\n",
            "10/10 [==============================] - 0s 3ms/step - loss: 479.8002 - mae: 18.2780 - mse: 479.8002\n",
            "Epoch 46/100\n",
            "10/10 [==============================] - 0s 3ms/step - loss: 500.6801 - mae: 18.8345 - mse: 500.6801\n",
            "Epoch 47/100\n",
            "10/10 [==============================] - 0s 3ms/step - loss: 266.6616 - mae: 12.8905 - mse: 266.6616\n",
            "Epoch 48/100\n",
            "10/10 [==============================] - 0s 3ms/step - loss: 487.5414 - mae: 18.8203 - mse: 487.5414\n",
            "Epoch 49/100\n",
            "10/10 [==============================] - 0s 3ms/step - loss: 486.7125 - mae: 19.9453 - mse: 486.7125\n",
            "Epoch 50/100\n",
            "10/10 [==============================] - 0s 3ms/step - loss: 238.2520 - mae: 13.3884 - mse: 238.2520\n",
            "Epoch 51/100\n",
            "10/10 [==============================] - 0s 3ms/step - loss: 263.1548 - mae: 13.4951 - mse: 263.1548\n",
            "Epoch 52/100\n",
            "10/10 [==============================] - 0s 3ms/step - loss: 356.2772 - mae: 16.3755 - mse: 356.2772\n",
            "Epoch 53/100\n",
            "10/10 [==============================] - 0s 2ms/step - loss: 255.4695 - mae: 14.1435 - mse: 255.4695\n",
            "Epoch 54/100\n",
            "10/10 [==============================] - 0s 2ms/step - loss: 293.3677 - mae: 14.9234 - mse: 293.3677\n",
            "Epoch 55/100\n",
            "10/10 [==============================] - 0s 3ms/step - loss: 319.8305 - mae: 14.3261 - mse: 319.8305\n",
            "Epoch 56/100\n",
            "10/10 [==============================] - 0s 3ms/step - loss: 187.3948 - mae: 11.0183 - mse: 187.3948\n",
            "Epoch 57/100\n",
            "10/10 [==============================] - 0s 3ms/step - loss: 253.5431 - mae: 12.8482 - mse: 253.5431\n",
            "Epoch 58/100\n",
            "10/10 [==============================] - 0s 3ms/step - loss: 252.9395 - mae: 13.6550 - mse: 252.9395\n",
            "Epoch 59/100\n",
            "10/10 [==============================] - 0s 3ms/step - loss: 192.4618 - mae: 11.7948 - mse: 192.4618\n",
            "Epoch 60/100\n",
            "10/10 [==============================] - 0s 3ms/step - loss: 177.5691 - mae: 11.2871 - mse: 177.5691\n",
            "Epoch 61/100\n",
            "10/10 [==============================] - 0s 4ms/step - loss: 208.5783 - mae: 12.1475 - mse: 208.5783\n",
            "Epoch 62/100\n",
            "10/10 [==============================] - 0s 4ms/step - loss: 216.4812 - mae: 12.6732 - mse: 216.4812\n",
            "Epoch 63/100\n",
            "10/10 [==============================] - 0s 4ms/step - loss: 144.9572 - mae: 9.8788 - mse: 144.9572\n",
            "Epoch 64/100\n",
            "10/10 [==============================] - 0s 3ms/step - loss: 176.8455 - mae: 11.6418 - mse: 176.8455\n",
            "Epoch 65/100\n",
            "10/10 [==============================] - 0s 4ms/step - loss: 121.4413 - mae: 8.9474 - mse: 121.4413\n",
            "Epoch 66/100\n",
            "10/10 [==============================] - 0s 2ms/step - loss: 182.1516 - mae: 11.5874 - mse: 182.1516\n",
            "Epoch 67/100\n",
            "10/10 [==============================] - 0s 3ms/step - loss: 72.5300 - mae: 6.8395 - mse: 72.5300\n",
            "Epoch 68/100\n",
            "10/10 [==============================] - 0s 3ms/step - loss: 134.6684 - mae: 9.4230 - mse: 134.6684\n",
            "Epoch 69/100\n",
            "10/10 [==============================] - 0s 3ms/step - loss: 89.8683 - mae: 7.6383 - mse: 89.8683\n",
            "Epoch 70/100\n",
            "10/10 [==============================] - 0s 3ms/step - loss: 125.7232 - mae: 9.2567 - mse: 125.7232\n",
            "Epoch 71/100\n",
            "10/10 [==============================] - 0s 3ms/step - loss: 105.7676 - mae: 8.2085 - mse: 105.7676\n",
            "Epoch 72/100\n",
            "10/10 [==============================] - 0s 3ms/step - loss: 90.7669 - mae: 7.5647 - mse: 90.7669\n",
            "Epoch 73/100\n",
            "10/10 [==============================] - 0s 3ms/step - loss: 130.8111 - mae: 9.2005 - mse: 130.8111\n",
            "Epoch 74/100\n",
            "10/10 [==============================] - 0s 3ms/step - loss: 86.8304 - mae: 7.2477 - mse: 86.8304\n",
            "Epoch 75/100\n",
            "10/10 [==============================] - 0s 3ms/step - loss: 90.4536 - mae: 7.7851 - mse: 90.4536\n",
            "Epoch 76/100\n",
            "10/10 [==============================] - 0s 3ms/step - loss: 116.8074 - mae: 9.1119 - mse: 116.8074\n",
            "Epoch 77/100\n",
            "10/10 [==============================] - 0s 3ms/step - loss: 88.7700 - mae: 7.6284 - mse: 88.7700\n",
            "Epoch 78/100\n",
            "10/10 [==============================] - 0s 4ms/step - loss: 68.5209 - mae: 6.6649 - mse: 68.5209\n",
            "Epoch 79/100\n",
            "10/10 [==============================] - 0s 3ms/step - loss: 110.4182 - mae: 8.5908 - mse: 110.4182\n",
            "Epoch 80/100\n",
            "10/10 [==============================] - 0s 4ms/step - loss: 53.9512 - mae: 5.8199 - mse: 53.9512\n",
            "Epoch 81/100\n",
            "10/10 [==============================] - 0s 3ms/step - loss: 75.6660 - mae: 6.8867 - mse: 75.6660\n",
            "Epoch 82/100\n",
            "10/10 [==============================] - 0s 3ms/step - loss: 110.6981 - mae: 8.6827 - mse: 110.6981\n",
            "Epoch 83/100\n",
            "10/10 [==============================] - 0s 3ms/step - loss: 101.0060 - mae: 7.5865 - mse: 101.0060\n",
            "Epoch 84/100\n",
            "10/10 [==============================] - 0s 3ms/step - loss: 48.3226 - mae: 5.5039 - mse: 48.3226\n",
            "Epoch 85/100\n",
            "10/10 [==============================] - 0s 3ms/step - loss: 62.5837 - mae: 6.2528 - mse: 62.5837\n",
            "Epoch 86/100\n",
            "10/10 [==============================] - 0s 3ms/step - loss: 100.4134 - mae: 8.0016 - mse: 100.4134\n",
            "Epoch 87/100\n",
            "10/10 [==============================] - 0s 4ms/step - loss: 55.7500 - mae: 5.9338 - mse: 55.7500\n",
            "Epoch 88/100\n",
            "10/10 [==============================] - 0s 3ms/step - loss: 76.7716 - mae: 7.0194 - mse: 76.7716\n",
            "Epoch 89/100\n",
            "10/10 [==============================] - 0s 4ms/step - loss: 86.5777 - mae: 7.2657 - mse: 86.5777\n",
            "Epoch 90/100\n",
            "10/10 [==============================] - 0s 3ms/step - loss: 61.4978 - mae: 6.1741 - mse: 61.4978\n",
            "Epoch 91/100\n",
            "10/10 [==============================] - 0s 3ms/step - loss: 98.4962 - mae: 8.0802 - mse: 98.4962\n",
            "Epoch 92/100\n",
            "10/10 [==============================] - 0s 3ms/step - loss: 60.2061 - mae: 6.1451 - mse: 60.2061\n",
            "Epoch 93/100\n",
            "10/10 [==============================] - 0s 3ms/step - loss: 62.4317 - mae: 6.3219 - mse: 62.4317\n",
            "Epoch 94/100\n",
            "10/10 [==============================] - 0s 3ms/step - loss: 78.0584 - mae: 6.9889 - mse: 78.0584\n",
            "Epoch 95/100\n",
            "10/10 [==============================] - 0s 4ms/step - loss: 83.0258 - mae: 7.1144 - mse: 83.0258\n",
            "Epoch 96/100\n",
            "10/10 [==============================] - 0s 3ms/step - loss: 57.0582 - mae: 5.8941 - mse: 57.0582\n",
            "Epoch 97/100\n",
            "10/10 [==============================] - 0s 3ms/step - loss: 58.2347 - mae: 6.0460 - mse: 58.2347\n",
            "Epoch 98/100\n",
            "10/10 [==============================] - 0s 4ms/step - loss: 60.8672 - mae: 6.2791 - mse: 60.8672\n",
            "Epoch 99/100\n",
            "10/10 [==============================] - 0s 3ms/step - loss: 66.7148 - mae: 6.6464 - mse: 66.7148\n",
            "Epoch 100/100\n",
            "10/10 [==============================] - 0s 3ms/step - loss: 63.3138 - mae: 6.2403 - mse: 63.3138\n"
          ]
        },
        {
          "output_type": "execute_result",
          "data": {
            "text/plain": [
              "<keras.callbacks.History at 0x7fabf7f81950>"
            ]
          },
          "metadata": {},
          "execution_count": 13
        }
      ]
    },
    {
      "cell_type": "code",
      "metadata": {
        "id": "cvxzpskmum8u",
        "colab": {
          "base_uri": "https://localhost:8080/"
        },
        "outputId": "dcf8bc42-d832-47fc-ccaf-80b684a3bf2d"
      },
      "source": [
        "# 딥러닝 모델로 평가\n",
        "# 평균적으로 절대값이 mae만큼 차이가 난다.\n",
        "# mse같은 경우, error값을 제곱을 한 값이 mse정도 된다\n",
        "# mae값을 줄일수록 좋은 모델이라는 것을 확인 가능하다\n",
        "model.evaluate(test_dataset, test_lables)"
      ],
      "execution_count": 14,
      "outputs": [
        {
          "output_type": "stream",
          "name": "stdout",
          "text": [
            "3/3 [==============================] - 0s 4ms/step - loss: 56.0852 - mae: 6.1551 - mse: 56.0852\n"
          ]
        },
        {
          "output_type": "execute_result",
          "data": {
            "text/plain": [
              "[56.085174560546875, 6.155093669891357, 56.085174560546875]"
            ]
          },
          "metadata": {},
          "execution_count": 14
        }
      ]
    },
    {
      "cell_type": "code",
      "metadata": {
        "id": "JumXrbSYuqe7",
        "colab": {
          "base_uri": "https://localhost:8080/"
        },
        "outputId": "0b405253-e2cc-4b4a-830a-228477b3870a"
      },
      "source": [
        "# 딥러닝 모델의 예측하기\n",
        "# flatten() : 1차원 형태로 만들어주기\n",
        "predict_lables = model.predict(test_dataset).flatten()\n",
        "predict_lables[:5]"
      ],
      "execution_count": 15,
      "outputs": [
        {
          "output_type": "execute_result",
          "data": {
            "text/plain": [
              "array([16.740564 ,  0.8584578, 26.428621 , 23.493176 , 16.88202  ],\n",
              "      dtype=float32)"
            ]
          },
          "metadata": {},
          "execution_count": 15
        }
      ]
    },
    {
      "cell_type": "code",
      "metadata": {
        "id": "GoUyaYXFuvnb",
        "colab": {
          "base_uri": "https://localhost:8080/",
          "height": 301
        },
        "outputId": "2c1044b3-5fc5-4471-bfc0-bb525fbd8d9c"
      },
      "source": [
        "# 딥러닝 모델의 예측결과 평가하기\n",
        "sns.scatterplot(x=test_lables, y=predict_lables)"
      ],
      "execution_count": 16,
      "outputs": [
        {
          "output_type": "execute_result",
          "data": {
            "text/plain": [
              "<matplotlib.axes._subplots.AxesSubplot at 0x7fabf7e542d0>"
            ]
          },
          "metadata": {},
          "execution_count": 16
        },
        {
          "output_type": "display_data",
          "data": {
            "image/png": "[encoded data removed]",
            "text/plain": [
              "<Figure size 432x288 with 1 Axes>"
            ]
          },
          "metadata": {
            "needs_background": "light"
          }
        }
      ]
    },
    {
      "cell_type": "code",
      "metadata": {
        "colab": {
          "base_uri": "https://localhost:8080/",
          "height": 459
        },
        "id": "avU3wKIjKzFo",
        "outputId": "337a9b0f-e4b8-4ed4-b0c7-869225d6e41b"
      },
      "source": [
        "sns.jointplot(x=test_lables, y=predict_lables, kind=\"reg\")"
      ],
      "execution_count": 17,
      "outputs": [
        {
          "output_type": "execute_result",
          "data": {
            "text/plain": [
              "<seaborn.axisgrid.JointGrid at 0x7fabf7df9e10>"
            ]
          },
          "metadata": {},
          "execution_count": 17
        },
        {
          "output_type": "display_data",
          "data": {
            "image/png": "[encoded data removed]",
            "text/plain": [
              "<Figure size 432x432 with 3 Axes>"
            ]
          },
          "metadata": {
            "needs_background": "light"
          }
        }
      ]
    }
  ]
}