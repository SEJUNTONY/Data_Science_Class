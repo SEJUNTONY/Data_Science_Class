{
  "nbformat": 4,
  "nbformat_minor": 0,
  "metadata": {
    "colab": {
      "name": "Untitled0.ipynb",
      "provenance": [],
      "authorship_tag": "ABX9TyNqMLLTNXMoEKf8tqW3ZLmE",
      "include_colab_link": true
    },
    "kernelspec": {
      "name": "python3",
      "display_name": "Python 3"
    },
    "language_info": {
      "name": "python"
    }
  },
  "cells": [
    {
      "cell_type": "markdown",
      "metadata": {
        "id": "view-in-github",
        "colab_type": "text"
      },
      "source": [
        "<a href=\"https://colab.research.google.com/github/SEJUNTONY/Data_Science_Class/blob/EunJi/Untitled0.ipynb\" target=\"_parent\"><img src=\"https://colab.research.google.com/assets/colab-badge.svg\" alt=\"Open In Colab\"/></a>"
      ]
    },
    {
      "cell_type": "code",
      "metadata": {
        "colab": {
          "base_uri": "https://localhost:8080/",
          "height": 36
        },
        "id": "V3i27ta96z_H",
        "outputId": "a8228113-0f29-4fdd-cec0-72d59a26181b"
      },
      "source": [
        "import numpy as np\n",
        "import pandas as pd\n",
        "pd.__version__"
      ],
      "execution_count": 1,
      "outputs": [
        {
          "output_type": "execute_result",
          "data": {
            "application/vnd.google.colaboratory.intrinsic+json": {
              "type": "string"
            },
            "text/plain": [
              "'1.1.5'"
            ]
          },
          "metadata": {},
          "execution_count": 1
        }
      ]
    },
    {
      "cell_type": "code",
      "metadata": {
        "colab": {
          "base_uri": "https://localhost:8080/"
        },
        "id": "0hjmXMWU9NSd",
        "outputId": "bc5b3f70-c284-4115-d438-1f1d965eaad6"
      },
      "source": [
        "s1 = pd.Series([0, 0.25, 0.5, 0.75, 1.0])\n",
        "s1"
      ],
      "execution_count": 2,
      "outputs": [
        {
          "output_type": "execute_result",
          "data": {
            "text/plain": [
              "0    0.00\n",
              "1    0.25\n",
              "2    0.50\n",
              "3    0.75\n",
              "4    1.00\n",
              "dtype: float64"
            ]
          },
          "metadata": {},
          "execution_count": 2
        }
      ]
    },
    {
      "cell_type": "code",
      "metadata": {
        "colab": {
          "base_uri": "https://localhost:8080/"
        },
        "id": "FUeKpXZI9rRO",
        "outputId": "5b65cb8d-0211-453a-f46f-ec79bf4c8559"
      },
      "source": [
        "s1.values"
      ],
      "execution_count": 3,
      "outputs": [
        {
          "output_type": "execute_result",
          "data": {
            "text/plain": [
              "array([0.  , 0.25, 0.5 , 0.75, 1.  ])"
            ]
          },
          "metadata": {},
          "execution_count": 3
        }
      ]
    },
    {
      "cell_type": "code",
      "metadata": {
        "colab": {
          "base_uri": "https://localhost:8080/"
        },
        "id": "pUQfMRth9zrl",
        "outputId": "eb2d4e02-98b3-4fd9-9ffb-a5894c853d72"
      },
      "source": [
        "s1.index"
      ],
      "execution_count": 4,
      "outputs": [
        {
          "output_type": "execute_result",
          "data": {
            "text/plain": [
              "RangeIndex(start=0, stop=5, step=1)"
            ]
          },
          "metadata": {},
          "execution_count": 4
        }
      ]
    },
    {
      "cell_type": "code",
      "metadata": {
        "colab": {
          "base_uri": "https://localhost:8080/"
        },
        "id": "QnSWXKb498Xy",
        "outputId": "b80178ad-c16c-42a0-9a35-1accf499004a"
      },
      "source": [
        "s1[1]"
      ],
      "execution_count": 5,
      "outputs": [
        {
          "output_type": "execute_result",
          "data": {
            "text/plain": [
              "0.25"
            ]
          },
          "metadata": {},
          "execution_count": 5
        }
      ]
    },
    {
      "cell_type": "code",
      "metadata": {
        "colab": {
          "base_uri": "https://localhost:8080/"
        },
        "id": "PUV23Xqs-CwB",
        "outputId": "a62b1be4-ece3-44c9-cdf4-3484bf563360"
      },
      "source": [
        "s2 = pd.Series([0,0.25,0.5,0.75,1],index=['a','b','c','d','e'])\n",
        "s2"
      ],
      "execution_count": 6,
      "outputs": [
        {
          "output_type": "execute_result",
          "data": {
            "text/plain": [
              "a    0.00\n",
              "b    0.25\n",
              "c    0.50\n",
              "d    0.75\n",
              "e    1.00\n",
              "dtype: float64"
            ]
          },
          "metadata": {},
          "execution_count": 6
        }
      ]
    },
    {
      "cell_type": "code",
      "metadata": {
        "colab": {
          "base_uri": "https://localhost:8080/"
        },
        "id": "ZEZr77OA-jVL",
        "outputId": "bc81bdbe-e436-47f9-c922-50e1bc2e5933"
      },
      "source": [
        "s2['c']"
      ],
      "execution_count": 7,
      "outputs": [
        {
          "output_type": "execute_result",
          "data": {
            "text/plain": [
              "0.5"
            ]
          },
          "metadata": {},
          "execution_count": 7
        }
      ]
    },
    {
      "cell_type": "code",
      "metadata": {
        "colab": {
          "base_uri": "https://localhost:8080/"
        },
        "id": "kZYYpWg7-tnR",
        "outputId": "612cadd1-a372-416a-a898-7995bf76b8ae"
      },
      "source": [
        "'b' in s2"
      ],
      "execution_count": 8,
      "outputs": [
        {
          "output_type": "execute_result",
          "data": {
            "text/plain": [
              "True"
            ]
          },
          "metadata": {},
          "execution_count": 8
        }
      ]
    },
    {
      "cell_type": "code",
      "metadata": {
        "colab": {
          "base_uri": "https://localhost:8080/"
        },
        "id": "kTsW0arm_OTF",
        "outputId": "0efebedc-41e7-4146-fd1f-6e32069cee39"
      },
      "source": [
        "s3 = pd.Series(['정은지','지수빈','정주희','박세준','정찬호'],index=['하나','둘','셋','넷','다섯'], name='출석부')\n",
        "s3"
      ],
      "execution_count": 9,
      "outputs": [
        {
          "output_type": "execute_result",
          "data": {
            "text/plain": [
              "하나    정은지\n",
              "둘     지수빈\n",
              "셋     정주희\n",
              "넷     박세준\n",
              "다섯    정찬호\n",
              "Name: 출석부, dtype: object"
            ]
          },
          "metadata": {},
          "execution_count": 9
        }
      ]
    },
    {
      "cell_type": "code",
      "metadata": {
        "colab": {
          "base_uri": "https://localhost:8080/"
        },
        "id": "z8U8NUMW_dCL",
        "outputId": "995d2ec2-19ca-4606-f8d7-9da54c0e755f"
      },
      "source": [
        "s3.unique()"
      ],
      "execution_count": 10,
      "outputs": [
        {
          "output_type": "execute_result",
          "data": {
            "text/plain": [
              "array(['정은지', '지수빈', '정주희', '박세준', '정찬호'], dtype=object)"
            ]
          },
          "metadata": {},
          "execution_count": 10
        }
      ]
    },
    {
      "cell_type": "code",
      "metadata": {
        "colab": {
          "base_uri": "https://localhost:8080/"
        },
        "id": "EL0eLhbX_n_s",
        "outputId": "e8ea2fb9-3baa-4860-a3e4-9c9fe28a145b"
      },
      "source": [
        "s3 == '정은지'"
      ],
      "execution_count": 13,
      "outputs": [
        {
          "output_type": "execute_result",
          "data": {
            "text/plain": [
              "하나     True\n",
              "둘     False\n",
              "셋     False\n",
              "넷     False\n",
              "다섯    False\n",
              "Name: 출석부, dtype: bool"
            ]
          },
          "metadata": {},
          "execution_count": 13
        }
      ]
    },
    {
      "cell_type": "code",
      "metadata": {
        "colab": {
          "base_uri": "https://localhost:8080/"
        },
        "id": "_oZZfABu_2hB",
        "outputId": "eb8a7998-0c66-4d69-ac9b-1568caad6199"
      },
      "source": [
        "hello = {'서울특별시':9720846,\n",
        "             '부산광역시':3404423,\n",
        "             '인천광역시':2947217,\n",
        "             '대구광역시':2427954,\n",
        "             '대전광역시':1471040,\n",
        "             '광주광역시':1455048}\n",
        "population = pd.Series(hello)\n",
        "population"
      ],
      "execution_count": 15,
      "outputs": [
        {
          "output_type": "execute_result",
          "data": {
            "text/plain": [
              "서울특별시    9720846\n",
              "부산광역시    3404423\n",
              "인천광역시    2947217\n",
              "대구광역시    2427954\n",
              "대전광역시    1471040\n",
              "광주광역시    1455048\n",
              "dtype: int64"
            ]
          },
          "metadata": {},
          "execution_count": 15
        }
      ]
    },
    {
      "cell_type": "code",
      "metadata": {
        "colab": {
          "base_uri": "https://localhost:8080/",
          "height": 106
        },
        "id": "XVF7leXaAVTe",
        "outputId": "3ae46d77-ed11-476f-de74-cec46b1c8a80"
      },
      "source": [
        "pd.DataFrame([{'A':2, 'B':4, 'D':3},{'A':4, 'B':5,'C':7}])"
      ],
      "execution_count": 16,
      "outputs": [
        {
          "output_type": "execute_result",
          "data": {
            "text/html": [
              "<div>\n",
              "<style scoped>\n",
              "    .dataframe tbody tr th:only-of-type {\n",
              "        vertical-align: middle;\n",
              "    }\n",
              "\n",
              "    .dataframe tbody tr th {\n",
              "        vertical-align: top;\n",
              "    }\n",
              "\n",
              "    .dataframe thead th {\n",
              "        text-align: right;\n",
              "    }\n",
              "</style>\n",
              "<table border=\"1\" class=\"dataframe\">\n",
              "  <thead>\n",
              "    <tr style=\"text-align: right;\">\n",
              "      <th></th>\n",
              "      <th>A</th>\n",
              "      <th>B</th>\n",
              "      <th>D</th>\n",
              "      <th>C</th>\n",
              "    </tr>\n",
              "  </thead>\n",
              "  <tbody>\n",
              "    <tr>\n",
              "      <th>0</th>\n",
              "      <td>2</td>\n",
              "      <td>4</td>\n",
              "      <td>3.0</td>\n",
              "      <td>NaN</td>\n",
              "    </tr>\n",
              "    <tr>\n",
              "      <th>1</th>\n",
              "      <td>4</td>\n",
              "      <td>5</td>\n",
              "      <td>NaN</td>\n",
              "      <td>7.0</td>\n",
              "    </tr>\n",
              "  </tbody>\n",
              "</table>\n",
              "</div>"
            ],
            "text/plain": [
              "   A  B    D    C\n",
              "0  2  4  3.0  NaN\n",
              "1  4  5  NaN  7.0"
            ]
          },
          "metadata": {},
          "execution_count": 16
        }
      ]
    },
    {
      "cell_type": "code",
      "metadata": {
        "colab": {
          "base_uri": "https://localhost:8080/",
          "height": 195
        },
        "id": "Ef7giCthBZfs",
        "outputId": "27d36b49-53a2-4106-ed18-a4076082ec89"
      },
      "source": [
        "pd.DataFrame(np.random.rand(5,5),\n",
        "             columns=['A','B','C','D','E'],\n",
        "             index=[1,2,3,4,5])"
      ],
      "execution_count": 17,
      "outputs": [
        {
          "output_type": "execute_result",
          "data": {
            "text/html": [
              "<div>\n",
              "<style scoped>\n",
              "    .dataframe tbody tr th:only-of-type {\n",
              "        vertical-align: middle;\n",
              "    }\n",
              "\n",
              "    .dataframe tbody tr th {\n",
              "        vertical-align: top;\n",
              "    }\n",
              "\n",
              "    .dataframe thead th {\n",
              "        text-align: right;\n",
              "    }\n",
              "</style>\n",
              "<table border=\"1\" class=\"dataframe\">\n",
              "  <thead>\n",
              "    <tr style=\"text-align: right;\">\n",
              "      <th></th>\n",
              "      <th>A</th>\n",
              "      <th>B</th>\n",
              "      <th>C</th>\n",
              "      <th>D</th>\n",
              "      <th>E</th>\n",
              "    </tr>\n",
              "  </thead>\n",
              "  <tbody>\n",
              "    <tr>\n",
              "      <th>1</th>\n",
              "      <td>0.166189</td>\n",
              "      <td>0.879250</td>\n",
              "      <td>0.268768</td>\n",
              "      <td>0.772476</td>\n",
              "      <td>0.392763</td>\n",
              "    </tr>\n",
              "    <tr>\n",
              "      <th>2</th>\n",
              "      <td>0.335086</td>\n",
              "      <td>0.241938</td>\n",
              "      <td>0.944542</td>\n",
              "      <td>0.961126</td>\n",
              "      <td>0.511373</td>\n",
              "    </tr>\n",
              "    <tr>\n",
              "      <th>3</th>\n",
              "      <td>0.092057</td>\n",
              "      <td>0.405539</td>\n",
              "      <td>0.809109</td>\n",
              "      <td>0.772964</td>\n",
              "      <td>0.865672</td>\n",
              "    </tr>\n",
              "    <tr>\n",
              "      <th>4</th>\n",
              "      <td>0.048499</td>\n",
              "      <td>0.206930</td>\n",
              "      <td>0.550622</td>\n",
              "      <td>0.080596</td>\n",
              "      <td>0.298190</td>\n",
              "    </tr>\n",
              "    <tr>\n",
              "      <th>5</th>\n",
              "      <td>0.504155</td>\n",
              "      <td>0.073246</td>\n",
              "      <td>0.212889</td>\n",
              "      <td>0.169869</td>\n",
              "      <td>0.310672</td>\n",
              "    </tr>\n",
              "  </tbody>\n",
              "</table>\n",
              "</div>"
            ],
            "text/plain": [
              "          A         B         C         D         E\n",
              "1  0.166189  0.879250  0.268768  0.772476  0.392763\n",
              "2  0.335086  0.241938  0.944542  0.961126  0.511373\n",
              "3  0.092057  0.405539  0.809109  0.772964  0.865672\n",
              "4  0.048499  0.206930  0.550622  0.080596  0.298190\n",
              "5  0.504155  0.073246  0.212889  0.169869  0.310672"
            ]
          },
          "metadata": {},
          "execution_count": 17
        }
      ]
    },
    {
      "cell_type": "code",
      "metadata": {
        "colab": {
          "base_uri": "https://localhost:8080/"
        },
        "id": "HfBN5gI2Brn-",
        "outputId": "b1b7a893-12d2-4d0c-89ea-acc86f7052c4"
      },
      "source": [
        "male_tuple = {'서울특별시':4732275,\n",
        "             '부산광역시':1668618,\n",
        "             '인천광역시':1476813,\n",
        "             '대구광역시':1198815,\n",
        "             '대전광역시':734441,\n",
        "             '광주광역시':720060}\n",
        "male = pd.Series(male_tuple)\n",
        "male"
      ],
      "execution_count": 18,
      "outputs": [
        {
          "output_type": "execute_result",
          "data": {
            "text/plain": [
              "서울특별시    4732275\n",
              "부산광역시    1668618\n",
              "인천광역시    1476813\n",
              "대구광역시    1198815\n",
              "대전광역시     734441\n",
              "광주광역시     720060\n",
              "dtype: int64"
            ]
          },
          "metadata": {},
          "execution_count": 18
        }
      ]
    },
    {
      "cell_type": "code",
      "metadata": {
        "colab": {
          "base_uri": "https://localhost:8080/"
        },
        "id": "FkIfNusaB_cV",
        "outputId": "bead9d1f-909c-4b71-a9be-e7eb7694c238"
      },
      "source": [
        "female_tuple = {'서울특별시':4988571,\n",
        "             '부산광역시':1735805,\n",
        "             '인천광역시':1470404,\n",
        "             '대구광역시':1229139,\n",
        "             '대전광역시':736599,\n",
        "             '광주광역시':734988}\n",
        "female = pd.Series(female_tuple)\n",
        "female"
      ],
      "execution_count": 19,
      "outputs": [
        {
          "output_type": "execute_result",
          "data": {
            "text/plain": [
              "서울특별시    4988571\n",
              "부산광역시    1735805\n",
              "인천광역시    1470404\n",
              "대구광역시    1229139\n",
              "대전광역시     736599\n",
              "광주광역시     734988\n",
              "dtype: int64"
            ]
          },
          "metadata": {},
          "execution_count": 19
        }
      ]
    },
    {
      "cell_type": "code",
      "metadata": {
        "colab": {
          "base_uri": "https://localhost:8080/",
          "height": 225
        },
        "id": "nh2UcLkNCKDr",
        "outputId": "4a74074d-7a3a-4753-acd8-167565484e32"
      },
      "source": [
        "korea_df = pd.DataFrame({'인구수':population,\n",
        "                        '남자인구수' : male,\n",
        "                         '여자인구수' : female})\n",
        "korea_df"
      ],
      "execution_count": 20,
      "outputs": [
        {
          "output_type": "execute_result",
          "data": {
            "text/html": [
              "<div>\n",
              "<style scoped>\n",
              "    .dataframe tbody tr th:only-of-type {\n",
              "        vertical-align: middle;\n",
              "    }\n",
              "\n",
              "    .dataframe tbody tr th {\n",
              "        vertical-align: top;\n",
              "    }\n",
              "\n",
              "    .dataframe thead th {\n",
              "        text-align: right;\n",
              "    }\n",
              "</style>\n",
              "<table border=\"1\" class=\"dataframe\">\n",
              "  <thead>\n",
              "    <tr style=\"text-align: right;\">\n",
              "      <th></th>\n",
              "      <th>인구수</th>\n",
              "      <th>남자인구수</th>\n",
              "      <th>여자인구수</th>\n",
              "    </tr>\n",
              "  </thead>\n",
              "  <tbody>\n",
              "    <tr>\n",
              "      <th>서울특별시</th>\n",
              "      <td>9720846</td>\n",
              "      <td>4732275</td>\n",
              "      <td>4988571</td>\n",
              "    </tr>\n",
              "    <tr>\n",
              "      <th>부산광역시</th>\n",
              "      <td>3404423</td>\n",
              "      <td>1668618</td>\n",
              "      <td>1735805</td>\n",
              "    </tr>\n",
              "    <tr>\n",
              "      <th>인천광역시</th>\n",
              "      <td>2947217</td>\n",
              "      <td>1476813</td>\n",
              "      <td>1470404</td>\n",
              "    </tr>\n",
              "    <tr>\n",
              "      <th>대구광역시</th>\n",
              "      <td>2427954</td>\n",
              "      <td>1198815</td>\n",
              "      <td>1229139</td>\n",
              "    </tr>\n",
              "    <tr>\n",
              "      <th>대전광역시</th>\n",
              "      <td>1471040</td>\n",
              "      <td>734441</td>\n",
              "      <td>736599</td>\n",
              "    </tr>\n",
              "    <tr>\n",
              "      <th>광주광역시</th>\n",
              "      <td>1455048</td>\n",
              "      <td>720060</td>\n",
              "      <td>734988</td>\n",
              "    </tr>\n",
              "  </tbody>\n",
              "</table>\n",
              "</div>"
            ],
            "text/plain": [
              "           인구수    남자인구수    여자인구수\n",
              "서울특별시  9720846  4732275  4988571\n",
              "부산광역시  3404423  1668618  1735805\n",
              "인천광역시  2947217  1476813  1470404\n",
              "대구광역시  2427954  1198815  1229139\n",
              "대전광역시  1471040   734441   736599\n",
              "광주광역시  1455048   720060   734988"
            ]
          },
          "metadata": {},
          "execution_count": 20
        }
      ]
    },
    {
      "cell_type": "code",
      "metadata": {
        "colab": {
          "base_uri": "https://localhost:8080/"
        },
        "id": "df0fHsqcCWsO",
        "outputId": "6acdd42c-a7aa-4d39-c4a0-69bdc4ae53b6"
      },
      "source": [
        "korea_df.index"
      ],
      "execution_count": 21,
      "outputs": [
        {
          "output_type": "execute_result",
          "data": {
            "text/plain": [
              "Index(['서울특별시', '부산광역시', '인천광역시', '대구광역시', '대전광역시', '광주광역시'], dtype='object')"
            ]
          },
          "metadata": {},
          "execution_count": 21
        }
      ]
    },
    {
      "cell_type": "code",
      "metadata": {
        "colab": {
          "base_uri": "https://localhost:8080/"
        },
        "id": "xSKsQQ9XCuuy",
        "outputId": "8061f731-c37c-44c6-fdb7-d3b993481242"
      },
      "source": [
        "korea_df.columns"
      ],
      "execution_count": 22,
      "outputs": [
        {
          "output_type": "execute_result",
          "data": {
            "text/plain": [
              "Index(['인구수', '남자인구수', '여자인구수'], dtype='object')"
            ]
          },
          "metadata": {},
          "execution_count": 22
        }
      ]
    },
    {
      "cell_type": "code",
      "metadata": {
        "colab": {
          "base_uri": "https://localhost:8080/"
        },
        "id": "JGXvqMY2C0Ow",
        "outputId": "b7ec9323-1fda-4f18-e330-1fd7b99471b8"
      },
      "source": [
        "korea_df['여자인구수']"
      ],
      "execution_count": 23,
      "outputs": [
        {
          "output_type": "execute_result",
          "data": {
            "text/plain": [
              "서울특별시    4988571\n",
              "부산광역시    1735805\n",
              "인천광역시    1470404\n",
              "대구광역시    1229139\n",
              "대전광역시     736599\n",
              "광주광역시     734988\n",
              "Name: 여자인구수, dtype: int64"
            ]
          },
          "metadata": {},
          "execution_count": 23
        }
      ]
    },
    {
      "cell_type": "code",
      "metadata": {
        "colab": {
          "base_uri": "https://localhost:8080/",
          "height": 136
        },
        "id": "ZQZ4izi5C37c",
        "outputId": "3eb37861-4085-416c-d5d6-3d868e68f8e6"
      },
      "source": [
        "korea_df['서울특별시':'인천광역시']"
      ],
      "execution_count": 24,
      "outputs": [
        {
          "output_type": "execute_result",
          "data": {
            "text/html": [
              "<div>\n",
              "<style scoped>\n",
              "    .dataframe tbody tr th:only-of-type {\n",
              "        vertical-align: middle;\n",
              "    }\n",
              "\n",
              "    .dataframe tbody tr th {\n",
              "        vertical-align: top;\n",
              "    }\n",
              "\n",
              "    .dataframe thead th {\n",
              "        text-align: right;\n",
              "    }\n",
              "</style>\n",
              "<table border=\"1\" class=\"dataframe\">\n",
              "  <thead>\n",
              "    <tr style=\"text-align: right;\">\n",
              "      <th></th>\n",
              "      <th>인구수</th>\n",
              "      <th>남자인구수</th>\n",
              "      <th>여자인구수</th>\n",
              "    </tr>\n",
              "  </thead>\n",
              "  <tbody>\n",
              "    <tr>\n",
              "      <th>서울특별시</th>\n",
              "      <td>9720846</td>\n",
              "      <td>4732275</td>\n",
              "      <td>4988571</td>\n",
              "    </tr>\n",
              "    <tr>\n",
              "      <th>부산광역시</th>\n",
              "      <td>3404423</td>\n",
              "      <td>1668618</td>\n",
              "      <td>1735805</td>\n",
              "    </tr>\n",
              "    <tr>\n",
              "      <th>인천광역시</th>\n",
              "      <td>2947217</td>\n",
              "      <td>1476813</td>\n",
              "      <td>1470404</td>\n",
              "    </tr>\n",
              "  </tbody>\n",
              "</table>\n",
              "</div>"
            ],
            "text/plain": [
              "           인구수    남자인구수    여자인구수\n",
              "서울특별시  9720846  4732275  4988571\n",
              "부산광역시  3404423  1668618  1735805\n",
              "인천광역시  2947217  1476813  1470404"
            ]
          },
          "metadata": {},
          "execution_count": 24
        }
      ]
    },
    {
      "cell_type": "code",
      "metadata": {
        "colab": {
          "base_uri": "https://localhost:8080/"
        },
        "id": "Dpp9T4LhDmJf",
        "outputId": "f538af80-dbd0-471c-cb4d-d28fe5a96322"
      },
      "source": [
        "from google.colab import drive\n",
        "drive.mount('/content/drive')"
      ],
      "execution_count": 25,
      "outputs": [
        {
          "output_type": "stream",
          "name": "stdout",
          "text": [
            "Mounted at /content/drive\n"
          ]
        }
      ]
    },
    {
      "cell_type": "code",
      "metadata": {
        "colab": {
          "base_uri": "https://localhost:8080/",
          "height": 254
        },
        "id": "rbfmsRqFFCC6",
        "outputId": "cd8f533c-8a65-4797-d2a1-b465de71342c"
      },
      "source": [
        "filename='/content/drive/MyDrive/부산항_2021.csv'\n",
        "\n",
        "seadata=pd.read_csv(filename)\n",
        "seadata.head(10)"
      ],
      "execution_count": 35,
      "outputs": [
        {
          "output_type": "execute_result",
          "data": {
            "text/html": [
              "<div>\n",
              "<style scoped>\n",
              "    .dataframe tbody tr th:only-of-type {\n",
              "        vertical-align: middle;\n",
              "    }\n",
              "\n",
              "    .dataframe tbody tr th {\n",
              "        vertical-align: top;\n",
              "    }\n",
              "\n",
              "    .dataframe thead th {\n",
              "        text-align: right;\n",
              "    }\n",
              "</style>\n",
              "<table border=\"1\" class=\"dataframe\">\n",
              "  <thead>\n",
              "    <tr style=\"text-align: right;\">\n",
              "      <th></th>\n",
              "      <th>출항</th>\n",
              "      <th>입항</th>\n",
              "      <th>외항 입항</th>\n",
              "      <th>외항 출항</th>\n",
              "      <th>외국선 입항</th>\n",
              "      <th>외국선 출항</th>\n",
              "      <th>국적선 입항</th>\n",
              "      <th>국적선 출항</th>\n",
              "    </tr>\n",
              "  </thead>\n",
              "  <tbody>\n",
              "    <tr>\n",
              "      <th>0</th>\n",
              "      <td>18374306</td>\n",
              "      <td>16379285</td>\n",
              "      <td>16379285</td>\n",
              "      <td>18374306</td>\n",
              "      <td>30780481</td>\n",
              "      <td>14548165</td>\n",
              "      <td>1831120</td>\n",
              "      <td>2141990</td>\n",
              "    </tr>\n",
              "    <tr>\n",
              "      <th>1</th>\n",
              "      <td>17033243</td>\n",
              "      <td>14618183</td>\n",
              "      <td>14618183</td>\n",
              "      <td>17033243</td>\n",
              "      <td>27694240</td>\n",
              "      <td>12701895</td>\n",
              "      <td>1916288</td>\n",
              "      <td>2040898</td>\n",
              "    </tr>\n",
              "    <tr>\n",
              "      <th>2</th>\n",
              "      <td>19721734</td>\n",
              "      <td>17151498</td>\n",
              "      <td>17151498</td>\n",
              "      <td>19721734</td>\n",
              "      <td>32538031</td>\n",
              "      <td>14886176</td>\n",
              "      <td>2265322</td>\n",
              "      <td>2069879</td>\n",
              "    </tr>\n",
              "    <tr>\n",
              "      <th>3</th>\n",
              "      <td>18356391</td>\n",
              "      <td>18266865</td>\n",
              "      <td>18266865</td>\n",
              "      <td>18356391</td>\n",
              "      <td>32305352</td>\n",
              "      <td>16173092</td>\n",
              "      <td>2093773</td>\n",
              "      <td>2224131</td>\n",
              "    </tr>\n",
              "    <tr>\n",
              "      <th>4</th>\n",
              "      <td>19652544</td>\n",
              "      <td>17507307</td>\n",
              "      <td>17507307</td>\n",
              "      <td>19652544</td>\n",
              "      <td>32795440</td>\n",
              "      <td>15500336</td>\n",
              "      <td>2006971</td>\n",
              "      <td>2357440</td>\n",
              "    </tr>\n",
              "    <tr>\n",
              "      <th>5</th>\n",
              "      <td>18880543</td>\n",
              "      <td>17417098</td>\n",
              "      <td>17417098</td>\n",
              "      <td>18880543</td>\n",
              "      <td>32299701</td>\n",
              "      <td>15389814</td>\n",
              "      <td>2027284</td>\n",
              "      <td>1970656</td>\n",
              "    </tr>\n",
              "    <tr>\n",
              "      <th>6</th>\n",
              "      <td>19302300</td>\n",
              "      <td>17801786</td>\n",
              "      <td>17801786</td>\n",
              "      <td>19302300</td>\n",
              "      <td>32191222</td>\n",
              "      <td>15421610</td>\n",
              "      <td>2380176</td>\n",
              "      <td>2532688</td>\n",
              "    </tr>\n",
              "  </tbody>\n",
              "</table>\n",
              "</div>"
            ],
            "text/plain": [
              "         출항        입항     외항 입항     외항 출항    외국선 입항    외국선 출항   국적선 입항   국적선 출항\n",
              "0  18374306  16379285  16379285  18374306  30780481  14548165  1831120  2141990\n",
              "1  17033243  14618183  14618183  17033243  27694240  12701895  1916288  2040898\n",
              "2  19721734  17151498  17151498  19721734  32538031  14886176  2265322  2069879\n",
              "3  18356391  18266865  18266865  18356391  32305352  16173092  2093773  2224131\n",
              "4  19652544  17507307  17507307  19652544  32795440  15500336  2006971  2357440\n",
              "5  18880543  17417098  17417098  18880543  32299701  15389814  2027284  1970656\n",
              "6  19302300  17801786  17801786  19302300  32191222  15421610  2380176  2532688"
            ]
          },
          "metadata": {},
          "execution_count": 35
        }
      ]
    },
    {
      "cell_type": "code",
      "metadata": {
        "colab": {
          "base_uri": "https://localhost:8080/"
        },
        "id": "5vvcV9pPFvIw",
        "outputId": "6585dee7-a032-4358-accc-d4d9096eb8fe"
      },
      "source": [
        "seadata.shape"
      ],
      "execution_count": 27,
      "outputs": [
        {
          "output_type": "execute_result",
          "data": {
            "text/plain": [
              "(7, 8)"
            ]
          },
          "metadata": {},
          "execution_count": 27
        }
      ]
    },
    {
      "cell_type": "code",
      "metadata": {
        "colab": {
          "base_uri": "https://localhost:8080/"
        },
        "id": "IGBK6RiTFy9M",
        "outputId": "d496534f-153f-4077-df3d-8740f327d39f"
      },
      "source": [
        "seadata.info()"
      ],
      "execution_count": 28,
      "outputs": [
        {
          "output_type": "stream",
          "name": "stdout",
          "text": [
            "<class 'pandas.core.frame.DataFrame'>\n",
            "RangeIndex: 7 entries, 0 to 6\n",
            "Data columns (total 8 columns):\n",
            " #   Column  Non-Null Count  Dtype\n",
            "---  ------  --------------  -----\n",
            " 0   출항      7 non-null      int64\n",
            " 1   입항      7 non-null      int64\n",
            " 2   외항 입항   7 non-null      int64\n",
            " 3   외항 출항   7 non-null      int64\n",
            " 4   외국선 입항  7 non-null      int64\n",
            " 5   외국선 출항  7 non-null      int64\n",
            " 6   국적선 입항  7 non-null      int64\n",
            " 7   국적선 출항  7 non-null      int64\n",
            "dtypes: int64(8)\n",
            "memory usage: 576.0 bytes\n"
          ]
        }
      ]
    },
    {
      "cell_type": "code",
      "metadata": {
        "colab": {
          "base_uri": "https://localhost:8080/",
          "height": 284
        },
        "id": "P-ofae-SGOGS",
        "outputId": "a18e75e9-5b12-40d7-af49-b9be24dfd081"
      },
      "source": [
        "seadata.describe()"
      ],
      "execution_count": 38,
      "outputs": [
        {
          "output_type": "execute_result",
          "data": {
            "text/html": [
              "<div>\n",
              "<style scoped>\n",
              "    .dataframe tbody tr th:only-of-type {\n",
              "        vertical-align: middle;\n",
              "    }\n",
              "\n",
              "    .dataframe tbody tr th {\n",
              "        vertical-align: top;\n",
              "    }\n",
              "\n",
              "    .dataframe thead th {\n",
              "        text-align: right;\n",
              "    }\n",
              "</style>\n",
              "<table border=\"1\" class=\"dataframe\">\n",
              "  <thead>\n",
              "    <tr style=\"text-align: right;\">\n",
              "      <th></th>\n",
              "      <th>출항</th>\n",
              "      <th>입항</th>\n",
              "      <th>외항 입항</th>\n",
              "      <th>외항 출항</th>\n",
              "      <th>외국선 입항</th>\n",
              "      <th>외국선 출항</th>\n",
              "      <th>국적선 입항</th>\n",
              "      <th>국적선 출항</th>\n",
              "    </tr>\n",
              "  </thead>\n",
              "  <tbody>\n",
              "    <tr>\n",
              "      <th>count</th>\n",
              "      <td>7.000000e+00</td>\n",
              "      <td>7.000000e+00</td>\n",
              "      <td>7.000000e+00</td>\n",
              "      <td>7.000000e+00</td>\n",
              "      <td>7.000000e+00</td>\n",
              "      <td>7.000000e+00</td>\n",
              "      <td>7.000000e+00</td>\n",
              "      <td>7.000000e+00</td>\n",
              "    </tr>\n",
              "    <tr>\n",
              "      <th>mean</th>\n",
              "      <td>1.876015e+07</td>\n",
              "      <td>1.702029e+07</td>\n",
              "      <td>1.702029e+07</td>\n",
              "      <td>1.876015e+07</td>\n",
              "      <td>3.151492e+07</td>\n",
              "      <td>1.494587e+07</td>\n",
              "      <td>2.074419e+06</td>\n",
              "      <td>2.191097e+06</td>\n",
              "    </tr>\n",
              "    <tr>\n",
              "      <th>std</th>\n",
              "      <td>9.419427e+05</td>\n",
              "      <td>1.208136e+06</td>\n",
              "      <td>1.208136e+06</td>\n",
              "      <td>9.419427e+05</td>\n",
              "      <td>1.803771e+06</td>\n",
              "      <td>1.113110e+06</td>\n",
              "      <td>1.920402e+05</td>\n",
              "      <td>1.973596e+05</td>\n",
              "    </tr>\n",
              "    <tr>\n",
              "      <th>min</th>\n",
              "      <td>1.703324e+07</td>\n",
              "      <td>1.461818e+07</td>\n",
              "      <td>1.461818e+07</td>\n",
              "      <td>1.703324e+07</td>\n",
              "      <td>2.769424e+07</td>\n",
              "      <td>1.270190e+07</td>\n",
              "      <td>1.831120e+06</td>\n",
              "      <td>1.970656e+06</td>\n",
              "    </tr>\n",
              "    <tr>\n",
              "      <th>25%</th>\n",
              "      <td>1.836535e+07</td>\n",
              "      <td>1.676539e+07</td>\n",
              "      <td>1.676539e+07</td>\n",
              "      <td>1.836535e+07</td>\n",
              "      <td>3.148585e+07</td>\n",
              "      <td>1.471717e+07</td>\n",
              "      <td>1.961630e+06</td>\n",
              "      <td>2.055388e+06</td>\n",
              "    </tr>\n",
              "    <tr>\n",
              "      <th>50%</th>\n",
              "      <td>1.888054e+07</td>\n",
              "      <td>1.741710e+07</td>\n",
              "      <td>1.741710e+07</td>\n",
              "      <td>1.888054e+07</td>\n",
              "      <td>3.229970e+07</td>\n",
              "      <td>1.538981e+07</td>\n",
              "      <td>2.027284e+06</td>\n",
              "      <td>2.141990e+06</td>\n",
              "    </tr>\n",
              "    <tr>\n",
              "      <th>75%</th>\n",
              "      <td>1.947742e+07</td>\n",
              "      <td>1.765455e+07</td>\n",
              "      <td>1.765455e+07</td>\n",
              "      <td>1.947742e+07</td>\n",
              "      <td>3.242169e+07</td>\n",
              "      <td>1.546097e+07</td>\n",
              "      <td>2.179548e+06</td>\n",
              "      <td>2.290786e+06</td>\n",
              "    </tr>\n",
              "    <tr>\n",
              "      <th>max</th>\n",
              "      <td>1.972173e+07</td>\n",
              "      <td>1.826686e+07</td>\n",
              "      <td>1.826686e+07</td>\n",
              "      <td>1.972173e+07</td>\n",
              "      <td>3.279544e+07</td>\n",
              "      <td>1.617309e+07</td>\n",
              "      <td>2.380176e+06</td>\n",
              "      <td>2.532688e+06</td>\n",
              "    </tr>\n",
              "  </tbody>\n",
              "</table>\n",
              "</div>"
            ],
            "text/plain": [
              "                 출항            입항  ...        국적선 입항        국적선 출항\n",
              "count  7.000000e+00  7.000000e+00  ...  7.000000e+00  7.000000e+00\n",
              "mean   1.876015e+07  1.702029e+07  ...  2.074419e+06  2.191097e+06\n",
              "std    9.419427e+05  1.208136e+06  ...  1.920402e+05  1.973596e+05\n",
              "min    1.703324e+07  1.461818e+07  ...  1.831120e+06  1.970656e+06\n",
              "25%    1.836535e+07  1.676539e+07  ...  1.961630e+06  2.055388e+06\n",
              "50%    1.888054e+07  1.741710e+07  ...  2.027284e+06  2.141990e+06\n",
              "75%    1.947742e+07  1.765455e+07  ...  2.179548e+06  2.290786e+06\n",
              "max    1.972173e+07  1.826686e+07  ...  2.380176e+06  2.532688e+06\n",
              "\n",
              "[8 rows x 8 columns]"
            ]
          },
          "metadata": {},
          "execution_count": 38
        }
      ]
    },
    {
      "cell_type": "code",
      "metadata": {
        "colab": {
          "base_uri": "https://localhost:8080/"
        },
        "id": "nSa9AIa8GaJR",
        "outputId": "e99f3eba-c9bf-4796-dde7-98f6f71c4991"
      },
      "source": [
        "seadata['출항']"
      ],
      "execution_count": 31,
      "outputs": [
        {
          "output_type": "execute_result",
          "data": {
            "text/plain": [
              "0    18374306\n",
              "1    17033243\n",
              "2    19721734\n",
              "3    18356391\n",
              "4    19652544\n",
              "5    18880543\n",
              "6    19302300\n",
              "Name: 출항, dtype: int64"
            ]
          },
          "metadata": {},
          "execution_count": 31
        }
      ]
    },
    {
      "cell_type": "code",
      "metadata": {
        "colab": {
          "base_uri": "https://localhost:8080/",
          "height": 254
        },
        "id": "dwxwT7EeGlIj",
        "outputId": "95933c7e-1868-4bb4-8e21-8560209fef31"
      },
      "source": [
        "seadata[['출항','입항']]"
      ],
      "execution_count": 41,
      "outputs": [
        {
          "output_type": "execute_result",
          "data": {
            "text/html": [
              "<div>\n",
              "<style scoped>\n",
              "    .dataframe tbody tr th:only-of-type {\n",
              "        vertical-align: middle;\n",
              "    }\n",
              "\n",
              "    .dataframe tbody tr th {\n",
              "        vertical-align: top;\n",
              "    }\n",
              "\n",
              "    .dataframe thead th {\n",
              "        text-align: right;\n",
              "    }\n",
              "</style>\n",
              "<table border=\"1\" class=\"dataframe\">\n",
              "  <thead>\n",
              "    <tr style=\"text-align: right;\">\n",
              "      <th></th>\n",
              "      <th>출항</th>\n",
              "      <th>입항</th>\n",
              "    </tr>\n",
              "  </thead>\n",
              "  <tbody>\n",
              "    <tr>\n",
              "      <th>0</th>\n",
              "      <td>18374306</td>\n",
              "      <td>16379285</td>\n",
              "    </tr>\n",
              "    <tr>\n",
              "      <th>1</th>\n",
              "      <td>17033243</td>\n",
              "      <td>14618183</td>\n",
              "    </tr>\n",
              "    <tr>\n",
              "      <th>2</th>\n",
              "      <td>19721734</td>\n",
              "      <td>17151498</td>\n",
              "    </tr>\n",
              "    <tr>\n",
              "      <th>3</th>\n",
              "      <td>18356391</td>\n",
              "      <td>18266865</td>\n",
              "    </tr>\n",
              "    <tr>\n",
              "      <th>4</th>\n",
              "      <td>19652544</td>\n",
              "      <td>17507307</td>\n",
              "    </tr>\n",
              "    <tr>\n",
              "      <th>5</th>\n",
              "      <td>18880543</td>\n",
              "      <td>17417098</td>\n",
              "    </tr>\n",
              "    <tr>\n",
              "      <th>6</th>\n",
              "      <td>19302300</td>\n",
              "      <td>17801786</td>\n",
              "    </tr>\n",
              "  </tbody>\n",
              "</table>\n",
              "</div>"
            ],
            "text/plain": [
              "         출항        입항\n",
              "0  18374306  16379285\n",
              "1  17033243  14618183\n",
              "2  19721734  17151498\n",
              "3  18356391  18266865\n",
              "4  19652544  17507307\n",
              "5  18880543  17417098\n",
              "6  19302300  17801786"
            ]
          },
          "metadata": {},
          "execution_count": 41
        }
      ]
    }
  ]
}