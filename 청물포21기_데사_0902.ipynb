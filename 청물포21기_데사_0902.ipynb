{
  "nbformat": 4,
  "nbformat_minor": 0,
  "metadata": {
    "colab": {
      "name": "청물포21기_데사_0902.ipynb",
      "provenance": [],
      "collapsed_sections": [],
      "authorship_tag": "ABX9TyMzmrUaYiJq2/OJOBk9pxfl"
    },
    "kernelspec": {
      "name": "python3",
      "display_name": "Python 3"
    },
    "language_info": {
      "name": "python"
    }
  },
  "cells": [
    {
      "cell_type": "markdown",
      "metadata": {
        "id": "6IoYSAM-rmXS"
      },
      "source": [
        "# 청물포 21기 데이터 사이언스 2주차 (9월 2일 목요일)\n",
        "##### 파이썬 실습 ① 파이썬의 숫자 및 기본연산 & 라이브러리"
      ]
    },
    {
      "cell_type": "markdown",
      "metadata": {
        "id": "o9odrRrMsJzx"
      },
      "source": [
        "## 1. 파이썬의 특징\n",
        "\n",
        "#### ① 파이썬은 오픈 소스이며, 비용을 지불하지 않고 무료로 사용할 수 있음.\n",
        "#### ② 읽기 쉽고 사용하기 쉬움.\n",
        "#### ③ 사물인터넷과 잘 연동됨.\n",
        "#### ④ 다양하고 강력한 외부 라이브러리들이 풍부함.\n",
        "#### ⑤ 강력한 웹 프레임워크를 사용할 수 있음."
      ]
    },
    {
      "cell_type": "markdown",
      "metadata": {
        "id": "FbuEJf4usnau"
      },
      "source": [
        "## 2. 기본 연산 및 필요 변수 준비"
      ]
    },
    {
      "cell_type": "markdown",
      "metadata": {
        "id": "Z1cmI0wEs0XY"
      },
      "source": [
        "#### ① 숫자를 그릇에 담는다고 생각하면 된다"
      ]
    },
    {
      "cell_type": "code",
      "metadata": {
        "id": "6l_orOYDrMwy"
      },
      "source": [
        "# 변수 설정은 다음과 같다\n",
        "a = 200\n",
        "b = 100"
      ],
      "execution_count": 1,
      "outputs": []
    },
    {
      "cell_type": "markdown",
      "metadata": {
        "id": "hBJsw0AEta56"
      },
      "source": [
        "#### ② 더하기, 빼기, 곱하기, 나누기"
      ]
    },
    {
      "cell_type": "code",
      "metadata": {
        "id": "jDPYwzBctO3e",
        "colab": {
          "base_uri": "https://localhost:8080/"
        },
        "outputId": "198cd078-0887-42a7-a5f2-069fa2fca010"
      },
      "source": [
        "# 더하기\n",
        "a = 200\n",
        "b = 100\n",
        "result=a+b\n",
        "print(result)"
      ],
      "execution_count": 2,
      "outputs": [
        {
          "output_type": "stream",
          "name": "stdout",
          "text": [
            "300\n"
          ]
        }
      ]
    },
    {
      "cell_type": "code",
      "metadata": {
        "id": "6x_O7tAWts_9",
        "colab": {
          "base_uri": "https://localhost:8080/"
        },
        "outputId": "2a41df08-3131-4156-cdb2-befb80283f7d"
      },
      "source": [
        "# 빼기\n",
        "a = 200\n",
        "b = 100\n",
        "result = a - b\n",
        "print(result)"
      ],
      "execution_count": 3,
      "outputs": [
        {
          "output_type": "stream",
          "name": "stdout",
          "text": [
            "100\n"
          ]
        }
      ]
    },
    {
      "cell_type": "code",
      "metadata": {
        "id": "soZOSb9ottMG",
        "colab": {
          "base_uri": "https://localhost:8080/"
        },
        "outputId": "bc3dcb72-67cf-4eda-f436-ab8c75bb7e8f"
      },
      "source": [
        "# 곱하기\n",
        "a = 200\n",
        "b = 100\n",
        "result = a * b\n",
        "print(result)"
      ],
      "execution_count": 4,
      "outputs": [
        {
          "output_type": "stream",
          "name": "stdout",
          "text": [
            "20000\n"
          ]
        }
      ]
    },
    {
      "cell_type": "code",
      "metadata": {
        "id": "L7y1utpettTL",
        "colab": {
          "base_uri": "https://localhost:8080/"
        },
        "outputId": "b9b754de-6489-426a-99bd-a09a2f627b69"
      },
      "source": [
        "# 나누기 (몫)\n",
        "a = 200\n",
        "b = 100\n",
        "result = a / b\n",
        "print(result)"
      ],
      "execution_count": 5,
      "outputs": [
        {
          "output_type": "stream",
          "name": "stdout",
          "text": [
            "2.0\n"
          ]
        }
      ]
    },
    {
      "cell_type": "code",
      "metadata": {
        "id": "j7wngTHYt1g_",
        "colab": {
          "base_uri": "https://localhost:8080/"
        },
        "outputId": "cf02e08e-223f-433e-e969-001a387912ca"
      },
      "source": [
        "# 나누기 (나머지)\n",
        "a = 200\n",
        "b = 100\n",
        "result = a % b\n",
        "print(result)"
      ],
      "execution_count": 6,
      "outputs": [
        {
          "output_type": "stream",
          "name": "stdout",
          "text": [
            "0\n"
          ]
        }
      ]
    },
    {
      "cell_type": "markdown",
      "metadata": {
        "id": "vGSCch0bt-2P"
      },
      "source": [
        "## 3. Print 함수"
      ]
    },
    {
      "cell_type": "markdown",
      "metadata": {
        "id": "bDDncmCmuH0o"
      },
      "source": [
        "#### ① 문자는 큰 따옴표, 숫자가 담긴 변수는 큰 따옴표 없이 사용"
      ]
    },
    {
      "cell_type": "code",
      "metadata": {
        "id": "B7YxEFbkuE73",
        "colab": {
          "base_uri": "https://localhost:8080/"
        },
        "outputId": "c01ff0de-06fd-4abd-ac16-12b4a8c141ad"
      },
      "source": [
        "# print (문자)\n",
        "print(\"청물포 21기 화이팅\")"
      ],
      "execution_count": 7,
      "outputs": [
        {
          "output_type": "stream",
          "name": "stdout",
          "text": [
            "청물포 21기 화이팅\n"
          ]
        }
      ]
    },
    {
      "cell_type": "code",
      "metadata": {
        "id": "LhGRNjDzudbz",
        "colab": {
          "base_uri": "https://localhost:8080/"
        },
        "outputId": "ca1aeb83-edf6-4f5c-dde8-ca1cc4505afb"
      },
      "source": [
        "# print (숫자)\n",
        "a = 2021\n",
        "print(a)"
      ],
      "execution_count": 8,
      "outputs": [
        {
          "output_type": "stream",
          "name": "stdout",
          "text": [
            "2021\n"
          ]
        }
      ]
    },
    {
      "cell_type": "markdown",
      "metadata": {
        "id": "iIgXPSOaTKdE"
      },
      "source": [
        "#### ② input() 함수를 사용해 값을 입력하기"
      ]
    },
    {
      "cell_type": "code",
      "metadata": {
        "colab": {
          "base_uri": "https://localhost:8080/"
        },
        "id": "Tfa4WEVrTRDs",
        "outputId": "a129f6df-cd93-488d-9fcc-715fe978eea2"
      },
      "source": [
        "# input 함수는 문자를 입력받는 것이다\n",
        "\n",
        "p = input()\n",
        "q = input()\n",
        "result = p + q\n",
        "print(result)"
      ],
      "execution_count": 10,
      "outputs": [
        {
          "output_type": "stream",
          "name": "stdout",
          "text": [
            "40\n",
            "30\n",
            "4030\n"
          ]
        }
      ]
    },
    {
      "cell_type": "markdown",
      "metadata": {
        "id": "biE-_LbPTxic"
      },
      "source": [
        "#### ③ input() 함수를 통해 입력받은 문자를 정수로 변환하기 : int()"
      ]
    },
    {
      "cell_type": "code",
      "metadata": {
        "colab": {
          "base_uri": "https://localhost:8080/"
        },
        "id": "jfMq7by2Tsvr",
        "outputId": "bf3fa83e-1b23-423f-c4d2-6f921daef65f"
      },
      "source": [
        "p = input()\n",
        "q = input()\n",
        "result = int(p) + int(q)\n",
        "print(result)"
      ],
      "execution_count": 11,
      "outputs": [
        {
          "output_type": "stream",
          "name": "stdout",
          "text": [
            "100\n",
            "200\n",
            "300\n"
          ]
        }
      ]
    },
    {
      "cell_type": "markdown",
      "metadata": {
        "id": "s34DweUfUAxK"
      },
      "source": [
        "#### ④ input 함수 안 큰 따옴표로 문자를 입력받을 때 문구를 출력"
      ]
    },
    {
      "cell_type": "code",
      "metadata": {
        "colab": {
          "base_uri": "https://localhost:8080/"
        },
        "id": "1201Pt2aTlAx",
        "outputId": "d8e2d845-f108-4db2-91b1-c887e767954d"
      },
      "source": [
        "p = input(\"당신의 숫자를 입력하세요.\")\n",
        "print(p)"
      ],
      "execution_count": 12,
      "outputs": [
        {
          "output_type": "stream",
          "name": "stdout",
          "text": [
            "당신의 숫자를 입력하세요.10\n",
            "10\n"
          ]
        }
      ]
    },
    {
      "cell_type": "markdown",
      "metadata": {
        "id": "j94uYKnpUfCE"
      },
      "source": [
        "#### ⑤ print 함수 안에 서식"
      ]
    },
    {
      "cell_type": "code",
      "metadata": {
        "id": "pBV71wLrUuZq"
      },
      "source": [
        "# 문자 출력하기 : 큰따옴표\n",
        "print(\"안녕하세요. 청물포 연습입니다.\")"
      ],
      "execution_count": null,
      "outputs": []
    },
    {
      "cell_type": "code",
      "metadata": {
        "colab": {
          "base_uri": "https://localhost:8080/"
        },
        "id": "UKJ2f-WlU0LS",
        "outputId": "0dd792b9-0142-4ea8-fa33-02efac12de2f"
      },
      "source": [
        "# 숫자를 출력하기\n",
        "print(\"%d\" % 100)\n",
        "print(\"%d\" % (50+50))"
      ],
      "execution_count": 14,
      "outputs": [
        {
          "output_type": "stream",
          "name": "stdout",
          "text": [
            "100\n",
            "100\n"
          ]
        }
      ]
    },
    {
      "cell_type": "code",
      "metadata": {
        "id": "c8o_3C1FU93D"
      },
      "source": [
        "# 두 식의 차이가 무엇일까요?\n",
        "print(\"100\")\n",
        "print(\"%d\" % 100)"
      ],
      "execution_count": null,
      "outputs": []
    },
    {
      "cell_type": "markdown",
      "metadata": {
        "id": "KoVRS2YVVLmE"
      },
      "source": [
        "#### ⑥ %d %x %o : 정수(10진수, 16진수, 8진수)\n",
        "#### ⑦ %f : 실수\n",
        "#### ⑧ %c : 한 글자\n",
        "#### ⑨ %s : 두 글자 이상의 문자열"
      ]
    },
    {
      "cell_type": "code",
      "metadata": {
        "colab": {
          "base_uri": "https://localhost:8080/"
        },
        "id": "E70n4cGpVDrv",
        "outputId": "1e840d42-2357-4f0c-994b-36993deff8e3"
      },
      "source": [
        "print(\"%d\" % 123)\n",
        "print(\"%f\" % 123.45)\n",
        "print(\"%c\" % \"a\")\n",
        "print(\"%s\" % \"Python\")"
      ],
      "execution_count": 15,
      "outputs": [
        {
          "output_type": "stream",
          "name": "stdout",
          "text": [
            "123\n",
            "123.450000\n",
            "a\n",
            "Python\n"
          ]
        }
      ]
    },
    {
      "cell_type": "markdown",
      "metadata": {
        "id": "O0w1muU_WPzS"
      },
      "source": [
        "## 4. 라이브러리 Import\n",
        "\n"
      ]
    },
    {
      "cell_type": "code",
      "metadata": {
        "id": "nJJYpwG1XrF_"
      },
      "source": [
        "import turtle\n",
        "\n",
        "## 함수 선언 부분 ##\n",
        "\n",
        "## 변수 선언 부분 ##\n",
        "myT = None\n",
        "\n",
        "## 메인 코드 부분 ##\n",
        "turtle.shape('turtle')\n",
        "\n",
        "turtle.forward(200)\n",
        "turtle.right(90)\n",
        "turtle.forward(200)\n",
        "turtle.right(90)\n",
        "turtle.forward(200)\n",
        "turtle.right(90)\n",
        "turtle.forward(200)\n",
        "\n",
        "turtle.done()"
      ],
      "execution_count": null,
      "outputs": []
    },
    {
      "cell_type": "code",
      "metadata": {
        "id": "QU-ouIvQX6EJ"
      },
      "source": [
        "import turtle\n",
        "import random\n",
        "\n",
        "## 함수 선언 부분 ##\n",
        "def screenLeftClick(x,y) :\n",
        "    global r,g,b\n",
        "    turtle.pencolor((r,g,b))\n",
        "    turtle.pendown()\n",
        "    turtle.goto(x,y)\n",
        "\n",
        "def screenRightClick(x,y) :\n",
        "    turtle.penup()\n",
        "    turtle.goto(x,y)\n",
        "\n",
        "def screenMidClick(x,y) :\n",
        "    global r,g,b\n",
        "    tSize = random.randrange(1,10)\n",
        "    turtle.shapesize(tSize)\n",
        "    r = random.random()\n",
        "    g = random.random()\n",
        "    b = random.random()\n",
        "\n",
        "## 변수 선언 부분 ##\n",
        "pSize = 10\n",
        "r, g, b = 0.0, 0.0, 0.0\n",
        "\n",
        "## 메인 코드 부분 ##\n",
        "turtle.title('거북이로 그림 그리기')\n",
        "turtle.shape('turtle')\n",
        "turtle.pensize(pSize)\n",
        "\n",
        "turtle.onscreenclick(screenLeftClick,1)\n",
        "turtle.onscreenclick(screenMidClick,2)\n",
        "turtle.onscreenclick(screenRightClick, 3)\n",
        "\n",
        "turtle.done()"
      ],
      "execution_count": null,
      "outputs": []
    },
    {
      "cell_type": "markdown",
      "metadata": {
        "id": "xXkk7ZosZJwb"
      },
      "source": [
        "## 5. 오늘의 실습"
      ]
    },
    {
      "cell_type": "markdown",
      "metadata": {
        "id": "ahdo6bsKZMre"
      },
      "source": [
        "### ① 삼각형을 그리는 거북이 프로그램을 만드시오."
      ]
    },
    {
      "cell_type": "markdown",
      "metadata": {
        "id": "VEVhEDWHZmob"
      },
      "source": [
        "### ② 정수 2개를 입력받아서 더하기, 곱하기, 제곱 연산을 파는 프로그램을 작성하시오.\n",
        "#### ( pow(밑수, 지수) 함수를 활용하기 + print 이용 )"
      ]
    }
  ]
}