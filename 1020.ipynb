{
  "nbformat": 4,
  "nbformat_minor": 0,
  "metadata": {
    "colab": {
      "name": "1020.ipynb",
      "provenance": [],
      "authorship_tag": "ABX9TyO3QHiTJb1xbPJ9hXUX+yHO",
      "include_colab_link": true
    },
    "kernelspec": {
      "name": "python3",
      "display_name": "Python 3"
    },
    "language_info": {
      "name": "python"
    }
  },
  "cells": [
    {
      "cell_type": "markdown",
      "metadata": {
        "id": "view-in-github",
        "colab_type": "text"
      },
      "source": [
        "<a href=\"https://colab.research.google.com/github/SEJUNTONY/Data_Science_Class/blob/main/1020.ipynb\" target=\"_parent\"><img src=\"https://colab.research.google.com/assets/colab-badge.svg\" alt=\"Open In Colab\"/></a>"
      ]
    },
    {
      "cell_type": "code",
      "metadata": {
        "id": "99m3nshszb0B"
      },
      "source": [
        "import numpy as np"
      ],
      "execution_count": 1,
      "outputs": []
    },
    {
      "cell_type": "code",
      "metadata": {
        "colab": {
          "base_uri": "https://localhost:8080/"
        },
        "id": "u-n7xR2C3YPl",
        "outputId": "3fcc54f3-8f18-433e-bdce-b1b22169c463"
      },
      "source": [
        "list1 = [1,2,3]\n",
        "array = np.array(list1)\n",
        "\n",
        "print(array.size)\n",
        "print(array.dtype)\n",
        "print(array[2])"
      ],
      "execution_count": 2,
      "outputs": [
        {
          "output_type": "stream",
          "name": "stdout",
          "text": [
            "3\n",
            "int64\n",
            "3\n"
          ]
        }
      ]
    },
    {
      "cell_type": "code",
      "metadata": {
        "colab": {
          "base_uri": "https://localhost:8080/"
        },
        "id": "4fVFThyl3djI",
        "outputId": "9a1696e7-9545-4ea1-c4ed-75480b667b12"
      },
      "source": [
        "array1 = np.arange(4)\n",
        "print(array1)\n",
        "\n",
        "array2 = np.zeros((4,4),dtype=float)\n",
        "print(array2)\n",
        "\n",
        "array3 = np.ones((3,3), dtype=str)\n",
        "print(array3)"
      ],
      "execution_count": 5,
      "outputs": [
        {
          "output_type": "stream",
          "name": "stdout",
          "text": [
            "[0 1 2 3]\n",
            "[[0. 0. 0. 0.]\n",
            " [0. 0. 0. 0.]\n",
            " [0. 0. 0. 0.]\n",
            " [0. 0. 0. 0.]]\n",
            "[['1' '1' '1']\n",
            " ['1' '1' '1']\n",
            " ['1' '1' '1']]\n"
          ]
        }
      ]
    },
    {
      "cell_type": "code",
      "metadata": {
        "colab": {
          "base_uri": "https://localhost:8080/"
        },
        "id": "d7GjTie75Qut",
        "outputId": "3ecbaf6e-d5ab-4fa8-8096-c3f6e2b3c905"
      },
      "source": [
        "array4 = np.random.randint(0,10, (3,3))\n",
        "print(array4)"
      ],
      "execution_count": 6,
      "outputs": [
        {
          "output_type": "stream",
          "name": "stdout",
          "text": [
            "[[0 3 9]\n",
            " [7 3 1]\n",
            " [8 3 3]]\n"
          ]
        }
      ]
    },
    {
      "cell_type": "code",
      "metadata": {
        "colab": {
          "base_uri": "https://localhost:8080/"
        },
        "id": "nnFufSuD5nb4",
        "outputId": "2a1be59d-22e9-49be-bef4-40bc7ec19ed0"
      },
      "source": [
        "array5 = np.random.normal(0,1,(3,3))\n",
        "print(array5)"
      ],
      "execution_count": 7,
      "outputs": [
        {
          "output_type": "stream",
          "name": "stdout",
          "text": [
            "[[-0.05477982 -0.05379223  1.33007725]\n",
            " [ 0.72133396 -0.77233176 -1.205205  ]\n",
            " [-0.82915601 -1.77459316 -0.91813929]]\n"
          ]
        }
      ]
    },
    {
      "cell_type": "code",
      "metadata": {
        "colab": {
          "base_uri": "https://localhost:8080/"
        },
        "id": "fWXK3HFy6KW7",
        "outputId": "959bff49-d457-405f-b8fa-bfd9e8836a98"
      },
      "source": [
        "array6 = np.array([1,2,3])\n",
        "array7 = np.array([4,5,6])\n",
        "array8 = np.concatenate([array6, array7]) # 배열에 감싸서 넣어주기\n",
        "\n",
        "print(array8)\n",
        "print(array8.shape) #몇곱하기몇 데이터인지 알려줌(가로3*세로2여서 6)"
      ],
      "execution_count": 8,
      "outputs": [
        {
          "output_type": "stream",
          "name": "stdout",
          "text": [
            "[1 2 3 4 5 6]\n",
            "(6,)\n"
          ]
        }
      ]
    },
    {
      "cell_type": "code",
      "metadata": {
        "colab": {
          "base_uri": "https://localhost:8080/"
        },
        "id": "Fg9u_wpx6o6R",
        "outputId": "d56b21fa-cdaa-4e61-ba7d-5f8b96463b55"
      },
      "source": [
        "array9 = np.array([1,2,3,4])\n",
        "array10 = array9.reshape((2,2)) #(3,1)은 안됨\n",
        "\n",
        "print(array10)\n",
        "print(array10.shape)"
      ],
      "execution_count": 9,
      "outputs": [
        {
          "output_type": "stream",
          "name": "stdout",
          "text": [
            "[[1 2]\n",
            " [3 4]]\n",
            "(2, 2)\n"
          ]
        }
      ]
    },
    {
      "cell_type": "code",
      "metadata": {
        "colab": {
          "base_uri": "https://localhost:8080/"
        },
        "id": "qTQGe13p7AQ1",
        "outputId": "25f9f45c-9b88-4ba4-901e-cdf085792c84"
      },
      "source": [
        "array11 = np.arange(4).reshape(1,4)\n",
        "array12 = np.arange(8).reshape(2,4)\n",
        "#np.arange(8)= 0부터 8개의 숫자 출력하겠다.\n",
        "\n",
        "print(array11)\n",
        "print(array12)\n",
        "\n",
        "array13 = np.concatenate([array11, array12], axis=0)\n",
        "#11은 (1,4)구조, 12는 (2,4)니까 axis=0 해줘야 함\n",
        "print(array13)"
      ],
      "execution_count": 13,
      "outputs": [
        {
          "output_type": "stream",
          "name": "stdout",
          "text": [
            "[[0 1 2 3]]\n",
            "[[0 1 2 3]\n",
            " [4 5 6 7]]\n",
            "[[0 1 2 3]\n",
            " [0 1 2 3]\n",
            " [4 5 6 7]]\n"
          ]
        }
      ]
    },
    {
      "cell_type": "code",
      "metadata": {
        "colab": {
          "base_uri": "https://localhost:8080/"
        },
        "id": "c6XG7JnF7bDg",
        "outputId": "9d24fd75-3ecb-4cd2-fd5d-0f91091fc9a7"
      },
      "source": [
        "array14 = np.arange(8).reshape(2,4)\n",
        "left, right = np.split(array14, [2], axis=1)\n",
        "\n",
        "print(array14)\n",
        "print(left.shape)\n",
        "print(right.shape) #새로운 행렬 취급\n",
        "print(right[1][1]) #1번째줄의 1번째 값, right[1][0]은 6"
      ],
      "execution_count": 16,
      "outputs": [
        {
          "output_type": "stream",
          "name": "stdout",
          "text": [
            "[[0 1 2 3]\n",
            " [4 5 6 7]]\n",
            "(2, 2)\n",
            "(2, 2)\n",
            "7\n"
          ]
        }
      ]
    }
  ]
}