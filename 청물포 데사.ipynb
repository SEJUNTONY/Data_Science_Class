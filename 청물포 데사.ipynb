{
  "nbformat": 4,
  "nbformat_minor": 0,
  "metadata": {
    "colab": {
      "name": "Untitled0.ipynb",
      "provenance": [],
      "authorship_tag": "ABX9TyOVIXYAc5Z0p9U/8Alw7eOv",
      "include_colab_link": true
    },
    "kernelspec": {
      "name": "python3",
      "display_name": "Python 3"
    },
    "language_info": {
      "name": "python"
    }
  },
  "cells": [
    {
      "cell_type": "markdown",
      "metadata": {
        "id": "view-in-github",
        "colab_type": "text"
      },
      "source": [
        "<a href=\"https://colab.research.google.com/github/SEJUNTONY/Data_Science_Class/blob/minkyu/%EC%B2%AD%EB%AC%BC%ED%8F%AC%20%EB%8D%B0%EC%82%AC.ipynb\" target=\"_parent\"><img src=\"https://colab.research.google.com/assets/colab-badge.svg\" alt=\"Open In Colab\"/></a>"
      ]
    },
    {
      "cell_type": "code",
      "metadata": {
        "colab": {
          "base_uri": "https://localhost:8080/",
          "height": 35
        },
        "id": "oysBG2EM6u84",
        "outputId": "1d1aa928-9a6e-4bdb-97ab-8896addec48b"
      },
      "source": [
        "import numpy as np\n",
        "import pandas as pd\n",
        "pd.__version__"
      ],
      "execution_count": 3,
      "outputs": [
        {
          "output_type": "execute_result",
          "data": {
            "application/vnd.google.colaboratory.intrinsic+json": {
              "type": "string"
            },
            "text/plain": [
              "'1.1.5'"
            ]
          },
          "metadata": {},
          "execution_count": 3
        }
      ]
    },
    {
      "cell_type": "code",
      "metadata": {
        "colab": {
          "base_uri": "https://localhost:8080/"
        },
        "id": "4Y-MAlzA9NTl",
        "outputId": "c71e554c-4a79-4408-f85c-21bf4383b3c0"
      },
      "source": [
        "s1 = pd.Series([0, 0.25, 0.5, 0.75, 1.0])\n",
        "s1"
      ],
      "execution_count": 5,
      "outputs": [
        {
          "output_type": "execute_result",
          "data": {
            "text/plain": [
              "0    0.00\n",
              "1    0.25\n",
              "2    0.50\n",
              "3    0.75\n",
              "4    1.00\n",
              "dtype: float64"
            ]
          },
          "metadata": {},
          "execution_count": 5
        }
      ]
    },
    {
      "cell_type": "code",
      "metadata": {
        "colab": {
          "base_uri": "https://localhost:8080/"
        },
        "id": "iF8ZHG2h9qZn",
        "outputId": "111c2d59-2dd5-4bfc-e276-467e902b8556"
      },
      "source": [
        "s1.values"
      ],
      "execution_count": 7,
      "outputs": [
        {
          "output_type": "execute_result",
          "data": {
            "text/plain": [
              "array([0.  , 0.25, 0.5 , 0.75, 1.  ])"
            ]
          },
          "metadata": {},
          "execution_count": 7
        }
      ]
    },
    {
      "cell_type": "code",
      "metadata": {
        "colab": {
          "base_uri": "https://localhost:8080/"
        },
        "id": "Z1u9i0009y_4",
        "outputId": "c786f761-5c5c-48c9-dd9a-a8e9d551f1d1"
      },
      "source": [
        "s1.index"
      ],
      "execution_count": 8,
      "outputs": [
        {
          "output_type": "execute_result",
          "data": {
            "text/plain": [
              "RangeIndex(start=0, stop=5, step=1)"
            ]
          },
          "metadata": {},
          "execution_count": 8
        }
      ]
    },
    {
      "cell_type": "code",
      "metadata": {
        "colab": {
          "base_uri": "https://localhost:8080/"
        },
        "id": "AmPZuX0M9-jY",
        "outputId": "25e786b1-70d4-48b2-83fd-508225099eed"
      },
      "source": [
        "s1[1]"
      ],
      "execution_count": 9,
      "outputs": [
        {
          "output_type": "execute_result",
          "data": {
            "text/plain": [
              "0.25"
            ]
          },
          "metadata": {},
          "execution_count": 9
        }
      ]
    },
    {
      "cell_type": "code",
      "metadata": {
        "colab": {
          "base_uri": "https://localhost:8080/"
        },
        "id": "JuPpPhwr-KUW",
        "outputId": "ae97d79b-fb7c-4740-ea6c-a5219b94e18d"
      },
      "source": [
        "s2 = pd.Series([0,0.25,0.5,0.75,1],index=['a','b','c','d','e'])\n",
        "s2"
      ],
      "execution_count": 10,
      "outputs": [
        {
          "output_type": "execute_result",
          "data": {
            "text/plain": [
              "a    0.00\n",
              "b    0.25\n",
              "c    0.50\n",
              "d    0.75\n",
              "e    1.00\n",
              "dtype: float64"
            ]
          },
          "metadata": {},
          "execution_count": 10
        }
      ]
    },
    {
      "cell_type": "code",
      "metadata": {
        "colab": {
          "base_uri": "https://localhost:8080/"
        },
        "id": "7IPNZGjE-gyg",
        "outputId": "8bd50fc9-82bc-4d5f-f9ee-f4827fb3dbbc"
      },
      "source": [
        "s2['c']"
      ],
      "execution_count": 11,
      "outputs": [
        {
          "output_type": "execute_result",
          "data": {
            "text/plain": [
              "0.5"
            ]
          },
          "metadata": {},
          "execution_count": 11
        }
      ]
    },
    {
      "cell_type": "code",
      "metadata": {
        "colab": {
          "base_uri": "https://localhost:8080/"
        },
        "id": "sdX2ML_A-pDn",
        "outputId": "2a2e7dd4-647c-47fa-b90b-fe8c37a4a752"
      },
      "source": [
        "'b' in s2"
      ],
      "execution_count": 12,
      "outputs": [
        {
          "output_type": "execute_result",
          "data": {
            "text/plain": [
              "True"
            ]
          },
          "metadata": {},
          "execution_count": 12
        }
      ]
    },
    {
      "cell_type": "code",
      "metadata": {
        "colab": {
          "base_uri": "https://localhost:8080/"
        },
        "id": "_zo-SHVh_Nrs",
        "outputId": "9571f2d7-86a5-44ff-b7a1-cd2f18f5f07c"
      },
      "source": [
        "s3 = pd.Series(['정은지','지수빈','정주희','박세준','정찬호'],index=['하나','둘','셋','넷','다섯'], name='출석부')\n",
        "s3"
      ],
      "execution_count": 13,
      "outputs": [
        {
          "output_type": "execute_result",
          "data": {
            "text/plain": [
              "하나    정은지\n",
              "둘     지수빈\n",
              "셋     정주희\n",
              "넷     박세준\n",
              "다섯    정찬호\n",
              "Name: 출석부, dtype: object"
            ]
          },
          "metadata": {},
          "execution_count": 13
        }
      ]
    },
    {
      "cell_type": "code",
      "metadata": {
        "colab": {
          "base_uri": "https://localhost:8080/"
        },
        "id": "2wjGyn5x_bmf",
        "outputId": "f4518067-471b-4aea-a5ec-de24c02056aa"
      },
      "source": [
        "s3.unique()"
      ],
      "execution_count": 14,
      "outputs": [
        {
          "output_type": "execute_result",
          "data": {
            "text/plain": [
              "array(['정은지', '지수빈', '정주희', '박세준', '정찬호'], dtype=object)"
            ]
          },
          "metadata": {},
          "execution_count": 14
        }
      ]
    },
    {
      "cell_type": "code",
      "metadata": {
        "colab": {
          "base_uri": "https://localhost:8080/"
        },
        "id": "GkUlRDi6_pMB",
        "outputId": "d724bf59-476c-42b9-c4bd-01bbfe0ab030"
      },
      "source": [
        "s3 == '정찬호'"
      ],
      "execution_count": 15,
      "outputs": [
        {
          "output_type": "execute_result",
          "data": {
            "text/plain": [
              "하나    False\n",
              "둘     False\n",
              "셋     False\n",
              "넷     False\n",
              "다섯     True\n",
              "Name: 출석부, dtype: bool"
            ]
          },
          "metadata": {},
          "execution_count": 15
        }
      ]
    },
    {
      "cell_type": "code",
      "metadata": {
        "colab": {
          "base_uri": "https://localhost:8080/"
        },
        "id": "sW9Wx7Q7_5Ln",
        "outputId": "9e16a391-0588-4998-e785-411017b9c026"
      },
      "source": [
        "pop_tuple = {'서울특별시':9720846,\n",
        "             '부산광역시':3404423,\n",
        "             '인천광역시':2947217,\n",
        "             '대구광역시':2427954,\n",
        "             '대전광역시':1471040,\n",
        "             '광주광역시':1455048}\n",
        "population = pd.Series(pop_tuple)\n",
        "population"
      ],
      "execution_count": 16,
      "outputs": [
        {
          "output_type": "execute_result",
          "data": {
            "text/plain": [
              "서울특별시    9720846\n",
              "부산광역시    3404423\n",
              "인천광역시    2947217\n",
              "대구광역시    2427954\n",
              "대전광역시    1471040\n",
              "광주광역시    1455048\n",
              "dtype: int64"
            ]
          },
          "metadata": {},
          "execution_count": 16
        }
      ]
    },
    {
      "cell_type": "code",
      "metadata": {
        "colab": {
          "base_uri": "https://localhost:8080/",
          "height": 106
        },
        "id": "I-yRajyrAzfi",
        "outputId": "ab42e960-cffe-4987-e0b6-58931dde735e"
      },
      "source": [
        "pd.DataFrame([{'A' :2, 'B' : 4, 'D' : 3},{'A':4, 'B':5, 'C':7}])"
      ],
      "execution_count": 17,
      "outputs": [
        {
          "output_type": "execute_result",
          "data": {
            "text/html": [
              "<div>\n",
              "<style scoped>\n",
              "    .dataframe tbody tr th:only-of-type {\n",
              "        vertical-align: middle;\n",
              "    }\n",
              "\n",
              "    .dataframe tbody tr th {\n",
              "        vertical-align: top;\n",
              "    }\n",
              "\n",
              "    .dataframe thead th {\n",
              "        text-align: right;\n",
              "    }\n",
              "</style>\n",
              "<table border=\"1\" class=\"dataframe\">\n",
              "  <thead>\n",
              "    <tr style=\"text-align: right;\">\n",
              "      <th></th>\n",
              "      <th>A</th>\n",
              "      <th>B</th>\n",
              "      <th>D</th>\n",
              "      <th>C</th>\n",
              "    </tr>\n",
              "  </thead>\n",
              "  <tbody>\n",
              "    <tr>\n",
              "      <th>0</th>\n",
              "      <td>2</td>\n",
              "      <td>4</td>\n",
              "      <td>3.0</td>\n",
              "      <td>NaN</td>\n",
              "    </tr>\n",
              "    <tr>\n",
              "      <th>1</th>\n",
              "      <td>4</td>\n",
              "      <td>5</td>\n",
              "      <td>NaN</td>\n",
              "      <td>7.0</td>\n",
              "    </tr>\n",
              "  </tbody>\n",
              "</table>\n",
              "</div>"
            ],
            "text/plain": [
              "   A  B    D    C\n",
              "0  2  4  3.0  NaN\n",
              "1  4  5  NaN  7.0"
            ]
          },
          "metadata": {},
          "execution_count": 17
        }
      ]
    },
    {
      "cell_type": "code",
      "metadata": {
        "colab": {
          "base_uri": "https://localhost:8080/",
          "height": 195
        },
        "id": "nQL08aUQBeui",
        "outputId": "eb7673e7-4b83-4def-d46e-2bec2766fef1"
      },
      "source": [
        "pd.DataFrame(np.random.rand(5,5),\n",
        "             columns=['A','B','C','D','E'],\n",
        "             index=[1,2,3,4,5])"
      ],
      "execution_count": 18,
      "outputs": [
        {
          "output_type": "execute_result",
          "data": {
            "text/html": [
              "<div>\n",
              "<style scoped>\n",
              "    .dataframe tbody tr th:only-of-type {\n",
              "        vertical-align: middle;\n",
              "    }\n",
              "\n",
              "    .dataframe tbody tr th {\n",
              "        vertical-align: top;\n",
              "    }\n",
              "\n",
              "    .dataframe thead th {\n",
              "        text-align: right;\n",
              "    }\n",
              "</style>\n",
              "<table border=\"1\" class=\"dataframe\">\n",
              "  <thead>\n",
              "    <tr style=\"text-align: right;\">\n",
              "      <th></th>\n",
              "      <th>A</th>\n",
              "      <th>B</th>\n",
              "      <th>C</th>\n",
              "      <th>D</th>\n",
              "      <th>E</th>\n",
              "    </tr>\n",
              "  </thead>\n",
              "  <tbody>\n",
              "    <tr>\n",
              "      <th>1</th>\n",
              "      <td>0.591224</td>\n",
              "      <td>0.742736</td>\n",
              "      <td>0.806572</td>\n",
              "      <td>0.275439</td>\n",
              "      <td>0.690643</td>\n",
              "    </tr>\n",
              "    <tr>\n",
              "      <th>2</th>\n",
              "      <td>0.921623</td>\n",
              "      <td>0.143290</td>\n",
              "      <td>0.782361</td>\n",
              "      <td>0.791938</td>\n",
              "      <td>0.916324</td>\n",
              "    </tr>\n",
              "    <tr>\n",
              "      <th>3</th>\n",
              "      <td>0.374238</td>\n",
              "      <td>0.501974</td>\n",
              "      <td>0.577887</td>\n",
              "      <td>0.128137</td>\n",
              "      <td>0.537997</td>\n",
              "    </tr>\n",
              "    <tr>\n",
              "      <th>4</th>\n",
              "      <td>0.288092</td>\n",
              "      <td>0.662288</td>\n",
              "      <td>0.822294</td>\n",
              "      <td>0.607900</td>\n",
              "      <td>0.269820</td>\n",
              "    </tr>\n",
              "    <tr>\n",
              "      <th>5</th>\n",
              "      <td>0.415687</td>\n",
              "      <td>0.855660</td>\n",
              "      <td>0.391017</td>\n",
              "      <td>0.288317</td>\n",
              "      <td>0.836676</td>\n",
              "    </tr>\n",
              "  </tbody>\n",
              "</table>\n",
              "</div>"
            ],
            "text/plain": [
              "          A         B         C         D         E\n",
              "1  0.591224  0.742736  0.806572  0.275439  0.690643\n",
              "2  0.921623  0.143290  0.782361  0.791938  0.916324\n",
              "3  0.374238  0.501974  0.577887  0.128137  0.537997\n",
              "4  0.288092  0.662288  0.822294  0.607900  0.269820\n",
              "5  0.415687  0.855660  0.391017  0.288317  0.836676"
            ]
          },
          "metadata": {},
          "execution_count": 18
        }
      ]
    },
    {
      "cell_type": "code",
      "metadata": {
        "colab": {
          "base_uri": "https://localhost:8080/"
        },
        "id": "kInlzFx9B33e",
        "outputId": "998a2e8f-ad30-44e2-9ab2-357f83b4123b"
      },
      "source": [
        "male_tuple = {'서울특별시':4732275,\n",
        "             '부산광역시':1668618,\n",
        "             '인천광역시':1476813,\n",
        "             '대구광역시':1198815,\n",
        "             '대전광역시':734441,\n",
        "             '광주광역시':720060}\n",
        "male = pd.Series(male_tuple)\n",
        "male"
      ],
      "execution_count": 19,
      "outputs": [
        {
          "output_type": "execute_result",
          "data": {
            "text/plain": [
              "서울특별시    4732275\n",
              "부산광역시    1668618\n",
              "인천광역시    1476813\n",
              "대구광역시    1198815\n",
              "대전광역시     734441\n",
              "광주광역시     720060\n",
              "dtype: int64"
            ]
          },
          "metadata": {},
          "execution_count": 19
        }
      ]
    },
    {
      "cell_type": "code",
      "metadata": {
        "colab": {
          "base_uri": "https://localhost:8080/"
        },
        "id": "byJOl3BoB7fs",
        "outputId": "ae62a34a-a0ba-4358-a2e5-60e23fe546be"
      },
      "source": [
        "female_tuple = {'서울특별시':4988571,\n",
        "             '부산광역시':1735805,\n",
        "             '인천광역시':1470404,\n",
        "             '대구광역시':1229139,\n",
        "             '대전광역시':736599,\n",
        "             '광주광역시':734988}\n",
        "female = pd.Series(female_tuple)\n",
        "female"
      ],
      "execution_count": 20,
      "outputs": [
        {
          "output_type": "execute_result",
          "data": {
            "text/plain": [
              "서울특별시    4988571\n",
              "부산광역시    1735805\n",
              "인천광역시    1470404\n",
              "대구광역시    1229139\n",
              "대전광역시     736599\n",
              "광주광역시     734988\n",
              "dtype: int64"
            ]
          },
          "metadata": {},
          "execution_count": 20
        }
      ]
    },
    {
      "cell_type": "code",
      "metadata": {
        "colab": {
          "base_uri": "https://localhost:8080/",
          "height": 225
        },
        "id": "qBDhnfMmCHIQ",
        "outputId": "bbe0d016-c06c-4b17-9c10-678733503fe0"
      },
      "source": [
        "korea_df = pd.DataFrame({'인구수':population,\n",
        "                        '남자인구수' : male,\n",
        "                         '여자인구수' : female})\n",
        "korea_df"
      ],
      "execution_count": 21,
      "outputs": [
        {
          "output_type": "execute_result",
          "data": {
            "text/html": [
              "<div>\n",
              "<style scoped>\n",
              "    .dataframe tbody tr th:only-of-type {\n",
              "        vertical-align: middle;\n",
              "    }\n",
              "\n",
              "    .dataframe tbody tr th {\n",
              "        vertical-align: top;\n",
              "    }\n",
              "\n",
              "    .dataframe thead th {\n",
              "        text-align: right;\n",
              "    }\n",
              "</style>\n",
              "<table border=\"1\" class=\"dataframe\">\n",
              "  <thead>\n",
              "    <tr style=\"text-align: right;\">\n",
              "      <th></th>\n",
              "      <th>인구수</th>\n",
              "      <th>남자인구수</th>\n",
              "      <th>여자인구수</th>\n",
              "    </tr>\n",
              "  </thead>\n",
              "  <tbody>\n",
              "    <tr>\n",
              "      <th>서울특별시</th>\n",
              "      <td>9720846</td>\n",
              "      <td>4732275</td>\n",
              "      <td>4988571</td>\n",
              "    </tr>\n",
              "    <tr>\n",
              "      <th>부산광역시</th>\n",
              "      <td>3404423</td>\n",
              "      <td>1668618</td>\n",
              "      <td>1735805</td>\n",
              "    </tr>\n",
              "    <tr>\n",
              "      <th>인천광역시</th>\n",
              "      <td>2947217</td>\n",
              "      <td>1476813</td>\n",
              "      <td>1470404</td>\n",
              "    </tr>\n",
              "    <tr>\n",
              "      <th>대구광역시</th>\n",
              "      <td>2427954</td>\n",
              "      <td>1198815</td>\n",
              "      <td>1229139</td>\n",
              "    </tr>\n",
              "    <tr>\n",
              "      <th>대전광역시</th>\n",
              "      <td>1471040</td>\n",
              "      <td>734441</td>\n",
              "      <td>736599</td>\n",
              "    </tr>\n",
              "    <tr>\n",
              "      <th>광주광역시</th>\n",
              "      <td>1455048</td>\n",
              "      <td>720060</td>\n",
              "      <td>734988</td>\n",
              "    </tr>\n",
              "  </tbody>\n",
              "</table>\n",
              "</div>"
            ],
            "text/plain": [
              "           인구수    남자인구수    여자인구수\n",
              "서울특별시  9720846  4732275  4988571\n",
              "부산광역시  3404423  1668618  1735805\n",
              "인천광역시  2947217  1476813  1470404\n",
              "대구광역시  2427954  1198815  1229139\n",
              "대전광역시  1471040   734441   736599\n",
              "광주광역시  1455048   720060   734988"
            ]
          },
          "metadata": {},
          "execution_count": 21
        }
      ]
    },
    {
      "cell_type": "code",
      "metadata": {
        "colab": {
          "base_uri": "https://localhost:8080/"
        },
        "id": "uyiebGnVCyVf",
        "outputId": "c9e5fbc1-ea59-4ac7-a25c-0bdacde08e3d"
      },
      "source": [
        "korea_df['여자인구수']"
      ],
      "execution_count": 22,
      "outputs": [
        {
          "output_type": "execute_result",
          "data": {
            "text/plain": [
              "서울특별시    4988571\n",
              "부산광역시    1735805\n",
              "인천광역시    1470404\n",
              "대구광역시    1229139\n",
              "대전광역시     736599\n",
              "광주광역시     734988\n",
              "Name: 여자인구수, dtype: int64"
            ]
          },
          "metadata": {},
          "execution_count": 22
        }
      ]
    },
    {
      "cell_type": "code",
      "metadata": {
        "colab": {
          "base_uri": "https://localhost:8080/",
          "height": 195
        },
        "id": "tYEKc6ZjC6P3",
        "outputId": "1abd43e1-52fc-4918-858e-2eca06bdb283"
      },
      "source": [
        "korea_df['서울특별시':'대전광역시']"
      ],
      "execution_count": 24,
      "outputs": [
        {
          "output_type": "execute_result",
          "data": {
            "text/html": [
              "<div>\n",
              "<style scoped>\n",
              "    .dataframe tbody tr th:only-of-type {\n",
              "        vertical-align: middle;\n",
              "    }\n",
              "\n",
              "    .dataframe tbody tr th {\n",
              "        vertical-align: top;\n",
              "    }\n",
              "\n",
              "    .dataframe thead th {\n",
              "        text-align: right;\n",
              "    }\n",
              "</style>\n",
              "<table border=\"1\" class=\"dataframe\">\n",
              "  <thead>\n",
              "    <tr style=\"text-align: right;\">\n",
              "      <th></th>\n",
              "      <th>인구수</th>\n",
              "      <th>남자인구수</th>\n",
              "      <th>여자인구수</th>\n",
              "    </tr>\n",
              "  </thead>\n",
              "  <tbody>\n",
              "    <tr>\n",
              "      <th>서울특별시</th>\n",
              "      <td>9720846</td>\n",
              "      <td>4732275</td>\n",
              "      <td>4988571</td>\n",
              "    </tr>\n",
              "    <tr>\n",
              "      <th>부산광역시</th>\n",
              "      <td>3404423</td>\n",
              "      <td>1668618</td>\n",
              "      <td>1735805</td>\n",
              "    </tr>\n",
              "    <tr>\n",
              "      <th>인천광역시</th>\n",
              "      <td>2947217</td>\n",
              "      <td>1476813</td>\n",
              "      <td>1470404</td>\n",
              "    </tr>\n",
              "    <tr>\n",
              "      <th>대구광역시</th>\n",
              "      <td>2427954</td>\n",
              "      <td>1198815</td>\n",
              "      <td>1229139</td>\n",
              "    </tr>\n",
              "    <tr>\n",
              "      <th>대전광역시</th>\n",
              "      <td>1471040</td>\n",
              "      <td>734441</td>\n",
              "      <td>736599</td>\n",
              "    </tr>\n",
              "  </tbody>\n",
              "</table>\n",
              "</div>"
            ],
            "text/plain": [
              "           인구수    남자인구수    여자인구수\n",
              "서울특별시  9720846  4732275  4988571\n",
              "부산광역시  3404423  1668618  1735805\n",
              "인천광역시  2947217  1476813  1470404\n",
              "대구광역시  2427954  1198815  1229139\n",
              "대전광역시  1471040   734441   736599"
            ]
          },
          "metadata": {},
          "execution_count": 24
        }
      ]
    },
    {
      "cell_type": "code",
      "metadata": {
        "colab": {
          "base_uri": "https://localhost:8080/"
        },
        "id": "vao3Aw5IDBPt",
        "outputId": "4e138840-987b-42dc-b842-c8036cc1cafb"
      },
      "source": [
        "from google.colab import drive\n",
        "drive.mount('/content/drive')"
      ],
      "execution_count": 25,
      "outputs": [
        {
          "output_type": "stream",
          "name": "stdout",
          "text": [
            "Mounted at /content/drive\n"
          ]
        }
      ]
    },
    {
      "cell_type": "code",
      "metadata": {
        "colab": {
          "base_uri": "https://localhost:8080/",
          "height": 195
        },
        "id": "n_Bm5ZTOEJJK",
        "outputId": "b1f6259d-4b8d-40a9-9235-e91a431b87d9"
      },
      "source": [
        "filename = '/content/drive/MyDrive/부산항_2021.csv'\n",
        "\n",
        "seadata2 = pd.read_csv(filename)\n",
        "seadata2.head()"
      ],
      "execution_count": 26,
      "outputs": [
        {
          "output_type": "execute_result",
          "data": {
            "text/html": [
              "<div>\n",
              "<style scoped>\n",
              "    .dataframe tbody tr th:only-of-type {\n",
              "        vertical-align: middle;\n",
              "    }\n",
              "\n",
              "    .dataframe tbody tr th {\n",
              "        vertical-align: top;\n",
              "    }\n",
              "\n",
              "    .dataframe thead th {\n",
              "        text-align: right;\n",
              "    }\n",
              "</style>\n",
              "<table border=\"1\" class=\"dataframe\">\n",
              "  <thead>\n",
              "    <tr style=\"text-align: right;\">\n",
              "      <th></th>\n",
              "      <th>출항</th>\n",
              "      <th>입항</th>\n",
              "      <th>외항 입항</th>\n",
              "      <th>외항 출항</th>\n",
              "      <th>외국선 입항</th>\n",
              "      <th>외국선 출항</th>\n",
              "      <th>국적선 입항</th>\n",
              "      <th>국적선 출항</th>\n",
              "    </tr>\n",
              "  </thead>\n",
              "  <tbody>\n",
              "    <tr>\n",
              "      <th>0</th>\n",
              "      <td>18374306</td>\n",
              "      <td>16379285</td>\n",
              "      <td>16379285</td>\n",
              "      <td>18374306</td>\n",
              "      <td>30780481</td>\n",
              "      <td>14548165</td>\n",
              "      <td>1831120</td>\n",
              "      <td>2141990</td>\n",
              "    </tr>\n",
              "    <tr>\n",
              "      <th>1</th>\n",
              "      <td>17033243</td>\n",
              "      <td>14618183</td>\n",
              "      <td>14618183</td>\n",
              "      <td>17033243</td>\n",
              "      <td>27694240</td>\n",
              "      <td>12701895</td>\n",
              "      <td>1916288</td>\n",
              "      <td>2040898</td>\n",
              "    </tr>\n",
              "    <tr>\n",
              "      <th>2</th>\n",
              "      <td>19721734</td>\n",
              "      <td>17151498</td>\n",
              "      <td>17151498</td>\n",
              "      <td>19721734</td>\n",
              "      <td>32538031</td>\n",
              "      <td>14886176</td>\n",
              "      <td>2265322</td>\n",
              "      <td>2069879</td>\n",
              "    </tr>\n",
              "    <tr>\n",
              "      <th>3</th>\n",
              "      <td>18356391</td>\n",
              "      <td>18266865</td>\n",
              "      <td>18266865</td>\n",
              "      <td>18356391</td>\n",
              "      <td>32305352</td>\n",
              "      <td>16173092</td>\n",
              "      <td>2093773</td>\n",
              "      <td>2224131</td>\n",
              "    </tr>\n",
              "    <tr>\n",
              "      <th>4</th>\n",
              "      <td>19652544</td>\n",
              "      <td>17507307</td>\n",
              "      <td>17507307</td>\n",
              "      <td>19652544</td>\n",
              "      <td>32795440</td>\n",
              "      <td>15500336</td>\n",
              "      <td>2006971</td>\n",
              "      <td>2357440</td>\n",
              "    </tr>\n",
              "  </tbody>\n",
              "</table>\n",
              "</div>"
            ],
            "text/plain": [
              "         출항        입항     외항 입항     외항 출항    외국선 입항    외국선 출항   국적선 입항   국적선 출항\n",
              "0  18374306  16379285  16379285  18374306  30780481  14548165  1831120  2141990\n",
              "1  17033243  14618183  14618183  17033243  27694240  12701895  1916288  2040898\n",
              "2  19721734  17151498  17151498  19721734  32538031  14886176  2265322  2069879\n",
              "3  18356391  18266865  18266865  18356391  32305352  16173092  2093773  2224131\n",
              "4  19652544  17507307  17507307  19652544  32795440  15500336  2006971  2357440"
            ]
          },
          "metadata": {},
          "execution_count": 26
        }
      ]
    },
    {
      "cell_type": "code",
      "metadata": {
        "colab": {
          "base_uri": "https://localhost:8080/"
        },
        "id": "Q64V2tcAFsZs",
        "outputId": "9b133454-80c7-44f2-e710-797eefc0919e"
      },
      "source": [
        "seadata2.shape"
      ],
      "execution_count": 28,
      "outputs": [
        {
          "output_type": "execute_result",
          "data": {
            "text/plain": [
              "(7, 8)"
            ]
          },
          "metadata": {},
          "execution_count": 28
        }
      ]
    },
    {
      "cell_type": "code",
      "metadata": {
        "colab": {
          "base_uri": "https://localhost:8080/"
        },
        "id": "6oiLKCmfF2s0",
        "outputId": "46026de1-a9a1-4438-d229-f05f3f70a6d7"
      },
      "source": [
        "seadata2.info()"
      ],
      "execution_count": 29,
      "outputs": [
        {
          "output_type": "stream",
          "name": "stdout",
          "text": [
            "<class 'pandas.core.frame.DataFrame'>\n",
            "RangeIndex: 7 entries, 0 to 6\n",
            "Data columns (total 8 columns):\n",
            " #   Column  Non-Null Count  Dtype\n",
            "---  ------  --------------  -----\n",
            " 0   출항      7 non-null      int64\n",
            " 1   입항      7 non-null      int64\n",
            " 2   외항 입항   7 non-null      int64\n",
            " 3   외항 출항   7 non-null      int64\n",
            " 4   외국선 입항  7 non-null      int64\n",
            " 5   외국선 출항  7 non-null      int64\n",
            " 6   국적선 입항  7 non-null      int64\n",
            " 7   국적선 출항  7 non-null      int64\n",
            "dtypes: int64(8)\n",
            "memory usage: 576.0 bytes\n"
          ]
        }
      ]
    },
    {
      "cell_type": "code",
      "metadata": {
        "colab": {
          "base_uri": "https://localhost:8080/",
          "height": 284
        },
        "id": "Fe4nYNdgGKh-",
        "outputId": "4c67001d-1201-4c86-ad57-ddf45fc812ea"
      },
      "source": [
        "seadata2.describe()"
      ],
      "execution_count": 30,
      "outputs": [
        {
          "output_type": "execute_result",
          "data": {
            "text/html": [
              "<div>\n",
              "<style scoped>\n",
              "    .dataframe tbody tr th:only-of-type {\n",
              "        vertical-align: middle;\n",
              "    }\n",
              "\n",
              "    .dataframe tbody tr th {\n",
              "        vertical-align: top;\n",
              "    }\n",
              "\n",
              "    .dataframe thead th {\n",
              "        text-align: right;\n",
              "    }\n",
              "</style>\n",
              "<table border=\"1\" class=\"dataframe\">\n",
              "  <thead>\n",
              "    <tr style=\"text-align: right;\">\n",
              "      <th></th>\n",
              "      <th>출항</th>\n",
              "      <th>입항</th>\n",
              "      <th>외항 입항</th>\n",
              "      <th>외항 출항</th>\n",
              "      <th>외국선 입항</th>\n",
              "      <th>외국선 출항</th>\n",
              "      <th>국적선 입항</th>\n",
              "      <th>국적선 출항</th>\n",
              "    </tr>\n",
              "  </thead>\n",
              "  <tbody>\n",
              "    <tr>\n",
              "      <th>count</th>\n",
              "      <td>7.000000e+00</td>\n",
              "      <td>7.000000e+00</td>\n",
              "      <td>7.000000e+00</td>\n",
              "      <td>7.000000e+00</td>\n",
              "      <td>7.000000e+00</td>\n",
              "      <td>7.000000e+00</td>\n",
              "      <td>7.000000e+00</td>\n",
              "      <td>7.000000e+00</td>\n",
              "    </tr>\n",
              "    <tr>\n",
              "      <th>mean</th>\n",
              "      <td>1.876015e+07</td>\n",
              "      <td>1.702029e+07</td>\n",
              "      <td>1.702029e+07</td>\n",
              "      <td>1.876015e+07</td>\n",
              "      <td>3.151492e+07</td>\n",
              "      <td>1.494587e+07</td>\n",
              "      <td>2.074419e+06</td>\n",
              "      <td>2.191097e+06</td>\n",
              "    </tr>\n",
              "    <tr>\n",
              "      <th>std</th>\n",
              "      <td>9.419427e+05</td>\n",
              "      <td>1.208136e+06</td>\n",
              "      <td>1.208136e+06</td>\n",
              "      <td>9.419427e+05</td>\n",
              "      <td>1.803771e+06</td>\n",
              "      <td>1.113110e+06</td>\n",
              "      <td>1.920402e+05</td>\n",
              "      <td>1.973596e+05</td>\n",
              "    </tr>\n",
              "    <tr>\n",
              "      <th>min</th>\n",
              "      <td>1.703324e+07</td>\n",
              "      <td>1.461818e+07</td>\n",
              "      <td>1.461818e+07</td>\n",
              "      <td>1.703324e+07</td>\n",
              "      <td>2.769424e+07</td>\n",
              "      <td>1.270190e+07</td>\n",
              "      <td>1.831120e+06</td>\n",
              "      <td>1.970656e+06</td>\n",
              "    </tr>\n",
              "    <tr>\n",
              "      <th>25%</th>\n",
              "      <td>1.836535e+07</td>\n",
              "      <td>1.676539e+07</td>\n",
              "      <td>1.676539e+07</td>\n",
              "      <td>1.836535e+07</td>\n",
              "      <td>3.148585e+07</td>\n",
              "      <td>1.471717e+07</td>\n",
              "      <td>1.961630e+06</td>\n",
              "      <td>2.055388e+06</td>\n",
              "    </tr>\n",
              "    <tr>\n",
              "      <th>50%</th>\n",
              "      <td>1.888054e+07</td>\n",
              "      <td>1.741710e+07</td>\n",
              "      <td>1.741710e+07</td>\n",
              "      <td>1.888054e+07</td>\n",
              "      <td>3.229970e+07</td>\n",
              "      <td>1.538981e+07</td>\n",
              "      <td>2.027284e+06</td>\n",
              "      <td>2.141990e+06</td>\n",
              "    </tr>\n",
              "    <tr>\n",
              "      <th>75%</th>\n",
              "      <td>1.947742e+07</td>\n",
              "      <td>1.765455e+07</td>\n",
              "      <td>1.765455e+07</td>\n",
              "      <td>1.947742e+07</td>\n",
              "      <td>3.242169e+07</td>\n",
              "      <td>1.546097e+07</td>\n",
              "      <td>2.179548e+06</td>\n",
              "      <td>2.290786e+06</td>\n",
              "    </tr>\n",
              "    <tr>\n",
              "      <th>max</th>\n",
              "      <td>1.972173e+07</td>\n",
              "      <td>1.826686e+07</td>\n",
              "      <td>1.826686e+07</td>\n",
              "      <td>1.972173e+07</td>\n",
              "      <td>3.279544e+07</td>\n",
              "      <td>1.617309e+07</td>\n",
              "      <td>2.380176e+06</td>\n",
              "      <td>2.532688e+06</td>\n",
              "    </tr>\n",
              "  </tbody>\n",
              "</table>\n",
              "</div>"
            ],
            "text/plain": [
              "                 출항            입항  ...        국적선 입항        국적선 출항\n",
              "count  7.000000e+00  7.000000e+00  ...  7.000000e+00  7.000000e+00\n",
              "mean   1.876015e+07  1.702029e+07  ...  2.074419e+06  2.191097e+06\n",
              "std    9.419427e+05  1.208136e+06  ...  1.920402e+05  1.973596e+05\n",
              "min    1.703324e+07  1.461818e+07  ...  1.831120e+06  1.970656e+06\n",
              "25%    1.836535e+07  1.676539e+07  ...  1.961630e+06  2.055388e+06\n",
              "50%    1.888054e+07  1.741710e+07  ...  2.027284e+06  2.141990e+06\n",
              "75%    1.947742e+07  1.765455e+07  ...  2.179548e+06  2.290786e+06\n",
              "max    1.972173e+07  1.826686e+07  ...  2.380176e+06  2.532688e+06\n",
              "\n",
              "[8 rows x 8 columns]"
            ]
          },
          "metadata": {},
          "execution_count": 30
        }
      ]
    },
    {
      "cell_type": "code",
      "metadata": {
        "colab": {
          "base_uri": "https://localhost:8080/"
        },
        "id": "pMIqQI6JGbT-",
        "outputId": "771e4465-2b0f-46e8-de02-995f2bac0d80"
      },
      "source": [
        "seadata2['출항']"
      ],
      "execution_count": 31,
      "outputs": [
        {
          "output_type": "execute_result",
          "data": {
            "text/plain": [
              "0    18374306\n",
              "1    17033243\n",
              "2    19721734\n",
              "3    18356391\n",
              "4    19652544\n",
              "5    18880543\n",
              "6    19302300\n",
              "Name: 출항, dtype: int64"
            ]
          },
          "metadata": {},
          "execution_count": 31
        }
      ]
    },
    {
      "cell_type": "code",
      "metadata": {
        "colab": {
          "base_uri": "https://localhost:8080/"
        },
        "id": "rLCLBLsZGeZS",
        "outputId": "c1dbfbd3-df05-40b1-c9a9-a4b0111a79ac"
      },
      "source": [
        "seadata2['출항'].describe()"
      ],
      "execution_count": 32,
      "outputs": [
        {
          "output_type": "execute_result",
          "data": {
            "text/plain": [
              "count    7.000000e+00\n",
              "mean     1.876015e+07\n",
              "std      9.419427e+05\n",
              "min      1.703324e+07\n",
              "25%      1.836535e+07\n",
              "50%      1.888054e+07\n",
              "75%      1.947742e+07\n",
              "max      1.972173e+07\n",
              "Name: 출항, dtype: float64"
            ]
          },
          "metadata": {},
          "execution_count": 32
        }
      ]
    }
  ]
}