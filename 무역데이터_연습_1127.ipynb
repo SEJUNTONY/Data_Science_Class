{
  "nbformat": 4,
  "nbformat_minor": 0,
  "metadata": {
    "colab": {
      "name": "무역데이터_연습_1127.ipynb",
      "provenance": [],
      "collapsed_sections": [],
      "authorship_tag": "ABX9TyOno1Fp8dPS6mW0YmxoZclj",
      "include_colab_link": true
    },
    "kernelspec": {
      "name": "python3",
      "display_name": "Python 3"
    },
    "language_info": {
      "name": "python"
    }
  },
  "cells": [
    {
      "cell_type": "markdown",
      "metadata": {
        "id": "view-in-github",
        "colab_type": "text"
      },
      "source": [
        "<a href=\"https://colab.research.google.com/github/SEJUNTONY/Data_Science_Class/blob/main/%EB%AC%B4%EC%97%AD%EB%8D%B0%EC%9D%B4%ED%84%B0_%EC%97%B0%EC%8A%B5_1127.ipynb\" target=\"_parent\"><img src=\"https://colab.research.google.com/assets/colab-badge.svg\" alt=\"Open In Colab\"/></a>"
      ]
    },
    {
      "cell_type": "code",
      "metadata": {
        "id": "Ud2vn2D8ULpY"
      },
      "source": [
        "# 라이브러리 로드\n",
        "import pandas as pd\n",
        "import numpy as np\n",
        "import matplotlib.pyplot as plt\n",
        "import seaborn as sns\n",
        "import matplotlib.ticker as ticker"
      ],
      "execution_count": 2,
      "outputs": []
    },
    {
      "cell_type": "code",
      "metadata": {
        "id": "vvxheOB2eYsz"
      },
      "source": [
        "# 함수\n",
        "\n",
        "def outliers_iqr(data) :\n",
        "    q1, q3 = np.percentile(data, [25,75])\n",
        "    iqr = q3 - q1\n",
        "    lower_bound = 0\n",
        "    upper_bound = 3000\n",
        "\n",
        "    return np.where((data > upper_bound)|(data<lower_bound))\n",
        "\n",
        "def get_outlier(df=None, column=None, weight=1.5):\n",
        "    # target 값과 상관관계가 높은 열을 우선적으로 진행\n",
        "    quantile_25 = np.percentile(df[column].values, 25)\n",
        "    quantile_75 = np.percentile(df[column].values, 75)\n",
        "\n",
        "    IQR = quantile_75 - quantile_25\n",
        "    IQR_weight = IQR*weight\n",
        "\n",
        "    lowest = quantile_25 - IQR_weight\n",
        "    highest = quantile_75 + IQR_weight\n",
        "\n",
        "    outlier_idx = df[column][ (df[column] < lowest) | (df[column] > highest) ].index\n",
        "    return outlier_idx"
      ],
      "execution_count": 3,
      "outputs": []
    },
    {
      "cell_type": "code",
      "metadata": {
        "colab": {
          "base_uri": "https://localhost:8080/"
        },
        "id": "0W5xsVboUd8V",
        "outputId": "bc109afd-21d2-46df-edfe-6b277da2a458"
      },
      "source": [
        "from google.colab import drive\n",
        "drive.mount('/content/drive')"
      ],
      "execution_count": 4,
      "outputs": [
        {
          "output_type": "stream",
          "name": "stdout",
          "text": [
            "Mounted at /content/drive\n"
          ]
        }
      ]
    },
    {
      "cell_type": "code",
      "metadata": {
        "colab": {
          "base_uri": "https://localhost:8080/",
          "height": 206
        },
        "id": "8uhdCcKIUtDd",
        "outputId": "90398f24-5326-4033-d834-b2449fcb1ce4"
      },
      "source": [
        "filename = '/content/drive/MyDrive/무역_베트남.csv'\n",
        "\n",
        "vietnam = pd.read_csv(filename)\n",
        "vietnam.head()"
      ],
      "execution_count": 5,
      "outputs": [
        {
          "output_type": "execute_result",
          "data": {
            "text/html": [
              "<div>\n",
              "<style scoped>\n",
              "    .dataframe tbody tr th:only-of-type {\n",
              "        vertical-align: middle;\n",
              "    }\n",
              "\n",
              "    .dataframe tbody tr th {\n",
              "        vertical-align: top;\n",
              "    }\n",
              "\n",
              "    .dataframe thead th {\n",
              "        text-align: right;\n",
              "    }\n",
              "</style>\n",
              "<table border=\"1\" class=\"dataframe\">\n",
              "  <thead>\n",
              "    <tr style=\"text-align: right;\">\n",
              "      <th></th>\n",
              "      <th>EXPOR_NTN_NM</th>\n",
              "      <th>HS_CD</th>\n",
              "      <th>ARRVL_YRMNT</th>\n",
              "      <th>VTNM_TRAD_INVCE_AMT</th>\n",
              "      <th>ARRVL_PRT_NM</th>\n",
              "    </tr>\n",
              "  </thead>\n",
              "  <tbody>\n",
              "    <tr>\n",
              "      <th>0</th>\n",
              "      <td>CHINA</td>\n",
              "      <td>85322400</td>\n",
              "      <td>2021-02-22</td>\n",
              "      <td>10.92</td>\n",
              "      <td>VNCLI</td>\n",
              "    </tr>\n",
              "    <tr>\n",
              "      <th>1</th>\n",
              "      <td>CHINA</td>\n",
              "      <td>85030090</td>\n",
              "      <td>2021-02-22</td>\n",
              "      <td>224.32</td>\n",
              "      <td>VNCLI</td>\n",
              "    </tr>\n",
              "    <tr>\n",
              "      <th>2</th>\n",
              "      <td>CHINA</td>\n",
              "      <td>84733090</td>\n",
              "      <td>2021-02-22</td>\n",
              "      <td>3840.00</td>\n",
              "      <td>VNSGN</td>\n",
              "    </tr>\n",
              "    <tr>\n",
              "      <th>3</th>\n",
              "      <td>CHINA</td>\n",
              "      <td>82075000</td>\n",
              "      <td>2021-02-22</td>\n",
              "      <td>62.00</td>\n",
              "      <td>VNCLI</td>\n",
              "    </tr>\n",
              "    <tr>\n",
              "      <th>4</th>\n",
              "      <td>CHINA</td>\n",
              "      <td>85076090</td>\n",
              "      <td>2021-02-22</td>\n",
              "      <td>9.15</td>\n",
              "      <td>VNSGN</td>\n",
              "    </tr>\n",
              "  </tbody>\n",
              "</table>\n",
              "</div>"
            ],
            "text/plain": [
              "  EXPOR_NTN_NM     HS_CD ARRVL_YRMNT  VTNM_TRAD_INVCE_AMT ARRVL_PRT_NM\n",
              "0        CHINA  85322400  2021-02-22                10.92        VNCLI\n",
              "1        CHINA  85030090  2021-02-22               224.32        VNCLI\n",
              "2        CHINA  84733090  2021-02-22              3840.00        VNSGN\n",
              "3        CHINA  82075000  2021-02-22                62.00        VNCLI\n",
              "4        CHINA  85076090  2021-02-22                 9.15        VNSGN"
            ]
          },
          "metadata": {},
          "execution_count": 5
        }
      ]
    },
    {
      "cell_type": "code",
      "metadata": {
        "colab": {
          "base_uri": "https://localhost:8080/"
        },
        "id": "LZxj3EUOVcvx",
        "outputId": "4caa4f3d-de78-4fb2-9a35-0f21058ecf56"
      },
      "source": [
        "vietnam.shape"
      ],
      "execution_count": 6,
      "outputs": [
        {
          "output_type": "execute_result",
          "data": {
            "text/plain": [
              "(9999, 5)"
            ]
          },
          "metadata": {},
          "execution_count": 6
        }
      ]
    },
    {
      "cell_type": "code",
      "metadata": {
        "colab": {
          "base_uri": "https://localhost:8080/"
        },
        "id": "y1LZDPsOVjQZ",
        "outputId": "ad07eda6-f03f-4360-aac5-36843b9645d6"
      },
      "source": [
        "vietnam.info()"
      ],
      "execution_count": 7,
      "outputs": [
        {
          "output_type": "stream",
          "name": "stdout",
          "text": [
            "<class 'pandas.core.frame.DataFrame'>\n",
            "RangeIndex: 9999 entries, 0 to 9998\n",
            "Data columns (total 5 columns):\n",
            " #   Column               Non-Null Count  Dtype  \n",
            "---  ------               --------------  -----  \n",
            " 0   EXPOR_NTN_NM         9999 non-null   object \n",
            " 1   HS_CD                9999 non-null   int64  \n",
            " 2   ARRVL_YRMNT          9999 non-null   object \n",
            " 3   VTNM_TRAD_INVCE_AMT  9999 non-null   float64\n",
            " 4   ARRVL_PRT_NM         9999 non-null   object \n",
            "dtypes: float64(1), int64(1), object(3)\n",
            "memory usage: 390.7+ KB\n"
          ]
        }
      ]
    },
    {
      "cell_type": "code",
      "metadata": {
        "colab": {
          "base_uri": "https://localhost:8080/",
          "height": 175
        },
        "id": "0BodmyefVobA",
        "outputId": "1966ab30-86b1-4dbf-9780-8698168c5a97"
      },
      "source": [
        "vietnam.describe(include=\"object\")"
      ],
      "execution_count": 8,
      "outputs": [
        {
          "output_type": "execute_result",
          "data": {
            "text/html": [
              "<div>\n",
              "<style scoped>\n",
              "    .dataframe tbody tr th:only-of-type {\n",
              "        vertical-align: middle;\n",
              "    }\n",
              "\n",
              "    .dataframe tbody tr th {\n",
              "        vertical-align: top;\n",
              "    }\n",
              "\n",
              "    .dataframe thead th {\n",
              "        text-align: right;\n",
              "    }\n",
              "</style>\n",
              "<table border=\"1\" class=\"dataframe\">\n",
              "  <thead>\n",
              "    <tr style=\"text-align: right;\">\n",
              "      <th></th>\n",
              "      <th>EXPOR_NTN_NM</th>\n",
              "      <th>ARRVL_YRMNT</th>\n",
              "      <th>ARRVL_PRT_NM</th>\n",
              "    </tr>\n",
              "  </thead>\n",
              "  <tbody>\n",
              "    <tr>\n",
              "      <th>count</th>\n",
              "      <td>9999</td>\n",
              "      <td>9999</td>\n",
              "      <td>9999</td>\n",
              "    </tr>\n",
              "    <tr>\n",
              "      <th>unique</th>\n",
              "      <td>1</td>\n",
              "      <td>80</td>\n",
              "      <td>101</td>\n",
              "    </tr>\n",
              "    <tr>\n",
              "      <th>top</th>\n",
              "      <td>CHINA</td>\n",
              "      <td>2021-02-23</td>\n",
              "      <td>VNCLI</td>\n",
              "    </tr>\n",
              "    <tr>\n",
              "      <th>freq</th>\n",
              "      <td>9999</td>\n",
              "      <td>655</td>\n",
              "      <td>3316</td>\n",
              "    </tr>\n",
              "  </tbody>\n",
              "</table>\n",
              "</div>"
            ],
            "text/plain": [
              "       EXPOR_NTN_NM ARRVL_YRMNT ARRVL_PRT_NM\n",
              "count          9999        9999         9999\n",
              "unique            1          80          101\n",
              "top           CHINA  2021-02-23        VNCLI\n",
              "freq           9999         655         3316"
            ]
          },
          "metadata": {},
          "execution_count": 8
        }
      ]
    },
    {
      "cell_type": "markdown",
      "metadata": {
        "id": "-zddebHYq8-T"
      },
      "source": [
        "먼저, 도착항구명을 파악해보았다."
      ]
    },
    {
      "cell_type": "code",
      "metadata": {
        "colab": {
          "base_uri": "https://localhost:8080/"
        },
        "id": "IwZVu_k2Wh5k",
        "outputId": "f2e59a4f-1fa1-42d6-f2f2-6545e4d1bd6c"
      },
      "source": [
        "vietnam['ARRVL_PRT_NM'].unique()"
      ],
      "execution_count": 9,
      "outputs": [
        {
          "output_type": "execute_result",
          "data": {
            "text/plain": [
              "array(['VNCLI', 'VNSGN', 'VNDVU', 'VNHAN', 'VNDTS', 'VNDVN', 'VNHUGT',\n",
              "       'VNZZZ', 'VNDNH', 'VNNEK', 'VNBDU', 'VNNHC', 'VNTCN', 'VNCXP',\n",
              "       'VNHPN', 'VNMOCT', 'VNMTCT', 'VNCLH', 'VNTCE', 'VNHOOT', 'VNFCV',\n",
              "       'VNPLT', 'VNCHAT', 'VNCOMT', 'VNFDW', 'VNXGL', 'VNHPH', 'VNXFV',\n",
              "       'VNXOM', 'VNYVHN', 'VNHNC', 'VNBNG', 'VNPLF', 'VNITC', 'VNFBFL',\n",
              "       'VNXSG', 'VNNCI', 'VNHIA', 'VNXER', 'VNXKC', 'VNPTS', 'VNXBP',\n",
              "       'VNGEE', 'VNXEB', 'VNTTHT', 'VNFDA', 'VNTAP', 'VNVIC', 'VNXPE',\n",
              "       'VNXLG', 'VNHDI', 'VNBPST', 'VNTTS', 'VNXQD', 'VNDAD', 'VNCVE',\n",
              "       'VNXEN', 'VNLAOT', 'VNXAD', 'VNLAIT', 'VNDAN', 'VNXAMT', 'VNFCU',\n",
              "       'VNFAF', 'VNXSIL', 'VNFBT', 'VNXQC', 'VNLOT', 'VNFAD', 'VNTCI',\n",
              "       'VNUIH', 'VNXON', 'VNXQI', 'VNTTT', 'VNXEV', 'VNXAR', 'VNXFB',\n",
              "       'VNNDKL', 'VNQPH', 'VNCMY', 'VNXAL', 'VNXGR', 'VNTAGT', 'VNXEG',\n",
              "       'VNFBD', 'VNTTN', 'VNXAS', 'VNXFT', 'VNXNW', 'VNXGA', 'VNXBE',\n",
              "       'VNDGLS', 'VNTTYT', 'VNXCF', 'VNSDG', 'VNHON', 'VNXEI', 'VNXQJ',\n",
              "       'VNSPT', 'VNXCR', 'VNXLP'], dtype=object)"
            ]
          },
          "metadata": {},
          "execution_count": 9
        }
      ]
    },
    {
      "cell_type": "code",
      "metadata": {
        "colab": {
          "base_uri": "https://localhost:8080/"
        },
        "id": "k7ViL7rlWnhu",
        "outputId": "407ede3d-06c4-4cd6-ff0c-1703ea58a5a4"
      },
      "source": [
        "vietnam['ARRVL_PRT_NM'].nunique()"
      ],
      "execution_count": 10,
      "outputs": [
        {
          "output_type": "execute_result",
          "data": {
            "text/plain": [
              "101"
            ]
          },
          "metadata": {},
          "execution_count": 10
        }
      ]
    },
    {
      "cell_type": "markdown",
      "metadata": {
        "id": "_dHvv20frFFb"
      },
      "source": [
        "도착항구는 중복없이 총 101곳이 있다."
      ]
    },
    {
      "cell_type": "code",
      "metadata": {
        "colab": {
          "base_uri": "https://localhost:8080/",
          "height": 677
        },
        "id": "RyUqlo-4rrjd",
        "outputId": "3e5d0264-a90d-4b5f-a454-bbf08a007fa1"
      },
      "source": [
        "# 항구별 무역건수 순위파악\n",
        "con_df1 = pd.DataFrame(vietnam['ARRVL_PRT_NM'].value_counts())\n",
        "con_df1['도착항구명'] = con_df1.index\n",
        "con_df1.columns = ['무역건수', '도착항구']\n",
        "con_df1 = con_df1.reset_index().drop('index', axis=1)\n",
        "con_df1.head(20)"
      ],
      "execution_count": 11,
      "outputs": [
        {
          "output_type": "execute_result",
          "data": {
            "text/html": [
              "<div>\n",
              "<style scoped>\n",
              "    .dataframe tbody tr th:only-of-type {\n",
              "        vertical-align: middle;\n",
              "    }\n",
              "\n",
              "    .dataframe tbody tr th {\n",
              "        vertical-align: top;\n",
              "    }\n",
              "\n",
              "    .dataframe thead th {\n",
              "        text-align: right;\n",
              "    }\n",
              "</style>\n",
              "<table border=\"1\" class=\"dataframe\">\n",
              "  <thead>\n",
              "    <tr style=\"text-align: right;\">\n",
              "      <th></th>\n",
              "      <th>무역건수</th>\n",
              "      <th>도착항구</th>\n",
              "    </tr>\n",
              "  </thead>\n",
              "  <tbody>\n",
              "    <tr>\n",
              "      <th>0</th>\n",
              "      <td>3316</td>\n",
              "      <td>VNCLI</td>\n",
              "    </tr>\n",
              "    <tr>\n",
              "      <th>1</th>\n",
              "      <td>1007</td>\n",
              "      <td>VNSGN</td>\n",
              "    </tr>\n",
              "    <tr>\n",
              "      <th>2</th>\n",
              "      <td>853</td>\n",
              "      <td>VNHUGT</td>\n",
              "    </tr>\n",
              "    <tr>\n",
              "      <th>3</th>\n",
              "      <td>711</td>\n",
              "      <td>VNHAN</td>\n",
              "    </tr>\n",
              "    <tr>\n",
              "      <th>4</th>\n",
              "      <td>559</td>\n",
              "      <td>VNDVU</td>\n",
              "    </tr>\n",
              "    <tr>\n",
              "      <th>5</th>\n",
              "      <td>399</td>\n",
              "      <td>VNCXP</td>\n",
              "    </tr>\n",
              "    <tr>\n",
              "      <th>6</th>\n",
              "      <td>334</td>\n",
              "      <td>VNPTS</td>\n",
              "    </tr>\n",
              "    <tr>\n",
              "      <th>7</th>\n",
              "      <td>320</td>\n",
              "      <td>VNZZZ</td>\n",
              "    </tr>\n",
              "    <tr>\n",
              "      <th>8</th>\n",
              "      <td>309</td>\n",
              "      <td>VNHPN</td>\n",
              "    </tr>\n",
              "    <tr>\n",
              "      <th>9</th>\n",
              "      <td>287</td>\n",
              "      <td>VNMOCT</td>\n",
              "    </tr>\n",
              "    <tr>\n",
              "      <th>10</th>\n",
              "      <td>276</td>\n",
              "      <td>VNDVN</td>\n",
              "    </tr>\n",
              "    <tr>\n",
              "      <th>11</th>\n",
              "      <td>186</td>\n",
              "      <td>VNDTS</td>\n",
              "    </tr>\n",
              "    <tr>\n",
              "      <th>12</th>\n",
              "      <td>184</td>\n",
              "      <td>VNDNH</td>\n",
              "    </tr>\n",
              "    <tr>\n",
              "      <th>13</th>\n",
              "      <td>180</td>\n",
              "      <td>VNGEE</td>\n",
              "    </tr>\n",
              "    <tr>\n",
              "      <th>14</th>\n",
              "      <td>142</td>\n",
              "      <td>VNTAP</td>\n",
              "    </tr>\n",
              "    <tr>\n",
              "      <th>15</th>\n",
              "      <td>139</td>\n",
              "      <td>VNCOMT</td>\n",
              "    </tr>\n",
              "    <tr>\n",
              "      <th>16</th>\n",
              "      <td>95</td>\n",
              "      <td>VNTCN</td>\n",
              "    </tr>\n",
              "    <tr>\n",
              "      <th>17</th>\n",
              "      <td>79</td>\n",
              "      <td>VNPLT</td>\n",
              "    </tr>\n",
              "    <tr>\n",
              "      <th>18</th>\n",
              "      <td>58</td>\n",
              "      <td>VNHPH</td>\n",
              "    </tr>\n",
              "    <tr>\n",
              "      <th>19</th>\n",
              "      <td>45</td>\n",
              "      <td>VNTTHT</td>\n",
              "    </tr>\n",
              "  </tbody>\n",
              "</table>\n",
              "</div>"
            ],
            "text/plain": [
              "    무역건수    도착항구\n",
              "0   3316   VNCLI\n",
              "1   1007   VNSGN\n",
              "2    853  VNHUGT\n",
              "3    711   VNHAN\n",
              "4    559   VNDVU\n",
              "5    399   VNCXP\n",
              "6    334   VNPTS\n",
              "7    320   VNZZZ\n",
              "8    309   VNHPN\n",
              "9    287  VNMOCT\n",
              "10   276   VNDVN\n",
              "11   186   VNDTS\n",
              "12   184   VNDNH\n",
              "13   180   VNGEE\n",
              "14   142   VNTAP\n",
              "15   139  VNCOMT\n",
              "16    95   VNTCN\n",
              "17    79   VNPLT\n",
              "18    58   VNHPH\n",
              "19    45  VNTTHT"
            ]
          },
          "metadata": {},
          "execution_count": 11
        }
      ]
    },
    {
      "cell_type": "markdown",
      "metadata": {
        "id": "VAPJvlb-ss95"
      },
      "source": [
        "'VNCLI', 'VNSGN', 'VNHUGT' 순으로 무역거래가 가장 많이 이루어진다."
      ]
    },
    {
      "cell_type": "markdown",
      "metadata": {
        "id": "Qo7Ri7-FthVp"
      },
      "source": [
        "## VNCLI항으로의 도착물량 데이터분석"
      ]
    },
    {
      "cell_type": "code",
      "metadata": {
        "colab": {
          "base_uri": "https://localhost:8080/",
          "height": 423
        },
        "id": "O_K95IQPdOJw",
        "outputId": "b4b8619f-c406-4350-fed9-58e753bb7619"
      },
      "source": [
        "vietnam_vncli = vietnam[(vietnam['ARRVL_PRT_NM']=='VNCLI')]\n",
        "vietnam_vncli"
      ],
      "execution_count": 12,
      "outputs": [
        {
          "output_type": "execute_result",
          "data": {
            "text/html": [
              "<div>\n",
              "<style scoped>\n",
              "    .dataframe tbody tr th:only-of-type {\n",
              "        vertical-align: middle;\n",
              "    }\n",
              "\n",
              "    .dataframe tbody tr th {\n",
              "        vertical-align: top;\n",
              "    }\n",
              "\n",
              "    .dataframe thead th {\n",
              "        text-align: right;\n",
              "    }\n",
              "</style>\n",
              "<table border=\"1\" class=\"dataframe\">\n",
              "  <thead>\n",
              "    <tr style=\"text-align: right;\">\n",
              "      <th></th>\n",
              "      <th>EXPOR_NTN_NM</th>\n",
              "      <th>HS_CD</th>\n",
              "      <th>ARRVL_YRMNT</th>\n",
              "      <th>VTNM_TRAD_INVCE_AMT</th>\n",
              "      <th>ARRVL_PRT_NM</th>\n",
              "    </tr>\n",
              "  </thead>\n",
              "  <tbody>\n",
              "    <tr>\n",
              "      <th>0</th>\n",
              "      <td>CHINA</td>\n",
              "      <td>85322400</td>\n",
              "      <td>2021-02-22</td>\n",
              "      <td>10.92</td>\n",
              "      <td>VNCLI</td>\n",
              "    </tr>\n",
              "    <tr>\n",
              "      <th>1</th>\n",
              "      <td>CHINA</td>\n",
              "      <td>85030090</td>\n",
              "      <td>2021-02-22</td>\n",
              "      <td>224.32</td>\n",
              "      <td>VNCLI</td>\n",
              "    </tr>\n",
              "    <tr>\n",
              "      <th>3</th>\n",
              "      <td>CHINA</td>\n",
              "      <td>82075000</td>\n",
              "      <td>2021-02-22</td>\n",
              "      <td>62.00</td>\n",
              "      <td>VNCLI</td>\n",
              "    </tr>\n",
              "    <tr>\n",
              "      <th>8</th>\n",
              "      <td>CHINA</td>\n",
              "      <td>83082000</td>\n",
              "      <td>2021-02-22</td>\n",
              "      <td>8.70</td>\n",
              "      <td>VNCLI</td>\n",
              "    </tr>\n",
              "    <tr>\n",
              "      <th>11</th>\n",
              "      <td>CHINA</td>\n",
              "      <td>85030090</td>\n",
              "      <td>2021-02-22</td>\n",
              "      <td>1884.80</td>\n",
              "      <td>VNCLI</td>\n",
              "    </tr>\n",
              "    <tr>\n",
              "      <th>...</th>\n",
              "      <td>...</td>\n",
              "      <td>...</td>\n",
              "      <td>...</td>\n",
              "      <td>...</td>\n",
              "      <td>...</td>\n",
              "    </tr>\n",
              "    <tr>\n",
              "      <th>9987</th>\n",
              "      <td>CHINA</td>\n",
              "      <td>87141090</td>\n",
              "      <td>2019-06-08</td>\n",
              "      <td>62.40</td>\n",
              "      <td>VNCLI</td>\n",
              "    </tr>\n",
              "    <tr>\n",
              "      <th>9992</th>\n",
              "      <td>CHINA</td>\n",
              "      <td>84592910</td>\n",
              "      <td>2019-06-08</td>\n",
              "      <td>7137.00</td>\n",
              "      <td>VNCLI</td>\n",
              "    </tr>\n",
              "    <tr>\n",
              "      <th>9994</th>\n",
              "      <td>CHINA</td>\n",
              "      <td>84719090</td>\n",
              "      <td>2019-06-08</td>\n",
              "      <td>4500.00</td>\n",
              "      <td>VNCLI</td>\n",
              "    </tr>\n",
              "    <tr>\n",
              "      <th>9997</th>\n",
              "      <td>CHINA</td>\n",
              "      <td>39269099</td>\n",
              "      <td>2019-07-15</td>\n",
              "      <td>13.92</td>\n",
              "      <td>VNCLI</td>\n",
              "    </tr>\n",
              "    <tr>\n",
              "      <th>9998</th>\n",
              "      <td>CHINA</td>\n",
              "      <td>73181990</td>\n",
              "      <td>2019-04-05</td>\n",
              "      <td>3.04</td>\n",
              "      <td>VNCLI</td>\n",
              "    </tr>\n",
              "  </tbody>\n",
              "</table>\n",
              "<p>3316 rows × 5 columns</p>\n",
              "</div>"
            ],
            "text/plain": [
              "     EXPOR_NTN_NM     HS_CD ARRVL_YRMNT  VTNM_TRAD_INVCE_AMT ARRVL_PRT_NM\n",
              "0           CHINA  85322400  2021-02-22                10.92        VNCLI\n",
              "1           CHINA  85030090  2021-02-22               224.32        VNCLI\n",
              "3           CHINA  82075000  2021-02-22                62.00        VNCLI\n",
              "8           CHINA  83082000  2021-02-22                 8.70        VNCLI\n",
              "11          CHINA  85030090  2021-02-22              1884.80        VNCLI\n",
              "...           ...       ...         ...                  ...          ...\n",
              "9987        CHINA  87141090  2019-06-08                62.40        VNCLI\n",
              "9992        CHINA  84592910  2019-06-08              7137.00        VNCLI\n",
              "9994        CHINA  84719090  2019-06-08              4500.00        VNCLI\n",
              "9997        CHINA  39269099  2019-07-15                13.92        VNCLI\n",
              "9998        CHINA  73181990  2019-04-05                 3.04        VNCLI\n",
              "\n",
              "[3316 rows x 5 columns]"
            ]
          },
          "metadata": {},
          "execution_count": 12
        }
      ]
    },
    {
      "cell_type": "code",
      "metadata": {
        "id": "bUMU8-fQe_Ea",
        "colab": {
          "base_uri": "https://localhost:8080/"
        },
        "outputId": "2114a1c7-1934-4f7f-84a7-7f41ad1ccad3"
      },
      "source": [
        "outlier_idx = get_outlier(df=vietnam_vncli, column='VTNM_TRAD_INVCE_AMT', weight=1.5)\n",
        "vietnam_vncli.drop(outlier_idx, axis=0, inplace=True)"
      ],
      "execution_count": 13,
      "outputs": [
        {
          "output_type": "stream",
          "name": "stderr",
          "text": [
            "/usr/local/lib/python3.7/dist-packages/pandas/core/frame.py:4174: SettingWithCopyWarning: \n",
            "A value is trying to be set on a copy of a slice from a DataFrame\n",
            "\n",
            "See the caveats in the documentation: https://pandas.pydata.org/pandas-docs/stable/user_guide/indexing.html#returning-a-view-versus-a-copy\n",
            "  errors=errors,\n"
          ]
        }
      ]
    },
    {
      "cell_type": "code",
      "metadata": {
        "colab": {
          "base_uri": "https://localhost:8080/",
          "height": 423
        },
        "id": "LzwxNiE3ibSO",
        "outputId": "b247582f-78e6-4673-fa81-94ad5fae1242"
      },
      "source": [
        "vietnam_vncli"
      ],
      "execution_count": 14,
      "outputs": [
        {
          "output_type": "execute_result",
          "data": {
            "text/html": [
              "<div>\n",
              "<style scoped>\n",
              "    .dataframe tbody tr th:only-of-type {\n",
              "        vertical-align: middle;\n",
              "    }\n",
              "\n",
              "    .dataframe tbody tr th {\n",
              "        vertical-align: top;\n",
              "    }\n",
              "\n",
              "    .dataframe thead th {\n",
              "        text-align: right;\n",
              "    }\n",
              "</style>\n",
              "<table border=\"1\" class=\"dataframe\">\n",
              "  <thead>\n",
              "    <tr style=\"text-align: right;\">\n",
              "      <th></th>\n",
              "      <th>EXPOR_NTN_NM</th>\n",
              "      <th>HS_CD</th>\n",
              "      <th>ARRVL_YRMNT</th>\n",
              "      <th>VTNM_TRAD_INVCE_AMT</th>\n",
              "      <th>ARRVL_PRT_NM</th>\n",
              "    </tr>\n",
              "  </thead>\n",
              "  <tbody>\n",
              "    <tr>\n",
              "      <th>0</th>\n",
              "      <td>CHINA</td>\n",
              "      <td>85322400</td>\n",
              "      <td>2021-02-22</td>\n",
              "      <td>10.92</td>\n",
              "      <td>VNCLI</td>\n",
              "    </tr>\n",
              "    <tr>\n",
              "      <th>1</th>\n",
              "      <td>CHINA</td>\n",
              "      <td>85030090</td>\n",
              "      <td>2021-02-22</td>\n",
              "      <td>224.32</td>\n",
              "      <td>VNCLI</td>\n",
              "    </tr>\n",
              "    <tr>\n",
              "      <th>3</th>\n",
              "      <td>CHINA</td>\n",
              "      <td>82075000</td>\n",
              "      <td>2021-02-22</td>\n",
              "      <td>62.00</td>\n",
              "      <td>VNCLI</td>\n",
              "    </tr>\n",
              "    <tr>\n",
              "      <th>8</th>\n",
              "      <td>CHINA</td>\n",
              "      <td>83082000</td>\n",
              "      <td>2021-02-22</td>\n",
              "      <td>8.70</td>\n",
              "      <td>VNCLI</td>\n",
              "    </tr>\n",
              "    <tr>\n",
              "      <th>11</th>\n",
              "      <td>CHINA</td>\n",
              "      <td>85030090</td>\n",
              "      <td>2021-02-22</td>\n",
              "      <td>1884.80</td>\n",
              "      <td>VNCLI</td>\n",
              "    </tr>\n",
              "    <tr>\n",
              "      <th>...</th>\n",
              "      <td>...</td>\n",
              "      <td>...</td>\n",
              "      <td>...</td>\n",
              "      <td>...</td>\n",
              "      <td>...</td>\n",
              "    </tr>\n",
              "    <tr>\n",
              "      <th>9987</th>\n",
              "      <td>CHINA</td>\n",
              "      <td>87141090</td>\n",
              "      <td>2019-06-08</td>\n",
              "      <td>62.40</td>\n",
              "      <td>VNCLI</td>\n",
              "    </tr>\n",
              "    <tr>\n",
              "      <th>9992</th>\n",
              "      <td>CHINA</td>\n",
              "      <td>84592910</td>\n",
              "      <td>2019-06-08</td>\n",
              "      <td>7137.00</td>\n",
              "      <td>VNCLI</td>\n",
              "    </tr>\n",
              "    <tr>\n",
              "      <th>9994</th>\n",
              "      <td>CHINA</td>\n",
              "      <td>84719090</td>\n",
              "      <td>2019-06-08</td>\n",
              "      <td>4500.00</td>\n",
              "      <td>VNCLI</td>\n",
              "    </tr>\n",
              "    <tr>\n",
              "      <th>9997</th>\n",
              "      <td>CHINA</td>\n",
              "      <td>39269099</td>\n",
              "      <td>2019-07-15</td>\n",
              "      <td>13.92</td>\n",
              "      <td>VNCLI</td>\n",
              "    </tr>\n",
              "    <tr>\n",
              "      <th>9998</th>\n",
              "      <td>CHINA</td>\n",
              "      <td>73181990</td>\n",
              "      <td>2019-04-05</td>\n",
              "      <td>3.04</td>\n",
              "      <td>VNCLI</td>\n",
              "    </tr>\n",
              "  </tbody>\n",
              "</table>\n",
              "<p>2806 rows × 5 columns</p>\n",
              "</div>"
            ],
            "text/plain": [
              "     EXPOR_NTN_NM     HS_CD ARRVL_YRMNT  VTNM_TRAD_INVCE_AMT ARRVL_PRT_NM\n",
              "0           CHINA  85322400  2021-02-22                10.92        VNCLI\n",
              "1           CHINA  85030090  2021-02-22               224.32        VNCLI\n",
              "3           CHINA  82075000  2021-02-22                62.00        VNCLI\n",
              "8           CHINA  83082000  2021-02-22                 8.70        VNCLI\n",
              "11          CHINA  85030090  2021-02-22              1884.80        VNCLI\n",
              "...           ...       ...         ...                  ...          ...\n",
              "9987        CHINA  87141090  2019-06-08                62.40        VNCLI\n",
              "9992        CHINA  84592910  2019-06-08              7137.00        VNCLI\n",
              "9994        CHINA  84719090  2019-06-08              4500.00        VNCLI\n",
              "9997        CHINA  39269099  2019-07-15                13.92        VNCLI\n",
              "9998        CHINA  73181990  2019-04-05                 3.04        VNCLI\n",
              "\n",
              "[2806 rows x 5 columns]"
            ]
          },
          "metadata": {},
          "execution_count": 14
        }
      ]
    },
    {
      "cell_type": "code",
      "metadata": {
        "colab": {
          "base_uri": "https://localhost:8080/",
          "height": 280
        },
        "id": "CP1V9BclL6Xz",
        "outputId": "b0a4a07a-0796-40cc-a1d1-8e508a1afd76"
      },
      "source": [
        "sns.lineplot(data=vietnam_vncli, x=\"ARRVL_YRMNT\", y=\"VTNM_TRAD_INVCE_AMT\", ci=None)\n",
        "ax = plt.gca()\n",
        "ax.xaxis.set_major_formatter(ticker.FormatStrFormatter('%d'))\n",
        "ax.xaxis.set_major_locator(ticker.MultipleLocator(base=10))\n",
        "plt.show()"
      ],
      "execution_count": 15,
      "outputs": [
        {
          "output_type": "display_data",
          "data": {
            "image/png": "[encoded data removed]",
            "text/plain": [
              "<Figure size 432x288 with 1 Axes>"
            ]
          },
          "metadata": {
            "needs_background": "light"
          }
        }
      ]
    },
    {
      "cell_type": "markdown",
      "metadata": {
        "id": "koqOAY975iNh"
      },
      "source": [
        "최대값과 최소값을 먼저 파악해보았다."
      ]
    },
    {
      "cell_type": "code",
      "metadata": {
        "colab": {
          "base_uri": "https://localhost:8080/",
          "height": 363
        },
        "id": "hkm5s5jy5lun",
        "outputId": "e77dec53-fc90-457e-f3d7-9cd33378bb9e"
      },
      "source": [
        "# 도착항구가 'VNCLI'인\n",
        "con_df2 = pd.DataFrame(vietnam_vncli[['ARRVL_YRMNT','VTNM_TRAD_INVCE_AMT']])\n",
        "con_df2.columns = ['도착날짜', '베트남무역송장금액']\n",
        "con_df2.sort_values(by=['베트남무역송장금액'], axis=0, ascending=False, inplace=True)\n",
        "con_df2.head(10)"
      ],
      "execution_count": 16,
      "outputs": [
        {
          "output_type": "execute_result",
          "data": {
            "text/html": [
              "<div>\n",
              "<style scoped>\n",
              "    .dataframe tbody tr th:only-of-type {\n",
              "        vertical-align: middle;\n",
              "    }\n",
              "\n",
              "    .dataframe tbody tr th {\n",
              "        vertical-align: top;\n",
              "    }\n",
              "\n",
              "    .dataframe thead th {\n",
              "        text-align: right;\n",
              "    }\n",
              "</style>\n",
              "<table border=\"1\" class=\"dataframe\">\n",
              "  <thead>\n",
              "    <tr style=\"text-align: right;\">\n",
              "      <th></th>\n",
              "      <th>도착날짜</th>\n",
              "      <th>베트남무역송장금액</th>\n",
              "    </tr>\n",
              "  </thead>\n",
              "  <tbody>\n",
              "    <tr>\n",
              "      <th>9224</th>\n",
              "      <td>2019-01-08</td>\n",
              "      <td>8828.69</td>\n",
              "    </tr>\n",
              "    <tr>\n",
              "      <th>4681</th>\n",
              "      <td>2021-02-23</td>\n",
              "      <td>8809.50</td>\n",
              "    </tr>\n",
              "    <tr>\n",
              "      <th>8451</th>\n",
              "      <td>2019-04-09</td>\n",
              "      <td>8800.00</td>\n",
              "    </tr>\n",
              "    <tr>\n",
              "      <th>1431</th>\n",
              "      <td>2019-04-08</td>\n",
              "      <td>8750.00</td>\n",
              "    </tr>\n",
              "    <tr>\n",
              "      <th>8285</th>\n",
              "      <td>2019-05-20</td>\n",
              "      <td>8745.75</td>\n",
              "    </tr>\n",
              "    <tr>\n",
              "      <th>2983</th>\n",
              "      <td>2019-05-14</td>\n",
              "      <td>8734.00</td>\n",
              "    </tr>\n",
              "    <tr>\n",
              "      <th>6281</th>\n",
              "      <td>2019-06-21</td>\n",
              "      <td>8646.00</td>\n",
              "    </tr>\n",
              "    <tr>\n",
              "      <th>8908</th>\n",
              "      <td>2019-03-01</td>\n",
              "      <td>8620.92</td>\n",
              "    </tr>\n",
              "    <tr>\n",
              "      <th>5118</th>\n",
              "      <td>2019-05-16</td>\n",
              "      <td>8598.64</td>\n",
              "    </tr>\n",
              "    <tr>\n",
              "      <th>4438</th>\n",
              "      <td>2019-04-08</td>\n",
              "      <td>8592.98</td>\n",
              "    </tr>\n",
              "  </tbody>\n",
              "</table>\n",
              "</div>"
            ],
            "text/plain": [
              "            도착날짜  베트남무역송장금액\n",
              "9224  2019-01-08    8828.69\n",
              "4681  2021-02-23    8809.50\n",
              "8451  2019-04-09    8800.00\n",
              "1431  2019-04-08    8750.00\n",
              "8285  2019-05-20    8745.75\n",
              "2983  2019-05-14    8734.00\n",
              "6281  2019-06-21    8646.00\n",
              "8908  2019-03-01    8620.92\n",
              "5118  2019-05-16    8598.64\n",
              "4438  2019-04-08    8592.98"
            ]
          },
          "metadata": {},
          "execution_count": 16
        }
      ]
    },
    {
      "cell_type": "markdown",
      "metadata": {
        "id": "rAoCOCQ52cVv"
      },
      "source": [
        "운임의 상위값들은 대부분 2019년도에 있음을 확인할 수 있다. 2021년도도 드물게 보인다."
      ]
    },
    {
      "cell_type": "markdown",
      "metadata": {
        "id": "Be1mgD1n34kq"
      },
      "source": [
        "https://tuoitrenews.vn/news/society/20190909/thick-traffic-hinders-expansion-of-busy-seaport-in-ho-chi-minh-city/51220.html"
      ]
    },
    {
      "cell_type": "code",
      "metadata": {
        "colab": {
          "base_uri": "https://localhost:8080/",
          "height": 517
        },
        "id": "4c_HogTNMX_p",
        "outputId": "4b9bed04-b69c-48d0-adbf-d63ee85cf718"
      },
      "source": [
        "vietnam_vnsgn = vietnam[(vietnam['ARRVL_PRT_NM']=='VNSGN')]\n",
        "outlier_idx = get_outlier(vietnam_vnsgn, column='VTNM_TRAD_INVCE_AMT', weight=1.5)\n",
        "vietnam_vnsgn.drop(outlier_idx, axis=0, inplace=True)\n",
        "vietnam_vnsgn"
      ],
      "execution_count": 17,
      "outputs": [
        {
          "output_type": "stream",
          "name": "stderr",
          "text": [
            "/usr/local/lib/python3.7/dist-packages/pandas/core/frame.py:4174: SettingWithCopyWarning: \n",
            "A value is trying to be set on a copy of a slice from a DataFrame\n",
            "\n",
            "See the caveats in the documentation: https://pandas.pydata.org/pandas-docs/stable/user_guide/indexing.html#returning-a-view-versus-a-copy\n",
            "  errors=errors,\n"
          ]
        },
        {
          "output_type": "execute_result",
          "data": {
            "text/html": [
              "<div>\n",
              "<style scoped>\n",
              "    .dataframe tbody tr th:only-of-type {\n",
              "        vertical-align: middle;\n",
              "    }\n",
              "\n",
              "    .dataframe tbody tr th {\n",
              "        vertical-align: top;\n",
              "    }\n",
              "\n",
              "    .dataframe thead th {\n",
              "        text-align: right;\n",
              "    }\n",
              "</style>\n",
              "<table border=\"1\" class=\"dataframe\">\n",
              "  <thead>\n",
              "    <tr style=\"text-align: right;\">\n",
              "      <th></th>\n",
              "      <th>EXPOR_NTN_NM</th>\n",
              "      <th>HS_CD</th>\n",
              "      <th>ARRVL_YRMNT</th>\n",
              "      <th>VTNM_TRAD_INVCE_AMT</th>\n",
              "      <th>ARRVL_PRT_NM</th>\n",
              "    </tr>\n",
              "  </thead>\n",
              "  <tbody>\n",
              "    <tr>\n",
              "      <th>4</th>\n",
              "      <td>CHINA</td>\n",
              "      <td>85076090</td>\n",
              "      <td>2021-02-22</td>\n",
              "      <td>9.15</td>\n",
              "      <td>VNSGN</td>\n",
              "    </tr>\n",
              "    <tr>\n",
              "      <th>12</th>\n",
              "      <td>CHINA</td>\n",
              "      <td>85176259</td>\n",
              "      <td>2021-02-22</td>\n",
              "      <td>242.77</td>\n",
              "      <td>VNSGN</td>\n",
              "    </tr>\n",
              "    <tr>\n",
              "      <th>34</th>\n",
              "      <td>CHINA</td>\n",
              "      <td>84821000</td>\n",
              "      <td>2021-02-22</td>\n",
              "      <td>25.80</td>\n",
              "      <td>VNSGN</td>\n",
              "    </tr>\n",
              "    <tr>\n",
              "      <th>40</th>\n",
              "      <td>CHINA</td>\n",
              "      <td>90328990</td>\n",
              "      <td>2021-02-22</td>\n",
              "      <td>236.50</td>\n",
              "      <td>VNSGN</td>\n",
              "    </tr>\n",
              "    <tr>\n",
              "      <th>88</th>\n",
              "      <td>CHINA</td>\n",
              "      <td>85452000</td>\n",
              "      <td>2021-02-23</td>\n",
              "      <td>1126.02</td>\n",
              "      <td>VNSGN</td>\n",
              "    </tr>\n",
              "    <tr>\n",
              "      <th>...</th>\n",
              "      <td>...</td>\n",
              "      <td>...</td>\n",
              "      <td>...</td>\n",
              "      <td>...</td>\n",
              "      <td>...</td>\n",
              "    </tr>\n",
              "    <tr>\n",
              "      <th>9966</th>\n",
              "      <td>CHINA</td>\n",
              "      <td>91021200</td>\n",
              "      <td>2019-04-05</td>\n",
              "      <td>872.50</td>\n",
              "      <td>VNSGN</td>\n",
              "    </tr>\n",
              "    <tr>\n",
              "      <th>9967</th>\n",
              "      <td>CHINA</td>\n",
              "      <td>91021200</td>\n",
              "      <td>2019-04-05</td>\n",
              "      <td>86.50</td>\n",
              "      <td>VNSGN</td>\n",
              "    </tr>\n",
              "    <tr>\n",
              "      <th>9970</th>\n",
              "      <td>CHINA</td>\n",
              "      <td>91021200</td>\n",
              "      <td>2019-04-05</td>\n",
              "      <td>134.00</td>\n",
              "      <td>VNSGN</td>\n",
              "    </tr>\n",
              "    <tr>\n",
              "      <th>9982</th>\n",
              "      <td>CHINA</td>\n",
              "      <td>29362800</td>\n",
              "      <td>2019-06-08</td>\n",
              "      <td>40.00</td>\n",
              "      <td>VNSGN</td>\n",
              "    </tr>\n",
              "    <tr>\n",
              "      <th>9991</th>\n",
              "      <td>CHINA</td>\n",
              "      <td>96062100</td>\n",
              "      <td>2019-07-15</td>\n",
              "      <td>128.50</td>\n",
              "      <td>VNSGN</td>\n",
              "    </tr>\n",
              "  </tbody>\n",
              "</table>\n",
              "<p>856 rows × 5 columns</p>\n",
              "</div>"
            ],
            "text/plain": [
              "     EXPOR_NTN_NM     HS_CD ARRVL_YRMNT  VTNM_TRAD_INVCE_AMT ARRVL_PRT_NM\n",
              "4           CHINA  85076090  2021-02-22                 9.15        VNSGN\n",
              "12          CHINA  85176259  2021-02-22               242.77        VNSGN\n",
              "34          CHINA  84821000  2021-02-22                25.80        VNSGN\n",
              "40          CHINA  90328990  2021-02-22               236.50        VNSGN\n",
              "88          CHINA  85452000  2021-02-23              1126.02        VNSGN\n",
              "...           ...       ...         ...                  ...          ...\n",
              "9966        CHINA  91021200  2019-04-05               872.50        VNSGN\n",
              "9967        CHINA  91021200  2019-04-05                86.50        VNSGN\n",
              "9970        CHINA  91021200  2019-04-05               134.00        VNSGN\n",
              "9982        CHINA  29362800  2019-06-08                40.00        VNSGN\n",
              "9991        CHINA  96062100  2019-07-15               128.50        VNSGN\n",
              "\n",
              "[856 rows x 5 columns]"
            ]
          },
          "metadata": {},
          "execution_count": 17
        }
      ]
    },
    {
      "cell_type": "code",
      "metadata": {
        "colab": {
          "base_uri": "https://localhost:8080/",
          "height": 299
        },
        "id": "e4GmnH9KMqIw",
        "outputId": "6b6e4ee5-eba7-4a3b-c36c-9ab3c50a25f3"
      },
      "source": [
        "sns.lineplot(data=vietnam_vnsgn, x=\"ARRVL_YRMNT\", y=\"VTNM_TRAD_INVCE_AMT\", ci=None)"
      ],
      "execution_count": 18,
      "outputs": [
        {
          "output_type": "execute_result",
          "data": {
            "text/plain": [
              "<matplotlib.axes._subplots.AxesSubplot at 0x7f131e875bd0>"
            ]
          },
          "metadata": {},
          "execution_count": 18
        },
        {
          "output_type": "display_data",
          "data": {
            "image/png": "[encoded data removed]",
            "text/plain": [
              "<Figure size 432x288 with 1 Axes>"
            ]
          },
          "metadata": {
            "needs_background": "light"
          }
        }
      ]
    },
    {
      "cell_type": "markdown",
      "metadata": {
        "id": "BUuDrCJ4VFys"
      },
      "source": [
        "# HS코드 분석"
      ]
    },
    {
      "cell_type": "code",
      "metadata": {
        "colab": {
          "base_uri": "https://localhost:8080/"
        },
        "id": "WyDaQmErUsiZ",
        "outputId": "d868484c-df4e-4ee4-ebb1-6d06d7cf00ea"
      },
      "source": [
        "vietnam['HS_CD'].unique()"
      ],
      "execution_count": 20,
      "outputs": [
        {
          "output_type": "execute_result",
          "data": {
            "text/plain": [
              "array([85322400, 85030090, 84733090, ..., 34029099, 29362800, 69149000])"
            ]
          },
          "metadata": {},
          "execution_count": 20
        }
      ]
    },
    {
      "cell_type": "code",
      "metadata": {
        "colab": {
          "base_uri": "https://localhost:8080/"
        },
        "id": "8OQH1pQoVFU2",
        "outputId": "268e2401-0f65-4e47-edc2-c172dddca2d5"
      },
      "source": [
        "vietnam['HS_CD'].nunique()"
      ],
      "execution_count": 21,
      "outputs": [
        {
          "output_type": "execute_result",
          "data": {
            "text/plain": [
              "2089"
            ]
          },
          "metadata": {},
          "execution_count": 21
        }
      ]
    },
    {
      "cell_type": "code",
      "metadata": {
        "colab": {
          "base_uri": "https://localhost:8080/",
          "height": 363
        },
        "id": "FtXME_upVLFG",
        "outputId": "4f2b5541-ee58-4840-9d9b-a52dec238703"
      },
      "source": [
        "con_df2 = pd.DataFrame(vietnam['HS_CD'].value_counts())\n",
        "con_df2['도착항구명'] = con_df2.index\n",
        "con_df2.columns = ['값 개수', 'HS코드']\n",
        "con_df2 = con_df2.reset_index().drop('index', axis=1)\n",
        "con_df2.head(10)"
      ],
      "execution_count": 24,
      "outputs": [
        {
          "output_type": "execute_result",
          "data": {
            "text/html": [
              "<div>\n",
              "<style scoped>\n",
              "    .dataframe tbody tr th:only-of-type {\n",
              "        vertical-align: middle;\n",
              "    }\n",
              "\n",
              "    .dataframe tbody tr th {\n",
              "        vertical-align: top;\n",
              "    }\n",
              "\n",
              "    .dataframe thead th {\n",
              "        text-align: right;\n",
              "    }\n",
              "</style>\n",
              "<table border=\"1\" class=\"dataframe\">\n",
              "  <thead>\n",
              "    <tr style=\"text-align: right;\">\n",
              "      <th></th>\n",
              "      <th>값 개수</th>\n",
              "      <th>HS코드</th>\n",
              "    </tr>\n",
              "  </thead>\n",
              "  <tbody>\n",
              "    <tr>\n",
              "      <th>0</th>\n",
              "      <td>289</td>\n",
              "      <td>39269099</td>\n",
              "    </tr>\n",
              "    <tr>\n",
              "      <th>1</th>\n",
              "      <td>211</td>\n",
              "      <td>73269099</td>\n",
              "    </tr>\n",
              "    <tr>\n",
              "      <th>2</th>\n",
              "      <td>121</td>\n",
              "      <td>85332100</td>\n",
              "    </tr>\n",
              "    <tr>\n",
              "      <th>3</th>\n",
              "      <td>92</td>\n",
              "      <td>84439990</td>\n",
              "    </tr>\n",
              "    <tr>\n",
              "      <th>4</th>\n",
              "      <td>85</td>\n",
              "      <td>73181510</td>\n",
              "    </tr>\n",
              "    <tr>\n",
              "      <th>5</th>\n",
              "      <td>81</td>\n",
              "      <td>94051099</td>\n",
              "    </tr>\n",
              "    <tr>\n",
              "      <th>6</th>\n",
              "      <td>79</td>\n",
              "      <td>85322400</td>\n",
              "    </tr>\n",
              "    <tr>\n",
              "      <th>7</th>\n",
              "      <td>77</td>\n",
              "      <td>95030099</td>\n",
              "    </tr>\n",
              "    <tr>\n",
              "      <th>8</th>\n",
              "      <td>69</td>\n",
              "      <td>85177021</td>\n",
              "    </tr>\n",
              "    <tr>\n",
              "      <th>9</th>\n",
              "      <td>68</td>\n",
              "      <td>85423900</td>\n",
              "    </tr>\n",
              "  </tbody>\n",
              "</table>\n",
              "</div>"
            ],
            "text/plain": [
              "   값 개수      HS코드\n",
              "0   289  39269099\n",
              "1   211  73269099\n",
              "2   121  85332100\n",
              "3    92  84439990\n",
              "4    85  73181510\n",
              "5    81  94051099\n",
              "6    79  85322400\n",
              "7    77  95030099\n",
              "8    69  85177021\n",
              "9    68  85423900"
            ]
          },
          "metadata": {},
          "execution_count": 24
        }
      ]
    },
    {
      "cell_type": "markdown",
      "metadata": {
        "id": "eOqmCm85Wn-f"
      },
      "source": [
        "#### 인사이트1 : 거래되는 상위 3개 품목을 확인해본 결과, 플라스틱 소재 등 산업재가 많았다."
      ]
    },
    {
      "cell_type": "markdown",
      "metadata": {
        "id": "Mv0L9vLHXVbE"
      },
      "source": [
        "https://news.kotra.or.kr/user/globalBbs/kotranews/784/globalBbsDataView.do?setIdx=403&dataIdx=190241"
      ]
    },
    {
      "cell_type": "code",
      "metadata": {
        "colab": {
          "base_uri": "https://localhost:8080/",
          "height": 423
        },
        "id": "pXtIAGS9X3Tt",
        "outputId": "6e1dc0a3-1020-4d32-b344-6666a03ddf7c"
      },
      "source": [
        "vietnam_39269099 = vietnam[(vietnam['HS_CD']==39269099)]\n",
        "vietnam_39269099"
      ],
      "execution_count": 26,
      "outputs": [
        {
          "output_type": "execute_result",
          "data": {
            "text/html": [
              "<div>\n",
              "<style scoped>\n",
              "    .dataframe tbody tr th:only-of-type {\n",
              "        vertical-align: middle;\n",
              "    }\n",
              "\n",
              "    .dataframe tbody tr th {\n",
              "        vertical-align: top;\n",
              "    }\n",
              "\n",
              "    .dataframe thead th {\n",
              "        text-align: right;\n",
              "    }\n",
              "</style>\n",
              "<table border=\"1\" class=\"dataframe\">\n",
              "  <thead>\n",
              "    <tr style=\"text-align: right;\">\n",
              "      <th></th>\n",
              "      <th>EXPOR_NTN_NM</th>\n",
              "      <th>HS_CD</th>\n",
              "      <th>ARRVL_YRMNT</th>\n",
              "      <th>VTNM_TRAD_INVCE_AMT</th>\n",
              "      <th>ARRVL_PRT_NM</th>\n",
              "    </tr>\n",
              "  </thead>\n",
              "  <tbody>\n",
              "    <tr>\n",
              "      <th>93</th>\n",
              "      <td>CHINA</td>\n",
              "      <td>39269099</td>\n",
              "      <td>2021-02-23</td>\n",
              "      <td>88.82</td>\n",
              "      <td>VNCLI</td>\n",
              "    </tr>\n",
              "    <tr>\n",
              "      <th>104</th>\n",
              "      <td>CHINA</td>\n",
              "      <td>39269099</td>\n",
              "      <td>2021-02-23</td>\n",
              "      <td>255.45</td>\n",
              "      <td>VNMTCT</td>\n",
              "    </tr>\n",
              "    <tr>\n",
              "      <th>193</th>\n",
              "      <td>CHINA</td>\n",
              "      <td>39269099</td>\n",
              "      <td>2021-02-22</td>\n",
              "      <td>1580.00</td>\n",
              "      <td>VNCLI</td>\n",
              "    </tr>\n",
              "    <tr>\n",
              "      <th>217</th>\n",
              "      <td>CHINA</td>\n",
              "      <td>39269099</td>\n",
              "      <td>2021-02-23</td>\n",
              "      <td>28.68</td>\n",
              "      <td>VNCLI</td>\n",
              "    </tr>\n",
              "    <tr>\n",
              "      <th>226</th>\n",
              "      <td>CHINA</td>\n",
              "      <td>39269099</td>\n",
              "      <td>2021-02-23</td>\n",
              "      <td>285.64</td>\n",
              "      <td>VNCLI</td>\n",
              "    </tr>\n",
              "    <tr>\n",
              "      <th>...</th>\n",
              "      <td>...</td>\n",
              "      <td>...</td>\n",
              "      <td>...</td>\n",
              "      <td>...</td>\n",
              "      <td>...</td>\n",
              "    </tr>\n",
              "    <tr>\n",
              "      <th>9883</th>\n",
              "      <td>CHINA</td>\n",
              "      <td>39269099</td>\n",
              "      <td>2019-03-12</td>\n",
              "      <td>1.40</td>\n",
              "      <td>VNSGN</td>\n",
              "    </tr>\n",
              "    <tr>\n",
              "      <th>9885</th>\n",
              "      <td>CHINA</td>\n",
              "      <td>39269099</td>\n",
              "      <td>2019-03-12</td>\n",
              "      <td>460.00</td>\n",
              "      <td>VNSGN</td>\n",
              "    </tr>\n",
              "    <tr>\n",
              "      <th>9899</th>\n",
              "      <td>CHINA</td>\n",
              "      <td>39269099</td>\n",
              "      <td>2019-03-12</td>\n",
              "      <td>30.00</td>\n",
              "      <td>VNHAN</td>\n",
              "    </tr>\n",
              "    <tr>\n",
              "      <th>9924</th>\n",
              "      <td>CHINA</td>\n",
              "      <td>39269099</td>\n",
              "      <td>2019-03-12</td>\n",
              "      <td>53136.72</td>\n",
              "      <td>VNGEE</td>\n",
              "    </tr>\n",
              "    <tr>\n",
              "      <th>9997</th>\n",
              "      <td>CHINA</td>\n",
              "      <td>39269099</td>\n",
              "      <td>2019-07-15</td>\n",
              "      <td>13.92</td>\n",
              "      <td>VNCLI</td>\n",
              "    </tr>\n",
              "  </tbody>\n",
              "</table>\n",
              "<p>289 rows × 5 columns</p>\n",
              "</div>"
            ],
            "text/plain": [
              "     EXPOR_NTN_NM     HS_CD ARRVL_YRMNT  VTNM_TRAD_INVCE_AMT ARRVL_PRT_NM\n",
              "93          CHINA  39269099  2021-02-23                88.82        VNCLI\n",
              "104         CHINA  39269099  2021-02-23               255.45       VNMTCT\n",
              "193         CHINA  39269099  2021-02-22              1580.00        VNCLI\n",
              "217         CHINA  39269099  2021-02-23                28.68        VNCLI\n",
              "226         CHINA  39269099  2021-02-23               285.64        VNCLI\n",
              "...           ...       ...         ...                  ...          ...\n",
              "9883        CHINA  39269099  2019-03-12                 1.40        VNSGN\n",
              "9885        CHINA  39269099  2019-03-12               460.00        VNSGN\n",
              "9899        CHINA  39269099  2019-03-12                30.00        VNHAN\n",
              "9924        CHINA  39269099  2019-03-12             53136.72        VNGEE\n",
              "9997        CHINA  39269099  2019-07-15                13.92        VNCLI\n",
              "\n",
              "[289 rows x 5 columns]"
            ]
          },
          "metadata": {},
          "execution_count": 26
        }
      ]
    },
    {
      "cell_type": "code",
      "metadata": {
        "colab": {
          "base_uri": "https://localhost:8080/"
        },
        "id": "iywWT2-ZYcFa",
        "outputId": "9d4aa2f8-d66f-4342-b493-4a9fe0ab1fc3"
      },
      "source": [
        "outlier_idx1 = get_outlier(df=vietnam_39269099, column='VTNM_TRAD_INVCE_AMT', weight=1.5)\n",
        "vietnam_39269099.drop(outlier_idx1, axis=0, inplace=True)"
      ],
      "execution_count": 29,
      "outputs": [
        {
          "output_type": "stream",
          "name": "stderr",
          "text": [
            "/usr/local/lib/python3.7/dist-packages/pandas/core/frame.py:4174: SettingWithCopyWarning: \n",
            "A value is trying to be set on a copy of a slice from a DataFrame\n",
            "\n",
            "See the caveats in the documentation: https://pandas.pydata.org/pandas-docs/stable/user_guide/indexing.html#returning-a-view-versus-a-copy\n",
            "  errors=errors,\n"
          ]
        }
      ]
    },
    {
      "cell_type": "code",
      "metadata": {
        "colab": {
          "base_uri": "https://localhost:8080/",
          "height": 299
        },
        "id": "il_ySZShYTEj",
        "outputId": "0c5c266e-c5e9-4a32-f965-cdf1001c63d9"
      },
      "source": [
        "sns.lineplot(data=vietnam_39269099, x=\"ARRVL_YRMNT\", y=\"VTNM_TRAD_INVCE_AMT\", ci=None)"
      ],
      "execution_count": 34,
      "outputs": [
        {
          "output_type": "execute_result",
          "data": {
            "text/plain": [
              "<matplotlib.axes._subplots.AxesSubplot at 0x7f131ddbc050>"
            ]
          },
          "metadata": {},
          "execution_count": 34
        },
        {
          "output_type": "display_data",
          "data": {
            "image/png": "[encoded data removed]",
            "text/plain": [
              "<Figure size 432x288 with 1 Axes>"
            ]
          },
          "metadata": {
            "needs_background": "light"
          }
        }
      ]
    },
    {
      "cell_type": "code",
      "metadata": {
        "colab": {
          "base_uri": "https://localhost:8080/",
          "height": 363
        },
        "id": "lqo2Gfr_ZP2K",
        "outputId": "380ba764-7a0e-453d-c775-5d43f22f4489"
      },
      "source": [
        "con_df3 = pd.DataFrame(vietnam_39269099[['ARRVL_YRMNT','VTNM_TRAD_INVCE_AMT']])\n",
        "con_df3.columns = ['도착날짜', '베트남무역송장금액']\n",
        "con_df3.sort_values(by=['도착날짜'], axis=0, ascending=False, inplace=True)\n",
        "con_df3.head(10)"
      ],
      "execution_count": 39,
      "outputs": [
        {
          "output_type": "execute_result",
          "data": {
            "text/html": [
              "<div>\n",
              "<style scoped>\n",
              "    .dataframe tbody tr th:only-of-type {\n",
              "        vertical-align: middle;\n",
              "    }\n",
              "\n",
              "    .dataframe tbody tr th {\n",
              "        vertical-align: top;\n",
              "    }\n",
              "\n",
              "    .dataframe thead th {\n",
              "        text-align: right;\n",
              "    }\n",
              "</style>\n",
              "<table border=\"1\" class=\"dataframe\">\n",
              "  <thead>\n",
              "    <tr style=\"text-align: right;\">\n",
              "      <th></th>\n",
              "      <th>도착날짜</th>\n",
              "      <th>베트남무역송장금액</th>\n",
              "    </tr>\n",
              "  </thead>\n",
              "  <tbody>\n",
              "    <tr>\n",
              "      <th>93</th>\n",
              "      <td>2021-02-23</td>\n",
              "      <td>88.82</td>\n",
              "    </tr>\n",
              "    <tr>\n",
              "      <th>729</th>\n",
              "      <td>2021-02-23</td>\n",
              "      <td>40.31</td>\n",
              "    </tr>\n",
              "    <tr>\n",
              "      <th>836</th>\n",
              "      <td>2021-02-23</td>\n",
              "      <td>75.45</td>\n",
              "    </tr>\n",
              "    <tr>\n",
              "      <th>840</th>\n",
              "      <td>2021-02-23</td>\n",
              "      <td>541.00</td>\n",
              "    </tr>\n",
              "    <tr>\n",
              "      <th>854</th>\n",
              "      <td>2021-02-23</td>\n",
              "      <td>49.50</td>\n",
              "    </tr>\n",
              "    <tr>\n",
              "      <th>868</th>\n",
              "      <td>2021-02-23</td>\n",
              "      <td>367.62</td>\n",
              "    </tr>\n",
              "    <tr>\n",
              "      <th>871</th>\n",
              "      <td>2021-02-23</td>\n",
              "      <td>30.00</td>\n",
              "    </tr>\n",
              "    <tr>\n",
              "      <th>956</th>\n",
              "      <td>2021-02-23</td>\n",
              "      <td>210.00</td>\n",
              "    </tr>\n",
              "    <tr>\n",
              "      <th>983</th>\n",
              "      <td>2021-02-23</td>\n",
              "      <td>895.44</td>\n",
              "    </tr>\n",
              "    <tr>\n",
              "      <th>4662</th>\n",
              "      <td>2021-02-23</td>\n",
              "      <td>366.87</td>\n",
              "    </tr>\n",
              "  </tbody>\n",
              "</table>\n",
              "</div>"
            ],
            "text/plain": [
              "            도착날짜  베트남무역송장금액\n",
              "93    2021-02-23      88.82\n",
              "729   2021-02-23      40.31\n",
              "836   2021-02-23      75.45\n",
              "840   2021-02-23     541.00\n",
              "854   2021-02-23      49.50\n",
              "868   2021-02-23     367.62\n",
              "871   2021-02-23      30.00\n",
              "956   2021-02-23     210.00\n",
              "983   2021-02-23     895.44\n",
              "4662  2021-02-23     366.87"
            ]
          },
          "metadata": {},
          "execution_count": 39
        }
      ]
    },
    {
      "cell_type": "markdown",
      "metadata": {
        "id": "5urXRWGiaZxp"
      },
      "source": [
        "도착날짜에 중복값이 있으니 lineplot이 적합하지 않을 수도 있다는 결론이 나옴."
      ]
    },
    {
      "cell_type": "markdown",
      "metadata": {
        "id": "YbTiY8L1eQ09"
      },
      "source": [
        "# 39269099 분석"
      ]
    },
    {
      "cell_type": "code",
      "metadata": {
        "colab": {
          "base_uri": "https://localhost:8080/"
        },
        "id": "CAUqXW7gaej_",
        "outputId": "6c1e59a1-971c-4511-d94d-514530b09bfb"
      },
      "source": [
        "vietnam_39269099['ARRVL_YRMNT'].unique()"
      ],
      "execution_count": 41,
      "outputs": [
        {
          "output_type": "execute_result",
          "data": {
            "text/plain": [
              "array(['2021-02-23', '2021-02-22', '2019-05-10', '2019-07-18',\n",
              "       '2019-06-10', '2019-04-08', '2019-05-11', '2019-02-26',\n",
              "       '2019-03-19', '2019-02-07', '2019-03-07', '2019-02-05',\n",
              "       '2019-01-28', '2019-03-27', '2019-06-11', '2019-04-09',\n",
              "       '2019-07-24', '2019-05-14', '2019-07-25', '2019-06-13',\n",
              "       '2019-05-12', '2019-07-22', '2019-07-19', '2019-06-12',\n",
              "       '2019-07-17', '2019-02-03', '2019-07-27', '2019-05-16',\n",
              "       '2019-06-21', '2019-08-07', '2019-06-22', '2019-04-18',\n",
              "       '2019-05-22', '2019-04-17', '2019-08-03', '2019-05-23',\n",
              "       '2019-01-07', '2019-01-08', '2019-07-30', '2019-05-20',\n",
              "       '2019-01-10', '2019-06-18', '2019-04-16', '2019-04-15',\n",
              "       '2019-04-13', '2019-03-01', '2019-02-01', '2019-01-17',\n",
              "       '2019-03-14', '2019-01-18', '2019-03-12', '2019-07-15'],\n",
              "      dtype=object)"
            ]
          },
          "metadata": {},
          "execution_count": 41
        }
      ]
    },
    {
      "cell_type": "code",
      "metadata": {
        "colab": {
          "base_uri": "https://localhost:8080/"
        },
        "id": "WI968OIMal3f",
        "outputId": "a2276de6-ec99-4187-930c-e78787cbf34b"
      },
      "source": [
        "vietnam_39269099['ARRVL_YRMNT'].nunique()"
      ],
      "execution_count": 42,
      "outputs": [
        {
          "output_type": "execute_result",
          "data": {
            "text/plain": [
              "52"
            ]
          },
          "metadata": {},
          "execution_count": 42
        }
      ]
    },
    {
      "cell_type": "code",
      "metadata": {
        "colab": {
          "base_uri": "https://localhost:8080/",
          "height": 677
        },
        "id": "QTUP7PSsav51",
        "outputId": "563bfea9-6bc2-4f42-9d36-ef78cabaa496"
      },
      "source": [
        "con_df4 = pd.DataFrame(vietnam_39269099['ARRVL_YRMNT'].value_counts())\n",
        "con_df4['도착항구명'] = con_df4.index\n",
        "con_df4.columns = ['거래건수', '도착날짜']\n",
        "con_df4 = con_df4.reset_index().drop('index', axis=1)\n",
        "con_df4.head(20)"
      ],
      "execution_count": 53,
      "outputs": [
        {
          "output_type": "execute_result",
          "data": {
            "text/html": [
              "<div>\n",
              "<style scoped>\n",
              "    .dataframe tbody tr th:only-of-type {\n",
              "        vertical-align: middle;\n",
              "    }\n",
              "\n",
              "    .dataframe tbody tr th {\n",
              "        vertical-align: top;\n",
              "    }\n",
              "\n",
              "    .dataframe thead th {\n",
              "        text-align: right;\n",
              "    }\n",
              "</style>\n",
              "<table border=\"1\" class=\"dataframe\">\n",
              "  <thead>\n",
              "    <tr style=\"text-align: right;\">\n",
              "      <th></th>\n",
              "      <th>거래건수</th>\n",
              "      <th>도착날짜</th>\n",
              "    </tr>\n",
              "  </thead>\n",
              "  <tbody>\n",
              "    <tr>\n",
              "      <th>0</th>\n",
              "      <td>37</td>\n",
              "      <td>2021-02-23</td>\n",
              "    </tr>\n",
              "    <tr>\n",
              "      <th>1</th>\n",
              "      <td>11</td>\n",
              "      <td>2019-06-10</td>\n",
              "    </tr>\n",
              "    <tr>\n",
              "      <th>2</th>\n",
              "      <td>11</td>\n",
              "      <td>2019-01-08</td>\n",
              "    </tr>\n",
              "    <tr>\n",
              "      <th>3</th>\n",
              "      <td>9</td>\n",
              "      <td>2019-07-18</td>\n",
              "    </tr>\n",
              "    <tr>\n",
              "      <th>4</th>\n",
              "      <td>9</td>\n",
              "      <td>2019-04-17</td>\n",
              "    </tr>\n",
              "    <tr>\n",
              "      <th>5</th>\n",
              "      <td>8</td>\n",
              "      <td>2019-04-18</td>\n",
              "    </tr>\n",
              "    <tr>\n",
              "      <th>6</th>\n",
              "      <td>8</td>\n",
              "      <td>2019-06-18</td>\n",
              "    </tr>\n",
              "    <tr>\n",
              "      <th>7</th>\n",
              "      <td>7</td>\n",
              "      <td>2019-06-13</td>\n",
              "    </tr>\n",
              "    <tr>\n",
              "      <th>8</th>\n",
              "      <td>7</td>\n",
              "      <td>2019-05-10</td>\n",
              "    </tr>\n",
              "    <tr>\n",
              "      <th>9</th>\n",
              "      <td>7</td>\n",
              "      <td>2019-02-26</td>\n",
              "    </tr>\n",
              "    <tr>\n",
              "      <th>10</th>\n",
              "      <td>7</td>\n",
              "      <td>2019-07-30</td>\n",
              "    </tr>\n",
              "    <tr>\n",
              "      <th>11</th>\n",
              "      <td>6</td>\n",
              "      <td>2019-03-12</td>\n",
              "    </tr>\n",
              "    <tr>\n",
              "      <th>12</th>\n",
              "      <td>6</td>\n",
              "      <td>2019-04-08</td>\n",
              "    </tr>\n",
              "    <tr>\n",
              "      <th>13</th>\n",
              "      <td>6</td>\n",
              "      <td>2019-05-11</td>\n",
              "    </tr>\n",
              "    <tr>\n",
              "      <th>14</th>\n",
              "      <td>6</td>\n",
              "      <td>2019-01-28</td>\n",
              "    </tr>\n",
              "    <tr>\n",
              "      <th>15</th>\n",
              "      <td>6</td>\n",
              "      <td>2019-07-27</td>\n",
              "    </tr>\n",
              "    <tr>\n",
              "      <th>16</th>\n",
              "      <td>5</td>\n",
              "      <td>2019-08-07</td>\n",
              "    </tr>\n",
              "    <tr>\n",
              "      <th>17</th>\n",
              "      <td>5</td>\n",
              "      <td>2019-06-22</td>\n",
              "    </tr>\n",
              "    <tr>\n",
              "      <th>18</th>\n",
              "      <td>5</td>\n",
              "      <td>2019-01-17</td>\n",
              "    </tr>\n",
              "    <tr>\n",
              "      <th>19</th>\n",
              "      <td>5</td>\n",
              "      <td>2019-05-20</td>\n",
              "    </tr>\n",
              "  </tbody>\n",
              "</table>\n",
              "</div>"
            ],
            "text/plain": [
              "    거래건수        도착날짜\n",
              "0     37  2021-02-23\n",
              "1     11  2019-06-10\n",
              "2     11  2019-01-08\n",
              "3      9  2019-07-18\n",
              "4      9  2019-04-17\n",
              "5      8  2019-04-18\n",
              "6      8  2019-06-18\n",
              "7      7  2019-06-13\n",
              "8      7  2019-05-10\n",
              "9      7  2019-02-26\n",
              "10     7  2019-07-30\n",
              "11     6  2019-03-12\n",
              "12     6  2019-04-08\n",
              "13     6  2019-05-11\n",
              "14     6  2019-01-28\n",
              "15     6  2019-07-27\n",
              "16     5  2019-08-07\n",
              "17     5  2019-06-22\n",
              "18     5  2019-01-17\n",
              "19     5  2019-05-20"
            ]
          },
          "metadata": {},
          "execution_count": 53
        }
      ]
    },
    {
      "cell_type": "code",
      "metadata": {
        "colab": {
          "base_uri": "https://localhost:8080/",
          "height": 1000
        },
        "id": "cGqukEiPb_l5",
        "outputId": "e87cac84-1e0b-4421-f2f6-bdebdd22a953"
      },
      "source": [
        "con_df4 = con_df4.sort_values(by = '도착날짜')\n",
        "con_df4\n",
        "# creating a ts object\n",
        "# data['Order Date'] = pd.to_datetime(data['Order Date'])\n",
        "# data.index = data['Order Date']\n",
        "# data = data.resample('M').sum()"
      ],
      "execution_count": 54,
      "outputs": [
        {
          "output_type": "execute_result",
          "data": {
            "text/html": [
              "<div>\n",
              "<style scoped>\n",
              "    .dataframe tbody tr th:only-of-type {\n",
              "        vertical-align: middle;\n",
              "    }\n",
              "\n",
              "    .dataframe tbody tr th {\n",
              "        vertical-align: top;\n",
              "    }\n",
              "\n",
              "    .dataframe thead th {\n",
              "        text-align: right;\n",
              "    }\n",
              "</style>\n",
              "<table border=\"1\" class=\"dataframe\">\n",
              "  <thead>\n",
              "    <tr style=\"text-align: right;\">\n",
              "      <th></th>\n",
              "      <th>거래건수</th>\n",
              "      <th>도착날짜</th>\n",
              "    </tr>\n",
              "  </thead>\n",
              "  <tbody>\n",
              "    <tr>\n",
              "      <th>32</th>\n",
              "      <td>3</td>\n",
              "      <td>2019-01-07</td>\n",
              "    </tr>\n",
              "    <tr>\n",
              "      <th>2</th>\n",
              "      <td>11</td>\n",
              "      <td>2019-01-08</td>\n",
              "    </tr>\n",
              "    <tr>\n",
              "      <th>23</th>\n",
              "      <td>3</td>\n",
              "      <td>2019-01-10</td>\n",
              "    </tr>\n",
              "    <tr>\n",
              "      <th>18</th>\n",
              "      <td>5</td>\n",
              "      <td>2019-01-17</td>\n",
              "    </tr>\n",
              "    <tr>\n",
              "      <th>36</th>\n",
              "      <td>2</td>\n",
              "      <td>2019-01-18</td>\n",
              "    </tr>\n",
              "    <tr>\n",
              "      <th>14</th>\n",
              "      <td>6</td>\n",
              "      <td>2019-01-28</td>\n",
              "    </tr>\n",
              "    <tr>\n",
              "      <th>21</th>\n",
              "      <td>5</td>\n",
              "      <td>2019-02-01</td>\n",
              "    </tr>\n",
              "    <tr>\n",
              "      <th>31</th>\n",
              "      <td>3</td>\n",
              "      <td>2019-02-03</td>\n",
              "    </tr>\n",
              "    <tr>\n",
              "      <th>48</th>\n",
              "      <td>1</td>\n",
              "      <td>2019-02-05</td>\n",
              "    </tr>\n",
              "    <tr>\n",
              "      <th>46</th>\n",
              "      <td>1</td>\n",
              "      <td>2019-02-07</td>\n",
              "    </tr>\n",
              "    <tr>\n",
              "      <th>9</th>\n",
              "      <td>7</td>\n",
              "      <td>2019-02-26</td>\n",
              "    </tr>\n",
              "    <tr>\n",
              "      <th>25</th>\n",
              "      <td>3</td>\n",
              "      <td>2019-03-01</td>\n",
              "    </tr>\n",
              "    <tr>\n",
              "      <th>39</th>\n",
              "      <td>2</td>\n",
              "      <td>2019-03-07</td>\n",
              "    </tr>\n",
              "    <tr>\n",
              "      <th>11</th>\n",
              "      <td>6</td>\n",
              "      <td>2019-03-12</td>\n",
              "    </tr>\n",
              "    <tr>\n",
              "      <th>33</th>\n",
              "      <td>2</td>\n",
              "      <td>2019-03-14</td>\n",
              "    </tr>\n",
              "    <tr>\n",
              "      <th>20</th>\n",
              "      <td>5</td>\n",
              "      <td>2019-03-19</td>\n",
              "    </tr>\n",
              "    <tr>\n",
              "      <th>49</th>\n",
              "      <td>1</td>\n",
              "      <td>2019-03-27</td>\n",
              "    </tr>\n",
              "    <tr>\n",
              "      <th>12</th>\n",
              "      <td>6</td>\n",
              "      <td>2019-04-08</td>\n",
              "    </tr>\n",
              "    <tr>\n",
              "      <th>29</th>\n",
              "      <td>3</td>\n",
              "      <td>2019-04-09</td>\n",
              "    </tr>\n",
              "    <tr>\n",
              "      <th>30</th>\n",
              "      <td>3</td>\n",
              "      <td>2019-04-13</td>\n",
              "    </tr>\n",
              "    <tr>\n",
              "      <th>47</th>\n",
              "      <td>1</td>\n",
              "      <td>2019-04-15</td>\n",
              "    </tr>\n",
              "    <tr>\n",
              "      <th>41</th>\n",
              "      <td>2</td>\n",
              "      <td>2019-04-16</td>\n",
              "    </tr>\n",
              "    <tr>\n",
              "      <th>4</th>\n",
              "      <td>9</td>\n",
              "      <td>2019-04-17</td>\n",
              "    </tr>\n",
              "    <tr>\n",
              "      <th>5</th>\n",
              "      <td>8</td>\n",
              "      <td>2019-04-18</td>\n",
              "    </tr>\n",
              "    <tr>\n",
              "      <th>8</th>\n",
              "      <td>7</td>\n",
              "      <td>2019-05-10</td>\n",
              "    </tr>\n",
              "    <tr>\n",
              "      <th>13</th>\n",
              "      <td>6</td>\n",
              "      <td>2019-05-11</td>\n",
              "    </tr>\n",
              "    <tr>\n",
              "      <th>37</th>\n",
              "      <td>2</td>\n",
              "      <td>2019-05-12</td>\n",
              "    </tr>\n",
              "    <tr>\n",
              "      <th>42</th>\n",
              "      <td>2</td>\n",
              "      <td>2019-05-14</td>\n",
              "    </tr>\n",
              "    <tr>\n",
              "      <th>34</th>\n",
              "      <td>2</td>\n",
              "      <td>2019-05-16</td>\n",
              "    </tr>\n",
              "    <tr>\n",
              "      <th>19</th>\n",
              "      <td>5</td>\n",
              "      <td>2019-05-20</td>\n",
              "    </tr>\n",
              "    <tr>\n",
              "      <th>22</th>\n",
              "      <td>4</td>\n",
              "      <td>2019-05-22</td>\n",
              "    </tr>\n",
              "    <tr>\n",
              "      <th>38</th>\n",
              "      <td>2</td>\n",
              "      <td>2019-05-23</td>\n",
              "    </tr>\n",
              "    <tr>\n",
              "      <th>1</th>\n",
              "      <td>11</td>\n",
              "      <td>2019-06-10</td>\n",
              "    </tr>\n",
              "    <tr>\n",
              "      <th>44</th>\n",
              "      <td>2</td>\n",
              "      <td>2019-06-11</td>\n",
              "    </tr>\n",
              "    <tr>\n",
              "      <th>40</th>\n",
              "      <td>2</td>\n",
              "      <td>2019-06-12</td>\n",
              "    </tr>\n",
              "    <tr>\n",
              "      <th>7</th>\n",
              "      <td>7</td>\n",
              "      <td>2019-06-13</td>\n",
              "    </tr>\n",
              "    <tr>\n",
              "      <th>6</th>\n",
              "      <td>8</td>\n",
              "      <td>2019-06-18</td>\n",
              "    </tr>\n",
              "    <tr>\n",
              "      <th>24</th>\n",
              "      <td>3</td>\n",
              "      <td>2019-06-21</td>\n",
              "    </tr>\n",
              "    <tr>\n",
              "      <th>17</th>\n",
              "      <td>5</td>\n",
              "      <td>2019-06-22</td>\n",
              "    </tr>\n",
              "    <tr>\n",
              "      <th>51</th>\n",
              "      <td>1</td>\n",
              "      <td>2019-07-15</td>\n",
              "    </tr>\n",
              "    <tr>\n",
              "      <th>26</th>\n",
              "      <td>3</td>\n",
              "      <td>2019-07-17</td>\n",
              "    </tr>\n",
              "    <tr>\n",
              "      <th>3</th>\n",
              "      <td>9</td>\n",
              "      <td>2019-07-18</td>\n",
              "    </tr>\n",
              "    <tr>\n",
              "      <th>45</th>\n",
              "      <td>1</td>\n",
              "      <td>2019-07-19</td>\n",
              "    </tr>\n",
              "    <tr>\n",
              "      <th>50</th>\n",
              "      <td>1</td>\n",
              "      <td>2019-07-22</td>\n",
              "    </tr>\n",
              "    <tr>\n",
              "      <th>35</th>\n",
              "      <td>2</td>\n",
              "      <td>2019-07-24</td>\n",
              "    </tr>\n",
              "    <tr>\n",
              "      <th>43</th>\n",
              "      <td>2</td>\n",
              "      <td>2019-07-25</td>\n",
              "    </tr>\n",
              "    <tr>\n",
              "      <th>15</th>\n",
              "      <td>6</td>\n",
              "      <td>2019-07-27</td>\n",
              "    </tr>\n",
              "    <tr>\n",
              "      <th>10</th>\n",
              "      <td>7</td>\n",
              "      <td>2019-07-30</td>\n",
              "    </tr>\n",
              "    <tr>\n",
              "      <th>27</th>\n",
              "      <td>3</td>\n",
              "      <td>2019-08-03</td>\n",
              "    </tr>\n",
              "    <tr>\n",
              "      <th>16</th>\n",
              "      <td>5</td>\n",
              "      <td>2019-08-07</td>\n",
              "    </tr>\n",
              "    <tr>\n",
              "      <th>28</th>\n",
              "      <td>3</td>\n",
              "      <td>2021-02-22</td>\n",
              "    </tr>\n",
              "    <tr>\n",
              "      <th>0</th>\n",
              "      <td>37</td>\n",
              "      <td>2021-02-23</td>\n",
              "    </tr>\n",
              "  </tbody>\n",
              "</table>\n",
              "</div>"
            ],
            "text/plain": [
              "    거래건수        도착날짜\n",
              "32     3  2019-01-07\n",
              "2     11  2019-01-08\n",
              "23     3  2019-01-10\n",
              "18     5  2019-01-17\n",
              "36     2  2019-01-18\n",
              "14     6  2019-01-28\n",
              "21     5  2019-02-01\n",
              "31     3  2019-02-03\n",
              "48     1  2019-02-05\n",
              "46     1  2019-02-07\n",
              "9      7  2019-02-26\n",
              "25     3  2019-03-01\n",
              "39     2  2019-03-07\n",
              "11     6  2019-03-12\n",
              "33     2  2019-03-14\n",
              "20     5  2019-03-19\n",
              "49     1  2019-03-27\n",
              "12     6  2019-04-08\n",
              "29     3  2019-04-09\n",
              "30     3  2019-04-13\n",
              "47     1  2019-04-15\n",
              "41     2  2019-04-16\n",
              "4      9  2019-04-17\n",
              "5      8  2019-04-18\n",
              "8      7  2019-05-10\n",
              "13     6  2019-05-11\n",
              "37     2  2019-05-12\n",
              "42     2  2019-05-14\n",
              "34     2  2019-05-16\n",
              "19     5  2019-05-20\n",
              "22     4  2019-05-22\n",
              "38     2  2019-05-23\n",
              "1     11  2019-06-10\n",
              "44     2  2019-06-11\n",
              "40     2  2019-06-12\n",
              "7      7  2019-06-13\n",
              "6      8  2019-06-18\n",
              "24     3  2019-06-21\n",
              "17     5  2019-06-22\n",
              "51     1  2019-07-15\n",
              "26     3  2019-07-17\n",
              "3      9  2019-07-18\n",
              "45     1  2019-07-19\n",
              "50     1  2019-07-22\n",
              "35     2  2019-07-24\n",
              "43     2  2019-07-25\n",
              "15     6  2019-07-27\n",
              "10     7  2019-07-30\n",
              "27     3  2019-08-03\n",
              "16     5  2019-08-07\n",
              "28     3  2021-02-22\n",
              "0     37  2021-02-23"
            ]
          },
          "metadata": {},
          "execution_count": 54
        }
      ]
    },
    {
      "cell_type": "code",
      "metadata": {
        "colab": {
          "base_uri": "https://localhost:8080/",
          "height": 877
        },
        "id": "IN0EIZQVbNCd",
        "outputId": "0e3ffe51-da1f-42af-ab84-0f8b0017ca67"
      },
      "source": [
        "_ = sns.lineplot(data=con_df4, x=\"도착날짜\", y=\"거래건수\", ci=None)"
      ],
      "execution_count": 56,
      "outputs": [
        {
          "output_type": "stream",
          "name": "stderr",
          "text": [
            "/usr/local/lib/python3.7/dist-packages/matplotlib/backends/backend_agg.py:214: RuntimeWarning: Glyph 46020 missing from current font.\n",
            "  font.set_text(s, 0.0, flags=flags)\n",
            "/usr/local/lib/python3.7/dist-packages/matplotlib/backends/backend_agg.py:214: RuntimeWarning: Glyph 52265 missing from current font.\n",
            "  font.set_text(s, 0.0, flags=flags)\n",
            "/usr/local/lib/python3.7/dist-packages/matplotlib/backends/backend_agg.py:214: RuntimeWarning: Glyph 45216 missing from current font.\n",
            "  font.set_text(s, 0.0, flags=flags)\n",
            "/usr/local/lib/python3.7/dist-packages/matplotlib/backends/backend_agg.py:214: RuntimeWarning: Glyph 51676 missing from current font.\n",
            "  font.set_text(s, 0.0, flags=flags)\n",
            "/usr/local/lib/python3.7/dist-packages/matplotlib/backends/backend_agg.py:183: RuntimeWarning: Glyph 46020 missing from current font.\n",
            "  font.set_text(s, 0, flags=flags)\n",
            "/usr/local/lib/python3.7/dist-packages/matplotlib/backends/backend_agg.py:183: RuntimeWarning: Glyph 52265 missing from current font.\n",
            "  font.set_text(s, 0, flags=flags)\n",
            "/usr/local/lib/python3.7/dist-packages/matplotlib/backends/backend_agg.py:183: RuntimeWarning: Glyph 45216 missing from current font.\n",
            "  font.set_text(s, 0, flags=flags)\n",
            "/usr/local/lib/python3.7/dist-packages/matplotlib/backends/backend_agg.py:183: RuntimeWarning: Glyph 51676 missing from current font.\n",
            "  font.set_text(s, 0, flags=flags)\n",
            "/usr/local/lib/python3.7/dist-packages/matplotlib/backends/backend_agg.py:214: RuntimeWarning: Glyph 44144 missing from current font.\n",
            "  font.set_text(s, 0.0, flags=flags)\n",
            "/usr/local/lib/python3.7/dist-packages/matplotlib/backends/backend_agg.py:214: RuntimeWarning: Glyph 47000 missing from current font.\n",
            "  font.set_text(s, 0.0, flags=flags)\n",
            "/usr/local/lib/python3.7/dist-packages/matplotlib/backends/backend_agg.py:214: RuntimeWarning: Glyph 44148 missing from current font.\n",
            "  font.set_text(s, 0.0, flags=flags)\n",
            "/usr/local/lib/python3.7/dist-packages/matplotlib/backends/backend_agg.py:214: RuntimeWarning: Glyph 49688 missing from current font.\n",
            "  font.set_text(s, 0.0, flags=flags)\n",
            "/usr/local/lib/python3.7/dist-packages/matplotlib/backends/backend_agg.py:183: RuntimeWarning: Glyph 44144 missing from current font.\n",
            "  font.set_text(s, 0, flags=flags)\n",
            "/usr/local/lib/python3.7/dist-packages/matplotlib/backends/backend_agg.py:183: RuntimeWarning: Glyph 47000 missing from current font.\n",
            "  font.set_text(s, 0, flags=flags)\n",
            "/usr/local/lib/python3.7/dist-packages/matplotlib/backends/backend_agg.py:183: RuntimeWarning: Glyph 44148 missing from current font.\n",
            "  font.set_text(s, 0, flags=flags)\n",
            "/usr/local/lib/python3.7/dist-packages/matplotlib/backends/backend_agg.py:183: RuntimeWarning: Glyph 49688 missing from current font.\n",
            "  font.set_text(s, 0, flags=flags)\n"
          ]
        },
        {
          "output_type": "display_data",
          "data": {
            "image/png": "[encoded data removed]",
            "text/plain": [
              "<Figure size 432x288 with 1 Axes>"
            ]
          },
          "metadata": {
            "needs_background": "light"
          }
        }
      ]
    },
    {
      "cell_type": "code",
      "metadata": {
        "id": "WtxC_vEOhRIt"
      },
      "source": [
        ""
      ],
      "execution_count": null,
      "outputs": []
    },
    {
      "cell_type": "markdown",
      "metadata": {
        "id": "aNo9klUJd4Q-"
      },
      "source": [
        "HS코드가 39269099인 경우, 2021년 2월 23일에 거래건수가 가장 많았고, 이는 베트남 설 연휴에 따른 재고보관에 영향이라 볼 수 있다."
      ]
    },
    {
      "cell_type": "markdown",
      "metadata": {
        "id": "yrzE68GgeVcU"
      },
      "source": [
        "# HS코드 73269099"
      ]
    },
    {
      "cell_type": "code",
      "metadata": {
        "colab": {
          "base_uri": "https://localhost:8080/"
        },
        "id": "6_7cvfldeeqI",
        "outputId": "685d6d83-a117-4697-ee18-f0527c9491cd"
      },
      "source": [
        "vietnam_73269099 = vietnam[(vietnam['HS_CD']==73269099)]\n",
        "vietnam_73269099\n",
        "vietnam_73269099['ARRVL_YRMNT'].unique()"
      ],
      "execution_count": 58,
      "outputs": [
        {
          "output_type": "execute_result",
          "data": {
            "text/plain": [
              "array(['2021-02-23', '2019-05-10', '2019-07-18', '2019-04-08',\n",
              "       '2019-07-19', '2019-06-10', '2019-04-09', '2019-05-11',\n",
              "       '2019-02-26', '2019-03-19', '2019-01-21', '2019-01-11',\n",
              "       '2019-03-07', '2019-03-28', '2019-01-28', '2019-01-27',\n",
              "       '2019-07-24', '2019-05-14', '2019-06-13', '2019-05-15',\n",
              "       '2019-05-12', '2019-06-11', '2019-06-12', '2019-07-17',\n",
              "       '2019-07-25', '2019-06-09', '2019-03-05', '2019-02-03',\n",
              "       '2019-05-16', '2019-07-27', '2019-06-17', '2019-05-17',\n",
              "       '2019-08-07', '2019-06-22', '2019-08-03', '2019-05-23',\n",
              "       '2019-04-18', '2019-04-17', '2019-05-22', '2019-06-21',\n",
              "       '2019-01-08', '2019-05-20', '2019-06-18', '2019-07-30',\n",
              "       '2019-04-13', '2019-04-15', '2019-01-07', '2019-02-01',\n",
              "       '2019-03-01', '2019-02-15', '2019-02-16', '2019-01-17',\n",
              "       '2019-03-14', '2019-01-18', '2019-02-21', '2019-03-12',\n",
              "       '2019-01-16'], dtype=object)"
            ]
          },
          "metadata": {},
          "execution_count": 58
        }
      ]
    },
    {
      "cell_type": "code",
      "metadata": {
        "colab": {
          "base_uri": "https://localhost:8080/"
        },
        "id": "hmDDVm6vexdZ",
        "outputId": "0d4d4de7-ffac-437e-8cce-9bd29c2770c0"
      },
      "source": [
        "vietnam_73269099['ARRVL_YRMNT'].nunique()"
      ],
      "execution_count": 60,
      "outputs": [
        {
          "output_type": "execute_result",
          "data": {
            "text/plain": [
              "57"
            ]
          },
          "metadata": {},
          "execution_count": 60
        }
      ]
    },
    {
      "cell_type": "code",
      "metadata": {
        "colab": {
          "base_uri": "https://localhost:8080/",
          "height": 677
        },
        "id": "73adb3V9fBwV",
        "outputId": "a272b2b1-08c3-487d-f467-770a552d1c88"
      },
      "source": [
        "con_df5 = pd.DataFrame(vietnam_73269099['ARRVL_YRMNT'].value_counts())\n",
        "con_df5['도착항구명'] = con_df5.index\n",
        "con_df5.columns = ['거래건수', '도착날짜']\n",
        "con_df5 = con_df5.reset_index().drop('index', axis=1)\n",
        "con_df5.head(20)"
      ],
      "execution_count": 61,
      "outputs": [
        {
          "output_type": "execute_result",
          "data": {
            "text/html": [
              "<div>\n",
              "<style scoped>\n",
              "    .dataframe tbody tr th:only-of-type {\n",
              "        vertical-align: middle;\n",
              "    }\n",
              "\n",
              "    .dataframe tbody tr th {\n",
              "        vertical-align: top;\n",
              "    }\n",
              "\n",
              "    .dataframe thead th {\n",
              "        text-align: right;\n",
              "    }\n",
              "</style>\n",
              "<table border=\"1\" class=\"dataframe\">\n",
              "  <thead>\n",
              "    <tr style=\"text-align: right;\">\n",
              "      <th></th>\n",
              "      <th>거래건수</th>\n",
              "      <th>도착날짜</th>\n",
              "    </tr>\n",
              "  </thead>\n",
              "  <tbody>\n",
              "    <tr>\n",
              "      <th>0</th>\n",
              "      <td>19</td>\n",
              "      <td>2021-02-23</td>\n",
              "    </tr>\n",
              "    <tr>\n",
              "      <th>1</th>\n",
              "      <td>13</td>\n",
              "      <td>2019-06-10</td>\n",
              "    </tr>\n",
              "    <tr>\n",
              "      <th>2</th>\n",
              "      <td>10</td>\n",
              "      <td>2019-08-03</td>\n",
              "    </tr>\n",
              "    <tr>\n",
              "      <th>3</th>\n",
              "      <td>9</td>\n",
              "      <td>2019-04-08</td>\n",
              "    </tr>\n",
              "    <tr>\n",
              "      <th>4</th>\n",
              "      <td>8</td>\n",
              "      <td>2019-04-17</td>\n",
              "    </tr>\n",
              "    <tr>\n",
              "      <th>5</th>\n",
              "      <td>8</td>\n",
              "      <td>2019-05-23</td>\n",
              "    </tr>\n",
              "    <tr>\n",
              "      <th>6</th>\n",
              "      <td>7</td>\n",
              "      <td>2019-01-08</td>\n",
              "    </tr>\n",
              "    <tr>\n",
              "      <th>7</th>\n",
              "      <td>7</td>\n",
              "      <td>2019-02-03</td>\n",
              "    </tr>\n",
              "    <tr>\n",
              "      <th>8</th>\n",
              "      <td>7</td>\n",
              "      <td>2019-01-21</td>\n",
              "    </tr>\n",
              "    <tr>\n",
              "      <th>9</th>\n",
              "      <td>7</td>\n",
              "      <td>2019-03-01</td>\n",
              "    </tr>\n",
              "    <tr>\n",
              "      <th>10</th>\n",
              "      <td>6</td>\n",
              "      <td>2019-05-10</td>\n",
              "    </tr>\n",
              "    <tr>\n",
              "      <th>11</th>\n",
              "      <td>6</td>\n",
              "      <td>2019-05-14</td>\n",
              "    </tr>\n",
              "    <tr>\n",
              "      <th>12</th>\n",
              "      <td>5</td>\n",
              "      <td>2019-02-01</td>\n",
              "    </tr>\n",
              "    <tr>\n",
              "      <th>13</th>\n",
              "      <td>5</td>\n",
              "      <td>2019-05-11</td>\n",
              "    </tr>\n",
              "    <tr>\n",
              "      <th>14</th>\n",
              "      <td>5</td>\n",
              "      <td>2019-06-18</td>\n",
              "    </tr>\n",
              "    <tr>\n",
              "      <th>15</th>\n",
              "      <td>5</td>\n",
              "      <td>2019-07-18</td>\n",
              "    </tr>\n",
              "    <tr>\n",
              "      <th>16</th>\n",
              "      <td>5</td>\n",
              "      <td>2019-02-26</td>\n",
              "    </tr>\n",
              "    <tr>\n",
              "      <th>17</th>\n",
              "      <td>4</td>\n",
              "      <td>2019-08-07</td>\n",
              "    </tr>\n",
              "    <tr>\n",
              "      <th>18</th>\n",
              "      <td>4</td>\n",
              "      <td>2019-06-22</td>\n",
              "    </tr>\n",
              "    <tr>\n",
              "      <th>19</th>\n",
              "      <td>4</td>\n",
              "      <td>2019-05-20</td>\n",
              "    </tr>\n",
              "  </tbody>\n",
              "</table>\n",
              "</div>"
            ],
            "text/plain": [
              "    거래건수        도착날짜\n",
              "0     19  2021-02-23\n",
              "1     13  2019-06-10\n",
              "2     10  2019-08-03\n",
              "3      9  2019-04-08\n",
              "4      8  2019-04-17\n",
              "5      8  2019-05-23\n",
              "6      7  2019-01-08\n",
              "7      7  2019-02-03\n",
              "8      7  2019-01-21\n",
              "9      7  2019-03-01\n",
              "10     6  2019-05-10\n",
              "11     6  2019-05-14\n",
              "12     5  2019-02-01\n",
              "13     5  2019-05-11\n",
              "14     5  2019-06-18\n",
              "15     5  2019-07-18\n",
              "16     5  2019-02-26\n",
              "17     4  2019-08-07\n",
              "18     4  2019-06-22\n",
              "19     4  2019-05-20"
            ]
          },
          "metadata": {},
          "execution_count": 61
        }
      ]
    },
    {
      "cell_type": "code",
      "metadata": {
        "colab": {
          "base_uri": "https://localhost:8080/",
          "height": 1000
        },
        "id": "pRCP4cJwfSFU",
        "outputId": "bcd4301a-3772-4910-d95c-2d77450a565c"
      },
      "source": [
        "con_df5 = con_df5.sort_values(by = '도착날짜')\n",
        "con_df5"
      ],
      "execution_count": 62,
      "outputs": [
        {
          "output_type": "execute_result",
          "data": {
            "text/html": [
              "<div>\n",
              "<style scoped>\n",
              "    .dataframe tbody tr th:only-of-type {\n",
              "        vertical-align: middle;\n",
              "    }\n",
              "\n",
              "    .dataframe tbody tr th {\n",
              "        vertical-align: top;\n",
              "    }\n",
              "\n",
              "    .dataframe thead th {\n",
              "        text-align: right;\n",
              "    }\n",
              "</style>\n",
              "<table border=\"1\" class=\"dataframe\">\n",
              "  <thead>\n",
              "    <tr style=\"text-align: right;\">\n",
              "      <th></th>\n",
              "      <th>거래건수</th>\n",
              "      <th>도착날짜</th>\n",
              "    </tr>\n",
              "  </thead>\n",
              "  <tbody>\n",
              "    <tr>\n",
              "      <th>47</th>\n",
              "      <td>1</td>\n",
              "      <td>2019-01-07</td>\n",
              "    </tr>\n",
              "    <tr>\n",
              "      <th>6</th>\n",
              "      <td>7</td>\n",
              "      <td>2019-01-08</td>\n",
              "    </tr>\n",
              "    <tr>\n",
              "      <th>46</th>\n",
              "      <td>1</td>\n",
              "      <td>2019-01-11</td>\n",
              "    </tr>\n",
              "    <tr>\n",
              "      <th>55</th>\n",
              "      <td>1</td>\n",
              "      <td>2019-01-16</td>\n",
              "    </tr>\n",
              "    <tr>\n",
              "      <th>22</th>\n",
              "      <td>4</td>\n",
              "      <td>2019-01-17</td>\n",
              "    </tr>\n",
              "    <tr>\n",
              "      <th>42</th>\n",
              "      <td>1</td>\n",
              "      <td>2019-01-18</td>\n",
              "    </tr>\n",
              "    <tr>\n",
              "      <th>8</th>\n",
              "      <td>7</td>\n",
              "      <td>2019-01-21</td>\n",
              "    </tr>\n",
              "    <tr>\n",
              "      <th>48</th>\n",
              "      <td>1</td>\n",
              "      <td>2019-01-27</td>\n",
              "    </tr>\n",
              "    <tr>\n",
              "      <th>36</th>\n",
              "      <td>2</td>\n",
              "      <td>2019-01-28</td>\n",
              "    </tr>\n",
              "    <tr>\n",
              "      <th>12</th>\n",
              "      <td>5</td>\n",
              "      <td>2019-02-01</td>\n",
              "    </tr>\n",
              "    <tr>\n",
              "      <th>7</th>\n",
              "      <td>7</td>\n",
              "      <td>2019-02-03</td>\n",
              "    </tr>\n",
              "    <tr>\n",
              "      <th>45</th>\n",
              "      <td>1</td>\n",
              "      <td>2019-02-15</td>\n",
              "    </tr>\n",
              "    <tr>\n",
              "      <th>38</th>\n",
              "      <td>1</td>\n",
              "      <td>2019-02-16</td>\n",
              "    </tr>\n",
              "    <tr>\n",
              "      <th>23</th>\n",
              "      <td>3</td>\n",
              "      <td>2019-02-21</td>\n",
              "    </tr>\n",
              "    <tr>\n",
              "      <th>16</th>\n",
              "      <td>5</td>\n",
              "      <td>2019-02-26</td>\n",
              "    </tr>\n",
              "    <tr>\n",
              "      <th>9</th>\n",
              "      <td>7</td>\n",
              "      <td>2019-03-01</td>\n",
              "    </tr>\n",
              "    <tr>\n",
              "      <th>44</th>\n",
              "      <td>1</td>\n",
              "      <td>2019-03-05</td>\n",
              "    </tr>\n",
              "    <tr>\n",
              "      <th>51</th>\n",
              "      <td>1</td>\n",
              "      <td>2019-03-07</td>\n",
              "    </tr>\n",
              "    <tr>\n",
              "      <th>25</th>\n",
              "      <td>3</td>\n",
              "      <td>2019-03-12</td>\n",
              "    </tr>\n",
              "    <tr>\n",
              "      <th>50</th>\n",
              "      <td>1</td>\n",
              "      <td>2019-03-14</td>\n",
              "    </tr>\n",
              "    <tr>\n",
              "      <th>28</th>\n",
              "      <td>3</td>\n",
              "      <td>2019-03-19</td>\n",
              "    </tr>\n",
              "    <tr>\n",
              "      <th>56</th>\n",
              "      <td>1</td>\n",
              "      <td>2019-03-28</td>\n",
              "    </tr>\n",
              "    <tr>\n",
              "      <th>3</th>\n",
              "      <td>9</td>\n",
              "      <td>2019-04-08</td>\n",
              "    </tr>\n",
              "    <tr>\n",
              "      <th>33</th>\n",
              "      <td>2</td>\n",
              "      <td>2019-04-09</td>\n",
              "    </tr>\n",
              "    <tr>\n",
              "      <th>24</th>\n",
              "      <td>3</td>\n",
              "      <td>2019-04-13</td>\n",
              "    </tr>\n",
              "    <tr>\n",
              "      <th>32</th>\n",
              "      <td>2</td>\n",
              "      <td>2019-04-15</td>\n",
              "    </tr>\n",
              "    <tr>\n",
              "      <th>4</th>\n",
              "      <td>8</td>\n",
              "      <td>2019-04-17</td>\n",
              "    </tr>\n",
              "    <tr>\n",
              "      <th>29</th>\n",
              "      <td>2</td>\n",
              "      <td>2019-04-18</td>\n",
              "    </tr>\n",
              "    <tr>\n",
              "      <th>10</th>\n",
              "      <td>6</td>\n",
              "      <td>2019-05-10</td>\n",
              "    </tr>\n",
              "    <tr>\n",
              "      <th>13</th>\n",
              "      <td>5</td>\n",
              "      <td>2019-05-11</td>\n",
              "    </tr>\n",
              "    <tr>\n",
              "      <th>43</th>\n",
              "      <td>1</td>\n",
              "      <td>2019-05-12</td>\n",
              "    </tr>\n",
              "    <tr>\n",
              "      <th>11</th>\n",
              "      <td>6</td>\n",
              "      <td>2019-05-14</td>\n",
              "    </tr>\n",
              "    <tr>\n",
              "      <th>41</th>\n",
              "      <td>1</td>\n",
              "      <td>2019-05-15</td>\n",
              "    </tr>\n",
              "    <tr>\n",
              "      <th>34</th>\n",
              "      <td>2</td>\n",
              "      <td>2019-05-16</td>\n",
              "    </tr>\n",
              "    <tr>\n",
              "      <th>52</th>\n",
              "      <td>1</td>\n",
              "      <td>2019-05-17</td>\n",
              "    </tr>\n",
              "    <tr>\n",
              "      <th>19</th>\n",
              "      <td>4</td>\n",
              "      <td>2019-05-20</td>\n",
              "    </tr>\n",
              "    <tr>\n",
              "      <th>53</th>\n",
              "      <td>1</td>\n",
              "      <td>2019-05-22</td>\n",
              "    </tr>\n",
              "    <tr>\n",
              "      <th>5</th>\n",
              "      <td>8</td>\n",
              "      <td>2019-05-23</td>\n",
              "    </tr>\n",
              "    <tr>\n",
              "      <th>54</th>\n",
              "      <td>1</td>\n",
              "      <td>2019-06-09</td>\n",
              "    </tr>\n",
              "    <tr>\n",
              "      <th>1</th>\n",
              "      <td>13</td>\n",
              "      <td>2019-06-10</td>\n",
              "    </tr>\n",
              "    <tr>\n",
              "      <th>35</th>\n",
              "      <td>2</td>\n",
              "      <td>2019-06-11</td>\n",
              "    </tr>\n",
              "    <tr>\n",
              "      <th>49</th>\n",
              "      <td>1</td>\n",
              "      <td>2019-06-12</td>\n",
              "    </tr>\n",
              "    <tr>\n",
              "      <th>37</th>\n",
              "      <td>2</td>\n",
              "      <td>2019-06-13</td>\n",
              "    </tr>\n",
              "    <tr>\n",
              "      <th>30</th>\n",
              "      <td>2</td>\n",
              "      <td>2019-06-17</td>\n",
              "    </tr>\n",
              "    <tr>\n",
              "      <th>14</th>\n",
              "      <td>5</td>\n",
              "      <td>2019-06-18</td>\n",
              "    </tr>\n",
              "    <tr>\n",
              "      <th>31</th>\n",
              "      <td>2</td>\n",
              "      <td>2019-06-21</td>\n",
              "    </tr>\n",
              "    <tr>\n",
              "      <th>18</th>\n",
              "      <td>4</td>\n",
              "      <td>2019-06-22</td>\n",
              "    </tr>\n",
              "    <tr>\n",
              "      <th>27</th>\n",
              "      <td>3</td>\n",
              "      <td>2019-07-17</td>\n",
              "    </tr>\n",
              "    <tr>\n",
              "      <th>15</th>\n",
              "      <td>5</td>\n",
              "      <td>2019-07-18</td>\n",
              "    </tr>\n",
              "    <tr>\n",
              "      <th>21</th>\n",
              "      <td>4</td>\n",
              "      <td>2019-07-19</td>\n",
              "    </tr>\n",
              "    <tr>\n",
              "      <th>26</th>\n",
              "      <td>3</td>\n",
              "      <td>2019-07-24</td>\n",
              "    </tr>\n",
              "    <tr>\n",
              "      <th>39</th>\n",
              "      <td>1</td>\n",
              "      <td>2019-07-25</td>\n",
              "    </tr>\n",
              "    <tr>\n",
              "      <th>40</th>\n",
              "      <td>1</td>\n",
              "      <td>2019-07-27</td>\n",
              "    </tr>\n",
              "    <tr>\n",
              "      <th>20</th>\n",
              "      <td>4</td>\n",
              "      <td>2019-07-30</td>\n",
              "    </tr>\n",
              "    <tr>\n",
              "      <th>2</th>\n",
              "      <td>10</td>\n",
              "      <td>2019-08-03</td>\n",
              "    </tr>\n",
              "    <tr>\n",
              "      <th>17</th>\n",
              "      <td>4</td>\n",
              "      <td>2019-08-07</td>\n",
              "    </tr>\n",
              "    <tr>\n",
              "      <th>0</th>\n",
              "      <td>19</td>\n",
              "      <td>2021-02-23</td>\n",
              "    </tr>\n",
              "  </tbody>\n",
              "</table>\n",
              "</div>"
            ],
            "text/plain": [
              "    거래건수        도착날짜\n",
              "47     1  2019-01-07\n",
              "6      7  2019-01-08\n",
              "46     1  2019-01-11\n",
              "55     1  2019-01-16\n",
              "22     4  2019-01-17\n",
              "42     1  2019-01-18\n",
              "8      7  2019-01-21\n",
              "48     1  2019-01-27\n",
              "36     2  2019-01-28\n",
              "12     5  2019-02-01\n",
              "7      7  2019-02-03\n",
              "45     1  2019-02-15\n",
              "38     1  2019-02-16\n",
              "23     3  2019-02-21\n",
              "16     5  2019-02-26\n",
              "9      7  2019-03-01\n",
              "44     1  2019-03-05\n",
              "51     1  2019-03-07\n",
              "25     3  2019-03-12\n",
              "50     1  2019-03-14\n",
              "28     3  2019-03-19\n",
              "56     1  2019-03-28\n",
              "3      9  2019-04-08\n",
              "33     2  2019-04-09\n",
              "24     3  2019-04-13\n",
              "32     2  2019-04-15\n",
              "4      8  2019-04-17\n",
              "29     2  2019-04-18\n",
              "10     6  2019-05-10\n",
              "13     5  2019-05-11\n",
              "43     1  2019-05-12\n",
              "11     6  2019-05-14\n",
              "41     1  2019-05-15\n",
              "34     2  2019-05-16\n",
              "52     1  2019-05-17\n",
              "19     4  2019-05-20\n",
              "53     1  2019-05-22\n",
              "5      8  2019-05-23\n",
              "54     1  2019-06-09\n",
              "1     13  2019-06-10\n",
              "35     2  2019-06-11\n",
              "49     1  2019-06-12\n",
              "37     2  2019-06-13\n",
              "30     2  2019-06-17\n",
              "14     5  2019-06-18\n",
              "31     2  2019-06-21\n",
              "18     4  2019-06-22\n",
              "27     3  2019-07-17\n",
              "15     5  2019-07-18\n",
              "21     4  2019-07-19\n",
              "26     3  2019-07-24\n",
              "39     1  2019-07-25\n",
              "40     1  2019-07-27\n",
              "20     4  2019-07-30\n",
              "2     10  2019-08-03\n",
              "17     4  2019-08-07\n",
              "0     19  2021-02-23"
            ]
          },
          "metadata": {},
          "execution_count": 62
        }
      ]
    },
    {
      "cell_type": "markdown",
      "metadata": {
        "id": "w3QPKS38hfnR"
      },
      "source": [
        "##### 2021년 1월 28일부터 3주간 베트남은 Lockdown에 들어갔고, 계산해보면 2월 18일에 Lockdown이 끝났음을 확인함."
      ]
    },
    {
      "cell_type": "markdown",
      "metadata": {
        "id": "aTtGUM82h3m4"
      },
      "source": [
        "https://e.vnexpress.net/news/news/vietnam-imposes-series-of-lockdowns-over-covid-19-variant-4230168.html"
      ]
    },
    {
      "cell_type": "markdown",
      "metadata": {
        "id": "neppSzEiiM8j"
      },
      "source": [
        "# HS코드와 송장비용간의 관계"
      ]
    },
    {
      "cell_type": "code",
      "metadata": {
        "colab": {
          "base_uri": "https://localhost:8080/",
          "height": 363
        },
        "id": "QV6oSJ9kiVJ_",
        "outputId": "0cd40e19-45a7-4b40-f5d1-59c20ed39712"
      },
      "source": [
        "# 도착항구가 'VNCLI'인\n",
        "con_df6 = pd.DataFrame(vietnam_vncli[['HS_CD','VTNM_TRAD_INVCE_AMT']])\n",
        "con_df6.columns = ['HS코드', '베트남무역송장금액']\n",
        "con_df6.sort_values(by=['베트남무역송장금액'], axis=0, ascending=False, inplace=True)\n",
        "con_df6.head(10)"
      ],
      "execution_count": 64,
      "outputs": [
        {
          "output_type": "execute_result",
          "data": {
            "text/html": [
              "<div>\n",
              "<style scoped>\n",
              "    .dataframe tbody tr th:only-of-type {\n",
              "        vertical-align: middle;\n",
              "    }\n",
              "\n",
              "    .dataframe tbody tr th {\n",
              "        vertical-align: top;\n",
              "    }\n",
              "\n",
              "    .dataframe thead th {\n",
              "        text-align: right;\n",
              "    }\n",
              "</style>\n",
              "<table border=\"1\" class=\"dataframe\">\n",
              "  <thead>\n",
              "    <tr style=\"text-align: right;\">\n",
              "      <th></th>\n",
              "      <th>HS코드</th>\n",
              "      <th>베트남무역송장금액</th>\n",
              "    </tr>\n",
              "  </thead>\n",
              "  <tbody>\n",
              "    <tr>\n",
              "      <th>9224</th>\n",
              "      <td>55151900</td>\n",
              "      <td>8828.69</td>\n",
              "    </tr>\n",
              "    <tr>\n",
              "      <th>4681</th>\n",
              "      <td>32041190</td>\n",
              "      <td>8809.50</td>\n",
              "    </tr>\n",
              "    <tr>\n",
              "      <th>8451</th>\n",
              "      <td>32049000</td>\n",
              "      <td>8800.00</td>\n",
              "    </tr>\n",
              "    <tr>\n",
              "      <th>1431</th>\n",
              "      <td>84829100</td>\n",
              "      <td>8750.00</td>\n",
              "    </tr>\n",
              "    <tr>\n",
              "      <th>8285</th>\n",
              "      <td>84193919</td>\n",
              "      <td>8745.75</td>\n",
              "    </tr>\n",
              "    <tr>\n",
              "      <th>2983</th>\n",
              "      <td>84771039</td>\n",
              "      <td>8734.00</td>\n",
              "    </tr>\n",
              "    <tr>\n",
              "      <th>6281</th>\n",
              "      <td>73079190</td>\n",
              "      <td>8646.00</td>\n",
              "    </tr>\n",
              "    <tr>\n",
              "      <th>8908</th>\n",
              "      <td>39206210</td>\n",
              "      <td>8620.92</td>\n",
              "    </tr>\n",
              "    <tr>\n",
              "      <th>5118</th>\n",
              "      <td>85045093</td>\n",
              "      <td>8598.64</td>\n",
              "    </tr>\n",
              "    <tr>\n",
              "      <th>4438</th>\n",
              "      <td>54074200</td>\n",
              "      <td>8592.98</td>\n",
              "    </tr>\n",
              "  </tbody>\n",
              "</table>\n",
              "</div>"
            ],
            "text/plain": [
              "          HS코드  베트남무역송장금액\n",
              "9224  55151900    8828.69\n",
              "4681  32041190    8809.50\n",
              "8451  32049000    8800.00\n",
              "1431  84829100    8750.00\n",
              "8285  84193919    8745.75\n",
              "2983  84771039    8734.00\n",
              "6281  73079190    8646.00\n",
              "8908  39206210    8620.92\n",
              "5118  85045093    8598.64\n",
              "4438  54074200    8592.98"
            ]
          },
          "metadata": {},
          "execution_count": 64
        }
      ]
    },
    {
      "cell_type": "markdown",
      "metadata": {
        "id": "CCej2F47juzi"
      },
      "source": [
        "55151900 = 옷감 관련\n",
        ", 32041190 = 색소(염색)\n",
        ", 32049000 = 인공색소(식품관련)"
      ]
    },
    {
      "cell_type": "markdown",
      "metadata": {
        "id": "PXZVMMfKkwsy"
      },
      "source": [
        "HS코드를 송장금액이 높은 순으로 나열을 했을 때, 상위 값들이 옷감, 색소 등 가격대가 높지 않은 제품 위주인 것을 보면, 가격에 따른 송장금액 상승보다는 거래량이 많았던 것으로 분석됨."
      ]
    }
  ]
}