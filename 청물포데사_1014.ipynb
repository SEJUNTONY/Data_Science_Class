{
  "nbformat": 4,
  "nbformat_minor": 0,
  "metadata": {
    "colab": {
      "name": "Untitled0.ipynb",
      "provenance": [],
      "authorship_tag": "ABX9TyMN0PhPUAcNaaXrhQtzDXJT",
      "include_colab_link": true
    },
    "kernelspec": {
      "name": "python3",
      "display_name": "Python 3"
    },
    "language_info": {
      "name": "python"
    }
  },
  "cells": [
    {
      "cell_type": "markdown",
      "metadata": {
        "id": "view-in-github",
        "colab_type": "text"
      },
      "source": [
        "<a href=\"https://colab.research.google.com/github/SEJUNTONY/Data_Science_Class/blob/%ED%98%84%EB%94%94/%EC%B2%AD%EB%AC%BC%ED%8F%AC%EB%8D%B0%EC%82%AC_1014.ipynb\" target=\"_parent\"><img src=\"https://colab.research.google.com/assets/colab-badge.svg\" alt=\"Open In Colab\"/></a>"
      ]
    },
    {
      "cell_type": "code",
      "metadata": {
        "colab": {
          "base_uri": "https://localhost:8080/",
          "height": 34
        },
        "id": "i8VgtUuN6_Cl",
        "outputId": "4a76c441-f4cb-4b15-e712-3489505a1c73"
      },
      "source": [
        "import numpy as np\n",
        "import pandas as pd\n",
        "pd.__version__\n"
      ],
      "execution_count": 2,
      "outputs": [
        {
          "output_type": "execute_result",
          "data": {
            "application/vnd.google.colaboratory.intrinsic+json": {
              "type": "string"
            },
            "text/plain": [
              "'1.1.5'"
            ]
          },
          "metadata": {},
          "execution_count": 2
        }
      ]
    },
    {
      "cell_type": "code",
      "metadata": {
        "id": "aAdkxnum9XRq"
      },
      "source": [
        "s1 = pd.Series([0, 0.25, 0.5, 0.75, 1.0])"
      ],
      "execution_count": 4,
      "outputs": []
    },
    {
      "cell_type": "code",
      "metadata": {
        "colab": {
          "base_uri": "https://localhost:8080/"
        },
        "id": "xwE6l3iK90-S",
        "outputId": "f3a200e9-9e4d-4abb-83ce-d11139039e7c"
      },
      "source": [
        "s1.values"
      ],
      "execution_count": 5,
      "outputs": [
        {
          "output_type": "execute_result",
          "data": {
            "text/plain": [
              "array([0.  , 0.25, 0.5 , 0.75, 1.  ])"
            ]
          },
          "metadata": {},
          "execution_count": 5
        }
      ]
    },
    {
      "cell_type": "code",
      "metadata": {
        "colab": {
          "base_uri": "https://localhost:8080/"
        },
        "id": "jRRQMVts99N4",
        "outputId": "e5f4ca78-2de9-462a-d0d9-1c3a5fe41d3b"
      },
      "source": [
        "s1.index"
      ],
      "execution_count": 6,
      "outputs": [
        {
          "output_type": "execute_result",
          "data": {
            "text/plain": [
              "RangeIndex(start=0, stop=5, step=1)"
            ]
          },
          "metadata": {},
          "execution_count": 6
        }
      ]
    },
    {
      "cell_type": "code",
      "metadata": {
        "colab": {
          "base_uri": "https://localhost:8080/"
        },
        "id": "Z3hWEJCW-Es_",
        "outputId": "cceb64b1-32be-47bd-c499-8683a67f3da8"
      },
      "source": [
        "s1[1]"
      ],
      "execution_count": 7,
      "outputs": [
        {
          "output_type": "execute_result",
          "data": {
            "text/plain": [
              "0.25"
            ]
          },
          "metadata": {},
          "execution_count": 7
        }
      ]
    },
    {
      "cell_type": "code",
      "metadata": {
        "colab": {
          "base_uri": "https://localhost:8080/"
        },
        "id": "lhwrGlsZ-X4x",
        "outputId": "142de488-4628-47bc-b578-2f92f5debf4c"
      },
      "source": [
        "s2 = pd.Series([0,0.25,0.5,0.75,1],index=['a','b','c','d','e'])\n",
        "s2"
      ],
      "execution_count": 9,
      "outputs": [
        {
          "output_type": "execute_result",
          "data": {
            "text/plain": [
              "a    0.00\n",
              "b    0.25\n",
              "c    0.50\n",
              "d    0.75\n",
              "e    1.00\n",
              "dtype: float64"
            ]
          },
          "metadata": {},
          "execution_count": 9
        }
      ]
    },
    {
      "cell_type": "code",
      "metadata": {
        "colab": {
          "base_uri": "https://localhost:8080/"
        },
        "id": "zL2mTz7V-tiB",
        "outputId": "785f96ae-84bc-4e31-e0c3-0d734f999b44"
      },
      "source": [
        "s2['c']"
      ],
      "execution_count": 10,
      "outputs": [
        {
          "output_type": "execute_result",
          "data": {
            "text/plain": [
              "0.5"
            ]
          },
          "metadata": {},
          "execution_count": 10
        }
      ]
    },
    {
      "cell_type": "code",
      "metadata": {
        "colab": {
          "base_uri": "https://localhost:8080/"
        },
        "id": "dCHtMttI-2xa",
        "outputId": "2461f42f-1001-4673-a88d-52985d1c7f79"
      },
      "source": [
        "'b'in s2"
      ],
      "execution_count": 11,
      "outputs": [
        {
          "output_type": "execute_result",
          "data": {
            "text/plain": [
              "True"
            ]
          },
          "metadata": {},
          "execution_count": 11
        }
      ]
    },
    {
      "cell_type": "code",
      "metadata": {
        "colab": {
          "base_uri": "https://localhost:8080/"
        },
        "id": "_byxD_b2-7zT",
        "outputId": "f19508e2-a081-4049-d57b-c8d0395f3ef9"
      },
      "source": [
        "s3 = pd.Series(['정은지','지수빈','정주희','박세준','정찬호'],index=['하나','둘','셋','넷','다섯'], name='출석부')\n",
        "s3"
      ],
      "execution_count": 12,
      "outputs": [
        {
          "output_type": "execute_result",
          "data": {
            "text/plain": [
              "하나    정은지\n",
              "둘     지수빈\n",
              "셋     정주희\n",
              "넷     박세준\n",
              "다섯    정찬호\n",
              "Name: 출석부, dtype: object"
            ]
          },
          "metadata": {},
          "execution_count": 12
        }
      ]
    },
    {
      "cell_type": "code",
      "metadata": {
        "colab": {
          "base_uri": "https://localhost:8080/"
        },
        "id": "BCY1ANfC_zML",
        "outputId": "18c2c6d0-d0a5-4572-e338-c9c42356d79d"
      },
      "source": [
        "s3.unique()"
      ],
      "execution_count": 13,
      "outputs": [
        {
          "output_type": "execute_result",
          "data": {
            "text/plain": [
              "array(['정은지', '지수빈', '정주희', '박세준', '정찬호'], dtype=object)"
            ]
          },
          "metadata": {},
          "execution_count": 13
        }
      ]
    },
    {
      "cell_type": "code",
      "metadata": {
        "colab": {
          "base_uri": "https://localhost:8080/"
        },
        "id": "Otrohje7_2Mr",
        "outputId": "57c8b88b-d080-4675-eab4-6737d1f9e28f"
      },
      "source": [
        "s3 == '정찬호'"
      ],
      "execution_count": 14,
      "outputs": [
        {
          "output_type": "execute_result",
          "data": {
            "text/plain": [
              "하나    False\n",
              "둘     False\n",
              "셋     False\n",
              "넷     False\n",
              "다섯     True\n",
              "Name: 출석부, dtype: bool"
            ]
          },
          "metadata": {},
          "execution_count": 14
        }
      ]
    },
    {
      "cell_type": "code",
      "metadata": {
        "colab": {
          "base_uri": "https://localhost:8080/"
        },
        "id": "nEXRUfvyAFEj",
        "outputId": "eee7c504-5d02-4519-8c8b-8bd874d508b5"
      },
      "source": [
        "pop_tuple = {'서울특별시':9720846,\n",
        "             '부산광역시':3404423,\n",
        "             '인천광역시':2947217,\n",
        "             '대구광역시':2427954,\n",
        "             '대전광역시':1471040,\n",
        "             '광주광역시':1455048}\n",
        "population = pd.Series(pop_tuple)\n",
        "population"
      ],
      "execution_count": 15,
      "outputs": [
        {
          "output_type": "execute_result",
          "data": {
            "text/plain": [
              "서울특별시    9720846\n",
              "부산광역시    3404423\n",
              "인천광역시    2947217\n",
              "대구광역시    2427954\n",
              "대전광역시    1471040\n",
              "광주광역시    1455048\n",
              "dtype: int64"
            ]
          },
          "metadata": {},
          "execution_count": 15
        }
      ]
    },
    {
      "cell_type": "code",
      "metadata": {
        "colab": {
          "base_uri": "https://localhost:8080/",
          "height": 110
        },
        "id": "FwHXg75N-aGp",
        "outputId": "7ad2b15d-fbe5-4269-a1ec-eb331fddfc77"
      },
      "source": [
        "pd.DataFrame([{'A':2, 'B':4, 'D':3},{'A':4, 'B':5,'C':7}])"
      ],
      "execution_count": 16,
      "outputs": [
        {
          "output_type": "execute_result",
          "data": {
            "text/html": [
              "<div>\n",
              "<style scoped>\n",
              "    .dataframe tbody tr th:only-of-type {\n",
              "        vertical-align: middle;\n",
              "    }\n",
              "\n",
              "    .dataframe tbody tr th {\n",
              "        vertical-align: top;\n",
              "    }\n",
              "\n",
              "    .dataframe thead th {\n",
              "        text-align: right;\n",
              "    }\n",
              "</style>\n",
              "<table border=\"1\" class=\"dataframe\">\n",
              "  <thead>\n",
              "    <tr style=\"text-align: right;\">\n",
              "      <th></th>\n",
              "      <th>A</th>\n",
              "      <th>B</th>\n",
              "      <th>D</th>\n",
              "      <th>C</th>\n",
              "    </tr>\n",
              "  </thead>\n",
              "  <tbody>\n",
              "    <tr>\n",
              "      <th>0</th>\n",
              "      <td>2</td>\n",
              "      <td>4</td>\n",
              "      <td>3.0</td>\n",
              "      <td>NaN</td>\n",
              "    </tr>\n",
              "    <tr>\n",
              "      <th>1</th>\n",
              "      <td>4</td>\n",
              "      <td>5</td>\n",
              "      <td>NaN</td>\n",
              "      <td>7.0</td>\n",
              "    </tr>\n",
              "  </tbody>\n",
              "</table>\n",
              "</div>"
            ],
            "text/plain": [
              "   A  B    D    C\n",
              "0  2  4  3.0  NaN\n",
              "1  4  5  NaN  7.0"
            ]
          },
          "metadata": {},
          "execution_count": 16
        }
      ]
    },
    {
      "cell_type": "code",
      "metadata": {
        "colab": {
          "base_uri": "https://localhost:8080/",
          "height": 202
        },
        "id": "SaK-r7t0Bq4G",
        "outputId": "cb6081da-dc55-48c4-b959-41c8e63e7a92"
      },
      "source": [
        "pd.DataFrame(np.random.rand(5,5),\n",
        "             columns=['A','B','C','D','E'],\n",
        "             index=[1,2,3,4,5])"
      ],
      "execution_count": 17,
      "outputs": [
        {
          "output_type": "execute_result",
          "data": {
            "text/html": [
              "<div>\n",
              "<style scoped>\n",
              "    .dataframe tbody tr th:only-of-type {\n",
              "        vertical-align: middle;\n",
              "    }\n",
              "\n",
              "    .dataframe tbody tr th {\n",
              "        vertical-align: top;\n",
              "    }\n",
              "\n",
              "    .dataframe thead th {\n",
              "        text-align: right;\n",
              "    }\n",
              "</style>\n",
              "<table border=\"1\" class=\"dataframe\">\n",
              "  <thead>\n",
              "    <tr style=\"text-align: right;\">\n",
              "      <th></th>\n",
              "      <th>A</th>\n",
              "      <th>B</th>\n",
              "      <th>C</th>\n",
              "      <th>D</th>\n",
              "      <th>E</th>\n",
              "    </tr>\n",
              "  </thead>\n",
              "  <tbody>\n",
              "    <tr>\n",
              "      <th>1</th>\n",
              "      <td>0.066720</td>\n",
              "      <td>0.489053</td>\n",
              "      <td>0.335848</td>\n",
              "      <td>0.872472</td>\n",
              "      <td>0.357381</td>\n",
              "    </tr>\n",
              "    <tr>\n",
              "      <th>2</th>\n",
              "      <td>0.984576</td>\n",
              "      <td>0.774847</td>\n",
              "      <td>0.334191</td>\n",
              "      <td>0.670220</td>\n",
              "      <td>0.668559</td>\n",
              "    </tr>\n",
              "    <tr>\n",
              "      <th>3</th>\n",
              "      <td>0.544963</td>\n",
              "      <td>0.953081</td>\n",
              "      <td>0.104036</td>\n",
              "      <td>0.343521</td>\n",
              "      <td>0.312044</td>\n",
              "    </tr>\n",
              "    <tr>\n",
              "      <th>4</th>\n",
              "      <td>0.178582</td>\n",
              "      <td>0.910062</td>\n",
              "      <td>0.466343</td>\n",
              "      <td>0.042043</td>\n",
              "      <td>0.183447</td>\n",
              "    </tr>\n",
              "    <tr>\n",
              "      <th>5</th>\n",
              "      <td>0.932228</td>\n",
              "      <td>0.079091</td>\n",
              "      <td>0.108990</td>\n",
              "      <td>0.173520</td>\n",
              "      <td>0.206332</td>\n",
              "    </tr>\n",
              "  </tbody>\n",
              "</table>\n",
              "</div>"
            ],
            "text/plain": [
              "          A         B         C         D         E\n",
              "1  0.066720  0.489053  0.335848  0.872472  0.357381\n",
              "2  0.984576  0.774847  0.334191  0.670220  0.668559\n",
              "3  0.544963  0.953081  0.104036  0.343521  0.312044\n",
              "4  0.178582  0.910062  0.466343  0.042043  0.183447\n",
              "5  0.932228  0.079091  0.108990  0.173520  0.206332"
            ]
          },
          "metadata": {},
          "execution_count": 17
        }
      ]
    },
    {
      "cell_type": "code",
      "metadata": {
        "colab": {
          "base_uri": "https://localhost:8080/"
        },
        "id": "JTCKlYJKCFy8",
        "outputId": "57fc8467-04cd-406f-b4c2-7bd8f81237df"
      },
      "source": [
        "male_tuple = {'서울특별시':4732275,\n",
        "             '부산광역시':1668618,\n",
        "             '인천광역시':1476813,\n",
        "             '대구광역시':1198815,\n",
        "             '대전광역시':734441,\n",
        "             '광주광역시':720060}\n",
        "male = pd.Series(male_tuple)\n",
        "male"
      ],
      "execution_count": 18,
      "outputs": [
        {
          "output_type": "execute_result",
          "data": {
            "text/plain": [
              "서울특별시    4732275\n",
              "부산광역시    1668618\n",
              "인천광역시    1476813\n",
              "대구광역시    1198815\n",
              "대전광역시     734441\n",
              "광주광역시     720060\n",
              "dtype: int64"
            ]
          },
          "metadata": {},
          "execution_count": 18
        }
      ]
    },
    {
      "cell_type": "code",
      "metadata": {
        "colab": {
          "base_uri": "https://localhost:8080/"
        },
        "id": "gfnEJVwTCHox",
        "outputId": "b6d2d53f-8c0a-4499-fa7b-df1366cef162"
      },
      "source": [
        "female_tuple = {'서울특별시':4988571,\n",
        "             '부산광역시':1735805,\n",
        "             '인천광역시':1470404,\n",
        "             '대구광역시':1229139,\n",
        "             '대전광역시':736599,\n",
        "             '광주광역시':734988}\n",
        "female = pd.Series(female_tuple)\n",
        "female"
      ],
      "execution_count": 19,
      "outputs": [
        {
          "output_type": "execute_result",
          "data": {
            "text/plain": [
              "서울특별시    4988571\n",
              "부산광역시    1735805\n",
              "인천광역시    1470404\n",
              "대구광역시    1229139\n",
              "대전광역시     736599\n",
              "광주광역시     734988\n",
              "dtype: int64"
            ]
          },
          "metadata": {},
          "execution_count": 19
        }
      ]
    },
    {
      "cell_type": "code",
      "metadata": {
        "colab": {
          "base_uri": "https://localhost:8080/",
          "height": 232
        },
        "id": "JboQJK3UCUBV",
        "outputId": "6e0ea4b6-3249-43e0-c70c-b22bf380eb3e"
      },
      "source": [
        "korea_df = pd.DataFrame({'인구수':population,\n",
        "                        '남자인구수' : male,\n",
        "                         '여자인구수' : female})\n",
        "korea_df"
      ],
      "execution_count": 20,
      "outputs": [
        {
          "output_type": "execute_result",
          "data": {
            "text/html": [
              "<div>\n",
              "<style scoped>\n",
              "    .dataframe tbody tr th:only-of-type {\n",
              "        vertical-align: middle;\n",
              "    }\n",
              "\n",
              "    .dataframe tbody tr th {\n",
              "        vertical-align: top;\n",
              "    }\n",
              "\n",
              "    .dataframe thead th {\n",
              "        text-align: right;\n",
              "    }\n",
              "</style>\n",
              "<table border=\"1\" class=\"dataframe\">\n",
              "  <thead>\n",
              "    <tr style=\"text-align: right;\">\n",
              "      <th></th>\n",
              "      <th>인구수</th>\n",
              "      <th>남자인구수</th>\n",
              "      <th>여자인구수</th>\n",
              "    </tr>\n",
              "  </thead>\n",
              "  <tbody>\n",
              "    <tr>\n",
              "      <th>서울특별시</th>\n",
              "      <td>9720846</td>\n",
              "      <td>4732275</td>\n",
              "      <td>4988571</td>\n",
              "    </tr>\n",
              "    <tr>\n",
              "      <th>부산광역시</th>\n",
              "      <td>3404423</td>\n",
              "      <td>1668618</td>\n",
              "      <td>1735805</td>\n",
              "    </tr>\n",
              "    <tr>\n",
              "      <th>인천광역시</th>\n",
              "      <td>2947217</td>\n",
              "      <td>1476813</td>\n",
              "      <td>1470404</td>\n",
              "    </tr>\n",
              "    <tr>\n",
              "      <th>대구광역시</th>\n",
              "      <td>2427954</td>\n",
              "      <td>1198815</td>\n",
              "      <td>1229139</td>\n",
              "    </tr>\n",
              "    <tr>\n",
              "      <th>대전광역시</th>\n",
              "      <td>1471040</td>\n",
              "      <td>734441</td>\n",
              "      <td>736599</td>\n",
              "    </tr>\n",
              "    <tr>\n",
              "      <th>광주광역시</th>\n",
              "      <td>1455048</td>\n",
              "      <td>720060</td>\n",
              "      <td>734988</td>\n",
              "    </tr>\n",
              "  </tbody>\n",
              "</table>\n",
              "</div>"
            ],
            "text/plain": [
              "           인구수    남자인구수    여자인구수\n",
              "서울특별시  9720846  4732275  4988571\n",
              "부산광역시  3404423  1668618  1735805\n",
              "인천광역시  2947217  1476813  1470404\n",
              "대구광역시  2427954  1198815  1229139\n",
              "대전광역시  1471040   734441   736599\n",
              "광주광역시  1455048   720060   734988"
            ]
          },
          "metadata": {},
          "execution_count": 20
        }
      ]
    },
    {
      "cell_type": "code",
      "metadata": {
        "colab": {
          "base_uri": "https://localhost:8080/"
        },
        "id": "uRHvXO8zCl21",
        "outputId": "fdf4b707-a308-4558-bc87-437e08043edc"
      },
      "source": [
        "korea_df.index"
      ],
      "execution_count": 21,
      "outputs": [
        {
          "output_type": "execute_result",
          "data": {
            "text/plain": [
              "Index(['서울특별시', '부산광역시', '인천광역시', '대구광역시', '대전광역시', '광주광역시'], dtype='object')"
            ]
          },
          "metadata": {},
          "execution_count": 21
        }
      ]
    },
    {
      "cell_type": "code",
      "metadata": {
        "colab": {
          "base_uri": "https://localhost:8080/"
        },
        "id": "fk-20VhFC8V9",
        "outputId": "907d63cb-03d5-45de-c197-e4b92f51cacc"
      },
      "source": [
        "korea_df.columns"
      ],
      "execution_count": 22,
      "outputs": [
        {
          "output_type": "execute_result",
          "data": {
            "text/plain": [
              "Index(['인구수', '남자인구수', '여자인구수'], dtype='object')"
            ]
          },
          "metadata": {},
          "execution_count": 22
        }
      ]
    },
    {
      "cell_type": "code",
      "metadata": {
        "colab": {
          "base_uri": "https://localhost:8080/"
        },
        "id": "gl-BggXdC_FG",
        "outputId": "0152a5fd-e831-425f-a865-f343a2a84edf"
      },
      "source": [
        "korea_df['여자인구수']"
      ],
      "execution_count": 23,
      "outputs": [
        {
          "output_type": "execute_result",
          "data": {
            "text/plain": [
              "서울특별시    4988571\n",
              "부산광역시    1735805\n",
              "인천광역시    1470404\n",
              "대구광역시    1229139\n",
              "대전광역시     736599\n",
              "광주광역시     734988\n",
              "Name: 여자인구수, dtype: int64"
            ]
          },
          "metadata": {},
          "execution_count": 23
        }
      ]
    },
    {
      "cell_type": "code",
      "metadata": {
        "id": "lfaMmXDMEV1q"
      },
      "source": [
        ""
      ],
      "execution_count": null,
      "outputs": []
    },
    {
      "cell_type": "code",
      "metadata": {
        "colab": {
          "base_uri": "https://localhost:8080/"
        },
        "id": "PyFgdfT3EV8a",
        "outputId": "aa65e84f-7333-4184-f1a7-e5e23ca98645"
      },
      "source": [
        "from google.colab import drive\n",
        "drive.mount('/content/drive')"
      ],
      "execution_count": 24,
      "outputs": [
        {
          "output_type": "stream",
          "name": "stdout",
          "text": [
            "Mounted at /content/drive\n"
          ]
        }
      ]
    },
    {
      "cell_type": "code",
      "metadata": {
        "colab": {
          "base_uri": "https://localhost:8080/",
          "height": 202
        },
        "id": "PyFafISXFLW3",
        "outputId": "532be774-e2dd-4c8d-8570-e19c4def83df"
      },
      "source": [
        "filename = '/content/drive/MyDrive/부산항_2021.csv'\n",
        "seadata2 = pd.read_csv(filename)\n",
        "seadata2.head()"
      ],
      "execution_count": 26,
      "outputs": [
        {
          "output_type": "execute_result",
          "data": {
            "text/html": [
              "<div>\n",
              "<style scoped>\n",
              "    .dataframe tbody tr th:only-of-type {\n",
              "        vertical-align: middle;\n",
              "    }\n",
              "\n",
              "    .dataframe tbody tr th {\n",
              "        vertical-align: top;\n",
              "    }\n",
              "\n",
              "    .dataframe thead th {\n",
              "        text-align: right;\n",
              "    }\n",
              "</style>\n",
              "<table border=\"1\" class=\"dataframe\">\n",
              "  <thead>\n",
              "    <tr style=\"text-align: right;\">\n",
              "      <th></th>\n",
              "      <th>출항</th>\n",
              "      <th>입항</th>\n",
              "      <th>외항 입항</th>\n",
              "      <th>외항 출항</th>\n",
              "      <th>외국선 입항</th>\n",
              "      <th>외국선 출항</th>\n",
              "      <th>국적선 입항</th>\n",
              "      <th>국적선 출항</th>\n",
              "    </tr>\n",
              "  </thead>\n",
              "  <tbody>\n",
              "    <tr>\n",
              "      <th>0</th>\n",
              "      <td>18374306</td>\n",
              "      <td>16379285</td>\n",
              "      <td>16379285</td>\n",
              "      <td>18374306</td>\n",
              "      <td>30780481</td>\n",
              "      <td>14548165</td>\n",
              "      <td>1831120</td>\n",
              "      <td>2141990</td>\n",
              "    </tr>\n",
              "    <tr>\n",
              "      <th>1</th>\n",
              "      <td>17033243</td>\n",
              "      <td>14618183</td>\n",
              "      <td>14618183</td>\n",
              "      <td>17033243</td>\n",
              "      <td>27694240</td>\n",
              "      <td>12701895</td>\n",
              "      <td>1916288</td>\n",
              "      <td>2040898</td>\n",
              "    </tr>\n",
              "    <tr>\n",
              "      <th>2</th>\n",
              "      <td>19721734</td>\n",
              "      <td>17151498</td>\n",
              "      <td>17151498</td>\n",
              "      <td>19721734</td>\n",
              "      <td>32538031</td>\n",
              "      <td>14886176</td>\n",
              "      <td>2265322</td>\n",
              "      <td>2069879</td>\n",
              "    </tr>\n",
              "    <tr>\n",
              "      <th>3</th>\n",
              "      <td>18356391</td>\n",
              "      <td>18266865</td>\n",
              "      <td>18266865</td>\n",
              "      <td>18356391</td>\n",
              "      <td>32305352</td>\n",
              "      <td>16173092</td>\n",
              "      <td>2093773</td>\n",
              "      <td>2224131</td>\n",
              "    </tr>\n",
              "    <tr>\n",
              "      <th>4</th>\n",
              "      <td>19652544</td>\n",
              "      <td>17507307</td>\n",
              "      <td>17507307</td>\n",
              "      <td>19652544</td>\n",
              "      <td>32795440</td>\n",
              "      <td>15500336</td>\n",
              "      <td>2006971</td>\n",
              "      <td>2357440</td>\n",
              "    </tr>\n",
              "  </tbody>\n",
              "</table>\n",
              "</div>"
            ],
            "text/plain": [
              "         출항        입항     외항 입항     외항 출항    외국선 입항    외국선 출항   국적선 입항   국적선 출항\n",
              "0  18374306  16379285  16379285  18374306  30780481  14548165  1831120  2141990\n",
              "1  17033243  14618183  14618183  17033243  27694240  12701895  1916288  2040898\n",
              "2  19721734  17151498  17151498  19721734  32538031  14886176  2265322  2069879\n",
              "3  18356391  18266865  18266865  18356391  32305352  16173092  2093773  2224131\n",
              "4  19652544  17507307  17507307  19652544  32795440  15500336  2006971  2357440"
            ]
          },
          "metadata": {},
          "execution_count": 26
        }
      ]
    },
    {
      "cell_type": "code",
      "metadata": {
        "colab": {
          "base_uri": "https://localhost:8080/"
        },
        "id": "QpP3WuzNF17y",
        "outputId": "5a7d5f1b-c24b-4da2-a86d-aa0f0539da89"
      },
      "source": [
        "seadata2.shape"
      ],
      "execution_count": 27,
      "outputs": [
        {
          "output_type": "execute_result",
          "data": {
            "text/plain": [
              "(7, 8)"
            ]
          },
          "metadata": {},
          "execution_count": 27
        }
      ]
    },
    {
      "cell_type": "code",
      "metadata": {
        "colab": {
          "base_uri": "https://localhost:8080/"
        },
        "id": "MG-Do6pIGAk4",
        "outputId": "50f0d368-4812-4f0b-eee5-3089fa915c60"
      },
      "source": [
        "seadata2.info()"
      ],
      "execution_count": 28,
      "outputs": [
        {
          "output_type": "stream",
          "name": "stdout",
          "text": [
            "<class 'pandas.core.frame.DataFrame'>\n",
            "RangeIndex: 7 entries, 0 to 6\n",
            "Data columns (total 8 columns):\n",
            " #   Column  Non-Null Count  Dtype\n",
            "---  ------  --------------  -----\n",
            " 0   출항      7 non-null      int64\n",
            " 1   입항      7 non-null      int64\n",
            " 2   외항 입항   7 non-null      int64\n",
            " 3   외항 출항   7 non-null      int64\n",
            " 4   외국선 입항  7 non-null      int64\n",
            " 5   외국선 출항  7 non-null      int64\n",
            " 6   국적선 입항  7 non-null      int64\n",
            " 7   국적선 출항  7 non-null      int64\n",
            "dtypes: int64(8)\n",
            "memory usage: 576.0 bytes\n"
          ]
        }
      ]
    },
    {
      "cell_type": "code",
      "metadata": {
        "colab": {
          "base_uri": "https://localhost:8080/",
          "height": 294
        },
        "id": "wwtn45mLGUMP",
        "outputId": "10915192-7715-47a2-9429-43993716a00c"
      },
      "source": [
        "seadata2.describe()"
      ],
      "execution_count": 29,
      "outputs": [
        {
          "output_type": "execute_result",
          "data": {
            "text/html": [
              "<div>\n",
              "<style scoped>\n",
              "    .dataframe tbody tr th:only-of-type {\n",
              "        vertical-align: middle;\n",
              "    }\n",
              "\n",
              "    .dataframe tbody tr th {\n",
              "        vertical-align: top;\n",
              "    }\n",
              "\n",
              "    .dataframe thead th {\n",
              "        text-align: right;\n",
              "    }\n",
              "</style>\n",
              "<table border=\"1\" class=\"dataframe\">\n",
              "  <thead>\n",
              "    <tr style=\"text-align: right;\">\n",
              "      <th></th>\n",
              "      <th>출항</th>\n",
              "      <th>입항</th>\n",
              "      <th>외항 입항</th>\n",
              "      <th>외항 출항</th>\n",
              "      <th>외국선 입항</th>\n",
              "      <th>외국선 출항</th>\n",
              "      <th>국적선 입항</th>\n",
              "      <th>국적선 출항</th>\n",
              "    </tr>\n",
              "  </thead>\n",
              "  <tbody>\n",
              "    <tr>\n",
              "      <th>count</th>\n",
              "      <td>7.000000e+00</td>\n",
              "      <td>7.000000e+00</td>\n",
              "      <td>7.000000e+00</td>\n",
              "      <td>7.000000e+00</td>\n",
              "      <td>7.000000e+00</td>\n",
              "      <td>7.000000e+00</td>\n",
              "      <td>7.000000e+00</td>\n",
              "      <td>7.000000e+00</td>\n",
              "    </tr>\n",
              "    <tr>\n",
              "      <th>mean</th>\n",
              "      <td>1.876015e+07</td>\n",
              "      <td>1.702029e+07</td>\n",
              "      <td>1.702029e+07</td>\n",
              "      <td>1.876015e+07</td>\n",
              "      <td>3.151492e+07</td>\n",
              "      <td>1.494587e+07</td>\n",
              "      <td>2.074419e+06</td>\n",
              "      <td>2.191097e+06</td>\n",
              "    </tr>\n",
              "    <tr>\n",
              "      <th>std</th>\n",
              "      <td>9.419427e+05</td>\n",
              "      <td>1.208136e+06</td>\n",
              "      <td>1.208136e+06</td>\n",
              "      <td>9.419427e+05</td>\n",
              "      <td>1.803771e+06</td>\n",
              "      <td>1.113110e+06</td>\n",
              "      <td>1.920402e+05</td>\n",
              "      <td>1.973596e+05</td>\n",
              "    </tr>\n",
              "    <tr>\n",
              "      <th>min</th>\n",
              "      <td>1.703324e+07</td>\n",
              "      <td>1.461818e+07</td>\n",
              "      <td>1.461818e+07</td>\n",
              "      <td>1.703324e+07</td>\n",
              "      <td>2.769424e+07</td>\n",
              "      <td>1.270190e+07</td>\n",
              "      <td>1.831120e+06</td>\n",
              "      <td>1.970656e+06</td>\n",
              "    </tr>\n",
              "    <tr>\n",
              "      <th>25%</th>\n",
              "      <td>1.836535e+07</td>\n",
              "      <td>1.676539e+07</td>\n",
              "      <td>1.676539e+07</td>\n",
              "      <td>1.836535e+07</td>\n",
              "      <td>3.148585e+07</td>\n",
              "      <td>1.471717e+07</td>\n",
              "      <td>1.961630e+06</td>\n",
              "      <td>2.055388e+06</td>\n",
              "    </tr>\n",
              "    <tr>\n",
              "      <th>50%</th>\n",
              "      <td>1.888054e+07</td>\n",
              "      <td>1.741710e+07</td>\n",
              "      <td>1.741710e+07</td>\n",
              "      <td>1.888054e+07</td>\n",
              "      <td>3.229970e+07</td>\n",
              "      <td>1.538981e+07</td>\n",
              "      <td>2.027284e+06</td>\n",
              "      <td>2.141990e+06</td>\n",
              "    </tr>\n",
              "    <tr>\n",
              "      <th>75%</th>\n",
              "      <td>1.947742e+07</td>\n",
              "      <td>1.765455e+07</td>\n",
              "      <td>1.765455e+07</td>\n",
              "      <td>1.947742e+07</td>\n",
              "      <td>3.242169e+07</td>\n",
              "      <td>1.546097e+07</td>\n",
              "      <td>2.179548e+06</td>\n",
              "      <td>2.290786e+06</td>\n",
              "    </tr>\n",
              "    <tr>\n",
              "      <th>max</th>\n",
              "      <td>1.972173e+07</td>\n",
              "      <td>1.826686e+07</td>\n",
              "      <td>1.826686e+07</td>\n",
              "      <td>1.972173e+07</td>\n",
              "      <td>3.279544e+07</td>\n",
              "      <td>1.617309e+07</td>\n",
              "      <td>2.380176e+06</td>\n",
              "      <td>2.532688e+06</td>\n",
              "    </tr>\n",
              "  </tbody>\n",
              "</table>\n",
              "</div>"
            ],
            "text/plain": [
              "                 출항            입항  ...        국적선 입항        국적선 출항\n",
              "count  7.000000e+00  7.000000e+00  ...  7.000000e+00  7.000000e+00\n",
              "mean   1.876015e+07  1.702029e+07  ...  2.074419e+06  2.191097e+06\n",
              "std    9.419427e+05  1.208136e+06  ...  1.920402e+05  1.973596e+05\n",
              "min    1.703324e+07  1.461818e+07  ...  1.831120e+06  1.970656e+06\n",
              "25%    1.836535e+07  1.676539e+07  ...  1.961630e+06  2.055388e+06\n",
              "50%    1.888054e+07  1.741710e+07  ...  2.027284e+06  2.141990e+06\n",
              "75%    1.947742e+07  1.765455e+07  ...  2.179548e+06  2.290786e+06\n",
              "max    1.972173e+07  1.826686e+07  ...  2.380176e+06  2.532688e+06\n",
              "\n",
              "[8 rows x 8 columns]"
            ]
          },
          "metadata": {},
          "execution_count": 29
        }
      ]
    },
    {
      "cell_type": "code",
      "metadata": {
        "colab": {
          "base_uri": "https://localhost:8080/"
        },
        "id": "eYLmWdM9GmP4",
        "outputId": "4e94053d-7051-4610-ff7f-5af0c594e78e"
      },
      "source": [
        "seadata2['출항']"
      ],
      "execution_count": 30,
      "outputs": [
        {
          "output_type": "execute_result",
          "data": {
            "text/plain": [
              "0    18374306\n",
              "1    17033243\n",
              "2    19721734\n",
              "3    18356391\n",
              "4    19652544\n",
              "5    18880543\n",
              "6    19302300\n",
              "Name: 출항, dtype: int64"
            ]
          },
          "metadata": {},
          "execution_count": 30
        }
      ]
    }
  ]
}