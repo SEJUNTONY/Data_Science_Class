{
  "nbformat": 4,
  "nbformat_minor": 0,
  "metadata": {
    "colab": {
      "name": "청물포21기_데사_1102.ipynb",
      "provenance": [],
      "authorship_tag": "ABX9TyODLJlOwypQzqnxgxDvPOOF",
      "include_colab_link": true
    },
    "kernelspec": {
      "name": "python3",
      "display_name": "Python 3"
    },
    "language_info": {
      "name": "python"
    }
  },
  "cells": [
    {
      "cell_type": "markdown",
      "metadata": {
        "id": "view-in-github",
        "colab_type": "text"
      },
      "source": [
        "<a href=\"https://colab.research.google.com/github/SEJUNTONY/Data_Science_Class/blob/main/%EC%B2%AD%EB%AC%BC%ED%8F%AC21%EA%B8%B0_%EB%8D%B0%EC%82%AC_1102.ipynb\" target=\"_parent\"><img src=\"https://colab.research.google.com/assets/colab-badge.svg\" alt=\"Open In Colab\"/></a>"
      ]
    },
    {
      "cell_type": "markdown",
      "metadata": {
        "id": "LPJ6oK1FvLzD"
      },
      "source": [
        "# 청물포 21기 데이터 사이언스 (11월 3일 수요일)\n",
        "\n",
        "## 범주형 변수 & 탐색적 데이터 분석"
      ]
    },
    {
      "cell_type": "markdown",
      "metadata": {
        "id": "6NiJqEOOvppR"
      },
      "source": [
        "### 1. 라이브러리 로드"
      ]
    },
    {
      "cell_type": "code",
      "metadata": {
        "id": "-oPFBz1TvpSa"
      },
      "source": [
        "# 기본적으로 pandas, numpy, matplotlib, seaborn을 불러온다\n"
      ],
      "execution_count": null,
      "outputs": []
    },
    {
      "cell_type": "code",
      "metadata": {
        "id": "6jioL04bu9sG"
      },
      "source": [
        "# seaborn 라이브러리에 기본으로 내장된 데이터 셋을 가져온다\n"
      ],
      "execution_count": null,
      "outputs": []
    },
    {
      "cell_type": "code",
      "metadata": {
        "id": "uc4Kv4dtv-Ci"
      },
      "source": [
        "# head를 통해 데이터셋 일부만 가져온다\n"
      ],
      "execution_count": null,
      "outputs": []
    },
    {
      "cell_type": "code",
      "metadata": {
        "id": "RM4nsNpiwDDo"
      },
      "source": [
        "# tail을 통해 데이터셋 일부만 가져온다\n"
      ],
      "execution_count": null,
      "outputs": []
    },
    {
      "cell_type": "code",
      "metadata": {
        "id": "ewZjknuqwFGB"
      },
      "source": [
        "# info\n"
      ],
      "execution_count": null,
      "outputs": []
    },
    {
      "cell_type": "code",
      "metadata": {
        "id": "r7dLtiZEwG4I"
      },
      "source": [
        "# 결측치 확인\n"
      ],
      "execution_count": null,
      "outputs": []
    },
    {
      "cell_type": "code",
      "metadata": {
        "id": "-VD8t329wKn_"
      },
      "source": [
        "# object에 대한 자료들만의 기술통계 보기 (describe)\n"
      ],
      "execution_count": null,
      "outputs": []
    },
    {
      "cell_type": "markdown",
      "metadata": {
        "id": "Y7qpoCBLwgps"
      },
      "source": [
        "### 2. 범주형 변수\n",
        "\n",
        "*   범주형 데이터 유일값의 빈도수\n",
        "\n"
      ]
    },
    {
      "cell_type": "code",
      "metadata": {
        "id": "euwZZSf9wj6L"
      },
      "source": [
        "# nunique 값 보기\n"
      ],
      "execution_count": null,
      "outputs": []
    },
    {
      "cell_type": "code",
      "metadata": {
        "id": "mKwuZ7J7w19v"
      },
      "source": [
        "# countplot으로 origin 빈도수 시각화\n"
      ],
      "execution_count": null,
      "outputs": []
    },
    {
      "cell_type": "markdown",
      "metadata": {
        "id": "L-QexjnhxCwY"
      },
      "source": [
        "### 3. 1개 변수의 빈도수\n"
      ]
    },
    {
      "cell_type": "code",
      "metadata": {
        "id": "TX_k2lalxYei"
      },
      "source": [
        "# origin의 빈도수 구하기\n"
      ],
      "execution_count": null,
      "outputs": []
    },
    {
      "cell_type": "markdown",
      "metadata": {
        "id": "4ZUAZyblxevt"
      },
      "source": [
        "### 4. 2개 이상의 변수에 대한 빈도수"
      ]
    },
    {
      "cell_type": "code",
      "metadata": {
        "id": "c09du33Txieh"
      },
      "source": [
        "# countplot으로 origin의 빈도수 시각화, cylinder로 다른 색상 표현\n"
      ],
      "execution_count": null,
      "outputs": []
    },
    {
      "cell_type": "code",
      "metadata": {
        "id": "op4Tz7Grxm_X"
      },
      "source": [
        "# countplot으로 cylinder의 빈도수 시각화, origin으로 다른 색상 표현\n"
      ],
      "execution_count": null,
      "outputs": []
    },
    {
      "cell_type": "code",
      "metadata": {
        "id": "qa6l0fbJxpcP"
      },
      "source": [
        "# pd.crosstab\n"
      ],
      "execution_count": null,
      "outputs": []
    },
    {
      "cell_type": "markdown",
      "metadata": {
        "id": "n6nEqYtdyD5d"
      },
      "source": [
        "### 5. 범주형 vs 수치형 변수"
      ]
    },
    {
      "cell_type": "code",
      "metadata": {
        "id": "VWs1pzRWyGwS"
      },
      "source": [
        "# barplot으로 origin 별 mpg 값 구하기\n",
        "# 검은선 신뢰구간\n",
        "# ci = \"sd\" : 표준편차\n",
        "# 기본값 : 신뢰구간 95%\n"
      ],
      "execution_count": null,
      "outputs": []
    },
    {
      "cell_type": "code",
      "metadata": {
        "id": "YUJg8q9ZyIWo"
      },
      "source": [
        "# groupby를 통해 origin 별로 그룹화, mpg의 평균 구하기\n",
        "# 앞에는 소관호, 뒤에는 대괄호\n"
      ],
      "execution_count": null,
      "outputs": []
    },
    {
      "cell_type": "code",
      "metadata": {
        "id": "e8IZSMJSyMep"
      },
      "source": [
        "# pivot table을 통한 연산\n"
      ],
      "execution_count": null,
      "outputs": []
    },
    {
      "cell_type": "code",
      "metadata": {
        "id": "dLvFsm_kyO9g"
      },
      "source": [
        "# barplot으로 합계 구하기\n"
      ],
      "execution_count": null,
      "outputs": []
    },
    {
      "cell_type": "code",
      "metadata": {
        "id": "c0YBCDh8yR5w"
      },
      "source": [
        "# barplot에 hue를 사용하여 색상을 다르게 표현해보기\n"
      ],
      "execution_count": null,
      "outputs": []
    },
    {
      "cell_type": "code",
      "metadata": {
        "id": "ooWmAUBNyX-b"
      },
      "source": [
        "# groupby를 통해, 위 시각화에 대한 값 구하기\n"
      ],
      "execution_count": null,
      "outputs": []
    },
    {
      "cell_type": "code",
      "metadata": {
        "id": "pKtysU-dydfI"
      },
      "source": [
        "# pivot_table을 통해 위 시각화에 대한 값을 구하기\n"
      ],
      "execution_count": null,
      "outputs": []
    },
    {
      "cell_type": "code",
      "metadata": {
        "id": "zTbdTHqhyhip"
      },
      "source": [
        "# cylinders와 mpg의 x, hue 값을 변경해서 시각화\n"
      ],
      "execution_count": null,
      "outputs": []
    },
    {
      "cell_type": "markdown",
      "metadata": {
        "id": "lUn6m0Yzytcl"
      },
      "source": [
        "### 6.boxplot과 사분위수\n"
      ]
    },
    {
      "cell_type": "code",
      "metadata": {
        "id": "BDRX1IkizzwR"
      },
      "source": [
        "# boxplot으로 origin별 mpg의 기술통계 값 구하기"
      ],
      "execution_count": null,
      "outputs": []
    },
    {
      "cell_type": "code",
      "metadata": {
        "id": "82H60IGNz57L"
      },
      "source": [
        "# groupby로 origin 값에 따른 기술통계 구하기\n",
        "# 결과를 변수에 할당하여 재사용하기\n"
      ],
      "execution_count": null,
      "outputs": []
    },
    {
      "cell_type": "code",
      "metadata": {
        "id": "7eoeyk-nH5UL"
      },
      "source": [
        "# boxplot에 대한 이해"
      ],
      "execution_count": null,
      "outputs": []
    },
    {
      "cell_type": "code",
      "metadata": {
        "id": "5_EY9mVPH9P0"
      },
      "source": [
        "# 1QR, 이상치를 제외한 최댓값, 최솟값 구하기"
      ],
      "execution_count": null,
      "outputs": []
    },
    {
      "cell_type": "code",
      "metadata": {
        "id": "vOuSL28mIBLm"
      },
      "source": [
        "# boxenplot 그리기"
      ],
      "execution_count": null,
      "outputs": []
    },
    {
      "cell_type": "code",
      "metadata": {
        "id": "omnrarPCICzy"
      },
      "source": [
        "# violinplot 그리기"
      ],
      "execution_count": null,
      "outputs": []
    },
    {
      "cell_type": "markdown",
      "metadata": {
        "id": "TTwa9qdDIFz1"
      },
      "source": [
        "### 7.산점도를 통한 범주형 데이터 표현\n"
      ]
    },
    {
      "cell_type": "code",
      "metadata": {
        "id": "WRYl-XI-IJVO"
      },
      "source": [
        "# scatterplot으로 범주형 변수 그리기"
      ],
      "execution_count": null,
      "outputs": []
    },
    {
      "cell_type": "code",
      "metadata": {
        "id": "30p_3f59ILdQ"
      },
      "source": [
        "# stripplot"
      ],
      "execution_count": null,
      "outputs": []
    },
    {
      "cell_type": "code",
      "metadata": {
        "id": "BgXjRPMoIM07"
      },
      "source": [
        "# swarmplot"
      ],
      "execution_count": null,
      "outputs": []
    },
    {
      "cell_type": "code",
      "metadata": {
        "id": "GYkJkqWDIO_7"
      },
      "source": [
        "# catplot"
      ],
      "execution_count": null,
      "outputs": []
    },
    {
      "cell_type": "code",
      "metadata": {
        "id": "Sanh-2x6IQIc"
      },
      "source": [
        "# catplot으로 boxplot 그리기"
      ],
      "execution_count": null,
      "outputs": []
    },
    {
      "cell_type": "code",
      "metadata": {
        "id": "y9kIv3A_ISWg"
      },
      "source": [
        "# catplot으로 violinplot 그리기"
      ],
      "execution_count": null,
      "outputs": []
    },
    {
      "cell_type": "code",
      "metadata": {
        "id": "3ZMEdmHFIUch"
      },
      "source": [
        "# catplot으로 countplot 그리기"
      ],
      "execution_count": null,
      "outputs": []
    },
    {
      "cell_type": "code",
      "metadata": {
        "id": "SDgI181hIWZG"
      },
      "source": [
        "# catplot으로 boxplot 그리기\n",
        "# df 전체를 넣고 시각화하기"
      ],
      "execution_count": null,
      "outputs": []
    },
    {
      "cell_type": "code",
      "metadata": {
        "id": "fUns-3f8IZMY"
      },
      "source": [
        "# catplot으로 violinplot 그리기\n",
        "# df 전체를 넣고 시각화하기"
      ],
      "execution_count": null,
      "outputs": []
    }
  ]
}