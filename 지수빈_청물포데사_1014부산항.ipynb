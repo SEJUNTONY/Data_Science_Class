{
  "nbformat": 4,
  "nbformat_minor": 0,
  "metadata": {
    "colab": {
      "name": "지수빈_청물포데사_부산항.ipynb",
      "provenance": [],
      "authorship_tag": "ABX9TyNndCJX7OJmFKYcwyrIYwt0",
      "include_colab_link": true
    },
    "kernelspec": {
      "name": "python3",
      "display_name": "Python 3"
    },
    "language_info": {
      "name": "python"
    }
  },
  "cells": [
    {
      "cell_type": "markdown",
      "metadata": {
        "id": "view-in-github",
        "colab_type": "text"
      },
      "source": [
        "<a href=\"https://colab.research.google.com/github/SEJUNTONY/Data_Science_Class/blob/SOOB/%EC%A7%80%EC%88%98%EB%B9%88_%EC%B2%AD%EB%AC%BC%ED%8F%AC%EB%8D%B0%EC%82%AC_1014%EB%B6%80%EC%82%B0%ED%95%AD.ipynb\" target=\"_parent\"><img src=\"https://colab.research.google.com/assets/colab-badge.svg\" alt=\"Open In Colab\"/></a>"
      ]
    },
    {
      "cell_type": "code",
      "metadata": {
        "colab": {
          "base_uri": "https://localhost:8080/",
          "height": 35
        },
        "id": "7oqJ7zVf6uCe",
        "outputId": "cbb8c9a3-51dc-440e-d009-6c08decd913d"
      },
      "source": [
        "import numpy as np #pandas는 기본적으로 넘비를 기본으로 만들었다\n",
        "import pandas as pd\n",
        "pd.__version__ #실행은 플레이버튼 혹은 컨트롤 엔터\n",
        "#플레이 결과 판다스 버전이 나옴"
      ],
      "execution_count": 2,
      "outputs": [
        {
          "output_type": "execute_result",
          "data": {
            "application/vnd.google.colaboratory.intrinsic+json": {
              "type": "string"
            },
            "text/plain": [
              "'1.1.5'"
            ]
          },
          "metadata": {},
          "execution_count": 2
        }
      ]
    },
    {
      "cell_type": "code",
      "metadata": {
        "colab": {
          "base_uri": "https://localhost:8080/"
        },
        "id": "-Rg14miv9LiB",
        "outputId": "d5db31c3-ed65-4d5f-9267-d190867ea4d3"
      },
      "source": [
        "#코드 추가는 위 버튼 혹은 컨트롤mb\n",
        "s1=pd.Series([0,0.25,0.5,0.75,1.0]) #리스트와 같은 기능\n",
        "s1"
      ],
      "execution_count": 3,
      "outputs": [
        {
          "output_type": "execute_result",
          "data": {
            "text/plain": [
              "0    0.00\n",
              "1    0.25\n",
              "2    0.50\n",
              "3    0.75\n",
              "4    1.00\n",
              "dtype: float64"
            ]
          },
          "metadata": {},
          "execution_count": 3
        }
      ]
    },
    {
      "cell_type": "code",
      "metadata": {
        "colab": {
          "base_uri": "https://localhost:8080/"
        },
        "id": "_0XyFQt-9vuP",
        "outputId": "62dbbb63-b609-491a-b5c0-e778ef026b67"
      },
      "source": [
        "s1.index #55번째에서 멈춘다는것 4번째거밖에 없다는것"
      ],
      "execution_count": 4,
      "outputs": [
        {
          "output_type": "execute_result",
          "data": {
            "text/plain": [
              "RangeIndex(start=0, stop=5, step=1)"
            ]
          },
          "metadata": {},
          "execution_count": 4
        }
      ]
    },
    {
      "cell_type": "code",
      "metadata": {
        "id": "Oh7nPu7X-C0g"
      },
      "source": [
        ""
      ],
      "execution_count": null,
      "outputs": []
    },
    {
      "cell_type": "code",
      "metadata": {
        "colab": {
          "base_uri": "https://localhost:8080/"
        },
        "id": "JBdBjBk392Hx",
        "outputId": "8cde02a3-1a69-4c0d-b92d-c28b75fdb5de"
      },
      "source": [
        "s1.values"
      ],
      "execution_count": 5,
      "outputs": [
        {
          "output_type": "execute_result",
          "data": {
            "text/plain": [
              "array([0.  , 0.25, 0.5 , 0.75, 1.  ])"
            ]
          },
          "metadata": {},
          "execution_count": 5
        }
      ]
    },
    {
      "cell_type": "code",
      "metadata": {
        "colab": {
          "base_uri": "https://localhost:8080/"
        },
        "id": "2kC2WfFX-Dtb",
        "outputId": "2c29f3a9-8692-44f7-adae-a9d769580daa"
      },
      "source": [
        "s1[1]"
      ],
      "execution_count": 6,
      "outputs": [
        {
          "output_type": "execute_result",
          "data": {
            "text/plain": [
              "0.25"
            ]
          },
          "metadata": {},
          "execution_count": 6
        }
      ]
    },
    {
      "cell_type": "code",
      "metadata": {
        "colab": {
          "base_uri": "https://localhost:8080/"
        },
        "id": "CRrSs1qG-Kz5",
        "outputId": "f7ff468d-e149-41ba-cbeb-8292808e8d25"
      },
      "source": [
        "s2=pd.Series([0,0.25,0.5,0.75,1], index=['a','b','c','d','e'])\n",
        "s2 #둘을 매핑시켜주는 것"
      ],
      "execution_count": 8,
      "outputs": [
        {
          "output_type": "execute_result",
          "data": {
            "text/plain": [
              "a    0.00\n",
              "b    0.25\n",
              "c    0.50\n",
              "d    0.75\n",
              "e    1.00\n",
              "dtype: float64"
            ]
          },
          "metadata": {},
          "execution_count": 8
        }
      ]
    },
    {
      "cell_type": "code",
      "metadata": {
        "colab": {
          "base_uri": "https://localhost:8080/"
        },
        "id": "0FxpVqJ6-hvE",
        "outputId": "8d29cfab-10a7-4b53-b36f-f8dafcd84751"
      },
      "source": [
        "s2['c']"
      ],
      "execution_count": 9,
      "outputs": [
        {
          "output_type": "execute_result",
          "data": {
            "text/plain": [
              "0.5"
            ]
          },
          "metadata": {},
          "execution_count": 9
        }
      ]
    },
    {
      "cell_type": "code",
      "metadata": {
        "colab": {
          "base_uri": "https://localhost:8080/"
        },
        "id": "IJiqh4kT-pno",
        "outputId": "6085f3e5-3507-4401-eab8-a31c77dbf7d7"
      },
      "source": [
        "'b' in s2 #b가 s2인덱스에 존재하는가 "
      ],
      "execution_count": 12,
      "outputs": [
        {
          "output_type": "execute_result",
          "data": {
            "text/plain": [
              "True"
            ]
          },
          "metadata": {},
          "execution_count": 12
        }
      ]
    },
    {
      "cell_type": "code",
      "metadata": {
        "colab": {
          "base_uri": "https://localhost:8080/"
        },
        "id": "qEQ4V6Mi-z3I",
        "outputId": "e25d3177-fd9a-4e57-a84e-f8edbd6cb788"
      },
      "source": [
        "s3 = pd.Series(['정은지','지수빈','정주희','박세준','정찬호'],index=['하나','둘','셋','넷','다섯'], name='출석부')\n",
        "s3"
      ],
      "execution_count": 13,
      "outputs": [
        {
          "output_type": "execute_result",
          "data": {
            "text/plain": [
              "하나    정은지\n",
              "둘     지수빈\n",
              "셋     정주희\n",
              "넷     박세준\n",
              "다섯    정찬호\n",
              "Name: 출석부, dtype: object"
            ]
          },
          "metadata": {},
          "execution_count": 13
        }
      ]
    },
    {
      "cell_type": "code",
      "metadata": {
        "colab": {
          "base_uri": "https://localhost:8080/"
        },
        "id": "I-DQK5CU_Sti",
        "outputId": "f5acf544-3cbb-4366-b312-c5037fc02ba2"
      },
      "source": [
        "s3.unique() #()의 의미는 변수는 필요없다는 것 유니크는 겹치지 않는 값을 보여줌"
      ],
      "execution_count": 14,
      "outputs": [
        {
          "output_type": "execute_result",
          "data": {
            "text/plain": [
              "array(['정은지', '지수빈', '정주희', '박세준', '정찬호'], dtype=object)"
            ]
          },
          "metadata": {},
          "execution_count": 14
        }
      ]
    },
    {
      "cell_type": "code",
      "metadata": {
        "colab": {
          "base_uri": "https://localhost:8080/"
        },
        "id": "A8O4xhWo_ilM",
        "outputId": "e8b49976-999f-4545-976b-2456171ccbe1"
      },
      "source": [
        "s3 == '정찬호'"
      ],
      "execution_count": 15,
      "outputs": [
        {
          "output_type": "execute_result",
          "data": {
            "text/plain": [
              "하나    False\n",
              "둘     False\n",
              "셋     False\n",
              "넷     False\n",
              "다섯     True\n",
              "Name: 출석부, dtype: bool"
            ]
          },
          "metadata": {},
          "execution_count": 15
        }
      ]
    },
    {
      "cell_type": "code",
      "metadata": {
        "colab": {
          "base_uri": "https://localhost:8080/"
        },
        "id": "65mQAwWZ_n0w",
        "outputId": "9f1483a7-ef0a-4ab9-c4ce-604d494900c2"
      },
      "source": [
        "pop_tuple = {'서울특별시':9720846,\n",
        "             '부산광역시':3404423,\n",
        "             '인천광역시':2947217,\n",
        "             '대구광역시':2427954,\n",
        "             '대전광역시':1471040,\n",
        "             '광주광역시':1455048}\n",
        "population = pd.Series(pop_tuple)\n",
        "population #튜플과 똑같음 목차임 서울에 97~저값이 들어가있다 튜플은 중괄호사용\n",
        "#제목 먼저 쓴 후  : 하고 값 입력 pop_tuple은 그냥 변수 아무거나 써도 상관없음"
      ],
      "execution_count": 16,
      "outputs": [
        {
          "output_type": "execute_result",
          "data": {
            "text/plain": [
              "서울특별시    9720846\n",
              "부산광역시    3404423\n",
              "인천광역시    2947217\n",
              "대구광역시    2427954\n",
              "대전광역시    1471040\n",
              "광주광역시    1455048\n",
              "dtype: int64"
            ]
          },
          "metadata": {},
          "execution_count": 16
        }
      ]
    },
    {
      "cell_type": "code",
      "metadata": {
        "colab": {
          "base_uri": "https://localhost:8080/",
          "height": 110
        },
        "id": "Ooz3pDyyAoOT",
        "outputId": "a3c31c34-3b58-476d-b74b-a0bb38a80b38"
      },
      "source": [
        "#데이터프레임 이게 진짜임-2차원 표\n",
        "pd.DataFrame([{'A':2,'B':4,'D':3},{'A':4,'B':5,'C':7}]) #{}사이를 , 로 바꿔줌으로 행추가 \n",
        "#없는 부분은 NaN으로 표시\n",
        "# {}이게 튜플부분임"
      ],
      "execution_count": 18,
      "outputs": [
        {
          "output_type": "execute_result",
          "data": {
            "text/html": [
              "<div>\n",
              "<style scoped>\n",
              "    .dataframe tbody tr th:only-of-type {\n",
              "        vertical-align: middle;\n",
              "    }\n",
              "\n",
              "    .dataframe tbody tr th {\n",
              "        vertical-align: top;\n",
              "    }\n",
              "\n",
              "    .dataframe thead th {\n",
              "        text-align: right;\n",
              "    }\n",
              "</style>\n",
              "<table border=\"1\" class=\"dataframe\">\n",
              "  <thead>\n",
              "    <tr style=\"text-align: right;\">\n",
              "      <th></th>\n",
              "      <th>A</th>\n",
              "      <th>B</th>\n",
              "      <th>D</th>\n",
              "      <th>C</th>\n",
              "    </tr>\n",
              "  </thead>\n",
              "  <tbody>\n",
              "    <tr>\n",
              "      <th>0</th>\n",
              "      <td>2</td>\n",
              "      <td>4</td>\n",
              "      <td>3.0</td>\n",
              "      <td>NaN</td>\n",
              "    </tr>\n",
              "    <tr>\n",
              "      <th>1</th>\n",
              "      <td>4</td>\n",
              "      <td>5</td>\n",
              "      <td>NaN</td>\n",
              "      <td>7.0</td>\n",
              "    </tr>\n",
              "  </tbody>\n",
              "</table>\n",
              "</div>"
            ],
            "text/plain": [
              "   A  B    D    C\n",
              "0  2  4  3.0  NaN\n",
              "1  4  5  NaN  7.0"
            ]
          },
          "metadata": {},
          "execution_count": 18
        }
      ]
    },
    {
      "cell_type": "code",
      "metadata": {
        "colab": {
          "base_uri": "https://localhost:8080/",
          "height": 203
        },
        "id": "uhhzAWSlBY7B",
        "outputId": "946f4170-c321-4c02-9ebb-77dacbfa16db"
      },
      "source": [
        "pd.DataFrame(np.random.rand(5,5),\n",
        "             columns=['A','B','C','D','E'],\n",
        "             index=[1,2,3,4,5])\n",
        "#튜플형식아니어도 할 수 있음"
      ],
      "execution_count": 19,
      "outputs": [
        {
          "output_type": "execute_result",
          "data": {
            "text/html": [
              "<div>\n",
              "<style scoped>\n",
              "    .dataframe tbody tr th:only-of-type {\n",
              "        vertical-align: middle;\n",
              "    }\n",
              "\n",
              "    .dataframe tbody tr th {\n",
              "        vertical-align: top;\n",
              "    }\n",
              "\n",
              "    .dataframe thead th {\n",
              "        text-align: right;\n",
              "    }\n",
              "</style>\n",
              "<table border=\"1\" class=\"dataframe\">\n",
              "  <thead>\n",
              "    <tr style=\"text-align: right;\">\n",
              "      <th></th>\n",
              "      <th>A</th>\n",
              "      <th>B</th>\n",
              "      <th>C</th>\n",
              "      <th>D</th>\n",
              "      <th>E</th>\n",
              "    </tr>\n",
              "  </thead>\n",
              "  <tbody>\n",
              "    <tr>\n",
              "      <th>1</th>\n",
              "      <td>0.427751</td>\n",
              "      <td>0.837762</td>\n",
              "      <td>0.789557</td>\n",
              "      <td>0.132740</td>\n",
              "      <td>0.358586</td>\n",
              "    </tr>\n",
              "    <tr>\n",
              "      <th>2</th>\n",
              "      <td>0.349466</td>\n",
              "      <td>0.808043</td>\n",
              "      <td>0.039920</td>\n",
              "      <td>0.373629</td>\n",
              "      <td>0.696481</td>\n",
              "    </tr>\n",
              "    <tr>\n",
              "      <th>3</th>\n",
              "      <td>0.278750</td>\n",
              "      <td>0.336891</td>\n",
              "      <td>0.448245</td>\n",
              "      <td>0.712683</td>\n",
              "      <td>0.916065</td>\n",
              "    </tr>\n",
              "    <tr>\n",
              "      <th>4</th>\n",
              "      <td>0.728629</td>\n",
              "      <td>0.242751</td>\n",
              "      <td>0.106389</td>\n",
              "      <td>0.560701</td>\n",
              "      <td>0.059532</td>\n",
              "    </tr>\n",
              "    <tr>\n",
              "      <th>5</th>\n",
              "      <td>0.699857</td>\n",
              "      <td>0.415803</td>\n",
              "      <td>0.507433</td>\n",
              "      <td>0.656622</td>\n",
              "      <td>0.772959</td>\n",
              "    </tr>\n",
              "  </tbody>\n",
              "</table>\n",
              "</div>"
            ],
            "text/plain": [
              "          A         B         C         D         E\n",
              "1  0.427751  0.837762  0.789557  0.132740  0.358586\n",
              "2  0.349466  0.808043  0.039920  0.373629  0.696481\n",
              "3  0.278750  0.336891  0.448245  0.712683  0.916065\n",
              "4  0.728629  0.242751  0.106389  0.560701  0.059532\n",
              "5  0.699857  0.415803  0.507433  0.656622  0.772959"
            ]
          },
          "metadata": {},
          "execution_count": 19
        }
      ]
    },
    {
      "cell_type": "code",
      "metadata": {
        "colab": {
          "base_uri": "https://localhost:8080/"
        },
        "id": "pNUmCux9B6WI",
        "outputId": "3f592204-a367-4299-d14f-631cc6830306"
      },
      "source": [
        "male_tuple = {'서울특별시':4732275,\n",
        "             '부산광역시':1668618,\n",
        "             '인천광역시':1476813,\n",
        "             '대구광역시':1198815,\n",
        "             '대전광역시':734441,\n",
        "             '광주광역시':720060}\n",
        "male = pd.Series(male_tuple)\n",
        "male "
      ],
      "execution_count": 20,
      "outputs": [
        {
          "output_type": "execute_result",
          "data": {
            "text/plain": [
              "서울특별시    4732275\n",
              "부산광역시    1668618\n",
              "인천광역시    1476813\n",
              "대구광역시    1198815\n",
              "대전광역시     734441\n",
              "광주광역시     720060\n",
              "dtype: int64"
            ]
          },
          "metadata": {},
          "execution_count": 20
        }
      ]
    },
    {
      "cell_type": "code",
      "metadata": {
        "colab": {
          "base_uri": "https://localhost:8080/"
        },
        "id": "ecrnlcdEB8mN",
        "outputId": "2b52f38f-b1b6-439f-ff9a-f53ef9961459"
      },
      "source": [
        "\n",
        "female_tuple = {'서울특별시':4988571,\n",
        "             '부산광역시':1735805,\n",
        "             '인천광역시':1470404,\n",
        "             '대구광역시':1229139,\n",
        "             '대전광역시':736599,\n",
        "             '광주광역시':734988}\n",
        "female = pd.Series(female_tuple)\n",
        "female"
      ],
      "execution_count": 21,
      "outputs": [
        {
          "output_type": "execute_result",
          "data": {
            "text/plain": [
              "서울특별시    4988571\n",
              "부산광역시    1735805\n",
              "인천광역시    1470404\n",
              "대구광역시    1229139\n",
              "대전광역시     736599\n",
              "광주광역시     734988\n",
              "dtype: int64"
            ]
          },
          "metadata": {},
          "execution_count": 21
        }
      ]
    },
    {
      "cell_type": "code",
      "metadata": {
        "colab": {
          "base_uri": "https://localhost:8080/",
          "height": 234
        },
        "id": "XBO_2AEJCIYN",
        "outputId": "4e667bdd-cf16-445a-a578-116d779ce350"
      },
      "source": [
        "korea_df = pd.DataFrame({'인구수':population,\n",
        "                        '남자인구수' : male,\n",
        "                         '여자인구수' : female})\n",
        "korea_df #변수명은 의미X / 위의 튜플 형식 3개 다 합친것임!\n",
        "#인덱스달라도 오류X 추가되는데 NAN뜸! "
      ],
      "execution_count": 22,
      "outputs": [
        {
          "output_type": "execute_result",
          "data": {
            "text/html": [
              "<div>\n",
              "<style scoped>\n",
              "    .dataframe tbody tr th:only-of-type {\n",
              "        vertical-align: middle;\n",
              "    }\n",
              "\n",
              "    .dataframe tbody tr th {\n",
              "        vertical-align: top;\n",
              "    }\n",
              "\n",
              "    .dataframe thead th {\n",
              "        text-align: right;\n",
              "    }\n",
              "</style>\n",
              "<table border=\"1\" class=\"dataframe\">\n",
              "  <thead>\n",
              "    <tr style=\"text-align: right;\">\n",
              "      <th></th>\n",
              "      <th>인구수</th>\n",
              "      <th>남자인구수</th>\n",
              "      <th>여자인구수</th>\n",
              "    </tr>\n",
              "  </thead>\n",
              "  <tbody>\n",
              "    <tr>\n",
              "      <th>서울특별시</th>\n",
              "      <td>9720846</td>\n",
              "      <td>4732275</td>\n",
              "      <td>4988571</td>\n",
              "    </tr>\n",
              "    <tr>\n",
              "      <th>부산광역시</th>\n",
              "      <td>3404423</td>\n",
              "      <td>1668618</td>\n",
              "      <td>1735805</td>\n",
              "    </tr>\n",
              "    <tr>\n",
              "      <th>인천광역시</th>\n",
              "      <td>2947217</td>\n",
              "      <td>1476813</td>\n",
              "      <td>1470404</td>\n",
              "    </tr>\n",
              "    <tr>\n",
              "      <th>대구광역시</th>\n",
              "      <td>2427954</td>\n",
              "      <td>1198815</td>\n",
              "      <td>1229139</td>\n",
              "    </tr>\n",
              "    <tr>\n",
              "      <th>대전광역시</th>\n",
              "      <td>1471040</td>\n",
              "      <td>734441</td>\n",
              "      <td>736599</td>\n",
              "    </tr>\n",
              "    <tr>\n",
              "      <th>광주광역시</th>\n",
              "      <td>1455048</td>\n",
              "      <td>720060</td>\n",
              "      <td>734988</td>\n",
              "    </tr>\n",
              "  </tbody>\n",
              "</table>\n",
              "</div>"
            ],
            "text/plain": [
              "           인구수    남자인구수    여자인구수\n",
              "서울특별시  9720846  4732275  4988571\n",
              "부산광역시  3404423  1668618  1735805\n",
              "인천광역시  2947217  1476813  1470404\n",
              "대구광역시  2427954  1198815  1229139\n",
              "대전광역시  1471040   734441   736599\n",
              "광주광역시  1455048   720060   734988"
            ]
          },
          "metadata": {},
          "execution_count": 22
        }
      ]
    },
    {
      "cell_type": "code",
      "metadata": {
        "colab": {
          "base_uri": "https://localhost:8080/"
        },
        "id": "B7rnsgHbCvpS",
        "outputId": "3aafd0d0-7411-46a7-8c6f-f67b4715fe4c"
      },
      "source": [
        "korea_df.index #인덱스 이름"
      ],
      "execution_count": 24,
      "outputs": [
        {
          "output_type": "execute_result",
          "data": {
            "text/plain": [
              "Index(['서울특별시', '부산광역시', '인천광역시', '대구광역시', '대전광역시', '광주광역시'], dtype='object')"
            ]
          },
          "metadata": {},
          "execution_count": 24
        }
      ]
    },
    {
      "cell_type": "code",
      "metadata": {
        "colab": {
          "base_uri": "https://localhost:8080/"
        },
        "id": "9w5I2wJ0C2d0",
        "outputId": "4ddb9977-7ff7-4e1e-9545-a2d2e01d4ed8"
      },
      "source": [
        "korea_df.columns"
      ],
      "execution_count": 25,
      "outputs": [
        {
          "output_type": "execute_result",
          "data": {
            "text/plain": [
              "Index(['인구수', '남자인구수', '여자인구수'], dtype='object')"
            ]
          },
          "metadata": {},
          "execution_count": 25
        }
      ]
    },
    {
      "cell_type": "code",
      "metadata": {
        "colab": {
          "base_uri": "https://localhost:8080/"
        },
        "id": "fGInBKBZC4WG",
        "outputId": "25a1cf30-29cd-448c-b8a6-f3c3177190d8"
      },
      "source": [
        "korea_df['여자인구수']"
      ],
      "execution_count": 26,
      "outputs": [
        {
          "output_type": "execute_result",
          "data": {
            "text/plain": [
              "서울특별시    4988571\n",
              "부산광역시    1735805\n",
              "인천광역시    1470404\n",
              "대구광역시    1229139\n",
              "대전광역시     736599\n",
              "광주광역시     734988\n",
              "Name: 여자인구수, dtype: int64"
            ]
          },
          "metadata": {},
          "execution_count": 26
        }
      ]
    },
    {
      "cell_type": "code",
      "metadata": {
        "colab": {
          "base_uri": "https://localhost:8080/",
          "height": 142
        },
        "id": "ZS0owtNuC-Op",
        "outputId": "8de27c6b-4e70-4e6f-8089-a2e2f08390b8"
      },
      "source": [
        "korea_df['서울특별시':'인천광역시'] #서울특별시부터 인천까지!"
      ],
      "execution_count": 27,
      "outputs": [
        {
          "output_type": "execute_result",
          "data": {
            "text/html": [
              "<div>\n",
              "<style scoped>\n",
              "    .dataframe tbody tr th:only-of-type {\n",
              "        vertical-align: middle;\n",
              "    }\n",
              "\n",
              "    .dataframe tbody tr th {\n",
              "        vertical-align: top;\n",
              "    }\n",
              "\n",
              "    .dataframe thead th {\n",
              "        text-align: right;\n",
              "    }\n",
              "</style>\n",
              "<table border=\"1\" class=\"dataframe\">\n",
              "  <thead>\n",
              "    <tr style=\"text-align: right;\">\n",
              "      <th></th>\n",
              "      <th>인구수</th>\n",
              "      <th>남자인구수</th>\n",
              "      <th>여자인구수</th>\n",
              "    </tr>\n",
              "  </thead>\n",
              "  <tbody>\n",
              "    <tr>\n",
              "      <th>서울특별시</th>\n",
              "      <td>9720846</td>\n",
              "      <td>4732275</td>\n",
              "      <td>4988571</td>\n",
              "    </tr>\n",
              "    <tr>\n",
              "      <th>부산광역시</th>\n",
              "      <td>3404423</td>\n",
              "      <td>1668618</td>\n",
              "      <td>1735805</td>\n",
              "    </tr>\n",
              "    <tr>\n",
              "      <th>인천광역시</th>\n",
              "      <td>2947217</td>\n",
              "      <td>1476813</td>\n",
              "      <td>1470404</td>\n",
              "    </tr>\n",
              "  </tbody>\n",
              "</table>\n",
              "</div>"
            ],
            "text/plain": [
              "           인구수    남자인구수    여자인구수\n",
              "서울특별시  9720846  4732275  4988571\n",
              "부산광역시  3404423  1668618  1735805\n",
              "인천광역시  2947217  1476813  1470404"
            ]
          },
          "metadata": {},
          "execution_count": 27
        }
      ]
    },
    {
      "cell_type": "code",
      "metadata": {
        "colab": {
          "base_uri": "https://localhost:8080/"
        },
        "id": "4gFo0KmYDIIy",
        "outputId": "3ed6b9fa-0559-4b0e-f1f8-13b05f9b7cac"
      },
      "source": [
        "#데이터 불러오기-승인받는것 플레이되고 나오는 링크들어가서 인증\n",
        "from google.colab import drive\n",
        "drive.mount('/content/drive')"
      ],
      "execution_count": 29,
      "outputs": [
        {
          "output_type": "stream",
          "name": "stdout",
          "text": [
            "Mounted at /content/drive\n"
          ]
        }
      ]
    },
    {
      "cell_type": "code",
      "metadata": {
        "colab": {
          "base_uri": "https://localhost:8080/",
          "height": 220
        },
        "id": "MIl1bfQ1EZT_",
        "outputId": "02b02ccd-ec2e-4b66-8ce3-896004b5cc60"
      },
      "source": [
        "# 불러올 파일의 경로를 filename 변수에 저장\n",
        "filename = '/content/drive/MyDrive/부산항_2021.csv' #드라이브 내 파일 경로복사 \n",
        "# Pandas read_csv로 불러오기\n",
        "seadata2 = pd.read_csv(filename) #파일 불러오는 함수\n",
        "seadata2.head() #위에서 몇 개의 데이터를 가져올건지 기본값이 5개라서 5개가 출력된것 \n",
        "#()안에 숫자 넣으면 그 숫자만큼 데이터 출력됨"
      ],
      "execution_count": 32,
      "outputs": [
        {
          "output_type": "execute_result",
          "data": {
            "text/html": [
              "<div>\n",
              "<style scoped>\n",
              "    .dataframe tbody tr th:only-of-type {\n",
              "        vertical-align: middle;\n",
              "    }\n",
              "\n",
              "    .dataframe tbody tr th {\n",
              "        vertical-align: top;\n",
              "    }\n",
              "\n",
              "    .dataframe thead th {\n",
              "        text-align: right;\n",
              "    }\n",
              "</style>\n",
              "<table border=\"1\" class=\"dataframe\">\n",
              "  <thead>\n",
              "    <tr style=\"text-align: right;\">\n",
              "      <th></th>\n",
              "      <th>출항</th>\n",
              "      <th>입항</th>\n",
              "      <th>외항 입항</th>\n",
              "      <th>외항 출항</th>\n",
              "      <th>외국선 입항</th>\n",
              "      <th>외국선 출항</th>\n",
              "      <th>국적선 입항</th>\n",
              "      <th>국적선 출항</th>\n",
              "    </tr>\n",
              "  </thead>\n",
              "  <tbody>\n",
              "    <tr>\n",
              "      <th>0</th>\n",
              "      <td>18374306</td>\n",
              "      <td>16379285</td>\n",
              "      <td>16379285</td>\n",
              "      <td>18374306</td>\n",
              "      <td>30780481</td>\n",
              "      <td>14548165</td>\n",
              "      <td>1831120</td>\n",
              "      <td>2141990</td>\n",
              "    </tr>\n",
              "    <tr>\n",
              "      <th>1</th>\n",
              "      <td>17033243</td>\n",
              "      <td>14618183</td>\n",
              "      <td>14618183</td>\n",
              "      <td>17033243</td>\n",
              "      <td>27694240</td>\n",
              "      <td>12701895</td>\n",
              "      <td>1916288</td>\n",
              "      <td>2040898</td>\n",
              "    </tr>\n",
              "    <tr>\n",
              "      <th>2</th>\n",
              "      <td>19721734</td>\n",
              "      <td>17151498</td>\n",
              "      <td>17151498</td>\n",
              "      <td>19721734</td>\n",
              "      <td>32538031</td>\n",
              "      <td>14886176</td>\n",
              "      <td>2265322</td>\n",
              "      <td>2069879</td>\n",
              "    </tr>\n",
              "    <tr>\n",
              "      <th>3</th>\n",
              "      <td>18356391</td>\n",
              "      <td>18266865</td>\n",
              "      <td>18266865</td>\n",
              "      <td>18356391</td>\n",
              "      <td>32305352</td>\n",
              "      <td>16173092</td>\n",
              "      <td>2093773</td>\n",
              "      <td>2224131</td>\n",
              "    </tr>\n",
              "    <tr>\n",
              "      <th>4</th>\n",
              "      <td>19652544</td>\n",
              "      <td>17507307</td>\n",
              "      <td>17507307</td>\n",
              "      <td>19652544</td>\n",
              "      <td>32795440</td>\n",
              "      <td>15500336</td>\n",
              "      <td>2006971</td>\n",
              "      <td>2357440</td>\n",
              "    </tr>\n",
              "  </tbody>\n",
              "</table>\n",
              "</div>"
            ],
            "text/plain": [
              "         출항        입항     외항 입항     외항 출항    외국선 입항    외국선 출항   국적선 입항   국적선 출항\n",
              "0  18374306  16379285  16379285  18374306  30780481  14548165  1831120  2141990\n",
              "1  17033243  14618183  14618183  17033243  27694240  12701895  1916288  2040898\n",
              "2  19721734  17151498  17151498  19721734  32538031  14886176  2265322  2069879\n",
              "3  18356391  18266865  18266865  18356391  32305352  16173092  2093773  2224131\n",
              "4  19652544  17507307  17507307  19652544  32795440  15500336  2006971  2357440"
            ]
          },
          "metadata": {},
          "execution_count": 32
        }
      ]
    },
    {
      "cell_type": "code",
      "metadata": {
        "colab": {
          "base_uri": "https://localhost:8080/"
        },
        "id": "_9lXdmLJFsLx",
        "outputId": "f4aeed19-6e36-4641-8a62-489df14fbc09"
      },
      "source": [
        "seadata2.shape\n",
        "# 이 데이터에 index의 개수는 7개 #여기는 HEAD설정해서 5개만 보이는데 원래 7개임\n",
        "# Column의 개수는 8개"
      ],
      "execution_count": 33,
      "outputs": [
        {
          "output_type": "execute_result",
          "data": {
            "text/plain": [
              "(7, 8)"
            ]
          },
          "metadata": {},
          "execution_count": 33
        }
      ]
    },
    {
      "cell_type": "code",
      "metadata": {
        "colab": {
          "base_uri": "https://localhost:8080/"
        },
        "id": "gN6xlKQbFymE",
        "outputId": "f6bb3e92-7ac4-48ff-ab0c-9c43e2ed106d"
      },
      "source": [
        "seadata2.info() #분석 디타입:데이터타입 넌눌: 값에 빈값이 있으면 눌 아니면 넌눌 \n",
        "#데이터가 방대해지면 어디서 결측이 생기는지 확인할 수 있음"
      ],
      "execution_count": 34,
      "outputs": [
        {
          "output_type": "stream",
          "name": "stdout",
          "text": [
            "<class 'pandas.core.frame.DataFrame'>\n",
            "RangeIndex: 7 entries, 0 to 6\n",
            "Data columns (total 8 columns):\n",
            " #   Column  Non-Null Count  Dtype\n",
            "---  ------  --------------  -----\n",
            " 0   출항      7 non-null      int64\n",
            " 1   입항      7 non-null      int64\n",
            " 2   외항 입항   7 non-null      int64\n",
            " 3   외항 출항   7 non-null      int64\n",
            " 4   외국선 입항  7 non-null      int64\n",
            " 5   외국선 출항  7 non-null      int64\n",
            " 6   국적선 입항  7 non-null      int64\n",
            " 7   국적선 출항  7 non-null      int64\n",
            "dtypes: int64(8)\n",
            "memory usage: 576.0 bytes\n"
          ]
        }
      ]
    },
    {
      "cell_type": "code",
      "metadata": {
        "colab": {
          "base_uri": "https://localhost:8080/",
          "height": 315
        },
        "id": "2qR-_Rb_FYC1",
        "outputId": "91085fa5-fed7-46e4-e3a3-e2369ee66e01"
      },
      "source": [
        "\n",
        "seadata2.describe() #통계치 계산\n",
        "#카운트:데이터개수 민은 평균 @STD 표준편차"
      ],
      "execution_count": 35,
      "outputs": [
        {
          "output_type": "execute_result",
          "data": {
            "text/html": [
              "<div>\n",
              "<style scoped>\n",
              "    .dataframe tbody tr th:only-of-type {\n",
              "        vertical-align: middle;\n",
              "    }\n",
              "\n",
              "    .dataframe tbody tr th {\n",
              "        vertical-align: top;\n",
              "    }\n",
              "\n",
              "    .dataframe thead th {\n",
              "        text-align: right;\n",
              "    }\n",
              "</style>\n",
              "<table border=\"1\" class=\"dataframe\">\n",
              "  <thead>\n",
              "    <tr style=\"text-align: right;\">\n",
              "      <th></th>\n",
              "      <th>출항</th>\n",
              "      <th>입항</th>\n",
              "      <th>외항 입항</th>\n",
              "      <th>외항 출항</th>\n",
              "      <th>외국선 입항</th>\n",
              "      <th>외국선 출항</th>\n",
              "      <th>국적선 입항</th>\n",
              "      <th>국적선 출항</th>\n",
              "    </tr>\n",
              "  </thead>\n",
              "  <tbody>\n",
              "    <tr>\n",
              "      <th>count</th>\n",
              "      <td>7.000000e+00</td>\n",
              "      <td>7.000000e+00</td>\n",
              "      <td>7.000000e+00</td>\n",
              "      <td>7.000000e+00</td>\n",
              "      <td>7.000000e+00</td>\n",
              "      <td>7.000000e+00</td>\n",
              "      <td>7.000000e+00</td>\n",
              "      <td>7.000000e+00</td>\n",
              "    </tr>\n",
              "    <tr>\n",
              "      <th>mean</th>\n",
              "      <td>1.876015e+07</td>\n",
              "      <td>1.702029e+07</td>\n",
              "      <td>1.702029e+07</td>\n",
              "      <td>1.876015e+07</td>\n",
              "      <td>3.151492e+07</td>\n",
              "      <td>1.494587e+07</td>\n",
              "      <td>2.074419e+06</td>\n",
              "      <td>2.191097e+06</td>\n",
              "    </tr>\n",
              "    <tr>\n",
              "      <th>std</th>\n",
              "      <td>9.419427e+05</td>\n",
              "      <td>1.208136e+06</td>\n",
              "      <td>1.208136e+06</td>\n",
              "      <td>9.419427e+05</td>\n",
              "      <td>1.803771e+06</td>\n",
              "      <td>1.113110e+06</td>\n",
              "      <td>1.920402e+05</td>\n",
              "      <td>1.973596e+05</td>\n",
              "    </tr>\n",
              "    <tr>\n",
              "      <th>min</th>\n",
              "      <td>1.703324e+07</td>\n",
              "      <td>1.461818e+07</td>\n",
              "      <td>1.461818e+07</td>\n",
              "      <td>1.703324e+07</td>\n",
              "      <td>2.769424e+07</td>\n",
              "      <td>1.270190e+07</td>\n",
              "      <td>1.831120e+06</td>\n",
              "      <td>1.970656e+06</td>\n",
              "    </tr>\n",
              "    <tr>\n",
              "      <th>25%</th>\n",
              "      <td>1.836535e+07</td>\n",
              "      <td>1.676539e+07</td>\n",
              "      <td>1.676539e+07</td>\n",
              "      <td>1.836535e+07</td>\n",
              "      <td>3.148585e+07</td>\n",
              "      <td>1.471717e+07</td>\n",
              "      <td>1.961630e+06</td>\n",
              "      <td>2.055388e+06</td>\n",
              "    </tr>\n",
              "    <tr>\n",
              "      <th>50%</th>\n",
              "      <td>1.888054e+07</td>\n",
              "      <td>1.741710e+07</td>\n",
              "      <td>1.741710e+07</td>\n",
              "      <td>1.888054e+07</td>\n",
              "      <td>3.229970e+07</td>\n",
              "      <td>1.538981e+07</td>\n",
              "      <td>2.027284e+06</td>\n",
              "      <td>2.141990e+06</td>\n",
              "    </tr>\n",
              "    <tr>\n",
              "      <th>75%</th>\n",
              "      <td>1.947742e+07</td>\n",
              "      <td>1.765455e+07</td>\n",
              "      <td>1.765455e+07</td>\n",
              "      <td>1.947742e+07</td>\n",
              "      <td>3.242169e+07</td>\n",
              "      <td>1.546097e+07</td>\n",
              "      <td>2.179548e+06</td>\n",
              "      <td>2.290786e+06</td>\n",
              "    </tr>\n",
              "    <tr>\n",
              "      <th>max</th>\n",
              "      <td>1.972173e+07</td>\n",
              "      <td>1.826686e+07</td>\n",
              "      <td>1.826686e+07</td>\n",
              "      <td>1.972173e+07</td>\n",
              "      <td>3.279544e+07</td>\n",
              "      <td>1.617309e+07</td>\n",
              "      <td>2.380176e+06</td>\n",
              "      <td>2.532688e+06</td>\n",
              "    </tr>\n",
              "  </tbody>\n",
              "</table>\n",
              "</div>"
            ],
            "text/plain": [
              "                 출항            입항  ...        국적선 입항        국적선 출항\n",
              "count  7.000000e+00  7.000000e+00  ...  7.000000e+00  7.000000e+00\n",
              "mean   1.876015e+07  1.702029e+07  ...  2.074419e+06  2.191097e+06\n",
              "std    9.419427e+05  1.208136e+06  ...  1.920402e+05  1.973596e+05\n",
              "min    1.703324e+07  1.461818e+07  ...  1.831120e+06  1.970656e+06\n",
              "25%    1.836535e+07  1.676539e+07  ...  1.961630e+06  2.055388e+06\n",
              "50%    1.888054e+07  1.741710e+07  ...  2.027284e+06  2.141990e+06\n",
              "75%    1.947742e+07  1.765455e+07  ...  2.179548e+06  2.290786e+06\n",
              "max    1.972173e+07  1.826686e+07  ...  2.380176e+06  2.532688e+06\n",
              "\n",
              "[8 rows x 8 columns]"
            ]
          },
          "metadata": {},
          "execution_count": 35
        }
      ]
    },
    {
      "cell_type": "code",
      "metadata": {
        "id": "2wSCOi13HXPT"
      },
      "source": [
        ""
      ],
      "execution_count": null,
      "outputs": []
    },
    {
      "cell_type": "markdown",
      "metadata": {
        "id": "zbvdK2ZfEJhK"
      },
      "source": [
        "`"
      ]
    }
  ]
}