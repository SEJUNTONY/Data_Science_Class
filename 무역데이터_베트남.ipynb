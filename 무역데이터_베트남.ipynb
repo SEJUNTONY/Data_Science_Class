{
  "nbformat": 4,
  "nbformat_minor": 0,
  "metadata": {
    "colab": {
      "name": "무역데이터_베트남.ipynb",
      "provenance": [],
      "include_colab_link": true
    },
    "kernelspec": {
      "name": "python3",
      "display_name": "Python 3"
    },
    "language_info": {
      "name": "python"
    }
  },
  "cells": [
    {
      "cell_type": "markdown",
      "metadata": {
        "id": "view-in-github",
        "colab_type": "text"
      },
      "source": [
        "<a href=\"https://colab.research.google.com/github/SEJUNTONY/Data_Science_Class/blob/main/%EB%AC%B4%EC%97%AD%EB%8D%B0%EC%9D%B4%ED%84%B0_%EB%B2%A0%ED%8A%B8%EB%82%A8.ipynb\" target=\"_parent\"><img src=\"https://colab.research.google.com/assets/colab-badge.svg\" alt=\"Open In Colab\"/></a>"
      ]
    },
    {
      "cell_type": "code",
      "execution_count": 52,
      "metadata": {
        "id": "2idGEdN4Hsi_"
      },
      "outputs": [],
      "source": [
        "# 라이브러리 로드\n",
        "import pandas as pd\n",
        "import numpy as np\n",
        "import matplotlib.pyplot as plt\n",
        "import seaborn as sns\n",
        "import matplotlib.ticker as ticker"
      ]
    },
    {
      "cell_type": "code",
      "source": [
        "# 함수\n",
        "\n",
        "def outliers_iqr(data) :\n",
        "    q1, q3 = np.percentile(data, [25,75])\n",
        "    iqr = q3 - q1\n",
        "    lower_bound = 0\n",
        "    upper_bound = 3000\n",
        "\n",
        "    return np.where((data > upper_bound)|(data<lower_bound))\n",
        "\n",
        "def get_outlier(df=None, column=None, weight=1.5):\n",
        "    # target 값과 상관관계가 높은 열을 우선적으로 진행\n",
        "    quantile_25 = np.percentile(df[column].values, 25)\n",
        "    quantile_75 = np.percentile(df[column].values, 75)\n",
        "\n",
        "    IQR = quantile_75 - quantile_25\n",
        "    IQR_weight = IQR*weight\n",
        "\n",
        "    lowest = quantile_25 - IQR_weight\n",
        "    highest = quantile_75 + IQR_weight\n",
        "\n",
        "    outlier_idx = df[column][ (df[column] < lowest) | (df[column] > highest) ].index\n",
        "    return outlier_idx"
      ],
      "metadata": {
        "id": "56qpi6jiHzxr"
      },
      "execution_count": 53,
      "outputs": []
    },
    {
      "cell_type": "code",
      "source": [
        "# 데이터 로드\n",
        "\n",
        "from google.colab import drive\n",
        "drive.mount('/content/drive')"
      ],
      "metadata": {
        "colab": {
          "base_uri": "https://localhost:8080/"
        },
        "id": "R3X_uYFIIHr9",
        "outputId": "a3344959-f1d3-47eb-92b1-8095fcfa4760"
      },
      "execution_count": 54,
      "outputs": [
        {
          "output_type": "stream",
          "name": "stdout",
          "text": [
            "Drive already mounted at /content/drive; to attempt to forcibly remount, call drive.mount(\"/content/drive\", force_remount=True).\n"
          ]
        }
      ]
    },
    {
      "cell_type": "code",
      "source": [
        "# 무역 데이터 확인\n",
        "\n",
        "filename = '/content/drive/MyDrive/데이터사이언스모임/무역데이터_베트남/무역_베트남.csv'\n",
        "vietnam = pd.read_csv(filename)\n",
        "vietnam.head(10)"
      ],
      "metadata": {
        "id": "8KrWdKAiIRzM",
        "colab": {
          "base_uri": "https://localhost:8080/",
          "height": 363
        },
        "outputId": "3a8d629b-34e0-46ae-f19f-dd2f20e59e7b"
      },
      "execution_count": 55,
      "outputs": [
        {
          "output_type": "execute_result",
          "data": {
            "text/html": [
              "\n",
              "  <div id=\"df-0b75c2af-579f-4c8e-8f85-f73498e6afd2\">\n",
              "    <div class=\"colab-df-container\">\n",
              "      <div>\n",
              "<style scoped>\n",
              "    .dataframe tbody tr th:only-of-type {\n",
              "        vertical-align: middle;\n",
              "    }\n",
              "\n",
              "    .dataframe tbody tr th {\n",
              "        vertical-align: top;\n",
              "    }\n",
              "\n",
              "    .dataframe thead th {\n",
              "        text-align: right;\n",
              "    }\n",
              "</style>\n",
              "<table border=\"1\" class=\"dataframe\">\n",
              "  <thead>\n",
              "    <tr style=\"text-align: right;\">\n",
              "      <th></th>\n",
              "      <th>EXPOR_NTN_NM</th>\n",
              "      <th>HS_CD</th>\n",
              "      <th>ARRVL_YRMNT</th>\n",
              "      <th>VTNM_TRAD_INVCE_AMT</th>\n",
              "      <th>ARRVL_PRT_NM</th>\n",
              "    </tr>\n",
              "  </thead>\n",
              "  <tbody>\n",
              "    <tr>\n",
              "      <th>0</th>\n",
              "      <td>CHINA</td>\n",
              "      <td>85322400</td>\n",
              "      <td>2021-02-22</td>\n",
              "      <td>10.92</td>\n",
              "      <td>VNCLI</td>\n",
              "    </tr>\n",
              "    <tr>\n",
              "      <th>1</th>\n",
              "      <td>CHINA</td>\n",
              "      <td>85030090</td>\n",
              "      <td>2021-02-22</td>\n",
              "      <td>224.32</td>\n",
              "      <td>VNCLI</td>\n",
              "    </tr>\n",
              "    <tr>\n",
              "      <th>2</th>\n",
              "      <td>CHINA</td>\n",
              "      <td>84733090</td>\n",
              "      <td>2021-02-22</td>\n",
              "      <td>3840.00</td>\n",
              "      <td>VNSGN</td>\n",
              "    </tr>\n",
              "    <tr>\n",
              "      <th>3</th>\n",
              "      <td>CHINA</td>\n",
              "      <td>82075000</td>\n",
              "      <td>2021-02-22</td>\n",
              "      <td>62.00</td>\n",
              "      <td>VNCLI</td>\n",
              "    </tr>\n",
              "    <tr>\n",
              "      <th>4</th>\n",
              "      <td>CHINA</td>\n",
              "      <td>85076090</td>\n",
              "      <td>2021-02-22</td>\n",
              "      <td>9.15</td>\n",
              "      <td>VNSGN</td>\n",
              "    </tr>\n",
              "    <tr>\n",
              "      <th>5</th>\n",
              "      <td>CHINA</td>\n",
              "      <td>84439990</td>\n",
              "      <td>2021-02-22</td>\n",
              "      <td>155073.60</td>\n",
              "      <td>VNDVU</td>\n",
              "    </tr>\n",
              "    <tr>\n",
              "      <th>6</th>\n",
              "      <td>CHINA</td>\n",
              "      <td>85423900</td>\n",
              "      <td>2021-02-22</td>\n",
              "      <td>2278.62</td>\n",
              "      <td>VNDVU</td>\n",
              "    </tr>\n",
              "    <tr>\n",
              "      <th>7</th>\n",
              "      <td>CHINA</td>\n",
              "      <td>85444299</td>\n",
              "      <td>2021-02-22</td>\n",
              "      <td>16.65</td>\n",
              "      <td>VNHAN</td>\n",
              "    </tr>\n",
              "    <tr>\n",
              "      <th>8</th>\n",
              "      <td>CHINA</td>\n",
              "      <td>83082000</td>\n",
              "      <td>2021-02-22</td>\n",
              "      <td>8.70</td>\n",
              "      <td>VNCLI</td>\n",
              "    </tr>\n",
              "    <tr>\n",
              "      <th>9</th>\n",
              "      <td>CHINA</td>\n",
              "      <td>84241090</td>\n",
              "      <td>2021-02-22</td>\n",
              "      <td>1290.00</td>\n",
              "      <td>VNDTS</td>\n",
              "    </tr>\n",
              "  </tbody>\n",
              "</table>\n",
              "</div>\n",
              "      <button class=\"colab-df-convert\" onclick=\"convertToInteractive('df-0b75c2af-579f-4c8e-8f85-f73498e6afd2')\"\n",
              "              title=\"Convert this dataframe to an interactive table.\"\n",
              "              style=\"display:none;\">\n",
              "        \n",
              "  <svg xmlns=\"http://www.w3.org/2000/svg\" height=\"24px\"viewBox=\"0 0 24 24\"\n",
              "       width=\"24px\">\n",
              "    <path d=\"M0 0h24v24H0V0z\" fill=\"none\"/>\n",
              "    <path d=\"M18.56 5.44l.94 2.06.94-2.06 2.06-.94-2.06-.94-.94-2.06-.94 2.06-2.06.94zm-11 1L8.5 8.5l.94-2.06 2.06-.94-2.06-.94L8.5 2.5l-.94 2.06-2.06.94zm10 10l.94 2.06.94-2.06 2.06-.94-2.06-.94-.94-2.06-.94 2.06-2.06.94z\"/><path d=\"M17.41 7.96l-1.37-1.37c-.4-.4-.92-.59-1.43-.59-.52 0-1.04.2-1.43.59L10.3 9.45l-7.72 7.72c-.78.78-.78 2.05 0 2.83L4 21.41c.39.39.9.59 1.41.59.51 0 1.02-.2 1.41-.59l7.78-7.78 2.81-2.81c.8-.78.8-2.07 0-2.86zM5.41 20L4 18.59l7.72-7.72 1.47 1.35L5.41 20z\"/>\n",
              "  </svg>\n",
              "      </button>\n",
              "      \n",
              "  <style>\n",
              "    .colab-df-container {\n",
              "      display:flex;\n",
              "      flex-wrap:wrap;\n",
              "      gap: 12px;\n",
              "    }\n",
              "\n",
              "    .colab-df-convert {\n",
              "      background-color: #E8F0FE;\n",
              "      border: none;\n",
              "      border-radius: 50%;\n",
              "      cursor: pointer;\n",
              "      display: none;\n",
              "      fill: #1967D2;\n",
              "      height: 32px;\n",
              "      padding: 0 0 0 0;\n",
              "      width: 32px;\n",
              "    }\n",
              "\n",
              "    .colab-df-convert:hover {\n",
              "      background-color: #E2EBFA;\n",
              "      box-shadow: 0px 1px 2px rgba(60, 64, 67, 0.3), 0px 1px 3px 1px rgba(60, 64, 67, 0.15);\n",
              "      fill: #174EA6;\n",
              "    }\n",
              "\n",
              "    [theme=dark] .colab-df-convert {\n",
              "      background-color: #3B4455;\n",
              "      fill: #D2E3FC;\n",
              "    }\n",
              "\n",
              "    [theme=dark] .colab-df-convert:hover {\n",
              "      background-color: #434B5C;\n",
              "      box-shadow: 0px 1px 3px 1px rgba(0, 0, 0, 0.15);\n",
              "      filter: drop-shadow(0px 1px 2px rgba(0, 0, 0, 0.3));\n",
              "      fill: #FFFFFF;\n",
              "    }\n",
              "  </style>\n",
              "\n",
              "      <script>\n",
              "        const buttonEl =\n",
              "          document.querySelector('#df-0b75c2af-579f-4c8e-8f85-f73498e6afd2 button.colab-df-convert');\n",
              "        buttonEl.style.display =\n",
              "          google.colab.kernel.accessAllowed ? 'block' : 'none';\n",
              "\n",
              "        async function convertToInteractive(key) {\n",
              "          const element = document.querySelector('#df-0b75c2af-579f-4c8e-8f85-f73498e6afd2');\n",
              "          const dataTable =\n",
              "            await google.colab.kernel.invokeFunction('convertToInteractive',\n",
              "                                                     [key], {});\n",
              "          if (!dataTable) return;\n",
              "\n",
              "          const docLinkHtml = 'Like what you see? Visit the ' +\n",
              "            '<a target=\"_blank\" href=https://colab.research.google.com/notebooks/data_table.ipynb>data table notebook</a>'\n",
              "            + ' to learn more about interactive tables.';\n",
              "          element.innerHTML = '';\n",
              "          dataTable['output_type'] = 'display_data';\n",
              "          await google.colab.output.renderOutput(dataTable, element);\n",
              "          const docLink = document.createElement('div');\n",
              "          docLink.innerHTML = docLinkHtml;\n",
              "          element.appendChild(docLink);\n",
              "        }\n",
              "      </script>\n",
              "    </div>\n",
              "  </div>\n",
              "  "
            ],
            "text/plain": [
              "  EXPOR_NTN_NM     HS_CD ARRVL_YRMNT  VTNM_TRAD_INVCE_AMT ARRVL_PRT_NM\n",
              "0        CHINA  85322400  2021-02-22                10.92        VNCLI\n",
              "1        CHINA  85030090  2021-02-22               224.32        VNCLI\n",
              "2        CHINA  84733090  2021-02-22              3840.00        VNSGN\n",
              "3        CHINA  82075000  2021-02-22                62.00        VNCLI\n",
              "4        CHINA  85076090  2021-02-22                 9.15        VNSGN\n",
              "5        CHINA  84439990  2021-02-22            155073.60        VNDVU\n",
              "6        CHINA  85423900  2021-02-22              2278.62        VNDVU\n",
              "7        CHINA  85444299  2021-02-22                16.65        VNHAN\n",
              "8        CHINA  83082000  2021-02-22                 8.70        VNCLI\n",
              "9        CHINA  84241090  2021-02-22              1290.00        VNDTS"
            ]
          },
          "metadata": {},
          "execution_count": 55
        }
      ]
    },
    {
      "cell_type": "markdown",
      "source": [
        "# 1. 기본정보 확인"
      ],
      "metadata": {
        "id": "jZfbgnD_IrPS"
      }
    },
    {
      "cell_type": "markdown",
      "source": [
        "EXPOR_NTN_NM, HS_CD, ARRVL_YRMNT, ARRVL_PRT,NM은 **범주형 변수**\n",
        "\n",
        "VTNM_TRAD_INVCE_AMT는 **수치형 변수**로 파악된다.\n",
        "\n",
        "\n",
        "컬럼정의서에 따르면 각 컬럼의 의미는 다음과 같다.\n",
        "\n",
        "1. EXPOR_NTM_NM : 수출국가명\n",
        "2. HS_CD : HS코드\n",
        "3. ARRVL_YRMNT\n",
        "4. VTNM_TRAD_INVCE_AMT : 베트남무역송장금액\n",
        "5. ARRVL_PRT_NM : 도착항구명"
      ],
      "metadata": {
        "id": "6enpMw2vI764"
      }
    },
    {
      "cell_type": "markdown",
      "source": [
        "무역데이터에 대한 상향식 접근 방식(Bottom Up Approach)을 고민해볼 것이다.\n",
        "\n",
        "* 상향식 접근 방식(Bottom Up Approach) : 문제의 정의 자체가 어려운 경우, 데이터를 기반으로 문제의 재정의 및 해결방안을 탐색하고, 이를 지속적으로 개선하는 방식"
      ],
      "metadata": {
        "id": "wvSmIvC2LxEp"
      }
    },
    {
      "cell_type": "markdown",
      "source": [
        "데이터 분석을 진행하고 싶은 사항은 다음과 같다.\n",
        "\n",
        "1. HSCODE별 평균 가격 중 높은 순서로 분석\n",
        "\n",
        "2. 항구별 HSCODE 빈도수가 높은 것\n",
        "\n",
        "3. 전체 항구의 거래량 파악 : ARRVL_YRMNT 빈도수 파악"
      ],
      "metadata": {
        "id": "IX4eWhsyMAvY"
      }
    },
    {
      "cell_type": "code",
      "source": [
        "vietnam.shape"
      ],
      "metadata": {
        "id": "FJio7FqMIn34",
        "colab": {
          "base_uri": "https://localhost:8080/"
        },
        "outputId": "571b9591-9040-4231-e679-c450b598827d"
      },
      "execution_count": 56,
      "outputs": [
        {
          "output_type": "execute_result",
          "data": {
            "text/plain": [
              "(9999, 5)"
            ]
          },
          "metadata": {},
          "execution_count": 56
        }
      ]
    },
    {
      "cell_type": "markdown",
      "source": [
        "5개의 Column이 있다."
      ],
      "metadata": {
        "id": "r-IPYF1VIv3W"
      }
    },
    {
      "cell_type": "code",
      "source": [
        "vietnam.info()"
      ],
      "metadata": {
        "id": "9N7E2w20Iyec",
        "colab": {
          "base_uri": "https://localhost:8080/"
        },
        "outputId": "e9a540fe-fa5d-4695-f5f8-e1a1a4368a46"
      },
      "execution_count": 57,
      "outputs": [
        {
          "output_type": "stream",
          "name": "stdout",
          "text": [
            "<class 'pandas.core.frame.DataFrame'>\n",
            "RangeIndex: 9999 entries, 0 to 9998\n",
            "Data columns (total 5 columns):\n",
            " #   Column               Non-Null Count  Dtype  \n",
            "---  ------               --------------  -----  \n",
            " 0   EXPOR_NTN_NM         9999 non-null   object \n",
            " 1   HS_CD                9999 non-null   int64  \n",
            " 2   ARRVL_YRMNT          9999 non-null   object \n",
            " 3   VTNM_TRAD_INVCE_AMT  9999 non-null   float64\n",
            " 4   ARRVL_PRT_NM         9999 non-null   object \n",
            "dtypes: float64(1), int64(1), object(3)\n",
            "memory usage: 390.7+ KB\n"
          ]
        }
      ]
    },
    {
      "cell_type": "code",
      "source": [
        "# VTNM_TRAD_INVCE_AMT에 대한 기술통계 Summary\n",
        "vietnam['VTNM_TRAD_INVCE_AMT'].describe()"
      ],
      "metadata": {
        "id": "SQ4LdGQcKB9S",
        "colab": {
          "base_uri": "https://localhost:8080/"
        },
        "outputId": "009d3499-c77e-428e-ad5a-ea424ce2bded"
      },
      "execution_count": 58,
      "outputs": [
        {
          "output_type": "execute_result",
          "data": {
            "text/plain": [
              "count    9.999000e+03\n",
              "mean     3.891812e+05\n",
              "std      5.702677e+06\n",
              "min      0.000000e+00\n",
              "25%      9.000000e+01\n",
              "50%      5.250000e+02\n",
              "75%      3.040380e+03\n",
              "max      2.409840e+08\n",
              "Name: VTNM_TRAD_INVCE_AMT, dtype: float64"
            ]
          },
          "metadata": {},
          "execution_count": 58
        }
      ]
    },
    {
      "cell_type": "markdown",
      "source": [
        "기술통계값을 확인해보니, 최소 송장금액이 0인 값이 존재하는 것을 보아, 모델에 오류를 불러일으킬만한 데이터가 존재함을 확인할 수 있다."
      ],
      "metadata": {
        "id": "weMrNoLqKTUe"
      }
    },
    {
      "cell_type": "code",
      "source": [
        "# 송장금액이 0인 값을 제거\n",
        "A = vietnam[vietnam['VTNM_TRAD_INVCE_AMT']==0].index\n",
        "vietnam = vietnam.drop(A)"
      ],
      "metadata": {
        "id": "j6n63ElGw1Vx"
      },
      "execution_count": 59,
      "outputs": []
    },
    {
      "cell_type": "code",
      "source": [
        "# 0값 제거 후 VTNM_TRAD_INVCE_AMT에 대한 기술통계 Summary\n",
        "vietnam['VTNM_TRAD_INVCE_AMT'].describe()"
      ],
      "metadata": {
        "colab": {
          "base_uri": "https://localhost:8080/"
        },
        "id": "ardVPAqmNEpF",
        "outputId": "3452e93b-bde3-4684-8884-08a655256d68"
      },
      "execution_count": 60,
      "outputs": [
        {
          "output_type": "execute_result",
          "data": {
            "text/plain": [
              "count    9.987000e+03\n",
              "mean     3.896488e+05\n",
              "std      5.706087e+06\n",
              "min      1.000000e-02\n",
              "25%      9.000000e+01\n",
              "50%      5.266100e+02\n",
              "75%      3.045040e+03\n",
              "max      2.409840e+08\n",
              "Name: VTNM_TRAD_INVCE_AMT, dtype: float64"
            ]
          },
          "metadata": {},
          "execution_count": 60
        }
      ]
    },
    {
      "cell_type": "markdown",
      "source": [
        "제대로 시행되었음을 확인하였다. 0이 제거된 상태로 히스토그램을 그려보았다.\n"
      ],
      "metadata": {
        "id": "Ll95yeIEKjb5"
      }
    },
    {
      "cell_type": "code",
      "source": [
        "# 히스토그램(histogram)\n",
        "sns.distplot(vietnam['VTNM_TRAD_INVCE_AMT'])"
      ],
      "metadata": {
        "colab": {
          "base_uri": "https://localhost:8080/",
          "height": 367
        },
        "id": "qhufXpVTN1Fo",
        "outputId": "547182d5-8c8c-47d6-80ba-92d10582377d"
      },
      "execution_count": 61,
      "outputs": [
        {
          "output_type": "stream",
          "name": "stderr",
          "text": [
            "/usr/local/lib/python3.7/dist-packages/seaborn/distributions.py:2619: FutureWarning: `distplot` is a deprecated function and will be removed in a future version. Please adapt your code to use either `displot` (a figure-level function with similar flexibility) or `histplot` (an axes-level function for histograms).\n",
            "  warnings.warn(msg, FutureWarning)\n"
          ]
        },
        {
          "output_type": "execute_result",
          "data": {
            "text/plain": [
              "<matplotlib.axes._subplots.AxesSubplot at 0x7f3ce3c49650>"
            ]
          },
          "metadata": {},
          "execution_count": 61
        },
        {
          "output_type": "display_data",
          "data": {
            "image/png": "[encoded data removed]",
            "text/plain": [
              "<Figure size 432x288 with 1 Axes>"
            ]
          },
          "metadata": {
            "needs_background": "light"
          }
        }
      ]
    },
    {
      "cell_type": "markdown",
      "source": [
        "완전히 치우침을 확인할 수 있다. 대체적으로 몰려있는 쪽에 비해 특정 값들이 매우 높아 이런 히스토그램이 그려지는 듯 하다."
      ],
      "metadata": {
        "id": "13pqaO71ORHZ"
      }
    },
    {
      "cell_type": "code",
      "source": [
        "# 왜도 및 첨도\n",
        "print(\"Skewness : %f\" % vietnam['VTNM_TRAD_INVCE_AMT'].skew())\n",
        "print(\"Kurtosis : %f\" % vietnam['VTNM_TRAD_INVCE_AMT'].kurt())"
      ],
      "metadata": {
        "colab": {
          "base_uri": "https://localhost:8080/"
        },
        "id": "EUkX5KolOXKZ",
        "outputId": "53a0d1c3-096c-436f-d656-7278f6dfe062"
      },
      "execution_count": 62,
      "outputs": [
        {
          "output_type": "stream",
          "name": "stdout",
          "text": [
            "Skewness : 25.926753\n",
            "Kurtosis : 817.102347\n"
          ]
        }
      ]
    },
    {
      "cell_type": "markdown",
      "source": [
        "왜도 : 자료가 심하게 오른쪽으로 치우쳐있음\n",
        "첨도 : 심각하게 뾰족한 정규분포의 형태를 보인다."
      ],
      "metadata": {
        "id": "yIt2PHYOOm48"
      }
    },
    {
      "cell_type": "markdown",
      "source": [
        "## 1. HSCODE별 평균 가격 중 높은 순서로 분석"
      ],
      "metadata": {
        "id": "OZpK8L4fPJGz"
      }
    },
    {
      "cell_type": "markdown",
      "source": [
        "### (1) HS 코드 분석"
      ],
      "metadata": {
        "id": "0v2MSjTUPzkI"
      }
    },
    {
      "cell_type": "markdown",
      "source": [
        "평균 가격을 파악하기 이전, HS코드를 분석해보았다."
      ],
      "metadata": {
        "id": "CYRaRuuBP4AJ"
      }
    },
    {
      "cell_type": "code",
      "source": [
        "vietnam['HS_CD'].unique()"
      ],
      "metadata": {
        "colab": {
          "base_uri": "https://localhost:8080/"
        },
        "id": "PC2u6OUdPPJU",
        "outputId": "0b149ab5-2800-4216-8d5f-a3d749480869"
      },
      "execution_count": 63,
      "outputs": [
        {
          "output_type": "execute_result",
          "data": {
            "text/plain": [
              "array([85322400, 85030090, 84733090, ..., 34029099, 29362800, 69149000])"
            ]
          },
          "metadata": {},
          "execution_count": 63
        }
      ]
    },
    {
      "cell_type": "code",
      "source": [
        "vietnam['HS_CD'].nunique()"
      ],
      "metadata": {
        "colab": {
          "base_uri": "https://localhost:8080/"
        },
        "id": "3BIXx09pQGMK",
        "outputId": "d2c1273c-c0eb-4182-99f8-b36615d6183b"
      },
      "execution_count": 64,
      "outputs": [
        {
          "output_type": "execute_result",
          "data": {
            "text/plain": [
              "2089"
            ]
          },
          "metadata": {},
          "execution_count": 64
        }
      ]
    },
    {
      "cell_type": "markdown",
      "source": [
        "HS코드는 총 2089가지가 있는 것으로 파악된다. 이 값들을 모두 분석할 수는 없기에 상위 값들만을 통해 분석을 진행한다."
      ],
      "metadata": {
        "id": "_0-ScOyAQK0l"
      }
    },
    {
      "cell_type": "code",
      "source": [
        "rname = vietnam['HS_CD']\n",
        "hscode_total = pd.DataFrame(vietnam['HS_CD'].value_counts(), index=rname, )\n",
        "hscode_total"
      ],
      "metadata": {
        "colab": {
          "base_uri": "https://localhost:8080/",
          "height": 455
        },
        "id": "waNg5A7lQUi2",
        "outputId": "69838298-c18b-4b73-bb1b-1b54e5242fc5"
      },
      "execution_count": 65,
      "outputs": [
        {
          "output_type": "execute_result",
          "data": {
            "text/html": [
              "\n",
              "  <div id=\"df-1d51907f-f45b-49d7-8c52-f6335a9a2155\">\n",
              "    <div class=\"colab-df-container\">\n",
              "      <div>\n",
              "<style scoped>\n",
              "    .dataframe tbody tr th:only-of-type {\n",
              "        vertical-align: middle;\n",
              "    }\n",
              "\n",
              "    .dataframe tbody tr th {\n",
              "        vertical-align: top;\n",
              "    }\n",
              "\n",
              "    .dataframe thead th {\n",
              "        text-align: right;\n",
              "    }\n",
              "</style>\n",
              "<table border=\"1\" class=\"dataframe\">\n",
              "  <thead>\n",
              "    <tr style=\"text-align: right;\">\n",
              "      <th></th>\n",
              "      <th>HS_CD</th>\n",
              "    </tr>\n",
              "    <tr>\n",
              "      <th>HS_CD</th>\n",
              "      <th></th>\n",
              "    </tr>\n",
              "  </thead>\n",
              "  <tbody>\n",
              "    <tr>\n",
              "      <th>85322400</th>\n",
              "      <td>79</td>\n",
              "    </tr>\n",
              "    <tr>\n",
              "      <th>85030090</th>\n",
              "      <td>26</td>\n",
              "    </tr>\n",
              "    <tr>\n",
              "      <th>84733090</th>\n",
              "      <td>30</td>\n",
              "    </tr>\n",
              "    <tr>\n",
              "      <th>82075000</th>\n",
              "      <td>21</td>\n",
              "    </tr>\n",
              "    <tr>\n",
              "      <th>85076090</th>\n",
              "      <td>17</td>\n",
              "    </tr>\n",
              "    <tr>\n",
              "      <th>...</th>\n",
              "      <td>...</td>\n",
              "    </tr>\n",
              "    <tr>\n",
              "      <th>84719090</th>\n",
              "      <td>6</td>\n",
              "    </tr>\n",
              "    <tr>\n",
              "      <th>39259000</th>\n",
              "      <td>3</td>\n",
              "    </tr>\n",
              "    <tr>\n",
              "      <th>87149199</th>\n",
              "      <td>13</td>\n",
              "    </tr>\n",
              "    <tr>\n",
              "      <th>39269099</th>\n",
              "      <td>287</td>\n",
              "    </tr>\n",
              "    <tr>\n",
              "      <th>73181990</th>\n",
              "      <td>15</td>\n",
              "    </tr>\n",
              "  </tbody>\n",
              "</table>\n",
              "<p>9987 rows × 1 columns</p>\n",
              "</div>\n",
              "      <button class=\"colab-df-convert\" onclick=\"convertToInteractive('df-1d51907f-f45b-49d7-8c52-f6335a9a2155')\"\n",
              "              title=\"Convert this dataframe to an interactive table.\"\n",
              "              style=\"display:none;\">\n",
              "        \n",
              "  <svg xmlns=\"http://www.w3.org/2000/svg\" height=\"24px\"viewBox=\"0 0 24 24\"\n",
              "       width=\"24px\">\n",
              "    <path d=\"M0 0h24v24H0V0z\" fill=\"none\"/>\n",
              "    <path d=\"M18.56 5.44l.94 2.06.94-2.06 2.06-.94-2.06-.94-.94-2.06-.94 2.06-2.06.94zm-11 1L8.5 8.5l.94-2.06 2.06-.94-2.06-.94L8.5 2.5l-.94 2.06-2.06.94zm10 10l.94 2.06.94-2.06 2.06-.94-2.06-.94-.94-2.06-.94 2.06-2.06.94z\"/><path d=\"M17.41 7.96l-1.37-1.37c-.4-.4-.92-.59-1.43-.59-.52 0-1.04.2-1.43.59L10.3 9.45l-7.72 7.72c-.78.78-.78 2.05 0 2.83L4 21.41c.39.39.9.59 1.41.59.51 0 1.02-.2 1.41-.59l7.78-7.78 2.81-2.81c.8-.78.8-2.07 0-2.86zM5.41 20L4 18.59l7.72-7.72 1.47 1.35L5.41 20z\"/>\n",
              "  </svg>\n",
              "      </button>\n",
              "      \n",
              "  <style>\n",
              "    .colab-df-container {\n",
              "      display:flex;\n",
              "      flex-wrap:wrap;\n",
              "      gap: 12px;\n",
              "    }\n",
              "\n",
              "    .colab-df-convert {\n",
              "      background-color: #E8F0FE;\n",
              "      border: none;\n",
              "      border-radius: 50%;\n",
              "      cursor: pointer;\n",
              "      display: none;\n",
              "      fill: #1967D2;\n",
              "      height: 32px;\n",
              "      padding: 0 0 0 0;\n",
              "      width: 32px;\n",
              "    }\n",
              "\n",
              "    .colab-df-convert:hover {\n",
              "      background-color: #E2EBFA;\n",
              "      box-shadow: 0px 1px 2px rgba(60, 64, 67, 0.3), 0px 1px 3px 1px rgba(60, 64, 67, 0.15);\n",
              "      fill: #174EA6;\n",
              "    }\n",
              "\n",
              "    [theme=dark] .colab-df-convert {\n",
              "      background-color: #3B4455;\n",
              "      fill: #D2E3FC;\n",
              "    }\n",
              "\n",
              "    [theme=dark] .colab-df-convert:hover {\n",
              "      background-color: #434B5C;\n",
              "      box-shadow: 0px 1px 3px 1px rgba(0, 0, 0, 0.15);\n",
              "      filter: drop-shadow(0px 1px 2px rgba(0, 0, 0, 0.3));\n",
              "      fill: #FFFFFF;\n",
              "    }\n",
              "  </style>\n",
              "\n",
              "      <script>\n",
              "        const buttonEl =\n",
              "          document.querySelector('#df-1d51907f-f45b-49d7-8c52-f6335a9a2155 button.colab-df-convert');\n",
              "        buttonEl.style.display =\n",
              "          google.colab.kernel.accessAllowed ? 'block' : 'none';\n",
              "\n",
              "        async function convertToInteractive(key) {\n",
              "          const element = document.querySelector('#df-1d51907f-f45b-49d7-8c52-f6335a9a2155');\n",
              "          const dataTable =\n",
              "            await google.colab.kernel.invokeFunction('convertToInteractive',\n",
              "                                                     [key], {});\n",
              "          if (!dataTable) return;\n",
              "\n",
              "          const docLinkHtml = 'Like what you see? Visit the ' +\n",
              "            '<a target=\"_blank\" href=https://colab.research.google.com/notebooks/data_table.ipynb>data table notebook</a>'\n",
              "            + ' to learn more about interactive tables.';\n",
              "          element.innerHTML = '';\n",
              "          dataTable['output_type'] = 'display_data';\n",
              "          await google.colab.output.renderOutput(dataTable, element);\n",
              "          const docLink = document.createElement('div');\n",
              "          docLink.innerHTML = docLinkHtml;\n",
              "          element.appendChild(docLink);\n",
              "        }\n",
              "      </script>\n",
              "    </div>\n",
              "  </div>\n",
              "  "
            ],
            "text/plain": [
              "          HS_CD\n",
              "HS_CD          \n",
              "85322400     79\n",
              "85030090     26\n",
              "84733090     30\n",
              "82075000     21\n",
              "85076090     17\n",
              "...         ...\n",
              "84719090      6\n",
              "39259000      3\n",
              "87149199     13\n",
              "39269099    287\n",
              "73181990     15\n",
              "\n",
              "[9987 rows x 1 columns]"
            ]
          },
          "metadata": {},
          "execution_count": 65
        }
      ]
    },
    {
      "cell_type": "markdown",
      "source": [
        "상위값을 차지하고 있는 품목은 다음과 같다.\n",
        "1. 39269099\n",
        "2. 73269099\n",
        "3. 85332100\n",
        "\n",
        "거래되는 상위 3개 품목을 확인해본 결과, 플라스틱 소재 등 산업재가 많았다.\n",
        "\n",
        "https://news.kotra.or.kr/user/globalBbs/kotranews/784/globalBbsDataView.do?setIdx=403&dataIdx=190241"
      ],
      "metadata": {
        "id": "K9U6vi48RLQD"
      }
    },
    {
      "cell_type": "markdown",
      "source": [
        "상위 코드 3개에 대한 분석을 진행해보았다.\n",
        "\n",
        "#### 분석 1 : HS CODE 39269099"
      ],
      "metadata": {
        "id": "IPxRxfnJBUre"
      }
    },
    {
      "cell_type": "code",
      "source": [
        "viet_hscd1 = vietnam[(vietnam['HS_CD']==39269099)]\n",
        "viet_hscd1"
      ],
      "metadata": {
        "colab": {
          "base_uri": "https://localhost:8080/",
          "height": 423
        },
        "id": "8-oWkqkaBcM1",
        "outputId": "88603b93-2eb8-4a6f-f994-f361fede7dcc"
      },
      "execution_count": 66,
      "outputs": [
        {
          "output_type": "execute_result",
          "data": {
            "text/html": [
              "\n",
              "  <div id=\"df-ec41800c-bc95-4689-bea7-bad493abac18\">\n",
              "    <div class=\"colab-df-container\">\n",
              "      <div>\n",
              "<style scoped>\n",
              "    .dataframe tbody tr th:only-of-type {\n",
              "        vertical-align: middle;\n",
              "    }\n",
              "\n",
              "    .dataframe tbody tr th {\n",
              "        vertical-align: top;\n",
              "    }\n",
              "\n",
              "    .dataframe thead th {\n",
              "        text-align: right;\n",
              "    }\n",
              "</style>\n",
              "<table border=\"1\" class=\"dataframe\">\n",
              "  <thead>\n",
              "    <tr style=\"text-align: right;\">\n",
              "      <th></th>\n",
              "      <th>EXPOR_NTN_NM</th>\n",
              "      <th>HS_CD</th>\n",
              "      <th>ARRVL_YRMNT</th>\n",
              "      <th>VTNM_TRAD_INVCE_AMT</th>\n",
              "      <th>ARRVL_PRT_NM</th>\n",
              "    </tr>\n",
              "  </thead>\n",
              "  <tbody>\n",
              "    <tr>\n",
              "      <th>93</th>\n",
              "      <td>CHINA</td>\n",
              "      <td>39269099</td>\n",
              "      <td>2021-02-23</td>\n",
              "      <td>88.82</td>\n",
              "      <td>VNCLI</td>\n",
              "    </tr>\n",
              "    <tr>\n",
              "      <th>104</th>\n",
              "      <td>CHINA</td>\n",
              "      <td>39269099</td>\n",
              "      <td>2021-02-23</td>\n",
              "      <td>255.45</td>\n",
              "      <td>VNMTCT</td>\n",
              "    </tr>\n",
              "    <tr>\n",
              "      <th>193</th>\n",
              "      <td>CHINA</td>\n",
              "      <td>39269099</td>\n",
              "      <td>2021-02-22</td>\n",
              "      <td>1580.00</td>\n",
              "      <td>VNCLI</td>\n",
              "    </tr>\n",
              "    <tr>\n",
              "      <th>217</th>\n",
              "      <td>CHINA</td>\n",
              "      <td>39269099</td>\n",
              "      <td>2021-02-23</td>\n",
              "      <td>28.68</td>\n",
              "      <td>VNCLI</td>\n",
              "    </tr>\n",
              "    <tr>\n",
              "      <th>226</th>\n",
              "      <td>CHINA</td>\n",
              "      <td>39269099</td>\n",
              "      <td>2021-02-23</td>\n",
              "      <td>285.64</td>\n",
              "      <td>VNCLI</td>\n",
              "    </tr>\n",
              "    <tr>\n",
              "      <th>...</th>\n",
              "      <td>...</td>\n",
              "      <td>...</td>\n",
              "      <td>...</td>\n",
              "      <td>...</td>\n",
              "      <td>...</td>\n",
              "    </tr>\n",
              "    <tr>\n",
              "      <th>9883</th>\n",
              "      <td>CHINA</td>\n",
              "      <td>39269099</td>\n",
              "      <td>2019-03-12</td>\n",
              "      <td>1.40</td>\n",
              "      <td>VNSGN</td>\n",
              "    </tr>\n",
              "    <tr>\n",
              "      <th>9885</th>\n",
              "      <td>CHINA</td>\n",
              "      <td>39269099</td>\n",
              "      <td>2019-03-12</td>\n",
              "      <td>460.00</td>\n",
              "      <td>VNSGN</td>\n",
              "    </tr>\n",
              "    <tr>\n",
              "      <th>9899</th>\n",
              "      <td>CHINA</td>\n",
              "      <td>39269099</td>\n",
              "      <td>2019-03-12</td>\n",
              "      <td>30.00</td>\n",
              "      <td>VNHAN</td>\n",
              "    </tr>\n",
              "    <tr>\n",
              "      <th>9924</th>\n",
              "      <td>CHINA</td>\n",
              "      <td>39269099</td>\n",
              "      <td>2019-03-12</td>\n",
              "      <td>53136.72</td>\n",
              "      <td>VNGEE</td>\n",
              "    </tr>\n",
              "    <tr>\n",
              "      <th>9997</th>\n",
              "      <td>CHINA</td>\n",
              "      <td>39269099</td>\n",
              "      <td>2019-07-15</td>\n",
              "      <td>13.92</td>\n",
              "      <td>VNCLI</td>\n",
              "    </tr>\n",
              "  </tbody>\n",
              "</table>\n",
              "<p>287 rows × 5 columns</p>\n",
              "</div>\n",
              "      <button class=\"colab-df-convert\" onclick=\"convertToInteractive('df-ec41800c-bc95-4689-bea7-bad493abac18')\"\n",
              "              title=\"Convert this dataframe to an interactive table.\"\n",
              "              style=\"display:none;\">\n",
              "        \n",
              "  <svg xmlns=\"http://www.w3.org/2000/svg\" height=\"24px\"viewBox=\"0 0 24 24\"\n",
              "       width=\"24px\">\n",
              "    <path d=\"M0 0h24v24H0V0z\" fill=\"none\"/>\n",
              "    <path d=\"M18.56 5.44l.94 2.06.94-2.06 2.06-.94-2.06-.94-.94-2.06-.94 2.06-2.06.94zm-11 1L8.5 8.5l.94-2.06 2.06-.94-2.06-.94L8.5 2.5l-.94 2.06-2.06.94zm10 10l.94 2.06.94-2.06 2.06-.94-2.06-.94-.94-2.06-.94 2.06-2.06.94z\"/><path d=\"M17.41 7.96l-1.37-1.37c-.4-.4-.92-.59-1.43-.59-.52 0-1.04.2-1.43.59L10.3 9.45l-7.72 7.72c-.78.78-.78 2.05 0 2.83L4 21.41c.39.39.9.59 1.41.59.51 0 1.02-.2 1.41-.59l7.78-7.78 2.81-2.81c.8-.78.8-2.07 0-2.86zM5.41 20L4 18.59l7.72-7.72 1.47 1.35L5.41 20z\"/>\n",
              "  </svg>\n",
              "      </button>\n",
              "      \n",
              "  <style>\n",
              "    .colab-df-container {\n",
              "      display:flex;\n",
              "      flex-wrap:wrap;\n",
              "      gap: 12px;\n",
              "    }\n",
              "\n",
              "    .colab-df-convert {\n",
              "      background-color: #E8F0FE;\n",
              "      border: none;\n",
              "      border-radius: 50%;\n",
              "      cursor: pointer;\n",
              "      display: none;\n",
              "      fill: #1967D2;\n",
              "      height: 32px;\n",
              "      padding: 0 0 0 0;\n",
              "      width: 32px;\n",
              "    }\n",
              "\n",
              "    .colab-df-convert:hover {\n",
              "      background-color: #E2EBFA;\n",
              "      box-shadow: 0px 1px 2px rgba(60, 64, 67, 0.3), 0px 1px 3px 1px rgba(60, 64, 67, 0.15);\n",
              "      fill: #174EA6;\n",
              "    }\n",
              "\n",
              "    [theme=dark] .colab-df-convert {\n",
              "      background-color: #3B4455;\n",
              "      fill: #D2E3FC;\n",
              "    }\n",
              "\n",
              "    [theme=dark] .colab-df-convert:hover {\n",
              "      background-color: #434B5C;\n",
              "      box-shadow: 0px 1px 3px 1px rgba(0, 0, 0, 0.15);\n",
              "      filter: drop-shadow(0px 1px 2px rgba(0, 0, 0, 0.3));\n",
              "      fill: #FFFFFF;\n",
              "    }\n",
              "  </style>\n",
              "\n",
              "      <script>\n",
              "        const buttonEl =\n",
              "          document.querySelector('#df-ec41800c-bc95-4689-bea7-bad493abac18 button.colab-df-convert');\n",
              "        buttonEl.style.display =\n",
              "          google.colab.kernel.accessAllowed ? 'block' : 'none';\n",
              "\n",
              "        async function convertToInteractive(key) {\n",
              "          const element = document.querySelector('#df-ec41800c-bc95-4689-bea7-bad493abac18');\n",
              "          const dataTable =\n",
              "            await google.colab.kernel.invokeFunction('convertToInteractive',\n",
              "                                                     [key], {});\n",
              "          if (!dataTable) return;\n",
              "\n",
              "          const docLinkHtml = 'Like what you see? Visit the ' +\n",
              "            '<a target=\"_blank\" href=https://colab.research.google.com/notebooks/data_table.ipynb>data table notebook</a>'\n",
              "            + ' to learn more about interactive tables.';\n",
              "          element.innerHTML = '';\n",
              "          dataTable['output_type'] = 'display_data';\n",
              "          await google.colab.output.renderOutput(dataTable, element);\n",
              "          const docLink = document.createElement('div');\n",
              "          docLink.innerHTML = docLinkHtml;\n",
              "          element.appendChild(docLink);\n",
              "        }\n",
              "      </script>\n",
              "    </div>\n",
              "  </div>\n",
              "  "
            ],
            "text/plain": [
              "     EXPOR_NTN_NM     HS_CD ARRVL_YRMNT  VTNM_TRAD_INVCE_AMT ARRVL_PRT_NM\n",
              "93          CHINA  39269099  2021-02-23                88.82        VNCLI\n",
              "104         CHINA  39269099  2021-02-23               255.45       VNMTCT\n",
              "193         CHINA  39269099  2021-02-22              1580.00        VNCLI\n",
              "217         CHINA  39269099  2021-02-23                28.68        VNCLI\n",
              "226         CHINA  39269099  2021-02-23               285.64        VNCLI\n",
              "...           ...       ...         ...                  ...          ...\n",
              "9883        CHINA  39269099  2019-03-12                 1.40        VNSGN\n",
              "9885        CHINA  39269099  2019-03-12               460.00        VNSGN\n",
              "9899        CHINA  39269099  2019-03-12                30.00        VNHAN\n",
              "9924        CHINA  39269099  2019-03-12             53136.72        VNGEE\n",
              "9997        CHINA  39269099  2019-07-15                13.92        VNCLI\n",
              "\n",
              "[287 rows x 5 columns]"
            ]
          },
          "metadata": {},
          "execution_count": 66
        }
      ]
    },
    {
      "cell_type": "markdown",
      "source": [
        "날짜 그룹별로 평균을 구해보았다."
      ],
      "metadata": {
        "id": "ETIphc0mB_Bm"
      }
    },
    {
      "cell_type": "code",
      "source": [
        "viet_hscd1_lineplot = viet_hscd1.groupby(['ARRVL_YRMNT'], as_index=False).mean()"
      ],
      "metadata": {
        "id": "Cj6Ob4ghCBCh"
      },
      "execution_count": 67,
      "outputs": []
    },
    {
      "cell_type": "code",
      "source": [
        "\n"
      ],
      "metadata": {
        "id": "O2QpRw8ND3P6"
      },
      "execution_count": 67,
      "outputs": []
    },
    {
      "cell_type": "code",
      "source": [
        "amt = \"VTNM_TRAD_INVCE_AMT\"\n",
        "arrvl = \"ARRVL_YRMNT\"\n",
        "f, ax = plt.subplots(figsize=(24,12))\n",
        "fig = sns.lineplot(x=arrvl, y=amt, data=viet_hscd1_lineplot)\n",
        "fig.axis(ymin=0, ymax = 40000);\n",
        "plt.xticks(rotation=90);"
      ],
      "metadata": {
        "colab": {
          "base_uri": "https://localhost:8080/",
          "height": 767
        },
        "id": "PyhhBkyxCbb4",
        "outputId": "ab6ce477-1bab-49ac-a6a0-0651dcf2f50b"
      },
      "execution_count": 68,
      "outputs": [
        {
          "output_type": "display_data",
          "data": {
            "image/png": "[encoded data removed]",
            "text/plain": [
              "<Figure size 1728x864 with 1 Axes>"
            ]
          },
          "metadata": {
            "needs_background": "light"
          }
        }
      ]
    },
    {
      "cell_type": "markdown",
      "source": [
        "미친 값들이 존재한다.\n",
        "미친 송장비용을 보여주는 날짜를 그래프를 통해 확인해본 결과, 2019년 5월 10일, 2019년 5월 11일, 2019년 6월 13일, 2019년 8월 3일 정도인 것 같다.\n",
        "이 날짜의 데이터값을 확인해보았다."
      ],
      "metadata": {
        "id": "P3to4dWPEcMa"
      }
    },
    {
      "cell_type": "markdown",
      "source": [
        "해당 날짜에 대한 데이터행을 삭제하고 lineplot을 다시 그려보았다."
      ],
      "metadata": {
        "id": "Ed8cvPBUGuvX"
      }
    }
  ]
}