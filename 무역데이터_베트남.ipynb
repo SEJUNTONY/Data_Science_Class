{
  "nbformat": 4,
  "nbformat_minor": 0,
  "metadata": {
    "colab": {
      "name": "무역데이터_베트남.ipynb",
      "provenance": [],
      "authorship_tag": "ABX9TyPvLDdxyJeMZoqGniblBURC"
    },
    "kernelspec": {
      "name": "python3",
      "display_name": "Python 3"
    },
    "language_info": {
      "name": "python"
    }
  },
  "cells": [
    {
      "cell_type": "code",
      "execution_count": 1,
      "metadata": {
        "id": "2idGEdN4Hsi_"
      },
      "outputs": [],
      "source": [
        "# 라이브러리 로드\n",
        "import pandas as pd\n",
        "import numpy as np\n",
        "import matplotlib.pyplot as plt\n",
        "import seaborn as sns\n",
        "import matplotlib.ticker as ticker"
      ]
    },
    {
      "cell_type": "code",
      "source": [
        "# 함수\n",
        "\n",
        "def outliers_iqr(data) :\n",
        "    q1, q3 = np.percentile(data, [25,75])\n",
        "    iqr = q3 - q1\n",
        "    lower_bound = 0\n",
        "    upper_bound = 3000\n",
        "\n",
        "    return np.where((data > upper_bound)|(data<lower_bound))\n",
        "\n",
        "def get_outlier(df=None, column=None, weight=1.5):\n",
        "    # target 값과 상관관계가 높은 열을 우선적으로 진행\n",
        "    quantile_25 = np.percentile(df[column].values, 25)\n",
        "    quantile_75 = np.percentile(df[column].values, 75)\n",
        "\n",
        "    IQR = quantile_75 - quantile_25\n",
        "    IQR_weight = IQR*weight\n",
        "\n",
        "    lowest = quantile_25 - IQR_weight\n",
        "    highest = quantile_75 + IQR_weight\n",
        "\n",
        "    outlier_idx = df[column][ (df[column] < lowest) | (df[column] > highest) ].index\n",
        "    return outlier_idx"
      ],
      "metadata": {
        "id": "56qpi6jiHzxr"
      },
      "execution_count": 2,
      "outputs": []
    },
    {
      "cell_type": "code",
      "source": [
        "# 데이터 로드\n",
        "\n",
        "from google.colab import drive\n",
        "drive.mount('/content/drive')"
      ],
      "metadata": {
        "colab": {
          "base_uri": "https://localhost:8080/"
        },
        "id": "R3X_uYFIIHr9",
        "outputId": "5ec3da2f-7e0d-4a6e-b0ba-fa5cb87b2547"
      },
      "execution_count": 3,
      "outputs": [
        {
          "output_type": "stream",
          "name": "stdout",
          "text": [
            "Mounted at /content/drive\n"
          ]
        }
      ]
    },
    {
      "cell_type": "code",
      "source": [
        "# 무역 데이터 확인\n",
        "\n",
        "filename = '/content/drive/MyDrive/데이터사이언스모임/무역데이터_베트남/무역_베트남.csv'\n",
        "vietnam = pd.read_csv(filename)\n",
        "vietnam.head(10)"
      ],
      "metadata": {
        "colab": {
          "base_uri": "https://localhost:8080/",
          "height": 363
        },
        "id": "8KrWdKAiIRzM",
        "outputId": "f94449f3-e8ad-4156-bc74-36afc1a45e9e"
      },
      "execution_count": 7,
      "outputs": [
        {
          "output_type": "execute_result",
          "data": {
            "text/html": [
              "\n",
              "  <div id=\"df-5fb1e809-06cf-4ed5-b4c3-3ccca572f639\">\n",
              "    <div class=\"colab-df-container\">\n",
              "      <div>\n",
              "<style scoped>\n",
              "    .dataframe tbody tr th:only-of-type {\n",
              "        vertical-align: middle;\n",
              "    }\n",
              "\n",
              "    .dataframe tbody tr th {\n",
              "        vertical-align: top;\n",
              "    }\n",
              "\n",
              "    .dataframe thead th {\n",
              "        text-align: right;\n",
              "    }\n",
              "</style>\n",
              "<table border=\"1\" class=\"dataframe\">\n",
              "  <thead>\n",
              "    <tr style=\"text-align: right;\">\n",
              "      <th></th>\n",
              "      <th>EXPOR_NTN_NM</th>\n",
              "      <th>HS_CD</th>\n",
              "      <th>ARRVL_YRMNT</th>\n",
              "      <th>VTNM_TRAD_INVCE_AMT</th>\n",
              "      <th>ARRVL_PRT_NM</th>\n",
              "    </tr>\n",
              "  </thead>\n",
              "  <tbody>\n",
              "    <tr>\n",
              "      <th>0</th>\n",
              "      <td>CHINA</td>\n",
              "      <td>85322400</td>\n",
              "      <td>2021-02-22</td>\n",
              "      <td>10.92</td>\n",
              "      <td>VNCLI</td>\n",
              "    </tr>\n",
              "    <tr>\n",
              "      <th>1</th>\n",
              "      <td>CHINA</td>\n",
              "      <td>85030090</td>\n",
              "      <td>2021-02-22</td>\n",
              "      <td>224.32</td>\n",
              "      <td>VNCLI</td>\n",
              "    </tr>\n",
              "    <tr>\n",
              "      <th>2</th>\n",
              "      <td>CHINA</td>\n",
              "      <td>84733090</td>\n",
              "      <td>2021-02-22</td>\n",
              "      <td>3840.00</td>\n",
              "      <td>VNSGN</td>\n",
              "    </tr>\n",
              "    <tr>\n",
              "      <th>3</th>\n",
              "      <td>CHINA</td>\n",
              "      <td>82075000</td>\n",
              "      <td>2021-02-22</td>\n",
              "      <td>62.00</td>\n",
              "      <td>VNCLI</td>\n",
              "    </tr>\n",
              "    <tr>\n",
              "      <th>4</th>\n",
              "      <td>CHINA</td>\n",
              "      <td>85076090</td>\n",
              "      <td>2021-02-22</td>\n",
              "      <td>9.15</td>\n",
              "      <td>VNSGN</td>\n",
              "    </tr>\n",
              "    <tr>\n",
              "      <th>5</th>\n",
              "      <td>CHINA</td>\n",
              "      <td>84439990</td>\n",
              "      <td>2021-02-22</td>\n",
              "      <td>155073.60</td>\n",
              "      <td>VNDVU</td>\n",
              "    </tr>\n",
              "    <tr>\n",
              "      <th>6</th>\n",
              "      <td>CHINA</td>\n",
              "      <td>85423900</td>\n",
              "      <td>2021-02-22</td>\n",
              "      <td>2278.62</td>\n",
              "      <td>VNDVU</td>\n",
              "    </tr>\n",
              "    <tr>\n",
              "      <th>7</th>\n",
              "      <td>CHINA</td>\n",
              "      <td>85444299</td>\n",
              "      <td>2021-02-22</td>\n",
              "      <td>16.65</td>\n",
              "      <td>VNHAN</td>\n",
              "    </tr>\n",
              "    <tr>\n",
              "      <th>8</th>\n",
              "      <td>CHINA</td>\n",
              "      <td>83082000</td>\n",
              "      <td>2021-02-22</td>\n",
              "      <td>8.70</td>\n",
              "      <td>VNCLI</td>\n",
              "    </tr>\n",
              "    <tr>\n",
              "      <th>9</th>\n",
              "      <td>CHINA</td>\n",
              "      <td>84241090</td>\n",
              "      <td>2021-02-22</td>\n",
              "      <td>1290.00</td>\n",
              "      <td>VNDTS</td>\n",
              "    </tr>\n",
              "  </tbody>\n",
              "</table>\n",
              "</div>\n",
              "      <button class=\"colab-df-convert\" onclick=\"convertToInteractive('df-5fb1e809-06cf-4ed5-b4c3-3ccca572f639')\"\n",
              "              title=\"Convert this dataframe to an interactive table.\"\n",
              "              style=\"display:none;\">\n",
              "        \n",
              "  <svg xmlns=\"http://www.w3.org/2000/svg\" height=\"24px\"viewBox=\"0 0 24 24\"\n",
              "       width=\"24px\">\n",
              "    <path d=\"M0 0h24v24H0V0z\" fill=\"none\"/>\n",
              "    <path d=\"M18.56 5.44l.94 2.06.94-2.06 2.06-.94-2.06-.94-.94-2.06-.94 2.06-2.06.94zm-11 1L8.5 8.5l.94-2.06 2.06-.94-2.06-.94L8.5 2.5l-.94 2.06-2.06.94zm10 10l.94 2.06.94-2.06 2.06-.94-2.06-.94-.94-2.06-.94 2.06-2.06.94z\"/><path d=\"M17.41 7.96l-1.37-1.37c-.4-.4-.92-.59-1.43-.59-.52 0-1.04.2-1.43.59L10.3 9.45l-7.72 7.72c-.78.78-.78 2.05 0 2.83L4 21.41c.39.39.9.59 1.41.59.51 0 1.02-.2 1.41-.59l7.78-7.78 2.81-2.81c.8-.78.8-2.07 0-2.86zM5.41 20L4 18.59l7.72-7.72 1.47 1.35L5.41 20z\"/>\n",
              "  </svg>\n",
              "      </button>\n",
              "      \n",
              "  <style>\n",
              "    .colab-df-container {\n",
              "      display:flex;\n",
              "      flex-wrap:wrap;\n",
              "      gap: 12px;\n",
              "    }\n",
              "\n",
              "    .colab-df-convert {\n",
              "      background-color: #E8F0FE;\n",
              "      border: none;\n",
              "      border-radius: 50%;\n",
              "      cursor: pointer;\n",
              "      display: none;\n",
              "      fill: #1967D2;\n",
              "      height: 32px;\n",
              "      padding: 0 0 0 0;\n",
              "      width: 32px;\n",
              "    }\n",
              "\n",
              "    .colab-df-convert:hover {\n",
              "      background-color: #E2EBFA;\n",
              "      box-shadow: 0px 1px 2px rgba(60, 64, 67, 0.3), 0px 1px 3px 1px rgba(60, 64, 67, 0.15);\n",
              "      fill: #174EA6;\n",
              "    }\n",
              "\n",
              "    [theme=dark] .colab-df-convert {\n",
              "      background-color: #3B4455;\n",
              "      fill: #D2E3FC;\n",
              "    }\n",
              "\n",
              "    [theme=dark] .colab-df-convert:hover {\n",
              "      background-color: #434B5C;\n",
              "      box-shadow: 0px 1px 3px 1px rgba(0, 0, 0, 0.15);\n",
              "      filter: drop-shadow(0px 1px 2px rgba(0, 0, 0, 0.3));\n",
              "      fill: #FFFFFF;\n",
              "    }\n",
              "  </style>\n",
              "\n",
              "      <script>\n",
              "        const buttonEl =\n",
              "          document.querySelector('#df-5fb1e809-06cf-4ed5-b4c3-3ccca572f639 button.colab-df-convert');\n",
              "        buttonEl.style.display =\n",
              "          google.colab.kernel.accessAllowed ? 'block' : 'none';\n",
              "\n",
              "        async function convertToInteractive(key) {\n",
              "          const element = document.querySelector('#df-5fb1e809-06cf-4ed5-b4c3-3ccca572f639');\n",
              "          const dataTable =\n",
              "            await google.colab.kernel.invokeFunction('convertToInteractive',\n",
              "                                                     [key], {});\n",
              "          if (!dataTable) return;\n",
              "\n",
              "          const docLinkHtml = 'Like what you see? Visit the ' +\n",
              "            '<a target=\"_blank\" href=https://colab.research.google.com/notebooks/data_table.ipynb>data table notebook</a>'\n",
              "            + ' to learn more about interactive tables.';\n",
              "          element.innerHTML = '';\n",
              "          dataTable['output_type'] = 'display_data';\n",
              "          await google.colab.output.renderOutput(dataTable, element);\n",
              "          const docLink = document.createElement('div');\n",
              "          docLink.innerHTML = docLinkHtml;\n",
              "          element.appendChild(docLink);\n",
              "        }\n",
              "      </script>\n",
              "    </div>\n",
              "  </div>\n",
              "  "
            ],
            "text/plain": [
              "  EXPOR_NTN_NM     HS_CD ARRVL_YRMNT  VTNM_TRAD_INVCE_AMT ARRVL_PRT_NM\n",
              "0        CHINA  85322400  2021-02-22                10.92        VNCLI\n",
              "1        CHINA  85030090  2021-02-22               224.32        VNCLI\n",
              "2        CHINA  84733090  2021-02-22              3840.00        VNSGN\n",
              "3        CHINA  82075000  2021-02-22                62.00        VNCLI\n",
              "4        CHINA  85076090  2021-02-22                 9.15        VNSGN\n",
              "5        CHINA  84439990  2021-02-22            155073.60        VNDVU\n",
              "6        CHINA  85423900  2021-02-22              2278.62        VNDVU\n",
              "7        CHINA  85444299  2021-02-22                16.65        VNHAN\n",
              "8        CHINA  83082000  2021-02-22                 8.70        VNCLI\n",
              "9        CHINA  84241090  2021-02-22              1290.00        VNDTS"
            ]
          },
          "metadata": {},
          "execution_count": 7
        }
      ]
    },
    {
      "cell_type": "markdown",
      "source": [
        "# 1. 기본정보 확인"
      ],
      "metadata": {
        "id": "jZfbgnD_IrPS"
      }
    },
    {
      "cell_type": "markdown",
      "source": [
        "EXPOR_NTN_NM, HS_CD, ARRVL_YRMNT, ARRVL_PRT,NM은 **범주형 변수**\n",
        "\n",
        "VTNM_TRAD_INVCE_AMT는 **수치형 변수**로 파악된다.\n",
        "\n",
        "\n",
        "컬럼정의서에 따르면 각 컬럼의 의미는 다음과 같다.\n",
        "\n",
        "1. EXPOR_NTM_NM : 수출국가명\n",
        "2. HS_CD : HS코드\n",
        "3. ARRVL_YRMNT\n",
        "4. VTNM_TRAD_INVCE_AMT : 베트남무역송장금액\n",
        "5. ARRVL_PRT_NM : 도착항구명"
      ],
      "metadata": {
        "id": "6enpMw2vI764"
      }
    },
    {
      "cell_type": "markdown",
      "source": [
        "무역데이터에 대한 상향식 접근 방식(Bottom Up Approach)을 고민해볼 것이다.\n",
        "\n",
        "* 상향식 접근 방식(Bottom Up Approach) : 문제의 정의 자체가 어려운 경우, 데이터를 기반으로 문제의 재정의 및 해결방안을 탐색하고, 이를 지속적으로 개선하는 방식"
      ],
      "metadata": {
        "id": "wvSmIvC2LxEp"
      }
    },
    {
      "cell_type": "markdown",
      "source": [
        "데이터 분석을 진행하고 싶은 사항은 다음과 같다.\n",
        "\n",
        "1. HSCODE별 평균 가격 중 높은 순서로 분석\n",
        "\n",
        "2. 항구별 HSCODE 빈도수가 높은 것\n",
        "\n",
        "3. 전체 항구의 거래량 파악 : ARRVL_YRMNT 빈도수 파악"
      ],
      "metadata": {
        "id": "IX4eWhsyMAvY"
      }
    },
    {
      "cell_type": "code",
      "source": [
        "vietnam.shape"
      ],
      "metadata": {
        "colab": {
          "base_uri": "https://localhost:8080/"
        },
        "id": "FJio7FqMIn34",
        "outputId": "a24cb982-39eb-4f79-c5ed-7b846afc980f"
      },
      "execution_count": 8,
      "outputs": [
        {
          "output_type": "execute_result",
          "data": {
            "text/plain": [
              "(9999, 5)"
            ]
          },
          "metadata": {},
          "execution_count": 8
        }
      ]
    },
    {
      "cell_type": "markdown",
      "source": [
        "5개의 Column이 있다."
      ],
      "metadata": {
        "id": "r-IPYF1VIv3W"
      }
    },
    {
      "cell_type": "code",
      "source": [
        "vietnam.info()"
      ],
      "metadata": {
        "colab": {
          "base_uri": "https://localhost:8080/"
        },
        "id": "9N7E2w20Iyec",
        "outputId": "ed294827-306d-4be9-928f-666fce57adb4"
      },
      "execution_count": 9,
      "outputs": [
        {
          "output_type": "stream",
          "name": "stdout",
          "text": [
            "<class 'pandas.core.frame.DataFrame'>\n",
            "RangeIndex: 9999 entries, 0 to 9998\n",
            "Data columns (total 5 columns):\n",
            " #   Column               Non-Null Count  Dtype  \n",
            "---  ------               --------------  -----  \n",
            " 0   EXPOR_NTN_NM         9999 non-null   object \n",
            " 1   HS_CD                9999 non-null   int64  \n",
            " 2   ARRVL_YRMNT          9999 non-null   object \n",
            " 3   VTNM_TRAD_INVCE_AMT  9999 non-null   float64\n",
            " 4   ARRVL_PRT_NM         9999 non-null   object \n",
            "dtypes: float64(1), int64(1), object(3)\n",
            "memory usage: 390.7+ KB\n"
          ]
        }
      ]
    },
    {
      "cell_type": "code",
      "source": [
        "# VTNM_TRAD_INVCE_AMT에 대한 기술통계 Summary\n",
        "vietnam['VTNM_TRAD_INVCE_AMT'].describe()"
      ],
      "metadata": {
        "colab": {
          "base_uri": "https://localhost:8080/"
        },
        "id": "SQ4LdGQcKB9S",
        "outputId": "631d0574-4335-4c5a-f939-283d23db01c2"
      },
      "execution_count": 12,
      "outputs": [
        {
          "output_type": "execute_result",
          "data": {
            "text/plain": [
              "count    9.999000e+03\n",
              "mean     3.891812e+05\n",
              "std      5.702677e+06\n",
              "min      0.000000e+00\n",
              "25%      9.000000e+01\n",
              "50%      5.250000e+02\n",
              "75%      3.040380e+03\n",
              "max      2.409840e+08\n",
              "Name: VTNM_TRAD_INVCE_AMT, dtype: float64"
            ]
          },
          "metadata": {},
          "execution_count": 12
        }
      ]
    },
    {
      "cell_type": "markdown",
      "source": [
        "기술통계값을 확인해보니, 최소 송장금액이 0인 값이 존재하는 것을 보아, 모델에 오류를 불러일으킬만한 데이터가 존재함을 확인할 수 있다."
      ],
      "metadata": {
        "id": "weMrNoLqKTUe"
      }
    },
    {
      "cell_type": "markdown",
      "source": [
        "<<< 여기에 송장금액이 0인 데이터를 삭제하는 코드를 입력할 것 >>>"
      ],
      "metadata": {
        "id": "X9oAVsYbLb3D"
      }
    },
    {
      "cell_type": "code",
      "source": [
        "# 히스토그램(histogram)\n",
        "sns.distplot(vietnam['VTNM_TRAD_INVCE_AMT'])"
      ],
      "metadata": {
        "colab": {
          "base_uri": "https://localhost:8080/",
          "height": 367
        },
        "id": "-8OS_1-qKcP1",
        "outputId": "6c2ae358-465e-4dd9-9667-623be07fede7"
      },
      "execution_count": 13,
      "outputs": [
        {
          "output_type": "stream",
          "name": "stderr",
          "text": [
            "/usr/local/lib/python3.7/dist-packages/seaborn/distributions.py:2619: FutureWarning: `distplot` is a deprecated function and will be removed in a future version. Please adapt your code to use either `displot` (a figure-level function with similar flexibility) or `histplot` (an axes-level function for histograms).\n",
            "  warnings.warn(msg, FutureWarning)\n"
          ]
        },
        {
          "output_type": "execute_result",
          "data": {
            "text/plain": [
              "<matplotlib.axes._subplots.AxesSubplot at 0x7f64c9bd11d0>"
            ]
          },
          "metadata": {},
          "execution_count": 13
        },
        {
          "output_type": "display_data",
          "data": {
            "image/png": "[encoded data removed]",
            "text/plain": [
              "<Figure size 432x288 with 1 Axes>"
            ]
          },
          "metadata": {
            "needs_background": "light"
          }
        }
      ]
    },
    {
      "cell_type": "markdown",
      "source": [
        "유감스럽게도, "
      ],
      "metadata": {
        "id": "Ll95yeIEKjb5"
      }
    }
  ]
}